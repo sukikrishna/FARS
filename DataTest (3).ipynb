{
 "cells": [
  {
   "cell_type": "code",
   "execution_count": 1,
   "metadata": {},
   "outputs": [],
   "source": [
    "# import libraries\n",
    "import numpy as np\n",
    "import pandas as pd\n",
    "\n",
    "# seaborn is for making plots\n",
    "import seaborn as sns\n",
    "import matplotlib.pyplot as plt\n",
    "import regex\n",
    "import nltk\n",
    "\n",
    "from sklearn.model_selection import train_test_split\n",
    "from sklearn.feature_extraction.text import TfidfVectorizer\n",
    "from sklearn.linear_model import LogisticRegression\n",
    "from sklearn.metrics import roc_auc_score\n",
    "\n",
    "# These are all the imports needed for the assignment\n",
    "%matplotlib inline\n",
    "\n",
    "#from nltk.tokenize import word_tokenize\n",
    "#from nltk.corpus import stopwords\n",
    "\n",
    "import warnings\n",
    "warnings.filterwarnings('ignore')"
   ]
  },
  {
   "cell_type": "code",
   "execution_count": 2,
   "metadata": {},
   "outputs": [],
   "source": [
    "columns = ['marketplace', 'customer_id', 'review_id', 'product_id', 'product_parent', 'product_title', 'product_category', 'star_rating', 'helpful_votes', 'total_votes', 'vine', 'verified_purchase', 'review_headline', 'review_body', 'review_date']"
   ]
  },
  {
   "cell_type": "markdown",
   "metadata": {},
   "source": [
    "- \"C:/Users/19495/Downloads/amazon_reviews_us_Toys_v1_00.tsv.gz\"\n",
    "\n",
    "- names = columns because this allows is to focus on only the attributes we care about\n",
    "\n",
    "- sep = '\\t' since this is a tsv file, this informs program to separate based on tabs, not commas\n",
    "\n",
    "- check that on_bad_lines arg is not removing valid things!\n",
    "\n",
    "- **take out first line! because there is a restatement of the column names so string**"
   ]
  },
  {
   "cell_type": "code",
   "execution_count": 6,
   "metadata": {},
   "outputs": [],
   "source": [
    "# initializing empty dataframes for testing and training data\n",
    "training_data = pd.DataFrame()\n",
    "testing_data = pd.DataFrame()\n",
    "# on_bad_lines = 'skip' does not seem to work\n",
    "one_file = pd.read_csv(\"C:/Users/19495/ProjectFiles/amazon_reviews_us_Electronics_v1_00.tsv.gz\", names =  columns, sep = '\\t').iloc[1:,:]"
   ]
  },
  {
   "cell_type": "code",
   "execution_count": 7,
   "metadata": {},
   "outputs": [
    {
     "data": {
      "text/html": [
       "<div>\n",
       "<style scoped>\n",
       "    .dataframe tbody tr th:only-of-type {\n",
       "        vertical-align: middle;\n",
       "    }\n",
       "\n",
       "    .dataframe tbody tr th {\n",
       "        vertical-align: top;\n",
       "    }\n",
       "\n",
       "    .dataframe thead th {\n",
       "        text-align: right;\n",
       "    }\n",
       "</style>\n",
       "<table border=\"1\" class=\"dataframe\">\n",
       "  <thead>\n",
       "    <tr style=\"text-align: right;\">\n",
       "      <th></th>\n",
       "      <th>marketplace</th>\n",
       "      <th>customer_id</th>\n",
       "      <th>review_id</th>\n",
       "      <th>product_id</th>\n",
       "      <th>product_parent</th>\n",
       "      <th>product_title</th>\n",
       "      <th>product_category</th>\n",
       "      <th>star_rating</th>\n",
       "      <th>helpful_votes</th>\n",
       "      <th>total_votes</th>\n",
       "      <th>vine</th>\n",
       "      <th>verified_purchase</th>\n",
       "      <th>review_headline</th>\n",
       "      <th>review_body</th>\n",
       "      <th>review_date</th>\n",
       "    </tr>\n",
       "  </thead>\n",
       "  <tbody>\n",
       "    <tr>\n",
       "      <th>1</th>\n",
       "      <td>US</td>\n",
       "      <td>41409413</td>\n",
       "      <td>R2MTG1GCZLR2DK</td>\n",
       "      <td>B00428R89M</td>\n",
       "      <td>112201306</td>\n",
       "      <td>yoomall 5M Antenna WIFI RP-SMA Female to Male ...</td>\n",
       "      <td>Electronics</td>\n",
       "      <td>5</td>\n",
       "      <td>0</td>\n",
       "      <td>0</td>\n",
       "      <td>N</td>\n",
       "      <td>Y</td>\n",
       "      <td>Five Stars</td>\n",
       "      <td>As described.</td>\n",
       "      <td>2015-08-31</td>\n",
       "    </tr>\n",
       "    <tr>\n",
       "      <th>2</th>\n",
       "      <td>US</td>\n",
       "      <td>49668221</td>\n",
       "      <td>R2HBOEM8LE9928</td>\n",
       "      <td>B000068O48</td>\n",
       "      <td>734576678</td>\n",
       "      <td>Hosa GPM-103 3.5mm TRS to 1/4\" TRS Adaptor</td>\n",
       "      <td>Electronics</td>\n",
       "      <td>5</td>\n",
       "      <td>0</td>\n",
       "      <td>0</td>\n",
       "      <td>N</td>\n",
       "      <td>Y</td>\n",
       "      <td>It works as advertising.</td>\n",
       "      <td>It works as advertising.</td>\n",
       "      <td>2015-08-31</td>\n",
       "    </tr>\n",
       "    <tr>\n",
       "      <th>3</th>\n",
       "      <td>US</td>\n",
       "      <td>12338275</td>\n",
       "      <td>R1P4RW1R9FDPEE</td>\n",
       "      <td>B000GGKOG8</td>\n",
       "      <td>614448099</td>\n",
       "      <td>Channel Master Titan 2 Antenna Preamplifier</td>\n",
       "      <td>Electronics</td>\n",
       "      <td>5</td>\n",
       "      <td>1</td>\n",
       "      <td>1</td>\n",
       "      <td>N</td>\n",
       "      <td>Y</td>\n",
       "      <td>Five Stars</td>\n",
       "      <td>Works pissa</td>\n",
       "      <td>2015-08-31</td>\n",
       "    </tr>\n",
       "    <tr>\n",
       "      <th>4</th>\n",
       "      <td>US</td>\n",
       "      <td>38487968</td>\n",
       "      <td>R1EBPM82ENI67M</td>\n",
       "      <td>B000NU4OTA</td>\n",
       "      <td>72265257</td>\n",
       "      <td>LIMTECH Wall charger + USB Hotsync &amp; Charging ...</td>\n",
       "      <td>Electronics</td>\n",
       "      <td>1</td>\n",
       "      <td>0</td>\n",
       "      <td>0</td>\n",
       "      <td>N</td>\n",
       "      <td>Y</td>\n",
       "      <td>One Star</td>\n",
       "      <td>Did not work at all.</td>\n",
       "      <td>2015-08-31</td>\n",
       "    </tr>\n",
       "    <tr>\n",
       "      <th>5</th>\n",
       "      <td>US</td>\n",
       "      <td>23732619</td>\n",
       "      <td>R372S58V6D11AT</td>\n",
       "      <td>B00JOQIO6S</td>\n",
       "      <td>308169188</td>\n",
       "      <td>Skullcandy Air Raid Portable Bluetooth Speaker</td>\n",
       "      <td>Electronics</td>\n",
       "      <td>5</td>\n",
       "      <td>1</td>\n",
       "      <td>1</td>\n",
       "      <td>N</td>\n",
       "      <td>Y</td>\n",
       "      <td>Overall pleased with the item</td>\n",
       "      <td>Works well. Bass is somewhat lacking but is pr...</td>\n",
       "      <td>2015-08-31</td>\n",
       "    </tr>\n",
       "  </tbody>\n",
       "</table>\n",
       "</div>"
      ],
      "text/plain": [
       "  marketplace customer_id       review_id  product_id product_parent  \\\n",
       "1          US    41409413  R2MTG1GCZLR2DK  B00428R89M      112201306   \n",
       "2          US    49668221  R2HBOEM8LE9928  B000068O48      734576678   \n",
       "3          US    12338275  R1P4RW1R9FDPEE  B000GGKOG8      614448099   \n",
       "4          US    38487968  R1EBPM82ENI67M  B000NU4OTA       72265257   \n",
       "5          US    23732619  R372S58V6D11AT  B00JOQIO6S      308169188   \n",
       "\n",
       "                                       product_title product_category  \\\n",
       "1  yoomall 5M Antenna WIFI RP-SMA Female to Male ...      Electronics   \n",
       "2         Hosa GPM-103 3.5mm TRS to 1/4\" TRS Adaptor      Electronics   \n",
       "3        Channel Master Titan 2 Antenna Preamplifier      Electronics   \n",
       "4  LIMTECH Wall charger + USB Hotsync & Charging ...      Electronics   \n",
       "5     Skullcandy Air Raid Portable Bluetooth Speaker      Electronics   \n",
       "\n",
       "  star_rating helpful_votes total_votes vine verified_purchase  \\\n",
       "1           5             0           0    N                 Y   \n",
       "2           5             0           0    N                 Y   \n",
       "3           5             1           1    N                 Y   \n",
       "4           1             0           0    N                 Y   \n",
       "5           5             1           1    N                 Y   \n",
       "\n",
       "                 review_headline  \\\n",
       "1                     Five Stars   \n",
       "2       It works as advertising.   \n",
       "3                     Five Stars   \n",
       "4                       One Star   \n",
       "5  Overall pleased with the item   \n",
       "\n",
       "                                         review_body review_date  \n",
       "1                                      As described.  2015-08-31  \n",
       "2                           It works as advertising.  2015-08-31  \n",
       "3                                        Works pissa  2015-08-31  \n",
       "4                               Did not work at all.  2015-08-31  \n",
       "5  Works well. Bass is somewhat lacking but is pr...  2015-08-31  "
      ]
     },
     "execution_count": 7,
     "metadata": {},
     "output_type": "execute_result"
    }
   ],
   "source": [
    "one_file.head()"
   ]
  },
  {
   "cell_type": "code",
   "execution_count": 8,
   "metadata": {},
   "outputs": [
    {
     "data": {
      "text/plain": [
       "(3091103, 15)"
      ]
     },
     "execution_count": 8,
     "metadata": {},
     "output_type": "execute_result"
    }
   ],
   "source": [
    "one_file.shape"
   ]
  },
  {
   "cell_type": "code",
   "execution_count": 9,
   "metadata": {},
   "outputs": [
    {
     "data": {
      "text/plain": [
       "review_body          88\n",
       "review_headline      31\n",
       "review_date          24\n",
       "product_title         4\n",
       "verified_purchase     0\n",
       "vine                  0\n",
       "total_votes           0\n",
       "helpful_votes         0\n",
       "star_rating           0\n",
       "product_category      0\n",
       "product_parent        0\n",
       "product_id            0\n",
       "review_id             0\n",
       "customer_id           0\n",
       "marketplace           0\n",
       "dtype: int64"
      ]
     },
     "execution_count": 9,
     "metadata": {},
     "output_type": "execute_result"
    }
   ],
   "source": [
    "one_file.isnull().sum().sort_values(ascending = False)"
   ]
  },
  {
   "cell_type": "code",
   "execution_count": 10,
   "metadata": {},
   "outputs": [
    {
     "data": {
      "text/plain": [
       "review_date          0\n",
       "review_body          0\n",
       "review_headline      0\n",
       "verified_purchase    0\n",
       "vine                 0\n",
       "total_votes          0\n",
       "helpful_votes        0\n",
       "star_rating          0\n",
       "product_category     0\n",
       "product_title        0\n",
       "product_parent       0\n",
       "product_id           0\n",
       "review_id            0\n",
       "customer_id          0\n",
       "marketplace          0\n",
       "dtype: int64"
      ]
     },
     "execution_count": 10,
     "metadata": {},
     "output_type": "execute_result"
    }
   ],
   "source": [
    "one_file.dropna(inplace=True)\n",
    "one_file.isnull().sum().sort_values(ascending = False)"
   ]
  },
  {
   "cell_type": "code",
   "execution_count": 11,
   "metadata": {},
   "outputs": [],
   "source": [
    "#convert all mixed datatypes --> string objects (unable to convert to int)\n",
    "one_file['customer_id'] = one_file['customer_id'].apply(int) #1\n",
    "one_file['product_parent'] = one_file['product_parent'].apply(int) #4\n",
    "one_file['star_rating'] = one_file['star_rating'].apply(int) #7\n",
    "one_file['helpful_votes'] = one_file['helpful_votes'].apply(int) #8\n",
    "one_file['total_votes'] = one_file['total_votes'].apply(int) #9"
   ]
  },
  {
   "cell_type": "code",
   "execution_count": 12,
   "metadata": {},
   "outputs": [
    {
     "data": {
      "text/plain": [
       "5    1779347\n",
       "4     536400\n",
       "1     357802\n",
       "3     238382\n",
       "2     179025\n",
       "Name: star_rating, dtype: int64"
      ]
     },
     "execution_count": 12,
     "metadata": {},
     "output_type": "execute_result"
    }
   ],
   "source": [
    "one_file['star_rating'].value_counts()"
   ]
  },
  {
   "cell_type": "markdown",
   "metadata": {},
   "source": [
    "General Notes\n",
    "- to remove certain column values, run smthg like one_file[one_file[\"star_rating\"] != 3]"
   ]
  },
  {
   "cell_type": "code",
   "execution_count": 13,
   "metadata": {},
   "outputs": [],
   "source": [
    "# df w/ ratings of 3 removed for sentiment analysis\n",
    "rem_file = one_file[one_file['star_rating'] != 3]\n",
    "# if rating greater than 3 --> 1, if lower --> 0\n",
    "rem_file['positively_rated'] = np.where(rem_file['star_rating'] > 3, 1, 0)"
   ]
  },
  {
   "cell_type": "code",
   "execution_count": 14,
   "metadata": {},
   "outputs": [
    {
     "data": {
      "text/plain": [
       "1    2315747\n",
       "0     536827\n",
       "Name: positively_rated, dtype: int64"
      ]
     },
     "execution_count": 14,
     "metadata": {},
     "output_type": "execute_result"
    }
   ],
   "source": [
    "rem_file['positively_rated'].value_counts()"
   ]
  },
  {
   "cell_type": "code",
   "execution_count": 15,
   "metadata": {},
   "outputs": [
    {
     "data": {
      "text/html": [
       "<div>\n",
       "<style scoped>\n",
       "    .dataframe tbody tr th:only-of-type {\n",
       "        vertical-align: middle;\n",
       "    }\n",
       "\n",
       "    .dataframe tbody tr th {\n",
       "        vertical-align: top;\n",
       "    }\n",
       "\n",
       "    .dataframe thead th {\n",
       "        text-align: right;\n",
       "    }\n",
       "</style>\n",
       "<table border=\"1\" class=\"dataframe\">\n",
       "  <thead>\n",
       "    <tr style=\"text-align: right;\">\n",
       "      <th></th>\n",
       "      <th>marketplace</th>\n",
       "      <th>customer_id</th>\n",
       "      <th>review_id</th>\n",
       "      <th>product_id</th>\n",
       "      <th>product_parent</th>\n",
       "      <th>product_title</th>\n",
       "      <th>product_category</th>\n",
       "      <th>star_rating</th>\n",
       "      <th>helpful_votes</th>\n",
       "      <th>total_votes</th>\n",
       "      <th>vine</th>\n",
       "      <th>verified_purchase</th>\n",
       "      <th>review_headline</th>\n",
       "      <th>review_body</th>\n",
       "      <th>review_date</th>\n",
       "      <th>positively_rated</th>\n",
       "    </tr>\n",
       "  </thead>\n",
       "  <tbody>\n",
       "    <tr>\n",
       "      <th>1</th>\n",
       "      <td>US</td>\n",
       "      <td>41409413</td>\n",
       "      <td>R2MTG1GCZLR2DK</td>\n",
       "      <td>B00428R89M</td>\n",
       "      <td>112201306</td>\n",
       "      <td>yoomall 5M Antenna WIFI RP-SMA Female to Male ...</td>\n",
       "      <td>Electronics</td>\n",
       "      <td>5</td>\n",
       "      <td>0</td>\n",
       "      <td>0</td>\n",
       "      <td>N</td>\n",
       "      <td>Y</td>\n",
       "      <td>Five Stars</td>\n",
       "      <td>As described.</td>\n",
       "      <td>2015-08-31</td>\n",
       "      <td>1</td>\n",
       "    </tr>\n",
       "    <tr>\n",
       "      <th>2</th>\n",
       "      <td>US</td>\n",
       "      <td>49668221</td>\n",
       "      <td>R2HBOEM8LE9928</td>\n",
       "      <td>B000068O48</td>\n",
       "      <td>734576678</td>\n",
       "      <td>Hosa GPM-103 3.5mm TRS to 1/4\" TRS Adaptor</td>\n",
       "      <td>Electronics</td>\n",
       "      <td>5</td>\n",
       "      <td>0</td>\n",
       "      <td>0</td>\n",
       "      <td>N</td>\n",
       "      <td>Y</td>\n",
       "      <td>It works as advertising.</td>\n",
       "      <td>It works as advertising.</td>\n",
       "      <td>2015-08-31</td>\n",
       "      <td>1</td>\n",
       "    </tr>\n",
       "    <tr>\n",
       "      <th>3</th>\n",
       "      <td>US</td>\n",
       "      <td>12338275</td>\n",
       "      <td>R1P4RW1R9FDPEE</td>\n",
       "      <td>B000GGKOG8</td>\n",
       "      <td>614448099</td>\n",
       "      <td>Channel Master Titan 2 Antenna Preamplifier</td>\n",
       "      <td>Electronics</td>\n",
       "      <td>5</td>\n",
       "      <td>1</td>\n",
       "      <td>1</td>\n",
       "      <td>N</td>\n",
       "      <td>Y</td>\n",
       "      <td>Five Stars</td>\n",
       "      <td>Works pissa</td>\n",
       "      <td>2015-08-31</td>\n",
       "      <td>1</td>\n",
       "    </tr>\n",
       "    <tr>\n",
       "      <th>4</th>\n",
       "      <td>US</td>\n",
       "      <td>38487968</td>\n",
       "      <td>R1EBPM82ENI67M</td>\n",
       "      <td>B000NU4OTA</td>\n",
       "      <td>72265257</td>\n",
       "      <td>LIMTECH Wall charger + USB Hotsync &amp; Charging ...</td>\n",
       "      <td>Electronics</td>\n",
       "      <td>1</td>\n",
       "      <td>0</td>\n",
       "      <td>0</td>\n",
       "      <td>N</td>\n",
       "      <td>Y</td>\n",
       "      <td>One Star</td>\n",
       "      <td>Did not work at all.</td>\n",
       "      <td>2015-08-31</td>\n",
       "      <td>0</td>\n",
       "    </tr>\n",
       "    <tr>\n",
       "      <th>5</th>\n",
       "      <td>US</td>\n",
       "      <td>23732619</td>\n",
       "      <td>R372S58V6D11AT</td>\n",
       "      <td>B00JOQIO6S</td>\n",
       "      <td>308169188</td>\n",
       "      <td>Skullcandy Air Raid Portable Bluetooth Speaker</td>\n",
       "      <td>Electronics</td>\n",
       "      <td>5</td>\n",
       "      <td>1</td>\n",
       "      <td>1</td>\n",
       "      <td>N</td>\n",
       "      <td>Y</td>\n",
       "      <td>Overall pleased with the item</td>\n",
       "      <td>Works well. Bass is somewhat lacking but is pr...</td>\n",
       "      <td>2015-08-31</td>\n",
       "      <td>1</td>\n",
       "    </tr>\n",
       "  </tbody>\n",
       "</table>\n",
       "</div>"
      ],
      "text/plain": [
       "  marketplace  customer_id       review_id  product_id  product_parent  \\\n",
       "1          US     41409413  R2MTG1GCZLR2DK  B00428R89M       112201306   \n",
       "2          US     49668221  R2HBOEM8LE9928  B000068O48       734576678   \n",
       "3          US     12338275  R1P4RW1R9FDPEE  B000GGKOG8       614448099   \n",
       "4          US     38487968  R1EBPM82ENI67M  B000NU4OTA        72265257   \n",
       "5          US     23732619  R372S58V6D11AT  B00JOQIO6S       308169188   \n",
       "\n",
       "                                       product_title product_category  \\\n",
       "1  yoomall 5M Antenna WIFI RP-SMA Female to Male ...      Electronics   \n",
       "2         Hosa GPM-103 3.5mm TRS to 1/4\" TRS Adaptor      Electronics   \n",
       "3        Channel Master Titan 2 Antenna Preamplifier      Electronics   \n",
       "4  LIMTECH Wall charger + USB Hotsync & Charging ...      Electronics   \n",
       "5     Skullcandy Air Raid Portable Bluetooth Speaker      Electronics   \n",
       "\n",
       "   star_rating  helpful_votes  total_votes vine verified_purchase  \\\n",
       "1            5              0            0    N                 Y   \n",
       "2            5              0            0    N                 Y   \n",
       "3            5              1            1    N                 Y   \n",
       "4            1              0            0    N                 Y   \n",
       "5            5              1            1    N                 Y   \n",
       "\n",
       "                 review_headline  \\\n",
       "1                     Five Stars   \n",
       "2       It works as advertising.   \n",
       "3                     Five Stars   \n",
       "4                       One Star   \n",
       "5  Overall pleased with the item   \n",
       "\n",
       "                                         review_body review_date  \\\n",
       "1                                      As described.  2015-08-31   \n",
       "2                           It works as advertising.  2015-08-31   \n",
       "3                                        Works pissa  2015-08-31   \n",
       "4                               Did not work at all.  2015-08-31   \n",
       "5  Works well. Bass is somewhat lacking but is pr...  2015-08-31   \n",
       "\n",
       "   positively_rated  \n",
       "1                 1  \n",
       "2                 1  \n",
       "3                 1  \n",
       "4                 0  \n",
       "5                 1  "
      ]
     },
     "execution_count": 15,
     "metadata": {},
     "output_type": "execute_result"
    }
   ],
   "source": [
    "rem_file.head()"
   ]
  },
  {
   "cell_type": "code",
   "execution_count": 16,
   "metadata": {},
   "outputs": [
    {
     "data": {
      "text/plain": [
       "<matplotlib.axes._subplots.AxesSubplot at 0x293f560bfc8>"
      ]
     },
     "execution_count": 16,
     "metadata": {},
     "output_type": "execute_result"
    },
    {
     "data": {
      "image/png": "[encoded data removed]",
      "text/plain": [
       "<Figure size 432x288 with 1 Axes>"
      ]
     },
     "metadata": {
      "needs_background": "light"
     },
     "output_type": "display_data"
    }
   ],
   "source": [
    "sns.countplot(rem_file['positively_rated'])"
   ]
  },
  {
   "cell_type": "markdown",
   "metadata": {},
   "source": [
    "- 'review_body' is the independent variable, while 'positively_rated' is the dependent variable"
   ]
  },
  {
   "cell_type": "code",
   "execution_count": 17,
   "metadata": {},
   "outputs": [],
   "source": [
    "x_train, x_test, y_train, y_test = train_test_split(rem_file['review_body'], rem_file['positively_rated'], \n",
    "                                                    random_state = 50)"
   ]
  },
  {
   "cell_type": "code",
   "execution_count": 18,
   "metadata": {},
   "outputs": [
    {
     "name": "stdout",
     "output_type": "stream",
     "text": [
      "1539775    Flimsy construction and poor sound range vs so...\n",
      "2504431    Product did not work. I hooked up both ends. O...\n",
      "3070343    I purchased both the ZHDTV and the ...RCA ampl...\n",
      "1250047    UPDATE!!!<br />The team at Mpow really stand b...\n",
      "1905213    No complaints; these are perfect!  I wish they...\n",
      "                                 ...                        \n",
      "2747483    This may be the most rugged CD/DVD storage pos...\n",
      "729500     It works great. I was having problems getting ...\n",
      "2526170    This shelving unit was easy to put together an...\n",
      "1241297                       Great product at a great price\n",
      "2139970    Searched the net for several weeks before deci...\n",
      "Name: review_body, Length: 2139430, dtype: object\n"
     ]
    }
   ],
   "source": [
    "print(x_train)"
   ]
  },
  {
   "cell_type": "markdown",
   "metadata": {},
   "source": [
    "- the .get_feature_names() will give us the # of diff terms! Features w/ low tf-idf scores are either very common across all reviews or rarely used. High tf-idf features are highly used in specific reviews, but rarely used in all docs"
   ]
  },
  {
   "cell_type": "code",
   "execution_count": 19,
   "metadata": {},
   "outputs": [
    {
     "data": {
      "text/plain": [
       "308301"
      ]
     },
     "execution_count": 19,
     "metadata": {},
     "output_type": "execute_result"
    }
   ],
   "source": [
    "vect = TfidfVectorizer().fit(x_train)\n",
    "len(vect.get_feature_names())"
   ]
  },
  {
   "cell_type": "code",
   "execution_count": 20,
   "metadata": {},
   "outputs": [],
   "source": [
    "x_train_vectorized = vect.transform(x_train)"
   ]
  },
  {
   "cell_type": "code",
   "execution_count": 21,
   "metadata": {},
   "outputs": [
    {
     "data": {
      "text/plain": [
       "LogisticRegression(C=1.0, class_weight=None, dual=False, fit_intercept=True,\n",
       "                   intercept_scaling=1, l1_ratio=None, max_iter=100,\n",
       "                   multi_class='auto', n_jobs=None, penalty='l2',\n",
       "                   random_state=None, solver='lbfgs', tol=0.0001, verbose=0,\n",
       "                   warm_start=False)"
      ]
     },
     "execution_count": 21,
     "metadata": {},
     "output_type": "execute_result"
    }
   ],
   "source": [
    "# This is model fitting. Once it's done, we can make predictions\n",
    "model = LogisticRegression()\n",
    "model.fit(x_train_vectorized, y_train)"
   ]
  },
  {
   "cell_type": "code",
   "execution_count": 22,
   "metadata": {},
   "outputs": [
    {
     "name": "stdout",
     "output_type": "stream",
     "text": [
      "[1 0 1 ... 1 1 1]\n"
     ]
    }
   ],
   "source": [
    "predictions = model.predict(vect.transform(x_test))\n",
    "print(predictions)"
   ]
  },
  {
   "cell_type": "code",
   "execution_count": 23,
   "metadata": {},
   "outputs": [
    {
     "name": "stdout",
     "output_type": "stream",
     "text": [
      "AUC: 0.8844488688126042\n"
     ]
    }
   ],
   "source": [
    "# Compute AUC score\n",
    "print(\"AUC:\", roc_auc_score(y_test, predictions))"
   ]
  },
  {
   "cell_type": "code",
   "execution_count": 24,
   "metadata": {},
   "outputs": [],
   "source": [
    "# Look at which sentiments have the smallest and largest tf-idf score\n",
    "feature_names = np.array(vect.get_feature_names())\n",
    "sorted_coef_index = model.coef_[0].argsort()"
   ]
  },
  {
   "cell_type": "markdown",
   "metadata": {},
   "source": [
    "- The Smallest Coef words either appear across all reviews, or only really in long reviews\n",
    "- The Largest Coef words appear frequently in a review but did not appear commonly across all reviews"
   ]
  },
  {
   "cell_type": "code",
   "execution_count": 25,
   "metadata": {},
   "outputs": [
    {
     "name": "stdout",
     "output_type": "stream",
     "text": [
      "Smallest Coef ['not' 'unacceptable' 'poor' 'worst' 'useless' 'returning' 'terrible'\n",
      " 'disappointing' 'worthless' 'stopped']\n"
     ]
    }
   ],
   "source": [
    "print(\"Smallest Coef\", feature_names[sorted_coef_index[:10]])"
   ]
  },
  {
   "cell_type": "code",
   "execution_count": 26,
   "metadata": {},
   "outputs": [
    {
     "name": "stdout",
     "output_type": "stream",
     "text": [
      "Largest Coef ['great' 'love' 'perfect' 'excellent' 'perfectly' 'amazing' 'awesome'\n",
      " 'highly' 'best' 'easy']\n"
     ]
    }
   ],
   "source": [
    "print(\"Largest Coef\", feature_names[sorted_coef_index[:-11:-1]])"
   ]
  },
  {
   "cell_type": "markdown",
   "metadata": {},
   "source": [
    "## PySpark"
   ]
  },
  {
   "cell_type": "code",
   "execution_count": 1,
   "metadata": {},
   "outputs": [
    {
     "name": "stdout",
     "output_type": "stream",
     "text": [
      "Collecting pyspark\n",
      "  Downloading pyspark-3.2.1.tar.gz (281.4 MB)\n",
      "Collecting py4j==0.10.9.3\n",
      "  Downloading py4j-0.10.9.3-py2.py3-none-any.whl (198 kB)\n",
      "Building wheels for collected packages: pyspark\n",
      "  Building wheel for pyspark (setup.py): started\n",
      "  Building wheel for pyspark (setup.py): still running...\n",
      "  Building wheel for pyspark (setup.py): finished with status 'done'\n",
      "  Created wheel for pyspark: filename=pyspark-3.2.1-py2.py3-none-any.whl size=281853650 sha256=0930bd833741a74bf4bc36be3bcf902301f6901021fe18abcb61750b26120571\n",
      "  Stored in directory: c:\\users\\19495\\appdata\\local\\pip\\cache\\wheels\\9f\\f5\\07\\7cd8017084dce4e93e84e92efd1e1d5334db05f2e83bcef74f\n",
      "Successfully built pyspark\n",
      "Installing collected packages: py4j, pyspark\n",
      "Successfully installed py4j-0.10.9.3 pyspark-3.2.1\n"
     ]
    }
   ],
   "source": [
    "! pip install pyspark"
   ]
  },
  {
   "cell_type": "code",
   "execution_count": 27,
   "metadata": {},
   "outputs": [],
   "source": [
    "from pyspark.sql import SparkSession\n",
    "spark = SparkSession.builder.getOrCreate()"
   ]
  },
  {
   "cell_type": "code",
   "execution_count": 50,
   "metadata": {},
   "outputs": [
    {
     "name": "stdout",
     "output_type": "stream",
     "text": [
      "-RECORD 0--------------------\n",
      " _c0  | marketplace          \n",
      " _c1  | customer_id          \n",
      " _c2  | review_id            \n",
      " _c3  | product_id           \n",
      " _c4  | product_parent       \n",
      " _c5  | product_title        \n",
      " _c6  | product_category     \n",
      " _c7  | star_rating          \n",
      " _c8  | helpful_votes        \n",
      " _c9  | total_votes          \n",
      " _c10 | vine                 \n",
      " _c11 | verified_purchase    \n",
      " _c12 | review_headline      \n",
      " _c13 | review_body          \n",
      " _c14 | review_date          \n",
      "-RECORD 1--------------------\n",
      " _c0  | US                   \n",
      " _c1  | 41409413             \n",
      " _c2  | R2MTG1GCZLR2DK       \n",
      " _c3  | B00428R89M           \n",
      " _c4  | 112201306            \n",
      " _c5  | yoomall 5M Antenn... \n",
      " _c6  | Electronics          \n",
      " _c7  | 5                    \n",
      " _c8  | 0                    \n",
      " _c9  | 0                    \n",
      " _c10 | N                    \n",
      " _c11 | Y                    \n",
      " _c12 | Five Stars           \n",
      " _c13 | As described.        \n",
      " _c14 | 2015-08-31           \n",
      "-RECORD 2--------------------\n",
      " _c0  | US                   \n",
      " _c1  | 49668221             \n",
      " _c2  | R2HBOEM8LE9928       \n",
      " _c3  | B000068O48           \n",
      " _c4  | 734576678            \n",
      " _c5  | Hosa GPM-103 3.5m... \n",
      " _c6  | Electronics          \n",
      " _c7  | 5                    \n",
      " _c8  | 0                    \n",
      " _c9  | 0                    \n",
      " _c10 | N                    \n",
      " _c11 | Y                    \n",
      " _c12 | It works as adver... \n",
      " _c13 | It works as adver... \n",
      " _c14 | 2015-08-31           \n",
      "-RECORD 3--------------------\n",
      " _c0  | US                   \n",
      " _c1  | 12338275             \n",
      " _c2  | R1P4RW1R9FDPEE       \n",
      " _c3  | B000GGKOG8           \n",
      " _c4  | 614448099            \n",
      " _c5  | Channel Master Ti... \n",
      " _c6  | Electronics          \n",
      " _c7  | 5                    \n",
      " _c8  | 1                    \n",
      " _c9  | 1                    \n",
      " _c10 | N                    \n",
      " _c11 | Y                    \n",
      " _c12 | Five Stars           \n",
      " _c13 | Works pissa          \n",
      " _c14 | 2015-08-31           \n",
      "-RECORD 4--------------------\n",
      " _c0  | US                   \n",
      " _c1  | 38487968             \n",
      " _c2  | R1EBPM82ENI67M       \n",
      " _c3  | B000NU4OTA           \n",
      " _c4  | 72265257             \n",
      " _c5  | LIMTECH Wall char... \n",
      " _c6  | Electronics          \n",
      " _c7  | 1                    \n",
      " _c8  | 0                    \n",
      " _c9  | 0                    \n",
      " _c10 | N                    \n",
      " _c11 | Y                    \n",
      " _c12 | One Star             \n",
      " _c13 | Did not work at all. \n",
      " _c14 | 2015-08-31           \n",
      "-RECORD 5--------------------\n",
      " _c0  | US                   \n",
      " _c1  | 23732619             \n",
      " _c2  | R372S58V6D11AT       \n",
      " _c3  | B00JOQIO6S           \n",
      " _c4  | 308169188            \n",
      " _c5  | Skullcandy Air Ra... \n",
      " _c6  | Electronics          \n",
      " _c7  | 5                    \n",
      " _c8  | 1                    \n",
      " _c9  | 1                    \n",
      " _c10 | N                    \n",
      " _c11 | Y                    \n",
      " _c12 | Overall pleased w... \n",
      " _c13 | Works well. Bass ... \n",
      " _c14 | 2015-08-31           \n",
      "-RECORD 6--------------------\n",
      " _c0  | US                   \n",
      " _c1  | 21257820             \n",
      " _c2  | R1A4514XOYI1PD       \n",
      " _c3  | B008NCD2LG           \n",
      " _c4  | 976385982            \n",
      " _c5  | Pioneer SP-BS22-L... \n",
      " _c6  | Electronics          \n",
      " _c7  | 5                    \n",
      " _c8  | 1                    \n",
      " _c9  | 1                    \n",
      " _c10 | N                    \n",
      " _c11 | Y                    \n",
      " _c12 | Five Stars           \n",
      " _c13 | The quality on th... \n",
      " _c14 | 2015-08-31           \n",
      "-RECORD 7--------------------\n",
      " _c0  | US                   \n",
      " _c1  | 3084991              \n",
      " _c2  | R20D9EHB7N20V6       \n",
      " _c3  | B00007FGUF           \n",
      " _c4  | 670878953            \n",
      " _c5  | C2G/Cables to Go ... \n",
      " _c6  | Electronics          \n",
      " _c7  | 5                    \n",
      " _c8  | 0                    \n",
      " _c9  | 0                    \n",
      " _c10 | N                    \n",
      " _c11 | Y                    \n",
      " _c12 | Lifesaver            \n",
      " _c13 | Wish I could give... \n",
      " _c14 | 2015-08-31           \n",
      "-RECORD 8--------------------\n",
      " _c0  | US                   \n",
      " _c1  | 8153674              \n",
      " _c2  | R1WUTD8MVSROJU       \n",
      " _c3  | B00M9V2RMM           \n",
      " _c4  | 508452933            \n",
      " _c5  | COOLEAD-HDMI Swit... \n",
      " _c6  | Electronics          \n",
      " _c7  | 5                    \n",
      " _c8  | 0                    \n",
      " _c9  | 0                    \n",
      " _c10 | N                    \n",
      " _c11 | Y                    \n",
      " _c12 | Five Stars           \n",
      " _c13 | works great          \n",
      " _c14 | 2015-08-31           \n",
      "-RECORD 9--------------------\n",
      " _c0  | US                   \n",
      " _c1  | 52246189             \n",
      " _c2  | R1QCYLT25812DM       \n",
      " _c3  | B00J3O9DYI           \n",
      " _c4  | 766372886            \n",
      " _c5  | Philips Wireless ... \n",
      " _c6  | Electronics          \n",
      " _c7  | 4                    \n",
      " _c8  | 0                    \n",
      " _c9  | 0                    \n",
      " _c10 | N                    \n",
      " _c11 | Y                    \n",
      " _c12 | Four Stars           \n",
      " _c13 | Great sound and c... \n",
      " _c14 | 2015-08-31           \n",
      "-RECORD 10-------------------\n",
      " _c0  | US                   \n",
      " _c1  | 41463864             \n",
      " _c2  | R904DQPBCEM7A        \n",
      " _c3  | B00NS1A0E4           \n",
      " _c4  | 458130381            \n",
      " _c5  | PlayStation 3 3D ... \n",
      " _c6  | Electronics          \n",
      " _c7  | 4                    \n",
      " _c8  | 0                    \n",
      " _c9  | 0                    \n",
      " _c10 | N                    \n",
      " _c11 | Y                    \n",
      " _c12 | Four Stars           \n",
      " _c13 | It works well~~~     \n",
      " _c14 | 2015-08-31           \n",
      "-RECORD 11-------------------\n",
      " _c0  | US                   \n",
      " _c1  | 2781942              \n",
      " _c2  | R1DGA6UQIVLKZ7       \n",
      " _c3  | B007B5V092           \n",
      " _c4  | 152891509            \n",
      " _c5  | JVC HAFR201A Xtre... \n",
      " _c6  | Electronics          \n",
      " _c7  | 5                    \n",
      " _c8  | 0                    \n",
      " _c9  | 0                    \n",
      " _c10 | N                    \n",
      " _c11 | Y                    \n",
      " _c12 | Five Stars           \n",
      " _c13 | Alll good            \n",
      " _c14 | 2015-08-31           \n",
      "-RECORD 12-------------------\n",
      " _c0  | US                   \n",
      " _c1  | 707292               \n",
      " _c2  | RLQT3V8SMNIBH        \n",
      " _c3  | B00IODHGVG           \n",
      " _c4  | 717335277            \n",
      " _c5  | Sylvania Alarm Cl... \n",
      " _c6  | Electronics          \n",
      " _c7  | 5                    \n",
      " _c8  | 0                    \n",
      " _c9  | 0                    \n",
      " _c10 | N                    \n",
      " _c11 | Y                    \n",
      " _c12 | Five Stars           \n",
      " _c13 | Love clock radio ... \n",
      " _c14 | 2015-08-31           \n",
      "-RECORD 13-------------------\n",
      " _c0  | US                   \n",
      " _c1  | 31463514             \n",
      " _c2  | R3T9GZS2TMXZGM       \n",
      " _c3  | B0035PBHX6           \n",
      " _c4  | 249533961            \n",
      " _c5  | Coby 8 GB 1.8-Inc... \n",
      " _c6  | Electronics          \n",
      " _c7  | 1                    \n",
      " _c8  | 0                    \n",
      " _c9  | 0                    \n",
      " _c10 | N                    \n",
      " _c11 | Y                    \n",
      " _c12 | One Star             \n",
      " _c13 | Breaks very easil... \n",
      " _c14 | 2015-08-31           \n",
      "-RECORD 14-------------------\n",
      " _c0  | US                   \n",
      " _c1  | 33475055             \n",
      " _c2  | R24HVAEYP5PLDN       \n",
      " _c3  | B00K1JJWFO           \n",
      " _c4  | 635791633            \n",
      " _c5  | Diamond (Original... \n",
      " _c6  | Electronics          \n",
      " _c7  | 5                    \n",
      " _c8  | 0                    \n",
      " _c9  | 1                    \n",
      " _c10 | N                    \n",
      " _c11 | Y                    \n",
      " _c12 | Five Stars           \n",
      " _c13 | Excellent gain in... \n",
      " _c14 | 2015-08-31           \n",
      "-RECORD 15-------------------\n",
      " _c0  | US                   \n",
      " _c1  | 16543871             \n",
      " _c2  | R32KMAPNV5NJPJ       \n",
      " _c3  | B00S3LJ5EA           \n",
      " _c4  | 659360184            \n",
      " _c5  | Kingvom 8gb 50 Ho... \n",
      " _c6  | Electronics          \n",
      " _c7  | 5                    \n",
      " _c8  | 0                    \n",
      " _c9  | 0                    \n",
      " _c10 | N                    \n",
      " _c11 | Y                    \n",
      " _c12 | Five Stars           \n",
      " _c13 | everything I expe... \n",
      " _c14 | 2015-08-31           \n",
      "-RECORD 16-------------------\n",
      " _c0  | US                   \n",
      " _c1  | 38472651             \n",
      " _c2  | RC7VLPHUT6UAF        \n",
      " _c3  | B00B5QNGN6           \n",
      " _c4  | 564421014            \n",
      " _c5  | JBL Ultra-Portabl... \n",
      " _c6  | Electronics          \n",
      " _c7  | 5                    \n",
      " _c8  | 0                    \n",
      " _c9  | 0                    \n",
      " _c10 | N                    \n",
      " _c11 | Y                    \n",
      " _c12 | Five Stars           \n",
      " _c13 | Love this small s... \n",
      " _c14 | 2015-08-31           \n",
      "-RECORD 17-------------------\n",
      " _c0  | US                   \n",
      " _c1  | 26946211             \n",
      " _c2  | R3G1II8P4KGUAR       \n",
      " _c3  | B00PLE8QF6           \n",
      " _c4  | 685446417            \n",
      " _c5  | YIPBOWPT Surface ... \n",
      " _c6  | Electronics          \n",
      " _c7  | 5                    \n",
      " _c8  | 0                    \n",
      " _c9  | 0                    \n",
      " _c10 | N                    \n",
      " _c11 | Y                    \n",
      " _c12 | great product        \n",
      " _c13 | works as advertis... \n",
      " _c14 | 2015-08-31           \n",
      "-RECORD 18-------------------\n",
      " _c0  | US                   \n",
      " _c1  | 10195727             \n",
      " _c2  | R1UBFCBUALL6S5       \n",
      " _c3  | B00GHUSIU6           \n",
      " _c4  | 595255086            \n",
      " _c5  | StarTech.com Mini... \n",
      " _c6  | Electronics          \n",
      " _c7  | 5                    \n",
      " _c8  | 0                    \n",
      " _c9  | 0                    \n",
      " _c10 | N                    \n",
      " _c11 | Y                    \n",
      " _c12 | Five Stars           \n",
      " _c13 | very good especia... \n",
      " _c14 | 2015-08-31           \n",
      "-RECORD 19-------------------\n",
      " _c0  | US                   \n",
      " _c1  | 47386264             \n",
      " _c2  | R1WI5NISM6GAUG       \n",
      " _c3  | B0045EJY90           \n",
      " _c4  | 892920832            \n",
      " _c5  | TEAC CD-P650-B Co... \n",
      " _c6  | Electronics          \n",
      " _c7  | 2                    \n",
      " _c8  | 4                    \n",
      " _c9  | 5                    \n",
      " _c10 | N                    \n",
      " _c11 | Y                    \n",
      " _c12 | It does not copy ... \n",
      " _c13 | It does not copy ... \n",
      " _c14 | 2015-08-31           \n",
      "only showing top 20 rows\n",
      "\n"
     ]
    }
   ],
   "source": [
    "electronics = spark.read.csv(\"C:/Users/19495/ProjectFiles/amazon_reviews_us_Electronics_v1_00.tsv.gz\", sep = '\\t')#.iloc[1:,:]\n",
    "electronics.show(vertical=True)\n",
    "toys = spark.read.csv(\"C:/Users/19495/ProjectFiles/amazon_reviews_us_Toys_v1_00.tsv.gz\")"
   ]
  },
  {
   "cell_type": "code",
   "execution_count": 44,
   "metadata": {},
   "outputs": [
    {
     "ename": "AttributeError",
     "evalue": "'DataFrame' object has no attribute 'marketplace'",
     "output_type": "error",
     "traceback": [
      "\u001b[1;31m---------------------------------------------------------------------------\u001b[0m",
      "\u001b[1;31mAttributeError\u001b[0m                            Traceback (most recent call last)",
      "\u001b[1;32m<ipython-input-44-2a889add29dd>\u001b[0m in \u001b[0;36m<module>\u001b[1;34m\u001b[0m\n\u001b[1;32m----> 1\u001b[1;33m \u001b[0melectronics\u001b[0m\u001b[1;33m.\u001b[0m\u001b[0mfilter\u001b[0m\u001b[1;33m(\u001b[0m\u001b[0melectronics\u001b[0m\u001b[1;33m.\u001b[0m\u001b[0mmarketplace\u001b[0m\u001b[1;33m.\u001b[0m\u001b[0misNotNull\u001b[0m\u001b[1;33m(\u001b[0m\u001b[1;33m)\u001b[0m\u001b[1;33m)\u001b[0m\u001b[1;33m.\u001b[0m\u001b[0mshow\u001b[0m\u001b[1;33m(\u001b[0m\u001b[1;33m)\u001b[0m\u001b[1;33m\u001b[0m\u001b[1;33m\u001b[0m\u001b[0m\n\u001b[0m",
      "\u001b[1;32m~\\anaconda3\\lib\\site-packages\\pyspark\\sql\\dataframe.py\u001b[0m in \u001b[0;36m__getattr__\u001b[1;34m(self, name)\u001b[0m\n\u001b[0;32m   1658\u001b[0m         \u001b[1;32mif\u001b[0m \u001b[0mname\u001b[0m \u001b[1;32mnot\u001b[0m \u001b[1;32min\u001b[0m \u001b[0mself\u001b[0m\u001b[1;33m.\u001b[0m\u001b[0mcolumns\u001b[0m\u001b[1;33m:\u001b[0m\u001b[1;33m\u001b[0m\u001b[1;33m\u001b[0m\u001b[0m\n\u001b[0;32m   1659\u001b[0m             raise AttributeError(\n\u001b[1;32m-> 1660\u001b[1;33m                 \"'%s' object has no attribute '%s'\" % (self.__class__.__name__, name))\n\u001b[0m\u001b[0;32m   1661\u001b[0m         \u001b[0mjc\u001b[0m \u001b[1;33m=\u001b[0m \u001b[0mself\u001b[0m\u001b[1;33m.\u001b[0m\u001b[0m_jdf\u001b[0m\u001b[1;33m.\u001b[0m\u001b[0mapply\u001b[0m\u001b[1;33m(\u001b[0m\u001b[0mname\u001b[0m\u001b[1;33m)\u001b[0m\u001b[1;33m\u001b[0m\u001b[1;33m\u001b[0m\u001b[0m\n\u001b[0;32m   1662\u001b[0m         \u001b[1;32mreturn\u001b[0m \u001b[0mColumn\u001b[0m\u001b[1;33m(\u001b[0m\u001b[0mjc\u001b[0m\u001b[1;33m)\u001b[0m\u001b[1;33m\u001b[0m\u001b[1;33m\u001b[0m\u001b[0m\n",
      "\u001b[1;31mAttributeError\u001b[0m: 'DataFrame' object has no attribute 'marketplace'"
     ]
    }
   ],
   "source": [
    "electronics.filter(electronics.marketplace.isNotNull()).show()"
   ]
  },
  {
   "cell_type": "markdown",
   "metadata": {},
   "source": [
    "## Dask"
   ]
  },
  {
   "cell_type": "code",
   "execution_count": 58,
   "metadata": {},
   "outputs": [],
   "source": [
    "import dask as d\n",
    "import dask.dataframe as dd\n",
    "import dask.array as da"
   ]
  },
  {
   "cell_type": "code",
   "execution_count": 59,
   "metadata": {},
   "outputs": [
    {
     "ename": "UnicodeDecodeError",
     "evalue": "'utf-8' codec can't decode byte 0x8b in position 1: invalid start byte",
     "output_type": "error",
     "traceback": [
      "\u001b[1;31m---------------------------------------------------------------------------\u001b[0m",
      "\u001b[1;31mUnicodeDecodeError\u001b[0m                        Traceback (most recent call last)",
      "\u001b[1;32m<ipython-input-59-24a984e6dd58>\u001b[0m in \u001b[0;36m<module>\u001b[1;34m\u001b[0m\n\u001b[1;32m----> 1\u001b[1;33m \u001b[0melectronics_dask\u001b[0m \u001b[1;33m=\u001b[0m \u001b[0mdd\u001b[0m\u001b[1;33m.\u001b[0m\u001b[0mread_csv\u001b[0m\u001b[1;33m(\u001b[0m\u001b[1;34m\"C:/Users/19495/ProjectFiles/amazon_reviews_us_Electronics_v1_00.tsv.gz\"\u001b[0m\u001b[1;33m,\u001b[0m \u001b[0msep\u001b[0m \u001b[1;33m=\u001b[0m\u001b[1;34m'\\t'\u001b[0m\u001b[1;33m)\u001b[0m\u001b[1;33m\u001b[0m\u001b[1;33m\u001b[0m\u001b[0m\n\u001b[0m",
      "\u001b[1;32m~\\anaconda3\\lib\\site-packages\\dask\\dataframe\\io\\csv.py\u001b[0m in \u001b[0;36mread\u001b[1;34m(urlpath, blocksize, collection, lineterminator, compression, sample, enforce, assume_missing, storage_options, include_path_column, **kwargs)\u001b[0m\n\u001b[0;32m    576\u001b[0m             \u001b[0mstorage_options\u001b[0m\u001b[1;33m=\u001b[0m\u001b[0mstorage_options\u001b[0m\u001b[1;33m,\u001b[0m\u001b[1;33m\u001b[0m\u001b[1;33m\u001b[0m\u001b[0m\n\u001b[0;32m    577\u001b[0m             \u001b[0minclude_path_column\u001b[0m\u001b[1;33m=\u001b[0m\u001b[0minclude_path_column\u001b[0m\u001b[1;33m,\u001b[0m\u001b[1;33m\u001b[0m\u001b[1;33m\u001b[0m\u001b[0m\n\u001b[1;32m--> 578\u001b[1;33m             \u001b[1;33m**\u001b[0m\u001b[0mkwargs\u001b[0m\u001b[1;33m\u001b[0m\u001b[1;33m\u001b[0m\u001b[0m\n\u001b[0m\u001b[0;32m    579\u001b[0m         )\n\u001b[0;32m    580\u001b[0m \u001b[1;33m\u001b[0m\u001b[0m\n",
      "\u001b[1;32m~\\anaconda3\\lib\\site-packages\\dask\\dataframe\\io\\csv.py\u001b[0m in \u001b[0;36mread_pandas\u001b[1;34m(reader, urlpath, blocksize, collection, lineterminator, compression, sample, enforce, assume_missing, storage_options, include_path_column, **kwargs)\u001b[0m\n\u001b[0;32m    442\u001b[0m \u001b[1;33m\u001b[0m\u001b[0m\n\u001b[0;32m    443\u001b[0m     \u001b[1;31m# Use sample to infer dtypes and check for presence of include_path_column\u001b[0m\u001b[1;33m\u001b[0m\u001b[1;33m\u001b[0m\u001b[1;33m\u001b[0m\u001b[0m\n\u001b[1;32m--> 444\u001b[1;33m     \u001b[0mhead\u001b[0m \u001b[1;33m=\u001b[0m \u001b[0mreader\u001b[0m\u001b[1;33m(\u001b[0m\u001b[0mBytesIO\u001b[0m\u001b[1;33m(\u001b[0m\u001b[0mb_sample\u001b[0m\u001b[1;33m)\u001b[0m\u001b[1;33m,\u001b[0m \u001b[1;33m**\u001b[0m\u001b[0mkwargs\u001b[0m\u001b[1;33m)\u001b[0m\u001b[1;33m\u001b[0m\u001b[1;33m\u001b[0m\u001b[0m\n\u001b[0m\u001b[0;32m    445\u001b[0m     \u001b[1;32mif\u001b[0m \u001b[0minclude_path_column\u001b[0m \u001b[1;32mand\u001b[0m \u001b[1;33m(\u001b[0m\u001b[0minclude_path_column\u001b[0m \u001b[1;32min\u001b[0m \u001b[0mhead\u001b[0m\u001b[1;33m.\u001b[0m\u001b[0mcolumns\u001b[0m\u001b[1;33m)\u001b[0m\u001b[1;33m:\u001b[0m\u001b[1;33m\u001b[0m\u001b[1;33m\u001b[0m\u001b[0m\n\u001b[0;32m    446\u001b[0m         raise ValueError(\n",
      "\u001b[1;32m~\\anaconda3\\lib\\site-packages\\pandas\\io\\parsers.py\u001b[0m in \u001b[0;36mparser_f\u001b[1;34m(filepath_or_buffer, sep, delimiter, header, names, index_col, usecols, squeeze, prefix, mangle_dupe_cols, dtype, engine, converters, true_values, false_values, skipinitialspace, skiprows, skipfooter, nrows, na_values, keep_default_na, na_filter, verbose, skip_blank_lines, parse_dates, infer_datetime_format, keep_date_col, date_parser, dayfirst, cache_dates, iterator, chunksize, compression, thousands, decimal, lineterminator, quotechar, quoting, doublequote, escapechar, comment, encoding, dialect, error_bad_lines, warn_bad_lines, delim_whitespace, low_memory, memory_map, float_precision)\u001b[0m\n\u001b[0;32m    674\u001b[0m         )\n\u001b[0;32m    675\u001b[0m \u001b[1;33m\u001b[0m\u001b[0m\n\u001b[1;32m--> 676\u001b[1;33m         \u001b[1;32mreturn\u001b[0m \u001b[0m_read\u001b[0m\u001b[1;33m(\u001b[0m\u001b[0mfilepath_or_buffer\u001b[0m\u001b[1;33m,\u001b[0m \u001b[0mkwds\u001b[0m\u001b[1;33m)\u001b[0m\u001b[1;33m\u001b[0m\u001b[1;33m\u001b[0m\u001b[0m\n\u001b[0m\u001b[0;32m    677\u001b[0m \u001b[1;33m\u001b[0m\u001b[0m\n\u001b[0;32m    678\u001b[0m     \u001b[0mparser_f\u001b[0m\u001b[1;33m.\u001b[0m\u001b[0m__name__\u001b[0m \u001b[1;33m=\u001b[0m \u001b[0mname\u001b[0m\u001b[1;33m\u001b[0m\u001b[1;33m\u001b[0m\u001b[0m\n",
      "\u001b[1;32m~\\anaconda3\\lib\\site-packages\\pandas\\io\\parsers.py\u001b[0m in \u001b[0;36m_read\u001b[1;34m(filepath_or_buffer, kwds)\u001b[0m\n\u001b[0;32m    446\u001b[0m \u001b[1;33m\u001b[0m\u001b[0m\n\u001b[0;32m    447\u001b[0m     \u001b[1;31m# Create the parser.\u001b[0m\u001b[1;33m\u001b[0m\u001b[1;33m\u001b[0m\u001b[1;33m\u001b[0m\u001b[0m\n\u001b[1;32m--> 448\u001b[1;33m     \u001b[0mparser\u001b[0m \u001b[1;33m=\u001b[0m \u001b[0mTextFileReader\u001b[0m\u001b[1;33m(\u001b[0m\u001b[0mfp_or_buf\u001b[0m\u001b[1;33m,\u001b[0m \u001b[1;33m**\u001b[0m\u001b[0mkwds\u001b[0m\u001b[1;33m)\u001b[0m\u001b[1;33m\u001b[0m\u001b[1;33m\u001b[0m\u001b[0m\n\u001b[0m\u001b[0;32m    449\u001b[0m \u001b[1;33m\u001b[0m\u001b[0m\n\u001b[0;32m    450\u001b[0m     \u001b[1;32mif\u001b[0m \u001b[0mchunksize\u001b[0m \u001b[1;32mor\u001b[0m \u001b[0miterator\u001b[0m\u001b[1;33m:\u001b[0m\u001b[1;33m\u001b[0m\u001b[1;33m\u001b[0m\u001b[0m\n",
      "\u001b[1;32m~\\anaconda3\\lib\\site-packages\\pandas\\io\\parsers.py\u001b[0m in \u001b[0;36m__init__\u001b[1;34m(self, f, engine, **kwds)\u001b[0m\n\u001b[0;32m    878\u001b[0m             \u001b[0mself\u001b[0m\u001b[1;33m.\u001b[0m\u001b[0moptions\u001b[0m\u001b[1;33m[\u001b[0m\u001b[1;34m\"has_index_names\"\u001b[0m\u001b[1;33m]\u001b[0m \u001b[1;33m=\u001b[0m \u001b[0mkwds\u001b[0m\u001b[1;33m[\u001b[0m\u001b[1;34m\"has_index_names\"\u001b[0m\u001b[1;33m]\u001b[0m\u001b[1;33m\u001b[0m\u001b[1;33m\u001b[0m\u001b[0m\n\u001b[0;32m    879\u001b[0m \u001b[1;33m\u001b[0m\u001b[0m\n\u001b[1;32m--> 880\u001b[1;33m         \u001b[0mself\u001b[0m\u001b[1;33m.\u001b[0m\u001b[0m_make_engine\u001b[0m\u001b[1;33m(\u001b[0m\u001b[0mself\u001b[0m\u001b[1;33m.\u001b[0m\u001b[0mengine\u001b[0m\u001b[1;33m)\u001b[0m\u001b[1;33m\u001b[0m\u001b[1;33m\u001b[0m\u001b[0m\n\u001b[0m\u001b[0;32m    881\u001b[0m \u001b[1;33m\u001b[0m\u001b[0m\n\u001b[0;32m    882\u001b[0m     \u001b[1;32mdef\u001b[0m \u001b[0mclose\u001b[0m\u001b[1;33m(\u001b[0m\u001b[0mself\u001b[0m\u001b[1;33m)\u001b[0m\u001b[1;33m:\u001b[0m\u001b[1;33m\u001b[0m\u001b[1;33m\u001b[0m\u001b[0m\n",
      "\u001b[1;32m~\\anaconda3\\lib\\site-packages\\pandas\\io\\parsers.py\u001b[0m in \u001b[0;36m_make_engine\u001b[1;34m(self, engine)\u001b[0m\n\u001b[0;32m   1112\u001b[0m     \u001b[1;32mdef\u001b[0m \u001b[0m_make_engine\u001b[0m\u001b[1;33m(\u001b[0m\u001b[0mself\u001b[0m\u001b[1;33m,\u001b[0m \u001b[0mengine\u001b[0m\u001b[1;33m=\u001b[0m\u001b[1;34m\"c\"\u001b[0m\u001b[1;33m)\u001b[0m\u001b[1;33m:\u001b[0m\u001b[1;33m\u001b[0m\u001b[1;33m\u001b[0m\u001b[0m\n\u001b[0;32m   1113\u001b[0m         \u001b[1;32mif\u001b[0m \u001b[0mengine\u001b[0m \u001b[1;33m==\u001b[0m \u001b[1;34m\"c\"\u001b[0m\u001b[1;33m:\u001b[0m\u001b[1;33m\u001b[0m\u001b[1;33m\u001b[0m\u001b[0m\n\u001b[1;32m-> 1114\u001b[1;33m             \u001b[0mself\u001b[0m\u001b[1;33m.\u001b[0m\u001b[0m_engine\u001b[0m \u001b[1;33m=\u001b[0m \u001b[0mCParserWrapper\u001b[0m\u001b[1;33m(\u001b[0m\u001b[0mself\u001b[0m\u001b[1;33m.\u001b[0m\u001b[0mf\u001b[0m\u001b[1;33m,\u001b[0m \u001b[1;33m**\u001b[0m\u001b[0mself\u001b[0m\u001b[1;33m.\u001b[0m\u001b[0moptions\u001b[0m\u001b[1;33m)\u001b[0m\u001b[1;33m\u001b[0m\u001b[1;33m\u001b[0m\u001b[0m\n\u001b[0m\u001b[0;32m   1115\u001b[0m         \u001b[1;32melse\u001b[0m\u001b[1;33m:\u001b[0m\u001b[1;33m\u001b[0m\u001b[1;33m\u001b[0m\u001b[0m\n\u001b[0;32m   1116\u001b[0m             \u001b[1;32mif\u001b[0m \u001b[0mengine\u001b[0m \u001b[1;33m==\u001b[0m \u001b[1;34m\"python\"\u001b[0m\u001b[1;33m:\u001b[0m\u001b[1;33m\u001b[0m\u001b[1;33m\u001b[0m\u001b[0m\n",
      "\u001b[1;32m~\\anaconda3\\lib\\site-packages\\pandas\\io\\parsers.py\u001b[0m in \u001b[0;36m__init__\u001b[1;34m(self, src, **kwds)\u001b[0m\n\u001b[0;32m   1889\u001b[0m         \u001b[0mkwds\u001b[0m\u001b[1;33m[\u001b[0m\u001b[1;34m\"usecols\"\u001b[0m\u001b[1;33m]\u001b[0m \u001b[1;33m=\u001b[0m \u001b[0mself\u001b[0m\u001b[1;33m.\u001b[0m\u001b[0musecols\u001b[0m\u001b[1;33m\u001b[0m\u001b[1;33m\u001b[0m\u001b[0m\n\u001b[0;32m   1890\u001b[0m \u001b[1;33m\u001b[0m\u001b[0m\n\u001b[1;32m-> 1891\u001b[1;33m         \u001b[0mself\u001b[0m\u001b[1;33m.\u001b[0m\u001b[0m_reader\u001b[0m \u001b[1;33m=\u001b[0m \u001b[0mparsers\u001b[0m\u001b[1;33m.\u001b[0m\u001b[0mTextReader\u001b[0m\u001b[1;33m(\u001b[0m\u001b[0msrc\u001b[0m\u001b[1;33m,\u001b[0m \u001b[1;33m**\u001b[0m\u001b[0mkwds\u001b[0m\u001b[1;33m)\u001b[0m\u001b[1;33m\u001b[0m\u001b[1;33m\u001b[0m\u001b[0m\n\u001b[0m\u001b[0;32m   1892\u001b[0m         \u001b[0mself\u001b[0m\u001b[1;33m.\u001b[0m\u001b[0munnamed_cols\u001b[0m \u001b[1;33m=\u001b[0m \u001b[0mself\u001b[0m\u001b[1;33m.\u001b[0m\u001b[0m_reader\u001b[0m\u001b[1;33m.\u001b[0m\u001b[0munnamed_cols\u001b[0m\u001b[1;33m\u001b[0m\u001b[1;33m\u001b[0m\u001b[0m\n\u001b[0;32m   1893\u001b[0m \u001b[1;33m\u001b[0m\u001b[0m\n",
      "\u001b[1;32mpandas\\_libs\\parsers.pyx\u001b[0m in \u001b[0;36mpandas._libs.parsers.TextReader.__cinit__\u001b[1;34m()\u001b[0m\n",
      "\u001b[1;32mpandas\\_libs\\parsers.pyx\u001b[0m in \u001b[0;36mpandas._libs.parsers.TextReader._get_header\u001b[1;34m()\u001b[0m\n",
      "\u001b[1;31mUnicodeDecodeError\u001b[0m: 'utf-8' codec can't decode byte 0x8b in position 1: invalid start byte"
     ]
    }
   ],
   "source": [
    "electronics_dask = dd.read_csv(\"C:/Users/19495/ProjectFiles/amazon_reviews_us_Electronics_v1_00.tsv.gz\", sep ='\\t')"
   ]
  },
  {
   "cell_type": "code",
   "execution_count": null,
   "metadata": {},
   "outputs": [],
   "source": []
  }
 ],
 "metadata": {
  "kernelspec": {
   "display_name": "Python 3",
   "language": "python",
   "name": "python3"
  },
  "language_info": {
   "codemirror_mode": {
    "name": "ipython",
    "version": 3
   },
   "file_extension": ".py",
   "mimetype": "text/x-python",
   "name": "python",
   "nbconvert_exporter": "python",
   "pygments_lexer": "ipython3",
   "version": "3.7.6"
  }
 },
 "nbformat": 4,
 "nbformat_minor": 4
}
