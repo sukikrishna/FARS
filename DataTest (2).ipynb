{
 "cells": [
  {
   "cell_type": "code",
   "execution_count": 1,
   "id": "0d7b80b9",
   "metadata": {},
   "outputs": [],
   "source": [
    "# import libraries\n",
    "import boto3, re, sys, math, json, os, sagemaker, urllib.request\n",
    "from sagemaker import get_execution_role\n",
    "import numpy as np\n",
    "import pandas as pd\n",
    "from IPython.display import Image\n",
    "from IPython.display import display\n",
    "from time import gmtime, strftime\n",
    "from sagemaker.predictor import csv_serializer\n",
    "\n",
    "import seaborn as sns\n",
    "import matplotlib.pyplot as plt\n",
    "\n",
    "# These are all the imports needed for the assignment\n",
    "%matplotlib inline\n",
    "\n",
    "# Import nltk package (Natural Language Toolkit)\n",
    "import nltk\n",
    "from nltk.tokenize import word_tokenize\n",
    "from nltk.corpus import stopwords\n",
    "\n",
    "import warnings\n",
    "warnings.filterwarnings('ignore')\n",
    "\n",
    "# scikit-learn imports\n",
    "from sklearn.model_selection import train_test_split\n",
    "from sklearn.svm import SVC\n",
    "from sklearn.feature_extraction.text import CountVectorizer, TfidfVectorizer\n",
    "from sklearn.metrics import classification_report, precision_recall_fscore_support"
   ]
  },
  {
   "cell_type": "code",
   "execution_count": 2,
   "id": "c9e033a3",
   "metadata": {},
   "outputs": [
    {
     "name": "stderr",
     "output_type": "stream",
     "text": [
      "[nltk_data] Downloading package punkt to /home/ec2-user/nltk_data...\n",
      "[nltk_data]   Package punkt is already up-to-date!\n",
      "[nltk_data] Downloading package stopwords to\n",
      "[nltk_data]     /home/ec2-user/nltk_data...\n",
      "[nltk_data]   Package stopwords is already up-to-date!\n"
     ]
    },
    {
     "data": {
      "text/plain": [
       "True"
      ]
     },
     "execution_count": 2,
     "metadata": {},
     "output_type": "execute_result"
    }
   ],
   "source": [
    "# Download the NLTK English tokenizer and the stopwords of all languages\n",
    "nltk.download('punkt')\n",
    "nltk.download('stopwords')"
   ]
  },
  {
   "cell_type": "code",
   "execution_count": 3,
   "id": "d3d2e847",
   "metadata": {},
   "outputs": [],
   "source": [
    "client = boto3.client(\n",
    "    's3',\n",
    "    aws_access_key_id = 'sukiK@2002',\n",
    "    aws_secret_access_key = 'sukik',\n",
    "    region_name = 'ap-west-1'\n",
    ")"
   ]
  },
  {
   "cell_type": "code",
   "execution_count": 4,
   "id": "186de7ec",
   "metadata": {},
   "outputs": [],
   "source": [
    "files = ['amazon_reviews_us_Electronics_v1_00.tsv', \\\n",
    "         'amazon_reviews_us_Gift_Card_v1_00.tsv', \\\n",
    "         'amazon_reviews_us_Major_Appliances_v1_00.tsv', \\\n",
    "         'amazon_reviews_us_Office_Products_v1_00.tsv', \\\n",
    "         'amazon_reviews_us_Shoes_v1_00.tsv', \\\n",
    "         'amazon_reviews_us_Toys_v1_00.tsv', \\\n",
    "         'amazon_reviews_us_Watches_v1_00.tsv']"
   ]
  },
  {
   "cell_type": "code",
   "execution_count": 5,
   "id": "4d8374b3",
   "metadata": {},
   "outputs": [
    {
     "data": {
      "text/plain": [
       "15"
      ]
     },
     "execution_count": 5,
     "metadata": {},
     "output_type": "execute_result"
    }
   ],
   "source": [
    "columns = ['marketplace', 'customer_id', 'review_id', 'product_id', 'product_parent', 'product_title', 'product_category', 'star_rating', 'helpful_votes', 'total_votes', 'vine', 'verified_purchase', 'review_headline', 'review_body', 'review_date']\n",
    "len(columns)"
   ]
  },
  {
   "cell_type": "code",
   "execution_count": 6,
   "id": "b13b5911",
   "metadata": {},
   "outputs": [
    {
     "data": {
      "text/plain": [
       "'s3://farsdata/dataFiles/'"
      ]
     },
     "execution_count": 6,
     "metadata": {},
     "output_type": "execute_result"
    }
   ],
   "source": [
    "bucket = 'farsdata'\n",
    "prefix = 'dataFiles'\n",
    "data_location = 's3://{}/{}/'.format(bucket, prefix)\n",
    "data_location"
   ]
  },
  {
   "cell_type": "markdown",
   "id": "1054903a",
   "metadata": {},
   "source": [
    "one_file = pd.read_csv(data_location + files[0], names = columns, sep = '\\t').iloc[1:,:]\n",
    "one_file.head()"
   ]
  },
  {
   "cell_type": "code",
   "execution_count": 7,
   "id": "d2f814b9",
   "metadata": {},
   "outputs": [],
   "source": [
    "#test.rename(columns=test.iloc[0])\n",
    "training_data = pd.DataFrame() #initialize an empty dataframe\n",
    "testing_data = pd.DataFrame()\n",
    "\n",
    "one_file = pd.read_csv(data_location + files[1], names = columns, sep = '\\t').iloc[1:,:]"
   ]
  },
  {
   "cell_type": "code",
   "execution_count": 8,
   "id": "2daff1f2",
   "metadata": {},
   "outputs": [
    {
     "data": {
      "text/plain": [
       "(148310, 15)"
      ]
     },
     "execution_count": 8,
     "metadata": {},
     "output_type": "execute_result"
    }
   ],
   "source": [
    "one_file.shape"
   ]
  },
  {
   "cell_type": "code",
   "execution_count": 9,
   "id": "e93e7457",
   "metadata": {},
   "outputs": [],
   "source": [
    "def convert_to_int(x):\n",
    "    return int(float(x))"
   ]
  },
  {
   "cell_type": "code",
   "execution_count": 10,
   "id": "340f059e",
   "metadata": {},
   "outputs": [],
   "source": [
    "#convert all mixed datatypes --> string objects (unable to convert to int)\n",
    "one_file['customer_id'] = one_file['customer_id'].apply(int) #1\n",
    "one_file['product_parent'] = one_file['product_parent'].apply(int) #4\n",
    "one_file['star_rating'] = one_file['star_rating'].apply(int) #7\n",
    "one_file['helpful_votes'] = one_file['helpful_votes'].apply(int) #8\n",
    "one_file['total_votes'] = one_file['total_votes'].apply(int) #9"
   ]
  },
  {
   "cell_type": "code",
   "execution_count": 11,
   "id": "a655f772",
   "metadata": {},
   "outputs": [
    {
     "data": {
      "text/plain": [
       "review_headline      3\n",
       "review_body          2\n",
       "review_date          1\n",
       "verified_purchase    0\n",
       "vine                 0\n",
       "total_votes          0\n",
       "helpful_votes        0\n",
       "star_rating          0\n",
       "product_category     0\n",
       "product_title        0\n",
       "product_parent       0\n",
       "product_id           0\n",
       "review_id            0\n",
       "customer_id          0\n",
       "marketplace          0\n",
       "dtype: int64"
      ]
     },
     "execution_count": 11,
     "metadata": {},
     "output_type": "execute_result"
    }
   ],
   "source": [
    "one_file.isnull().sum().sort_values(ascending=False)"
   ]
  },
  {
   "cell_type": "code",
   "execution_count": 12,
   "id": "95b9f458",
   "metadata": {},
   "outputs": [
    {
     "data": {
      "text/plain": [
       "review_date          0\n",
       "review_body          0\n",
       "review_headline      0\n",
       "verified_purchase    0\n",
       "vine                 0\n",
       "total_votes          0\n",
       "helpful_votes        0\n",
       "star_rating          0\n",
       "product_category     0\n",
       "product_title        0\n",
       "product_parent       0\n",
       "product_id           0\n",
       "review_id            0\n",
       "customer_id          0\n",
       "marketplace          0\n",
       "dtype: int64"
      ]
     },
     "execution_count": 12,
     "metadata": {},
     "output_type": "execute_result"
    }
   ],
   "source": [
    "one_file.dropna(inplace=True) #drop all of the missing values\n",
    "one_file.isnull().sum().sort_values(ascending=False)"
   ]
  },
  {
   "cell_type": "markdown",
   "id": "3c88d0d7",
   "metadata": {},
   "source": [
    "for i in range(0, 3):\n",
    "    print(i)\n",
    "    model_data = pd.read_csv(data_location + files[i], names = columns, sep = '\\t')\n",
    "    \n",
    "    train_data, test_data = np.split(model_data.sample(frac=1, random_state=1729), [int(0.7 * len(model_data))])\n",
    "    print(train_data.shape, test_data.shape)\n",
    "    \n",
    "    training_data.append(train_data, ignore_index=True)\n",
    "    testing_data.append(test_data, ignore_index=True)"
   ]
  },
  {
   "cell_type": "code",
   "execution_count": 13,
   "id": "86870ec0",
   "metadata": {},
   "outputs": [
    {
     "data": {
      "text/html": [
       "<div>\n",
       "<style scoped>\n",
       "    .dataframe tbody tr th:only-of-type {\n",
       "        vertical-align: middle;\n",
       "    }\n",
       "\n",
       "    .dataframe tbody tr th {\n",
       "        vertical-align: top;\n",
       "    }\n",
       "\n",
       "    .dataframe thead th {\n",
       "        text-align: right;\n",
       "    }\n",
       "</style>\n",
       "<table border=\"1\" class=\"dataframe\">\n",
       "  <thead>\n",
       "    <tr style=\"text-align: right;\">\n",
       "      <th></th>\n",
       "      <th>marketplace</th>\n",
       "      <th>customer_id</th>\n",
       "      <th>review_id</th>\n",
       "      <th>product_id</th>\n",
       "      <th>product_parent</th>\n",
       "      <th>product_title</th>\n",
       "      <th>product_category</th>\n",
       "      <th>star_rating</th>\n",
       "      <th>helpful_votes</th>\n",
       "      <th>total_votes</th>\n",
       "      <th>vine</th>\n",
       "      <th>verified_purchase</th>\n",
       "      <th>review_headline</th>\n",
       "      <th>review_body</th>\n",
       "      <th>review_date</th>\n",
       "    </tr>\n",
       "  </thead>\n",
       "  <tbody>\n",
       "    <tr>\n",
       "      <th>1</th>\n",
       "      <td>US</td>\n",
       "      <td>24371595</td>\n",
       "      <td>R27ZP1F1CD0C3Y</td>\n",
       "      <td>B004LLIL5A</td>\n",
       "      <td>346014806</td>\n",
       "      <td>Amazon eGift Card - Celebrate</td>\n",
       "      <td>Gift Card</td>\n",
       "      <td>5</td>\n",
       "      <td>0</td>\n",
       "      <td>0</td>\n",
       "      <td>N</td>\n",
       "      <td>Y</td>\n",
       "      <td>Five Stars</td>\n",
       "      <td>Great birthday gift for a young adult.</td>\n",
       "      <td>2015-08-31</td>\n",
       "    </tr>\n",
       "    <tr>\n",
       "      <th>2</th>\n",
       "      <td>US</td>\n",
       "      <td>42489718</td>\n",
       "      <td>RJ7RSBCHUDNNE</td>\n",
       "      <td>B004LLIKVU</td>\n",
       "      <td>473048287</td>\n",
       "      <td>Amazon.com eGift Cards</td>\n",
       "      <td>Gift Card</td>\n",
       "      <td>5</td>\n",
       "      <td>0</td>\n",
       "      <td>0</td>\n",
       "      <td>N</td>\n",
       "      <td>Y</td>\n",
       "      <td>Gift card for the greatest selection of items ...</td>\n",
       "      <td>It's an Amazon gift card and with over 9823983...</td>\n",
       "      <td>2015-08-31</td>\n",
       "    </tr>\n",
       "    <tr>\n",
       "      <th>3</th>\n",
       "      <td>US</td>\n",
       "      <td>861463</td>\n",
       "      <td>R1HVYBSKLQJI5S</td>\n",
       "      <td>B00IX1I3G6</td>\n",
       "      <td>926539283</td>\n",
       "      <td>Amazon.com Gift Card Balance Reload</td>\n",
       "      <td>Gift Card</td>\n",
       "      <td>5</td>\n",
       "      <td>0</td>\n",
       "      <td>0</td>\n",
       "      <td>N</td>\n",
       "      <td>Y</td>\n",
       "      <td>Five Stars</td>\n",
       "      <td>Good</td>\n",
       "      <td>2015-08-31</td>\n",
       "    </tr>\n",
       "    <tr>\n",
       "      <th>4</th>\n",
       "      <td>US</td>\n",
       "      <td>25283295</td>\n",
       "      <td>R2HAXF0IIYQBIR</td>\n",
       "      <td>B00IX1I3G6</td>\n",
       "      <td>926539283</td>\n",
       "      <td>Amazon.com Gift Card Balance Reload</td>\n",
       "      <td>Gift Card</td>\n",
       "      <td>1</td>\n",
       "      <td>0</td>\n",
       "      <td>0</td>\n",
       "      <td>N</td>\n",
       "      <td>Y</td>\n",
       "      <td>One Star</td>\n",
       "      <td>Fair</td>\n",
       "      <td>2015-08-31</td>\n",
       "    </tr>\n",
       "    <tr>\n",
       "      <th>5</th>\n",
       "      <td>US</td>\n",
       "      <td>397970</td>\n",
       "      <td>RNYLPX611NB7Q</td>\n",
       "      <td>B005ESMGV4</td>\n",
       "      <td>379368939</td>\n",
       "      <td>Amazon.com Gift Cards, Pack of 3 (Various Desi...</td>\n",
       "      <td>Gift Card</td>\n",
       "      <td>5</td>\n",
       "      <td>0</td>\n",
       "      <td>0</td>\n",
       "      <td>N</td>\n",
       "      <td>Y</td>\n",
       "      <td>Five Stars</td>\n",
       "      <td>I can't believe how quickly Amazon can get the...</td>\n",
       "      <td>2015-08-31</td>\n",
       "    </tr>\n",
       "  </tbody>\n",
       "</table>\n",
       "</div>"
      ],
      "text/plain": [
       "  marketplace  customer_id       review_id  product_id  product_parent  \\\n",
       "1          US     24371595  R27ZP1F1CD0C3Y  B004LLIL5A       346014806   \n",
       "2          US     42489718   RJ7RSBCHUDNNE  B004LLIKVU       473048287   \n",
       "3          US       861463  R1HVYBSKLQJI5S  B00IX1I3G6       926539283   \n",
       "4          US     25283295  R2HAXF0IIYQBIR  B00IX1I3G6       926539283   \n",
       "5          US       397970   RNYLPX611NB7Q  B005ESMGV4       379368939   \n",
       "\n",
       "                                       product_title product_category  \\\n",
       "1                      Amazon eGift Card - Celebrate        Gift Card   \n",
       "2                             Amazon.com eGift Cards        Gift Card   \n",
       "3                Amazon.com Gift Card Balance Reload        Gift Card   \n",
       "4                Amazon.com Gift Card Balance Reload        Gift Card   \n",
       "5  Amazon.com Gift Cards, Pack of 3 (Various Desi...        Gift Card   \n",
       "\n",
       "   star_rating  helpful_votes  total_votes vine verified_purchase  \\\n",
       "1            5              0            0    N                 Y   \n",
       "2            5              0            0    N                 Y   \n",
       "3            5              0            0    N                 Y   \n",
       "4            1              0            0    N                 Y   \n",
       "5            5              0            0    N                 Y   \n",
       "\n",
       "                                     review_headline  \\\n",
       "1                                         Five Stars   \n",
       "2  Gift card for the greatest selection of items ...   \n",
       "3                                         Five Stars   \n",
       "4                                           One Star   \n",
       "5                                         Five Stars   \n",
       "\n",
       "                                         review_body review_date  \n",
       "1             Great birthday gift for a young adult.  2015-08-31  \n",
       "2  It's an Amazon gift card and with over 9823983...  2015-08-31  \n",
       "3                                               Good  2015-08-31  \n",
       "4                                               Fair  2015-08-31  \n",
       "5  I can't believe how quickly Amazon can get the...  2015-08-31  "
      ]
     },
     "execution_count": 13,
     "metadata": {},
     "output_type": "execute_result"
    }
   ],
   "source": [
    "#there may be tabs in the review that is what is leading to the excluded cases when converting to df\n",
    "\n",
    "'''\n",
    "train_data['verified_purchase'].value_counts()\n",
    "test_data['verified_purchase'].value_counts()\n",
    "'''\n",
    "\n",
    "one_file.head()"
   ]
  },
  {
   "cell_type": "markdown",
   "id": "bbf76629",
   "metadata": {},
   "source": [
    "#to check te datatypes within each column\n",
    "\n",
    "print(train_data.applymap(type))\n",
    "data_types = train_data.applymap(type)"
   ]
  },
  {
   "cell_type": "code",
   "execution_count": 14,
   "id": "1a6b44c7",
   "metadata": {
    "scrolled": true
   },
   "outputs": [
    {
     "data": {
      "text/plain": [
       "1    137085\n",
       "2      4996\n",
       "3       320\n",
       "4        42\n",
       "5        16\n",
       "6         2\n",
       "7         1\n",
       "Name: marketplace, dtype: int64"
      ]
     },
     "execution_count": 14,
     "metadata": {},
     "output_type": "execute_result"
    }
   ],
   "source": [
    "#the number of customers that gave multiple reviews\n",
    "#may be valueable to investigate\n",
    "one_file.groupby('customer_id').count()['marketplace'].sort_values(ascending = False).value_counts()"
   ]
  },
  {
   "cell_type": "code",
   "execution_count": 15,
   "id": "be5a15b0",
   "metadata": {},
   "outputs": [
    {
     "data": {
      "text/plain": [
       "5    129024\n",
       "4      9807\n",
       "1      4766\n",
       "3      3147\n",
       "2      1560\n",
       "Name: star_rating, dtype: int64"
      ]
     },
     "execution_count": 15,
     "metadata": {},
     "output_type": "execute_result"
    }
   ],
   "source": [
    "one_file['star_rating'].value_counts()"
   ]
  },
  {
   "cell_type": "markdown",
   "id": "c5adfd33",
   "metadata": {},
   "source": [
    "### Sentiment Analysis"
   ]
  },
  {
   "cell_type": "code",
   "execution_count": 16,
   "id": "7c9ea031",
   "metadata": {},
   "outputs": [],
   "source": [
    "#df is all data other than rating 3\n",
    "df = one_file[one_file['star_rating'] != 3]"
   ]
  },
  {
   "cell_type": "code",
   "execution_count": 17,
   "id": "60287a49",
   "metadata": {},
   "outputs": [
    {
     "data": {
      "text/plain": [
       "5    129024\n",
       "4      9807\n",
       "1      4766\n",
       "2      1560\n",
       "Name: star_rating, dtype: int64"
      ]
     },
     "execution_count": 17,
     "metadata": {},
     "output_type": "execute_result"
    }
   ],
   "source": [
    "df['star_rating'].value_counts()"
   ]
  },
  {
   "cell_type": "code",
   "execution_count": 18,
   "id": "a5a14f6c",
   "metadata": {},
   "outputs": [],
   "source": [
    "df['positively_rated'] = np.where(df['star_rating'] > 3, 1, 0)"
   ]
  },
  {
   "cell_type": "code",
   "execution_count": 19,
   "id": "da853281",
   "metadata": {},
   "outputs": [
    {
     "data": {
      "text/plain": [
       "1    138831\n",
       "0      6326\n",
       "Name: positively_rated, dtype: int64"
      ]
     },
     "execution_count": 19,
     "metadata": {},
     "output_type": "execute_result"
    }
   ],
   "source": [
    "df['positively_rated'].value_counts()"
   ]
  },
  {
   "cell_type": "code",
   "execution_count": 20,
   "id": "cfb75c7f",
   "metadata": {},
   "outputs": [
    {
     "data": {
      "text/plain": [
       "<AxesSubplot:xlabel='positively_rated', ylabel='count'>"
      ]
     },
     "execution_count": 20,
     "metadata": {},
     "output_type": "execute_result"
    },
    {
     "data": {
      "image/png": "[encoded data removed]",
      "text/plain": [
       "<Figure size 432x288 with 1 Axes>"
      ]
     },
     "metadata": {
      "needs_background": "light"
     },
     "output_type": "display_data"
    }
   ],
   "source": [
    "sns.countplot(df['positively_rated'])"
   ]
  },
  {
   "cell_type": "markdown",
   "id": "3e930c48",
   "metadata": {},
   "source": [
    "##### On all of the data"
   ]
  },
  {
   "cell_type": "code",
   "execution_count": 21,
   "id": "6855c345",
   "metadata": {},
   "outputs": [
    {
     "name": "stdout",
     "output_type": "stream",
     "text": [
      "(103812, 15) (44492, 15)\n"
     ]
    }
   ],
   "source": [
    "train_data, test_data = np.split(one_file.sample(frac=1, random_state=1729), [int(0.7 * len(one_file))])\n",
    "print(train_data.shape, test_data.shape)"
   ]
  },
  {
   "cell_type": "code",
   "execution_count": 22,
   "id": "c4dd248c",
   "metadata": {},
   "outputs": [
    {
     "data": {
      "text/plain": [
       "'Needed a quick gift for a grandson. The young kids love this kind of gift, they can choose what they want.'"
      ]
     },
     "execution_count": 22,
     "metadata": {},
     "output_type": "execute_result"
    }
   ],
   "source": [
    "X_train = train_data['review_body']\n",
    "X_train.iloc[0] #to_frame()"
   ]
  },
  {
   "cell_type": "code",
   "execution_count": 23,
   "id": "9c2259b4",
   "metadata": {},
   "outputs": [],
   "source": [
    "Y_train = train_data['star_rating']"
   ]
  },
  {
   "cell_type": "code",
   "execution_count": 24,
   "id": "731b86bd",
   "metadata": {},
   "outputs": [],
   "source": [
    "X_test = test_data['review_body']\n",
    "Y_test = test_data['star_rating']"
   ]
  },
  {
   "cell_type": "markdown",
   "id": "0de152ec",
   "metadata": {},
   "source": [
    "#### TF-IDF - to get predictions of what star rating will be based on text of review"
   ]
  },
  {
   "cell_type": "code",
   "execution_count": 25,
   "id": "aba35e7b",
   "metadata": {},
   "outputs": [],
   "source": [
    "from sklearn.feature_extraction.text import TfidfVectorizer"
   ]
  },
  {
   "cell_type": "code",
   "execution_count": 26,
   "id": "12c9cdcf",
   "metadata": {},
   "outputs": [],
   "source": [
    "vect = TfidfVectorizer().fit(X_train)"
   ]
  },
  {
   "cell_type": "code",
   "execution_count": 27,
   "id": "1aaab213",
   "metadata": {},
   "outputs": [
    {
     "data": {
      "text/plain": [
       "26090"
      ]
     },
     "execution_count": 27,
     "metadata": {},
     "output_type": "execute_result"
    }
   ],
   "source": [
    "len(vect.get_feature_names()) #unique words"
   ]
  },
  {
   "cell_type": "code",
   "execution_count": 28,
   "id": "755d9c38",
   "metadata": {},
   "outputs": [],
   "source": [
    "X_train_vect = vect.transform(X_train)"
   ]
  },
  {
   "cell_type": "code",
   "execution_count": 29,
   "id": "c0dd612c",
   "metadata": {},
   "outputs": [
    {
     "data": {
      "text/plain": [
       "LogisticRegression()"
      ]
     },
     "execution_count": 29,
     "metadata": {},
     "output_type": "execute_result"
    }
   ],
   "source": [
    "from sklearn.linear_model import LogisticRegression\n",
    "model = LogisticRegression()\n",
    "model.fit(X_train_vect, Y_train)"
   ]
  },
  {
   "cell_type": "code",
   "execution_count": 30,
   "id": "2f2d4754",
   "metadata": {},
   "outputs": [],
   "source": [
    "predictions = model.predict(vect.transform(X_test))"
   ]
  },
  {
   "cell_type": "code",
   "execution_count": 31,
   "id": "b13caa6d",
   "metadata": {},
   "outputs": [
    {
     "data": {
      "text/plain": [
       "44492"
      ]
     },
     "execution_count": 31,
     "metadata": {},
     "output_type": "execute_result"
    }
   ],
   "source": [
    "len(predictions)"
   ]
  },
  {
   "cell_type": "markdown",
   "id": "416b4ecf",
   "metadata": {},
   "source": [
    "###### Confusion Matrix - shows probabilities for whether cat data is predicted correctly"
   ]
  },
  {
   "cell_type": "code",
   "execution_count": 32,
   "id": "0b080f3a",
   "metadata": {},
   "outputs": [],
   "source": [
    "def plot_confusion_matrix(cm, target_names,\n",
    "                          fname, epoch,\n",
    "                          title='Confusion matrix',\n",
    "                          cmap=None,\n",
    "                          normalize=True, target=None):\n",
    "    import matplotlib.pyplot as plt\n",
    "    import numpy as np\n",
    "    import itertools\n",
    "    plt.style.use('default')\n",
    "\n",
    "    # # only true if it weren't normalized:\n",
    "    # accuracy = np.trace(cm) / float(np.sum(cm))\n",
    "    # misclass = 1 - accuracy\n",
    "\n",
    "    if cmap is None:\n",
    "        cmap = plt.get_cmap('Blues')\n",
    "\n",
    "    if normalize:\n",
    "        cm = cm.astype('float') / cm.sum(axis=1)[:, np.newaxis]\n",
    "    cm[np.isnan(cm)] = 0.0\n",
    "\n",
    "    fig = plt.figure(figsize=(5, 4))\n",
    "    ax = plt.axes()\n",
    "    plt.imshow(cm, interpolation='nearest', cmap=cmap)\n",
    "    if target == \"rule-based\":\n",
    "        plt.title(title + ' for rule-based PF')\n",
    "    else:\n",
    "        plt.title(title + ' for MLPF at epoch ' + str(epoch))\n",
    "\n",
    "    plt.colorbar()\n",
    "\n",
    "    if target_names is not None:\n",
    "        tick_marks = np.arange(len(target_names))\n",
    "        plt.xticks(tick_marks, target_names, rotation=45)\n",
    "        plt.yticks(tick_marks, target_names)\n",
    "\n",
    "    thresh = cm.max() / 1.5 if normalize else cm.max() / 2\n",
    "    for i, j in itertools.product(range(cm.shape[0]), range(cm.shape[1])):\n",
    "        if normalize:\n",
    "            plt.text(j, i, \"{:0.2f}\".format(cm[i, j]),\n",
    "                     horizontalalignment=\"center\",\n",
    "                     color=\"white\" if cm[i, j] > thresh else \"black\")\n",
    "        else:\n",
    "            plt.text(j, i, \"{:,}\".format(cm[i, j]),\n",
    "                     horizontalalignment=\"center\",\n",
    "                     color=\"white\" if cm[i, j] > thresh else \"black\")\n",
    "\n",
    "    plt.ylabel('True label')\n",
    "    plt.xlim(-1, len(target_names))\n",
    "    plt.ylim(-1, len(target_names))\n",
    "    plt.xlabel('Predicted label')\n",
    "    # plt.xlabel('Predicted label\\naccuracy={:0.4f}; misclass={:0.4f}'.format(accuracy, misclass))\n",
    "    plt.tight_layout()\n",
    "    plt.savefig(fname + '.png')\n",
    "    plt.savefig(fname + '.pdf')\n",
    "    #plt.close(fig)\n",
    "\n",
    "    return fig, ax"
   ]
  },
  {
   "cell_type": "code",
   "execution_count": 33,
   "id": "411a0e0d",
   "metadata": {},
   "outputs": [],
   "source": [
    "import sklearn"
   ]
  },
  {
   "cell_type": "code",
   "execution_count": 34,
   "id": "25da7881",
   "metadata": {},
   "outputs": [],
   "source": [
    "cn = sklearn.metrics.confusion_matrix(Y_test, predictions, labels=None, sample_weight=None, normalize=None)"
   ]
  },
  {
   "cell_type": "code",
   "execution_count": 35,
   "id": "75a4a4f9",
   "metadata": {},
   "outputs": [
    {
     "data": {
      "text/plain": [
       "(<Figure size 500x400 with 2 Axes>,\n",
       " <AxesSubplot:title={'center':'0 for MLPF at epoch ConfusionMatrix.png'}, xlabel='Predicted label', ylabel='True label'>)"
      ]
     },
     "execution_count": 35,
     "metadata": {},
     "output_type": "execute_result"
    },
    {
     "data": {
      "image/png": "[encoded data removed]",
      "text/plain": [
       "<Figure size 500x400 with 2 Axes>"
      ]
     },
     "metadata": {},
     "output_type": "display_data"
    }
   ],
   "source": [
    "plot_confusion_matrix(cn, [1, 2, 3, 4, 5], \"ConfusionMatrixTest\", \"ConfusionMatrix.png\", \"0\")\n",
    "#problem where all of the ratings are being predicted as 5"
   ]
  },
  {
   "cell_type": "code",
   "execution_count": 36,
   "id": "9eeaa901",
   "metadata": {},
   "outputs": [],
   "source": [
    "feature_names = np.array(vect.get_feature_names())\n",
    "sorted_coef_index = model.coef_[0].argsort()"
   ]
  },
  {
   "cell_type": "code",
   "execution_count": 37,
   "id": "d2d376d2",
   "metadata": {},
   "outputs": [
    {
     "data": {
      "text/plain": [
       "'terrible'"
      ]
     },
     "execution_count": 37,
     "metadata": {},
     "output_type": "execute_result"
    }
   ],
   "source": [
    "feature_names[22935]"
   ]
  },
  {
   "cell_type": "code",
   "execution_count": 38,
   "id": "c42d62ce",
   "metadata": {},
   "outputs": [
    {
     "data": {
      "text/plain": [
       "['never',\n",
       " 'not',\n",
       " 'terrible',\n",
       " 'tried',\n",
       " 'waste',\n",
       " 'charged',\n",
       " 'unable',\n",
       " 'horrible',\n",
       " 'won',\n",
       " 'poor']"
      ]
     },
     "execution_count": 38,
     "metadata": {},
     "output_type": "execute_result"
    }
   ],
   "source": [
    "list(map(lambda x: feature_names[x], sorted_coef_index[:-11:-1]))"
   ]
  },
  {
   "cell_type": "code",
   "execution_count": 39,
   "id": "cd42cf6d",
   "metadata": {},
   "outputs": [
    {
     "name": "stdout",
     "output_type": "stream",
     "text": [
      "smallest coef ['easy', 'great', 'love', 'perfect', 'loved', 'sure', 'like', 'quick', 'convenient', 'nice']\n"
     ]
    }
   ],
   "source": [
    "print(\"smallest coef\", list(map(lambda x: feature_names[x], sorted_coef_index[:10])))"
   ]
  },
  {
   "cell_type": "code",
   "execution_count": 40,
   "id": "f29cc1bd",
   "metadata": {},
   "outputs": [
    {
     "name": "stdout",
     "output_type": "stream",
     "text": [
      "largest coef ['never', 'not', 'terrible', 'tried', 'waste', 'charged', 'unable', 'horrible', 'won', 'poor']\n"
     ]
    }
   ],
   "source": [
    "print(\"largest coef\", list(map(lambda x: feature_names[x], sorted_coef_index[:-11:-1])))"
   ]
  },
  {
   "cell_type": "markdown",
   "id": "01c6cf4a",
   "metadata": {},
   "source": [
    "### SVM Notes"
   ]
  },
  {
   "cell_type": "markdown",
   "id": "1accf4d5",
   "metadata": {},
   "source": [
    "- **Bag of Words (BoW)**\n",
    "        - BoW encodes an input sentence as the frequency of each word in the sentence. \n",
    "        - In this approach, all words contribute equally to the feature vectors.\n",
    "- **Term Frequency - Inverse Document Frequency (TF-IDF)**\n",
    "        - TF-IDF is a measure of how important each term is to a specific document, as compared to an overall corpus. \n",
    "        - TF-IDF encodes each word as its frequency in the document of interest, divided by a measure of how common the word is across all documents (the corpus).\n",
    "        - Using this approach, each word contributes differently to the feature vectors.\n",
    "        - The assumption behind using TF-IDF is that words that appear commonly everywhere are not that informative about what is specifically interesting about a document of interest, so it is tuned to representing a document in terms of the words it uses that are different from other documents. \n",
    "\n",
    "- To compare those 2 methods, we will first apply them on the same dataset to analyse sentiment (how positive or negative a text is). In order to make the comparison fair, an **SVM (support vector machine)** classifier will be used to classify positive reviews and negative reviews.\n",
    "\n",
    "- SVM is a simple yet powerful and interpretable linear model. To use it as a classifier, we need to have at least 2 splits of the data: training data and test data. The training data is used to tune the weight parameters in the SVM to learn an optimal way to classify the training data. We can then test this trained SVM classifier on the test data, to see how well it works on data that the classifier has not seen before. "
   ]
  },
  {
   "cell_type": "code",
   "execution_count": 41,
   "id": "93d3623e",
   "metadata": {},
   "outputs": [
    {
     "data": {
      "text/html": [
       "<div>\n",
       "<style scoped>\n",
       "    .dataframe tbody tr th:only-of-type {\n",
       "        vertical-align: middle;\n",
       "    }\n",
       "\n",
       "    .dataframe tbody tr th {\n",
       "        vertical-align: top;\n",
       "    }\n",
       "\n",
       "    .dataframe thead th {\n",
       "        text-align: right;\n",
       "    }\n",
       "</style>\n",
       "<table border=\"1\" class=\"dataframe\">\n",
       "  <thead>\n",
       "    <tr style=\"text-align: right;\">\n",
       "      <th></th>\n",
       "      <th>marketplace</th>\n",
       "      <th>customer_id</th>\n",
       "      <th>review_id</th>\n",
       "      <th>product_id</th>\n",
       "      <th>product_parent</th>\n",
       "      <th>product_title</th>\n",
       "      <th>product_category</th>\n",
       "      <th>star_rating</th>\n",
       "      <th>helpful_votes</th>\n",
       "      <th>total_votes</th>\n",
       "      <th>vine</th>\n",
       "      <th>verified_purchase</th>\n",
       "      <th>review_headline</th>\n",
       "      <th>review_body</th>\n",
       "      <th>review_date</th>\n",
       "      <th>positively_rated</th>\n",
       "    </tr>\n",
       "  </thead>\n",
       "  <tbody>\n",
       "    <tr>\n",
       "      <th>1</th>\n",
       "      <td>US</td>\n",
       "      <td>24371595</td>\n",
       "      <td>R27ZP1F1CD0C3Y</td>\n",
       "      <td>B004LLIL5A</td>\n",
       "      <td>346014806</td>\n",
       "      <td>Amazon eGift Card - Celebrate</td>\n",
       "      <td>Gift Card</td>\n",
       "      <td>5</td>\n",
       "      <td>0</td>\n",
       "      <td>0</td>\n",
       "      <td>N</td>\n",
       "      <td>Y</td>\n",
       "      <td>Five Stars</td>\n",
       "      <td>Great birthday gift for a young adult.</td>\n",
       "      <td>2015-08-31</td>\n",
       "      <td>1</td>\n",
       "    </tr>\n",
       "    <tr>\n",
       "      <th>2</th>\n",
       "      <td>US</td>\n",
       "      <td>42489718</td>\n",
       "      <td>RJ7RSBCHUDNNE</td>\n",
       "      <td>B004LLIKVU</td>\n",
       "      <td>473048287</td>\n",
       "      <td>Amazon.com eGift Cards</td>\n",
       "      <td>Gift Card</td>\n",
       "      <td>5</td>\n",
       "      <td>0</td>\n",
       "      <td>0</td>\n",
       "      <td>N</td>\n",
       "      <td>Y</td>\n",
       "      <td>Gift card for the greatest selection of items ...</td>\n",
       "      <td>It's an Amazon gift card and with over 9823983...</td>\n",
       "      <td>2015-08-31</td>\n",
       "      <td>1</td>\n",
       "    </tr>\n",
       "    <tr>\n",
       "      <th>3</th>\n",
       "      <td>US</td>\n",
       "      <td>861463</td>\n",
       "      <td>R1HVYBSKLQJI5S</td>\n",
       "      <td>B00IX1I3G6</td>\n",
       "      <td>926539283</td>\n",
       "      <td>Amazon.com Gift Card Balance Reload</td>\n",
       "      <td>Gift Card</td>\n",
       "      <td>5</td>\n",
       "      <td>0</td>\n",
       "      <td>0</td>\n",
       "      <td>N</td>\n",
       "      <td>Y</td>\n",
       "      <td>Five Stars</td>\n",
       "      <td>Good</td>\n",
       "      <td>2015-08-31</td>\n",
       "      <td>1</td>\n",
       "    </tr>\n",
       "    <tr>\n",
       "      <th>4</th>\n",
       "      <td>US</td>\n",
       "      <td>25283295</td>\n",
       "      <td>R2HAXF0IIYQBIR</td>\n",
       "      <td>B00IX1I3G6</td>\n",
       "      <td>926539283</td>\n",
       "      <td>Amazon.com Gift Card Balance Reload</td>\n",
       "      <td>Gift Card</td>\n",
       "      <td>1</td>\n",
       "      <td>0</td>\n",
       "      <td>0</td>\n",
       "      <td>N</td>\n",
       "      <td>Y</td>\n",
       "      <td>One Star</td>\n",
       "      <td>Fair</td>\n",
       "      <td>2015-08-31</td>\n",
       "      <td>0</td>\n",
       "    </tr>\n",
       "    <tr>\n",
       "      <th>5</th>\n",
       "      <td>US</td>\n",
       "      <td>397970</td>\n",
       "      <td>RNYLPX611NB7Q</td>\n",
       "      <td>B005ESMGV4</td>\n",
       "      <td>379368939</td>\n",
       "      <td>Amazon.com Gift Cards, Pack of 3 (Various Desi...</td>\n",
       "      <td>Gift Card</td>\n",
       "      <td>5</td>\n",
       "      <td>0</td>\n",
       "      <td>0</td>\n",
       "      <td>N</td>\n",
       "      <td>Y</td>\n",
       "      <td>Five Stars</td>\n",
       "      <td>I can't believe how quickly Amazon can get the...</td>\n",
       "      <td>2015-08-31</td>\n",
       "      <td>1</td>\n",
       "    </tr>\n",
       "  </tbody>\n",
       "</table>\n",
       "</div>"
      ],
      "text/plain": [
       "  marketplace  customer_id       review_id  product_id  product_parent  \\\n",
       "1          US     24371595  R27ZP1F1CD0C3Y  B004LLIL5A       346014806   \n",
       "2          US     42489718   RJ7RSBCHUDNNE  B004LLIKVU       473048287   \n",
       "3          US       861463  R1HVYBSKLQJI5S  B00IX1I3G6       926539283   \n",
       "4          US     25283295  R2HAXF0IIYQBIR  B00IX1I3G6       926539283   \n",
       "5          US       397970   RNYLPX611NB7Q  B005ESMGV4       379368939   \n",
       "\n",
       "                                       product_title product_category  \\\n",
       "1                      Amazon eGift Card - Celebrate        Gift Card   \n",
       "2                             Amazon.com eGift Cards        Gift Card   \n",
       "3                Amazon.com Gift Card Balance Reload        Gift Card   \n",
       "4                Amazon.com Gift Card Balance Reload        Gift Card   \n",
       "5  Amazon.com Gift Cards, Pack of 3 (Various Desi...        Gift Card   \n",
       "\n",
       "   star_rating  helpful_votes  total_votes vine verified_purchase  \\\n",
       "1            5              0            0    N                 Y   \n",
       "2            5              0            0    N                 Y   \n",
       "3            5              0            0    N                 Y   \n",
       "4            1              0            0    N                 Y   \n",
       "5            5              0            0    N                 Y   \n",
       "\n",
       "                                     review_headline  \\\n",
       "1                                         Five Stars   \n",
       "2  Gift card for the greatest selection of items ...   \n",
       "3                                         Five Stars   \n",
       "4                                           One Star   \n",
       "5                                         Five Stars   \n",
       "\n",
       "                                         review_body review_date  \\\n",
       "1             Great birthday gift for a young adult.  2015-08-31   \n",
       "2  It's an Amazon gift card and with over 9823983...  2015-08-31   \n",
       "3                                               Good  2015-08-31   \n",
       "4                                               Fair  2015-08-31   \n",
       "5  I can't believe how quickly Amazon can get the...  2015-08-31   \n",
       "\n",
       "   positively_rated  \n",
       "1                 1  \n",
       "2                 1  \n",
       "3                 1  \n",
       "4                 0  \n",
       "5                 1  "
      ]
     },
     "execution_count": 41,
     "metadata": {},
     "output_type": "execute_result"
    }
   ],
   "source": [
    "df.head()"
   ]
  },
  {
   "cell_type": "markdown",
   "id": "78496047",
   "metadata": {},
   "source": [
    "We will now create a CountVectorizer object to transform the text data into vectors with numerical values.\n",
    "\n",
    "To do so, we will initialize a CountVectorizer object, and name it as vectorizer.\n",
    "\n",
    "4 arguments to initialize a CountVectorizer:\n",
    "\n",
    "* analyzer: 'word'\n",
    " Specify to analyze data from word-level.\n",
    " \n",
    "* max_features: 2000\n",
    " Set a max number of unique words.\n",
    " \n",
    "* tokenizer: word_tokenize\n",
    " Set to tokenize the text data by using the word_tokenizer from NLTK .\n",
    " \n",
    "* stop_words: stopwords.words('english')\n",
    " Set to remove all stopwords in English. We do this since they generally don't provide useful discriminative information."
   ]
  },
  {
   "cell_type": "code",
   "execution_count": 42,
   "id": "58f563ea",
   "metadata": {},
   "outputs": [],
   "source": [
    "vectorizer = CountVectorizer(\n",
    "    #sublinear_tf=True,\n",
    "    analyzer='word',\n",
    "    max_features=2000,\n",
    "    tokenizer=word_tokenize,\n",
    "    stop_words=stopwords.words(\"english\")\n",
    ")"
   ]
  },
  {
   "cell_type": "code",
   "execution_count": 43,
   "id": "1f68d810",
   "metadata": {},
   "outputs": [],
   "source": [
    "assert vectorizer.analyzer == 'word'\n",
    "assert vectorizer.max_features == 2000\n",
    "assert vectorizer.tokenizer == word_tokenize\n",
    "assert vectorizer.stop_words == stopwords.words('english')\n",
    "assert hasattr(vectorizer, \"fit_transform\")"
   ]
  },
  {
   "cell_type": "code",
   "execution_count": 44,
   "id": "58dc94d5",
   "metadata": {
    "scrolled": true
   },
   "outputs": [],
   "source": [
    "GGR_X = vectorizer.fit_transform(df[\"review_body\"]).toarray()"
   ]
  },
  {
   "cell_type": "code",
   "execution_count": 45,
   "id": "a3d153c9",
   "metadata": {},
   "outputs": [],
   "source": [
    "GGR_Y = df['positively_rated']"
   ]
  },
  {
   "cell_type": "markdown",
   "id": "fe45ffb5",
   "metadata": {},
   "source": [
    "Now, we'll instead use sklearn's train_test_split() function here to define our train and test set. Store train data (predictors) into MR_train_X and labels (outcomes) into MR_train_Y. Similarly, store test data into MR_test_X and test labels into MR_test_Y.\n",
    "- earlier used numpy's np.split in order to replicate this function\n",
    "- test_size = 0.2 (allocating 20% of data in df to the testing datasets)"
   ]
  },
  {
   "cell_type": "code",
   "execution_count": 47,
   "id": "625bfde1",
   "metadata": {},
   "outputs": [
    {
     "ename": "MemoryError",
     "evalue": "Unable to allocate 1.73 GiB for an array with shape (116125, 2000) and data type int64",
     "output_type": "error",
     "traceback": [
      "\u001b[0;31m---------------------------------------------------------------------------\u001b[0m",
      "\u001b[0;31mMemoryError\u001b[0m                               Traceback (most recent call last)",
      "\u001b[0;32m<ipython-input-47-a3d7aa8de4cc>\u001b[0m in \u001b[0;36m<module>\u001b[0;34m\u001b[0m\n\u001b[0;32m----> 1\u001b[0;31m \u001b[0mGGR_train_X\u001b[0m\u001b[0;34m,\u001b[0m \u001b[0mGGR_test_X\u001b[0m\u001b[0;34m,\u001b[0m \u001b[0mGGR_train_Y\u001b[0m\u001b[0;34m,\u001b[0m \u001b[0mGGR_test_Y\u001b[0m \u001b[0;34m=\u001b[0m \u001b[0mtrain_test_split\u001b[0m\u001b[0;34m(\u001b[0m\u001b[0mGGR_X\u001b[0m\u001b[0;34m,\u001b[0m \u001b[0mGGR_Y\u001b[0m\u001b[0;34m,\u001b[0m \u001b[0mtest_size\u001b[0m \u001b[0;34m=\u001b[0m \u001b[0;36m0.2\u001b[0m\u001b[0;34m,\u001b[0m \u001b[0mrandom_state\u001b[0m \u001b[0;34m=\u001b[0m \u001b[0;36m200\u001b[0m\u001b[0;34m)\u001b[0m\u001b[0;34m\u001b[0m\u001b[0;34m\u001b[0m\u001b[0m\n\u001b[0m\u001b[1;32m      2\u001b[0m \u001b[0mprint\u001b[0m\u001b[0;34m(\u001b[0m\u001b[0mGGR_train_X\u001b[0m\u001b[0;34m.\u001b[0m\u001b[0mshape\u001b[0m\u001b[0;34m[\u001b[0m\u001b[0;36m0\u001b[0m\u001b[0;34m]\u001b[0m\u001b[0;34m)\u001b[0m\u001b[0;34m\u001b[0m\u001b[0;34m\u001b[0m\u001b[0m\n\u001b[1;32m      3\u001b[0m \u001b[0mprint\u001b[0m\u001b[0;34m(\u001b[0m\u001b[0mGGR_train_Y\u001b[0m\u001b[0;34m.\u001b[0m\u001b[0mshape\u001b[0m\u001b[0;34m[\u001b[0m\u001b[0;36m0\u001b[0m\u001b[0;34m]\u001b[0m\u001b[0;34m)\u001b[0m\u001b[0;34m\u001b[0m\u001b[0;34m\u001b[0m\u001b[0m\n",
      "\u001b[0;32m~/anaconda3/envs/python3/lib/python3.6/site-packages/sklearn/model_selection/_split.py\u001b[0m in \u001b[0;36mtrain_test_split\u001b[0;34m(test_size, train_size, random_state, shuffle, stratify, *arrays)\u001b[0m\n\u001b[1;32m   2198\u001b[0m \u001b[0;34m\u001b[0m\u001b[0m\n\u001b[1;32m   2199\u001b[0m     return list(chain.from_iterable((_safe_indexing(a, train),\n\u001b[0;32m-> 2200\u001b[0;31m                                      _safe_indexing(a, test)) for a in arrays))\n\u001b[0m\u001b[1;32m   2201\u001b[0m \u001b[0;34m\u001b[0m\u001b[0m\n\u001b[1;32m   2202\u001b[0m \u001b[0;34m\u001b[0m\u001b[0m\n",
      "\u001b[0;32m~/anaconda3/envs/python3/lib/python3.6/site-packages/sklearn/model_selection/_split.py\u001b[0m in \u001b[0;36m<genexpr>\u001b[0;34m(.0)\u001b[0m\n\u001b[1;32m   2198\u001b[0m \u001b[0;34m\u001b[0m\u001b[0m\n\u001b[1;32m   2199\u001b[0m     return list(chain.from_iterable((_safe_indexing(a, train),\n\u001b[0;32m-> 2200\u001b[0;31m                                      _safe_indexing(a, test)) for a in arrays))\n\u001b[0m\u001b[1;32m   2201\u001b[0m \u001b[0;34m\u001b[0m\u001b[0m\n\u001b[1;32m   2202\u001b[0m \u001b[0;34m\u001b[0m\u001b[0m\n",
      "\u001b[0;32m~/anaconda3/envs/python3/lib/python3.6/site-packages/sklearn/utils/__init__.py\u001b[0m in \u001b[0;36m_safe_indexing\u001b[0;34m(X, indices, axis)\u001b[0m\n\u001b[1;32m    342\u001b[0m         \u001b[0;32mreturn\u001b[0m \u001b[0m_pandas_indexing\u001b[0m\u001b[0;34m(\u001b[0m\u001b[0mX\u001b[0m\u001b[0;34m,\u001b[0m \u001b[0mindices\u001b[0m\u001b[0;34m,\u001b[0m \u001b[0mindices_dtype\u001b[0m\u001b[0;34m,\u001b[0m \u001b[0maxis\u001b[0m\u001b[0;34m=\u001b[0m\u001b[0maxis\u001b[0m\u001b[0;34m)\u001b[0m\u001b[0;34m\u001b[0m\u001b[0;34m\u001b[0m\u001b[0m\n\u001b[1;32m    343\u001b[0m     \u001b[0;32melif\u001b[0m \u001b[0mhasattr\u001b[0m\u001b[0;34m(\u001b[0m\u001b[0mX\u001b[0m\u001b[0;34m,\u001b[0m \u001b[0;34m\"shape\"\u001b[0m\u001b[0;34m)\u001b[0m\u001b[0;34m:\u001b[0m\u001b[0;34m\u001b[0m\u001b[0;34m\u001b[0m\u001b[0m\n\u001b[0;32m--> 344\u001b[0;31m         \u001b[0;32mreturn\u001b[0m \u001b[0m_array_indexing\u001b[0m\u001b[0;34m(\u001b[0m\u001b[0mX\u001b[0m\u001b[0;34m,\u001b[0m \u001b[0mindices\u001b[0m\u001b[0;34m,\u001b[0m \u001b[0mindices_dtype\u001b[0m\u001b[0;34m,\u001b[0m \u001b[0maxis\u001b[0m\u001b[0;34m=\u001b[0m\u001b[0maxis\u001b[0m\u001b[0;34m)\u001b[0m\u001b[0;34m\u001b[0m\u001b[0;34m\u001b[0m\u001b[0m\n\u001b[0m\u001b[1;32m    345\u001b[0m     \u001b[0;32melse\u001b[0m\u001b[0;34m:\u001b[0m\u001b[0;34m\u001b[0m\u001b[0;34m\u001b[0m\u001b[0m\n\u001b[1;32m    346\u001b[0m         \u001b[0;32mreturn\u001b[0m \u001b[0m_list_indexing\u001b[0m\u001b[0;34m(\u001b[0m\u001b[0mX\u001b[0m\u001b[0;34m,\u001b[0m \u001b[0mindices\u001b[0m\u001b[0;34m,\u001b[0m \u001b[0mindices_dtype\u001b[0m\u001b[0;34m)\u001b[0m\u001b[0;34m\u001b[0m\u001b[0;34m\u001b[0m\u001b[0m\n",
      "\u001b[0;32m~/anaconda3/envs/python3/lib/python3.6/site-packages/sklearn/utils/__init__.py\u001b[0m in \u001b[0;36m_array_indexing\u001b[0;34m(array, key, key_dtype, axis)\u001b[0m\n\u001b[1;32m    177\u001b[0m     \u001b[0;32mif\u001b[0m \u001b[0misinstance\u001b[0m\u001b[0;34m(\u001b[0m\u001b[0mkey\u001b[0m\u001b[0;34m,\u001b[0m \u001b[0mtuple\u001b[0m\u001b[0;34m)\u001b[0m\u001b[0;34m:\u001b[0m\u001b[0;34m\u001b[0m\u001b[0;34m\u001b[0m\u001b[0m\n\u001b[1;32m    178\u001b[0m         \u001b[0mkey\u001b[0m \u001b[0;34m=\u001b[0m \u001b[0mlist\u001b[0m\u001b[0;34m(\u001b[0m\u001b[0mkey\u001b[0m\u001b[0;34m)\u001b[0m\u001b[0;34m\u001b[0m\u001b[0;34m\u001b[0m\u001b[0m\n\u001b[0;32m--> 179\u001b[0;31m     \u001b[0;32mreturn\u001b[0m \u001b[0marray\u001b[0m\u001b[0;34m[\u001b[0m\u001b[0mkey\u001b[0m\u001b[0;34m]\u001b[0m \u001b[0;32mif\u001b[0m \u001b[0maxis\u001b[0m \u001b[0;34m==\u001b[0m \u001b[0;36m0\u001b[0m \u001b[0;32melse\u001b[0m \u001b[0marray\u001b[0m\u001b[0;34m[\u001b[0m\u001b[0;34m:\u001b[0m\u001b[0;34m,\u001b[0m \u001b[0mkey\u001b[0m\u001b[0;34m]\u001b[0m\u001b[0;34m\u001b[0m\u001b[0;34m\u001b[0m\u001b[0m\n\u001b[0m\u001b[1;32m    180\u001b[0m \u001b[0;34m\u001b[0m\u001b[0m\n\u001b[1;32m    181\u001b[0m \u001b[0;34m\u001b[0m\u001b[0m\n",
      "\u001b[0;31mMemoryError\u001b[0m: Unable to allocate 1.73 GiB for an array with shape (116125, 2000) and data type int64"
     ]
    }
   ],
   "source": [
    "GGR_train_X, GGR_test_X, GGR_train_Y, GGR_test_Y = train_test_split(GGR_X, GGR_Y, test_size = 0.2, random_state = 200)\n",
    "print(GGR_train_X.shape[0])\n",
    "print(GGR_train_Y.shape[0])"
   ]
  },
  {
   "cell_type": "code",
   "execution_count": 48,
   "id": "f5ee82e6",
   "metadata": {},
   "outputs": [],
   "source": [
    "#This function will initialize and train a SVM classifier\n",
    "def train_SVM(X, y, kernel='linear'):\n",
    "# YOUR CODE HERE\n",
    "    clf = SVC(kernel = kernel)\n",
    "    clf.fit(X, y)\n",
    "    \n",
    "    return clf"
   ]
  },
  {
   "cell_type": "code",
   "execution_count": 49,
   "id": "e84bf8c0",
   "metadata": {},
   "outputs": [
    {
     "ename": "NameError",
     "evalue": "name 'GGR_train_X' is not defined",
     "output_type": "error",
     "traceback": [
      "\u001b[0;31m---------------------------------------------------------------------------\u001b[0m",
      "\u001b[0;31mNameError\u001b[0m                                 Traceback (most recent call last)",
      "\u001b[0;32m<ipython-input-49-c485335c7ab5>\u001b[0m in \u001b[0;36m<module>\u001b[0;34m\u001b[0m\n\u001b[0;32m----> 1\u001b[0;31m \u001b[0mGGR_clf\u001b[0m \u001b[0;34m=\u001b[0m \u001b[0mtrain_SVM\u001b[0m\u001b[0;34m(\u001b[0m\u001b[0mGGR_train_X\u001b[0m\u001b[0;34m,\u001b[0m \u001b[0mGGR_train_Y\u001b[0m\u001b[0;34m)\u001b[0m\u001b[0;34m\u001b[0m\u001b[0;34m\u001b[0m\u001b[0m\n\u001b[0m",
      "\u001b[0;31mNameError\u001b[0m: name 'GGR_train_X' is not defined"
     ]
    }
   ],
   "source": [
    "GGR_clf = train_SVM(GGR_train_X, GGR_train_Y)"
   ]
  },
  {
   "cell_type": "code",
   "execution_count": null,
   "id": "69d42ac6",
   "metadata": {},
   "outputs": [],
   "source": [
    "GGR_predicted_train_Y = MR_clf.predict(GGR_train_X)\n",
    "GGR_predicted_test_Y = MR_clf.predict(GGR_train_Y)"
   ]
  },
  {
   "cell_type": "code",
   "execution_count": null,
   "id": "dcf8f1cb",
   "metadata": {},
   "outputs": [],
   "source": [
    "print(classification_report(GGR_train_Y,GGR_predicted_train_Y))"
   ]
  },
  {
   "cell_type": "code",
   "execution_count": null,
   "id": "7e0ac439",
   "metadata": {},
   "outputs": [],
   "source": [
    "print(classification_report(GGR_test_Y, GGR_predicted_test_Y))"
   ]
  },
  {
   "cell_type": "code",
   "execution_count": null,
   "id": "2cafad82",
   "metadata": {},
   "outputs": [],
   "source": []
  }
 ],
 "metadata": {
  "kernelspec": {
   "display_name": "conda_python3",
   "language": "python",
   "name": "conda_python3"
  },
  "language_info": {
   "codemirror_mode": {
    "name": "ipython",
    "version": 3
   },
   "file_extension": ".py",
   "mimetype": "text/x-python",
   "name": "python",
   "nbconvert_exporter": "python",
   "pygments_lexer": "ipython3",
   "version": "3.6.13"
  }
 },
 "nbformat": 4,
 "nbformat_minor": 5
}
