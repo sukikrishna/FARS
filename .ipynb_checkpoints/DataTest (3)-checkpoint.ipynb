{
 "cells": [
  {
   "cell_type": "code",
   "execution_count": 3,
   "metadata": {},
   "outputs": [],
   "source": [
    "# import libraries\n",
    "import numpy as np\n",
    "import pandas as pd\n",
    "import seaborn as sns\n",
    "import matplotlib.pyplot as plt\n",
    "import regex\n",
    "import nltk\n",
    "\n",
    "# These are all the imports needed for the assignment\n",
    "%matplotlib inline\n",
    "\n",
    "#from nltk.tokenize import word_tokenize\n",
    "#from nltk.corpus import stopwords\n",
    "\n",
    "import warnings\n",
    "warnings.filterwarnings('ignore')"
   ]
  },
  {
   "cell_type": "code",
   "execution_count": 4,
   "metadata": {},
   "outputs": [],
   "source": [
    "columns = ['marketplace', 'customer_id', 'review_id', 'product_id', 'product_parent', 'product_title', 'product_category', 'star_rating', 'helpful_votes', 'total_votes', 'vine', 'verified_purchase', 'review_headline', 'review_body', 'review_date']"
   ]
  },
  {
   "cell_type": "markdown",
   "metadata": {},
   "source": [
    "- \"C:/Users/19495/Downloads/amazon_reviews_us_Toys_v1_00.tsv.gz\"\n",
    "\n",
    "- names = columns because this allows is to focus on only the attributes we care about\n",
    "\n",
    "- sep = '\\t' since this is a tsv file, this informs program to separate based on tabs, not commas\n",
    "\n",
    "- check that on_bad_lines arg is not removing valid things!\n",
    "\n",
    "- **take out first line! because there is a restatement of the column names so string**"
   ]
  },
  {
   "cell_type": "code",
   "execution_count": 7,
   "metadata": {},
   "outputs": [],
   "source": [
    "# initializing empty dataframes for testing and training data\n",
    "training_data = pd.DataFrame()\n",
    "testing_data = pd.DataFrame()\n",
    "# on_bad_lines = 'skip' does not seem to work\n",
    "one_file = pd.read_csv(\"C:/Users/19495/Downloads/amazon_reviews_us_Electronics_v1_00.tsv.gz\", names =  columns, sep = '\\t').iloc[1:,:]"
   ]
  },
  {
   "cell_type": "code",
   "execution_count": 9,
   "metadata": {},
   "outputs": [],
   "source": [
    "# when loading in tsv files, to decide btwn dask and pyspark, try downloading 6 or 7 tsv files, save them in a folder\n",
    "# and from that folder try to download in and into one large df\n",
    "# sentiment work, try with one file and try to do same thing w multiple files --> less rows of data "
   ]
  }
 ],
 "metadata": {
  "kernelspec": {
   "display_name": "Python 3",
   "language": "python",
   "name": "python3"
  },
  "language_info": {
   "codemirror_mode": {
    "name": "ipython",
    "version": 3
   },
   "file_extension": ".py",
   "mimetype": "text/x-python",
   "name": "python",
   "nbconvert_exporter": "python",
   "pygments_lexer": "ipython3",
   "version": "3.7.6"
  }
 },
 "nbformat": 4,
 "nbformat_minor": 4
}
