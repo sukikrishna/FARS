{
 "cells": [
  {
   "cell_type": "code",
   "execution_count": 1,
   "id": "0d7b80b9",
   "metadata": {},
   "outputs": [],
   "source": [
    "# import libraries\n",
    "\n",
    "'''\n",
    "import boto3, re, sys, math, json, os, sagemaker, urllib.request\n",
    "from sagemaker import get_execution_role\n",
    "from IPython.display import Image\n",
    "from IPython.display import display\n",
    "from time import gmtime, strftime\n",
    "from sagemaker.predictor import csv_serializer\n",
    "'''\n",
    "\n",
    "import numpy as np\n",
    "import pandas as pd\n",
    "\n",
    "import seaborn as sns\n",
    "import matplotlib.pyplot as plt\n",
    "\n",
    "# These are all the imports needed for the assignment\n",
    "%matplotlib inline\n",
    "\n",
    "# Import nltk package (Natural Language Toolkit)\n",
    "import nltk\n",
    "from nltk.tokenize import word_tokenize\n",
    "from nltk.corpus import stopwords\n",
    "\n",
    "import warnings\n",
    "warnings.filterwarnings('ignore')\n",
    "\n",
    "# scikit-learn imports\n",
    "from sklearn.model_selection import train_test_split\n",
    "from sklearn.svm import SVC\n",
    "from sklearn.feature_extraction.text import CountVectorizer, TfidfVectorizer\n",
    "from sklearn.metrics import classification_report, precision_recall_fscore_support"
   ]
  },
  {
   "cell_type": "code",
   "execution_count": 2,
   "id": "f56c9e1e",
   "metadata": {},
   "outputs": [],
   "source": [
    "import pyspark"
   ]
  },
  {
   "cell_type": "code",
   "execution_count": 3,
   "id": "583bbdac",
   "metadata": {},
   "outputs": [],
   "source": [
    "import dask.dataframe as dd"
   ]
  },
  {
   "cell_type": "code",
   "execution_count": 4,
   "id": "c9e033a3",
   "metadata": {},
   "outputs": [
    {
     "name": "stderr",
     "output_type": "stream",
     "text": [
      "[nltk_data] Downloading package punkt to\n",
      "[nltk_data]     C:\\Users\\sukan\\AppData\\Roaming\\nltk_data...\n",
      "[nltk_data]   Package punkt is already up-to-date!\n",
      "[nltk_data] Downloading package stopwords to\n",
      "[nltk_data]     C:\\Users\\sukan\\AppData\\Roaming\\nltk_data...\n",
      "[nltk_data]   Package stopwords is already up-to-date!\n"
     ]
    },
    {
     "data": {
      "text/plain": [
       "True"
      ]
     },
     "execution_count": 4,
     "metadata": {},
     "output_type": "execute_result"
    }
   ],
   "source": [
    "# Download the NLTK English tokenizer and the stopwords of all languages\n",
    "nltk.download('punkt')\n",
    "nltk.download('stopwords')"
   ]
  },
  {
   "cell_type": "markdown",
   "id": "570275cd",
   "metadata": {},
   "source": [
    "client = boto3.client(\n",
    "    's3',\n",
    "    aws_access_key_id = 'sukiK@2002',\n",
    "    aws_secret_access_key = 'sukik',\n",
    "    region_name = 'ap-west-1'\n",
    ")"
   ]
  },
  {
   "cell_type": "code",
   "execution_count": 5,
   "id": "186de7ec",
   "metadata": {},
   "outputs": [],
   "source": [
    "files = ['amazon_reviews_us_Electronics_v1_00.tsv', \\\n",
    "         'amazon_reviews_us_Gift_Card_v1_00.tsv', \\\n",
    "         'amazon_reviews_us_Major_Appliances_v1_00.tsv', \\\n",
    "         'amazon_reviews_us_Office_Products_v1_00.tsv', \\\n",
    "         'amazon_reviews_us_Shoes_v1_00.tsv', \\\n",
    "         'amazon_reviews_us_Toys_v1_00.tsv', \\\n",
    "         'amazon_reviews_us_Watches_v1_00.tsv']"
   ]
  },
  {
   "cell_type": "code",
   "execution_count": 6,
   "id": "b562d96c",
   "metadata": {},
   "outputs": [],
   "source": [
    "pd.set_option('display.max_columns', None)\n",
    "pd.set_option('display.max_rows', None)\n",
    "pd.set_option('display.max_colwidth', None)"
   ]
  },
  {
   "cell_type": "code",
   "execution_count": 7,
   "id": "5ce5bd35",
   "metadata": {},
   "outputs": [],
   "source": [
    "columns = ['marketplace', 'customer_id', 'review_id', 'product_id', 'product_parent', 'product_title', 'product_category', \\\n",
    "           'star_rating', 'helpful_votes', 'total_votes', 'vine', 'verified_purchase', 'review_headline', 'review_body', 'review_date']\n",
    "elec_df = pd.read_csv('fars_data/' + files[0], names = columns, sep = '\\t').iloc[1:,:]\n",
    "elec_df = elec_df.sample(n = 20000)"
   ]
  },
  {
   "cell_type": "markdown",
   "id": "bed5d9a6",
   "metadata": {},
   "source": [
    "columns = ['marketplace', 'customer_id', 'review_id', 'product_id', 'product_parent', 'product_title', 'product_category', 'star_rating', 'helpful_votes', 'total_votes', 'vine', 'verified_purchase', 'review_headline', 'review_body', 'review_date']\n",
    "len(columns)"
   ]
  },
  {
   "cell_type": "markdown",
   "id": "82161029",
   "metadata": {},
   "source": [
    "one_file = pd.read_csv('fars_data/' + files[0], names = columns, sep = '\\t').iloc[1:,:]\n",
    "one_file.head()"
   ]
  },
  {
   "cell_type": "markdown",
   "id": "28f3dfe8",
   "metadata": {},
   "source": [
    "one_file.shape[0]+1"
   ]
  },
  {
   "cell_type": "code",
   "execution_count": 8,
   "id": "ccc88e07",
   "metadata": {},
   "outputs": [],
   "source": [
    "one_file = elec_df"
   ]
  },
  {
   "cell_type": "code",
   "execution_count": 9,
   "id": "eea30942",
   "metadata": {},
   "outputs": [],
   "source": [
    "def df_sampling(df):\n",
    "    # Since we know that there are more unverified than verified --> we sample based on that\n",
    "    \n",
    "    # Since there are no data values in 'verified_purchase' columns that deviate from 'Y' or 'N' we proceed\n",
    "    verified_count_df = df[df['verified_purchase'] == 'Y']\n",
    "    unverified_count_df = df[df['verified_purchase'] == 'N']\n",
    "    \n",
    "    print(\"Number of verified purchases:\", len(verified_count_df))\n",
    "    print(\"Number of unverified purchases:\", len(unverified_count_df))\n",
    "    \n",
    "    sample_len = len(unverified_count_df)\n",
    "    \n",
    "    verified_sample_df = verified_count_df.sample(n = sample_len)\n",
    "    unified_df = pd.concat([unverified_count_df, verified_sample_df])\n",
    "    \n",
    "    print(\"Number of verified purchases (balanced dataset):\", len(unified_df[unified_df['verified_purchase'] == 'Y']))\n",
    "    print(\"Number of unverified purchases (balanced dataset):\", len(unified_df[unified_df['verified_purchase'] == 'N']))\n",
    "    \n",
    "    return unified_df"
   ]
  },
  {
   "cell_type": "markdown",
   "id": "b256e18c",
   "metadata": {},
   "source": [
    "#test.rename(columns=test.iloc[0])\n",
    "training_data = pd.DataFrame() #initialize an empty dataframe\n",
    "testing_data = pd.DataFrame()\n",
    "\n",
    "one_file = pd.read_csv(data_location + files[1], names = columns, sep = '\\t').iloc[1:,:]"
   ]
  },
  {
   "cell_type": "code",
   "execution_count": 10,
   "id": "2daff1f2",
   "metadata": {},
   "outputs": [
    {
     "data": {
      "text/plain": [
       "(20000, 15)"
      ]
     },
     "execution_count": 10,
     "metadata": {},
     "output_type": "execute_result"
    }
   ],
   "source": [
    "one_file.shape"
   ]
  },
  {
   "cell_type": "code",
   "execution_count": 11,
   "id": "d65d6c41",
   "metadata": {},
   "outputs": [
    {
     "name": "stdout",
     "output_type": "stream",
     "text": [
      "Number of verified purchases: 18031\n",
      "Number of unverified purchases: 1969\n",
      "Number of verified purchases (balanced dataset): 1969\n",
      "Number of unverified purchases (balanced dataset): 1969\n"
     ]
    },
    {
     "data": {
      "text/html": [
       "<div>\n",
       "<style scoped>\n",
       "    .dataframe tbody tr th:only-of-type {\n",
       "        vertical-align: middle;\n",
       "    }\n",
       "\n",
       "    .dataframe tbody tr th {\n",
       "        vertical-align: top;\n",
       "    }\n",
       "\n",
       "    .dataframe thead th {\n",
       "        text-align: right;\n",
       "    }\n",
       "</style>\n",
       "<table border=\"1\" class=\"dataframe\">\n",
       "  <thead>\n",
       "    <tr style=\"text-align: right;\">\n",
       "      <th></th>\n",
       "      <th>marketplace</th>\n",
       "      <th>customer_id</th>\n",
       "      <th>review_id</th>\n",
       "      <th>product_id</th>\n",
       "      <th>product_parent</th>\n",
       "      <th>product_title</th>\n",
       "      <th>product_category</th>\n",
       "      <th>star_rating</th>\n",
       "      <th>helpful_votes</th>\n",
       "      <th>total_votes</th>\n",
       "      <th>vine</th>\n",
       "      <th>verified_purchase</th>\n",
       "      <th>review_headline</th>\n",
       "      <th>review_body</th>\n",
       "      <th>review_date</th>\n",
       "    </tr>\n",
       "  </thead>\n",
       "  <tbody>\n",
       "    <tr>\n",
       "      <th>931083</th>\n",
       "      <td>US</td>\n",
       "      <td>16628610</td>\n",
       "      <td>R1WV32MG7A6ILD</td>\n",
       "      <td>B0000DHVOO</td>\n",
       "      <td>355100210</td>\n",
       "      <td>Crosley Solo Radio</td>\n",
       "      <td>Electronics</td>\n",
       "      <td>5</td>\n",
       "      <td>2</td>\n",
       "      <td>2</td>\n",
       "      <td>N</td>\n",
       "      <td>N</td>\n",
       "      <td>It's got fantastic sound quality and construction</td>\n",
       "      <td>I've had this radio for several years. It's got fantastic sound quality and construction. I lost the antenna at some point during one of my moves, but it still works great at tuning radio stations without it. Cable hooks up to my ipod/phone/computer sound jack.</td>\n",
       "      <td>2014-11-25</td>\n",
       "    </tr>\n",
       "    <tr>\n",
       "      <th>1188044</th>\n",
       "      <td>US</td>\n",
       "      <td>44092743</td>\n",
       "      <td>R1PUA20HJCEKB4</td>\n",
       "      <td>B003XM9774</td>\n",
       "      <td>508552334</td>\n",
       "      <td>HDMI-High-Speed</td>\n",
       "      <td>Electronics</td>\n",
       "      <td>5</td>\n",
       "      <td>0</td>\n",
       "      <td>0</td>\n",
       "      <td>N</td>\n",
       "      <td>N</td>\n",
       "      <td>5 Star HDMI</td>\n",
       "      <td>Perfect cable that will not break. I am about to buy another one for my upstairs TV.</td>\n",
       "      <td>2014-08-17</td>\n",
       "    </tr>\n",
       "    <tr>\n",
       "      <th>1128381</th>\n",
       "      <td>US</td>\n",
       "      <td>42999527</td>\n",
       "      <td>R25EF5EHDJRVJ7</td>\n",
       "      <td>B00MX37P64</td>\n",
       "      <td>83189676</td>\n",
       "      <td>ALL NEW 2015®[PREMIUM] 6FT AUX HQ-CONCRETE Series [Liquid Black] - 3.5mm [6 Foot] for Apple iPhone, Andriod, Tablet, iPad, iPod, MP3 Player, Samsung Galaxy Note (For All 3.5mm Enabled devices) Male To Male - Aux Auxiliary Stereo Car Jack Cable</td>\n",
       "      <td>Electronics</td>\n",
       "      <td>5</td>\n",
       "      <td>1</td>\n",
       "      <td>1</td>\n",
       "      <td>N</td>\n",
       "      <td>N</td>\n",
       "      <td>Affordable premium cable</td>\n",
       "      <td>Bought this to plug into my Bose speaker and the sound quality is as promised. The cord material seems very strong. It's also a pretty good looking cord.</td>\n",
       "      <td>2014-09-09</td>\n",
       "    </tr>\n",
       "    <tr>\n",
       "      <th>490933</th>\n",
       "      <td>US</td>\n",
       "      <td>1010350</td>\n",
       "      <td>R2PRXHO678DLT5</td>\n",
       "      <td>B00SWDHUXW</td>\n",
       "      <td>25324900</td>\n",
       "      <td>Status Audio HD One Headphones - Noise isolating. Matte finish. Foldable. 2 cables. Mic.</td>\n",
       "      <td>Electronics</td>\n",
       "      <td>5</td>\n",
       "      <td>0</td>\n",
       "      <td>0</td>\n",
       "      <td>N</td>\n",
       "      <td>N</td>\n",
       "      <td>Awesome!!!</td>\n",
       "      <td>The best headphones for the money period!!!!</td>\n",
       "      <td>2015-03-26</td>\n",
       "    </tr>\n",
       "    <tr>\n",
       "      <th>1081221</th>\n",
       "      <td>US</td>\n",
       "      <td>26040979</td>\n",
       "      <td>R2NLQWSD9ORV57</td>\n",
       "      <td>B0051GOC3Y</td>\n",
       "      <td>214887992</td>\n",
       "      <td>Sony NWZ-B162F Flash MP3 Player (2GB) - Green</td>\n",
       "      <td>Electronics</td>\n",
       "      <td>5</td>\n",
       "      <td>0</td>\n",
       "      <td>0</td>\n",
       "      <td>N</td>\n",
       "      <td>N</td>\n",
       "      <td>Five Stars</td>\n",
       "      <td>prodcuto excellent, very happy and satisfied with the purchase</td>\n",
       "      <td>2014-09-27</td>\n",
       "    </tr>\n",
       "  </tbody>\n",
       "</table>\n",
       "</div>"
      ],
      "text/plain": [
       "        marketplace  customer_id       review_id  product_id  product_parent  \\\n",
       "931083           US     16628610  R1WV32MG7A6ILD  B0000DHVOO       355100210   \n",
       "1188044          US     44092743  R1PUA20HJCEKB4  B003XM9774       508552334   \n",
       "1128381          US     42999527  R25EF5EHDJRVJ7  B00MX37P64        83189676   \n",
       "490933           US      1010350  R2PRXHO678DLT5  B00SWDHUXW        25324900   \n",
       "1081221          US     26040979  R2NLQWSD9ORV57  B0051GOC3Y       214887992   \n",
       "\n",
       "                                                                                                                                                                                                                                               product_title  \\\n",
       "931083                                                                                                                                                                                                                                    Crosley Solo Radio   \n",
       "1188044                                                                                                                                                                                                                                      HDMI-High-Speed   \n",
       "1128381  ALL NEW 2015®[PREMIUM] 6FT AUX HQ-CONCRETE Series [Liquid Black] - 3.5mm [6 Foot] for Apple iPhone, Andriod, Tablet, iPad, iPod, MP3 Player, Samsung Galaxy Note (For All 3.5mm Enabled devices) Male To Male - Aux Auxiliary Stereo Car Jack Cable   \n",
       "490933                                                                                                                                                              Status Audio HD One Headphones - Noise isolating. Matte finish. Foldable. 2 cables. Mic.   \n",
       "1081221                                                                                                                                                                                                        Sony NWZ-B162F Flash MP3 Player (2GB) - Green   \n",
       "\n",
       "        product_category  star_rating  helpful_votes  total_votes vine  \\\n",
       "931083       Electronics            5              2            2    N   \n",
       "1188044      Electronics            5              0            0    N   \n",
       "1128381      Electronics            5              1            1    N   \n",
       "490933       Electronics            5              0            0    N   \n",
       "1081221      Electronics            5              0            0    N   \n",
       "\n",
       "        verified_purchase                                    review_headline  \\\n",
       "931083                  N  It's got fantastic sound quality and construction   \n",
       "1188044                 N                                        5 Star HDMI   \n",
       "1128381                 N                           Affordable premium cable   \n",
       "490933                  N                                         Awesome!!!   \n",
       "1081221                 N                                         Five Stars   \n",
       "\n",
       "                                                                                                                                                                                                                                                                   review_body  \\\n",
       "931083   I've had this radio for several years. It's got fantastic sound quality and construction. I lost the antenna at some point during one of my moves, but it still works great at tuning radio stations without it. Cable hooks up to my ipod/phone/computer sound jack.   \n",
       "1188044                                                                                                                                                                                   Perfect cable that will not break. I am about to buy another one for my upstairs TV.   \n",
       "1128381                                                                                                              Bought this to plug into my Bose speaker and the sound quality is as promised. The cord material seems very strong. It's also a pretty good looking cord.   \n",
       "490933                                                                                                                                                                                                                            The best headphones for the money period!!!!   \n",
       "1081221                                                                                                                                                                                                         prodcuto excellent, very happy and satisfied with the purchase   \n",
       "\n",
       "        review_date  \n",
       "931083   2014-11-25  \n",
       "1188044  2014-08-17  \n",
       "1128381  2014-09-09  \n",
       "490933   2015-03-26  \n",
       "1081221  2014-09-27  "
      ]
     },
     "metadata": {},
     "output_type": "display_data"
    }
   ],
   "source": [
    "balanced_elec = df_sampling(one_file)\n",
    "display(balanced_elec.head())"
   ]
  },
  {
   "cell_type": "code",
   "execution_count": 12,
   "id": "e93e7457",
   "metadata": {},
   "outputs": [],
   "source": [
    "def convert_to_int(x):\n",
    "    return int(float(x))"
   ]
  },
  {
   "cell_type": "code",
   "execution_count": 13,
   "id": "340f059e",
   "metadata": {},
   "outputs": [],
   "source": [
    "#convert all mixed datatypes --> string objects (unable to convert to int)\n",
    "one_file['customer_id'] = one_file['customer_id'].apply(int) #1\n",
    "one_file['product_parent'] = one_file['product_parent'].apply(int) #4\n",
    "one_file['star_rating'] = one_file['star_rating'].apply(int) #7\n",
    "one_file['helpful_votes'] = one_file['helpful_votes'].apply(int) #8\n",
    "one_file['total_votes'] = one_file['total_votes'].apply(int) #9"
   ]
  },
  {
   "cell_type": "markdown",
   "id": "90e818f4",
   "metadata": {},
   "source": [
    "one_file.isnull().sum().sort_values(ascending=False)"
   ]
  },
  {
   "cell_type": "markdown",
   "id": "e6ce4772",
   "metadata": {},
   "source": [
    "one_file.dropna(inplace=True) #drop all of the missing values\n",
    "one_file.isnull().sum().sort_values(ascending=False)"
   ]
  },
  {
   "cell_type": "code",
   "execution_count": 14,
   "id": "86870ec0",
   "metadata": {},
   "outputs": [
    {
     "data": {
      "text/html": [
       "<div>\n",
       "<style scoped>\n",
       "    .dataframe tbody tr th:only-of-type {\n",
       "        vertical-align: middle;\n",
       "    }\n",
       "\n",
       "    .dataframe tbody tr th {\n",
       "        vertical-align: top;\n",
       "    }\n",
       "\n",
       "    .dataframe thead th {\n",
       "        text-align: right;\n",
       "    }\n",
       "</style>\n",
       "<table border=\"1\" class=\"dataframe\">\n",
       "  <thead>\n",
       "    <tr style=\"text-align: right;\">\n",
       "      <th></th>\n",
       "      <th>marketplace</th>\n",
       "      <th>customer_id</th>\n",
       "      <th>review_id</th>\n",
       "      <th>product_id</th>\n",
       "      <th>product_parent</th>\n",
       "      <th>product_title</th>\n",
       "      <th>product_category</th>\n",
       "      <th>star_rating</th>\n",
       "      <th>helpful_votes</th>\n",
       "      <th>total_votes</th>\n",
       "      <th>vine</th>\n",
       "      <th>verified_purchase</th>\n",
       "      <th>review_headline</th>\n",
       "      <th>review_body</th>\n",
       "      <th>review_date</th>\n",
       "    </tr>\n",
       "  </thead>\n",
       "  <tbody>\n",
       "    <tr>\n",
       "      <th>884958</th>\n",
       "      <td>US</td>\n",
       "      <td>18117238</td>\n",
       "      <td>R2HAH32AF7863Q</td>\n",
       "      <td>B00I6N0TH2</td>\n",
       "      <td>627742809</td>\n",
       "      <td>House of Marley Chant Drift Earbud Headphones</td>\n",
       "      <td>Electronics</td>\n",
       "      <td>5</td>\n",
       "      <td>0</td>\n",
       "      <td>0</td>\n",
       "      <td>N</td>\n",
       "      <td>Y</td>\n",
       "      <td>Great value and look!</td>\n",
       "      <td>Great earbuds with a great sound. You can not buy a better looking earbud with this quality of sound for less.</td>\n",
       "      <td>2014-12-10</td>\n",
       "    </tr>\n",
       "    <tr>\n",
       "      <th>612788</th>\n",
       "      <td>US</td>\n",
       "      <td>26686997</td>\n",
       "      <td>R3LHRS6FP2GZR9</td>\n",
       "      <td>B003ZKBWAY</td>\n",
       "      <td>198367226</td>\n",
       "      <td>Nintendo 64 AC Adapter (Power Supply)</td>\n",
       "      <td>Electronics</td>\n",
       "      <td>4</td>\n",
       "      <td>0</td>\n",
       "      <td>0</td>\n",
       "      <td>N</td>\n",
       "      <td>Y</td>\n",
       "      <td>Works great.</td>\n",
       "      <td>This is an aftermarket power supply, but fits fine and powers the system with no issues. One thing that would be nice is a longer cord.</td>\n",
       "      <td>2015-02-21</td>\n",
       "    </tr>\n",
       "    <tr>\n",
       "      <th>995823</th>\n",
       "      <td>US</td>\n",
       "      <td>24454643</td>\n",
       "      <td>RP9B5AN2JTPB2</td>\n",
       "      <td>B00GZC35YK</td>\n",
       "      <td>303943466</td>\n",
       "      <td>Anker Classic Portable Wireless Bluetooth Speaker, Powerful Sound with Enhanced Bass, 20 Hour Battery Life, and Built-in Mic, works with iPhone, iPad,Nexus, Laptops and More</td>\n",
       "      <td>Electronics</td>\n",
       "      <td>5</td>\n",
       "      <td>0</td>\n",
       "      <td>0</td>\n",
       "      <td>N</td>\n",
       "      <td>Y</td>\n",
       "      <td>Worth every penny</td>\n",
       "      <td>Use it everyday. I drive for a living and the vehicle provided to me doesn't come with a radio. So this is my radio, blue toothed to my I-phone. Some days I use it for 12hrs+ on the same battery life and it doesn't die on me, which is nice. I also like how it is shaped in a cube so it doesn't roll around on the dash while I am driving. Even though the music is provided through my phone it doesn't drain battery life on my phone very much. The only thing I would change is to add another button to the device to change to next and previous songs. It gets annoying if I am already using my phone for something and then have to change/close apps to my music app just to change songs</td>\n",
       "      <td>2014-10-31</td>\n",
       "    </tr>\n",
       "    <tr>\n",
       "      <th>317978</th>\n",
       "      <td>US</td>\n",
       "      <td>52413157</td>\n",
       "      <td>R17QMT4MWLMRDP</td>\n",
       "      <td>B004YEBK66</td>\n",
       "      <td>32110033</td>\n",
       "      <td>Mediabridge - 3.5mm Male To (2) RCA Stereo Audio Cable- Step Down Design accommodates iPhone, iTouch, SmartPhones &amp; MP3 cases</td>\n",
       "      <td>Electronics</td>\n",
       "      <td>5</td>\n",
       "      <td>0</td>\n",
       "      <td>0</td>\n",
       "      <td>N</td>\n",
       "      <td>Y</td>\n",
       "      <td>Pricey but worth it</td>\n",
       "      <td>I ususally buy Mediabridge cables.  They are not the least expensive but are consistently high quality.  These did not disappoint!</td>\n",
       "      <td>2015-05-23</td>\n",
       "    </tr>\n",
       "    <tr>\n",
       "      <th>963613</th>\n",
       "      <td>US</td>\n",
       "      <td>48185535</td>\n",
       "      <td>RP18JKON8WQQN</td>\n",
       "      <td>B004LZ5XMU</td>\n",
       "      <td>596015880</td>\n",
       "      <td>Accell D080B-026K Power Squid Outlet Multiplier with 5 Power Outlets</td>\n",
       "      <td>Electronics</td>\n",
       "      <td>5</td>\n",
       "      <td>0</td>\n",
       "      <td>0</td>\n",
       "      <td>N</td>\n",
       "      <td>Y</td>\n",
       "      <td>Five Stars</td>\n",
       "      <td>great</td>\n",
       "      <td>2014-11-14</td>\n",
       "    </tr>\n",
       "  </tbody>\n",
       "</table>\n",
       "</div>"
      ],
      "text/plain": [
       "       marketplace  customer_id       review_id  product_id  product_parent  \\\n",
       "884958          US     18117238  R2HAH32AF7863Q  B00I6N0TH2       627742809   \n",
       "612788          US     26686997  R3LHRS6FP2GZR9  B003ZKBWAY       198367226   \n",
       "995823          US     24454643   RP9B5AN2JTPB2  B00GZC35YK       303943466   \n",
       "317978          US     52413157  R17QMT4MWLMRDP  B004YEBK66        32110033   \n",
       "963613          US     48185535   RP18JKON8WQQN  B004LZ5XMU       596015880   \n",
       "\n",
       "                                                                                                                                                                        product_title  \\\n",
       "884958                                                                                                                                  House of Marley Chant Drift Earbud Headphones   \n",
       "612788                                                                                                                                          Nintendo 64 AC Adapter (Power Supply)   \n",
       "995823  Anker Classic Portable Wireless Bluetooth Speaker, Powerful Sound with Enhanced Bass, 20 Hour Battery Life, and Built-in Mic, works with iPhone, iPad,Nexus, Laptops and More   \n",
       "317978                                                  Mediabridge - 3.5mm Male To (2) RCA Stereo Audio Cable- Step Down Design accommodates iPhone, iTouch, SmartPhones & MP3 cases   \n",
       "963613                                                                                                           Accell D080B-026K Power Squid Outlet Multiplier with 5 Power Outlets   \n",
       "\n",
       "       product_category  star_rating  helpful_votes  total_votes vine  \\\n",
       "884958      Electronics            5              0            0    N   \n",
       "612788      Electronics            4              0            0    N   \n",
       "995823      Electronics            5              0            0    N   \n",
       "317978      Electronics            5              0            0    N   \n",
       "963613      Electronics            5              0            0    N   \n",
       "\n",
       "       verified_purchase        review_headline  \\\n",
       "884958                 Y  Great value and look!   \n",
       "612788                 Y           Works great.   \n",
       "995823                 Y      Worth every penny   \n",
       "317978                 Y    Pricey but worth it   \n",
       "963613                 Y             Five Stars   \n",
       "\n",
       "                                                                                                                                                                                                                                                                                                                                                                                                                                                                                                                                                                                                                                                                                                       review_body  \\\n",
       "884958                                                                                                                                                                                                                                                                                                                                                                                                                                                                                                                                                                                              Great earbuds with a great sound. You can not buy a better looking earbud with this quality of sound for less.   \n",
       "612788                                                                                                                                                                                                                                                                                                                                                                                                                                                                                                                                                                     This is an aftermarket power supply, but fits fine and powers the system with no issues. One thing that would be nice is a longer cord.   \n",
       "995823  Use it everyday. I drive for a living and the vehicle provided to me doesn't come with a radio. So this is my radio, blue toothed to my I-phone. Some days I use it for 12hrs+ on the same battery life and it doesn't die on me, which is nice. I also like how it is shaped in a cube so it doesn't roll around on the dash while I am driving. Even though the music is provided through my phone it doesn't drain battery life on my phone very much. The only thing I would change is to add another button to the device to change to next and previous songs. It gets annoying if I am already using my phone for something and then have to change/close apps to my music app just to change songs   \n",
       "317978                                                                                                                                                                                                                                                                                                                                                                                                                                                                                                                                                                          I ususally buy Mediabridge cables.  They are not the least expensive but are consistently high quality.  These did not disappoint!   \n",
       "963613                                                                                                                                                                                                                                                                                                                                                                                                                                                                                                                                                                                                                                                                                                       great   \n",
       "\n",
       "       review_date  \n",
       "884958  2014-12-10  \n",
       "612788  2015-02-21  \n",
       "995823  2014-10-31  \n",
       "317978  2015-05-23  \n",
       "963613  2014-11-14  "
      ]
     },
     "execution_count": 14,
     "metadata": {},
     "output_type": "execute_result"
    }
   ],
   "source": [
    "#there may be tabs in the review that is what is leading to the excluded cases when converting to df\n",
    "\n",
    "'''\n",
    "train_data['verified_purchase'].value_counts()\n",
    "test_data['verified_purchase'].value_counts()\n",
    "'''\n",
    "\n",
    "one_file.head()"
   ]
  },
  {
   "cell_type": "markdown",
   "id": "bbf76629",
   "metadata": {},
   "source": [
    "#to check te datatypes within each column\n",
    "\n",
    "print(train_data.applymap(type))\n",
    "data_types = train_data.applymap(type)"
   ]
  },
  {
   "cell_type": "code",
   "execution_count": 15,
   "id": "1a6b44c7",
   "metadata": {
    "scrolled": true
   },
   "outputs": [
    {
     "data": {
      "text/plain": [
       "1    19669\n",
       "2      153\n",
       "3        5\n",
       "4        1\n",
       "6        1\n",
       "Name: marketplace, dtype: int64"
      ]
     },
     "execution_count": 15,
     "metadata": {},
     "output_type": "execute_result"
    }
   ],
   "source": [
    "#the number of customers that gave multiple reviews\n",
    "#may be valueable to investigate\n",
    "one_file.groupby('customer_id').count()['marketplace'].sort_values(ascending = False).value_counts()"
   ]
  },
  {
   "cell_type": "code",
   "execution_count": 16,
   "id": "be5a15b0",
   "metadata": {},
   "outputs": [
    {
     "data": {
      "text/plain": [
       "5    12230\n",
       "4     3101\n",
       "1     2146\n",
       "3     1445\n",
       "2     1078\n",
       "Name: star_rating, dtype: int64"
      ]
     },
     "execution_count": 16,
     "metadata": {},
     "output_type": "execute_result"
    }
   ],
   "source": [
    "one_file['star_rating'].value_counts()"
   ]
  },
  {
   "cell_type": "markdown",
   "id": "6777f68d",
   "metadata": {},
   "source": [
    "Data Cleaning"
   ]
  },
  {
   "cell_type": "code",
   "execution_count": 17,
   "id": "d4ed9ee4",
   "metadata": {},
   "outputs": [
    {
     "name": "stderr",
     "output_type": "stream",
     "text": [
      "[nltk_data] Downloading package stopwords to\n",
      "[nltk_data]     C:\\Users\\sukan\\AppData\\Roaming\\nltk_data...\n",
      "[nltk_data]   Package stopwords is already up-to-date!\n",
      "[nltk_data] Downloading package wordnet to\n",
      "[nltk_data]     C:\\Users\\sukan\\AppData\\Roaming\\nltk_data...\n",
      "[nltk_data]   Package wordnet is already up-to-date!\n"
     ]
    }
   ],
   "source": [
    "# Import re for text cleaning purposes\n",
    "import re\n",
    "\n",
    "import nltk.corpus\n",
    "nltk.download('stopwords')\n",
    "from nltk.corpus import stopwords\n",
    "\n",
    "from nltk.stem.porter import PorterStemmer\n",
    "nltk.download('wordnet')\n",
    "from nltk.stem import WordNetLemmatizer"
   ]
  },
  {
   "cell_type": "code",
   "execution_count": 20,
   "id": "2cf2c653",
   "metadata": {},
   "outputs": [],
   "source": [
    "def df_cleaning(df):\n",
    "    # Drop rows with na values\n",
    "    df.dropna(inplace = True)\n",
    "    \n",
    "    df['new_review_body'] = df['review_body'].copy()\n",
    "    \n",
    "    # Remove unwanted formatting characters\n",
    "    format_strs = dict.fromkeys(['<br /><br />', '&#34', 'br', '&quot', '<br />'], ' ')\n",
    "    for key in format_strs:\n",
    "        df['new_review_body'] = df['new_review_body'].apply(lambda review: review.replace(key, format_strs[key]))\n",
    "    # removing quotes produces smthg like this --> 'The product has great ;sound; --> we must remove punctuation\n",
    "\n",
    "    \n",
    "    # Case normalization (lower case)\n",
    "    df['new_review_body'] = df['new_review_body'].str.lower()\n",
    "    \n",
    "    remove_dict = {\"0\": \"\", \"1\": \"\", \"2\": \"\", \"3\": \"\", \"4\": \"\", \"5\": \"\", \"6\": \"\", \"7\": \"\", \"8\": \"\", \"9\": \"\",\n",
    "                   \"(\": \"\", \")\":\"\"}\n",
    "    for key, val in remove_dict.items():\n",
    "        df['new_review_body'] = df['new_review_body'].apply(\n",
    "            lambda x: x.replace(key, val))\n",
    "        \n",
    "    # Remove stopwords\n",
    "    stop_lst = stopwords.words('english')\n",
    "    #stop_lst += ([\"can't\", \"i'm\" \"i'd\", \"i've\", \"i'll\", \"that's\", \"there's\", \"they're\"])\n",
    "    # ****Do we not have to take stopwords out BEFORE removing punctuation? Otherwise words with punct like “cant” remains there\n",
    "    df['new_review_body'] = df['new_review_body'].apply(lambda text_body: \" \".join([word for word in text_body.split() if word not in (stop_lst)]))\n",
    "    \n",
    "    # Removing Unicode Chars (punctuation, URL, @)\n",
    "    df['new_review_body'] = df['new_review_body'].apply(lambda rev: re.sub(r\"(@\\[A-Za-z0-9]+)|([^0-9A-Za-z \\t])|(\\w+:\\/\\/\\S+)|^rt|http.+?\", \"\", rev))\n",
    "    \n",
    "    # Lemmatization\n",
    "    word_lemmatizer = WordNetLemmatizer()\n",
    "    df['new_review_body'] = df['new_review_body'].apply(lambda txt: \" \".join([(word_lemmatizer.lemmatize(word)) for word in txt.split()]))\n",
    "    \n",
    "    return df"
   ]
  },
  {
   "cell_type": "markdown",
   "id": "12502ab7",
   "metadata": {},
   "source": [
    "cleaned = df_cleaning(one_file)"
   ]
  },
  {
   "cell_type": "code",
   "execution_count": 21,
   "id": "39bc163e",
   "metadata": {},
   "outputs": [],
   "source": [
    "cleaned2 = df_cleaning(one_file)"
   ]
  },
  {
   "cell_type": "code",
   "execution_count": 34,
   "id": "3b78be8e",
   "metadata": {},
   "outputs": [
    {
     "data": {
      "text/html": [
       "<div>\n",
       "<style scoped>\n",
       "    .dataframe tbody tr th:only-of-type {\n",
       "        vertical-align: middle;\n",
       "    }\n",
       "\n",
       "    .dataframe tbody tr th {\n",
       "        vertical-align: top;\n",
       "    }\n",
       "\n",
       "    .dataframe thead th {\n",
       "        text-align: right;\n",
       "    }\n",
       "</style>\n",
       "<table border=\"1\" class=\"dataframe\">\n",
       "  <thead>\n",
       "    <tr style=\"text-align: right;\">\n",
       "      <th></th>\n",
       "      <th>review_body</th>\n",
       "      <th>new_review_body</th>\n",
       "    </tr>\n",
       "  </thead>\n",
       "  <tbody>\n",
       "    <tr>\n",
       "      <th>884958</th>\n",
       "      <td>Great earbuds with a great sound. You can not buy a better looking earbud with this quality of sound for less.</td>\n",
       "      <td>great earbuds great sound buy better looking earbud quality sound le</td>\n",
       "    </tr>\n",
       "    <tr>\n",
       "      <th>612788</th>\n",
       "      <td>This is an aftermarket power supply, but fits fine and powers the system with no issues. One thing that would be nice is a longer cord.</td>\n",
       "      <td>aftermarket power supply fit fine power system issue one thing would nice longer cord</td>\n",
       "    </tr>\n",
       "    <tr>\n",
       "      <th>995823</th>\n",
       "      <td>Use it everyday. I drive for a living and the vehicle provided to me doesn't come with a radio. So this is my radio, blue toothed to my I-phone. Some days I use it for 12hrs+ on the same battery life and it doesn't die on me, which is nice. I also like how it is shaped in a cube so it doesn't roll around on the dash while I am driving. Even though the music is provided through my phone it doesn't drain battery life on my phone very much. The only thing I would change is to add another button to the device to change to next and previous songs. It gets annoying if I am already using my phone for something and then have to change/close apps to my music app just to change songs</td>\n",
       "      <td>use everyday drive living vehicle provided come radio radio blue toothed iphone day use hr battery life die me nice also like shaped cube roll around dash driving even though music provided phone drain battery life phone much thing would change add another button device change next previous song get annoying already using phone something changeclose apps music app change song</td>\n",
       "    </tr>\n",
       "    <tr>\n",
       "      <th>317978</th>\n",
       "      <td>I ususally buy Mediabridge cables.  They are not the least expensive but are consistently high quality.  These did not disappoint!</td>\n",
       "      <td>ususally buy medium idge cable least expensive consistently high quality disappoint</td>\n",
       "    </tr>\n",
       "    <tr>\n",
       "      <th>963613</th>\n",
       "      <td>great</td>\n",
       "      <td>great</td>\n",
       "    </tr>\n",
       "  </tbody>\n",
       "</table>\n",
       "</div>"
      ],
      "text/plain": [
       "                                                                                                                                                                                                                                                                                                                                                                                                                                                                                                                                                                                                                                                                                                       review_body  \\\n",
       "884958                                                                                                                                                                                                                                                                                                                                                                                                                                                                                                                                                                                              Great earbuds with a great sound. You can not buy a better looking earbud with this quality of sound for less.   \n",
       "612788                                                                                                                                                                                                                                                                                                                                                                                                                                                                                                                                                                     This is an aftermarket power supply, but fits fine and powers the system with no issues. One thing that would be nice is a longer cord.   \n",
       "995823  Use it everyday. I drive for a living and the vehicle provided to me doesn't come with a radio. So this is my radio, blue toothed to my I-phone. Some days I use it for 12hrs+ on the same battery life and it doesn't die on me, which is nice. I also like how it is shaped in a cube so it doesn't roll around on the dash while I am driving. Even though the music is provided through my phone it doesn't drain battery life on my phone very much. The only thing I would change is to add another button to the device to change to next and previous songs. It gets annoying if I am already using my phone for something and then have to change/close apps to my music app just to change songs   \n",
       "317978                                                                                                                                                                                                                                                                                                                                                                                                                                                                                                                                                                          I ususally buy Mediabridge cables.  They are not the least expensive but are consistently high quality.  These did not disappoint!   \n",
       "963613                                                                                                                                                                                                                                                                                                                                                                                                                                                                                                                                                                                                                                                                                                       great   \n",
       "\n",
       "                                                                                                                                                                                                                                                                                                                                                                                   new_review_body  \n",
       "884958                                                                                                                                                                                                                                                                                                                        great earbuds great sound buy better looking earbud quality sound le  \n",
       "612788                                                                                                                                                                                                                                                                                                       aftermarket power supply fit fine power system issue one thing would nice longer cord  \n",
       "995823  use everyday drive living vehicle provided come radio radio blue toothed iphone day use hr battery life die me nice also like shaped cube roll around dash driving even though music provided phone drain battery life phone much thing would change add another button device change next previous song get annoying already using phone something changeclose apps music app change song  \n",
       "317978                                                                                                                                                                                                                                                                                                         ususally buy medium idge cable least expensive consistently high quality disappoint  \n",
       "963613                                                                                                                                                                                                                                                                                                                                                                                       great  "
      ]
     },
     "execution_count": 34,
     "metadata": {},
     "output_type": "execute_result"
    }
   ],
   "source": [
    "cleaned2.get(['review_body', 'new_review_body']).head()"
   ]
  },
  {
   "cell_type": "code",
   "execution_count": 35,
   "id": "34b2b4c6",
   "metadata": {},
   "outputs": [
    {
     "data": {
      "text/plain": [
       "'Great earbuds with a great sound. You can not buy a better looking earbud with this quality of sound for less.'"
      ]
     },
     "execution_count": 35,
     "metadata": {},
     "output_type": "execute_result"
    }
   ],
   "source": [
    "cleaned2.iloc[0].get('review_body')"
   ]
  },
  {
   "cell_type": "code",
   "execution_count": 36,
   "id": "6301e739",
   "metadata": {},
   "outputs": [
    {
     "data": {
      "text/plain": [
       "{'neg': 0.084, 'neu': 0.629, 'pos': 0.287, 'compound': 0.7779}"
      ]
     },
     "execution_count": 36,
     "metadata": {},
     "output_type": "execute_result"
    }
   ],
   "source": [
    "get_sentiment_scores(cleaned2.iloc[0].get('review_body')) #without lemmitization"
   ]
  },
  {
   "cell_type": "code",
   "execution_count": 38,
   "id": "21d9937c",
   "metadata": {},
   "outputs": [
    {
     "data": {
      "text/plain": [
       "{'neg': 0.0, 'neu': 0.419, 'pos': 0.581, 'compound': 0.9022}"
      ]
     },
     "execution_count": 38,
     "metadata": {},
     "output_type": "execute_result"
    }
   ],
   "source": [
    "get_sentiment_scores(cleaned2.iloc[0].get('new_review_body')) #with lemmitization"
   ]
  },
  {
   "cell_type": "code",
   "execution_count": 39,
   "id": "92ae0914",
   "metadata": {},
   "outputs": [],
   "source": [
    "one_file = cleaned2"
   ]
  },
  {
   "cell_type": "markdown",
   "id": "1bcae33d",
   "metadata": {},
   "source": [
    "### Vader Sentiment Analysis"
   ]
  },
  {
   "cell_type": "code",
   "execution_count": 58,
   "id": "cbddcf14",
   "metadata": {},
   "outputs": [],
   "source": [
    "from vaderSentiment.vaderSentiment import SentimentIntensityAnalyzer\n",
    "\n",
    "analyser = SentimentIntensityAnalyzer()\n",
    "\n",
    "def get_sentiment_scores(review):\n",
    "    \"\"\"\n",
    "    create new dataframe with just the proportions for each review\n",
    "    four columns\n",
    "    neg_prop, pos_prop, neu_prop, compound_prop and will contain these values\n",
    "    obtained from the vator sentiment algorithm\n",
    "    \"\"\"\n",
    "    snt = analyser.polarity_scores(review)\n",
    "    #print(f\"{sentence} {str(snt)}\")\n",
    "    return snt"
   ]
  },
  {
   "cell_type": "code",
   "execution_count": 59,
   "id": "27e95525",
   "metadata": {},
   "outputs": [],
   "source": [
    "one_file['rev_dict'] = one_file['new_review_body'].apply(get_sentiment_scores)"
   ]
  },
  {
   "cell_type": "code",
   "execution_count": 60,
   "id": "97b7f188",
   "metadata": {},
   "outputs": [],
   "source": [
    "def get_neg(review_dict):\n",
    "    return review_dict['neg']\n",
    "\n",
    "def get_neu(review_dict):\n",
    "    return review_dict['neu']\n",
    "\n",
    "def get_pos(review_dict):\n",
    "    return review_dict['pos']\n",
    "\n",
    "def get_compound(review_dict):\n",
    "    return review_dict['compound']\n",
    "\n",
    "def only_compound(x):\n",
    "    dct = get_sentiment_scores(x)\n",
    "    return dct['compound']"
   ]
  },
  {
   "cell_type": "code",
   "execution_count": 61,
   "id": "eca44737",
   "metadata": {},
   "outputs": [],
   "source": [
    "#get neg prop\n",
    "one_file['neg_prop'] = one_file['rev_dict'].apply(get_neg)\n",
    "#get neu prop\n",
    "one_file['neu_prop'] = one_file['rev_dict'].apply(get_neu)\n",
    "#get pos prop\n",
    "one_file['pos_prop'] = one_file['rev_dict'].apply(get_pos)\n",
    "#get compound prop\n",
    "one_file['compound_prop'] = one_file['rev_dict'].apply(get_compound)"
   ]
  },
  {
   "cell_type": "code",
   "execution_count": 62,
   "id": "9280a017",
   "metadata": {},
   "outputs": [],
   "source": [
    "#save the dataframe as a csv file\n",
    "one_file.to_csv('electronics_data_cleaned.csv')"
   ]
  },
  {
   "cell_type": "markdown",
   "id": "c5adfd33",
   "metadata": {},
   "source": [
    "### Sentiment Analysis"
   ]
  },
  {
   "cell_type": "markdown",
   "id": "e098ea05",
   "metadata": {},
   "source": [
    "#df is all data other than rating 3\n",
    "df = one_file[one_file['star_rating'] != 3]"
   ]
  },
  {
   "cell_type": "markdown",
   "id": "cebba2d6",
   "metadata": {},
   "source": [
    "df['star_rating'].value_counts()"
   ]
  },
  {
   "cell_type": "markdown",
   "id": "82d8007b",
   "metadata": {},
   "source": [
    "df['positively_rated'] = np.where(df['star_rating'] > 3, 1, 0)"
   ]
  },
  {
   "cell_type": "markdown",
   "id": "9fba4337",
   "metadata": {},
   "source": [
    "df['positively_rated'].value_counts()"
   ]
  },
  {
   "cell_type": "markdown",
   "id": "e7c8ab0c",
   "metadata": {},
   "source": [
    "sns.countplot(df['positively_rated'])"
   ]
  },
  {
   "cell_type": "markdown",
   "id": "3e930c48",
   "metadata": {},
   "source": [
    "##### On all of the data"
   ]
  },
  {
   "cell_type": "markdown",
   "id": "21f78afa",
   "metadata": {},
   "source": [
    "train_data, test_data = np.split(one_file.sample(frac=1, random_state=1729), [int(0.7 * len(one_file))])\n",
    "print(train_data.shape, test_data.shape)"
   ]
  },
  {
   "cell_type": "markdown",
   "id": "06189c59",
   "metadata": {},
   "source": [
    "X_train = train_data['review_body']\n",
    "X_train.iloc[0] #to_frame()"
   ]
  },
  {
   "cell_type": "markdown",
   "id": "2fd7cac0",
   "metadata": {},
   "source": [
    "Y_train = train_data['star_rating']"
   ]
  },
  {
   "cell_type": "markdown",
   "id": "d80d84ce",
   "metadata": {},
   "source": [
    "X_test = test_data['review_body']\n",
    "Y_test = test_data['star_rating']"
   ]
  },
  {
   "cell_type": "markdown",
   "id": "0de152ec",
   "metadata": {},
   "source": [
    "#### TF-IDF - to get predictions of what star rating will be based on text of review"
   ]
  },
  {
   "cell_type": "markdown",
   "id": "1d460554",
   "metadata": {},
   "source": [
    "from sklearn.feature_extraction.text import TfidfVectorizer"
   ]
  },
  {
   "cell_type": "markdown",
   "id": "7e494d08",
   "metadata": {},
   "source": [
    "vect = TfidfVectorizer().fit(X_train)"
   ]
  },
  {
   "cell_type": "markdown",
   "id": "15b8447a",
   "metadata": {},
   "source": [
    "len(vect.get_feature_names()) #unique words"
   ]
  },
  {
   "cell_type": "markdown",
   "id": "8b16d9b2",
   "metadata": {},
   "source": [
    "X_train_vect = vect.transform(X_train)"
   ]
  },
  {
   "cell_type": "markdown",
   "id": "d6a909e2",
   "metadata": {},
   "source": [
    "from sklearn.linear_model import LogisticRegression\n",
    "model = LogisticRegression()\n",
    "model.fit(X_train_vect, Y_train)"
   ]
  },
  {
   "cell_type": "markdown",
   "id": "b6bb6c58",
   "metadata": {},
   "source": [
    "predictions = model.predict(vect.transform(X_test))"
   ]
  },
  {
   "cell_type": "markdown",
   "id": "9b730ff6",
   "metadata": {},
   "source": [
    "len(predictions)"
   ]
  },
  {
   "cell_type": "markdown",
   "id": "416b4ecf",
   "metadata": {},
   "source": [
    "###### Confusion Matrix - shows probabilities for whether cat data is predicted correctly"
   ]
  },
  {
   "cell_type": "code",
   "execution_count": 63,
   "id": "0b080f3a",
   "metadata": {},
   "outputs": [],
   "source": [
    "def plot_confusion_matrix(cm, target_names,\n",
    "                          fname, epoch,\n",
    "                          title='Confusion matrix',\n",
    "                          cmap=None,\n",
    "                          normalize=True, target=None):\n",
    "    import matplotlib.pyplot as plt\n",
    "    import numpy as np\n",
    "    import itertools\n",
    "    plt.style.use('default')\n",
    "\n",
    "    # # only true if it weren't normalized:\n",
    "    # accuracy = np.trace(cm) / float(np.sum(cm))\n",
    "    # misclass = 1 - accuracy\n",
    "\n",
    "    if cmap is None:\n",
    "        cmap = plt.get_cmap('Blues')\n",
    "\n",
    "    if normalize:\n",
    "        cm = cm.astype('float') / cm.sum(axis=1)[:, np.newaxis]\n",
    "    cm[np.isnan(cm)] = 0.0\n",
    "\n",
    "    fig = plt.figure(figsize=(5, 4))\n",
    "    ax = plt.axes()\n",
    "    plt.imshow(cm, interpolation='nearest', cmap=cmap)\n",
    "    if target == \"rule-based\":\n",
    "        plt.title(title + ' for rule-based PF')\n",
    "    else:\n",
    "        plt.title(title + ' for MLPF at epoch ' + str(epoch))\n",
    "\n",
    "    plt.colorbar()\n",
    "\n",
    "    if target_names is not None:\n",
    "        tick_marks = np.arange(len(target_names))\n",
    "        plt.xticks(tick_marks, target_names, rotation=45)\n",
    "        plt.yticks(tick_marks, target_names)\n",
    "\n",
    "    thresh = cm.max() / 1.5 if normalize else cm.max() / 2\n",
    "    for i, j in itertools.product(range(cm.shape[0]), range(cm.shape[1])):\n",
    "        if normalize:\n",
    "            plt.text(j, i, \"{:0.2f}\".format(cm[i, j]),\n",
    "                     horizontalalignment=\"center\",\n",
    "                     color=\"white\" if cm[i, j] > thresh else \"black\")\n",
    "        else:\n",
    "            plt.text(j, i, \"{:,}\".format(cm[i, j]),\n",
    "                     horizontalalignment=\"center\",\n",
    "                     color=\"white\" if cm[i, j] > thresh else \"black\")\n",
    "\n",
    "    plt.ylabel('True label')\n",
    "    plt.xlim(-1, len(target_names))\n",
    "    plt.ylim(-1, len(target_names))\n",
    "    plt.xlabel('Predicted label')\n",
    "    # plt.xlabel('Predicted label\\naccuracy={:0.4f}; misclass={:0.4f}'.format(accuracy, misclass))\n",
    "    plt.tight_layout()\n",
    "    plt.savefig(fname + '.png')\n",
    "    plt.savefig(fname + '.pdf')\n",
    "    #plt.close(fig)\n",
    "\n",
    "    return fig, ax"
   ]
  },
  {
   "cell_type": "markdown",
   "id": "01c6cf4a",
   "metadata": {},
   "source": [
    "### SVM Notes"
   ]
  },
  {
   "cell_type": "markdown",
   "id": "1accf4d5",
   "metadata": {},
   "source": [
    "- **Bag of Words (BoW)**\n",
    "        - BoW encodes an input sentence as the frequency of each word in the sentence. \n",
    "        - In this approach, all words contribute equally to the feature vectors.\n",
    "- **Term Frequency - Inverse Document Frequency (TF-IDF)**\n",
    "        - TF-IDF is a measure of how important each term is to a specific document, as compared to an overall corpus. \n",
    "        - TF-IDF encodes each word as its frequency in the document of interest, divided by a measure of how common the word is across all documents (the corpus).\n",
    "        - Using this approach, each word contributes differently to the feature vectors.\n",
    "        - The assumption behind using TF-IDF is that words that appear commonly everywhere are not that informative about what is specifically interesting about a document of interest, so it is tuned to representing a document in terms of the words it uses that are different from other documents. \n",
    "\n",
    "- To compare those 2 methods, we will first apply them on the same dataset to analyse sentiment (how positive or negative a text is). In order to make the comparison fair, an **SVM (support vector machine)** classifier will be used to classify positive reviews and negative reviews.\n",
    "\n",
    "- SVM is a simple yet powerful and interpretable linear model. To use it as a classifier, we need to have at least 2 splits of the data: training data and test data. The training data is used to tune the weight parameters in the SVM to learn an optimal way to classify the training data. We can then test this trained SVM classifier on the test data, to see how well it works on data that the classifier has not seen before. "
   ]
  },
  {
   "cell_type": "markdown",
   "id": "78496047",
   "metadata": {},
   "source": [
    "We will now create a CountVectorizer object to transform the text data into vectors with numerical values.\n",
    "\n",
    "To do so, we will initialize a CountVectorizer object, and name it as vectorizer.\n",
    "\n",
    "4 arguments to initialize a CountVectorizer:\n",
    "\n",
    "* analyzer: 'word'\n",
    " Specify to analyze data from word-level.\n",
    " \n",
    "* max_features: 2000\n",
    " Set a max number of unique words.\n",
    " \n",
    "* tokenizer: word_tokenize\n",
    " Set to tokenize the text data by using the word_tokenizer from NLTK .\n",
    " \n",
    "* stop_words: stopwords.words('english')\n",
    " Set to remove all stopwords in English. We do this since they generally don't provide useful discriminative information."
   ]
  },
  {
   "cell_type": "markdown",
   "id": "2fee8367",
   "metadata": {},
   "source": [
    "## KNN"
   ]
  },
  {
   "cell_type": "code",
   "execution_count": 64,
   "id": "bef5aa79",
   "metadata": {},
   "outputs": [],
   "source": [
    "import numpy as np\n",
    "import matplotlib.pyplot as plt\n",
    "import pandas as pd\n",
    "import sklearn"
   ]
  },
  {
   "cell_type": "code",
   "execution_count": 65,
   "id": "d86626ee",
   "metadata": {},
   "outputs": [
    {
     "data": {
      "text/plain": [
       "Index(['marketplace', 'customer_id', 'review_id', 'product_id',\n",
       "       'product_parent', 'product_title', 'product_category', 'star_rating',\n",
       "       'helpful_votes', 'total_votes', 'vine', 'verified_purchase',\n",
       "       'review_headline', 'review_body', 'review_date', 'new_review_body',\n",
       "       'rev_dict', 'neg_prop', 'neu_prop', 'pos_prop', 'compound_prop',\n",
       "       'product_id_convert', 'product_category_convert', 'prod_title_comp',\n",
       "       'rev_title_comp'],\n",
       "      dtype='object')"
      ]
     },
     "execution_count": 65,
     "metadata": {},
     "output_type": "execute_result"
    }
   ],
   "source": [
    "one_file.columns"
   ]
  },
  {
   "cell_type": "code",
   "execution_count": 66,
   "id": "1d31c455",
   "metadata": {},
   "outputs": [],
   "source": [
    "def convert_to_id(x):\n",
    "    alphabet = {'a': 1, 'c': 3, 'b': 2, 'e': 5, 'd': 4, 'g': 7, 'f': 6, 'i': 9, 'h': 8, 'k': 11, 'j': 10, 'm': 13, 'l': 12, 'o': 15, 'n': 14, 'q': 17, 'p': 16, 's': 19, 'r': 18, 'u': 21, 't': 20, 'w': 23, 'v': 22, 'y': 25, 'x': 24, 'z': 26}\n",
    "    out = ''\n",
    "    for i in x:\n",
    "        if i.lower() in alphabet.keys():\n",
    "            out += str(alphabet[i.lower()])\n",
    "        else:\n",
    "            out += i\n",
    "    return out"
   ]
  },
  {
   "cell_type": "code",
   "execution_count": 67,
   "id": "3f6cefbe",
   "metadata": {},
   "outputs": [],
   "source": [
    "one_file['product_id_convert'] = one_file.get(\"product_id\").apply(convert_to_id)"
   ]
  },
  {
   "cell_type": "code",
   "execution_count": 68,
   "id": "c396a07c",
   "metadata": {},
   "outputs": [],
   "source": [
    "one_file['product_category_convert'] = one_file.get(\"product_category\").apply(convert_to_id)"
   ]
  },
  {
   "cell_type": "code",
   "execution_count": 69,
   "id": "0ff6f642",
   "metadata": {},
   "outputs": [],
   "source": [
    "one_file['prod_title_comp'] = one_file.get(\"product_title\").apply(only_compound)"
   ]
  },
  {
   "cell_type": "code",
   "execution_count": 70,
   "id": "e067dd58",
   "metadata": {},
   "outputs": [],
   "source": [
    "one_file['rev_title_comp'] = one_file.get(\"review_headline\").apply(only_compound)"
   ]
  },
  {
   "cell_type": "code",
   "execution_count": 71,
   "id": "57474608",
   "metadata": {},
   "outputs": [
    {
     "data": {
      "text/html": [
       "<div>\n",
       "<style scoped>\n",
       "    .dataframe tbody tr th:only-of-type {\n",
       "        vertical-align: middle;\n",
       "    }\n",
       "\n",
       "    .dataframe tbody tr th {\n",
       "        vertical-align: top;\n",
       "    }\n",
       "\n",
       "    .dataframe thead th {\n",
       "        text-align: right;\n",
       "    }\n",
       "</style>\n",
       "<table border=\"1\" class=\"dataframe\">\n",
       "  <thead>\n",
       "    <tr style=\"text-align: right;\">\n",
       "      <th></th>\n",
       "      <th>884958</th>\n",
       "    </tr>\n",
       "  </thead>\n",
       "  <tbody>\n",
       "    <tr>\n",
       "      <th>marketplace</th>\n",
       "      <td>US</td>\n",
       "    </tr>\n",
       "    <tr>\n",
       "      <th>customer_id</th>\n",
       "      <td>18117238</td>\n",
       "    </tr>\n",
       "    <tr>\n",
       "      <th>review_id</th>\n",
       "      <td>R2HAH32AF7863Q</td>\n",
       "    </tr>\n",
       "    <tr>\n",
       "      <th>product_id</th>\n",
       "      <td>B00I6N0TH2</td>\n",
       "    </tr>\n",
       "    <tr>\n",
       "      <th>product_parent</th>\n",
       "      <td>627742809</td>\n",
       "    </tr>\n",
       "    <tr>\n",
       "      <th>product_title</th>\n",
       "      <td>House of Marley Chant Drift Earbud Headphones</td>\n",
       "    </tr>\n",
       "    <tr>\n",
       "      <th>product_category</th>\n",
       "      <td>Electronics</td>\n",
       "    </tr>\n",
       "    <tr>\n",
       "      <th>star_rating</th>\n",
       "      <td>5</td>\n",
       "    </tr>\n",
       "    <tr>\n",
       "      <th>helpful_votes</th>\n",
       "      <td>0</td>\n",
       "    </tr>\n",
       "    <tr>\n",
       "      <th>total_votes</th>\n",
       "      <td>0</td>\n",
       "    </tr>\n",
       "    <tr>\n",
       "      <th>vine</th>\n",
       "      <td>N</td>\n",
       "    </tr>\n",
       "    <tr>\n",
       "      <th>verified_purchase</th>\n",
       "      <td>Y</td>\n",
       "    </tr>\n",
       "    <tr>\n",
       "      <th>review_headline</th>\n",
       "      <td>Great value and look!</td>\n",
       "    </tr>\n",
       "    <tr>\n",
       "      <th>review_body</th>\n",
       "      <td>Great earbuds with a great sound. You can not buy a better looking earbud with this quality of sound for less.</td>\n",
       "    </tr>\n",
       "    <tr>\n",
       "      <th>review_date</th>\n",
       "      <td>2014-12-10</td>\n",
       "    </tr>\n",
       "    <tr>\n",
       "      <th>new_review_body</th>\n",
       "      <td>great earbuds great sound buy better looking earbud quality sound le</td>\n",
       "    </tr>\n",
       "    <tr>\n",
       "      <th>rev_dict</th>\n",
       "      <td>{'neg': 0.0, 'neu': 0.419, 'pos': 0.581, 'compound': 0.9022}</td>\n",
       "    </tr>\n",
       "    <tr>\n",
       "      <th>neg_prop</th>\n",
       "      <td>0.0</td>\n",
       "    </tr>\n",
       "    <tr>\n",
       "      <th>neu_prop</th>\n",
       "      <td>0.419</td>\n",
       "    </tr>\n",
       "    <tr>\n",
       "      <th>pos_prop</th>\n",
       "      <td>0.581</td>\n",
       "    </tr>\n",
       "    <tr>\n",
       "      <th>compound_prop</th>\n",
       "      <td>0.9022</td>\n",
       "    </tr>\n",
       "    <tr>\n",
       "      <th>product_id_convert</th>\n",
       "      <td>200961402082</td>\n",
       "    </tr>\n",
       "    <tr>\n",
       "      <th>product_category_convert</th>\n",
       "      <td>51253201815149319</td>\n",
       "    </tr>\n",
       "    <tr>\n",
       "      <th>prod_title_comp</th>\n",
       "      <td>0.0</td>\n",
       "    </tr>\n",
       "    <tr>\n",
       "      <th>rev_title_comp</th>\n",
       "      <td>0.7777</td>\n",
       "    </tr>\n",
       "  </tbody>\n",
       "</table>\n",
       "</div>"
      ],
      "text/plain": [
       "                                                                                                                                  884958\n",
       "marketplace                                                                                                                           US\n",
       "customer_id                                                                                                                     18117238\n",
       "review_id                                                                                                                 R2HAH32AF7863Q\n",
       "product_id                                                                                                                    B00I6N0TH2\n",
       "product_parent                                                                                                                 627742809\n",
       "product_title                                                                              House of Marley Chant Drift Earbud Headphones\n",
       "product_category                                                                                                             Electronics\n",
       "star_rating                                                                                                                            5\n",
       "helpful_votes                                                                                                                          0\n",
       "total_votes                                                                                                                            0\n",
       "vine                                                                                                                                   N\n",
       "verified_purchase                                                                                                                      Y\n",
       "review_headline                                                                                                    Great value and look!\n",
       "review_body               Great earbuds with a great sound. You can not buy a better looking earbud with this quality of sound for less.\n",
       "review_date                                                                                                                   2014-12-10\n",
       "new_review_body                                                     great earbuds great sound buy better looking earbud quality sound le\n",
       "rev_dict                                                                    {'neg': 0.0, 'neu': 0.419, 'pos': 0.581, 'compound': 0.9022}\n",
       "neg_prop                                                                                                                             0.0\n",
       "neu_prop                                                                                                                           0.419\n",
       "pos_prop                                                                                                                           0.581\n",
       "compound_prop                                                                                                                     0.9022\n",
       "product_id_convert                                                                                                          200961402082\n",
       "product_category_convert                                                                                               51253201815149319\n",
       "prod_title_comp                                                                                                                      0.0\n",
       "rev_title_comp                                                                                                                    0.7777"
      ]
     },
     "execution_count": 71,
     "metadata": {},
     "output_type": "execute_result"
    }
   ],
   "source": [
    "one_file.iloc[0].to_frame()"
   ]
  },
  {
   "cell_type": "markdown",
   "id": "b504ff3a",
   "metadata": {},
   "source": [
    "find percentages for the body -- text and display those in a column -- act as labels for the percent positivity of the review body and header themselves"
   ]
  },
  {
   "cell_type": "code",
   "execution_count": 181,
   "id": "2a00eb04",
   "metadata": {},
   "outputs": [],
   "source": [
    "imp_col = one_file[['verified_purchase', 'customer_id', 'product_id_convert', 'prod_title_comp', 'product_category_convert', 'star_rating', 'helpful_votes', 'total_votes', 'rev_title_comp', 'neg_prop', 'neu_prop', 'pos_prop']]"
   ]
  },
  {
   "cell_type": "code",
   "execution_count": 182,
   "id": "f89729e8",
   "metadata": {},
   "outputs": [
    {
     "data": {
      "text/plain": [
       "verified_purchase            object\n",
       "customer_id                   int64\n",
       "product_id_convert           object\n",
       "prod_title_comp             float64\n",
       "product_category_convert     object\n",
       "star_rating                   int64\n",
       "helpful_votes                 int64\n",
       "total_votes                   int64\n",
       "rev_title_comp              float64\n",
       "neg_prop                    float64\n",
       "neu_prop                    float64\n",
       "pos_prop                    float64\n",
       "dtype: object"
      ]
     },
     "execution_count": 182,
     "metadata": {},
     "output_type": "execute_result"
    }
   ],
   "source": [
    "imp_col.dtypes"
   ]
  },
  {
   "cell_type": "code",
   "execution_count": 183,
   "id": "135c2725",
   "metadata": {},
   "outputs": [
    {
     "data": {
      "text/plain": [
       "'\\nfrom sklearn.preprocessing import LabelEncoder\\nle = LabelEncoder()\\nX[:,1] = le.fit_transform(X[:,1])\\n'"
      ]
     },
     "execution_count": 183,
     "metadata": {},
     "output_type": "execute_result"
    }
   ],
   "source": [
    "#need to replace review_body and review_headline with percentages for sentiment -- easier to use for classification\n",
    "#vine needs to be converted to a yes/no binary column similar to how positively rated was determined\n",
    "#use original dataset with rating 3 available\n",
    "\n",
    "#X = imp_col.iloc[:, [1, 2, 3, 4, 5, 6, 7, 8, 9, 10, 11]].values\n",
    "X = imp_col.iloc[:, [3, 5, 6, 7, 8, 9, 10, 11]].values #only taking in the categories that will be used as a dataframe\n",
    "y = imp_col.iloc[:, 0].values\n",
    "\n",
    "\"\"\"\n",
    "from sklearn.preprocessing import LabelEncoder\n",
    "le = LabelEncoder()\n",
    "X[:,1] = le.fit_transform(X[:,1])\n",
    "\"\"\""
   ]
  },
  {
   "cell_type": "code",
   "execution_count": 184,
   "id": "c34bc142",
   "metadata": {},
   "outputs": [
    {
     "data": {
      "text/plain": [
       "array([[0.    , 5.    , 0.    , ..., 0.    , 0.419 , 0.581 ],\n",
       "       [0.    , 4.    , 0.    , ..., 0.    , 0.608 , 0.392 ],\n",
       "       [0.4215, 5.    , 0.    , ..., 0.096 , 0.827 , 0.077 ],\n",
       "       ...,\n",
       "       [0.    , 5.    , 1.    , ..., 0.    , 0.531 , 0.469 ],\n",
       "       [0.    , 5.    , 0.    , ..., 0.    , 0.612 , 0.388 ],\n",
       "       [0.    , 1.    , 7.    , ..., 0.111 , 0.659 , 0.23  ]])"
      ]
     },
     "execution_count": 184,
     "metadata": {},
     "output_type": "execute_result"
    }
   ],
   "source": [
    "X"
   ]
  },
  {
   "cell_type": "markdown",
   "id": "a214d667",
   "metadata": {},
   "source": [
    "#Since our dataset containing character variables we have to encode it using LabelEncoder\n",
    "\n",
    "from sklearn.preprocessing import LabelEncoder\n",
    "le = LabelEncoder()\n",
    "X[:,2] = le.fit_transform(X[:,2])"
   ]
  },
  {
   "cell_type": "code",
   "execution_count": 185,
   "id": "ca3f1a98",
   "metadata": {},
   "outputs": [],
   "source": [
    "from sklearn.model_selection import train_test_split\n",
    "X_train, X_test, y_train, y_test = train_test_split(X, y, test_size = 0.20, random_state = 0)"
   ]
  },
  {
   "cell_type": "code",
   "execution_count": 186,
   "id": "94ab9eba",
   "metadata": {},
   "outputs": [],
   "source": [
    "# Next, we are doing feature scaling to the training and test set of independent variables for reducing the size to smaller values\n",
    "from sklearn.preprocessing import StandardScaler\n",
    "sc = StandardScaler()\n",
    "X_train = sc.fit_transform(X_train)\n",
    "X_test = sc.transform(X_test)"
   ]
  },
  {
   "cell_type": "code",
   "execution_count": 187,
   "id": "8018f66a",
   "metadata": {},
   "outputs": [
    {
     "data": {
      "text/plain": [
       "KNeighborsClassifier()"
      ]
     },
     "execution_count": 187,
     "metadata": {},
     "output_type": "execute_result"
    }
   ],
   "source": [
    "from sklearn.neighbors import KNeighborsClassifier\n",
    "\n",
    "#we are using \n",
    "#5 neighborhood points are required for classifying a given point -- distance metric is using the minkonowski equation\n",
    "knn_classifier = KNeighborsClassifier(n_neighbors = 5, metric = 'minkowski', p = 2)\n",
    "knn_classifier.fit(X_train, y_train)"
   ]
  },
  {
   "cell_type": "code",
   "execution_count": 188,
   "id": "6612ff45",
   "metadata": {},
   "outputs": [],
   "source": [
    "y_pred = knn_classifier.predict(X_test)"
   ]
  },
  {
   "cell_type": "code",
   "execution_count": 189,
   "id": "0baa91a4",
   "metadata": {},
   "outputs": [],
   "source": [
    "#We can evaluate our model using the confusion matrix and accuracy score by comparing the predicted and actual test values\n",
    "\n",
    "from sklearn.metrics import confusion_matrix,accuracy_score\n",
    "cm = confusion_matrix(y_test, y_pred)\n",
    "ac = accuracy_score(y_test,y_pred)"
   ]
  },
  {
   "cell_type": "code",
   "execution_count": 190,
   "id": "5f28301b",
   "metadata": {},
   "outputs": [
    {
     "name": "stdout",
     "output_type": "stream",
     "text": [
      "[[  15  380]\n",
      " [  34 3571]]\n"
     ]
    }
   ],
   "source": [
    "print(cm)"
   ]
  },
  {
   "cell_type": "code",
   "execution_count": 191,
   "id": "f84dd694",
   "metadata": {},
   "outputs": [
    {
     "name": "stdout",
     "output_type": "stream",
     "text": [
      "0.8965\n"
     ]
    }
   ],
   "source": [
    "print(ac)"
   ]
  },
  {
   "cell_type": "code",
   "execution_count": 192,
   "id": "3447bcd6",
   "metadata": {},
   "outputs": [],
   "source": [
    "#Can see the model performance and add more features accordingly -- \n",
    "#would be good if the performance is greater than 85%"
   ]
  },
  {
   "cell_type": "markdown",
   "id": "a26441ca",
   "metadata": {},
   "source": [
    "Test on a product review"
   ]
  },
  {
   "cell_type": "code",
   "execution_count": 207,
   "id": "202fc35e",
   "metadata": {},
   "outputs": [],
   "source": [
    "review_test = \"this is a good review\"\n",
    "product_title = \"Sony Headphones\"\n",
    "review_title = 'Love the product!'\n",
    "#product_category = \"Electronics\"\n",
    "star_rating = 5\n",
    "helpful_votes = 0\n",
    "total_votes = 0"
   ]
  },
  {
   "cell_type": "code",
   "execution_count": 208,
   "id": "04c4ed80",
   "metadata": {},
   "outputs": [
    {
     "data": {
      "text/html": [
       "<div>\n",
       "<style scoped>\n",
       "    .dataframe tbody tr th:only-of-type {\n",
       "        vertical-align: middle;\n",
       "    }\n",
       "\n",
       "    .dataframe tbody tr th {\n",
       "        vertical-align: top;\n",
       "    }\n",
       "\n",
       "    .dataframe thead th {\n",
       "        text-align: right;\n",
       "    }\n",
       "</style>\n",
       "<table border=\"1\" class=\"dataframe\">\n",
       "  <thead>\n",
       "    <tr style=\"text-align: right;\">\n",
       "      <th></th>\n",
       "      <th>review_body</th>\n",
       "    </tr>\n",
       "  </thead>\n",
       "  <tbody>\n",
       "    <tr>\n",
       "      <th>0</th>\n",
       "      <td>this is a good review</td>\n",
       "    </tr>\n",
       "  </tbody>\n",
       "</table>\n",
       "</div>"
      ],
      "text/plain": [
       "             review_body\n",
       "0  this is a good review"
      ]
     },
     "execution_count": 208,
     "metadata": {},
     "output_type": "execute_result"
    }
   ],
   "source": [
    "test = pd.DataFrame()\n",
    "test['review_body'] = np.array([review_test])\n",
    "test"
   ]
  },
  {
   "cell_type": "code",
   "execution_count": 209,
   "id": "11b67be6",
   "metadata": {},
   "outputs": [
    {
     "data": {
      "text/html": [
       "<div>\n",
       "<style scoped>\n",
       "    .dataframe tbody tr th:only-of-type {\n",
       "        vertical-align: middle;\n",
       "    }\n",
       "\n",
       "    .dataframe tbody tr th {\n",
       "        vertical-align: top;\n",
       "    }\n",
       "\n",
       "    .dataframe thead th {\n",
       "        text-align: right;\n",
       "    }\n",
       "</style>\n",
       "<table border=\"1\" class=\"dataframe\">\n",
       "  <thead>\n",
       "    <tr style=\"text-align: right;\">\n",
       "      <th></th>\n",
       "      <th>review_body</th>\n",
       "      <th>new_review_body</th>\n",
       "    </tr>\n",
       "  </thead>\n",
       "  <tbody>\n",
       "    <tr>\n",
       "      <th>0</th>\n",
       "      <td>this is a good review</td>\n",
       "      <td>good review</td>\n",
       "    </tr>\n",
       "  </tbody>\n",
       "</table>\n",
       "</div>"
      ],
      "text/plain": [
       "             review_body new_review_body\n",
       "0  this is a good review     good review"
      ]
     },
     "execution_count": 209,
     "metadata": {},
     "output_type": "execute_result"
    }
   ],
   "source": [
    "out = df_cleaning(test)\n",
    "out"
   ]
  },
  {
   "cell_type": "code",
   "execution_count": 210,
   "id": "09b45520",
   "metadata": {},
   "outputs": [],
   "source": [
    "def get_sentiment_proportions(review):\n",
    "    \"\"\"\n",
    "    create new dataframe with just the proportions for each review\n",
    "    four columns\n",
    "    neg_prop, pos_prop, neu_prop, compound_prop and will contain these values\n",
    "    obtained from the vator sentiment algorithm\n",
    "    \"\"\"\n",
    "    snt = analyser.polarity_scores(review)\n",
    "    #print(f\"{sentence} {str(snt)}\")\n",
    "    neg = snt['neg']\n",
    "    neu = snt['neu']\n",
    "    pos = snt['pos']\n",
    "    #compound = snt['compound']\n",
    "    return neg, neu, pos\n",
    "\n",
    "neg, neu, pos = get_sentiment_proportions(out.get(\"new_review_body\").iloc[0])\n",
    "\n",
    "product_category = convert_to_id(product_category)\n",
    "product_title = only_compound(product_title)\n",
    "rev_title = only_compound(review_title)"
   ]
  },
  {
   "cell_type": "markdown",
   "id": "9be33774",
   "metadata": {},
   "source": [
    "Predicted: 'verified_purchase'\n",
    "\n",
    "User Input: 'prod_title_comp', 'product_category_convert', 'star_rating', 'helpful_votes', 'total_votes', 'neg_prop', 'neu_prop', 'pos_prop'\n",
    "- 8 fields"
   ]
  },
  {
   "cell_type": "code",
   "execution_count": 211,
   "id": "e5a61dee",
   "metadata": {},
   "outputs": [
    {
     "data": {
      "text/plain": [
       "array([[0.    , 5.    , 0.    , 0.    , 0.6696, 0.    , 0.256 , 0.744 ]])"
      ]
     },
     "execution_count": 211,
     "metadata": {},
     "output_type": "execute_result"
    }
   ],
   "source": [
    "rev_input_test = np.array([[product_title, star_rating, helpful_votes, total_votes, rev_title, neg, neu, pos]])\n",
    "rev_input_test"
   ]
  },
  {
   "cell_type": "code",
   "execution_count": 212,
   "id": "3c5bf0f0",
   "metadata": {},
   "outputs": [],
   "source": [
    "prediction, probabilities = knn_classifier.predict(rev_input_test), knn_classifier.predict_proba(rev_input_test)[0]"
   ]
  },
  {
   "cell_type": "code",
   "execution_count": 213,
   "id": "b8b0cebb",
   "metadata": {},
   "outputs": [
    {
     "data": {
      "text/plain": [
       "array(['Y'], dtype=object)"
      ]
     },
     "execution_count": 213,
     "metadata": {},
     "output_type": "execute_result"
    }
   ],
   "source": [
    "prediction"
   ]
  },
  {
   "cell_type": "code",
   "execution_count": 214,
   "id": "b09957ee",
   "metadata": {},
   "outputs": [
    {
     "data": {
      "text/plain": [
       "array([0.2, 0.8])"
      ]
     },
     "execution_count": 214,
     "metadata": {},
     "output_type": "execute_result"
    }
   ],
   "source": [
    "probabilities"
   ]
  },
  {
   "cell_type": "markdown",
   "id": "1f22f390",
   "metadata": {},
   "source": [
    "classifier?"
   ]
  },
  {
   "cell_type": "code",
   "execution_count": 215,
   "id": "9e4bab39",
   "metadata": {},
   "outputs": [
    {
     "name": "stdout",
     "output_type": "stream",
     "text": [
      "\"this is a good review\" is predicted to be a VERIFIED review, with 80.0% probability of being VERIFIED and 20.0% probability of being UNVERIFIED\n"
     ]
    }
   ],
   "source": [
    "def interpret_prediction(review, pred, proba):\n",
    "    proba = [round(proba[0], 3), round(proba[1], 3)]\n",
    "    if prediction[0] == 'Y':\n",
    "        print(f'\"{review}\" is predicted to be a VERIFIED review, with {proba[1]*100}% probability of being VERIFIED and {proba[0]*100}% probability of being UNVERIFIED')\n",
    "    if prediction[0] == 'N':\n",
    "        print(f'\"{review}\" is predicted to be an UNVERIFIED review, with {proba[0]*100}% probability of being UNVERIFIED and {proba[1]*100}% probability of being VERIFIED')\n",
    "        \n",
    "interpret_prediction(review_test, prediction, probabilities)"
   ]
  },
  {
   "cell_type": "code",
   "execution_count": 216,
   "id": "bd0d5975",
   "metadata": {},
   "outputs": [],
   "source": [
    "from joblib import dump, load"
   ]
  },
  {
   "cell_type": "code",
   "execution_count": 218,
   "id": "90c15e82",
   "metadata": {},
   "outputs": [
    {
     "data": {
      "text/plain": [
       "KNeighborsClassifier()"
      ]
     },
     "execution_count": 218,
     "metadata": {},
     "output_type": "execute_result"
    }
   ],
   "source": [
    "knn_classifier"
   ]
  },
  {
   "cell_type": "code",
   "execution_count": 221,
   "id": "43d85436",
   "metadata": {},
   "outputs": [
    {
     "data": {
      "text/plain": [
       "['KNNModelFiles/knn_working_model.joblib']"
      ]
     },
     "execution_count": 221,
     "metadata": {},
     "output_type": "execute_result"
    }
   ],
   "source": [
    "name = 'knn_working_model.joblib'\n",
    "path = 'KNNModelFiles/'\n",
    "dump(knn_classifier, path+name)"
   ]
  },
  {
   "cell_type": "code",
   "execution_count": 222,
   "id": "c0050fba",
   "metadata": {},
   "outputs": [],
   "source": [
    "knn_classifier = load(path+name)"
   ]
  }
 ],
 "metadata": {
  "kernelspec": {
   "display_name": "Python 3",
   "language": "python",
   "name": "python3"
  },
  "language_info": {
   "codemirror_mode": {
    "name": "ipython",
    "version": 3
   },
   "file_extension": ".py",
   "mimetype": "text/x-python",
   "name": "python",
   "nbconvert_exporter": "python",
   "pygments_lexer": "ipython3",
   "version": "3.8.8"
  }
 },
 "nbformat": 4,
 "nbformat_minor": 5
}
