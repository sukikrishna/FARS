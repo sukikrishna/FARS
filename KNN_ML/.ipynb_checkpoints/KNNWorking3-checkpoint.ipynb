{
 "cells": [
  {
   "cell_type": "code",
   "execution_count": 1,
   "metadata": {},
   "outputs": [],
   "source": [
    "# import libraries\n",
    "\n",
    "'''\n",
    "import boto3, re, sys, math, json, os, sagemaker, urllib.request\n",
    "from sagemaker import get_execution_role\n",
    "from IPython.display import Image\n",
    "from IPython.display import display\n",
    "from time import gmtime, strftime\n",
    "from sagemaker.predictor import csv_serializer\n",
    "'''\n",
    "\n",
    "import numpy as np\n",
    "import pandas as pd\n",
    "\n",
    "import seaborn as sns\n",
    "import matplotlib.pyplot as plt\n",
    "\n",
    "# These are all the imports needed for the assignment\n",
    "%matplotlib inline\n",
    "\n",
    "# Import nltk package (Natural Language Toolkit)\n",
    "import nltk\n",
    "from nltk.tokenize import word_tokenize\n",
    "from nltk.corpus import stopwords\n",
    "\n",
    "import warnings\n",
    "warnings.filterwarnings('ignore')\n",
    "\n",
    "# scikit-learn imports\n",
    "from sklearn.model_selection import train_test_split\n",
    "from sklearn.svm import SVC\n",
    "from sklearn.feature_extraction.text import CountVectorizer, TfidfVectorizer\n",
    "from sklearn.metrics import classification_report, precision_recall_fscore_support"
   ]
  },
  {
   "cell_type": "code",
   "execution_count": 2,
   "metadata": {},
   "outputs": [],
   "source": [
    "import pyspark"
   ]
  },
  {
   "cell_type": "code",
   "execution_count": 3,
   "metadata": {},
   "outputs": [],
   "source": [
    "import dask.dataframe as dd"
   ]
  },
  {
   "cell_type": "code",
   "execution_count": 4,
   "metadata": {},
   "outputs": [
    {
     "name": "stderr",
     "output_type": "stream",
     "text": [
      "[nltk_data] Downloading package punkt to\n",
      "[nltk_data]     C:\\Users\\19495\\AppData\\Roaming\\nltk_data...\n",
      "[nltk_data]   Package punkt is already up-to-date!\n",
      "[nltk_data] Downloading package stopwords to\n",
      "[nltk_data]     C:\\Users\\19495\\AppData\\Roaming\\nltk_data...\n",
      "[nltk_data]   Package stopwords is already up-to-date!\n"
     ]
    },
    {
     "data": {
      "text/plain": [
       "True"
      ]
     },
     "execution_count": 4,
     "metadata": {},
     "output_type": "execute_result"
    }
   ],
   "source": [
    "# Download the NLTK English tokenizer and the stopwords of all languages\n",
    "nltk.download('punkt')\n",
    "nltk.download('stopwords')"
   ]
  },
  {
   "cell_type": "markdown",
   "metadata": {},
   "source": [
    "client = boto3.client(\n",
    "    's3',\n",
    "    aws_access_key_id = 'sukiK@2002',\n",
    "    aws_secret_access_key = 'sukik',\n",
    "    region_name = 'ap-west-1'\n",
    ")"
   ]
  },
  {
   "cell_type": "code",
   "execution_count": 5,
   "metadata": {},
   "outputs": [],
   "source": [
    "files = ['amazon_reviews_us_Electronics_v1_00.tsv', \\\n",
    "         'amazon_reviews_us_Gift_Card_v1_00.tsv', \\\n",
    "         'amazon_reviews_us_Major_Appliances_v1_00.tsv', \\\n",
    "         'amazon_reviews_us_Office_Products_v1_00.tsv', \\\n",
    "         'amazon_reviews_us_Shoes_v1_00.tsv', \\\n",
    "         'amazon_reviews_us_Toys_v1_00.tsv', \\\n",
    "         'amazon_reviews_us_Watches_v1_00.tsv']"
   ]
  },
  {
   "cell_type": "code",
   "execution_count": 6,
   "metadata": {},
   "outputs": [],
   "source": [
    "pd.set_option('display.max_columns', None)\n",
    "pd.set_option('display.max_rows', None)\n",
    "pd.set_option('display.max_colwidth', None)"
   ]
  },
  {
   "cell_type": "code",
   "execution_count": 7,
   "metadata": {},
   "outputs": [],
   "source": [
    "columns = ['marketplace', 'customer_id', 'review_id', 'product_id', 'product_parent', 'product_title', 'product_category', \\\n",
    "           'star_rating', 'helpful_votes', 'total_votes', 'vine', 'verified_purchase', 'review_headline', 'review_body', 'review_date']\n",
    "elec_df = pd.read_csv(\"C:/Users/19495/DS3ProjectFiles/amazon_reviews_us_Electronics_v1_00.tsv.gz\", names = columns, sep = '\\t').iloc[1:,:]\n",
    "# 'fars_data/' + files[0]\n",
    "elec_df = elec_df.sample(n = 1_000_000)\n",
    "# 200000"
   ]
  },
  {
   "cell_type": "markdown",
   "metadata": {},
   "source": [
    "columns = ['marketplace', 'customer_id', 'review_id', 'product_id', 'product_parent', 'product_title', 'product_category', 'star_rating', 'helpful_votes', 'total_votes', 'vine', 'verified_purchase', 'review_headline', 'review_body', 'review_date']\n",
    "len(columns)"
   ]
  },
  {
   "cell_type": "markdown",
   "metadata": {},
   "source": [
    "one_file = pd.read_csv('fars_data/' + files[0], names = columns, sep = '\\t').iloc[1:,:]\n",
    "one_file.head()"
   ]
  },
  {
   "cell_type": "markdown",
   "metadata": {},
   "source": [
    "one_file.shape[0]+1"
   ]
  },
  {
   "cell_type": "code",
   "execution_count": 8,
   "metadata": {},
   "outputs": [],
   "source": [
    "one_file = elec_df"
   ]
  },
  {
   "cell_type": "markdown",
   "metadata": {},
   "source": [
    "## Data Sampling"
   ]
  },
  {
   "cell_type": "code",
   "execution_count": 9,
   "metadata": {},
   "outputs": [],
   "source": [
    "def df_sampling(df):\n",
    "    # Since we know that there are more unverified than verified --> we sample based on that\n",
    "    \n",
    "    # Since there are no data values in 'verified_purchase' columns that deviate from 'Y' or 'N' we proceed\n",
    "    verified_count_df = df[df['verified_purchase'] == 'Y']\n",
    "    unverified_count_df = df[df['verified_purchase'] == 'N']\n",
    "    \n",
    "    print(\"Number of verified purchases:\", len(verified_count_df))\n",
    "    print(\"Number of unverified purchases:\", len(unverified_count_df))\n",
    "    \n",
    "    sample_len = len(unverified_count_df)\n",
    "    \n",
    "    verified_sample_df = verified_count_df.sample(n = sample_len)\n",
    "    unified_df = pd.concat([unverified_count_df, verified_sample_df])\n",
    "    \n",
    "    print(\"Number of verified purchases (balanced dataset):\", len(unified_df[unified_df['verified_purchase'] == 'Y']))\n",
    "    print(\"Number of unverified purchases (balanced dataset):\", len(unified_df[unified_df['verified_purchase'] == 'N']))\n",
    "    \n",
    "    return unified_df"
   ]
  },
  {
   "cell_type": "markdown",
   "metadata": {},
   "source": [
    "#test.rename(columns=test.iloc[0])\n",
    "training_data = pd.DataFrame() #initialize an empty dataframe\n",
    "testing_data = pd.DataFrame()\n",
    "\n",
    "one_file = pd.read_csv(data_location + files[1], names = columns, sep = '\\t').iloc[1:,:]"
   ]
  },
  {
   "cell_type": "code",
   "execution_count": 10,
   "metadata": {},
   "outputs": [
    {
     "data": {
      "text/plain": [
       "(1000000, 15)"
      ]
     },
     "execution_count": 10,
     "metadata": {},
     "output_type": "execute_result"
    }
   ],
   "source": [
    "one_file.shape"
   ]
  },
  {
   "cell_type": "code",
   "execution_count": 11,
   "metadata": {},
   "outputs": [
    {
     "name": "stdout",
     "output_type": "stream",
     "text": [
      "Number of verified purchases: 840248\n",
      "Number of unverified purchases: 159752\n",
      "Number of verified purchases (balanced dataset): 159752\n",
      "Number of unverified purchases (balanced dataset): 159752\n"
     ]
    },
    {
     "data": {
      "text/html": [
       "<div>\n",
       "<style scoped>\n",
       "    .dataframe tbody tr th:only-of-type {\n",
       "        vertical-align: middle;\n",
       "    }\n",
       "\n",
       "    .dataframe tbody tr th {\n",
       "        vertical-align: top;\n",
       "    }\n",
       "\n",
       "    .dataframe thead th {\n",
       "        text-align: right;\n",
       "    }\n",
       "</style>\n",
       "<table border=\"1\" class=\"dataframe\">\n",
       "  <thead>\n",
       "    <tr style=\"text-align: right;\">\n",
       "      <th></th>\n",
       "      <th>marketplace</th>\n",
       "      <th>customer_id</th>\n",
       "      <th>review_id</th>\n",
       "      <th>product_id</th>\n",
       "      <th>product_parent</th>\n",
       "      <th>product_title</th>\n",
       "      <th>product_category</th>\n",
       "      <th>star_rating</th>\n",
       "      <th>helpful_votes</th>\n",
       "      <th>total_votes</th>\n",
       "      <th>vine</th>\n",
       "      <th>verified_purchase</th>\n",
       "      <th>review_headline</th>\n",
       "      <th>review_body</th>\n",
       "      <th>review_date</th>\n",
       "    </tr>\n",
       "  </thead>\n",
       "  <tbody>\n",
       "    <tr>\n",
       "      <th>3085200</th>\n",
       "      <td>US</td>\n",
       "      <td>49456999</td>\n",
       "      <td>RCKQ2M05RVJO7</td>\n",
       "      <td>B00003CWED</td>\n",
       "      <td>840980079</td>\n",
       "      <td>Monster Cable MV2R-2M Monster Video 2 High Resolution Video Cable with RCA Connectors (6.56 ft.) (Discontinued by Manufacturer)</td>\n",
       "      <td>Electronics</td>\n",
       "      <td>3</td>\n",
       "      <td>3</td>\n",
       "      <td>4</td>\n",
       "      <td>N</td>\n",
       "      <td>N</td>\n",
       "      <td>Pretty good cable..</td>\n",
       "      <td>I've recently tried out the Monster Video 2 RCA connectors in my home theater system. They seem to carry more than enough bandwidth for VCRs, and pretty good quality on DVD. I noticed a slight bit of noise when using Monster Video 2, but so fine that its not incredibly noticeable on a 25 inch tv. Other than that, it seems to work fine. Good cable.</td>\n",
       "      <td>2001-02-20</td>\n",
       "    </tr>\n",
       "    <tr>\n",
       "      <th>1366359</th>\n",
       "      <td>US</td>\n",
       "      <td>38217713</td>\n",
       "      <td>R3RNB6IXUJL14F</td>\n",
       "      <td>B005HJ94SS</td>\n",
       "      <td>890447288</td>\n",
       "      <td>Dish Network VQ2500 Tailgater Portable Satellite Antenna</td>\n",
       "      <td>Electronics</td>\n",
       "      <td>1</td>\n",
       "      <td>1</td>\n",
       "      <td>1</td>\n",
       "      <td>N</td>\n",
       "      <td>N</td>\n",
       "      <td>Two years no problems then it stopped working, If you are mechanical  Kingcontrol.com will sell you replacement parts</td>\n",
       "      <td>Thank goodness my husband can repair things because there is not a lot of support for tailgater owners. Suggest you buy another product or be prepared to replace if it fails.</td>\n",
       "      <td>2014-05-27</td>\n",
       "    </tr>\n",
       "    <tr>\n",
       "      <th>2280732</th>\n",
       "      <td>US</td>\n",
       "      <td>28464094</td>\n",
       "      <td>R33F1A7DDO60Z</td>\n",
       "      <td>B007O5ATGO</td>\n",
       "      <td>125511251</td>\n",
       "      <td>Pioneer Network Ready AV Receiver</td>\n",
       "      <td>Electronics</td>\n",
       "      <td>4</td>\n",
       "      <td>9</td>\n",
       "      <td>13</td>\n",
       "      <td>N</td>\n",
       "      <td>N</td>\n",
       "      <td>Good Receiver, Bad Pioneer Service and Description</td>\n",
       "      <td>Bought the 1021 last year and wanted to add another system in another room.  Purchased this model because the Pioneer site said it was \\\\\"wireless ready\\\\\" whereas the 1022 was only \\\\\"network ready\\\\\".  Silly us thought that meant this $599 unit could do wireless out of the box similar to our $99 Apple TV.  Wrong. When we called Pioneer to explain that more information regarding needing a wireless adapter for this model should be displayed in the comparison window (not 3 layers deep in the specs)we were treated very rudely.&lt;br /&gt;We contemplated doing a hardwire but in the end purchased a NETGEAR WNCE2001 after reading about the extremely poor quality and high price of the Pioneer adapter.&lt;br /&gt;As far as we could tell this years 1122 seems to be identical to last years 1021, Pioneer just made it seem to be a higher grade model by shifting the model number and price. Both need use an adapter to be wireless.&lt;br /&gt;Love the receiver!</td>\n",
       "      <td>2012-10-31</td>\n",
       "    </tr>\n",
       "    <tr>\n",
       "      <th>1870347</th>\n",
       "      <td>US</td>\n",
       "      <td>29783028</td>\n",
       "      <td>R4Q45ZGXQX0G3</td>\n",
       "      <td>B00E58X7AS</td>\n",
       "      <td>522491704</td>\n",
       "      <td>Goodies® Replacement screws 4 / tool kit for Monster beats by Dr dre SOLO HD Headphones</td>\n",
       "      <td>Electronics</td>\n",
       "      <td>5</td>\n",
       "      <td>0</td>\n",
       "      <td>0</td>\n",
       "      <td>N</td>\n",
       "      <td>N</td>\n",
       "      <td>nice</td>\n",
       "      <td>it's hard to find the screw for SOLO HD headphone. although it is such a tiny part, but it is very helpful and solve my problem.</td>\n",
       "      <td>2013-08-03</td>\n",
       "    </tr>\n",
       "    <tr>\n",
       "      <th>3033962</th>\n",
       "      <td>US</td>\n",
       "      <td>12157270</td>\n",
       "      <td>R2DPO0QXXZWT8S</td>\n",
       "      <td>B0009RTBY0</td>\n",
       "      <td>973314855</td>\n",
       "      <td>Brit Red By For Women. Eau De Parfum Spray 3.4 Ounces</td>\n",
       "      <td>Electronics</td>\n",
       "      <td>5</td>\n",
       "      <td>2</td>\n",
       "      <td>2</td>\n",
       "      <td>N</td>\n",
       "      <td>N</td>\n",
       "      <td>Brit with a Twist!</td>\n",
       "      <td>As always, Burberry does not disappoint. If you like the original Burberry Brit perfume, you will love the ever-so-slightly sweeter, Burberry Brit Red. The fragrance lasts and lasts, is warm but not heavy, and is sure to please anyone who prefers a musky scent to a floral. The pleasant packaging also makes this a wonderful gift, especially during the holiday season.</td>\n",
       "      <td>2005-11-10</td>\n",
       "    </tr>\n",
       "  </tbody>\n",
       "</table>\n",
       "</div>"
      ],
      "text/plain": [
       "        marketplace customer_id       review_id  product_id product_parent  \\\n",
       "3085200          US    49456999   RCKQ2M05RVJO7  B00003CWED      840980079   \n",
       "1366359          US    38217713  R3RNB6IXUJL14F  B005HJ94SS      890447288   \n",
       "2280732          US    28464094   R33F1A7DDO60Z  B007O5ATGO      125511251   \n",
       "1870347          US    29783028   R4Q45ZGXQX0G3  B00E58X7AS      522491704   \n",
       "3033962          US    12157270  R2DPO0QXXZWT8S  B0009RTBY0      973314855   \n",
       "\n",
       "                                                                                                                           product_title  \\\n",
       "3085200  Monster Cable MV2R-2M Monster Video 2 High Resolution Video Cable with RCA Connectors (6.56 ft.) (Discontinued by Manufacturer)   \n",
       "1366359                                                                         Dish Network VQ2500 Tailgater Portable Satellite Antenna   \n",
       "2280732                                                                                                Pioneer Network Ready AV Receiver   \n",
       "1870347                                          Goodies® Replacement screws 4 / tool kit for Monster beats by Dr dre SOLO HD Headphones   \n",
       "3033962                                                                            Brit Red By For Women. Eau De Parfum Spray 3.4 Ounces   \n",
       "\n",
       "        product_category star_rating helpful_votes total_votes vine  \\\n",
       "3085200      Electronics           3             3           4    N   \n",
       "1366359      Electronics           1             1           1    N   \n",
       "2280732      Electronics           4             9          13    N   \n",
       "1870347      Electronics           5             0           0    N   \n",
       "3033962      Electronics           5             2           2    N   \n",
       "\n",
       "        verified_purchase  \\\n",
       "3085200                 N   \n",
       "1366359                 N   \n",
       "2280732                 N   \n",
       "1870347                 N   \n",
       "3033962                 N   \n",
       "\n",
       "                                                                                                               review_headline  \\\n",
       "3085200                                                                                                    Pretty good cable..   \n",
       "1366359  Two years no problems then it stopped working, If you are mechanical  Kingcontrol.com will sell you replacement parts   \n",
       "2280732                                                                     Good Receiver, Bad Pioneer Service and Description   \n",
       "1870347                                                                                                                   nice   \n",
       "3033962                                                                                                     Brit with a Twist!   \n",
       "\n",
       "                                                                                                                                                                                                                                                                                                                                                                                                                                                                                                                                                                                                                                                                                                                                                                                                                                                                                                                                                                             review_body  \\\n",
       "3085200                                                                                                                                                                                                                                                                                                                                                                                                                                                                                                                                                                                                                    I've recently tried out the Monster Video 2 RCA connectors in my home theater system. They seem to carry more than enough bandwidth for VCRs, and pretty good quality on DVD. I noticed a slight bit of noise when using Monster Video 2, but so fine that its not incredibly noticeable on a 25 inch tv. Other than that, it seems to work fine. Good cable.   \n",
       "1366359                                                                                                                                                                                                                                                                                                                                                                                                                                                                                                                                                                                                                                                                                                                                                                                                   Thank goodness my husband can repair things because there is not a lot of support for tailgater owners. Suggest you buy another product or be prepared to replace if it fails.   \n",
       "2280732  Bought the 1021 last year and wanted to add another system in another room.  Purchased this model because the Pioneer site said it was \\\\\"wireless ready\\\\\" whereas the 1022 was only \\\\\"network ready\\\\\".  Silly us thought that meant this $599 unit could do wireless out of the box similar to our $99 Apple TV.  Wrong. When we called Pioneer to explain that more information regarding needing a wireless adapter for this model should be displayed in the comparison window (not 3 layers deep in the specs)we were treated very rudely.<br />We contemplated doing a hardwire but in the end purchased a NETGEAR WNCE2001 after reading about the extremely poor quality and high price of the Pioneer adapter.<br />As far as we could tell this years 1122 seems to be identical to last years 1021, Pioneer just made it seem to be a higher grade model by shifting the model number and price. Both need use an adapter to be wireless.<br />Love the receiver!   \n",
       "1870347                                                                                                                                                                                                                                                                                                                                                                                                                                                                                                                                                                                                                                                                                                                                                                                                                                                 it's hard to find the screw for SOLO HD headphone. although it is such a tiny part, but it is very helpful and solve my problem.   \n",
       "3033962                                                                                                                                                                                                                                                                                                                                                                                                                                                                                                                                                                                                 As always, Burberry does not disappoint. If you like the original Burberry Brit perfume, you will love the ever-so-slightly sweeter, Burberry Brit Red. The fragrance lasts and lasts, is warm but not heavy, and is sure to please anyone who prefers a musky scent to a floral. The pleasant packaging also makes this a wonderful gift, especially during the holiday season.   \n",
       "\n",
       "        review_date  \n",
       "3085200  2001-02-20  \n",
       "1366359  2014-05-27  \n",
       "2280732  2012-10-31  \n",
       "1870347  2013-08-03  \n",
       "3033962  2005-11-10  "
      ]
     },
     "metadata": {},
     "output_type": "display_data"
    }
   ],
   "source": [
    "balanced_elec = df_sampling(one_file)\n",
    "display(balanced_elec.head())"
   ]
  },
  {
   "cell_type": "markdown",
   "metadata": {},
   "source": [
    "### Type Conversion and Exploration"
   ]
  },
  {
   "cell_type": "code",
   "execution_count": 12,
   "metadata": {},
   "outputs": [],
   "source": [
    "def convert_to_int(x):\n",
    "    return int(float(x))"
   ]
  },
  {
   "cell_type": "code",
   "execution_count": 13,
   "metadata": {},
   "outputs": [],
   "source": [
    "#convert all mixed datatypes --> string objects (unable to convert to int)\n",
    "one_file['customer_id'] = one_file['customer_id'].apply(int) #1\n",
    "one_file['product_parent'] = one_file['product_parent'].apply(int) #4\n",
    "one_file['star_rating'] = one_file['star_rating'].apply(int) #7\n",
    "one_file['helpful_votes'] = one_file['helpful_votes'].apply(int) #8\n",
    "one_file['total_votes'] = one_file['total_votes'].apply(int) #9"
   ]
  },
  {
   "cell_type": "markdown",
   "metadata": {},
   "source": [
    "one_file.isnull().sum().sort_values(ascending=False)"
   ]
  },
  {
   "cell_type": "markdown",
   "metadata": {},
   "source": [
    "one_file.dropna(inplace=True) #drop all of the missing values\n",
    "one_file.isnull().sum().sort_values(ascending=False)"
   ]
  },
  {
   "cell_type": "code",
   "execution_count": 14,
   "metadata": {},
   "outputs": [
    {
     "data": {
      "text/html": [
       "<div>\n",
       "<style scoped>\n",
       "    .dataframe tbody tr th:only-of-type {\n",
       "        vertical-align: middle;\n",
       "    }\n",
       "\n",
       "    .dataframe tbody tr th {\n",
       "        vertical-align: top;\n",
       "    }\n",
       "\n",
       "    .dataframe thead th {\n",
       "        text-align: right;\n",
       "    }\n",
       "</style>\n",
       "<table border=\"1\" class=\"dataframe\">\n",
       "  <thead>\n",
       "    <tr style=\"text-align: right;\">\n",
       "      <th></th>\n",
       "      <th>marketplace</th>\n",
       "      <th>customer_id</th>\n",
       "      <th>review_id</th>\n",
       "      <th>product_id</th>\n",
       "      <th>product_parent</th>\n",
       "      <th>product_title</th>\n",
       "      <th>product_category</th>\n",
       "      <th>star_rating</th>\n",
       "      <th>helpful_votes</th>\n",
       "      <th>total_votes</th>\n",
       "      <th>vine</th>\n",
       "      <th>verified_purchase</th>\n",
       "      <th>review_headline</th>\n",
       "      <th>review_body</th>\n",
       "      <th>review_date</th>\n",
       "    </tr>\n",
       "  </thead>\n",
       "  <tbody>\n",
       "    <tr>\n",
       "      <th>414904</th>\n",
       "      <td>US</td>\n",
       "      <td>15355003</td>\n",
       "      <td>RF26FBCE767W7</td>\n",
       "      <td>B0009YJXMI</td>\n",
       "      <td>80062875</td>\n",
       "      <td>Verbatim 4.7GB up to 16x Branded Recordable Disc DVD-R 100-Disc Spindle 95102</td>\n",
       "      <td>Electronics</td>\n",
       "      <td>5</td>\n",
       "      <td>0</td>\n",
       "      <td>0</td>\n",
       "      <td>N</td>\n",
       "      <td>Y</td>\n",
       "      <td>Five Stars</td>\n",
       "      <td>EXCELLENT DEAL. CHEAPER THAN IN STORES.</td>\n",
       "      <td>2015-04-20</td>\n",
       "    </tr>\n",
       "    <tr>\n",
       "      <th>2530942</th>\n",
       "      <td>US</td>\n",
       "      <td>14743717</td>\n",
       "      <td>R26DT9UWZV110G</td>\n",
       "      <td>B0016BENZ0</td>\n",
       "      <td>58392094</td>\n",
       "      <td>C2G/Cables to Go 40448 Value Series Composite Video/Stereo Audio  Cable-6 Feet, Black</td>\n",
       "      <td>Electronics</td>\n",
       "      <td>5</td>\n",
       "      <td>0</td>\n",
       "      <td>0</td>\n",
       "      <td>N</td>\n",
       "      <td>Y</td>\n",
       "      <td>simple and great</td>\n",
       "      <td>This product is easy to use. For the low price, the quality is great. I mainly use it to connect my television to a complete speaker system.</td>\n",
       "      <td>2011-09-21</td>\n",
       "    </tr>\n",
       "    <tr>\n",
       "      <th>646435</th>\n",
       "      <td>US</td>\n",
       "      <td>39636308</td>\n",
       "      <td>R1Q1IQW2IMBST</td>\n",
       "      <td>B0092XYLP6</td>\n",
       "      <td>500604734</td>\n",
       "      <td>Formvan Lot 5 Pcs Plastic Battery Holder Case Storage Box For CR123A 18650 16340</td>\n",
       "      <td>Electronics</td>\n",
       "      <td>4</td>\n",
       "      <td>1</td>\n",
       "      <td>1</td>\n",
       "      <td>N</td>\n",
       "      <td>Y</td>\n",
       "      <td>Cheap and works.</td>\n",
       "      <td>Good product to use my AA as D cell in my daughter's toys and swings.</td>\n",
       "      <td>2015-02-13</td>\n",
       "    </tr>\n",
       "    <tr>\n",
       "      <th>1431981</th>\n",
       "      <td>US</td>\n",
       "      <td>10908387</td>\n",
       "      <td>R3GA7I7YCIWKNQ</td>\n",
       "      <td>B004LY1LJA</td>\n",
       "      <td>390707571</td>\n",
       "      <td>Digital Silence DS101A Noise Cancelling Earphones / Headphones with Mic (Black)</td>\n",
       "      <td>Electronics</td>\n",
       "      <td>4</td>\n",
       "      <td>0</td>\n",
       "      <td>1</td>\n",
       "      <td>N</td>\n",
       "      <td>Y</td>\n",
       "      <td>great noise canceling...</td>\n",
       "      <td>bought them to take them in a 12 hr flight. no need to charge in the complete trip used them for over 25 hrs now and no need to charge yet. very good. very satisfied. very good noise cancelling.</td>\n",
       "      <td>2014-04-14</td>\n",
       "    </tr>\n",
       "    <tr>\n",
       "      <th>3085200</th>\n",
       "      <td>US</td>\n",
       "      <td>49456999</td>\n",
       "      <td>RCKQ2M05RVJO7</td>\n",
       "      <td>B00003CWED</td>\n",
       "      <td>840980079</td>\n",
       "      <td>Monster Cable MV2R-2M Monster Video 2 High Resolution Video Cable with RCA Connectors (6.56 ft.) (Discontinued by Manufacturer)</td>\n",
       "      <td>Electronics</td>\n",
       "      <td>3</td>\n",
       "      <td>3</td>\n",
       "      <td>4</td>\n",
       "      <td>N</td>\n",
       "      <td>N</td>\n",
       "      <td>Pretty good cable..</td>\n",
       "      <td>I've recently tried out the Monster Video 2 RCA connectors in my home theater system. They seem to carry more than enough bandwidth for VCRs, and pretty good quality on DVD. I noticed a slight bit of noise when using Monster Video 2, but so fine that its not incredibly noticeable on a 25 inch tv. Other than that, it seems to work fine. Good cable.</td>\n",
       "      <td>2001-02-20</td>\n",
       "    </tr>\n",
       "  </tbody>\n",
       "</table>\n",
       "</div>"
      ],
      "text/plain": [
       "        marketplace  customer_id       review_id  product_id  product_parent  \\\n",
       "414904           US     15355003   RF26FBCE767W7  B0009YJXMI        80062875   \n",
       "2530942          US     14743717  R26DT9UWZV110G  B0016BENZ0        58392094   \n",
       "646435           US     39636308   R1Q1IQW2IMBST  B0092XYLP6       500604734   \n",
       "1431981          US     10908387  R3GA7I7YCIWKNQ  B004LY1LJA       390707571   \n",
       "3085200          US     49456999   RCKQ2M05RVJO7  B00003CWED       840980079   \n",
       "\n",
       "                                                                                                                           product_title  \\\n",
       "414904                                                     Verbatim 4.7GB up to 16x Branded Recordable Disc DVD-R 100-Disc Spindle 95102   \n",
       "2530942                                            C2G/Cables to Go 40448 Value Series Composite Video/Stereo Audio  Cable-6 Feet, Black   \n",
       "646435                                                  Formvan Lot 5 Pcs Plastic Battery Holder Case Storage Box For CR123A 18650 16340   \n",
       "1431981                                                  Digital Silence DS101A Noise Cancelling Earphones / Headphones with Mic (Black)   \n",
       "3085200  Monster Cable MV2R-2M Monster Video 2 High Resolution Video Cable with RCA Connectors (6.56 ft.) (Discontinued by Manufacturer)   \n",
       "\n",
       "        product_category  star_rating  helpful_votes  total_votes vine  \\\n",
       "414904       Electronics            5              0            0    N   \n",
       "2530942      Electronics            5              0            0    N   \n",
       "646435       Electronics            4              1            1    N   \n",
       "1431981      Electronics            4              0            1    N   \n",
       "3085200      Electronics            3              3            4    N   \n",
       "\n",
       "        verified_purchase           review_headline  \\\n",
       "414904                  Y                Five Stars   \n",
       "2530942                 Y          simple and great   \n",
       "646435                  Y          Cheap and works.   \n",
       "1431981                 Y  great noise canceling...   \n",
       "3085200                 N       Pretty good cable..   \n",
       "\n",
       "                                                                                                                                                                                                                                                                                                                                                           review_body  \\\n",
       "414904                                                                                                                                                                                                                                                                                                                         EXCELLENT DEAL. CHEAPER THAN IN STORES.   \n",
       "2530942                                                                                                                                                                                                                   This product is easy to use. For the low price, the quality is great. I mainly use it to connect my television to a complete speaker system.   \n",
       "646435                                                                                                                                                                                                                                                                                           Good product to use my AA as D cell in my daughter's toys and swings.   \n",
       "1431981                                                                                                                                                             bought them to take them in a 12 hr flight. no need to charge in the complete trip used them for over 25 hrs now and no need to charge yet. very good. very satisfied. very good noise cancelling.   \n",
       "3085200  I've recently tried out the Monster Video 2 RCA connectors in my home theater system. They seem to carry more than enough bandwidth for VCRs, and pretty good quality on DVD. I noticed a slight bit of noise when using Monster Video 2, but so fine that its not incredibly noticeable on a 25 inch tv. Other than that, it seems to work fine. Good cable.   \n",
       "\n",
       "        review_date  \n",
       "414904   2015-04-20  \n",
       "2530942  2011-09-21  \n",
       "646435   2015-02-13  \n",
       "1431981  2014-04-14  \n",
       "3085200  2001-02-20  "
      ]
     },
     "execution_count": 14,
     "metadata": {},
     "output_type": "execute_result"
    }
   ],
   "source": [
    "#there may be tabs in the review that is what is leading to the excluded cases when converting to df\n",
    "\n",
    "'''\n",
    "train_data['verified_purchase'].value_counts()\n",
    "test_data['verified_purchase'].value_counts()\n",
    "'''\n",
    "\n",
    "one_file.head()"
   ]
  },
  {
   "cell_type": "markdown",
   "metadata": {},
   "source": [
    "#to check te datatypes within each column\n",
    "\n",
    "print(train_data.applymap(type))\n",
    "data_types = train_data.applymap(type)"
   ]
  },
  {
   "cell_type": "code",
   "execution_count": 15,
   "metadata": {
    "scrolled": true
   },
   "outputs": [
    {
     "data": {
      "text/plain": [
       "1     738205\n",
       "2      75007\n",
       "3      17207\n",
       "4       5825\n",
       "5       2395\n",
       "6       1102\n",
       "7        623\n",
       "8        372\n",
       "9        258\n",
       "10       143\n",
       "11        96\n",
       "12        61\n",
       "13        56\n",
       "14        36\n",
       "15        30\n",
       "17        24\n",
       "16        22\n",
       "18        13\n",
       "19        12\n",
       "21        11\n",
       "28         8\n",
       "24         5\n",
       "20         5\n",
       "22         5\n",
       "25         5\n",
       "34         5\n",
       "33         3\n",
       "35         3\n",
       "26         3\n",
       "37         2\n",
       "23         2\n",
       "30         2\n",
       "31         2\n",
       "41         2\n",
       "52         1\n",
       "65         1\n",
       "62         1\n",
       "61         1\n",
       "59         1\n",
       "56         1\n",
       "53         1\n",
       "68         1\n",
       "51         1\n",
       "44         1\n",
       "42         1\n",
       "36         1\n",
       "32         1\n",
       "29         1\n",
       "27         1\n",
       "69         1\n",
       "Name: marketplace, dtype: int64"
      ]
     },
     "execution_count": 15,
     "metadata": {},
     "output_type": "execute_result"
    }
   ],
   "source": [
    "#the number of customers that gave multiple reviews\n",
    "#may be valueable to investigate\n",
    "one_file.groupby('customer_id').count()['marketplace'].sort_values(ascending = False).value_counts()"
   ]
  },
  {
   "cell_type": "code",
   "execution_count": 16,
   "metadata": {},
   "outputs": [
    {
     "data": {
      "text/plain": [
       "5    575949\n",
       "4    173085\n",
       "1    116028\n",
       "3     77036\n",
       "2     57902\n",
       "Name: star_rating, dtype: int64"
      ]
     },
     "execution_count": 16,
     "metadata": {},
     "output_type": "execute_result"
    }
   ],
   "source": [
    "one_file['star_rating'].value_counts()"
   ]
  },
  {
   "cell_type": "markdown",
   "metadata": {},
   "source": [
    "## Data Cleaning"
   ]
  },
  {
   "cell_type": "code",
   "execution_count": 17,
   "metadata": {},
   "outputs": [
    {
     "name": "stderr",
     "output_type": "stream",
     "text": [
      "[nltk_data] Downloading package stopwords to\n",
      "[nltk_data]     C:\\Users\\19495\\AppData\\Roaming\\nltk_data...\n",
      "[nltk_data]   Package stopwords is already up-to-date!\n",
      "[nltk_data] Downloading package wordnet to\n",
      "[nltk_data]     C:\\Users\\19495\\AppData\\Roaming\\nltk_data...\n",
      "[nltk_data]   Package wordnet is already up-to-date!\n"
     ]
    }
   ],
   "source": [
    "# Import re for text cleaning purposes\n",
    "import re\n",
    "\n",
    "import nltk.corpus\n",
    "nltk.download('stopwords')\n",
    "from nltk.corpus import stopwords\n",
    "\n",
    "from nltk.stem.porter import PorterStemmer\n",
    "nltk.download('wordnet')\n",
    "from nltk.stem import WordNetLemmatizer"
   ]
  },
  {
   "cell_type": "code",
   "execution_count": 18,
   "metadata": {},
   "outputs": [],
   "source": [
    "def df_cleaning(df, col):\n",
    "    # Drop rows with na values\n",
    "    df.dropna(inplace = True)\n",
    "    \n",
    "    new_col_name = 'new_' + col\n",
    "    \n",
    "    df[new_col_name] = df[col].copy() \n",
    "    \n",
    "    # Remove unwanted formatting characters\n",
    "    format_strs = dict.fromkeys(['<br /><br />', '&#34', 'br', '&quot', '<br />'], ' ')\n",
    "    \n",
    "    for key in format_strs:\n",
    "        df[new_col_name] = df[new_col_name].apply(lambda review: review.replace(key, format_strs[key]))\n",
    "    # removing quotes produces smthg like this --> 'The product has great ;sound; --> we must remove punctuation\n",
    "\n",
    "    \n",
    "    # Case normalization (lower case)\n",
    "    df[new_col_name] = df[new_col_name].str.lower()\n",
    "    \n",
    "    remove_dict = {\"0\": \"\", \"1\": \"\", \"2\": \"\", \"3\": \"\", \"4\": \"\", \"5\": \"\", \"6\": \"\", \"7\": \"\", \"8\": \"\", \"9\": \"\",\n",
    "                   \"(\": \"\", \")\":\"\"}\n",
    "    for key, val in remove_dict.items():\n",
    "        df[new_col_name] = df[new_col_name].apply(\n",
    "            lambda x: x.replace(key, val))\n",
    "        \n",
    "    # Remove stopwords\n",
    "    stop_lst = stopwords.words('english')\n",
    "    #stop_lst += ([\"can't\", \"i'm\" \"i'd\", \"i've\", \"i'll\", \"that's\", \"there's\", \"they're\"])\n",
    "    # ****Do we not have to take stopwords out BEFORE removing punctuation? Otherwise words with punct like “cant” remains there\n",
    "    df[new_col_name] = df[new_col_name].apply(lambda text_body: \" \".join([word for word in text_body.split() if word not in (stop_lst)]))\n",
    "    \n",
    "    # Removing Unicode Chars (punctuation, URL, @)\n",
    "    df[new_col_name] = df[new_col_name].apply(lambda rev: re.sub(r\"(@\\[A-Za-z0-9]+)|([^0-9A-Za-z \\t])|(\\w+:\\/\\/\\S+)|^rt|http.+?\", \"\", rev))\n",
    "    \n",
    "    # Lemmatization\n",
    "    word_lemmatizer = WordNetLemmatizer()\n",
    "    df[new_col_name] = df[new_col_name].apply(lambda txt: \" \".join([(word_lemmatizer.lemmatize(word)) for word in txt.split()]))\n",
    "    \n",
    "    return df"
   ]
  },
  {
   "cell_type": "markdown",
   "metadata": {},
   "source": [
    "cleaned = df_cleaning(one_file)"
   ]
  },
  {
   "cell_type": "code",
   "execution_count": 19,
   "metadata": {},
   "outputs": [],
   "source": [
    "cleaned2 = df_cleaning(one_file, 'review_body')"
   ]
  },
  {
   "cell_type": "code",
   "execution_count": 20,
   "metadata": {},
   "outputs": [
    {
     "data": {
      "text/html": [
       "<div>\n",
       "<style scoped>\n",
       "    .dataframe tbody tr th:only-of-type {\n",
       "        vertical-align: middle;\n",
       "    }\n",
       "\n",
       "    .dataframe tbody tr th {\n",
       "        vertical-align: top;\n",
       "    }\n",
       "\n",
       "    .dataframe thead th {\n",
       "        text-align: right;\n",
       "    }\n",
       "</style>\n",
       "<table border=\"1\" class=\"dataframe\">\n",
       "  <thead>\n",
       "    <tr style=\"text-align: right;\">\n",
       "      <th></th>\n",
       "      <th>review_body</th>\n",
       "      <th>new_review_body</th>\n",
       "    </tr>\n",
       "  </thead>\n",
       "  <tbody>\n",
       "    <tr>\n",
       "      <th>414904</th>\n",
       "      <td>EXCELLENT DEAL. CHEAPER THAN IN STORES.</td>\n",
       "      <td>excellent deal cheaper store</td>\n",
       "    </tr>\n",
       "    <tr>\n",
       "      <th>2530942</th>\n",
       "      <td>This product is easy to use. For the low price, the quality is great. I mainly use it to connect my television to a complete speaker system.</td>\n",
       "      <td>product easy use low price quality great mainly use connect television complete speaker system</td>\n",
       "    </tr>\n",
       "    <tr>\n",
       "      <th>646435</th>\n",
       "      <td>Good product to use my AA as D cell in my daughter's toys and swings.</td>\n",
       "      <td>good product use aa cell daughter toy swing</td>\n",
       "    </tr>\n",
       "    <tr>\n",
       "      <th>1431981</th>\n",
       "      <td>bought them to take them in a 12 hr flight. no need to charge in the complete trip used them for over 25 hrs now and no need to charge yet. very good. very satisfied. very good noise cancelling.</td>\n",
       "      <td>bought take hr flight need charge complete trip used hr need charge yet good satisfied good noise cancelling</td>\n",
       "    </tr>\n",
       "    <tr>\n",
       "      <th>3085200</th>\n",
       "      <td>I've recently tried out the Monster Video 2 RCA connectors in my home theater system. They seem to carry more than enough bandwidth for VCRs, and pretty good quality on DVD. I noticed a slight bit of noise when using Monster Video 2, but so fine that its not incredibly noticeable on a 25 inch tv. Other than that, it seems to work fine. Good cable.</td>\n",
       "      <td>ive recently tried monster video rca connector home theater system seem carry enough bandwidth vcr pretty good quality dvd noticed slight bit noise using monster video fine incredibly noticeable inch tv that seems work fine good cable</td>\n",
       "    </tr>\n",
       "  </tbody>\n",
       "</table>\n",
       "</div>"
      ],
      "text/plain": [
       "                                                                                                                                                                                                                                                                                                                                                           review_body  \\\n",
       "414904                                                                                                                                                                                                                                                                                                                         EXCELLENT DEAL. CHEAPER THAN IN STORES.   \n",
       "2530942                                                                                                                                                                                                                   This product is easy to use. For the low price, the quality is great. I mainly use it to connect my television to a complete speaker system.   \n",
       "646435                                                                                                                                                                                                                                                                                           Good product to use my AA as D cell in my daughter's toys and swings.   \n",
       "1431981                                                                                                                                                             bought them to take them in a 12 hr flight. no need to charge in the complete trip used them for over 25 hrs now and no need to charge yet. very good. very satisfied. very good noise cancelling.   \n",
       "3085200  I've recently tried out the Monster Video 2 RCA connectors in my home theater system. They seem to carry more than enough bandwidth for VCRs, and pretty good quality on DVD. I noticed a slight bit of noise when using Monster Video 2, but so fine that its not incredibly noticeable on a 25 inch tv. Other than that, it seems to work fine. Good cable.   \n",
       "\n",
       "                                                                                                                                                                                                                                    new_review_body  \n",
       "414904                                                                                                                                                                                                                 excellent deal cheaper store  \n",
       "2530942                                                                                                                                              product easy use low price quality great mainly use connect television complete speaker system  \n",
       "646435                                                                                                                                                                                                  good product use aa cell daughter toy swing  \n",
       "1431981                                                                                                                                bought take hr flight need charge complete trip used hr need charge yet good satisfied good noise cancelling  \n",
       "3085200  ive recently tried monster video rca connector home theater system seem carry enough bandwidth vcr pretty good quality dvd noticed slight bit noise using monster video fine incredibly noticeable inch tv that seems work fine good cable  "
      ]
     },
     "execution_count": 20,
     "metadata": {},
     "output_type": "execute_result"
    }
   ],
   "source": [
    "cleaned2.get(['review_body', 'new_review_body']).head()"
   ]
  },
  {
   "cell_type": "code",
   "execution_count": 21,
   "metadata": {},
   "outputs": [],
   "source": [
    "cleaned2 = df_cleaning(one_file, 'review_headline')"
   ]
  },
  {
   "cell_type": "code",
   "execution_count": 22,
   "metadata": {},
   "outputs": [
    {
     "data": {
      "text/html": [
       "<div>\n",
       "<style scoped>\n",
       "    .dataframe tbody tr th:only-of-type {\n",
       "        vertical-align: middle;\n",
       "    }\n",
       "\n",
       "    .dataframe tbody tr th {\n",
       "        vertical-align: top;\n",
       "    }\n",
       "\n",
       "    .dataframe thead th {\n",
       "        text-align: right;\n",
       "    }\n",
       "</style>\n",
       "<table border=\"1\" class=\"dataframe\">\n",
       "  <thead>\n",
       "    <tr style=\"text-align: right;\">\n",
       "      <th></th>\n",
       "      <th>review_headline</th>\n",
       "      <th>new_review_headline</th>\n",
       "    </tr>\n",
       "  </thead>\n",
       "  <tbody>\n",
       "    <tr>\n",
       "      <th>414904</th>\n",
       "      <td>Five Stars</td>\n",
       "      <td>five star</td>\n",
       "    </tr>\n",
       "    <tr>\n",
       "      <th>2530942</th>\n",
       "      <td>simple and great</td>\n",
       "      <td>simple great</td>\n",
       "    </tr>\n",
       "    <tr>\n",
       "      <th>646435</th>\n",
       "      <td>Cheap and works.</td>\n",
       "      <td>cheap work</td>\n",
       "    </tr>\n",
       "    <tr>\n",
       "      <th>1431981</th>\n",
       "      <td>great noise canceling...</td>\n",
       "      <td>great noise canceling</td>\n",
       "    </tr>\n",
       "    <tr>\n",
       "      <th>3085200</th>\n",
       "      <td>Pretty good cable..</td>\n",
       "      <td>pretty good cable</td>\n",
       "    </tr>\n",
       "  </tbody>\n",
       "</table>\n",
       "</div>"
      ],
      "text/plain": [
       "                  review_headline    new_review_headline\n",
       "414904                 Five Stars              five star\n",
       "2530942          simple and great           simple great\n",
       "646435           Cheap and works.             cheap work\n",
       "1431981  great noise canceling...  great noise canceling\n",
       "3085200       Pretty good cable..      pretty good cable"
      ]
     },
     "execution_count": 22,
     "metadata": {},
     "output_type": "execute_result"
    }
   ],
   "source": [
    "cleaned2.get(['review_headline', 'new_review_headline']).head()"
   ]
  },
  {
   "cell_type": "code",
   "execution_count": 23,
   "metadata": {},
   "outputs": [],
   "source": [
    "cleaned2 = df_cleaning(one_file, 'product_title')"
   ]
  },
  {
   "cell_type": "code",
   "execution_count": 24,
   "metadata": {},
   "outputs": [
    {
     "data": {
      "text/html": [
       "<div>\n",
       "<style scoped>\n",
       "    .dataframe tbody tr th:only-of-type {\n",
       "        vertical-align: middle;\n",
       "    }\n",
       "\n",
       "    .dataframe tbody tr th {\n",
       "        vertical-align: top;\n",
       "    }\n",
       "\n",
       "    .dataframe thead th {\n",
       "        text-align: right;\n",
       "    }\n",
       "</style>\n",
       "<table border=\"1\" class=\"dataframe\">\n",
       "  <thead>\n",
       "    <tr style=\"text-align: right;\">\n",
       "      <th></th>\n",
       "      <th>product_title</th>\n",
       "      <th>new_product_title</th>\n",
       "    </tr>\n",
       "  </thead>\n",
       "  <tbody>\n",
       "    <tr>\n",
       "      <th>414904</th>\n",
       "      <td>Verbatim 4.7GB up to 16x Branded Recordable Disc DVD-R 100-Disc Spindle 95102</td>\n",
       "      <td>verbatim gb x branded recordable disc dvdr disc spindle</td>\n",
       "    </tr>\n",
       "    <tr>\n",
       "      <th>2530942</th>\n",
       "      <td>C2G/Cables to Go 40448 Value Series Composite Video/Stereo Audio  Cable-6 Feet, Black</td>\n",
       "      <td>cgcables go value series composite videostereo audio cable foot black</td>\n",
       "    </tr>\n",
       "    <tr>\n",
       "      <th>646435</th>\n",
       "      <td>Formvan Lot 5 Pcs Plastic Battery Holder Case Storage Box For CR123A 18650 16340</td>\n",
       "      <td>formvan lot pc plastic battery holder case storage box cra</td>\n",
       "    </tr>\n",
       "    <tr>\n",
       "      <th>1431981</th>\n",
       "      <td>Digital Silence DS101A Noise Cancelling Earphones / Headphones with Mic (Black)</td>\n",
       "      <td>digital silence dsa noise cancelling earphone headphone mic black</td>\n",
       "    </tr>\n",
       "    <tr>\n",
       "      <th>3085200</th>\n",
       "      <td>Monster Cable MV2R-2M Monster Video 2 High Resolution Video Cable with RCA Connectors (6.56 ft.) (Discontinued by Manufacturer)</td>\n",
       "      <td>monster cable mvrm monster video high resolution video cable rca connector ft discontinued manufacturer</td>\n",
       "    </tr>\n",
       "  </tbody>\n",
       "</table>\n",
       "</div>"
      ],
      "text/plain": [
       "                                                                                                                           product_title  \\\n",
       "414904                                                     Verbatim 4.7GB up to 16x Branded Recordable Disc DVD-R 100-Disc Spindle 95102   \n",
       "2530942                                            C2G/Cables to Go 40448 Value Series Composite Video/Stereo Audio  Cable-6 Feet, Black   \n",
       "646435                                                  Formvan Lot 5 Pcs Plastic Battery Holder Case Storage Box For CR123A 18650 16340   \n",
       "1431981                                                  Digital Silence DS101A Noise Cancelling Earphones / Headphones with Mic (Black)   \n",
       "3085200  Monster Cable MV2R-2M Monster Video 2 High Resolution Video Cable with RCA Connectors (6.56 ft.) (Discontinued by Manufacturer)   \n",
       "\n",
       "                                                                                               new_product_title  \n",
       "414904                                                   verbatim gb x branded recordable disc dvdr disc spindle  \n",
       "2530942                                    cgcables go value series composite videostereo audio cable foot black  \n",
       "646435                                                formvan lot pc plastic battery holder case storage box cra  \n",
       "1431981                                        digital silence dsa noise cancelling earphone headphone mic black  \n",
       "3085200  monster cable mvrm monster video high resolution video cable rca connector ft discontinued manufacturer  "
      ]
     },
     "execution_count": 24,
     "metadata": {},
     "output_type": "execute_result"
    }
   ],
   "source": [
    "cleaned2.get(['product_title', 'new_product_title']).head()"
   ]
  },
  {
   "cell_type": "code",
   "execution_count": 25,
   "metadata": {},
   "outputs": [
    {
     "data": {
      "text/plain": [
       "'EXCELLENT DEAL. CHEAPER THAN IN STORES.'"
      ]
     },
     "execution_count": 25,
     "metadata": {},
     "output_type": "execute_result"
    }
   ],
   "source": [
    "cleaned2.iloc[0].get('review_body')"
   ]
  },
  {
   "cell_type": "markdown",
   "metadata": {},
   "source": [
    "## Vader Sentiment Analysis"
   ]
  },
  {
   "cell_type": "code",
   "execution_count": 26,
   "metadata": {},
   "outputs": [],
   "source": [
    "from vaderSentiment.vaderSentiment import SentimentIntensityAnalyzer\n",
    "\n",
    "analyser = SentimentIntensityAnalyzer()\n",
    "\n",
    "def get_sentiment_scores(review):\n",
    "    \"\"\"\n",
    "    create new dataframe with just the proportions for each review\n",
    "    four columns\n",
    "    neg_prop, pos_prop, neu_prop, compound_prop and will contain these values\n",
    "    obtained from the vator sentiment algorithm\n",
    "    \"\"\"\n",
    "    snt = analyser.polarity_scores(review)\n",
    "    #print(f\"{sentence} {str(snt)}\")\n",
    "    return snt"
   ]
  },
  {
   "cell_type": "code",
   "execution_count": 27,
   "metadata": {},
   "outputs": [
    {
     "data": {
      "text/plain": [
       "{'neg': 0.0, 'neu': 0.575, 'pos': 0.425, 'compound': 0.5719}"
      ]
     },
     "execution_count": 27,
     "metadata": {},
     "output_type": "execute_result"
    }
   ],
   "source": [
    "get_sentiment_scores(cleaned2.iloc[0].get('review_body')) #without lemmitization"
   ]
  },
  {
   "cell_type": "code",
   "execution_count": 28,
   "metadata": {},
   "outputs": [
    {
     "data": {
      "text/plain": [
       "{'neg': 0.0, 'neu': 0.448, 'pos': 0.552, 'compound': 0.5719}"
      ]
     },
     "execution_count": 28,
     "metadata": {},
     "output_type": "execute_result"
    }
   ],
   "source": [
    "get_sentiment_scores(cleaned2.iloc[0].get('new_review_body')) #with lemmitization"
   ]
  },
  {
   "cell_type": "code",
   "execution_count": 29,
   "metadata": {},
   "outputs": [],
   "source": [
    "one_file = cleaned2"
   ]
  },
  {
   "cell_type": "code",
   "execution_count": 30,
   "metadata": {},
   "outputs": [],
   "source": [
    "one_file['rev_dict'] = one_file['new_review_body'].apply(get_sentiment_scores)"
   ]
  },
  {
   "cell_type": "code",
   "execution_count": 31,
   "metadata": {},
   "outputs": [],
   "source": [
    "def get_neg(review_dict):\n",
    "    return review_dict['neg']\n",
    "\n",
    "def get_neu(review_dict):\n",
    "    return review_dict['neu']\n",
    "\n",
    "def get_pos(review_dict):\n",
    "    return review_dict['pos']\n",
    "\n",
    "def get_compound(review_dict):\n",
    "    return review_dict['compound']\n",
    "\n",
    "def only_compound(x):\n",
    "    dct = get_sentiment_scores(x)\n",
    "    return dct['compound']"
   ]
  },
  {
   "cell_type": "code",
   "execution_count": 32,
   "metadata": {},
   "outputs": [],
   "source": [
    "#get neg prop\n",
    "one_file['neg_prop'] = one_file['rev_dict'].apply(get_neg)\n",
    "#get neu prop\n",
    "one_file['neu_prop'] = one_file['rev_dict'].apply(get_neu)\n",
    "#get pos prop\n",
    "one_file['pos_prop'] = one_file['rev_dict'].apply(get_pos)\n",
    "#get compound prop\n",
    "one_file['compound_prop'] = one_file['rev_dict'].apply(get_compound)"
   ]
  },
  {
   "cell_type": "code",
   "execution_count": 34,
   "metadata": {},
   "outputs": [],
   "source": [
    "#save the dataframe as a csv file\n",
    "#one_file.to_csv('electronics_data_cleaned.csv')"
   ]
  },
  {
   "cell_type": "markdown",
   "metadata": {},
   "source": [
    "### Sentiment Analysis"
   ]
  },
  {
   "cell_type": "markdown",
   "metadata": {},
   "source": [
    "#df is all data other than rating 3\n",
    "df = one_file[one_file['star_rating'] != 3]"
   ]
  },
  {
   "cell_type": "markdown",
   "metadata": {},
   "source": [
    "df['star_rating'].value_counts()"
   ]
  },
  {
   "cell_type": "markdown",
   "metadata": {},
   "source": [
    "df['positively_rated'] = np.where(df['star_rating'] > 3, 1, 0)"
   ]
  },
  {
   "cell_type": "markdown",
   "metadata": {},
   "source": [
    "df['positively_rated'].value_counts()"
   ]
  },
  {
   "cell_type": "markdown",
   "metadata": {},
   "source": [
    "sns.countplot(df['positively_rated'])"
   ]
  },
  {
   "cell_type": "markdown",
   "metadata": {},
   "source": [
    "##### On all of the data"
   ]
  },
  {
   "cell_type": "markdown",
   "metadata": {},
   "source": [
    "train_data, test_data = np.split(one_file.sample(frac=1, random_state=1729), [int(0.7 * len(one_file))])\n",
    "print(train_data.shape, test_data.shape)"
   ]
  },
  {
   "cell_type": "markdown",
   "metadata": {},
   "source": [
    "X_train = train_data['review_body']\n",
    "X_train.iloc[0] #to_frame()"
   ]
  },
  {
   "cell_type": "markdown",
   "metadata": {},
   "source": [
    "Y_train = train_data['star_rating']"
   ]
  },
  {
   "cell_type": "markdown",
   "metadata": {},
   "source": [
    "X_test = test_data['review_body']\n",
    "Y_test = test_data['star_rating']"
   ]
  },
  {
   "cell_type": "markdown",
   "metadata": {},
   "source": [
    "#### TF-IDF - to get predictions of what star rating will be based on text of review"
   ]
  },
  {
   "cell_type": "markdown",
   "metadata": {},
   "source": [
    "from sklearn.feature_extraction.text import TfidfVectorizer"
   ]
  },
  {
   "cell_type": "markdown",
   "metadata": {},
   "source": [
    "vect = TfidfVectorizer().fit(X_train)"
   ]
  },
  {
   "cell_type": "markdown",
   "metadata": {},
   "source": [
    "len(vect.get_feature_names()) #unique words"
   ]
  },
  {
   "cell_type": "markdown",
   "metadata": {},
   "source": [
    "X_train_vect = vect.transform(X_train)"
   ]
  },
  {
   "cell_type": "markdown",
   "metadata": {},
   "source": [
    "from sklearn.linear_model import LogisticRegression\n",
    "model = LogisticRegression()\n",
    "model.fit(X_train_vect, Y_train)"
   ]
  },
  {
   "cell_type": "markdown",
   "metadata": {},
   "source": [
    "predictions = model.predict(vect.transform(X_test))"
   ]
  },
  {
   "cell_type": "markdown",
   "metadata": {},
   "source": [
    "len(predictions)"
   ]
  },
  {
   "cell_type": "markdown",
   "metadata": {},
   "source": [
    "###### Confusion Matrix - shows probabilities for whether cat data is predicted correctly"
   ]
  },
  {
   "cell_type": "code",
   "execution_count": 35,
   "metadata": {},
   "outputs": [],
   "source": [
    "def plot_confusion_matrix(cm, target_names,\n",
    "                          fname, epoch,\n",
    "                          title='Confusion matrix',\n",
    "                          cmap=None,\n",
    "                          normalize=True, target=None):\n",
    "    import matplotlib.pyplot as plt\n",
    "    import numpy as np\n",
    "    import itertools\n",
    "    plt.style.use('default')\n",
    "\n",
    "    # # only true if it weren't normalized:\n",
    "    # accuracy = np.trace(cm) / float(np.sum(cm))\n",
    "    # misclass = 1 - accuracy\n",
    "\n",
    "    if cmap is None:\n",
    "        cmap = plt.get_cmap('Blues')\n",
    "\n",
    "    if normalize:\n",
    "        cm = cm.astype('float') / cm.sum(axis=1)[:, np.newaxis]\n",
    "    cm[np.isnan(cm)] = 0.0\n",
    "\n",
    "    fig = plt.figure(figsize=(5, 4))\n",
    "    ax = plt.axes()\n",
    "    plt.imshow(cm, interpolation='nearest', cmap=cmap)\n",
    "    if target == \"rule-based\":\n",
    "        plt.title(title + ' for rule-based PF')\n",
    "    else:\n",
    "        plt.title(title + ' for MLPF at epoch ' + str(epoch))\n",
    "\n",
    "    plt.colorbar()\n",
    "\n",
    "    if target_names is not None:\n",
    "        tick_marks = np.arange(len(target_names))\n",
    "        plt.xticks(tick_marks, target_names, rotation=45)\n",
    "        plt.yticks(tick_marks, target_names)\n",
    "\n",
    "    thresh = cm.max() / 1.5 if normalize else cm.max() / 2\n",
    "    for i, j in itertools.product(range(cm.shape[0]), range(cm.shape[1])):\n",
    "        if normalize:\n",
    "            plt.text(j, i, \"{:0.2f}\".format(cm[i, j]),\n",
    "                     horizontalalignment=\"center\",\n",
    "                     color=\"white\" if cm[i, j] > thresh else \"black\")\n",
    "        else:\n",
    "            plt.text(j, i, \"{:,}\".format(cm[i, j]),\n",
    "                     horizontalalignment=\"center\",\n",
    "                     color=\"white\" if cm[i, j] > thresh else \"black\")\n",
    "\n",
    "    plt.ylabel('True label')\n",
    "    plt.xlim(-1, len(target_names))\n",
    "    plt.ylim(-1, len(target_names))\n",
    "    plt.xlabel('Predicted label')\n",
    "    # plt.xlabel('Predicted label\\naccuracy={:0.4f}; misclass={:0.4f}'.format(accuracy, misclass))\n",
    "    plt.tight_layout()\n",
    "    plt.savefig(fname + '.png')\n",
    "    plt.savefig(fname + '.pdf')\n",
    "    #plt.close(fig)\n",
    "\n",
    "    return fig, ax"
   ]
  },
  {
   "cell_type": "markdown",
   "metadata": {},
   "source": [
    "### SVM Notes"
   ]
  },
  {
   "cell_type": "markdown",
   "metadata": {},
   "source": [
    "- **Bag of Words (BoW)**\n",
    "        - BoW encodes an input sentence as the frequency of each word in the sentence. \n",
    "        - In this approach, all words contribute equally to the feature vectors.\n",
    "- **Term Frequency - Inverse Document Frequency (TF-IDF)**\n",
    "        - TF-IDF is a measure of how important each term is to a specific document, as compared to an overall corpus. \n",
    "        - TF-IDF encodes each word as its frequency in the document of interest, divided by a measure of how common the word is across all documents (the corpus).\n",
    "        - Using this approach, each word contributes differently to the feature vectors.\n",
    "        - The assumption behind using TF-IDF is that words that appear commonly everywhere are not that informative about what is specifically interesting about a document of interest, so it is tuned to representing a document in terms of the words it uses that are different from other documents. \n",
    "\n",
    "- To compare those 2 methods, we will first apply them on the same dataset to analyse sentiment (how positive or negative a text is). In order to make the comparison fair, an **SVM (support vector machine)** classifier will be used to classify positive reviews and negative reviews.\n",
    "\n",
    "- SVM is a simple yet powerful and interpretable linear model. To use it as a classifier, we need to have at least 2 splits of the data: training data and test data. The training data is used to tune the weight parameters in the SVM to learn an optimal way to classify the training data. We can then test this trained SVM classifier on the test data, to see how well it works on data that the classifier has not seen before. "
   ]
  },
  {
   "cell_type": "markdown",
   "metadata": {},
   "source": [
    "We will now create a CountVectorizer object to transform the text data into vectors with numerical values.\n",
    "\n",
    "To do so, we will initialize a CountVectorizer object, and name it as vectorizer.\n",
    "\n",
    "4 arguments to initialize a CountVectorizer:\n",
    "\n",
    "* analyzer: 'word'\n",
    " Specify to analyze data from word-level.\n",
    " \n",
    "* max_features: 2000\n",
    " Set a max number of unique words.\n",
    " \n",
    "* tokenizer: word_tokenize\n",
    " Set to tokenize the text data by using the word_tokenizer from NLTK .\n",
    " \n",
    "* stop_words: stopwords.words('english')\n",
    " Set to remove all stopwords in English. We do this since they generally don't provide useful discriminative information."
   ]
  },
  {
   "cell_type": "markdown",
   "metadata": {},
   "source": [
    "## KNN"
   ]
  },
  {
   "cell_type": "code",
   "execution_count": 36,
   "metadata": {},
   "outputs": [],
   "source": [
    "import numpy as np\n",
    "import matplotlib.pyplot as plt\n",
    "import pandas as pd\n",
    "import sklearn"
   ]
  },
  {
   "cell_type": "code",
   "execution_count": 37,
   "metadata": {},
   "outputs": [
    {
     "data": {
      "text/plain": [
       "Index(['marketplace', 'customer_id', 'review_id', 'product_id',\n",
       "       'product_parent', 'product_title', 'product_category', 'star_rating',\n",
       "       'helpful_votes', 'total_votes', 'vine', 'verified_purchase',\n",
       "       'review_headline', 'review_body', 'review_date', 'new_review_body',\n",
       "       'new_review_headline', 'new_product_title', 'rev_dict', 'neg_prop',\n",
       "       'neu_prop', 'pos_prop', 'compound_prop'],\n",
       "      dtype='object')"
      ]
     },
     "execution_count": 37,
     "metadata": {},
     "output_type": "execute_result"
    }
   ],
   "source": [
    "one_file.columns"
   ]
  },
  {
   "cell_type": "code",
   "execution_count": 38,
   "metadata": {},
   "outputs": [],
   "source": [
    "def convert_to_id(x):\n",
    "    alphabet = {'a': 1, 'c': 3, 'b': 2, 'e': 5, 'd': 4, 'g': 7, 'f': 6, 'i': 9, 'h': 8, 'k': 11, 'j': 10, 'm': 13, 'l': 12, 'o': 15, 'n': 14, 'q': 17, 'p': 16, 's': 19, 'r': 18, 'u': 21, 't': 20, 'w': 23, 'v': 22, 'y': 25, 'x': 24, 'z': 26}\n",
    "    out = ''\n",
    "    for i in x:\n",
    "        if i.lower() in alphabet.keys():\n",
    "            out += str(alphabet[i.lower()])\n",
    "        else:\n",
    "            out += i\n",
    "    return out"
   ]
  },
  {
   "cell_type": "code",
   "execution_count": 40,
   "metadata": {},
   "outputs": [],
   "source": [
    "one_file['product_id_convert'] = one_file.get(\"product_id\").apply(convert_to_id)"
   ]
  },
  {
   "cell_type": "code",
   "execution_count": null,
   "metadata": {},
   "outputs": [],
   "source": [
    "one_file['product_category_convert'] = one_file.get(\"product_category\").apply(convert_to_id)"
   ]
  },
  {
   "cell_type": "code",
   "execution_count": 41,
   "metadata": {},
   "outputs": [],
   "source": [
    "one_file['prod_title_comp'] = one_file.get(\"new_product_title\").apply(only_compound)"
   ]
  },
  {
   "cell_type": "code",
   "execution_count": 42,
   "metadata": {},
   "outputs": [],
   "source": [
    "one_file['rev_title_comp'] = one_file.get(\"new_review_headline\").apply(only_compound)"
   ]
  },
  {
   "cell_type": "markdown",
   "metadata": {},
   "source": [
    "def help_prop(vals):\n",
    "    if vals[1] == 0:\n",
    "        return 0.5\n",
    "    else:\n",
    "        return vals[0] / vals[1]"
   ]
  },
  {
   "cell_type": "code",
   "execution_count": 43,
   "metadata": {},
   "outputs": [],
   "source": [
    "def helpful_prop(df):  \n",
    "    vote_series = pd.Series(df['helpful_votes'] / df['total_votes'])\n",
    "    # !! All nan values in votes_prop should be changed to zero: this means that 0/0 occurred !!\n",
    "    vote_series = vote_series.fillna(0)\n",
    "    return vote_series"
   ]
  },
  {
   "cell_type": "code",
   "execution_count": 44,
   "metadata": {},
   "outputs": [],
   "source": [
    "#NEED TO THINK OF WHAT WOULD HAPPEN IF THE NUMBER OF TOTAL VOTES WOULD BE 0\n",
    "one_file['help_prop'] = helpful_prop(one_file)\n",
    "# one_file.get(\"helpful_votes\") / one_file.get(\"total_votes\")\n",
    "#one_file['help_prop'] = one_file.get(\"helpful_votes\").apply(help_prop)"
   ]
  },
  {
   "cell_type": "code",
   "execution_count": null,
   "metadata": {},
   "outputs": [],
   "source": [
    "#one_file.iloc[2].to_frame()"
   ]
  },
  {
   "cell_type": "code",
   "execution_count": 45,
   "metadata": {},
   "outputs": [],
   "source": [
    "def id_for_dictionary(dic):\n",
    "    if len(dic) == 4:\n",
    "        ind = list(dic.values()).index(max(list(dic.values())[0:-1])) #remove the compound\n",
    "    else:\n",
    "        ind = list(dic.values()).index(max(list(dic.values())))\n",
    "        \n",
    "    if ind == 1:\n",
    "        return 0\n",
    "    elif ind == 0:\n",
    "        return -1\n",
    "    else:\n",
    "        return 1"
   ]
  },
  {
   "cell_type": "code",
   "execution_count": 46,
   "metadata": {},
   "outputs": [],
   "source": [
    "def id_for_prop(prop):\n",
    "    if prop < 0.45:\n",
    "        return -1\n",
    "    elif prop > 0.55:\n",
    "        return 1\n",
    "    else:\n",
    "        return 0"
   ]
  },
  {
   "cell_type": "code",
   "execution_count": 47,
   "metadata": {},
   "outputs": [],
   "source": [
    "one_file['rev_bod_id'] = one_file.get(\"rev_dict\").apply(id_for_dictionary)"
   ]
  },
  {
   "cell_type": "code",
   "execution_count": 48,
   "metadata": {},
   "outputs": [],
   "source": [
    "one_file['help_prop_id'] = one_file.get(\"help_prop\").apply(id_for_prop)"
   ]
  },
  {
   "cell_type": "markdown",
   "metadata": {},
   "source": [
    "find percentages for the body -- text and display those in a column -- act as labels for the percent positivity of the review body and header themselves"
   ]
  },
  {
   "cell_type": "code",
   "execution_count": 49,
   "metadata": {},
   "outputs": [],
   "source": [
    "#imp_col = one_file[['verified_purchase', 'prod_title_comp', 'star_rating', 'rev_title_comp', 'neg_prop', 'neu_prop', 'pos_prop', 'help_prop']]\n",
    "imp_col = one_file[['verified_purchase', 'prod_title_comp', 'star_rating', 'rev_title_comp', 'rev_bod_id', 'help_prop_id']]"
   ]
  },
  {
   "cell_type": "code",
   "execution_count": 50,
   "metadata": {},
   "outputs": [
    {
     "data": {
      "text/plain": [
       "verified_purchase     object\n",
       "prod_title_comp      float64\n",
       "star_rating            int64\n",
       "rev_title_comp       float64\n",
       "rev_bod_id             int64\n",
       "help_prop_id           int64\n",
       "dtype: object"
      ]
     },
     "execution_count": 50,
     "metadata": {},
     "output_type": "execute_result"
    }
   ],
   "source": [
    "imp_col.dtypes"
   ]
  },
  {
   "cell_type": "code",
   "execution_count": 51,
   "metadata": {},
   "outputs": [
    {
     "data": {
      "text/plain": [
       "'\\nfrom sklearn.preprocessing import LabelEncoder\\nle = LabelEncoder()\\nX[:,1] = le.fit_transform(X[:,1])\\n'"
      ]
     },
     "execution_count": 51,
     "metadata": {},
     "output_type": "execute_result"
    }
   ],
   "source": [
    "#need to replace review_body and review_headline with percentages for sentiment -- easier to use for classification\n",
    "#vine needs to be converted to a yes/no binary column similar to how positively rated was determined\n",
    "#use original dataset with rating 3 available\n",
    "\n",
    "#X = imp_col.iloc[:, [1, 2, 3, 4, 5, 6, 7, 8, 9, 10, 11]].values\n",
    "X = imp_col.iloc[:, [1,2,3,4,5]].values #only taking in the categories that will be used as a dataframe\n",
    "y = imp_col.iloc[:, 0].values\n",
    "\n",
    "\"\"\"\n",
    "from sklearn.preprocessing import LabelEncoder\n",
    "le = LabelEncoder()\n",
    "X[:,1] = le.fit_transform(X[:,1])\n",
    "\"\"\""
   ]
  },
  {
   "cell_type": "code",
   "execution_count": 52,
   "metadata": {},
   "outputs": [
    {
     "data": {
      "text/plain": [
       "array([[ 0.    ,  5.    ,  0.    ,  1.    , -1.    ],\n",
       "       [ 0.34  ,  5.    ,  0.6249,  0.    , -1.    ],\n",
       "       [ 0.    ,  4.    ,  0.    ,  0.    ,  1.    ],\n",
       "       ...,\n",
       "       [ 0.3612,  1.    ,  0.1779,  0.    ,  1.    ],\n",
       "       [ 0.296 ,  3.    ,  0.4404,  0.    ,  1.    ],\n",
       "       [ 0.4019,  5.    ,  0.4404,  1.    , -1.    ]])"
      ]
     },
     "execution_count": 52,
     "metadata": {},
     "output_type": "execute_result"
    }
   ],
   "source": [
    "X"
   ]
  },
  {
   "cell_type": "markdown",
   "metadata": {},
   "source": [
    "#Since our dataset containing character variables we have to encode it using LabelEncoder\n",
    "\n",
    "from sklearn.preprocessing import LabelEncoder\n",
    "le = LabelEncoder()\n",
    "X[:,2] = le.fit_transform(X[:,2])"
   ]
  },
  {
   "cell_type": "code",
   "execution_count": 55,
   "metadata": {},
   "outputs": [],
   "source": [
    "from sklearn.model_selection import train_test_split\n",
    "X_train, X_test, y_train, y_test = train_test_split(X, y, test_size = 0.20, random_state = 0)"
   ]
  },
  {
   "cell_type": "code",
   "execution_count": 56,
   "metadata": {},
   "outputs": [],
   "source": [
    "# Next, we are doing feature scaling to the training and test set of independent variables for reducing the size to smaller values\n",
    "#from sklearn.preprocessing import StandardScaler\n",
    "#sc = StandardScaler()\n",
    "#X_train = sc.fit_transform(X_train)\n",
    "#X_test = sc.transform(X_test)"
   ]
  },
  {
   "cell_type": "code",
   "execution_count": 57,
   "metadata": {},
   "outputs": [
    {
     "data": {
      "text/plain": [
       "KNeighborsClassifier(algorithm='auto', leaf_size=30, metric='euclidean',\n",
       "                     metric_params=None, n_jobs=None, n_neighbors=20, p=1,\n",
       "                     weights='uniform')"
      ]
     },
     "execution_count": 57,
     "metadata": {},
     "output_type": "execute_result"
    }
   ],
   "source": [
    "from sklearn.neighbors import KNeighborsClassifier\n",
    "\n",
    "#we are using \n",
    "#5 neighborhood points are required for classifying a given point -- distance metric is using the minkonowski equation\n",
    "knn_classifier = KNeighborsClassifier(n_neighbors = 20, metric = 'euclidean', p = 1)\n",
    "knn_classifier.fit(X_train, y_train)"
   ]
  },
  {
   "cell_type": "code",
   "execution_count": 58,
   "metadata": {},
   "outputs": [],
   "source": [
    "y_pred = knn_classifier.predict(X_test)"
   ]
  },
  {
   "cell_type": "code",
   "execution_count": 59,
   "metadata": {},
   "outputs": [],
   "source": [
    "#We can evaluate our model using the confusion matrix and accuracy score by comparing the predicted and actual test values\n",
    "\n",
    "from sklearn.metrics import confusion_matrix,accuracy_score\n",
    "cm = confusion_matrix(y_test, y_pred)\n",
    "ac = accuracy_score(y_test,y_pred)"
   ]
  },
  {
   "cell_type": "code",
   "execution_count": 60,
   "metadata": {},
   "outputs": [
    {
     "name": "stdout",
     "output_type": "stream",
     "text": [
      "[[   964  30980]\n",
      " [  1682 166363]]\n"
     ]
    }
   ],
   "source": [
    "print(cm)"
   ]
  },
  {
   "cell_type": "code",
   "execution_count": 61,
   "metadata": {},
   "outputs": [
    {
     "name": "stdout",
     "output_type": "stream",
     "text": [
      "0.8366810174559601\n"
     ]
    }
   ],
   "source": [
    "print(ac)"
   ]
  },
  {
   "cell_type": "code",
   "execution_count": null,
   "metadata": {},
   "outputs": [],
   "source": [
    "#Can see the model performance and add more features accordingly -- \n",
    "#would be good if the performance is greater than 85%"
   ]
  },
  {
   "cell_type": "markdown",
   "metadata": {},
   "source": [
    "### Test on a product review - Need to write a *function* for this for taking in the user input\n",
    "\n",
    "The features that we are looking at!\n",
    "* 'prod_title_comp', \n",
    "* 'star_rating', \n",
    "* 'rev_title_comp', \n",
    "* 'rev_bod_id', \n",
    "* 'help_prop_id'"
   ]
  },
  {
   "cell_type": "code",
   "execution_count": 69,
   "metadata": {},
   "outputs": [],
   "source": [
    "review_body = \"this is a good review\"\n",
    "product_title = \"Sony Headphones\"\n",
    "review_title = 'Love the product!'\n",
    "\n",
    "star_rating = 5\n",
    "helpful_votes = 1\n",
    "total_votes = 1"
   ]
  },
  {
   "cell_type": "code",
   "execution_count": 70,
   "metadata": {},
   "outputs": [
    {
     "data": {
      "text/html": [
       "<div>\n",
       "<style scoped>\n",
       "    .dataframe tbody tr th:only-of-type {\n",
       "        vertical-align: middle;\n",
       "    }\n",
       "\n",
       "    .dataframe tbody tr th {\n",
       "        vertical-align: top;\n",
       "    }\n",
       "\n",
       "    .dataframe thead th {\n",
       "        text-align: right;\n",
       "    }\n",
       "</style>\n",
       "<table border=\"1\" class=\"dataframe\">\n",
       "  <thead>\n",
       "    <tr style=\"text-align: right;\">\n",
       "      <th></th>\n",
       "      <th>review_body</th>\n",
       "      <th>review_title</th>\n",
       "      <th>product_title</th>\n",
       "    </tr>\n",
       "  </thead>\n",
       "  <tbody>\n",
       "    <tr>\n",
       "      <th>0</th>\n",
       "      <td>this is a good review</td>\n",
       "      <td>Love the product!</td>\n",
       "      <td>Sony Headphones</td>\n",
       "    </tr>\n",
       "  </tbody>\n",
       "</table>\n",
       "</div>"
      ],
      "text/plain": [
       "             review_body       review_title    product_title\n",
       "0  this is a good review  Love the product!  Sony Headphones"
      ]
     },
     "execution_count": 70,
     "metadata": {},
     "output_type": "execute_result"
    }
   ],
   "source": [
    "test = pd.DataFrame()\n",
    "test['review_body'] = np.array([review_body])\n",
    "test['review_title'] = np.array([review_title])\n",
    "test['product_title'] = np.array([product_title])\n",
    "test"
   ]
  },
  {
   "cell_type": "code",
   "execution_count": 71,
   "metadata": {},
   "outputs": [
    {
     "data": {
      "text/html": [
       "<div>\n",
       "<style scoped>\n",
       "    .dataframe tbody tr th:only-of-type {\n",
       "        vertical-align: middle;\n",
       "    }\n",
       "\n",
       "    .dataframe tbody tr th {\n",
       "        vertical-align: top;\n",
       "    }\n",
       "\n",
       "    .dataframe thead th {\n",
       "        text-align: right;\n",
       "    }\n",
       "</style>\n",
       "<table border=\"1\" class=\"dataframe\">\n",
       "  <thead>\n",
       "    <tr style=\"text-align: right;\">\n",
       "      <th></th>\n",
       "      <th>review_body</th>\n",
       "      <th>review_title</th>\n",
       "      <th>product_title</th>\n",
       "      <th>new_review_body</th>\n",
       "      <th>new_review_title</th>\n",
       "      <th>new_product_title</th>\n",
       "    </tr>\n",
       "  </thead>\n",
       "  <tbody>\n",
       "    <tr>\n",
       "      <th>0</th>\n",
       "      <td>this is a good review</td>\n",
       "      <td>Love the product!</td>\n",
       "      <td>Sony Headphones</td>\n",
       "      <td>good review</td>\n",
       "      <td>love product</td>\n",
       "      <td>sony headphone</td>\n",
       "    </tr>\n",
       "  </tbody>\n",
       "</table>\n",
       "</div>"
      ],
      "text/plain": [
       "             review_body       review_title    product_title new_review_body  \\\n",
       "0  this is a good review  Love the product!  Sony Headphones     good review   \n",
       "\n",
       "  new_review_title new_product_title  \n",
       "0     love product    sony headphone  "
      ]
     },
     "execution_count": 71,
     "metadata": {},
     "output_type": "execute_result"
    }
   ],
   "source": [
    "out = df_cleaning(test, 'review_body')\n",
    "out = df_cleaning(out, 'review_title')\n",
    "out = df_cleaning(out, 'product_title')\n",
    "out"
   ]
  },
  {
   "cell_type": "code",
   "execution_count": 72,
   "metadata": {},
   "outputs": [
    {
     "data": {
      "text/plain": [
       "'this is a good review'"
      ]
     },
     "execution_count": 72,
     "metadata": {},
     "output_type": "execute_result"
    }
   ],
   "source": [
    "out['review_body'][0]"
   ]
  },
  {
   "cell_type": "markdown",
   "metadata": {},
   "source": [
    "def get_sentiment_proportions(review):\n",
    "    \"\"\"\n",
    "    create new dataframe with just the proportions for each review\n",
    "    four columns\n",
    "    neg_prop, pos_prop, neu_prop, compound_prop and will contain these values\n",
    "    obtained from the vator sentiment algorithm\n",
    "    \"\"\"\n",
    "    snt = analyser.polarity_scores(review)\n",
    "    #print(f\"{sentence} {str(snt)}\")\n",
    "    neg = snt['neg']\n",
    "    neu = snt['neu']\n",
    "    pos = snt['pos']\n",
    "    #compound = snt['compound']\n",
    "    return neg, neu, pos\n",
    "\n",
    "neg, neu, pos = get_sentiment_proportions(out.get(\"new_review_body\").iloc[0])\n",
    "\n",
    "product_category = convert_to_id(product_category)\n",
    "product_title = only_compound(product_title)\n",
    "rev_title = only_compound(review_title)"
   ]
  },
  {
   "cell_type": "code",
   "execution_count": 73,
   "metadata": {},
   "outputs": [],
   "source": [
    "rev_bod_id = id_for_dictionary(analyser.polarity_scores(out['new_review_body'][0]))\n",
    "help_prop_id = id_for_prop(helpful_votes / total_votes)\n",
    "prod_title_comp = only_compound(out['new_product_title'][0])\n",
    "rev_title_comp = only_compound(out['new_review_title'][0])"
   ]
  },
  {
   "cell_type": "markdown",
   "metadata": {},
   "source": [
    "Predicted: 'verified_purchase'\n",
    "\n",
    "User Input: 'prod_title_comp', 'product_category_convert', 'star_rating', 'helpful_votes', 'total_votes', 'neg_prop', 'neu_prop', 'pos_prop'\n",
    "- 8 fields"
   ]
  },
  {
   "cell_type": "code",
   "execution_count": 74,
   "metadata": {},
   "outputs": [
    {
     "data": {
      "text/plain": [
       "array([[0.    , 5.    , 0.6369, 1.    , 1.    ]])"
      ]
     },
     "execution_count": 74,
     "metadata": {},
     "output_type": "execute_result"
    }
   ],
   "source": [
    "rev_input_test = np.array([[prod_title_comp, star_rating, rev_title_comp, rev_bod_id, help_prop_id]])\n",
    "rev_input_test"
   ]
  },
  {
   "cell_type": "code",
   "execution_count": 75,
   "metadata": {},
   "outputs": [],
   "source": [
    "prediction, probabilities = knn_classifier.predict(rev_input_test), knn_classifier.predict_proba(rev_input_test)[0]"
   ]
  },
  {
   "cell_type": "code",
   "execution_count": 76,
   "metadata": {},
   "outputs": [
    {
     "data": {
      "text/plain": [
       "array(['Y'], dtype=object)"
      ]
     },
     "execution_count": 76,
     "metadata": {},
     "output_type": "execute_result"
    }
   ],
   "source": [
    "prediction"
   ]
  },
  {
   "cell_type": "code",
   "execution_count": 77,
   "metadata": {},
   "outputs": [
    {
     "data": {
      "text/plain": [
       "array([0.2, 0.8])"
      ]
     },
     "execution_count": 77,
     "metadata": {},
     "output_type": "execute_result"
    }
   ],
   "source": [
    "probabilities"
   ]
  },
  {
   "cell_type": "markdown",
   "metadata": {},
   "source": [
    "classifier?"
   ]
  },
  {
   "cell_type": "code",
   "execution_count": 78,
   "metadata": {},
   "outputs": [
    {
     "ename": "NameError",
     "evalue": "name 'review_test' is not defined",
     "output_type": "error",
     "traceback": [
      "\u001b[1;31m---------------------------------------------------------------------------\u001b[0m",
      "\u001b[1;31mNameError\u001b[0m                                 Traceback (most recent call last)",
      "\u001b[1;32m<ipython-input-78-21de6c9d9f96>\u001b[0m in \u001b[0;36m<module>\u001b[1;34m\u001b[0m\n\u001b[0;32m      6\u001b[0m         \u001b[0mprint\u001b[0m\u001b[1;33m(\u001b[0m\u001b[1;34mf'\"{review}\" is predicted to be an UNVERIFIED review, with {proba[0]*100}% probability of being UNVERIFIED and {proba[1]*100}% probability of being VERIFIED'\u001b[0m\u001b[1;33m)\u001b[0m\u001b[1;33m\u001b[0m\u001b[1;33m\u001b[0m\u001b[0m\n\u001b[0;32m      7\u001b[0m \u001b[1;33m\u001b[0m\u001b[0m\n\u001b[1;32m----> 8\u001b[1;33m \u001b[0minterpret_prediction\u001b[0m\u001b[1;33m(\u001b[0m\u001b[0mreview_test\u001b[0m\u001b[1;33m,\u001b[0m \u001b[0mprediction\u001b[0m\u001b[1;33m,\u001b[0m \u001b[0mprobabilities\u001b[0m\u001b[1;33m)\u001b[0m\u001b[1;33m\u001b[0m\u001b[1;33m\u001b[0m\u001b[0m\n\u001b[0m",
      "\u001b[1;31mNameError\u001b[0m: name 'review_test' is not defined"
     ]
    }
   ],
   "source": [
    "def interpret_prediction(review, pred, proba):\n",
    "    proba = [round(proba[0], 3), round(proba[1], 3)]\n",
    "    if prediction[0] == 'Y':\n",
    "        print(f'\"{review}\" is predicted to be a VERIFIED review, with {proba[1]*100}% probability of being VERIFIED and {proba[0]*100}% probability of being UNVERIFIED')\n",
    "    if prediction[0] == 'N':\n",
    "        print(f'\"{review}\" is predicted to be an UNVERIFIED review, with {proba[0]*100}% probability of being UNVERIFIED and {proba[1]*100}% probability of being VERIFIED')\n",
    "        \n",
    "interpret_prediction(review_test, prediction, probabilities)"
   ]
  },
  {
   "cell_type": "code",
   "execution_count": 79,
   "metadata": {},
   "outputs": [],
   "source": [
    "from joblib import dump, load"
   ]
  },
  {
   "cell_type": "code",
   "execution_count": 80,
   "metadata": {},
   "outputs": [
    {
     "data": {
      "text/plain": [
       "KNeighborsClassifier(algorithm='auto', leaf_size=30, metric='euclidean',\n",
       "                     metric_params=None, n_jobs=None, n_neighbors=20, p=1,\n",
       "                     weights='uniform')"
      ]
     },
     "execution_count": 80,
     "metadata": {},
     "output_type": "execute_result"
    }
   ],
   "source": [
    "knn_classifier"
   ]
  },
  {
   "cell_type": "code",
   "execution_count": null,
   "metadata": {},
   "outputs": [],
   "source": [
    "#name = 'knn_working_model.joblib'\n",
    "#path = 'KNNModelFiles/'\n",
    "#dump(knn_classifier, path+name)"
   ]
  },
  {
   "cell_type": "code",
   "execution_count": null,
   "metadata": {},
   "outputs": [],
   "source": [
    "#knn_classifier = load(path+name)"
   ]
  },
  {
   "cell_type": "code",
   "execution_count": 237,
   "metadata": {},
   "outputs": [],
   "source": [
    "name = 'knn_electronics_million_model.joblib'\n",
    "dump(knn_classifier, name)\n",
    "knn_classifier = load(name)"
   ]
  },
  {
   "cell_type": "markdown",
   "metadata": {},
   "source": [
    "## Getting Reviews"
   ]
  },
  {
   "cell_type": "code",
   "execution_count": 105,
   "metadata": {},
   "outputs": [
    {
     "data": {
      "text/plain": [
       "[900,\n",
       " 1141,\n",
       " 1242,\n",
       " 1516,\n",
       " 2021,\n",
       " 2094,\n",
       " 2334,\n",
       " 2382,\n",
       " 2629,\n",
       " 2836,\n",
       " 2927,\n",
       " 3112,\n",
       " 3137,\n",
       " 3419,\n",
       " 3745,\n",
       " 3811,\n",
       " 3881,\n",
       " 4046,\n",
       " 4074,\n",
       " 4163,\n",
       " 4190,\n",
       " 4196,\n",
       " 4402,\n",
       " 4591,\n",
       " 4698,\n",
       " 4802,\n",
       " 5134,\n",
       " 6207,\n",
       " 6545,\n",
       " 7220,\n",
       " 7406,\n",
       " 7604,\n",
       " 7685,\n",
       " 8087,\n",
       " 8692,\n",
       " 9374,\n",
       " 9533,\n",
       " 9628,\n",
       " 9737,\n",
       " 10122,\n",
       " 10384,\n",
       " 10960,\n",
       " 11160,\n",
       " 11395,\n",
       " 11434,\n",
       " 11575,\n",
       " 12321,\n",
       " 12497,\n",
       " 12612,\n",
       " 12730,\n",
       " 12808,\n",
       " 12878,\n",
       " 12948,\n",
       " 13023,\n",
       " 13200,\n",
       " 13259,\n",
       " 13263,\n",
       " 13885,\n",
       " 14073,\n",
       " 14217,\n",
       " 14225,\n",
       " 14725,\n",
       " 14797,\n",
       " 15247,\n",
       " 15321,\n",
       " 15333,\n",
       " 15381,\n",
       " 15533,\n",
       " 15888,\n",
       " 15890,\n",
       " 16087,\n",
       " 16300,\n",
       " 16327,\n",
       " 16340,\n",
       " 16395,\n",
       " 16609,\n",
       " 16863,\n",
       " 17182,\n",
       " 17344,\n",
       " 17350,\n",
       " 18124,\n",
       " 18281,\n",
       " 18394,\n",
       " 18455,\n",
       " 19175,\n",
       " 19469,\n",
       " 19502,\n",
       " 19523,\n",
       " 19677,\n",
       " 19682,\n",
       " 19970,\n",
       " 20594,\n",
       " 20733,\n",
       " 21039,\n",
       " 21249,\n",
       " 22236,\n",
       " 22273,\n",
       " 22576,\n",
       " 22621,\n",
       " 22675,\n",
       " 23184,\n",
       " 23330,\n",
       " 23682,\n",
       " 23749,\n",
       " 24093,\n",
       " 24971,\n",
       " 25325,\n",
       " 25362,\n",
       " 25511,\n",
       " 26262,\n",
       " 26440,\n",
       " 26889,\n",
       " 27009,\n",
       " 27588,\n",
       " 27748,\n",
       " 28140,\n",
       " 28289,\n",
       " 28881,\n",
       " 29059,\n",
       " 29067,\n",
       " 29122,\n",
       " 29370,\n",
       " 29635,\n",
       " 30241,\n",
       " 30280,\n",
       " 30386,\n",
       " 30437,\n",
       " 30598,\n",
       " 30624,\n",
       " 30720,\n",
       " 31131,\n",
       " 31185,\n",
       " 31438,\n",
       " 31557,\n",
       " 31570,\n",
       " 31708,\n",
       " 31920,\n",
       " 31974,\n",
       " 32119,\n",
       " 32370,\n",
       " 32418,\n",
       " 33059,\n",
       " 33105,\n",
       " 33488,\n",
       " 33514,\n",
       " 33729,\n",
       " 33794,\n",
       " 33807,\n",
       " 33849,\n",
       " 34234,\n",
       " 34371,\n",
       " 34472,\n",
       " 34905,\n",
       " 35127,\n",
       " 35204,\n",
       " 35287,\n",
       " 35291,\n",
       " 35320,\n",
       " 35354,\n",
       " 35499,\n",
       " 35967,\n",
       " 36292,\n",
       " 36360,\n",
       " 36521,\n",
       " 36538,\n",
       " 36995,\n",
       " 37067,\n",
       " 37163,\n",
       " 37238,\n",
       " 37763,\n",
       " 37926,\n",
       " 37974,\n",
       " 38212,\n",
       " 38386,\n",
       " 38451,\n",
       " 38835,\n",
       " 39120,\n",
       " 39158,\n",
       " 39160,\n",
       " 39294,\n",
       " 39531,\n",
       " 39563,\n",
       " 39695,\n",
       " 39798,\n",
       " 40701,\n",
       " 40867,\n",
       " 41121,\n",
       " 41408,\n",
       " 41660,\n",
       " 42150,\n",
       " 42180,\n",
       " 42380,\n",
       " 42437,\n",
       " 42794,\n",
       " 42845,\n",
       " 43188,\n",
       " 43420,\n",
       " 44335,\n",
       " 44795,\n",
       " 45484,\n",
       " 45787,\n",
       " 46180,\n",
       " 46460,\n",
       " 47095,\n",
       " 47107,\n",
       " 47826,\n",
       " 48064,\n",
       " 48136,\n",
       " 48764,\n",
       " 48782,\n",
       " 49959,\n",
       " 49978,\n",
       " 50020,\n",
       " 50104,\n",
       " 50446,\n",
       " 50467,\n",
       " 50825,\n",
       " 51021,\n",
       " 51148,\n",
       " 51389,\n",
       " 51412,\n",
       " 51430,\n",
       " 51716,\n",
       " 51923,\n",
       " 52198,\n",
       " 52347,\n",
       " 52382,\n",
       " 52390,\n",
       " 52589,\n",
       " 53035,\n",
       " 53483,\n",
       " 53746,\n",
       " 53902,\n",
       " 53918,\n",
       " 53968,\n",
       " 54422,\n",
       " 55363,\n",
       " 55486,\n",
       " 56489,\n",
       " 56523,\n",
       " 56613,\n",
       " 56697,\n",
       " 56789,\n",
       " 57000,\n",
       " 57006,\n",
       " 57189,\n",
       " 57305,\n",
       " 57434,\n",
       " 57597,\n",
       " 57677,\n",
       " 57750,\n",
       " 58369,\n",
       " 59025,\n",
       " 59529,\n",
       " 59919,\n",
       " 59987,\n",
       " 60079,\n",
       " 60101,\n",
       " 60289,\n",
       " 60481,\n",
       " 60702,\n",
       " 60773,\n",
       " 60781,\n",
       " 60975,\n",
       " 61075,\n",
       " 61101,\n",
       " 61267,\n",
       " 61311,\n",
       " 61686,\n",
       " 61732,\n",
       " 62347,\n",
       " 62382,\n",
       " 62538,\n",
       " 62638,\n",
       " 62699,\n",
       " 62939,\n",
       " 63007,\n",
       " 63325,\n",
       " 63512,\n",
       " 63522,\n",
       " 63828,\n",
       " 63955,\n",
       " 64120,\n",
       " 64173,\n",
       " 64174,\n",
       " 64681,\n",
       " 65170,\n",
       " 65233,\n",
       " 65865,\n",
       " 66443,\n",
       " 66623,\n",
       " 66665,\n",
       " 68076,\n",
       " 68254,\n",
       " 68534,\n",
       " 68536,\n",
       " 68942,\n",
       " 69215,\n",
       " 69372,\n",
       " 69648,\n",
       " 69667,\n",
       " 69672,\n",
       " 69715,\n",
       " 70059,\n",
       " 70088,\n",
       " 70186,\n",
       " 70339,\n",
       " 70350,\n",
       " 71383,\n",
       " 71772,\n",
       " 72398,\n",
       " 72534,\n",
       " 72582,\n",
       " 72931,\n",
       " 73224,\n",
       " 73366,\n",
       " 73503,\n",
       " 73864,\n",
       " 73942,\n",
       " 74017,\n",
       " 74199,\n",
       " 74243,\n",
       " 74303,\n",
       " 74393,\n",
       " 74611,\n",
       " 74884,\n",
       " 74889,\n",
       " 74952,\n",
       " 75135,\n",
       " 75147,\n",
       " 75154,\n",
       " 75258,\n",
       " 75513,\n",
       " 76321,\n",
       " 76336,\n",
       " 76450,\n",
       " 76639,\n",
       " 76709,\n",
       " 76743,\n",
       " 76801,\n",
       " 77263,\n",
       " 77264,\n",
       " 77365,\n",
       " 77815,\n",
       " 78222,\n",
       " 78268,\n",
       " 78509,\n",
       " 79016,\n",
       " 79078,\n",
       " 79344,\n",
       " 79758,\n",
       " 79988,\n",
       " 80497,\n",
       " 80676,\n",
       " 80866,\n",
       " 80911,\n",
       " 80982,\n",
       " 81069,\n",
       " 81220,\n",
       " 81305,\n",
       " 81465,\n",
       " 81618,\n",
       " 81802,\n",
       " 81813,\n",
       " 81938,\n",
       " 81982,\n",
       " 82147,\n",
       " 82566,\n",
       " 82938,\n",
       " 83346,\n",
       " 83751,\n",
       " 84288,\n",
       " 84502,\n",
       " 84591,\n",
       " 84647,\n",
       " 84696,\n",
       " 85763,\n",
       " 86112,\n",
       " 86265,\n",
       " 86299,\n",
       " 86352,\n",
       " 86467,\n",
       " 86485,\n",
       " 86731,\n",
       " 86809,\n",
       " 86958,\n",
       " 87014,\n",
       " 87084,\n",
       " 87397,\n",
       " 87483,\n",
       " 87924,\n",
       " 87957,\n",
       " 88151,\n",
       " 88638,\n",
       " 88789,\n",
       " 88884,\n",
       " 89092,\n",
       " 89256,\n",
       " 89286,\n",
       " 89540,\n",
       " 89558,\n",
       " 89801,\n",
       " 89934,\n",
       " 89991,\n",
       " 90016,\n",
       " 90268,\n",
       " 90511,\n",
       " 90555,\n",
       " 90719,\n",
       " 91359,\n",
       " 91361,\n",
       " 91566,\n",
       " 91670,\n",
       " 91814,\n",
       " 91991,\n",
       " 92197,\n",
       " 92557,\n",
       " 92676,\n",
       " 92754,\n",
       " 92788,\n",
       " 92795,\n",
       " 93349,\n",
       " 93486,\n",
       " 93491,\n",
       " 93716,\n",
       " 93875,\n",
       " 93952,\n",
       " 93985,\n",
       " 94178,\n",
       " 94525,\n",
       " 94596,\n",
       " 94866,\n",
       " 95019,\n",
       " 95449,\n",
       " 95489,\n",
       " 95543,\n",
       " 95624,\n",
       " 95968,\n",
       " 96402,\n",
       " 96406,\n",
       " 96630,\n",
       " 96659,\n",
       " 96685,\n",
       " 96754,\n",
       " 96969,\n",
       " 97020,\n",
       " 97319,\n",
       " 97348,\n",
       " 97390,\n",
       " 97531,\n",
       " 97627,\n",
       " 98172,\n",
       " 98257,\n",
       " 98259,\n",
       " 98475,\n",
       " 98581,\n",
       " 98741,\n",
       " 99139,\n",
       " 99284,\n",
       " 99452,\n",
       " 99526,\n",
       " 99538,\n",
       " 99552,\n",
       " 99662,\n",
       " 99735,\n",
       " 100239,\n",
       " 100333,\n",
       " 100392,\n",
       " 100538,\n",
       " 100741,\n",
       " 100860,\n",
       " 100943,\n",
       " 101403,\n",
       " 101640,\n",
       " 101911,\n",
       " 102079,\n",
       " 102178,\n",
       " 102194,\n",
       " 102588,\n",
       " 102726,\n",
       " 102797,\n",
       " 102880,\n",
       " 103090,\n",
       " 103256,\n",
       " 103358,\n",
       " 103475,\n",
       " 103706,\n",
       " 104127,\n",
       " 104669,\n",
       " 104721,\n",
       " 104944,\n",
       " 105042,\n",
       " 105093,\n",
       " 105246,\n",
       " 105306,\n",
       " 105488,\n",
       " 105775,\n",
       " 105901,\n",
       " 106017,\n",
       " 106110,\n",
       " 106246,\n",
       " 106515,\n",
       " 106694,\n",
       " 106703,\n",
       " 106816,\n",
       " 106982,\n",
       " 107188,\n",
       " 107241,\n",
       " 107400,\n",
       " 107598,\n",
       " 107838,\n",
       " 108288,\n",
       " 108576,\n",
       " 108624,\n",
       " 108977,\n",
       " 109559,\n",
       " 110026,\n",
       " 110584,\n",
       " 110907,\n",
       " 111050,\n",
       " 111494,\n",
       " 111919,\n",
       " 112211,\n",
       " 112389,\n",
       " 112583,\n",
       " 112690,\n",
       " 112955,\n",
       " 113619,\n",
       " 113797,\n",
       " 113885,\n",
       " 114427,\n",
       " 114585,\n",
       " 114586,\n",
       " 115171,\n",
       " 115407,\n",
       " 116265,\n",
       " 116511,\n",
       " 116721,\n",
       " 116825,\n",
       " 116882,\n",
       " 117065,\n",
       " 117090,\n",
       " 117207,\n",
       " 117516,\n",
       " 117543,\n",
       " 117935,\n",
       " 117954,\n",
       " 117964,\n",
       " 117986,\n",
       " 118083,\n",
       " 118128,\n",
       " 118218,\n",
       " 118303,\n",
       " 118649,\n",
       " 118814,\n",
       " 119008,\n",
       " 119053,\n",
       " 119058,\n",
       " 119427,\n",
       " 120041,\n",
       " 120497,\n",
       " 120505,\n",
       " 120721,\n",
       " 120832,\n",
       " 120921,\n",
       " 120938,\n",
       " 121317,\n",
       " 121592,\n",
       " 121774,\n",
       " 121805,\n",
       " 121838,\n",
       " 121975,\n",
       " 122017,\n",
       " 122253,\n",
       " 122706,\n",
       " 122787,\n",
       " 123241,\n",
       " 123424,\n",
       " 123454,\n",
       " 123531,\n",
       " 124061,\n",
       " 124185,\n",
       " 124241,\n",
       " 124545,\n",
       " 124612,\n",
       " 124718,\n",
       " 124877,\n",
       " 125365,\n",
       " 125845,\n",
       " 126063,\n",
       " 126168,\n",
       " 126290,\n",
       " 126702,\n",
       " 126806,\n",
       " 126854,\n",
       " 127027,\n",
       " 127071,\n",
       " 127366,\n",
       " 127473,\n",
       " 127602,\n",
       " 127817,\n",
       " 127934,\n",
       " 128130,\n",
       " 128488,\n",
       " 128508,\n",
       " 128587,\n",
       " 128729,\n",
       " 128840,\n",
       " 129111,\n",
       " 129153,\n",
       " 129331,\n",
       " 129401,\n",
       " 129601,\n",
       " 129603,\n",
       " 129607,\n",
       " 129670,\n",
       " 129764,\n",
       " 129778,\n",
       " 130253,\n",
       " 130562,\n",
       " 130784,\n",
       " 130886,\n",
       " 131256,\n",
       " 131736,\n",
       " 131865,\n",
       " 131982,\n",
       " 132150,\n",
       " 132268,\n",
       " 132333,\n",
       " 132469,\n",
       " 132826,\n",
       " 133108,\n",
       " 133603,\n",
       " 133708,\n",
       " 134376,\n",
       " 134601,\n",
       " 134655,\n",
       " 134680,\n",
       " 135118,\n",
       " 135357,\n",
       " 135359,\n",
       " 135716,\n",
       " 135877,\n",
       " 136096,\n",
       " 136280,\n",
       " 136636,\n",
       " 137166,\n",
       " 137446,\n",
       " 137680,\n",
       " 137850,\n",
       " 137887,\n",
       " 138166,\n",
       " 138258,\n",
       " 138453,\n",
       " 139285,\n",
       " 139399,\n",
       " 139660,\n",
       " 139706,\n",
       " 140706,\n",
       " 140834,\n",
       " 140949,\n",
       " 140994,\n",
       " 141030,\n",
       " 141072,\n",
       " 141102,\n",
       " 141276,\n",
       " 141361,\n",
       " 141638,\n",
       " 141644,\n",
       " 141757,\n",
       " 142073,\n",
       " 142074,\n",
       " 142294,\n",
       " 142383,\n",
       " 142560,\n",
       " 142730,\n",
       " 143314,\n",
       " 143379,\n",
       " 143445,\n",
       " 143559,\n",
       " 143745,\n",
       " 143842,\n",
       " 144023,\n",
       " 144170,\n",
       " 144218,\n",
       " 144826,\n",
       " 145791,\n",
       " 145832,\n",
       " 145856,\n",
       " 146081,\n",
       " 146185,\n",
       " 146205,\n",
       " 146327,\n",
       " 146475,\n",
       " 146564,\n",
       " 146687,\n",
       " 146751,\n",
       " 147177,\n",
       " 147228,\n",
       " 147382,\n",
       " 147714,\n",
       " 148100,\n",
       " 148307,\n",
       " 148384,\n",
       " 148482,\n",
       " 148652,\n",
       " 148907,\n",
       " 149060,\n",
       " 149291,\n",
       " 149802,\n",
       " 149810,\n",
       " 149995,\n",
       " 150117,\n",
       " 150197,\n",
       " 150199,\n",
       " 150310,\n",
       " 150384,\n",
       " 150538,\n",
       " 150719,\n",
       " 150817,\n",
       " 150856,\n",
       " 150925,\n",
       " 151016,\n",
       " 151269,\n",
       " 151761,\n",
       " 152020,\n",
       " 152363,\n",
       " 152435,\n",
       " 152524,\n",
       " 152698,\n",
       " 152900,\n",
       " 153364,\n",
       " 153855,\n",
       " 153898,\n",
       " 153966,\n",
       " 154051,\n",
       " 154160,\n",
       " 154188,\n",
       " 154516,\n",
       " 154577,\n",
       " 155287,\n",
       " 155493,\n",
       " 155689,\n",
       " 155744,\n",
       " 155838,\n",
       " 155926,\n",
       " 155944,\n",
       " 156029,\n",
       " 156826,\n",
       " 157038,\n",
       " 157094,\n",
       " 157621,\n",
       " 157726,\n",
       " 157814,\n",
       " 157849,\n",
       " 158053,\n",
       " 158203,\n",
       " 158267,\n",
       " 158418,\n",
       " 158451,\n",
       " 158495,\n",
       " 158778,\n",
       " 159234,\n",
       " 159459,\n",
       " 159847,\n",
       " 159867,\n",
       " 159979,\n",
       " 160029,\n",
       " 160072,\n",
       " 160329,\n",
       " 160470,\n",
       " 160690,\n",
       " 160694,\n",
       " 160908,\n",
       " 160965,\n",
       " 161045,\n",
       " 161104,\n",
       " 161677,\n",
       " 161750,\n",
       " 161866,\n",
       " 161919,\n",
       " 161984,\n",
       " 162254,\n",
       " 162298,\n",
       " 162511,\n",
       " 162948,\n",
       " 163329,\n",
       " 163365,\n",
       " 163937,\n",
       " 163979,\n",
       " 164189,\n",
       " 164308,\n",
       " 164404,\n",
       " 164587,\n",
       " 164784,\n",
       " 164839,\n",
       " 164918,\n",
       " 165003,\n",
       " 165120,\n",
       " 165291,\n",
       " 166085,\n",
       " 166357,\n",
       " 166716,\n",
       " 166882,\n",
       " 166903,\n",
       " 167017,\n",
       " 168125,\n",
       " 168477,\n",
       " 168570,\n",
       " 168627,\n",
       " 168698,\n",
       " 168706,\n",
       " 169486,\n",
       " 169738,\n",
       " 169768,\n",
       " 169924,\n",
       " 170282,\n",
       " 170361,\n",
       " 170593,\n",
       " 170771,\n",
       " 170832,\n",
       " 170961,\n",
       " 171234,\n",
       " 171653,\n",
       " 171725,\n",
       " 171802,\n",
       " 171968,\n",
       " 172142,\n",
       " 172270,\n",
       " 172411,\n",
       " 172470,\n",
       " 172557,\n",
       " 172587,\n",
       " 172835,\n",
       " 173304,\n",
       " 174003,\n",
       " 174015,\n",
       " 174257,\n",
       " 174665,\n",
       " 175278,\n",
       " 175355,\n",
       " 175883,\n",
       " 176022,\n",
       " 176052,\n",
       " 176506,\n",
       " 176602,\n",
       " 176883,\n",
       " 177037,\n",
       " 177241,\n",
       " 177358,\n",
       " 177412,\n",
       " 177420,\n",
       " 177504,\n",
       " 177574,\n",
       " 177596,\n",
       " 177807,\n",
       " 177900,\n",
       " 178137,\n",
       " 178225,\n",
       " 178476,\n",
       " 178530,\n",
       " 178623,\n",
       " 179064,\n",
       " 179177,\n",
       " 179649,\n",
       " 179667,\n",
       " 179950,\n",
       " 180111,\n",
       " 180221,\n",
       " 180392,\n",
       " 180704,\n",
       " 180884,\n",
       " 180928,\n",
       " 180973,\n",
       " 181284,\n",
       " 181468,\n",
       " 181558,\n",
       " 181677,\n",
       " 181923,\n",
       " 181998,\n",
       " 182054,\n",
       " 182223,\n",
       " 182229,\n",
       " 182375,\n",
       " 182386,\n",
       " 182843,\n",
       " 183004,\n",
       " 183006,\n",
       " 183349,\n",
       " 183528,\n",
       " 184070,\n",
       " 184315,\n",
       " 184504,\n",
       " 184513,\n",
       " 184720,\n",
       " 184736,\n",
       " 185068,\n",
       " 185274,\n",
       " 185709,\n",
       " 186163,\n",
       " 186174,\n",
       " 186275,\n",
       " 186312,\n",
       " 187313,\n",
       " 187350,\n",
       " 187511,\n",
       " 187563,\n",
       " 187712,\n",
       " 188310,\n",
       " 188492,\n",
       " 188568,\n",
       " 188620,\n",
       " 188646,\n",
       " 188749,\n",
       " 189114,\n",
       " 189614,\n",
       " 189946,\n",
       " 190366,\n",
       " 190374,\n",
       " 190595,\n",
       " 190770,\n",
       " 190809,\n",
       " 190862,\n",
       " 191206,\n",
       " 191255,\n",
       " 191330,\n",
       " 191805,\n",
       " 191816,\n",
       " 191859,\n",
       " 192037,\n",
       " 192110,\n",
       " 192151,\n",
       " 192709,\n",
       " 192965,\n",
       " 193169,\n",
       " 193407,\n",
       " 193421,\n",
       " 193469,\n",
       " 194149,\n",
       " 194878,\n",
       " 194933,\n",
       " 195058,\n",
       " 195117,\n",
       " 195284,\n",
       " 195612,\n",
       " 195772,\n",
       " 196168,\n",
       " 196200,\n",
       " 196698,\n",
       " 197003,\n",
       " 197071,\n",
       " 197081,\n",
       " 197478,\n",
       " 197873,\n",
       " 197942,\n",
       " 198882,\n",
       " 199140,\n",
       " 199173,\n",
       " 199229,\n",
       " 199308,\n",
       " 199507,\n",
       " 199621,\n",
       " 199729,\n",
       " 199830]"
      ]
     },
     "execution_count": 105,
     "metadata": {},
     "output_type": "execute_result"
    }
   ],
   "source": [
    "# Getting the indices of the reviews that were predicted correctly\n",
    "ind1 = list((y_test == y_pred) & (y_test == 'N'))#.index(True)\n",
    "# & (y_test == 'N')\n",
    "[i for i, x in enumerate(ind1) if x]"
   ]
  },
  {
   "cell_type": "code",
   "execution_count": 222,
   "metadata": {},
   "outputs": [
    {
     "data": {
      "text/plain": [
       "array([0.    , 5.    , 0.9186, 0.    , 0.    ])"
      ]
     },
     "execution_count": 222,
     "metadata": {},
     "output_type": "execute_result"
    }
   ],
   "source": [
    "ind1 = 4402\n",
    "# 3137, 3745\n",
    "X_test[ind1]"
   ]
  },
  {
   "cell_type": "code",
   "execution_count": 223,
   "metadata": {},
   "outputs": [],
   "source": [
    "test = list(X)\n",
    "test;"
   ]
  },
  {
   "cell_type": "code",
   "execution_count": 224,
   "metadata": {},
   "outputs": [
    {
     "data": {
      "text/plain": [
       "array([[ True,  True, False, False, False],\n",
       "       [False,  True, False,  True, False],\n",
       "       [ True, False, False,  True, False],\n",
       "       ...,\n",
       "       [False, False, False,  True, False],\n",
       "       [False, False, False,  True, False],\n",
       "       [False,  True, False, False, False]])"
      ]
     },
     "execution_count": 224,
     "metadata": {},
     "output_type": "execute_result"
    }
   ],
   "source": [
    "test2 = (test == X_test[ind1])\n",
    "test2"
   ]
  },
  {
   "cell_type": "code",
   "execution_count": 225,
   "metadata": {},
   "outputs": [
    {
     "data": {
      "text/plain": [
       "[313740, 446576]"
      ]
     },
     "execution_count": 225,
     "metadata": {},
     "output_type": "execute_result"
    }
   ],
   "source": [
    "ind2 = list(np.all(test2, axis = 1))#.index(True)\n",
    "ind2\n",
    "n_lst = [i for i, x in enumerate(ind2) if x]\n",
    "(n_lst)"
   ]
  },
  {
   "cell_type": "code",
   "execution_count": 228,
   "metadata": {},
   "outputs": [
    {
     "data": {
      "text/html": [
       "<div>\n",
       "<style scoped>\n",
       "    .dataframe tbody tr th:only-of-type {\n",
       "        vertical-align: middle;\n",
       "    }\n",
       "\n",
       "    .dataframe tbody tr th {\n",
       "        vertical-align: top;\n",
       "    }\n",
       "\n",
       "    .dataframe thead th {\n",
       "        text-align: right;\n",
       "    }\n",
       "</style>\n",
       "<table border=\"1\" class=\"dataframe\">\n",
       "  <thead>\n",
       "    <tr style=\"text-align: right;\">\n",
       "      <th></th>\n",
       "      <th>3001848</th>\n",
       "    </tr>\n",
       "  </thead>\n",
       "  <tbody>\n",
       "    <tr>\n",
       "      <th>review_body</th>\n",
       "      <td>These are great rechargable batteries.  Much easier to use than the type I used to have.  They work right away - the charger is very easy to use - and they last a long long time!!  Great way to do my little part to help the earth and save myself some $$$.</td>\n",
       "    </tr>\n",
       "    <tr>\n",
       "      <th>review_headline</th>\n",
       "      <td>I love an easy way to help the earth!! (and save $)</td>\n",
       "    </tr>\n",
       "    <tr>\n",
       "      <th>product_title</th>\n",
       "      <td>Sanyo Eneloop NiMH Battery Charger with 4AA NiMH Rechargable Batteries (Discontinued by Manufacturer)</td>\n",
       "    </tr>\n",
       "    <tr>\n",
       "      <th>star_rating</th>\n",
       "      <td>5</td>\n",
       "    </tr>\n",
       "    <tr>\n",
       "      <th>helpful_votes</th>\n",
       "      <td>2</td>\n",
       "    </tr>\n",
       "    <tr>\n",
       "      <th>total_votes</th>\n",
       "      <td>4</td>\n",
       "    </tr>\n",
       "    <tr>\n",
       "      <th>verified_purchase</th>\n",
       "      <td>N</td>\n",
       "    </tr>\n",
       "  </tbody>\n",
       "</table>\n",
       "</div>"
      ],
      "text/plain": [
       "                                                                                                                                                                                                                                                                           3001848\n",
       "review_body        These are great rechargable batteries.  Much easier to use than the type I used to have.  They work right away - the charger is very easy to use - and they last a long long time!!  Great way to do my little part to help the earth and save myself some $$$.\n",
       "review_headline                                                                                                                                                                                                                I love an easy way to help the earth!! (and save $)\n",
       "product_title                                                                                                                                                                Sanyo Eneloop NiMH Battery Charger with 4AA NiMH Rechargable Batteries (Discontinued by Manufacturer)\n",
       "star_rating                                                                                                                                                                                                                                                                      5\n",
       "helpful_votes                                                                                                                                                                                                                                                                    2\n",
       "total_votes                                                                                                                                                                                                                                                                      4\n",
       "verified_purchase                                                                                                                                                                                                                                                                N"
      ]
     },
     "execution_count": 228,
     "metadata": {},
     "output_type": "execute_result"
    }
   ],
   "source": [
    "one_file.iloc[313740].to_frame().loc[['review_body', 'review_headline', 'product_title', 'star_rating', 'helpful_votes', 'total_votes', 'verified_purchase']]"
   ]
  },
  {
   "cell_type": "code",
   "execution_count": 229,
   "metadata": {},
   "outputs": [],
   "source": [
    "review_body = \"These are great rechargable batteries. Much easier to use than the type I used to have. They work right away - the charger is very easy to use - and they last a long long time!! Great way to do my little part to help the earth and save myself some $$$.\"\n",
    "review_title = 'I love an easy way to help the earth!! (and save $)'\n",
    "product_title = 'Sanyo Eneloop NiMH Battery Charger with 4AA NiMH Rechargable Batteries (Discontinued by Manufacturer)'\n",
    "star_rating = 5\n",
    "helpful_votes = 2\n",
    "total_votes = 4"
   ]
  },
  {
   "cell_type": "code",
   "execution_count": 230,
   "metadata": {},
   "outputs": [
    {
     "data": {
      "text/html": [
       "<div>\n",
       "<style scoped>\n",
       "    .dataframe tbody tr th:only-of-type {\n",
       "        vertical-align: middle;\n",
       "    }\n",
       "\n",
       "    .dataframe tbody tr th {\n",
       "        vertical-align: top;\n",
       "    }\n",
       "\n",
       "    .dataframe thead th {\n",
       "        text-align: right;\n",
       "    }\n",
       "</style>\n",
       "<table border=\"1\" class=\"dataframe\">\n",
       "  <thead>\n",
       "    <tr style=\"text-align: right;\">\n",
       "      <th></th>\n",
       "      <th>review_body</th>\n",
       "      <th>review_title</th>\n",
       "      <th>product_title</th>\n",
       "    </tr>\n",
       "  </thead>\n",
       "  <tbody>\n",
       "    <tr>\n",
       "      <th>0</th>\n",
       "      <td>These are great rechargable batteries. Much easier to use than the type I used to have. They work right away - the charger is very easy to use - and they last a long long time!! Great way to do my little part to help the earth and save myself some $$$.</td>\n",
       "      <td>I love an easy way to help the earth!! (and save $)</td>\n",
       "      <td>Sanyo Eneloop NiMH Battery Charger with 4AA NiMH Rechargable Batteries (Discontinued by Manufacturer)</td>\n",
       "    </tr>\n",
       "  </tbody>\n",
       "</table>\n",
       "</div>"
      ],
      "text/plain": [
       "                                                                                                                                                                                                                                                    review_body  \\\n",
       "0  These are great rechargable batteries. Much easier to use than the type I used to have. They work right away - the charger is very easy to use - and they last a long long time!! Great way to do my little part to help the earth and save myself some $$$.   \n",
       "\n",
       "                                          review_title  \\\n",
       "0  I love an easy way to help the earth!! (and save $)   \n",
       "\n",
       "                                                                                           product_title  \n",
       "0  Sanyo Eneloop NiMH Battery Charger with 4AA NiMH Rechargable Batteries (Discontinued by Manufacturer)  "
      ]
     },
     "execution_count": 230,
     "metadata": {},
     "output_type": "execute_result"
    }
   ],
   "source": [
    "test = pd.DataFrame()\n",
    "test['review_body'] = np.array([review_body])\n",
    "test['review_title'] = np.array([review_title])\n",
    "test['product_title'] = np.array([product_title])\n",
    "test"
   ]
  },
  {
   "cell_type": "code",
   "execution_count": 231,
   "metadata": {},
   "outputs": [
    {
     "data": {
      "text/html": [
       "<div>\n",
       "<style scoped>\n",
       "    .dataframe tbody tr th:only-of-type {\n",
       "        vertical-align: middle;\n",
       "    }\n",
       "\n",
       "    .dataframe tbody tr th {\n",
       "        vertical-align: top;\n",
       "    }\n",
       "\n",
       "    .dataframe thead th {\n",
       "        text-align: right;\n",
       "    }\n",
       "</style>\n",
       "<table border=\"1\" class=\"dataframe\">\n",
       "  <thead>\n",
       "    <tr style=\"text-align: right;\">\n",
       "      <th></th>\n",
       "      <th>review_body</th>\n",
       "      <th>review_title</th>\n",
       "      <th>product_title</th>\n",
       "      <th>new_review_body</th>\n",
       "      <th>new_review_title</th>\n",
       "      <th>new_product_title</th>\n",
       "    </tr>\n",
       "  </thead>\n",
       "  <tbody>\n",
       "    <tr>\n",
       "      <th>0</th>\n",
       "      <td>These are great rechargable batteries. Much easier to use than the type I used to have. They work right away - the charger is very easy to use - and they last a long long time!! Great way to do my little part to help the earth and save myself some $$$.</td>\n",
       "      <td>I love an easy way to help the earth!! (and save $)</td>\n",
       "      <td>Sanyo Eneloop NiMH Battery Charger with 4AA NiMH Rechargable Batteries (Discontinued by Manufacturer)</td>\n",
       "      <td>great rechargable battery much easier use type used have work right away charger easy use last long long time great way little part help earth save</td>\n",
       "      <td>love easy way help earth save</td>\n",
       "      <td>sanyo eneloop nimh battery charger aa nimh rechargable battery discontinued manufacturer</td>\n",
       "    </tr>\n",
       "  </tbody>\n",
       "</table>\n",
       "</div>"
      ],
      "text/plain": [
       "                                                                                                                                                                                                                                                    review_body  \\\n",
       "0  These are great rechargable batteries. Much easier to use than the type I used to have. They work right away - the charger is very easy to use - and they last a long long time!! Great way to do my little part to help the earth and save myself some $$$.   \n",
       "\n",
       "                                          review_title  \\\n",
       "0  I love an easy way to help the earth!! (and save $)   \n",
       "\n",
       "                                                                                           product_title  \\\n",
       "0  Sanyo Eneloop NiMH Battery Charger with 4AA NiMH Rechargable Batteries (Discontinued by Manufacturer)   \n",
       "\n",
       "                                                                                                                                       new_review_body  \\\n",
       "0  great rechargable battery much easier use type used have work right away charger easy use last long long time great way little part help earth save   \n",
       "\n",
       "                new_review_title  \\\n",
       "0  love easy way help earth save   \n",
       "\n",
       "                                                                          new_product_title  \n",
       "0  sanyo eneloop nimh battery charger aa nimh rechargable battery discontinued manufacturer  "
      ]
     },
     "execution_count": 231,
     "metadata": {},
     "output_type": "execute_result"
    }
   ],
   "source": [
    "out = df_cleaning(test, 'review_body')\n",
    "out = df_cleaning(out, 'review_title')\n",
    "out = df_cleaning(out, 'product_title')\n",
    "out"
   ]
  },
  {
   "cell_type": "code",
   "execution_count": 232,
   "metadata": {},
   "outputs": [
    {
     "name": "stdout",
     "output_type": "stream",
     "text": [
      "0.0\n"
     ]
    }
   ],
   "source": [
    "rev_bod_id = id_for_dictionary(analyser.polarity_scores(out['new_review_body'][0]))\n",
    "prop = 1/2\n",
    "help_prop_id = id_for_prop(prop)\n",
    "prod_title_comp = only_compound(out['new_product_title'][0])\n",
    "print(prod_title_comp)\n",
    "rev_title_comp = only_compound(out['new_review_title'][0])"
   ]
  },
  {
   "cell_type": "code",
   "execution_count": 233,
   "metadata": {},
   "outputs": [
    {
     "data": {
      "text/plain": [
       "array([[0.    , 5.    , 0.9186, 0.    , 0.    ]])"
      ]
     },
     "execution_count": 233,
     "metadata": {},
     "output_type": "execute_result"
    }
   ],
   "source": [
    "rev_input_test = np.array([[prod_title_comp, star_rating, rev_title_comp, rev_bod_id, help_prop_id]])\n",
    "rev_input_test"
   ]
  },
  {
   "cell_type": "code",
   "execution_count": 234,
   "metadata": {},
   "outputs": [],
   "source": [
    "prediction, probabilities = knn_classifier.predict(rev_input_test), knn_classifier.predict_proba(rev_input_test)[0]"
   ]
  },
  {
   "cell_type": "code",
   "execution_count": 235,
   "metadata": {},
   "outputs": [
    {
     "data": {
      "text/plain": [
       "array(['N'], dtype=object)"
      ]
     },
     "execution_count": 235,
     "metadata": {},
     "output_type": "execute_result"
    }
   ],
   "source": [
    "prediction"
   ]
  },
  {
   "cell_type": "code",
   "execution_count": 236,
   "metadata": {},
   "outputs": [
    {
     "data": {
      "text/plain": [
       "array([0.5, 0.5])"
      ]
     },
     "execution_count": 236,
     "metadata": {},
     "output_type": "execute_result"
    }
   ],
   "source": [
    "probabilities"
   ]
  }
 ],
 "metadata": {
  "kernelspec": {
   "display_name": "Python 3",
   "language": "python",
   "name": "python3"
  },
  "language_info": {
   "codemirror_mode": {
    "name": "ipython",
    "version": 3
   },
   "file_extension": ".py",
   "mimetype": "text/x-python",
   "name": "python",
   "nbconvert_exporter": "python",
   "pygments_lexer": "ipython3",
   "version": "3.7.6"
  }
 },
 "nbformat": 4,
 "nbformat_minor": 5
}
