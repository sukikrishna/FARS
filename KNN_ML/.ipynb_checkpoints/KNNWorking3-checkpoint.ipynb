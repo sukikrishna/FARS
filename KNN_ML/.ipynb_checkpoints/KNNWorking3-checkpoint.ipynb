{
 "cells": [
  {
   "cell_type": "code",
   "execution_count": 1,
   "metadata": {},
   "outputs": [],
   "source": [
    "# import libraries\n",
    "\n",
    "'''\n",
    "import boto3, re, sys, math, json, os, sagemaker, urllib.request\n",
    "from sagemaker import get_execution_role\n",
    "from IPython.display import Image\n",
    "from IPython.display import display\n",
    "from time import gmtime, strftime\n",
    "from sagemaker.predictor import csv_serializer\n",
    "'''\n",
    "\n",
    "import numpy as np\n",
    "import pandas as pd\n",
    "\n",
    "import seaborn as sns\n",
    "import matplotlib.pyplot as plt\n",
    "\n",
    "# These are all the imports needed for the assignment\n",
    "%matplotlib inline\n",
    "\n",
    "# Import nltk package (Natural Language Toolkit)\n",
    "import nltk\n",
    "from nltk.tokenize import word_tokenize\n",
    "from nltk.corpus import stopwords\n",
    "\n",
    "import warnings\n",
    "warnings.filterwarnings('ignore')\n",
    "\n",
    "# scikit-learn imports\n",
    "from sklearn.model_selection import train_test_split\n",
    "from sklearn.svm import SVC\n",
    "from sklearn.feature_extraction.text import CountVectorizer, TfidfVectorizer\n",
    "from sklearn.metrics import classification_report, precision_recall_fscore_support"
   ]
  },
  {
   "cell_type": "code",
   "execution_count": 2,
   "metadata": {},
   "outputs": [],
   "source": [
    "import pyspark"
   ]
  },
  {
   "cell_type": "code",
   "execution_count": 3,
   "metadata": {},
   "outputs": [],
   "source": [
    "import dask.dataframe as dd"
   ]
  },
  {
   "cell_type": "code",
   "execution_count": 4,
   "metadata": {},
   "outputs": [
    {
     "name": "stderr",
     "output_type": "stream",
     "text": [
      "[nltk_data] Downloading package punkt to\n",
      "[nltk_data]     C:\\Users\\sukan\\AppData\\Roaming\\nltk_data...\n",
      "[nltk_data]   Package punkt is already up-to-date!\n",
      "[nltk_data] Downloading package stopwords to\n",
      "[nltk_data]     C:\\Users\\sukan\\AppData\\Roaming\\nltk_data...\n",
      "[nltk_data]   Package stopwords is already up-to-date!\n"
     ]
    },
    {
     "data": {
      "text/plain": [
       "True"
      ]
     },
     "execution_count": 4,
     "metadata": {},
     "output_type": "execute_result"
    }
   ],
   "source": [
    "# Download the NLTK English tokenizer and the stopwords of all languages\n",
    "nltk.download('punkt')\n",
    "nltk.download('stopwords')"
   ]
  },
  {
   "cell_type": "markdown",
   "metadata": {},
   "source": [
    "client = boto3.client(\n",
    "    's3',\n",
    "    aws_access_key_id = 'sukiK@2002',\n",
    "    aws_secret_access_key = 'sukik',\n",
    "    region_name = 'ap-west-1'\n",
    ")"
   ]
  },
  {
   "cell_type": "code",
   "execution_count": 5,
   "metadata": {},
   "outputs": [],
   "source": [
    "files = ['amazon_reviews_us_Electronics_v1_00.tsv', \\\n",
    "         'amazon_reviews_us_Gift_Card_v1_00.tsv', \\\n",
    "         'amazon_reviews_us_Major_Appliances_v1_00.tsv', \\\n",
    "         'amazon_reviews_us_Office_Products_v1_00.tsv', \\\n",
    "         'amazon_reviews_us_Shoes_v1_00.tsv', \\\n",
    "         'amazon_reviews_us_Toys_v1_00.tsv', \\\n",
    "         'amazon_reviews_us_Watches_v1_00.tsv']"
   ]
  },
  {
   "cell_type": "code",
   "execution_count": 6,
   "metadata": {},
   "outputs": [],
   "source": [
    "pd.set_option('display.max_columns', None)\n",
    "pd.set_option('display.max_rows', None)\n",
    "pd.set_option('display.max_colwidth', None)"
   ]
  },
  {
   "cell_type": "code",
   "execution_count": 7,
   "metadata": {},
   "outputs": [],
   "source": [
    "columns = ['marketplace', 'customer_id', 'review_id', 'product_id', 'product_parent', 'product_title', 'product_category', \\\n",
    "           'star_rating', 'helpful_votes', 'total_votes', 'vine', 'verified_purchase', 'review_headline', 'review_body', 'review_date']\n",
    "elec_df = pd.read_csv('fars_data/' + files[0], names = columns, sep = '\\t').iloc[1:,:]\n",
    "elec_df = elec_df.sample(n = 200000)"
   ]
  },
  {
   "cell_type": "markdown",
   "metadata": {},
   "source": [
    "columns = ['marketplace', 'customer_id', 'review_id', 'product_id', 'product_parent', 'product_title', 'product_category', 'star_rating', 'helpful_votes', 'total_votes', 'vine', 'verified_purchase', 'review_headline', 'review_body', 'review_date']\n",
    "len(columns)"
   ]
  },
  {
   "cell_type": "markdown",
   "metadata": {},
   "source": [
    "one_file = pd.read_csv('fars_data/' + files[0], names = columns, sep = '\\t').iloc[1:,:]\n",
    "one_file.head()"
   ]
  },
  {
   "cell_type": "markdown",
   "metadata": {},
   "source": [
    "one_file.shape[0]+1"
   ]
  },
  {
   "cell_type": "code",
   "execution_count": 8,
   "metadata": {},
   "outputs": [],
   "source": [
    "one_file = elec_df"
   ]
  },
  {
   "cell_type": "markdown",
   "metadata": {},
   "source": [
    "## Data Sampling"
   ]
  },
  {
   "cell_type": "code",
   "execution_count": 9,
   "metadata": {},
   "outputs": [],
   "source": [
    "def df_sampling(df):\n",
    "    # Since we know that there are more unverified than verified --> we sample based on that\n",
    "    \n",
    "    # Since there are no data values in 'verified_purchase' columns that deviate from 'Y' or 'N' we proceed\n",
    "    verified_count_df = df[df['verified_purchase'] == 'Y']\n",
    "    unverified_count_df = df[df['verified_purchase'] == 'N']\n",
    "    \n",
    "    print(\"Number of verified purchases:\", len(verified_count_df))\n",
    "    print(\"Number of unverified purchases:\", len(unverified_count_df))\n",
    "    \n",
    "    sample_len = len(unverified_count_df)\n",
    "    \n",
    "    verified_sample_df = verified_count_df.sample(n = sample_len)\n",
    "    unified_df = pd.concat([unverified_count_df, verified_sample_df])\n",
    "    \n",
    "    print(\"Number of verified purchases (balanced dataset):\", len(unified_df[unified_df['verified_purchase'] == 'Y']))\n",
    "    print(\"Number of unverified purchases (balanced dataset):\", len(unified_df[unified_df['verified_purchase'] == 'N']))\n",
    "    \n",
    "    return unified_df"
   ]
  },
  {
   "cell_type": "markdown",
   "metadata": {},
   "source": [
    "#test.rename(columns=test.iloc[0])\n",
    "training_data = pd.DataFrame() #initialize an empty dataframe\n",
    "testing_data = pd.DataFrame()\n",
    "\n",
    "one_file = pd.read_csv(data_location + files[1], names = columns, sep = '\\t').iloc[1:,:]"
   ]
  },
  {
   "cell_type": "code",
   "execution_count": 10,
   "metadata": {},
   "outputs": [
    {
     "data": {
      "text/plain": [
       "(200000, 15)"
      ]
     },
     "execution_count": 10,
     "metadata": {},
     "output_type": "execute_result"
    }
   ],
   "source": [
    "one_file.shape"
   ]
  },
  {
   "cell_type": "code",
   "execution_count": 11,
   "metadata": {},
   "outputs": [
    {
     "name": "stdout",
     "output_type": "stream",
     "text": [
      "Number of verified purchases: 180710\n",
      "Number of unverified purchases: 19290\n",
      "Number of verified purchases (balanced dataset): 19290\n",
      "Number of unverified purchases (balanced dataset): 19290\n"
     ]
    },
    {
     "data": {
      "text/html": [
       "<div>\n",
       "<style scoped>\n",
       "    .dataframe tbody tr th:only-of-type {\n",
       "        vertical-align: middle;\n",
       "    }\n",
       "\n",
       "    .dataframe tbody tr th {\n",
       "        vertical-align: top;\n",
       "    }\n",
       "\n",
       "    .dataframe thead th {\n",
       "        text-align: right;\n",
       "    }\n",
       "</style>\n",
       "<table border=\"1\" class=\"dataframe\">\n",
       "  <thead>\n",
       "    <tr style=\"text-align: right;\">\n",
       "      <th></th>\n",
       "      <th>marketplace</th>\n",
       "      <th>customer_id</th>\n",
       "      <th>review_id</th>\n",
       "      <th>product_id</th>\n",
       "      <th>product_parent</th>\n",
       "      <th>product_title</th>\n",
       "      <th>product_category</th>\n",
       "      <th>star_rating</th>\n",
       "      <th>helpful_votes</th>\n",
       "      <th>total_votes</th>\n",
       "      <th>vine</th>\n",
       "      <th>verified_purchase</th>\n",
       "      <th>review_headline</th>\n",
       "      <th>review_body</th>\n",
       "      <th>review_date</th>\n",
       "    </tr>\n",
       "  </thead>\n",
       "  <tbody>\n",
       "    <tr>\n",
       "      <th>165832</th>\n",
       "      <td>US</td>\n",
       "      <td>44099256</td>\n",
       "      <td>RM8UXQHVQADBP</td>\n",
       "      <td>B00SMVLUNK</td>\n",
       "      <td>950751339</td>\n",
       "      <td>Panasonic RP-BTD10-K Premium Bluetooth Wireless On-Ear Headphones, Black</td>\n",
       "      <td>Electronics</td>\n",
       "      <td>4</td>\n",
       "      <td>2</td>\n",
       "      <td>3</td>\n",
       "      <td>Y</td>\n",
       "      <td>N</td>\n",
       "      <td>Decent cans that look dorky, feel ok, sound mid-range, and travel well.</td>\n",
       "      <td>First of all, these cans don't look cool like Beats. You will see no NBA players wearing them. The band sticks out awkwardly from the top of your head. And the sound is not at the level of serious audiophile quality like higher end Shures. But with that said, what you get out of the box and in your ears is a very capable, idiot proof and efficiently pairing bluetooth headset with almost freakish range, no connection breaks, and an excellent battery life (I'm still on my first charge but haven't been disciplined about keeping track of how many hours I've logged, I will update with the results of that test later).&lt;br /&gt;&lt;br /&gt;Sound quality is perfectly acceptable, I was able to pick out a full range from lows to highs. If you're used to higher end over the ear cans or Shure type high end in-ear buds and expect the same, you will be disappointed. But why would you? These cans are designed to futz around in your house or office with. Use wired phones if you demand ultimate fidelity.&lt;br /&gt;&lt;br /&gt;This kind of goes to a broader point: the first steps in figuring out what kind of phones you want is: (1) budget and (2) use scenario. I have a great little pair of $29 in-ear bluetooth buds that I wear when I go to the gym or on walks. I wouldn't wear them at home. Sound quality is not great. But convenience factor is! I have a pair of nearly $300 (yes, I know, please don't tell my wife) shure earbuds that I wear on planes and sometimes at home. They are second to none for sound isolation and sound quality, but guess what, if you exercise in them you hear every thump and if you walk around in them, you'll probably get run down by a car whose horn you didn't hear. Meanwhile, if you are operating in a relatively sound free environment, you might want something like the Sennheiser 4xx series, which offers awesome sound and reasonable comfort. If you want to look really cool, buy the Beats.&lt;br /&gt;&lt;br /&gt;If you're buying these, you're looking for freedom, ok sound quality, and good functionality. If you're an audiophile, don't buy them. If you want something to sweat in, don't buy these either. If you want something that you can walk around in your house or office while your phone is charging and still hear uninterrupted music or podcasts 40 feet away: these are your phones. So, think about what you must have, what you would like to have, and what's not that important and try to find a product with those features. Sounds obvious, but you'd be surprised!&lt;br /&gt;&lt;br /&gt;Speaking of function, these phones are one of the few I've run across that actually have useable remote control features. The fast forward, pause/play, volume, and rewind are all located on one headphone, and they are spaced out far enough and placed intuitively enough that you can get used to using the functions immediately. This is a big win for Panasonic since most phones are a usability fail on this front.&lt;br /&gt;&lt;br /&gt;I also like how the phones fold flat and scrunch up for easy traveling.&lt;br /&gt;&lt;br /&gt;Overall, I think these are a pretty good product, but to be frank, I haven't price comparison shopped to see if there's a viable, cheaper alternative. Sennheiser, who has been doing Bluetooth for a long time and I trust, does not seem to have a product in this price range. Even their cheapest is 1.5x more. That might change. There's a Sony with mixed reviews. This is an area that changes very quickly, so do your research and keep in mind the function is that you are buying for. Good luck!&lt;br /&gt;&lt;br /&gt;Recommended.tionality. If you're an audiophile, don't buy them. If you want something to sweat in, don't buy these either. If you want something that you can walk around in your house or office while your phone is charging and still hear uninterrupted music or podcasts 40 feet away: these are your phones. So, think about what you must have, what you would like to have, and what's not that important and try to find a product with those features. Sounds obvious, but you'd be surprised!&lt;br /&gt;&lt;br /&gt;Speaking of function, these phones are one of the few I've run across that actually have useable remote control features. The fast forward, pause/play, volume, and rewind are all located on one headphone, and they are spaced out far enough and placed intuitively enough that you can get used to using the functions immediately. This is a big win for Panasonic since most phones are a usability fail on this front.&lt;br /&gt;&lt;br /&gt;I also like how the phones fold flat and scrunch up for easy traveling.&lt;br /&gt;&lt;br /&gt;Overall, I think these are a pretty good product, but to be frank, I haven't price comparison shopped to see if there's a viable, cheaper alternative. Sennheiser, who has been doing Bluetooth for a long time and I trust, does not seem to have a product in this price range. Even their cheapest is 1.5x more. That might change. There's a Sony with mixed reviews. This is an area that changes very quickly, so do your research and keep in mind the function is that you are buying for. Good luck!&lt;br /&gt;&lt;br /&gt;Recommended.</td>\n",
       "      <td>2015-07-13</td>\n",
       "    </tr>\n",
       "    <tr>\n",
       "      <th>985185</th>\n",
       "      <td>US</td>\n",
       "      <td>26295942</td>\n",
       "      <td>R3ITTTTJ0BVTB</td>\n",
       "      <td>B003OC6LWM</td>\n",
       "      <td>457087873</td>\n",
       "      <td>C&amp;E Mini_Dis-HDMI-CB6 Mini DisplayPort to HDMI Adapter Cable, 6 feet</td>\n",
       "      <td>Electronics</td>\n",
       "      <td>3</td>\n",
       "      <td>1</td>\n",
       "      <td>1</td>\n",
       "      <td>N</td>\n",
       "      <td>N</td>\n",
       "      <td>Good Product - Shipping took a month</td>\n",
       "      <td>The product works great, however, its coming from China so when Amazon said that standard shipping can take up to a month, thats exactly how long it took to get to me - one whole month to the day.</td>\n",
       "      <td>2014-11-04</td>\n",
       "    </tr>\n",
       "    <tr>\n",
       "      <th>1042480</th>\n",
       "      <td>US</td>\n",
       "      <td>17403950</td>\n",
       "      <td>R37CZLBWSNC0E</td>\n",
       "      <td>B00AI5V3CQ</td>\n",
       "      <td>410477650</td>\n",
       "      <td>Cambridge SoundWorks OontZ Angle Ultra Portable Wireless Bluetooth Speaker with Built in Mic up to 12 Hour Playtime works with iPhone iPad tablet Samsung and smart phones - Blue Grille</td>\n",
       "      <td>Electronics</td>\n",
       "      <td>5</td>\n",
       "      <td>2</td>\n",
       "      <td>3</td>\n",
       "      <td>N</td>\n",
       "      <td>N</td>\n",
       "      <td>Leave Your Phone, Bring This Into The Bathroom Instead.</td>\n",
       "      <td>Since I decided to never bring my phone into my bathroom again, I thought this would be a great way to listen to music there. It's a quality product that is not that expensive. So if I drop it into the toilet, I won't  be too mad like with with my phone. I just leave the phone in my bedroom and use this while showering etc. ...</td>\n",
       "      <td>2014-10-12</td>\n",
       "    </tr>\n",
       "    <tr>\n",
       "      <th>217536</th>\n",
       "      <td>US</td>\n",
       "      <td>27354910</td>\n",
       "      <td>R2SDJSDT7E0S2V</td>\n",
       "      <td>B00OEI9AKU</td>\n",
       "      <td>633226384</td>\n",
       "      <td>8pcs (CL-BL)- Large (L) Replacement Set Earbuds Eartips for Jaybird Bluebuds X Premium Bluetooth In Ear Earphones / Headphones</td>\n",
       "      <td>Electronics</td>\n",
       "      <td>5</td>\n",
       "      <td>0</td>\n",
       "      <td>0</td>\n",
       "      <td>N</td>\n",
       "      <td>N</td>\n",
       "      <td>They work great. They definitely removed the irritation of my old ...</td>\n",
       "      <td>They work great.  They definitely removed the irritation of my old ones falling off or staying in my ear.</td>\n",
       "      <td>2015-06-25</td>\n",
       "    </tr>\n",
       "    <tr>\n",
       "      <th>1145096</th>\n",
       "      <td>US</td>\n",
       "      <td>3508533</td>\n",
       "      <td>R1TWUQZ2TV2IAS</td>\n",
       "      <td>B00DXV9KIQ</td>\n",
       "      <td>620216527</td>\n",
       "      <td>Original Sony RM-YD065 LCD TV Remote Control for KDL-22BX320, KDL-32BX320, KDL-32BX321, KDL-32EX340, KDL-32BX420, KDL-32BX421, KDL-40BX420, KDL-40BX421 KDL-40BX450 KDL-46BX420 KDL-46BX421 KDL-55BX520</td>\n",
       "      <td>Electronics</td>\n",
       "      <td>3</td>\n",
       "      <td>0</td>\n",
       "      <td>1</td>\n",
       "      <td>N</td>\n",
       "      <td>N</td>\n",
       "      <td>Three Stars</td>\n",
       "      <td>helpful</td>\n",
       "      <td>2014-09-03</td>\n",
       "    </tr>\n",
       "  </tbody>\n",
       "</table>\n",
       "</div>"
      ],
      "text/plain": [
       "        marketplace  customer_id       review_id  product_id  product_parent  \\\n",
       "165832           US     44099256   RM8UXQHVQADBP  B00SMVLUNK       950751339   \n",
       "985185           US     26295942   R3ITTTTJ0BVTB  B003OC6LWM       457087873   \n",
       "1042480          US     17403950   R37CZLBWSNC0E  B00AI5V3CQ       410477650   \n",
       "217536           US     27354910  R2SDJSDT7E0S2V  B00OEI9AKU       633226384   \n",
       "1145096          US      3508533  R1TWUQZ2TV2IAS  B00DXV9KIQ       620216527   \n",
       "\n",
       "                                                                                                                                                                                                   product_title  \\\n",
       "165832                                                                                                                                  Panasonic RP-BTD10-K Premium Bluetooth Wireless On-Ear Headphones, Black   \n",
       "985185                                                                                                                                      C&E Mini_Dis-HDMI-CB6 Mini DisplayPort to HDMI Adapter Cable, 6 feet   \n",
       "1042480                 Cambridge SoundWorks OontZ Angle Ultra Portable Wireless Bluetooth Speaker with Built in Mic up to 12 Hour Playtime works with iPhone iPad tablet Samsung and smart phones - Blue Grille   \n",
       "217536                                                                            8pcs (CL-BL)- Large (L) Replacement Set Earbuds Eartips for Jaybird Bluebuds X Premium Bluetooth In Ear Earphones / Headphones   \n",
       "1145096  Original Sony RM-YD065 LCD TV Remote Control for KDL-22BX320, KDL-32BX320, KDL-32BX321, KDL-32EX340, KDL-32BX420, KDL-32BX421, KDL-40BX420, KDL-40BX421 KDL-40BX450 KDL-46BX420 KDL-46BX421 KDL-55BX520   \n",
       "\n",
       "        product_category  star_rating  helpful_votes  total_votes vine  \\\n",
       "165832       Electronics            4              2            3    Y   \n",
       "985185       Electronics            3              1            1    N   \n",
       "1042480      Electronics            5              2            3    N   \n",
       "217536       Electronics            5              0            0    N   \n",
       "1145096      Electronics            3              0            1    N   \n",
       "\n",
       "        verified_purchase  \\\n",
       "165832                  N   \n",
       "985185                  N   \n",
       "1042480                 N   \n",
       "217536                  N   \n",
       "1145096                 N   \n",
       "\n",
       "                                                                 review_headline  \\\n",
       "165832   Decent cans that look dorky, feel ok, sound mid-range, and travel well.   \n",
       "985185                                      Good Product - Shipping took a month   \n",
       "1042480                  Leave Your Phone, Bring This Into The Bathroom Instead.   \n",
       "217536     They work great. They definitely removed the irritation of my old ...   \n",
       "1145096                                                              Three Stars   \n",
       "\n",
       "                                                                                                                                                                                                                                                                                                                                                                                                                                                                                                                                                                                                                                                                                                                                                                                                                                                                                                                                                                                                                                                                                                                                                                                                                                                                                                                                                                                                                                                                                                                                                                                                                                                                                                                                                                                                                                                                                                                                                                                                                                                                                                                                                                                                                                                                                                                                                                                                                                                                                                                                                                                                                                                                                                                                                                                                                                                                                                                                                                                                                                                                                                                                                                                                                                                                                                                                                                                                                                                                                                                                                                                                                                                                                                                                                                                                                                                                                                                                                                                                                                                                                                                                                                                                                                                                                                                                                                                                                                                                                                                                                                                                                                                                                                                                                                                                                                                                                                                                                                                                                                                                                                                                                                                                                                review_body  \\\n",
       "165832   First of all, these cans don't look cool like Beats. You will see no NBA players wearing them. The band sticks out awkwardly from the top of your head. And the sound is not at the level of serious audiophile quality like higher end Shures. But with that said, what you get out of the box and in your ears is a very capable, idiot proof and efficiently pairing bluetooth headset with almost freakish range, no connection breaks, and an excellent battery life (I'm still on my first charge but haven't been disciplined about keeping track of how many hours I've logged, I will update with the results of that test later).<br /><br />Sound quality is perfectly acceptable, I was able to pick out a full range from lows to highs. If you're used to higher end over the ear cans or Shure type high end in-ear buds and expect the same, you will be disappointed. But why would you? These cans are designed to futz around in your house or office with. Use wired phones if you demand ultimate fidelity.<br /><br />This kind of goes to a broader point: the first steps in figuring out what kind of phones you want is: (1) budget and (2) use scenario. I have a great little pair of $29 in-ear bluetooth buds that I wear when I go to the gym or on walks. I wouldn't wear them at home. Sound quality is not great. But convenience factor is! I have a pair of nearly $300 (yes, I know, please don't tell my wife) shure earbuds that I wear on planes and sometimes at home. They are second to none for sound isolation and sound quality, but guess what, if you exercise in them you hear every thump and if you walk around in them, you'll probably get run down by a car whose horn you didn't hear. Meanwhile, if you are operating in a relatively sound free environment, you might want something like the Sennheiser 4xx series, which offers awesome sound and reasonable comfort. If you want to look really cool, buy the Beats.<br /><br />If you're buying these, you're looking for freedom, ok sound quality, and good functionality. If you're an audiophile, don't buy them. If you want something to sweat in, don't buy these either. If you want something that you can walk around in your house or office while your phone is charging and still hear uninterrupted music or podcasts 40 feet away: these are your phones. So, think about what you must have, what you would like to have, and what's not that important and try to find a product with those features. Sounds obvious, but you'd be surprised!<br /><br />Speaking of function, these phones are one of the few I've run across that actually have useable remote control features. The fast forward, pause/play, volume, and rewind are all located on one headphone, and they are spaced out far enough and placed intuitively enough that you can get used to using the functions immediately. This is a big win for Panasonic since most phones are a usability fail on this front.<br /><br />I also like how the phones fold flat and scrunch up for easy traveling.<br /><br />Overall, I think these are a pretty good product, but to be frank, I haven't price comparison shopped to see if there's a viable, cheaper alternative. Sennheiser, who has been doing Bluetooth for a long time and I trust, does not seem to have a product in this price range. Even their cheapest is 1.5x more. That might change. There's a Sony with mixed reviews. This is an area that changes very quickly, so do your research and keep in mind the function is that you are buying for. Good luck!<br /><br />Recommended.tionality. If you're an audiophile, don't buy them. If you want something to sweat in, don't buy these either. If you want something that you can walk around in your house or office while your phone is charging and still hear uninterrupted music or podcasts 40 feet away: these are your phones. So, think about what you must have, what you would like to have, and what's not that important and try to find a product with those features. Sounds obvious, but you'd be surprised!<br /><br />Speaking of function, these phones are one of the few I've run across that actually have useable remote control features. The fast forward, pause/play, volume, and rewind are all located on one headphone, and they are spaced out far enough and placed intuitively enough that you can get used to using the functions immediately. This is a big win for Panasonic since most phones are a usability fail on this front.<br /><br />I also like how the phones fold flat and scrunch up for easy traveling.<br /><br />Overall, I think these are a pretty good product, but to be frank, I haven't price comparison shopped to see if there's a viable, cheaper alternative. Sennheiser, who has been doing Bluetooth for a long time and I trust, does not seem to have a product in this price range. Even their cheapest is 1.5x more. That might change. There's a Sony with mixed reviews. This is an area that changes very quickly, so do your research and keep in mind the function is that you are buying for. Good luck!<br /><br />Recommended.   \n",
       "985185                                                                                                                                                                                                                                                                                                                                                                                                                                                                                                                                                                                                                                                                                                                                                                                                                                                                                                                                                                                                                                                                                                                                                                                                                                                                                                                                                                                                                                                                                                                                                                                                                                                                                                                                                                                                                                                                                                                                                                                                                                                                                                                                                                                                                                                                                                                                                                                                                                                                                                                                                                                                                                                                                                                                                                                                                                                                                                                                                                                                                                                                                                                                                                                                                                                                                                                                                                                                                                                                                                                                                                                                                                                                                                                                                                                                                                                                                                                                                                                                                                                                                                                                                                                                                                                                                                                                                                                                                                                                                                                                                                                                                                                                                                                                                                                                                                                                                                                                                                                                                                 The product works great, however, its coming from China so when Amazon said that standard shipping can take up to a month, thats exactly how long it took to get to me - one whole month to the day.   \n",
       "1042480                                                                                                                                                                                                                                                                                                                                                                                                                                                                                                                                                                                                                                                                                                                                                                                                                                                                                                                                                                                                                                                                                                                                                                                                                                                                                                                                                                                                                                                                                                                                                                                                                                                                                                                                                                                                                                                                                                                                                                                                                                                                                                                                                                                                                                                                                                                                                                                                                                                                                                                                                                                                                                                                                                                                                                                                                                                                                                                                                                                                                                                                                                                                                                                                                                                                                                                                                                                                                                                                                                                                                                                                                                                                                                                                                                                                                                                                                                                                                                                                                                                                                                                                                                                                                                                                                                                                                                                                                                                                                                                                                                                                                                                                                                                                                                                                                                                                                           Since I decided to never bring my phone into my bathroom again, I thought this would be a great way to listen to music there. It's a quality product that is not that expensive. So if I drop it into the toilet, I won't  be too mad like with with my phone. I just leave the phone in my bedroom and use this while showering etc. ...   \n",
       "217536                                                                                                                                                                                                                                                                                                                                                                                                                                                                                                                                                                                                                                                                                                                                                                                                                                                                                                                                                                                                                                                                                                                                                                                                                                                                                                                                                                                                                                                                                                                                                                                                                                                                                                                                                                                                                                                                                                                                                                                                                                                                                                                                                                                                                                                                                                                                                                                                                                                                                                                                                                                                                                                                                                                                                                                                                                                                                                                                                                                                                                                                                                                                                                                                                                                                                                                                                                                                                                                                                                                                                                                                                                                                                                                                                                                                                                                                                                                                                                                                                                                                                                                                                                                                                                                                                                                                                                                                                                                                                                                                                                                                                                                                                                                                                                                                                                                                                                                                                                                                                                                                                                                            They work great.  They definitely removed the irritation of my old ones falling off or staying in my ear.   \n",
       "1145096                                                                                                                                                                                                                                                                                                                                                                                                                                                                                                                                                                                                                                                                                                                                                                                                                                                                                                                                                                                                                                                                                                                                                                                                                                                                                                                                                                                                                                                                                                                                                                                                                                                                                                                                                                                                                                                                                                                                                                                                                                                                                                                                                                                                                                                                                                                                                                                                                                                                                                                                                                                                                                                                                                                                                                                                                                                                                                                                                                                                                                                                                                                                                                                                                                                                                                                                                                                                                                                                                                                                                                                                                                                                                                                                                                                                                                                                                                                                                                                                                                                                                                                                                                                                                                                                                                                                                                                                                                                                                                                                                                                                                                                                                                                                                                                                                                                                                                                                                                                                                                                                                                                                                                                                                             helpful   \n",
       "\n",
       "        review_date  \n",
       "165832   2015-07-13  \n",
       "985185   2014-11-04  \n",
       "1042480  2014-10-12  \n",
       "217536   2015-06-25  \n",
       "1145096  2014-09-03  "
      ]
     },
     "metadata": {},
     "output_type": "display_data"
    }
   ],
   "source": [
    "balanced_elec = df_sampling(one_file)\n",
    "display(balanced_elec.head())"
   ]
  },
  {
   "cell_type": "markdown",
   "metadata": {},
   "source": [
    "### Type Conversion and Exploration"
   ]
  },
  {
   "cell_type": "code",
   "execution_count": 12,
   "metadata": {},
   "outputs": [],
   "source": [
    "def convert_to_int(x):\n",
    "    return int(float(x))"
   ]
  },
  {
   "cell_type": "code",
   "execution_count": 13,
   "metadata": {},
   "outputs": [],
   "source": [
    "#convert all mixed datatypes --> string objects (unable to convert to int)\n",
    "one_file['customer_id'] = one_file['customer_id'].apply(int) #1\n",
    "one_file['product_parent'] = one_file['product_parent'].apply(int) #4\n",
    "one_file['star_rating'] = one_file['star_rating'].apply(int) #7\n",
    "one_file['helpful_votes'] = one_file['helpful_votes'].apply(int) #8\n",
    "one_file['total_votes'] = one_file['total_votes'].apply(int) #9"
   ]
  },
  {
   "cell_type": "markdown",
   "metadata": {},
   "source": [
    "one_file.isnull().sum().sort_values(ascending=False)"
   ]
  },
  {
   "cell_type": "markdown",
   "metadata": {},
   "source": [
    "one_file.dropna(inplace=True) #drop all of the missing values\n",
    "one_file.isnull().sum().sort_values(ascending=False)"
   ]
  },
  {
   "cell_type": "code",
   "execution_count": 14,
   "metadata": {},
   "outputs": [
    {
     "data": {
      "text/html": [
       "<div>\n",
       "<style scoped>\n",
       "    .dataframe tbody tr th:only-of-type {\n",
       "        vertical-align: middle;\n",
       "    }\n",
       "\n",
       "    .dataframe tbody tr th {\n",
       "        vertical-align: top;\n",
       "    }\n",
       "\n",
       "    .dataframe thead th {\n",
       "        text-align: right;\n",
       "    }\n",
       "</style>\n",
       "<table border=\"1\" class=\"dataframe\">\n",
       "  <thead>\n",
       "    <tr style=\"text-align: right;\">\n",
       "      <th></th>\n",
       "      <th>marketplace</th>\n",
       "      <th>customer_id</th>\n",
       "      <th>review_id</th>\n",
       "      <th>product_id</th>\n",
       "      <th>product_parent</th>\n",
       "      <th>product_title</th>\n",
       "      <th>product_category</th>\n",
       "      <th>star_rating</th>\n",
       "      <th>helpful_votes</th>\n",
       "      <th>total_votes</th>\n",
       "      <th>vine</th>\n",
       "      <th>verified_purchase</th>\n",
       "      <th>review_headline</th>\n",
       "      <th>review_body</th>\n",
       "      <th>review_date</th>\n",
       "    </tr>\n",
       "  </thead>\n",
       "  <tbody>\n",
       "    <tr>\n",
       "      <th>416017</th>\n",
       "      <td>US</td>\n",
       "      <td>12501109</td>\n",
       "      <td>RPT39BBGUU0QP</td>\n",
       "      <td>B000WYVBR0</td>\n",
       "      <td>851902359</td>\n",
       "      <td>VideoSecu ML531BE TV Wall Mount for most 22\"-55\" LED LCD Plasma Flat Screen Monitor up to 88 lb VESA 400x400 with Full Motion Swivel Articulating 20 in Extension Arm, HDMI Cable &amp; Bubble Level WP5</td>\n",
       "      <td>Electronics</td>\n",
       "      <td>5</td>\n",
       "      <td>0</td>\n",
       "      <td>0</td>\n",
       "      <td>N</td>\n",
       "      <td>Y</td>\n",
       "      <td>Five Stars</td>\n",
       "      <td>works good</td>\n",
       "      <td>2015-04-20</td>\n",
       "    </tr>\n",
       "    <tr>\n",
       "      <th>789391</th>\n",
       "      <td>US</td>\n",
       "      <td>7816587</td>\n",
       "      <td>R20BTWW2WZSTE8</td>\n",
       "      <td>B00H8WFKGM</td>\n",
       "      <td>410330719</td>\n",
       "      <td>Cheetah Mounts AS1B Single Shelf TV Component Wall Mount 18x16-Inch Shelving Bracket Bundle with 15-Feet HDMI Cable</td>\n",
       "      <td>Electronics</td>\n",
       "      <td>5</td>\n",
       "      <td>0</td>\n",
       "      <td>0</td>\n",
       "      <td>N</td>\n",
       "      <td>Y</td>\n",
       "      <td>Great shelves, with extras(HDMI cable and light</td>\n",
       "      <td>Great shelves , with extras(HDMI cable and light.)&lt;br /&gt;&lt;br /&gt;And all hardware  !!!!!</td>\n",
       "      <td>2015-01-05</td>\n",
       "    </tr>\n",
       "    <tr>\n",
       "      <th>165832</th>\n",
       "      <td>US</td>\n",
       "      <td>44099256</td>\n",
       "      <td>RM8UXQHVQADBP</td>\n",
       "      <td>B00SMVLUNK</td>\n",
       "      <td>950751339</td>\n",
       "      <td>Panasonic RP-BTD10-K Premium Bluetooth Wireless On-Ear Headphones, Black</td>\n",
       "      <td>Electronics</td>\n",
       "      <td>4</td>\n",
       "      <td>2</td>\n",
       "      <td>3</td>\n",
       "      <td>Y</td>\n",
       "      <td>N</td>\n",
       "      <td>Decent cans that look dorky, feel ok, sound mid-range, and travel well.</td>\n",
       "      <td>First of all, these cans don't look cool like Beats. You will see no NBA players wearing them. The band sticks out awkwardly from the top of your head. And the sound is not at the level of serious audiophile quality like higher end Shures. But with that said, what you get out of the box and in your ears is a very capable, idiot proof and efficiently pairing bluetooth headset with almost freakish range, no connection breaks, and an excellent battery life (I'm still on my first charge but haven't been disciplined about keeping track of how many hours I've logged, I will update with the results of that test later).&lt;br /&gt;&lt;br /&gt;Sound quality is perfectly acceptable, I was able to pick out a full range from lows to highs. If you're used to higher end over the ear cans or Shure type high end in-ear buds and expect the same, you will be disappointed. But why would you? These cans are designed to futz around in your house or office with. Use wired phones if you demand ultimate fidelity.&lt;br /&gt;&lt;br /&gt;This kind of goes to a broader point: the first steps in figuring out what kind of phones you want is: (1) budget and (2) use scenario. I have a great little pair of $29 in-ear bluetooth buds that I wear when I go to the gym or on walks. I wouldn't wear them at home. Sound quality is not great. But convenience factor is! I have a pair of nearly $300 (yes, I know, please don't tell my wife) shure earbuds that I wear on planes and sometimes at home. They are second to none for sound isolation and sound quality, but guess what, if you exercise in them you hear every thump and if you walk around in them, you'll probably get run down by a car whose horn you didn't hear. Meanwhile, if you are operating in a relatively sound free environment, you might want something like the Sennheiser 4xx series, which offers awesome sound and reasonable comfort. If you want to look really cool, buy the Beats.&lt;br /&gt;&lt;br /&gt;If you're buying these, you're looking for freedom, ok sound quality, and good functionality. If you're an audiophile, don't buy them. If you want something to sweat in, don't buy these either. If you want something that you can walk around in your house or office while your phone is charging and still hear uninterrupted music or podcasts 40 feet away: these are your phones. So, think about what you must have, what you would like to have, and what's not that important and try to find a product with those features. Sounds obvious, but you'd be surprised!&lt;br /&gt;&lt;br /&gt;Speaking of function, these phones are one of the few I've run across that actually have useable remote control features. The fast forward, pause/play, volume, and rewind are all located on one headphone, and they are spaced out far enough and placed intuitively enough that you can get used to using the functions immediately. This is a big win for Panasonic since most phones are a usability fail on this front.&lt;br /&gt;&lt;br /&gt;I also like how the phones fold flat and scrunch up for easy traveling.&lt;br /&gt;&lt;br /&gt;Overall, I think these are a pretty good product, but to be frank, I haven't price comparison shopped to see if there's a viable, cheaper alternative. Sennheiser, who has been doing Bluetooth for a long time and I trust, does not seem to have a product in this price range. Even their cheapest is 1.5x more. That might change. There's a Sony with mixed reviews. This is an area that changes very quickly, so do your research and keep in mind the function is that you are buying for. Good luck!&lt;br /&gt;&lt;br /&gt;Recommended.tionality. If you're an audiophile, don't buy them. If you want something to sweat in, don't buy these either. If you want something that you can walk around in your house or office while your phone is charging and still hear uninterrupted music or podcasts 40 feet away: these are your phones. So, think about what you must have, what you would like to have, and what's not that important and try to find a product with those features. Sounds obvious, but you'd be surprised!&lt;br /&gt;&lt;br /&gt;Speaking of function, these phones are one of the few I've run across that actually have useable remote control features. The fast forward, pause/play, volume, and rewind are all located on one headphone, and they are spaced out far enough and placed intuitively enough that you can get used to using the functions immediately. This is a big win for Panasonic since most phones are a usability fail on this front.&lt;br /&gt;&lt;br /&gt;I also like how the phones fold flat and scrunch up for easy traveling.&lt;br /&gt;&lt;br /&gt;Overall, I think these are a pretty good product, but to be frank, I haven't price comparison shopped to see if there's a viable, cheaper alternative. Sennheiser, who has been doing Bluetooth for a long time and I trust, does not seem to have a product in this price range. Even their cheapest is 1.5x more. That might change. There's a Sony with mixed reviews. This is an area that changes very quickly, so do your research and keep in mind the function is that you are buying for. Good luck!&lt;br /&gt;&lt;br /&gt;Recommended.</td>\n",
       "      <td>2015-07-13</td>\n",
       "    </tr>\n",
       "    <tr>\n",
       "      <th>37046</th>\n",
       "      <td>US</td>\n",
       "      <td>51731065</td>\n",
       "      <td>R1EQBX510QPH6V</td>\n",
       "      <td>B0040ITOAA</td>\n",
       "      <td>382901065</td>\n",
       "      <td>Pyle PHSTD1 Satellite Speaker Stands</td>\n",
       "      <td>Electronics</td>\n",
       "      <td>3</td>\n",
       "      <td>1</td>\n",
       "      <td>1</td>\n",
       "      <td>N</td>\n",
       "      <td>Y</td>\n",
       "      <td>Just Okay</td>\n",
       "      <td>If you're looking for quality, keep looking. I knew the Pyle name from working with A/V equipment over a few decades and expected better.  I ordered these to hold a couple of Vizio Soundbar surround sound speakers in our TV/game room. Based on reviews of other stands, these are one of the few that will work with the Vizio speakers...and they do mostly, with a little tweaking to the mounting bracket to accommodate the RCA connector as mentioned in other reviews.  That said, the overall quality of the speaker stands is mediocre at best. The bases are heavy but made out of &amp;#34;lumpy&amp;#34; metal and appeared to be painted with a spray can. The logos are splotchy and also poorly painted on. The metal is soft...one of the support columns easily cross-threaded. There are pads on the feet to protect non-carpted floors but one pad was missing and another stuck to the bubble wrap making it useless. Luckily the room they're in is carpeted.  The support columns are adequate. They come in two pieces and adjust like a mic stand, but they are no where near mic stand quality.  The rest of the pieces were all there but are typical low-end Chinese manufacturing standard in that everything just barely fits. Chinese manufacturing can be exquisite of course...it all depends on the seller's specs, and in this case Pyle's were not very demanding.  The good news is that the inside of the columns and the holes in the mounts are large enough to accommodate the straight end of the RCA connectors when they're threaded through...something others had problems with on other stands.  So for holding a pair of really light, basic surround sound speakers where quality isn't top of mind they'll do. If you want to impress friends with your audio system in your living room or HT, these are not your best option.</td>\n",
       "      <td>2015-08-20</td>\n",
       "    </tr>\n",
       "    <tr>\n",
       "      <th>644348</th>\n",
       "      <td>US</td>\n",
       "      <td>7443025</td>\n",
       "      <td>R24BIKYABJCICH</td>\n",
       "      <td>B007JY58FM</td>\n",
       "      <td>732571169</td>\n",
       "      <td>New Mitsubishi/Toshiba 4719-001997 DLP Chip 1910-6143W</td>\n",
       "      <td>Electronics</td>\n",
       "      <td>5</td>\n",
       "      <td>0</td>\n",
       "      <td>0</td>\n",
       "      <td>N</td>\n",
       "      <td>Y</td>\n",
       "      <td>Installation was really quite easy, took maybe 20 minutes</td>\n",
       "      <td>Completely fixed the snow issue I was having with the TV.  Less than $200 to prevent spending $2,500 or more on a new TV is money well spent.  Definitely use the Arctic Silver paste to marry this chip to the heat sink.  When you see the condition of the heat transfer material Samsung used you'll see the Achilles heel of these TVs.  A quick review of a YouTube video and I was a TV repairman.  Installation was really quite easy, took maybe 20 minutes.</td>\n",
       "      <td>2015-02-14</td>\n",
       "    </tr>\n",
       "  </tbody>\n",
       "</table>\n",
       "</div>"
      ],
      "text/plain": [
       "       marketplace  customer_id       review_id  product_id  product_parent  \\\n",
       "416017          US     12501109   RPT39BBGUU0QP  B000WYVBR0       851902359   \n",
       "789391          US      7816587  R20BTWW2WZSTE8  B00H8WFKGM       410330719   \n",
       "165832          US     44099256   RM8UXQHVQADBP  B00SMVLUNK       950751339   \n",
       "37046           US     51731065  R1EQBX510QPH6V  B0040ITOAA       382901065   \n",
       "644348          US      7443025  R24BIKYABJCICH  B007JY58FM       732571169   \n",
       "\n",
       "                                                                                                                                                                                               product_title  \\\n",
       "416017  VideoSecu ML531BE TV Wall Mount for most 22\"-55\" LED LCD Plasma Flat Screen Monitor up to 88 lb VESA 400x400 with Full Motion Swivel Articulating 20 in Extension Arm, HDMI Cable & Bubble Level WP5   \n",
       "789391                                                                                   Cheetah Mounts AS1B Single Shelf TV Component Wall Mount 18x16-Inch Shelving Bracket Bundle with 15-Feet HDMI Cable   \n",
       "165832                                                                                                                              Panasonic RP-BTD10-K Premium Bluetooth Wireless On-Ear Headphones, Black   \n",
       "37046                                                                                                                                                                   Pyle PHSTD1 Satellite Speaker Stands   \n",
       "644348                                                                                                                                                New Mitsubishi/Toshiba 4719-001997 DLP Chip 1910-6143W   \n",
       "\n",
       "       product_category  star_rating  helpful_votes  total_votes vine  \\\n",
       "416017      Electronics            5              0            0    N   \n",
       "789391      Electronics            5              0            0    N   \n",
       "165832      Electronics            4              2            3    Y   \n",
       "37046       Electronics            3              1            1    N   \n",
       "644348      Electronics            5              0            0    N   \n",
       "\n",
       "       verified_purchase  \\\n",
       "416017                 Y   \n",
       "789391                 Y   \n",
       "165832                 N   \n",
       "37046                  Y   \n",
       "644348                 Y   \n",
       "\n",
       "                                                                review_headline  \\\n",
       "416017                                                               Five Stars   \n",
       "789391                          Great shelves, with extras(HDMI cable and light   \n",
       "165832  Decent cans that look dorky, feel ok, sound mid-range, and travel well.   \n",
       "37046                                                                 Just Okay   \n",
       "644348                Installation was really quite easy, took maybe 20 minutes   \n",
       "\n",
       "                                                                                                                                                                                                                                                                                                                                                                                                                                                                                                                                                                                                                                                                                                                                                                                                                                                                                                                                                                                                                                                                                                                                                                                                                                                                                                                                                                                                                                                                                                                                                                                                                                                                                                                                                                                                                                                                                                                                                                                                                                                                                                                                                                                                                                                                                                                                                                                                                                                                                                                                                                                                                                                                                                                                                                                                                                                                                                                                                                                                                                                                                                                                                                                                                                                                                                                                                                                                                                                                                                                                                                                                                                                                                                                                                                                                                                                                                                                                                                                                                                                                                                                                                                                                                                                                                                                                                                                                                                                                                                                                                                                                                                                                                                                                                                                                                                                                                                                                                                                                                                                                                                                                                                                                                               review_body  \\\n",
       "416017                                                                                                                                                                                                                                                                                                                                                                                                                                                                                                                                                                                                                                                                                                                                                                                                                                                                                                                                                                                                                                                                                                                                                                                                                                                                                                                                                                                                                                                                                                                                                                                                                                                                                                                                                                                                                                                                                                                                                                                                                                                                                                                                                                                                                                                                                                                                                                                                                                                                                                                                                                                                                                                                                                                                                                                                                                                                                                                                                                                                                                                                                                                                                                                                                                                                                                                                                                                                                                                                                                                                                                                                                                                                                                                                                                                                                                                                                                                                                                                                                                                                                                                                                                                                                                                                                                                                                                                                                                                                                                                                                                                                                                                                                                                                                                                                                                                                                                                                                                                                                                                                                                                                                                                                                          works good   \n",
       "789391                                                                                                                                                                                                                                                                                                                                                                                                                                                                                                                                                                                                                                                                                                                                                                                                                                                                                                                                                                                                                                                                                                                                                                                                                                                                                                                                                                                                                                                                                                                                                                                                                                                                                                                                                                                                                                                                                                                                                                                                                                                                                                                                                                                                                                                                                                                                                                                                                                                                                                                                                                                                                                                                                                                                                                                                                                                                                                                                                                                                                                                                                                                                                                                                                                                                                                                                                                                                                                                                                                                                                                                                                                                                                                                                                                                                                                                                                                                                                                                                                                                                                                                                                                                                                                                                                                                                                                                                                                                                                                                                                                                                                                                                                                                                                                                                                                                                                                                                                                                                                                                                                                                                               Great shelves , with extras(HDMI cable and light.)<br /><br />And all hardware  !!!!!   \n",
       "165832  First of all, these cans don't look cool like Beats. You will see no NBA players wearing them. The band sticks out awkwardly from the top of your head. And the sound is not at the level of serious audiophile quality like higher end Shures. But with that said, what you get out of the box and in your ears is a very capable, idiot proof and efficiently pairing bluetooth headset with almost freakish range, no connection breaks, and an excellent battery life (I'm still on my first charge but haven't been disciplined about keeping track of how many hours I've logged, I will update with the results of that test later).<br /><br />Sound quality is perfectly acceptable, I was able to pick out a full range from lows to highs. If you're used to higher end over the ear cans or Shure type high end in-ear buds and expect the same, you will be disappointed. But why would you? These cans are designed to futz around in your house or office with. Use wired phones if you demand ultimate fidelity.<br /><br />This kind of goes to a broader point: the first steps in figuring out what kind of phones you want is: (1) budget and (2) use scenario. I have a great little pair of $29 in-ear bluetooth buds that I wear when I go to the gym or on walks. I wouldn't wear them at home. Sound quality is not great. But convenience factor is! I have a pair of nearly $300 (yes, I know, please don't tell my wife) shure earbuds that I wear on planes and sometimes at home. They are second to none for sound isolation and sound quality, but guess what, if you exercise in them you hear every thump and if you walk around in them, you'll probably get run down by a car whose horn you didn't hear. Meanwhile, if you are operating in a relatively sound free environment, you might want something like the Sennheiser 4xx series, which offers awesome sound and reasonable comfort. If you want to look really cool, buy the Beats.<br /><br />If you're buying these, you're looking for freedom, ok sound quality, and good functionality. If you're an audiophile, don't buy them. If you want something to sweat in, don't buy these either. If you want something that you can walk around in your house or office while your phone is charging and still hear uninterrupted music or podcasts 40 feet away: these are your phones. So, think about what you must have, what you would like to have, and what's not that important and try to find a product with those features. Sounds obvious, but you'd be surprised!<br /><br />Speaking of function, these phones are one of the few I've run across that actually have useable remote control features. The fast forward, pause/play, volume, and rewind are all located on one headphone, and they are spaced out far enough and placed intuitively enough that you can get used to using the functions immediately. This is a big win for Panasonic since most phones are a usability fail on this front.<br /><br />I also like how the phones fold flat and scrunch up for easy traveling.<br /><br />Overall, I think these are a pretty good product, but to be frank, I haven't price comparison shopped to see if there's a viable, cheaper alternative. Sennheiser, who has been doing Bluetooth for a long time and I trust, does not seem to have a product in this price range. Even their cheapest is 1.5x more. That might change. There's a Sony with mixed reviews. This is an area that changes very quickly, so do your research and keep in mind the function is that you are buying for. Good luck!<br /><br />Recommended.tionality. If you're an audiophile, don't buy them. If you want something to sweat in, don't buy these either. If you want something that you can walk around in your house or office while your phone is charging and still hear uninterrupted music or podcasts 40 feet away: these are your phones. So, think about what you must have, what you would like to have, and what's not that important and try to find a product with those features. Sounds obvious, but you'd be surprised!<br /><br />Speaking of function, these phones are one of the few I've run across that actually have useable remote control features. The fast forward, pause/play, volume, and rewind are all located on one headphone, and they are spaced out far enough and placed intuitively enough that you can get used to using the functions immediately. This is a big win for Panasonic since most phones are a usability fail on this front.<br /><br />I also like how the phones fold flat and scrunch up for easy traveling.<br /><br />Overall, I think these are a pretty good product, but to be frank, I haven't price comparison shopped to see if there's a viable, cheaper alternative. Sennheiser, who has been doing Bluetooth for a long time and I trust, does not seem to have a product in this price range. Even their cheapest is 1.5x more. That might change. There's a Sony with mixed reviews. This is an area that changes very quickly, so do your research and keep in mind the function is that you are buying for. Good luck!<br /><br />Recommended.   \n",
       "37046                                                                                                                                                                                                                                                                                                                                                                                                                                                                                                                                                                                                                                                                                                                                                                                                                                                                                                                                                                                                                                                                                                                                                                                                                                                                                                                                                                                                                                                                                                                                                                                                                                                                                                                                                                                                                                                                                                                                                                                                                                                                                                                                                                                                                                                                                                                                                                                                                                                                                                                                                                                                                                                                                                                                                                                                                                                                                                                                                                                                                                                                                                                                                                                                                                                                                                                                                         If you're looking for quality, keep looking. I knew the Pyle name from working with A/V equipment over a few decades and expected better.  I ordered these to hold a couple of Vizio Soundbar surround sound speakers in our TV/game room. Based on reviews of other stands, these are one of the few that will work with the Vizio speakers...and they do mostly, with a little tweaking to the mounting bracket to accommodate the RCA connector as mentioned in other reviews.  That said, the overall quality of the speaker stands is mediocre at best. The bases are heavy but made out of &#34;lumpy&#34; metal and appeared to be painted with a spray can. The logos are splotchy and also poorly painted on. The metal is soft...one of the support columns easily cross-threaded. There are pads on the feet to protect non-carpted floors but one pad was missing and another stuck to the bubble wrap making it useless. Luckily the room they're in is carpeted.  The support columns are adequate. They come in two pieces and adjust like a mic stand, but they are no where near mic stand quality.  The rest of the pieces were all there but are typical low-end Chinese manufacturing standard in that everything just barely fits. Chinese manufacturing can be exquisite of course...it all depends on the seller's specs, and in this case Pyle's were not very demanding.  The good news is that the inside of the columns and the holes in the mounts are large enough to accommodate the straight end of the RCA connectors when they're threaded through...something others had problems with on other stands.  So for holding a pair of really light, basic surround sound speakers where quality isn't top of mind they'll do. If you want to impress friends with your audio system in your living room or HT, these are not your best option.   \n",
       "644348                                                                                                                                                                                                                                                                                                                                                                                                                                                                                                                                                                                                                                                                                                                                                                                                                                                                                                                                                                                                                                                                                                                                                                                                                                                                                                                                                                                                                                                                                                                                                                                                                                                                                                                                                                                                                                                                                                                                                                                                                                                                                                                                                                                                                                                                                                                                                                                                                                                                                                                                                                                                                                                                                                                                                                                                                                                                                                                                                                                                                                                                                                                                                                                                                                                                                                                                                                                                                                                                                                                                                                                                                                                                                                                                                                                                                                                                                                                                                                                                                                                                                                                                                                                                                                                                                                                                                                                                                                                                                                                                                                                                                                                                                                                                                               Completely fixed the snow issue I was having with the TV.  Less than $200 to prevent spending $2,500 or more on a new TV is money well spent.  Definitely use the Arctic Silver paste to marry this chip to the heat sink.  When you see the condition of the heat transfer material Samsung used you'll see the Achilles heel of these TVs.  A quick review of a YouTube video and I was a TV repairman.  Installation was really quite easy, took maybe 20 minutes.   \n",
       "\n",
       "       review_date  \n",
       "416017  2015-04-20  \n",
       "789391  2015-01-05  \n",
       "165832  2015-07-13  \n",
       "37046   2015-08-20  \n",
       "644348  2015-02-14  "
      ]
     },
     "execution_count": 14,
     "metadata": {},
     "output_type": "execute_result"
    }
   ],
   "source": [
    "#there may be tabs in the review that is what is leading to the excluded cases when converting to df\n",
    "\n",
    "'''\n",
    "train_data['verified_purchase'].value_counts()\n",
    "test_data['verified_purchase'].value_counts()\n",
    "'''\n",
    "\n",
    "one_file.head()"
   ]
  },
  {
   "cell_type": "markdown",
   "metadata": {},
   "source": [
    "#to check te datatypes within each column\n",
    "\n",
    "print(train_data.applymap(type))\n",
    "data_types = train_data.applymap(type)"
   ]
  },
  {
   "cell_type": "code",
   "execution_count": 15,
   "metadata": {
    "scrolled": true
   },
   "outputs": [
    {
     "data": {
      "text/plain": [
       "1     175987\n",
       "2       8943\n",
       "3       1253\n",
       "4        292\n",
       "5        108\n",
       "6         27\n",
       "7         15\n",
       "8         12\n",
       "10         9\n",
       "9          7\n",
       "11         3\n",
       "12         2\n",
       "13         2\n",
       "14         1\n",
       "16         1\n",
       "31         1\n",
       "Name: marketplace, dtype: int64"
      ]
     },
     "execution_count": 15,
     "metadata": {},
     "output_type": "execute_result"
    }
   ],
   "source": [
    "#the number of customers that gave multiple reviews\n",
    "#may be valueable to investigate\n",
    "one_file.groupby('customer_id').count()['marketplace'].sort_values(ascending = False).value_counts()"
   ]
  },
  {
   "cell_type": "code",
   "execution_count": 16,
   "metadata": {},
   "outputs": [
    {
     "data": {
      "text/plain": [
       "5    121807\n",
       "4     31265\n",
       "1     21754\n",
       "3     14757\n",
       "2     10417\n",
       "Name: star_rating, dtype: int64"
      ]
     },
     "execution_count": 16,
     "metadata": {},
     "output_type": "execute_result"
    }
   ],
   "source": [
    "one_file['star_rating'].value_counts()"
   ]
  },
  {
   "cell_type": "markdown",
   "metadata": {},
   "source": [
    "## Data Cleaning"
   ]
  },
  {
   "cell_type": "code",
   "execution_count": 17,
   "metadata": {},
   "outputs": [
    {
     "name": "stderr",
     "output_type": "stream",
     "text": [
      "[nltk_data] Downloading package stopwords to\n",
      "[nltk_data]     C:\\Users\\sukan\\AppData\\Roaming\\nltk_data...\n",
      "[nltk_data]   Package stopwords is already up-to-date!\n",
      "[nltk_data] Downloading package wordnet to\n",
      "[nltk_data]     C:\\Users\\sukan\\AppData\\Roaming\\nltk_data...\n",
      "[nltk_data]   Package wordnet is already up-to-date!\n"
     ]
    }
   ],
   "source": [
    "# Import re for text cleaning purposes\n",
    "import re\n",
    "\n",
    "import nltk.corpus\n",
    "nltk.download('stopwords')\n",
    "from nltk.corpus import stopwords\n",
    "\n",
    "from nltk.stem.porter import PorterStemmer\n",
    "nltk.download('wordnet')\n",
    "from nltk.stem import WordNetLemmatizer"
   ]
  },
  {
   "cell_type": "code",
   "execution_count": 18,
   "metadata": {},
   "outputs": [],
   "source": [
    "def df_cleaning(df, col):\n",
    "    # Drop rows with na values\n",
    "    df.dropna(inplace = True)\n",
    "    \n",
    "    new_col_name = 'new_' + col\n",
    "    \n",
    "    df[new_col_name] = df[col].copy() \n",
    "    \n",
    "    # Remove unwanted formatting characters\n",
    "    format_strs = dict.fromkeys(['<br /><br />', '&#34', 'br', '&quot', '<br />'], ' ')\n",
    "    \n",
    "    for key in format_strs:\n",
    "        df[new_col_name] = df[new_col_name].apply(lambda review: review.replace(key, format_strs[key]))\n",
    "    # removing quotes produces smthg like this --> 'The product has great ;sound; --> we must remove punctuation\n",
    "\n",
    "    \n",
    "    # Case normalization (lower case)\n",
    "    df[new_col_name] = df[new_col_name].str.lower()\n",
    "    \n",
    "    remove_dict = {\"0\": \"\", \"1\": \"\", \"2\": \"\", \"3\": \"\", \"4\": \"\", \"5\": \"\", \"6\": \"\", \"7\": \"\", \"8\": \"\", \"9\": \"\",\n",
    "                   \"(\": \"\", \")\":\"\"}\n",
    "    for key, val in remove_dict.items():\n",
    "        df[new_col_name] = df[new_col_name].apply(\n",
    "            lambda x: x.replace(key, val))\n",
    "        \n",
    "    # Remove stopwords\n",
    "    stop_lst = stopwords.words('english')\n",
    "    #stop_lst += ([\"can't\", \"i'm\" \"i'd\", \"i've\", \"i'll\", \"that's\", \"there's\", \"they're\"])\n",
    "    # ****Do we not have to take stopwords out BEFORE removing punctuation? Otherwise words with punct like “cant” remains there\n",
    "    df[new_col_name] = df[new_col_name].apply(lambda text_body: \" \".join([word for word in text_body.split() if word not in (stop_lst)]))\n",
    "    \n",
    "    # Removing Unicode Chars (punctuation, URL, @)\n",
    "    df[new_col_name] = df[new_col_name].apply(lambda rev: re.sub(r\"(@\\[A-Za-z0-9]+)|([^0-9A-Za-z \\t])|(\\w+:\\/\\/\\S+)|^rt|http.+?\", \"\", rev))\n",
    "    \n",
    "    # Lemmatization\n",
    "    word_lemmatizer = WordNetLemmatizer()\n",
    "    df[new_col_name] = df[new_col_name].apply(lambda txt: \" \".join([(word_lemmatizer.lemmatize(word)) for word in txt.split()]))\n",
    "    \n",
    "    return df"
   ]
  },
  {
   "cell_type": "markdown",
   "metadata": {},
   "source": [
    "cleaned = df_cleaning(one_file)"
   ]
  },
  {
   "cell_type": "code",
   "execution_count": 19,
   "metadata": {},
   "outputs": [],
   "source": [
    "cleaned2 = df_cleaning(one_file, 'review_body')"
   ]
  },
  {
   "cell_type": "code",
   "execution_count": 20,
   "metadata": {},
   "outputs": [
    {
     "data": {
      "text/html": [
       "<div>\n",
       "<style scoped>\n",
       "    .dataframe tbody tr th:only-of-type {\n",
       "        vertical-align: middle;\n",
       "    }\n",
       "\n",
       "    .dataframe tbody tr th {\n",
       "        vertical-align: top;\n",
       "    }\n",
       "\n",
       "    .dataframe thead th {\n",
       "        text-align: right;\n",
       "    }\n",
       "</style>\n",
       "<table border=\"1\" class=\"dataframe\">\n",
       "  <thead>\n",
       "    <tr style=\"text-align: right;\">\n",
       "      <th></th>\n",
       "      <th>review_body</th>\n",
       "      <th>new_review_body</th>\n",
       "    </tr>\n",
       "  </thead>\n",
       "  <tbody>\n",
       "    <tr>\n",
       "      <th>416017</th>\n",
       "      <td>works good</td>\n",
       "      <td>work good</td>\n",
       "    </tr>\n",
       "    <tr>\n",
       "      <th>789391</th>\n",
       "      <td>Great shelves , with extras(HDMI cable and light.)&lt;br /&gt;&lt;br /&gt;And all hardware  !!!!!</td>\n",
       "      <td>great shelf extrashdmi cable light hardware</td>\n",
       "    </tr>\n",
       "    <tr>\n",
       "      <th>165832</th>\n",
       "      <td>First of all, these cans don't look cool like Beats. You will see no NBA players wearing them. The band sticks out awkwardly from the top of your head. And the sound is not at the level of serious audiophile quality like higher end Shures. But with that said, what you get out of the box and in your ears is a very capable, idiot proof and efficiently pairing bluetooth headset with almost freakish range, no connection breaks, and an excellent battery life (I'm still on my first charge but haven't been disciplined about keeping track of how many hours I've logged, I will update with the results of that test later).&lt;br /&gt;&lt;br /&gt;Sound quality is perfectly acceptable, I was able to pick out a full range from lows to highs. If you're used to higher end over the ear cans or Shure type high end in-ear buds and expect the same, you will be disappointed. But why would you? These cans are designed to futz around in your house or office with. Use wired phones if you demand ultimate fidelity.&lt;br /&gt;&lt;br /&gt;This kind of goes to a broader point: the first steps in figuring out what kind of phones you want is: (1) budget and (2) use scenario. I have a great little pair of $29 in-ear bluetooth buds that I wear when I go to the gym or on walks. I wouldn't wear them at home. Sound quality is not great. But convenience factor is! I have a pair of nearly $300 (yes, I know, please don't tell my wife) shure earbuds that I wear on planes and sometimes at home. They are second to none for sound isolation and sound quality, but guess what, if you exercise in them you hear every thump and if you walk around in them, you'll probably get run down by a car whose horn you didn't hear. Meanwhile, if you are operating in a relatively sound free environment, you might want something like the Sennheiser 4xx series, which offers awesome sound and reasonable comfort. If you want to look really cool, buy the Beats.&lt;br /&gt;&lt;br /&gt;If you're buying these, you're looking for freedom, ok sound quality, and good functionality. If you're an audiophile, don't buy them. If you want something to sweat in, don't buy these either. If you want something that you can walk around in your house or office while your phone is charging and still hear uninterrupted music or podcasts 40 feet away: these are your phones. So, think about what you must have, what you would like to have, and what's not that important and try to find a product with those features. Sounds obvious, but you'd be surprised!&lt;br /&gt;&lt;br /&gt;Speaking of function, these phones are one of the few I've run across that actually have useable remote control features. The fast forward, pause/play, volume, and rewind are all located on one headphone, and they are spaced out far enough and placed intuitively enough that you can get used to using the functions immediately. This is a big win for Panasonic since most phones are a usability fail on this front.&lt;br /&gt;&lt;br /&gt;I also like how the phones fold flat and scrunch up for easy traveling.&lt;br /&gt;&lt;br /&gt;Overall, I think these are a pretty good product, but to be frank, I haven't price comparison shopped to see if there's a viable, cheaper alternative. Sennheiser, who has been doing Bluetooth for a long time and I trust, does not seem to have a product in this price range. Even their cheapest is 1.5x more. That might change. There's a Sony with mixed reviews. This is an area that changes very quickly, so do your research and keep in mind the function is that you are buying for. Good luck!&lt;br /&gt;&lt;br /&gt;Recommended.tionality. If you're an audiophile, don't buy them. If you want something to sweat in, don't buy these either. If you want something that you can walk around in your house or office while your phone is charging and still hear uninterrupted music or podcasts 40 feet away: these are your phones. So, think about what you must have, what you would like to have, and what's not that important and try to find a product with those features. Sounds obvious, but you'd be surprised!&lt;br /&gt;&lt;br /&gt;Speaking of function, these phones are one of the few I've run across that actually have useable remote control features. The fast forward, pause/play, volume, and rewind are all located on one headphone, and they are spaced out far enough and placed intuitively enough that you can get used to using the functions immediately. This is a big win for Panasonic since most phones are a usability fail on this front.&lt;br /&gt;&lt;br /&gt;I also like how the phones fold flat and scrunch up for easy traveling.&lt;br /&gt;&lt;br /&gt;Overall, I think these are a pretty good product, but to be frank, I haven't price comparison shopped to see if there's a viable, cheaper alternative. Sennheiser, who has been doing Bluetooth for a long time and I trust, does not seem to have a product in this price range. Even their cheapest is 1.5x more. That might change. There's a Sony with mixed reviews. This is an area that changes very quickly, so do your research and keep in mind the function is that you are buying for. Good luck!&lt;br /&gt;&lt;br /&gt;Recommended.</td>\n",
       "      <td>first all can look cool like beat see nba player wearing them band stick awkwardly top head sound level serious audiophile quality like higher end shures said get box ear capable idiot proof efficiently pairing bluetooth headset almost freakish range connection eaks excellent battery life im still first charge disciplined keeping track many hour ive logged update result test later sound quality perfectly acceptable able pick full range low high used higher end ear can shure type high end inear bud expect same disappointed would you can designed futz around house office with use wired phone demand ultimate fidelity kind go oader point first step figuring kind phone want is budget use scenario great little pair inear bluetooth bud wear go gym walk wear home sound quality great convenience factor is pair nearly yes know please tell wife shure earbuds wear plane sometimes home second none sound isolation sound quality guess what exercise hear every thump walk around them probably get run car whose horn hear meanwhile operating relatively sound free environment might want something like sennheiser xx series offer awesome sound reasonable comfort want look really cool buy beat buying these looking freedom ok sound quality good functionality audiophile buy them want something sweat in buy either want something walk around house office phone charging still hear uninterrupted music podcasts foot away phone so think must have would like have whats important try find product feature sound obvious surprised speaking function phone one ive run across actually useable remote control feature fast forward pauseplay volume rewind located one headphone spaced far enough placed intuitively enough get used using function immediately big win panasonic since phone usability fail front also like phone fold flat scrunch easy traveling overall think pretty good product frank price comparison shopped see there viable cheaper alternative sennheiser bluetooth long time trust seem product price range even cheapest x more might change there sony mixed review area change quickly research keep mind function buying for good luck recommendedtionality audiophile buy them want something sweat in buy either want something walk around house office phone charging still hear uninterrupted music podcasts foot away phone so think must have would like have whats important try find product feature sound obvious surprised speaking function phone one ive run across actually useable remote control feature fast forward pauseplay volume rewind located one headphone spaced far enough placed intuitively enough get used using function immediately big win panasonic since phone usability fail front also like phone fold flat scrunch easy traveling overall think pretty good product frank price comparison shopped see there viable cheaper alternative sennheiser bluetooth long time trust seem product price range even cheapest x more might change there sony mixed review area change quickly research keep mind function buying for good luck recommended</td>\n",
       "    </tr>\n",
       "    <tr>\n",
       "      <th>37046</th>\n",
       "      <td>If you're looking for quality, keep looking. I knew the Pyle name from working with A/V equipment over a few decades and expected better.  I ordered these to hold a couple of Vizio Soundbar surround sound speakers in our TV/game room. Based on reviews of other stands, these are one of the few that will work with the Vizio speakers...and they do mostly, with a little tweaking to the mounting bracket to accommodate the RCA connector as mentioned in other reviews.  That said, the overall quality of the speaker stands is mediocre at best. The bases are heavy but made out of &amp;#34;lumpy&amp;#34; metal and appeared to be painted with a spray can. The logos are splotchy and also poorly painted on. The metal is soft...one of the support columns easily cross-threaded. There are pads on the feet to protect non-carpted floors but one pad was missing and another stuck to the bubble wrap making it useless. Luckily the room they're in is carpeted.  The support columns are adequate. They come in two pieces and adjust like a mic stand, but they are no where near mic stand quality.  The rest of the pieces were all there but are typical low-end Chinese manufacturing standard in that everything just barely fits. Chinese manufacturing can be exquisite of course...it all depends on the seller's specs, and in this case Pyle's were not very demanding.  The good news is that the inside of the columns and the holes in the mounts are large enough to accommodate the straight end of the RCA connectors when they're threaded through...something others had problems with on other stands.  So for holding a pair of really light, basic surround sound speakers where quality isn't top of mind they'll do. If you want to impress friends with your audio system in your living room or HT, these are not your best option.</td>\n",
       "      <td>looking quality keep looking knew pyle name working av equipment decade expected better ordered hold couple vizio soundbar surround sound speaker tvgame room based review stand one work vizio speakersand mostly little tweaking mounting acket accommodate rca connector mentioned review said overall quality speaker stand mediocre best base heavy made lumpy metal appeared painted spray can logo splotchy also poorly painted on metal softone support column easily crossthreaded pad foot protect noncarpted floor one pad missing another stuck bubble wrap making useless luckily room theyre carpeted support column adequate come two piece adjust like mic stand near mic stand quality rest piece typical lowend chinese manufacturing standard everything barely fit chinese manufacturing exquisite courseit depends seller spec case pyle demanding good news inside column hole mount large enough accommodate straight end rca connector theyre threaded throughsomething others problem stand holding pair really light basic surround sound speaker quality top mind theyll do want impress friend audio system living room ht best option</td>\n",
       "    </tr>\n",
       "    <tr>\n",
       "      <th>644348</th>\n",
       "      <td>Completely fixed the snow issue I was having with the TV.  Less than $200 to prevent spending $2,500 or more on a new TV is money well spent.  Definitely use the Arctic Silver paste to marry this chip to the heat sink.  When you see the condition of the heat transfer material Samsung used you'll see the Achilles heel of these TVs.  A quick review of a YouTube video and I was a TV repairman.  Installation was really quite easy, took maybe 20 minutes.</td>\n",
       "      <td>completely fixed snow issue tv le prevent spending new tv money well spent definitely use arctic silver paste marry chip heat sink see condition heat transfer material samsung used see achilles heel tv quick review youtube video tv repairman installation really quite easy took maybe minute</td>\n",
       "    </tr>\n",
       "  </tbody>\n",
       "</table>\n",
       "</div>"
      ],
      "text/plain": [
       "                                                                                                                                                                                                                                                                                                                                                                                                                                                                                                                                                                                                                                                                                                                                                                                                                                                                                                                                                                                                                                                                                                                                                                                                                                                                                                                                                                                                                                                                                                                                                                                                                                                                                                                                                                                                                                                                                                                                                                                                                                                                                                                                                                                                                                                                                                                                                                                                                                                                                                                                                                                                                                                                                                                                                                                                                                                                                                                                                                                                                                                                                                                                                                                                                                                                                                                                                                                                                                                                                                                                                                                                                                                                                                                                                                                                                                                                                                                                                                                                                                                                                                                                                                                                                                                                                                                                                                                                                                                                                                                                                                                                                                                                                                                                                                                                                                                                                                                                                                                                                                                                                                                                                                                                                               review_body  \\\n",
       "416017                                                                                                                                                                                                                                                                                                                                                                                                                                                                                                                                                                                                                                                                                                                                                                                                                                                                                                                                                                                                                                                                                                                                                                                                                                                                                                                                                                                                                                                                                                                                                                                                                                                                                                                                                                                                                                                                                                                                                                                                                                                                                                                                                                                                                                                                                                                                                                                                                                                                                                                                                                                                                                                                                                                                                                                                                                                                                                                                                                                                                                                                                                                                                                                                                                                                                                                                                                                                                                                                                                                                                                                                                                                                                                                                                                                                                                                                                                                                                                                                                                                                                                                                                                                                                                                                                                                                                                                                                                                                                                                                                                                                                                                                                                                                                                                                                                                                                                                                                                                                                                                                                                                                                                                                                          works good   \n",
       "789391                                                                                                                                                                                                                                                                                                                                                                                                                                                                                                                                                                                                                                                                                                                                                                                                                                                                                                                                                                                                                                                                                                                                                                                                                                                                                                                                                                                                                                                                                                                                                                                                                                                                                                                                                                                                                                                                                                                                                                                                                                                                                                                                                                                                                                                                                                                                                                                                                                                                                                                                                                                                                                                                                                                                                                                                                                                                                                                                                                                                                                                                                                                                                                                                                                                                                                                                                                                                                                                                                                                                                                                                                                                                                                                                                                                                                                                                                                                                                                                                                                                                                                                                                                                                                                                                                                                                                                                                                                                                                                                                                                                                                                                                                                                                                                                                                                                                                                                                                                                                                                                                                                                                               Great shelves , with extras(HDMI cable and light.)<br /><br />And all hardware  !!!!!   \n",
       "165832  First of all, these cans don't look cool like Beats. You will see no NBA players wearing them. The band sticks out awkwardly from the top of your head. And the sound is not at the level of serious audiophile quality like higher end Shures. But with that said, what you get out of the box and in your ears is a very capable, idiot proof and efficiently pairing bluetooth headset with almost freakish range, no connection breaks, and an excellent battery life (I'm still on my first charge but haven't been disciplined about keeping track of how many hours I've logged, I will update with the results of that test later).<br /><br />Sound quality is perfectly acceptable, I was able to pick out a full range from lows to highs. If you're used to higher end over the ear cans or Shure type high end in-ear buds and expect the same, you will be disappointed. But why would you? These cans are designed to futz around in your house or office with. Use wired phones if you demand ultimate fidelity.<br /><br />This kind of goes to a broader point: the first steps in figuring out what kind of phones you want is: (1) budget and (2) use scenario. I have a great little pair of $29 in-ear bluetooth buds that I wear when I go to the gym or on walks. I wouldn't wear them at home. Sound quality is not great. But convenience factor is! I have a pair of nearly $300 (yes, I know, please don't tell my wife) shure earbuds that I wear on planes and sometimes at home. They are second to none for sound isolation and sound quality, but guess what, if you exercise in them you hear every thump and if you walk around in them, you'll probably get run down by a car whose horn you didn't hear. Meanwhile, if you are operating in a relatively sound free environment, you might want something like the Sennheiser 4xx series, which offers awesome sound and reasonable comfort. If you want to look really cool, buy the Beats.<br /><br />If you're buying these, you're looking for freedom, ok sound quality, and good functionality. If you're an audiophile, don't buy them. If you want something to sweat in, don't buy these either. If you want something that you can walk around in your house or office while your phone is charging and still hear uninterrupted music or podcasts 40 feet away: these are your phones. So, think about what you must have, what you would like to have, and what's not that important and try to find a product with those features. Sounds obvious, but you'd be surprised!<br /><br />Speaking of function, these phones are one of the few I've run across that actually have useable remote control features. The fast forward, pause/play, volume, and rewind are all located on one headphone, and they are spaced out far enough and placed intuitively enough that you can get used to using the functions immediately. This is a big win for Panasonic since most phones are a usability fail on this front.<br /><br />I also like how the phones fold flat and scrunch up for easy traveling.<br /><br />Overall, I think these are a pretty good product, but to be frank, I haven't price comparison shopped to see if there's a viable, cheaper alternative. Sennheiser, who has been doing Bluetooth for a long time and I trust, does not seem to have a product in this price range. Even their cheapest is 1.5x more. That might change. There's a Sony with mixed reviews. This is an area that changes very quickly, so do your research and keep in mind the function is that you are buying for. Good luck!<br /><br />Recommended.tionality. If you're an audiophile, don't buy them. If you want something to sweat in, don't buy these either. If you want something that you can walk around in your house or office while your phone is charging and still hear uninterrupted music or podcasts 40 feet away: these are your phones. So, think about what you must have, what you would like to have, and what's not that important and try to find a product with those features. Sounds obvious, but you'd be surprised!<br /><br />Speaking of function, these phones are one of the few I've run across that actually have useable remote control features. The fast forward, pause/play, volume, and rewind are all located on one headphone, and they are spaced out far enough and placed intuitively enough that you can get used to using the functions immediately. This is a big win for Panasonic since most phones are a usability fail on this front.<br /><br />I also like how the phones fold flat and scrunch up for easy traveling.<br /><br />Overall, I think these are a pretty good product, but to be frank, I haven't price comparison shopped to see if there's a viable, cheaper alternative. Sennheiser, who has been doing Bluetooth for a long time and I trust, does not seem to have a product in this price range. Even their cheapest is 1.5x more. That might change. There's a Sony with mixed reviews. This is an area that changes very quickly, so do your research and keep in mind the function is that you are buying for. Good luck!<br /><br />Recommended.   \n",
       "37046                                                                                                                                                                                                                                                                                                                                                                                                                                                                                                                                                                                                                                                                                                                                                                                                                                                                                                                                                                                                                                                                                                                                                                                                                                                                                                                                                                                                                                                                                                                                                                                                                                                                                                                                                                                                                                                                                                                                                                                                                                                                                                                                                                                                                                                                                                                                                                                                                                                                                                                                                                                                                                                                                                                                                                                                                                                                                                                                                                                                                                                                                                                                                                                                                                                                                                                                                         If you're looking for quality, keep looking. I knew the Pyle name from working with A/V equipment over a few decades and expected better.  I ordered these to hold a couple of Vizio Soundbar surround sound speakers in our TV/game room. Based on reviews of other stands, these are one of the few that will work with the Vizio speakers...and they do mostly, with a little tweaking to the mounting bracket to accommodate the RCA connector as mentioned in other reviews.  That said, the overall quality of the speaker stands is mediocre at best. The bases are heavy but made out of &#34;lumpy&#34; metal and appeared to be painted with a spray can. The logos are splotchy and also poorly painted on. The metal is soft...one of the support columns easily cross-threaded. There are pads on the feet to protect non-carpted floors but one pad was missing and another stuck to the bubble wrap making it useless. Luckily the room they're in is carpeted.  The support columns are adequate. They come in two pieces and adjust like a mic stand, but they are no where near mic stand quality.  The rest of the pieces were all there but are typical low-end Chinese manufacturing standard in that everything just barely fits. Chinese manufacturing can be exquisite of course...it all depends on the seller's specs, and in this case Pyle's were not very demanding.  The good news is that the inside of the columns and the holes in the mounts are large enough to accommodate the straight end of the RCA connectors when they're threaded through...something others had problems with on other stands.  So for holding a pair of really light, basic surround sound speakers where quality isn't top of mind they'll do. If you want to impress friends with your audio system in your living room or HT, these are not your best option.   \n",
       "644348                                                                                                                                                                                                                                                                                                                                                                                                                                                                                                                                                                                                                                                                                                                                                                                                                                                                                                                                                                                                                                                                                                                                                                                                                                                                                                                                                                                                                                                                                                                                                                                                                                                                                                                                                                                                                                                                                                                                                                                                                                                                                                                                                                                                                                                                                                                                                                                                                                                                                                                                                                                                                                                                                                                                                                                                                                                                                                                                                                                                                                                                                                                                                                                                                                                                                                                                                                                                                                                                                                                                                                                                                                                                                                                                                                                                                                                                                                                                                                                                                                                                                                                                                                                                                                                                                                                                                                                                                                                                                                                                                                                                                                                                                                                                                               Completely fixed the snow issue I was having with the TV.  Less than $200 to prevent spending $2,500 or more on a new TV is money well spent.  Definitely use the Arctic Silver paste to marry this chip to the heat sink.  When you see the condition of the heat transfer material Samsung used you'll see the Achilles heel of these TVs.  A quick review of a YouTube video and I was a TV repairman.  Installation was really quite easy, took maybe 20 minutes.   \n",
       "\n",
       "                                                                                                                                                                                                                                                                                                                                                                                                                                                                                                                                                                                                                                                                                                                                                                                                                                                                                                                                                                                                                                                                                                                                                                                                                                                                                                                                                                                                                                                                                                                                                                                                                                                                                                                                                                                                                                                                                                                                                                                                                                                                                                                                                                                                                                                                                                                                                                                                                                                                                                                                                                                                                                                                                                                                                                                                                                                                                                                                                                                                                                                                                                                                                              new_review_body  \n",
       "416017                                                                                                                                                                                                                                                                                                                                                                                                                                                                                                                                                                                                                                                                                                                                                                                                                                                                                                                                                                                                                                                                                                                                                                                                                                                                                                                                                                                                                                                                                                                                                                                                                                                                                                                                                                                                                                                                                                                                                                                                                                                                                                                                                                                                                                                                                                                                                                                                                                                                                                                                                                                                                                                                                                                                                                                                                                                                                                                                                                                                                                                                                                                                                              work good  \n",
       "789391                                                                                                                                                                                                                                                                                                                                                                                                                                                                                                                                                                                                                                                                                                                                                                                                                                                                                                                                                                                                                                                                                                                                                                                                                                                                                                                                                                                                                                                                                                                                                                                                                                                                                                                                                                                                                                                                                                                                                                                                                                                                                                                                                                                                                                                                                                                                                                                                                                                                                                                                                                                                                                                                                                                                                                                                                                                                                                                                                                                                                                                                                                                            great shelf extrashdmi cable light hardware  \n",
       "165832  first all can look cool like beat see nba player wearing them band stick awkwardly top head sound level serious audiophile quality like higher end shures said get box ear capable idiot proof efficiently pairing bluetooth headset almost freakish range connection eaks excellent battery life im still first charge disciplined keeping track many hour ive logged update result test later sound quality perfectly acceptable able pick full range low high used higher end ear can shure type high end inear bud expect same disappointed would you can designed futz around house office with use wired phone demand ultimate fidelity kind go oader point first step figuring kind phone want is budget use scenario great little pair inear bluetooth bud wear go gym walk wear home sound quality great convenience factor is pair nearly yes know please tell wife shure earbuds wear plane sometimes home second none sound isolation sound quality guess what exercise hear every thump walk around them probably get run car whose horn hear meanwhile operating relatively sound free environment might want something like sennheiser xx series offer awesome sound reasonable comfort want look really cool buy beat buying these looking freedom ok sound quality good functionality audiophile buy them want something sweat in buy either want something walk around house office phone charging still hear uninterrupted music podcasts foot away phone so think must have would like have whats important try find product feature sound obvious surprised speaking function phone one ive run across actually useable remote control feature fast forward pauseplay volume rewind located one headphone spaced far enough placed intuitively enough get used using function immediately big win panasonic since phone usability fail front also like phone fold flat scrunch easy traveling overall think pretty good product frank price comparison shopped see there viable cheaper alternative sennheiser bluetooth long time trust seem product price range even cheapest x more might change there sony mixed review area change quickly research keep mind function buying for good luck recommendedtionality audiophile buy them want something sweat in buy either want something walk around house office phone charging still hear uninterrupted music podcasts foot away phone so think must have would like have whats important try find product feature sound obvious surprised speaking function phone one ive run across actually useable remote control feature fast forward pauseplay volume rewind located one headphone spaced far enough placed intuitively enough get used using function immediately big win panasonic since phone usability fail front also like phone fold flat scrunch easy traveling overall think pretty good product frank price comparison shopped see there viable cheaper alternative sennheiser bluetooth long time trust seem product price range even cheapest x more might change there sony mixed review area change quickly research keep mind function buying for good luck recommended  \n",
       "37046                                                                                                                                                                                                                                                                                                                                                                                                                                                                                                                                                                                                                                                                                                                                                                                                                                                                                                                                                                                                                                                                                                                                                                                                                                                                                                                                                                                                                                                                                                                                                                                                                                                                                                                                                                                                                                                                                                                                                                                                      looking quality keep looking knew pyle name working av equipment decade expected better ordered hold couple vizio soundbar surround sound speaker tvgame room based review stand one work vizio speakersand mostly little tweaking mounting acket accommodate rca connector mentioned review said overall quality speaker stand mediocre best base heavy made lumpy metal appeared painted spray can logo splotchy also poorly painted on metal softone support column easily crossthreaded pad foot protect noncarpted floor one pad missing another stuck bubble wrap making useless luckily room theyre carpeted support column adequate come two piece adjust like mic stand near mic stand quality rest piece typical lowend chinese manufacturing standard everything barely fit chinese manufacturing exquisite courseit depends seller spec case pyle demanding good news inside column hole mount large enough accommodate straight end rca connector theyre threaded throughsomething others problem stand holding pair really light basic surround sound speaker quality top mind theyll do want impress friend audio system living room ht best option  \n",
       "644348                                                                                                                                                                                                                                                                                                                                                                                                                                                                                                                                                                                                                                                                                                                                                                                                                                                                                                                                                                                                                                                                                                                                                                                                                                                                                                                                                                                                                                                                                                                                                                                                                                                                                                                                                                                                                                                                                                                                                                                                                                                                                                                                                                                                                                                                                                                                                                                                                                                                                                                                                                                                                                                                                                                                                                                                                                                                     completely fixed snow issue tv le prevent spending new tv money well spent definitely use arctic silver paste marry chip heat sink see condition heat transfer material samsung used see achilles heel tv quick review youtube video tv repairman installation really quite easy took maybe minute  "
      ]
     },
     "execution_count": 20,
     "metadata": {},
     "output_type": "execute_result"
    }
   ],
   "source": [
    "cleaned2.get(['review_body', 'new_review_body']).head()"
   ]
  },
  {
   "cell_type": "code",
   "execution_count": 21,
   "metadata": {},
   "outputs": [],
   "source": [
    "cleaned2 = df_cleaning(one_file, 'review_headline')"
   ]
  },
  {
   "cell_type": "code",
   "execution_count": 22,
   "metadata": {},
   "outputs": [
    {
     "data": {
      "text/html": [
       "<div>\n",
       "<style scoped>\n",
       "    .dataframe tbody tr th:only-of-type {\n",
       "        vertical-align: middle;\n",
       "    }\n",
       "\n",
       "    .dataframe tbody tr th {\n",
       "        vertical-align: top;\n",
       "    }\n",
       "\n",
       "    .dataframe thead th {\n",
       "        text-align: right;\n",
       "    }\n",
       "</style>\n",
       "<table border=\"1\" class=\"dataframe\">\n",
       "  <thead>\n",
       "    <tr style=\"text-align: right;\">\n",
       "      <th></th>\n",
       "      <th>review_headline</th>\n",
       "      <th>new_review_headline</th>\n",
       "    </tr>\n",
       "  </thead>\n",
       "  <tbody>\n",
       "    <tr>\n",
       "      <th>416017</th>\n",
       "      <td>Five Stars</td>\n",
       "      <td>five star</td>\n",
       "    </tr>\n",
       "    <tr>\n",
       "      <th>789391</th>\n",
       "      <td>Great shelves, with extras(HDMI cable and light</td>\n",
       "      <td>great shelf extrashdmi cable light</td>\n",
       "    </tr>\n",
       "    <tr>\n",
       "      <th>165832</th>\n",
       "      <td>Decent cans that look dorky, feel ok, sound mid-range, and travel well.</td>\n",
       "      <td>decent can look dorky feel ok sound midrange travel well</td>\n",
       "    </tr>\n",
       "    <tr>\n",
       "      <th>37046</th>\n",
       "      <td>Just Okay</td>\n",
       "      <td>okay</td>\n",
       "    </tr>\n",
       "    <tr>\n",
       "      <th>644348</th>\n",
       "      <td>Installation was really quite easy, took maybe 20 minutes</td>\n",
       "      <td>installation really quite easy took maybe minute</td>\n",
       "    </tr>\n",
       "  </tbody>\n",
       "</table>\n",
       "</div>"
      ],
      "text/plain": [
       "                                                                review_headline  \\\n",
       "416017                                                               Five Stars   \n",
       "789391                          Great shelves, with extras(HDMI cable and light   \n",
       "165832  Decent cans that look dorky, feel ok, sound mid-range, and travel well.   \n",
       "37046                                                                 Just Okay   \n",
       "644348                Installation was really quite easy, took maybe 20 minutes   \n",
       "\n",
       "                                             new_review_headline  \n",
       "416017                                                 five star  \n",
       "789391                        great shelf extrashdmi cable light  \n",
       "165832  decent can look dorky feel ok sound midrange travel well  \n",
       "37046                                                       okay  \n",
       "644348          installation really quite easy took maybe minute  "
      ]
     },
     "execution_count": 22,
     "metadata": {},
     "output_type": "execute_result"
    }
   ],
   "source": [
    "cleaned2.get(['review_headline', 'new_review_headline']).head()"
   ]
  },
  {
   "cell_type": "code",
   "execution_count": 23,
   "metadata": {},
   "outputs": [],
   "source": [
    "cleaned2 = df_cleaning(one_file, 'product_title')"
   ]
  },
  {
   "cell_type": "code",
   "execution_count": 24,
   "metadata": {},
   "outputs": [
    {
     "data": {
      "text/html": [
       "<div>\n",
       "<style scoped>\n",
       "    .dataframe tbody tr th:only-of-type {\n",
       "        vertical-align: middle;\n",
       "    }\n",
       "\n",
       "    .dataframe tbody tr th {\n",
       "        vertical-align: top;\n",
       "    }\n",
       "\n",
       "    .dataframe thead th {\n",
       "        text-align: right;\n",
       "    }\n",
       "</style>\n",
       "<table border=\"1\" class=\"dataframe\">\n",
       "  <thead>\n",
       "    <tr style=\"text-align: right;\">\n",
       "      <th></th>\n",
       "      <th>product_title</th>\n",
       "      <th>new_product_title</th>\n",
       "    </tr>\n",
       "  </thead>\n",
       "  <tbody>\n",
       "    <tr>\n",
       "      <th>416017</th>\n",
       "      <td>VideoSecu ML531BE TV Wall Mount for most 22\"-55\" LED LCD Plasma Flat Screen Monitor up to 88 lb VESA 400x400 with Full Motion Swivel Articulating 20 in Extension Arm, HDMI Cable &amp; Bubble Level WP5</td>\n",
       "      <td>videosecu mlbe tv wall mount led lcd plasma flat screen monitor lb vesa x full motion swivel articulating extension arm hdmi cable bubble level wp</td>\n",
       "    </tr>\n",
       "    <tr>\n",
       "      <th>789391</th>\n",
       "      <td>Cheetah Mounts AS1B Single Shelf TV Component Wall Mount 18x16-Inch Shelving Bracket Bundle with 15-Feet HDMI Cable</td>\n",
       "      <td>cheetah mount asb single shelf tv component wall mount xinch shelving bracket bundle foot hdmi cable</td>\n",
       "    </tr>\n",
       "    <tr>\n",
       "      <th>165832</th>\n",
       "      <td>Panasonic RP-BTD10-K Premium Bluetooth Wireless On-Ear Headphones, Black</td>\n",
       "      <td>panasonic rpbtdk premium bluetooth wireless onear headphone black</td>\n",
       "    </tr>\n",
       "    <tr>\n",
       "      <th>37046</th>\n",
       "      <td>Pyle PHSTD1 Satellite Speaker Stands</td>\n",
       "      <td>pyle phstd satellite speaker stand</td>\n",
       "    </tr>\n",
       "    <tr>\n",
       "      <th>644348</th>\n",
       "      <td>New Mitsubishi/Toshiba 4719-001997 DLP Chip 1910-6143W</td>\n",
       "      <td>new mitsubishitoshiba dlp chip w</td>\n",
       "    </tr>\n",
       "  </tbody>\n",
       "</table>\n",
       "</div>"
      ],
      "text/plain": [
       "                                                                                                                                                                                               product_title  \\\n",
       "416017  VideoSecu ML531BE TV Wall Mount for most 22\"-55\" LED LCD Plasma Flat Screen Monitor up to 88 lb VESA 400x400 with Full Motion Swivel Articulating 20 in Extension Arm, HDMI Cable & Bubble Level WP5   \n",
       "789391                                                                                   Cheetah Mounts AS1B Single Shelf TV Component Wall Mount 18x16-Inch Shelving Bracket Bundle with 15-Feet HDMI Cable   \n",
       "165832                                                                                                                              Panasonic RP-BTD10-K Premium Bluetooth Wireless On-Ear Headphones, Black   \n",
       "37046                                                                                                                                                                   Pyle PHSTD1 Satellite Speaker Stands   \n",
       "644348                                                                                                                                                New Mitsubishi/Toshiba 4719-001997 DLP Chip 1910-6143W   \n",
       "\n",
       "                                                                                                                                         new_product_title  \n",
       "416017  videosecu mlbe tv wall mount led lcd plasma flat screen monitor lb vesa x full motion swivel articulating extension arm hdmi cable bubble level wp  \n",
       "789391                                                cheetah mount asb single shelf tv component wall mount xinch shelving bracket bundle foot hdmi cable  \n",
       "165832                                                                                   panasonic rpbtdk premium bluetooth wireless onear headphone black  \n",
       "37046                                                                                                                   pyle phstd satellite speaker stand  \n",
       "644348                                                                                                                    new mitsubishitoshiba dlp chip w  "
      ]
     },
     "execution_count": 24,
     "metadata": {},
     "output_type": "execute_result"
    }
   ],
   "source": [
    "cleaned2.get(['product_title', 'new_product_title']).head()"
   ]
  },
  {
   "cell_type": "code",
   "execution_count": 25,
   "metadata": {},
   "outputs": [
    {
     "data": {
      "text/plain": [
       "'works good'"
      ]
     },
     "execution_count": 25,
     "metadata": {},
     "output_type": "execute_result"
    }
   ],
   "source": [
    "cleaned2.iloc[0].get('review_body')"
   ]
  },
  {
   "cell_type": "markdown",
   "metadata": {},
   "source": [
    "## Vader Sentiment Analysis"
   ]
  },
  {
   "cell_type": "code",
   "execution_count": 26,
   "metadata": {},
   "outputs": [],
   "source": [
    "from vaderSentiment.vaderSentiment import SentimentIntensityAnalyzer\n",
    "\n",
    "analyser = SentimentIntensityAnalyzer()\n",
    "\n",
    "def get_sentiment_scores(review):\n",
    "    \"\"\"\n",
    "    create new dataframe with just the proportions for each review\n",
    "    four columns\n",
    "    neg_prop, pos_prop, neu_prop, compound_prop and will contain these values\n",
    "    obtained from the vator sentiment algorithm\n",
    "    \"\"\"\n",
    "    snt = analyser.polarity_scores(review)\n",
    "    #print(f\"{sentence} {str(snt)}\")\n",
    "    return snt"
   ]
  },
  {
   "cell_type": "code",
   "execution_count": 27,
   "metadata": {},
   "outputs": [
    {
     "data": {
      "text/plain": [
       "{'neg': 0.0, 'neu': 0.256, 'pos': 0.744, 'compound': 0.4404}"
      ]
     },
     "execution_count": 27,
     "metadata": {},
     "output_type": "execute_result"
    }
   ],
   "source": [
    "get_sentiment_scores(cleaned2.iloc[0].get('review_body')) #without lemmitization"
   ]
  },
  {
   "cell_type": "code",
   "execution_count": 28,
   "metadata": {},
   "outputs": [
    {
     "data": {
      "text/plain": [
       "{'neg': 0.0, 'neu': 0.256, 'pos': 0.744, 'compound': 0.4404}"
      ]
     },
     "execution_count": 28,
     "metadata": {},
     "output_type": "execute_result"
    }
   ],
   "source": [
    "get_sentiment_scores(cleaned2.iloc[0].get('new_review_body')) #with lemmitization"
   ]
  },
  {
   "cell_type": "code",
   "execution_count": 29,
   "metadata": {},
   "outputs": [],
   "source": [
    "one_file = cleaned2"
   ]
  },
  {
   "cell_type": "code",
   "execution_count": 30,
   "metadata": {},
   "outputs": [],
   "source": [
    "one_file['rev_dict'] = one_file['new_review_body'].apply(get_sentiment_scores)"
   ]
  },
  {
   "cell_type": "code",
   "execution_count": 31,
   "metadata": {},
   "outputs": [],
   "source": [
    "def get_neg(review_dict):\n",
    "    return review_dict['neg']\n",
    "\n",
    "def get_neu(review_dict):\n",
    "    return review_dict['neu']\n",
    "\n",
    "def get_pos(review_dict):\n",
    "    return review_dict['pos']\n",
    "\n",
    "def get_compound(review_dict):\n",
    "    return review_dict['compound']\n",
    "\n",
    "def only_compound(x):\n",
    "    dct = get_sentiment_scores(x)\n",
    "    return dct['compound']"
   ]
  },
  {
   "cell_type": "code",
   "execution_count": 32,
   "metadata": {},
   "outputs": [],
   "source": [
    "#get neg prop\n",
    "one_file['neg_prop'] = one_file['rev_dict'].apply(get_neg)\n",
    "#get neu prop\n",
    "one_file['neu_prop'] = one_file['rev_dict'].apply(get_neu)\n",
    "#get pos prop\n",
    "one_file['pos_prop'] = one_file['rev_dict'].apply(get_pos)\n",
    "#get compound prop\n",
    "one_file['compound_prop'] = one_file['rev_dict'].apply(get_compound)"
   ]
  },
  {
   "cell_type": "code",
   "execution_count": 33,
   "metadata": {},
   "outputs": [],
   "source": [
    "#save the dataframe as a csv file\n",
    "one_file.to_csv('electronics_data_cleaned.csv')"
   ]
  },
  {
   "cell_type": "markdown",
   "metadata": {},
   "source": [
    "### Sentiment Analysis"
   ]
  },
  {
   "cell_type": "markdown",
   "metadata": {},
   "source": [
    "#df is all data other than rating 3\n",
    "df = one_file[one_file['star_rating'] != 3]"
   ]
  },
  {
   "cell_type": "markdown",
   "metadata": {},
   "source": [
    "df['star_rating'].value_counts()"
   ]
  },
  {
   "cell_type": "markdown",
   "metadata": {},
   "source": [
    "df['positively_rated'] = np.where(df['star_rating'] > 3, 1, 0)"
   ]
  },
  {
   "cell_type": "markdown",
   "metadata": {},
   "source": [
    "df['positively_rated'].value_counts()"
   ]
  },
  {
   "cell_type": "markdown",
   "metadata": {},
   "source": [
    "sns.countplot(df['positively_rated'])"
   ]
  },
  {
   "cell_type": "markdown",
   "metadata": {},
   "source": [
    "##### On all of the data"
   ]
  },
  {
   "cell_type": "markdown",
   "metadata": {},
   "source": [
    "train_data, test_data = np.split(one_file.sample(frac=1, random_state=1729), [int(0.7 * len(one_file))])\n",
    "print(train_data.shape, test_data.shape)"
   ]
  },
  {
   "cell_type": "markdown",
   "metadata": {},
   "source": [
    "X_train = train_data['review_body']\n",
    "X_train.iloc[0] #to_frame()"
   ]
  },
  {
   "cell_type": "markdown",
   "metadata": {},
   "source": [
    "Y_train = train_data['star_rating']"
   ]
  },
  {
   "cell_type": "markdown",
   "metadata": {},
   "source": [
    "X_test = test_data['review_body']\n",
    "Y_test = test_data['star_rating']"
   ]
  },
  {
   "cell_type": "markdown",
   "metadata": {},
   "source": [
    "#### TF-IDF - to get predictions of what star rating will be based on text of review"
   ]
  },
  {
   "cell_type": "markdown",
   "metadata": {},
   "source": [
    "from sklearn.feature_extraction.text import TfidfVectorizer"
   ]
  },
  {
   "cell_type": "markdown",
   "metadata": {},
   "source": [
    "vect = TfidfVectorizer().fit(X_train)"
   ]
  },
  {
   "cell_type": "markdown",
   "metadata": {},
   "source": [
    "len(vect.get_feature_names()) #unique words"
   ]
  },
  {
   "cell_type": "markdown",
   "metadata": {},
   "source": [
    "X_train_vect = vect.transform(X_train)"
   ]
  },
  {
   "cell_type": "markdown",
   "metadata": {},
   "source": [
    "from sklearn.linear_model import LogisticRegression\n",
    "model = LogisticRegression()\n",
    "model.fit(X_train_vect, Y_train)"
   ]
  },
  {
   "cell_type": "markdown",
   "metadata": {},
   "source": [
    "predictions = model.predict(vect.transform(X_test))"
   ]
  },
  {
   "cell_type": "markdown",
   "metadata": {},
   "source": [
    "len(predictions)"
   ]
  },
  {
   "cell_type": "markdown",
   "metadata": {},
   "source": [
    "###### Confusion Matrix - shows probabilities for whether cat data is predicted correctly"
   ]
  },
  {
   "cell_type": "code",
   "execution_count": 34,
   "metadata": {},
   "outputs": [],
   "source": [
    "def plot_confusion_matrix(cm, target_names,\n",
    "                          fname, epoch,\n",
    "                          title='Confusion matrix',\n",
    "                          cmap=None,\n",
    "                          normalize=True, target=None):\n",
    "    import matplotlib.pyplot as plt\n",
    "    import numpy as np\n",
    "    import itertools\n",
    "    plt.style.use('default')\n",
    "\n",
    "    # # only true if it weren't normalized:\n",
    "    # accuracy = np.trace(cm) / float(np.sum(cm))\n",
    "    # misclass = 1 - accuracy\n",
    "\n",
    "    if cmap is None:\n",
    "        cmap = plt.get_cmap('Blues')\n",
    "\n",
    "    if normalize:\n",
    "        cm = cm.astype('float') / cm.sum(axis=1)[:, np.newaxis]\n",
    "    cm[np.isnan(cm)] = 0.0\n",
    "\n",
    "    fig = plt.figure(figsize=(5, 4))\n",
    "    ax = plt.axes()\n",
    "    plt.imshow(cm, interpolation='nearest', cmap=cmap)\n",
    "    if target == \"rule-based\":\n",
    "        plt.title(title + ' for rule-based PF')\n",
    "    else:\n",
    "        plt.title(title + ' for MLPF at epoch ' + str(epoch))\n",
    "\n",
    "    plt.colorbar()\n",
    "\n",
    "    if target_names is not None:\n",
    "        tick_marks = np.arange(len(target_names))\n",
    "        plt.xticks(tick_marks, target_names, rotation=45)\n",
    "        plt.yticks(tick_marks, target_names)\n",
    "\n",
    "    thresh = cm.max() / 1.5 if normalize else cm.max() / 2\n",
    "    for i, j in itertools.product(range(cm.shape[0]), range(cm.shape[1])):\n",
    "        if normalize:\n",
    "            plt.text(j, i, \"{:0.2f}\".format(cm[i, j]),\n",
    "                     horizontalalignment=\"center\",\n",
    "                     color=\"white\" if cm[i, j] > thresh else \"black\")\n",
    "        else:\n",
    "            plt.text(j, i, \"{:,}\".format(cm[i, j]),\n",
    "                     horizontalalignment=\"center\",\n",
    "                     color=\"white\" if cm[i, j] > thresh else \"black\")\n",
    "\n",
    "    plt.ylabel('True label')\n",
    "    plt.xlim(-1, len(target_names))\n",
    "    plt.ylim(-1, len(target_names))\n",
    "    plt.xlabel('Predicted label')\n",
    "    # plt.xlabel('Predicted label\\naccuracy={:0.4f}; misclass={:0.4f}'.format(accuracy, misclass))\n",
    "    plt.tight_layout()\n",
    "    plt.savefig(fname + '.png')\n",
    "    plt.savefig(fname + '.pdf')\n",
    "    #plt.close(fig)\n",
    "\n",
    "    return fig, ax"
   ]
  },
  {
   "cell_type": "markdown",
   "metadata": {},
   "source": [
    "### SVM Notes"
   ]
  },
  {
   "cell_type": "markdown",
   "metadata": {},
   "source": [
    "- **Bag of Words (BoW)**\n",
    "        - BoW encodes an input sentence as the frequency of each word in the sentence. \n",
    "        - In this approach, all words contribute equally to the feature vectors.\n",
    "- **Term Frequency - Inverse Document Frequency (TF-IDF)**\n",
    "        - TF-IDF is a measure of how important each term is to a specific document, as compared to an overall corpus. \n",
    "        - TF-IDF encodes each word as its frequency in the document of interest, divided by a measure of how common the word is across all documents (the corpus).\n",
    "        - Using this approach, each word contributes differently to the feature vectors.\n",
    "        - The assumption behind using TF-IDF is that words that appear commonly everywhere are not that informative about what is specifically interesting about a document of interest, so it is tuned to representing a document in terms of the words it uses that are different from other documents. \n",
    "\n",
    "- To compare those 2 methods, we will first apply them on the same dataset to analyse sentiment (how positive or negative a text is). In order to make the comparison fair, an **SVM (support vector machine)** classifier will be used to classify positive reviews and negative reviews.\n",
    "\n",
    "- SVM is a simple yet powerful and interpretable linear model. To use it as a classifier, we need to have at least 2 splits of the data: training data and test data. The training data is used to tune the weight parameters in the SVM to learn an optimal way to classify the training data. We can then test this trained SVM classifier on the test data, to see how well it works on data that the classifier has not seen before. "
   ]
  },
  {
   "cell_type": "markdown",
   "metadata": {},
   "source": [
    "We will now create a CountVectorizer object to transform the text data into vectors with numerical values.\n",
    "\n",
    "To do so, we will initialize a CountVectorizer object, and name it as vectorizer.\n",
    "\n",
    "4 arguments to initialize a CountVectorizer:\n",
    "\n",
    "* analyzer: 'word'\n",
    " Specify to analyze data from word-level.\n",
    " \n",
    "* max_features: 2000\n",
    " Set a max number of unique words.\n",
    " \n",
    "* tokenizer: word_tokenize\n",
    " Set to tokenize the text data by using the word_tokenizer from NLTK .\n",
    " \n",
    "* stop_words: stopwords.words('english')\n",
    " Set to remove all stopwords in English. We do this since they generally don't provide useful discriminative information."
   ]
  },
  {
   "cell_type": "markdown",
   "metadata": {},
   "source": [
    "## KNN"
   ]
  },
  {
   "cell_type": "code",
   "execution_count": 35,
   "metadata": {},
   "outputs": [],
   "source": [
    "import numpy as np\n",
    "import matplotlib.pyplot as plt\n",
    "import pandas as pd\n",
    "import sklearn"
   ]
  },
  {
   "cell_type": "code",
   "execution_count": 36,
   "metadata": {},
   "outputs": [
    {
     "data": {
      "text/plain": [
       "Index(['marketplace', 'customer_id', 'review_id', 'product_id',\n",
       "       'product_parent', 'product_title', 'product_category', 'star_rating',\n",
       "       'helpful_votes', 'total_votes', 'vine', 'verified_purchase',\n",
       "       'review_headline', 'review_body', 'review_date', 'new_review_body',\n",
       "       'new_review_headline', 'new_product_title', 'rev_dict', 'neg_prop',\n",
       "       'neu_prop', 'pos_prop', 'compound_prop'],\n",
       "      dtype='object')"
      ]
     },
     "execution_count": 36,
     "metadata": {},
     "output_type": "execute_result"
    }
   ],
   "source": [
    "one_file.columns"
   ]
  },
  {
   "cell_type": "code",
   "execution_count": 37,
   "metadata": {},
   "outputs": [],
   "source": [
    "def convert_to_id(x):\n",
    "    alphabet = {'a': 1, 'c': 3, 'b': 2, 'e': 5, 'd': 4, 'g': 7, 'f': 6, 'i': 9, 'h': 8, 'k': 11, 'j': 10, 'm': 13, 'l': 12, 'o': 15, 'n': 14, 'q': 17, 'p': 16, 's': 19, 'r': 18, 'u': 21, 't': 20, 'w': 23, 'v': 22, 'y': 25, 'x': 24, 'z': 26}\n",
    "    out = ''\n",
    "    for i in x:\n",
    "        if i.lower() in alphabet.keys():\n",
    "            out += str(alphabet[i.lower()])\n",
    "        else:\n",
    "            out += i\n",
    "    return out"
   ]
  },
  {
   "cell_type": "code",
   "execution_count": 38,
   "metadata": {},
   "outputs": [],
   "source": [
    "one_file['product_id_convert'] = one_file.get(\"product_id\").apply(convert_to_id)"
   ]
  },
  {
   "cell_type": "code",
   "execution_count": 39,
   "metadata": {},
   "outputs": [],
   "source": [
    "one_file['product_category_convert'] = one_file.get(\"product_category\").apply(convert_to_id)"
   ]
  },
  {
   "cell_type": "code",
   "execution_count": 40,
   "metadata": {},
   "outputs": [],
   "source": [
    "one_file['prod_title_comp'] = one_file.get(\"new_product_title\").apply(only_compound)"
   ]
  },
  {
   "cell_type": "code",
   "execution_count": 41,
   "metadata": {},
   "outputs": [],
   "source": [
    "one_file['rev_title_comp'] = one_file.get(\"new_review_headline\").apply(only_compound)"
   ]
  },
  {
   "cell_type": "markdown",
   "metadata": {},
   "source": [
    "def help_prop(vals):\n",
    "    if vals[1] == 0:\n",
    "        return 0.5\n",
    "    else:\n",
    "        return vals[0] / vals[1]"
   ]
  },
  {
   "cell_type": "code",
   "execution_count": 83,
   "metadata": {},
   "outputs": [],
   "source": [
    "#NEED TO THINK OF WHAT WOULD HAPPEN IF THE NUMBER OF TOTAL VOTES WOULD BE 0\n",
    "one_file['help_prop'] = one_file.get(\"helpful_votes\") / one_file.get(\"total_votes\")\n",
    "#one_file['help_prop'] = one_file.get(\"helpful_votes\").apply(help_prop)"
   ]
  },
  {
   "cell_type": "code",
   "execution_count": 84,
   "metadata": {},
   "outputs": [
    {
     "data": {
      "text/html": [
       "<div>\n",
       "<style scoped>\n",
       "    .dataframe tbody tr th:only-of-type {\n",
       "        vertical-align: middle;\n",
       "    }\n",
       "\n",
       "    .dataframe tbody tr th {\n",
       "        vertical-align: top;\n",
       "    }\n",
       "\n",
       "    .dataframe thead th {\n",
       "        text-align: right;\n",
       "    }\n",
       "</style>\n",
       "<table border=\"1\" class=\"dataframe\">\n",
       "  <thead>\n",
       "    <tr style=\"text-align: right;\">\n",
       "      <th></th>\n",
       "      <th>165832</th>\n",
       "    </tr>\n",
       "  </thead>\n",
       "  <tbody>\n",
       "    <tr>\n",
       "      <th>marketplace</th>\n",
       "      <td>US</td>\n",
       "    </tr>\n",
       "    <tr>\n",
       "      <th>customer_id</th>\n",
       "      <td>44099256</td>\n",
       "    </tr>\n",
       "    <tr>\n",
       "      <th>review_id</th>\n",
       "      <td>RM8UXQHVQADBP</td>\n",
       "    </tr>\n",
       "    <tr>\n",
       "      <th>product_id</th>\n",
       "      <td>B00SMVLUNK</td>\n",
       "    </tr>\n",
       "    <tr>\n",
       "      <th>product_parent</th>\n",
       "      <td>950751339</td>\n",
       "    </tr>\n",
       "    <tr>\n",
       "      <th>product_title</th>\n",
       "      <td>Panasonic RP-BTD10-K Premium Bluetooth Wireless On-Ear Headphones, Black</td>\n",
       "    </tr>\n",
       "    <tr>\n",
       "      <th>product_category</th>\n",
       "      <td>Electronics</td>\n",
       "    </tr>\n",
       "    <tr>\n",
       "      <th>star_rating</th>\n",
       "      <td>4</td>\n",
       "    </tr>\n",
       "    <tr>\n",
       "      <th>helpful_votes</th>\n",
       "      <td>2</td>\n",
       "    </tr>\n",
       "    <tr>\n",
       "      <th>total_votes</th>\n",
       "      <td>3</td>\n",
       "    </tr>\n",
       "    <tr>\n",
       "      <th>vine</th>\n",
       "      <td>Y</td>\n",
       "    </tr>\n",
       "    <tr>\n",
       "      <th>verified_purchase</th>\n",
       "      <td>N</td>\n",
       "    </tr>\n",
       "    <tr>\n",
       "      <th>review_headline</th>\n",
       "      <td>Decent cans that look dorky, feel ok, sound mid-range, and travel well.</td>\n",
       "    </tr>\n",
       "    <tr>\n",
       "      <th>review_body</th>\n",
       "      <td>First of all, these cans don't look cool like Beats. You will see no NBA players wearing them. The band sticks out awkwardly from the top of your head. And the sound is not at the level of serious audiophile quality like higher end Shures. But with that said, what you get out of the box and in your ears is a very capable, idiot proof and efficiently pairing bluetooth headset with almost freakish range, no connection breaks, and an excellent battery life (I'm still on my first charge but haven't been disciplined about keeping track of how many hours I've logged, I will update with the results of that test later).&lt;br /&gt;&lt;br /&gt;Sound quality is perfectly acceptable, I was able to pick out a full range from lows to highs. If you're used to higher end over the ear cans or Shure type high end in-ear buds and expect the same, you will be disappointed. But why would you? These cans are designed to futz around in your house or office with. Use wired phones if you demand ultimate fidelity.&lt;br /&gt;&lt;br /&gt;This kind of goes to a broader point: the first steps in figuring out what kind of phones you want is: (1) budget and (2) use scenario. I have a great little pair of $29 in-ear bluetooth buds that I wear when I go to the gym or on walks. I wouldn't wear them at home. Sound quality is not great. But convenience factor is! I have a pair of nearly $300 (yes, I know, please don't tell my wife) shure earbuds that I wear on planes and sometimes at home. They are second to none for sound isolation and sound quality, but guess what, if you exercise in them you hear every thump and if you walk around in them, you'll probably get run down by a car whose horn you didn't hear. Meanwhile, if you are operating in a relatively sound free environment, you might want something like the Sennheiser 4xx series, which offers awesome sound and reasonable comfort. If you want to look really cool, buy the Beats.&lt;br /&gt;&lt;br /&gt;If you're buying these, you're looking for freedom, ok sound quality, and good functionality. If you're an audiophile, don't buy them. If you want something to sweat in, don't buy these either. If you want something that you can walk around in your house or office while your phone is charging and still hear uninterrupted music or podcasts 40 feet away: these are your phones. So, think about what you must have, what you would like to have, and what's not that important and try to find a product with those features. Sounds obvious, but you'd be surprised!&lt;br /&gt;&lt;br /&gt;Speaking of function, these phones are one of the few I've run across that actually have useable remote control features. The fast forward, pause/play, volume, and rewind are all located on one headphone, and they are spaced out far enough and placed intuitively enough that you can get used to using the functions immediately. This is a big win for Panasonic since most phones are a usability fail on this front.&lt;br /&gt;&lt;br /&gt;I also like how the phones fold flat and scrunch up for easy traveling.&lt;br /&gt;&lt;br /&gt;Overall, I think these are a pretty good product, but to be frank, I haven't price comparison shopped to see if there's a viable, cheaper alternative. Sennheiser, who has been doing Bluetooth for a long time and I trust, does not seem to have a product in this price range. Even their cheapest is 1.5x more. That might change. There's a Sony with mixed reviews. This is an area that changes very quickly, so do your research and keep in mind the function is that you are buying for. Good luck!&lt;br /&gt;&lt;br /&gt;Recommended.tionality. If you're an audiophile, don't buy them. If you want something to sweat in, don't buy these either. If you want something that you can walk around in your house or office while your phone is charging and still hear uninterrupted music or podcasts 40 feet away: these are your phones. So, think about what you must have, what you would like to have, and what's not that important and try to find a product with those features. Sounds obvious, but you'd be surprised!&lt;br /&gt;&lt;br /&gt;Speaking of function, these phones are one of the few I've run across that actually have useable remote control features. The fast forward, pause/play, volume, and rewind are all located on one headphone, and they are spaced out far enough and placed intuitively enough that you can get used to using the functions immediately. This is a big win for Panasonic since most phones are a usability fail on this front.&lt;br /&gt;&lt;br /&gt;I also like how the phones fold flat and scrunch up for easy traveling.&lt;br /&gt;&lt;br /&gt;Overall, I think these are a pretty good product, but to be frank, I haven't price comparison shopped to see if there's a viable, cheaper alternative. Sennheiser, who has been doing Bluetooth for a long time and I trust, does not seem to have a product in this price range. Even their cheapest is 1.5x more. That might change. There's a Sony with mixed reviews. This is an area that changes very quickly, so do your research and keep in mind the function is that you are buying for. Good luck!&lt;br /&gt;&lt;br /&gt;Recommended.</td>\n",
       "    </tr>\n",
       "    <tr>\n",
       "      <th>review_date</th>\n",
       "      <td>2015-07-13</td>\n",
       "    </tr>\n",
       "    <tr>\n",
       "      <th>new_review_body</th>\n",
       "      <td>first all can look cool like beat see nba player wearing them band stick awkwardly top head sound level serious audiophile quality like higher end shures said get box ear capable idiot proof efficiently pairing bluetooth headset almost freakish range connection eaks excellent battery life im still first charge disciplined keeping track many hour ive logged update result test later sound quality perfectly acceptable able pick full range low high used higher end ear can shure type high end inear bud expect same disappointed would you can designed futz around house office with use wired phone demand ultimate fidelity kind go oader point first step figuring kind phone want is budget use scenario great little pair inear bluetooth bud wear go gym walk wear home sound quality great convenience factor is pair nearly yes know please tell wife shure earbuds wear plane sometimes home second none sound isolation sound quality guess what exercise hear every thump walk around them probably get run car whose horn hear meanwhile operating relatively sound free environment might want something like sennheiser xx series offer awesome sound reasonable comfort want look really cool buy beat buying these looking freedom ok sound quality good functionality audiophile buy them want something sweat in buy either want something walk around house office phone charging still hear uninterrupted music podcasts foot away phone so think must have would like have whats important try find product feature sound obvious surprised speaking function phone one ive run across actually useable remote control feature fast forward pauseplay volume rewind located one headphone spaced far enough placed intuitively enough get used using function immediately big win panasonic since phone usability fail front also like phone fold flat scrunch easy traveling overall think pretty good product frank price comparison shopped see there viable cheaper alternative sennheiser bluetooth long time trust seem product price range even cheapest x more might change there sony mixed review area change quickly research keep mind function buying for good luck recommendedtionality audiophile buy them want something sweat in buy either want something walk around house office phone charging still hear uninterrupted music podcasts foot away phone so think must have would like have whats important try find product feature sound obvious surprised speaking function phone one ive run across actually useable remote control feature fast forward pauseplay volume rewind located one headphone spaced far enough placed intuitively enough get used using function immediately big win panasonic since phone usability fail front also like phone fold flat scrunch easy traveling overall think pretty good product frank price comparison shopped see there viable cheaper alternative sennheiser bluetooth long time trust seem product price range even cheapest x more might change there sony mixed review area change quickly research keep mind function buying for good luck recommended</td>\n",
       "    </tr>\n",
       "    <tr>\n",
       "      <th>new_review_headline</th>\n",
       "      <td>decent can look dorky feel ok sound midrange travel well</td>\n",
       "    </tr>\n",
       "    <tr>\n",
       "      <th>new_product_title</th>\n",
       "      <td>panasonic rpbtdk premium bluetooth wireless onear headphone black</td>\n",
       "    </tr>\n",
       "    <tr>\n",
       "      <th>rev_dict</th>\n",
       "      <td>{'neg': 0.041, 'neu': 0.707, 'pos': 0.252, 'compound': 0.9987}</td>\n",
       "    </tr>\n",
       "    <tr>\n",
       "      <th>neg_prop</th>\n",
       "      <td>0.041</td>\n",
       "    </tr>\n",
       "    <tr>\n",
       "      <th>neu_prop</th>\n",
       "      <td>0.707</td>\n",
       "    </tr>\n",
       "    <tr>\n",
       "      <th>pos_prop</th>\n",
       "      <td>0.252</td>\n",
       "    </tr>\n",
       "    <tr>\n",
       "      <th>compound_prop</th>\n",
       "      <td>0.9987</td>\n",
       "    </tr>\n",
       "    <tr>\n",
       "      <th>product_id_convert</th>\n",
       "      <td>20019132212211411</td>\n",
       "    </tr>\n",
       "    <tr>\n",
       "      <th>product_category_convert</th>\n",
       "      <td>51253201815149319</td>\n",
       "    </tr>\n",
       "    <tr>\n",
       "      <th>prod_title_comp</th>\n",
       "      <td>0.0</td>\n",
       "    </tr>\n",
       "    <tr>\n",
       "      <th>rev_title_comp</th>\n",
       "      <td>0.296</td>\n",
       "    </tr>\n",
       "    <tr>\n",
       "      <th>help_prop</th>\n",
       "      <td>0.666667</td>\n",
       "    </tr>\n",
       "    <tr>\n",
       "      <th>rev_bod_id</th>\n",
       "      <td>0</td>\n",
       "    </tr>\n",
       "    <tr>\n",
       "      <th>help_prop_id</th>\n",
       "      <td>1</td>\n",
       "    </tr>\n",
       "  </tbody>\n",
       "</table>\n",
       "</div>"
      ],
      "text/plain": [
       "                                                                                                                                                                                                                                                                                                                                                                                                                                                                                                                                                                                                                                                                                                                                                                                                                                                                                                                                                                                                                                                                                                                                                                                                                                                                                                                                                                                                                                                                                                                                                                                                                                                                                                                                                                                                                                                                                                                                                                                                                                                                                                                                                                                                                                                                                                                                                                                                                                                                                                                                                                                                                                                                                                                                                                                                                                                                                                                                                                                                                                                                                                                                                                                                                                                                                                                                                                                                                                                                                                                                                                                                                                                                                                                                                                                                                                                                                                                                                                                                                                                                                                                                                                                                                                                                                                                                                                                                                                                                                                                                                                                                                                                                                                                                                                                                                                                                                                                                                                                                                                                                                                                                                                                                                                                      165832\n",
       "marketplace                                                                                                                                                                                                                                                                                                                                                                                                                                                                                                                                                                                                                                                                                                                                                                                                                                                                                                                                                                                                                                                                                                                                                                                                                                                                                                                                                                                                                                                                                                                                                                                                                                                                                                                                                                                                                                                                                                                                                                                                                                                                                                                                                                                                                                                                                                                                                                                                                                                                                                                                                                                                                                                                                                                                                                                                                                                                                                                                                                                                                                                                                                                                                                                                                                                                                                                                                                                                                                                                                                                                                                                                                                                                                                                                                                                                                                                                                                                                                                                                                                                                                                                                                                                                                                                                                                                                                                                                                                                                                                                                                                                                                                                                                                                                                                                                                                                                                                                                                                                                                                                                                                                                                                                                                                               US\n",
       "customer_id                                                                                                                                                                                                                                                                                                                                                                                                                                                                                                                                                                                                                                                                                                                                                                                                                                                                                                                                                                                                                                                                                                                                                                                                                                                                                                                                                                                                                                                                                                                                                                                                                                                                                                                                                                                                                                                                                                                                                                                                                                                                                                                                                                                                                                                                                                                                                                                                                                                                                                                                                                                                                                                                                                                                                                                                                                                                                                                                                                                                                                                                                                                                                                                                                                                                                                                                                                                                                                                                                                                                                                                                                                                                                                                                                                                                                                                                                                                                                                                                                                                                                                                                                                                                                                                                                                                                                                                                                                                                                                                                                                                                                                                                                                                                                                                                                                                                                                                                                                                                                                                                                                                                                                                                                                         44099256\n",
       "review_id                                                                                                                                                                                                                                                                                                                                                                                                                                                                                                                                                                                                                                                                                                                                                                                                                                                                                                                                                                                                                                                                                                                                                                                                                                                                                                                                                                                                                                                                                                                                                                                                                                                                                                                                                                                                                                                                                                                                                                                                                                                                                                                                                                                                                                                                                                                                                                                                                                                                                                                                                                                                                                                                                                                                                                                                                                                                                                                                                                                                                                                                                                                                                                                                                                                                                                                                                                                                                                                                                                                                                                                                                                                                                                                                                                                                                                                                                                                                                                                                                                                                                                                                                                                                                                                                                                                                                                                                                                                                                                                                                                                                                                                                                                                                                                                                                                                                                                                                                                                                                                                                                                                                                                                                                                      RM8UXQHVQADBP\n",
       "product_id                                                                                                                                                                                                                                                                                                                                                                                                                                                                                                                                                                                                                                                                                                                                                                                                                                                                                                                                                                                                                                                                                                                                                                                                                                                                                                                                                                                                                                                                                                                                                                                                                                                                                                                                                                                                                                                                                                                                                                                                                                                                                                                                                                                                                                                                                                                                                                                                                                                                                                                                                                                                                                                                                                                                                                                                                                                                                                                                                                                                                                                                                                                                                                                                                                                                                                                                                                                                                                                                                                                                                                                                                                                                                                                                                                                                                                                                                                                                                                                                                                                                                                                                                                                                                                                                                                                                                                                                                                                                                                                                                                                                                                                                                                                                                                                                                                                                                                                                                                                                                                                                                                                                                                                                                                        B00SMVLUNK\n",
       "product_parent                                                                                                                                                                                                                                                                                                                                                                                                                                                                                                                                                                                                                                                                                                                                                                                                                                                                                                                                                                                                                                                                                                                                                                                                                                                                                                                                                                                                                                                                                                                                                                                                                                                                                                                                                                                                                                                                                                                                                                                                                                                                                                                                                                                                                                                                                                                                                                                                                                                                                                                                                                                                                                                                                                                                                                                                                                                                                                                                                                                                                                                                                                                                                                                                                                                                                                                                                                                                                                                                                                                                                                                                                                                                                                                                                                                                                                                                                                                                                                                                                                                                                                                                                                                                                                                                                                                                                                                                                                                                                                                                                                                                                                                                                                                                                                                                                                                                                                                                                                                                                                                                                                                                                                                                                                     950751339\n",
       "product_title                                                                                                                                                                                                                                                                                                                                                                                                                                                                                                                                                                                                                                                                                                                                                                                                                                                                                                                                                                                                                                                                                                                                                                                                                                                                                                                                                                                                                                                                                                                                                                                                                                                                                                                                                                                                                                                                                                                                                                                                                                                                                                                                                                                                                                                                                                                                                                                                                                                                                                                                                                                                                                                                                                                                                                                                                                                                                                                                                                                                                                                                                                                                                                                                                                                                                                                                                                                                                                                                                                                                                                                                                                                                                                                                                                                                                                                                                                                                                                                                                                                                                                                                                                                                                                                                                                                                                                                                                                                                                                                                                                                                                                                                                                                                                                                                                                                                                                                                                                                                                                                                                                                                                                       Panasonic RP-BTD10-K Premium Bluetooth Wireless On-Ear Headphones, Black\n",
       "product_category                                                                                                                                                                                                                                                                                                                                                                                                                                                                                                                                                                                                                                                                                                                                                                                                                                                                                                                                                                                                                                                                                                                                                                                                                                                                                                                                                                                                                                                                                                                                                                                                                                                                                                                                                                                                                                                                                                                                                                                                                                                                                                                                                                                                                                                                                                                                                                                                                                                                                                                                                                                                                                                                                                                                                                                                                                                                                                                                                                                                                                                                                                                                                                                                                                                                                                                                                                                                                                                                                                                                                                                                                                                                                                                                                                                                                                                                                                                                                                                                                                                                                                                                                                                                                                                                                                                                                                                                                                                                                                                                                                                                                                                                                                                                                                                                                                                                                                                                                                                                                                                                                                                                                                                                                                 Electronics\n",
       "star_rating                                                                                                                                                                                                                                                                                                                                                                                                                                                                                                                                                                                                                                                                                                                                                                                                                                                                                                                                                                                                                                                                                                                                                                                                                                                                                                                                                                                                                                                                                                                                                                                                                                                                                                                                                                                                                                                                                                                                                                                                                                                                                                                                                                                                                                                                                                                                                                                                                                                                                                                                                                                                                                                                                                                                                                                                                                                                                                                                                                                                                                                                                                                                                                                                                                                                                                                                                                                                                                                                                                                                                                                                                                                                                                                                                                                                                                                                                                                                                                                                                                                                                                                                                                                                                                                                                                                                                                                                                                                                                                                                                                                                                                                                                                                                                                                                                                                                                                                                                                                                                                                                                                                                                                                                                                                4\n",
       "helpful_votes                                                                                                                                                                                                                                                                                                                                                                                                                                                                                                                                                                                                                                                                                                                                                                                                                                                                                                                                                                                                                                                                                                                                                                                                                                                                                                                                                                                                                                                                                                                                                                                                                                                                                                                                                                                                                                                                                                                                                                                                                                                                                                                                                                                                                                                                                                                                                                                                                                                                                                                                                                                                                                                                                                                                                                                                                                                                                                                                                                                                                                                                                                                                                                                                                                                                                                                                                                                                                                                                                                                                                                                                                                                                                                                                                                                                                                                                                                                                                                                                                                                                                                                                                                                                                                                                                                                                                                                                                                                                                                                                                                                                                                                                                                                                                                                                                                                                                                                                                                                                                                                                                                                                                                                                                                              2\n",
       "total_votes                                                                                                                                                                                                                                                                                                                                                                                                                                                                                                                                                                                                                                                                                                                                                                                                                                                                                                                                                                                                                                                                                                                                                                                                                                                                                                                                                                                                                                                                                                                                                                                                                                                                                                                                                                                                                                                                                                                                                                                                                                                                                                                                                                                                                                                                                                                                                                                                                                                                                                                                                                                                                                                                                                                                                                                                                                                                                                                                                                                                                                                                                                                                                                                                                                                                                                                                                                                                                                                                                                                                                                                                                                                                                                                                                                                                                                                                                                                                                                                                                                                                                                                                                                                                                                                                                                                                                                                                                                                                                                                                                                                                                                                                                                                                                                                                                                                                                                                                                                                                                                                                                                                                                                                                                                                3\n",
       "vine                                                                                                                                                                                                                                                                                                                                                                                                                                                                                                                                                                                                                                                                                                                                                                                                                                                                                                                                                                                                                                                                                                                                                                                                                                                                                                                                                                                                                                                                                                                                                                                                                                                                                                                                                                                                                                                                                                                                                                                                                                                                                                                                                                                                                                                                                                                                                                                                                                                                                                                                                                                                                                                                                                                                                                                                                                                                                                                                                                                                                                                                                                                                                                                                                                                                                                                                                                                                                                                                                                                                                                                                                                                                                                                                                                                                                                                                                                                                                                                                                                                                                                                                                                                                                                                                                                                                                                                                                                                                                                                                                                                                                                                                                                                                                                                                                                                                                                                                                                                                                                                                                                                                                                                                                                                       Y\n",
       "verified_purchase                                                                                                                                                                                                                                                                                                                                                                                                                                                                                                                                                                                                                                                                                                                                                                                                                                                                                                                                                                                                                                                                                                                                                                                                                                                                                                                                                                                                                                                                                                                                                                                                                                                                                                                                                                                                                                                                                                                                                                                                                                                                                                                                                                                                                                                                                                                                                                                                                                                                                                                                                                                                                                                                                                                                                                                                                                                                                                                                                                                                                                                                                                                                                                                                                                                                                                                                                                                                                                                                                                                                                                                                                                                                                                                                                                                                                                                                                                                                                                                                                                                                                                                                                                                                                                                                                                                                                                                                                                                                                                                                                                                                                                                                                                                                                                                                                                                                                                                                                                                                                                                                                                                                                                                                                                          N\n",
       "review_headline                                                                                                                                                                                                                                                                                                                                                                                                                                                                                                                                                                                                                                                                                                                                                                                                                                                                                                                                                                                                                                                                                                                                                                                                                                                                                                                                                                                                                                                                                                                                                                                                                                                                                                                                                                                                                                                                                                                                                                                                                                                                                                                                                                                                                                                                                                                                                                                                                                                                                                                                                                                                                                                                                                                                                                                                                                                                                                                                                                                                                                                                                                                                                                                                                                                                                                                                                                                                                                                                                                                                                                                                                                                                                                                                                                                                                                                                                                                                                                                                                                                                                                                                                                                                                                                                                                                                                                                                                                                                                                                                                                                                                                                                                                                                                                                                                                                                                                                                                                                                                                                                                                                                                                      Decent cans that look dorky, feel ok, sound mid-range, and travel well.\n",
       "review_body               First of all, these cans don't look cool like Beats. You will see no NBA players wearing them. The band sticks out awkwardly from the top of your head. And the sound is not at the level of serious audiophile quality like higher end Shures. But with that said, what you get out of the box and in your ears is a very capable, idiot proof and efficiently pairing bluetooth headset with almost freakish range, no connection breaks, and an excellent battery life (I'm still on my first charge but haven't been disciplined about keeping track of how many hours I've logged, I will update with the results of that test later).<br /><br />Sound quality is perfectly acceptable, I was able to pick out a full range from lows to highs. If you're used to higher end over the ear cans or Shure type high end in-ear buds and expect the same, you will be disappointed. But why would you? These cans are designed to futz around in your house or office with. Use wired phones if you demand ultimate fidelity.<br /><br />This kind of goes to a broader point: the first steps in figuring out what kind of phones you want is: (1) budget and (2) use scenario. I have a great little pair of $29 in-ear bluetooth buds that I wear when I go to the gym or on walks. I wouldn't wear them at home. Sound quality is not great. But convenience factor is! I have a pair of nearly $300 (yes, I know, please don't tell my wife) shure earbuds that I wear on planes and sometimes at home. They are second to none for sound isolation and sound quality, but guess what, if you exercise in them you hear every thump and if you walk around in them, you'll probably get run down by a car whose horn you didn't hear. Meanwhile, if you are operating in a relatively sound free environment, you might want something like the Sennheiser 4xx series, which offers awesome sound and reasonable comfort. If you want to look really cool, buy the Beats.<br /><br />If you're buying these, you're looking for freedom, ok sound quality, and good functionality. If you're an audiophile, don't buy them. If you want something to sweat in, don't buy these either. If you want something that you can walk around in your house or office while your phone is charging and still hear uninterrupted music or podcasts 40 feet away: these are your phones. So, think about what you must have, what you would like to have, and what's not that important and try to find a product with those features. Sounds obvious, but you'd be surprised!<br /><br />Speaking of function, these phones are one of the few I've run across that actually have useable remote control features. The fast forward, pause/play, volume, and rewind are all located on one headphone, and they are spaced out far enough and placed intuitively enough that you can get used to using the functions immediately. This is a big win for Panasonic since most phones are a usability fail on this front.<br /><br />I also like how the phones fold flat and scrunch up for easy traveling.<br /><br />Overall, I think these are a pretty good product, but to be frank, I haven't price comparison shopped to see if there's a viable, cheaper alternative. Sennheiser, who has been doing Bluetooth for a long time and I trust, does not seem to have a product in this price range. Even their cheapest is 1.5x more. That might change. There's a Sony with mixed reviews. This is an area that changes very quickly, so do your research and keep in mind the function is that you are buying for. Good luck!<br /><br />Recommended.tionality. If you're an audiophile, don't buy them. If you want something to sweat in, don't buy these either. If you want something that you can walk around in your house or office while your phone is charging and still hear uninterrupted music or podcasts 40 feet away: these are your phones. So, think about what you must have, what you would like to have, and what's not that important and try to find a product with those features. Sounds obvious, but you'd be surprised!<br /><br />Speaking of function, these phones are one of the few I've run across that actually have useable remote control features. The fast forward, pause/play, volume, and rewind are all located on one headphone, and they are spaced out far enough and placed intuitively enough that you can get used to using the functions immediately. This is a big win for Panasonic since most phones are a usability fail on this front.<br /><br />I also like how the phones fold flat and scrunch up for easy traveling.<br /><br />Overall, I think these are a pretty good product, but to be frank, I haven't price comparison shopped to see if there's a viable, cheaper alternative. Sennheiser, who has been doing Bluetooth for a long time and I trust, does not seem to have a product in this price range. Even their cheapest is 1.5x more. That might change. There's a Sony with mixed reviews. This is an area that changes very quickly, so do your research and keep in mind the function is that you are buying for. Good luck!<br /><br />Recommended.\n",
       "review_date                                                                                                                                                                                                                                                                                                                                                                                                                                                                                                                                                                                                                                                                                                                                                                                                                                                                                                                                                                                                                                                                                                                                                                                                                                                                                                                                                                                                                                                                                                                                                                                                                                                                                                                                                                                                                                                                                                                                                                                                                                                                                                                                                                                                                                                                                                                                                                                                                                                                                                                                                                                                                                                                                                                                                                                                                                                                                                                                                                                                                                                                                                                                                                                                                                                                                                                                                                                                                                                                                                                                                                                                                                                                                                                                                                                                                                                                                                                                                                                                                                                                                                                                                                                                                                                                                                                                                                                                                                                                                                                                                                                                                                                                                                                                                                                                                                                                                                                                                                                                                                                                                                                                                                                                                                       2015-07-13\n",
       "new_review_body                                                                                                                                                                                                                                                                                                                                                                                                                                                                                                                                                                                                                                                                                                                                                                                                                                                                                                                                                                                                                                                                                                                                                                                                                                                                                                                                                                                                                                                                                                                                                                                                                                                                                                                                                                                                                                                                                                                                                                                                                                                                        first all can look cool like beat see nba player wearing them band stick awkwardly top head sound level serious audiophile quality like higher end shures said get box ear capable idiot proof efficiently pairing bluetooth headset almost freakish range connection eaks excellent battery life im still first charge disciplined keeping track many hour ive logged update result test later sound quality perfectly acceptable able pick full range low high used higher end ear can shure type high end inear bud expect same disappointed would you can designed futz around house office with use wired phone demand ultimate fidelity kind go oader point first step figuring kind phone want is budget use scenario great little pair inear bluetooth bud wear go gym walk wear home sound quality great convenience factor is pair nearly yes know please tell wife shure earbuds wear plane sometimes home second none sound isolation sound quality guess what exercise hear every thump walk around them probably get run car whose horn hear meanwhile operating relatively sound free environment might want something like sennheiser xx series offer awesome sound reasonable comfort want look really cool buy beat buying these looking freedom ok sound quality good functionality audiophile buy them want something sweat in buy either want something walk around house office phone charging still hear uninterrupted music podcasts foot away phone so think must have would like have whats important try find product feature sound obvious surprised speaking function phone one ive run across actually useable remote control feature fast forward pauseplay volume rewind located one headphone spaced far enough placed intuitively enough get used using function immediately big win panasonic since phone usability fail front also like phone fold flat scrunch easy traveling overall think pretty good product frank price comparison shopped see there viable cheaper alternative sennheiser bluetooth long time trust seem product price range even cheapest x more might change there sony mixed review area change quickly research keep mind function buying for good luck recommendedtionality audiophile buy them want something sweat in buy either want something walk around house office phone charging still hear uninterrupted music podcasts foot away phone so think must have would like have whats important try find product feature sound obvious surprised speaking function phone one ive run across actually useable remote control feature fast forward pauseplay volume rewind located one headphone spaced far enough placed intuitively enough get used using function immediately big win panasonic since phone usability fail front also like phone fold flat scrunch easy traveling overall think pretty good product frank price comparison shopped see there viable cheaper alternative sennheiser bluetooth long time trust seem product price range even cheapest x more might change there sony mixed review area change quickly research keep mind function buying for good luck recommended\n",
       "new_review_headline                                                                                                                                                                                                                                                                                                                                                                                                                                                                                                                                                                                                                                                                                                                                                                                                                                                                                                                                                                                                                                                                                                                                                                                                                                                                                                                                                                                                                                                                                                                                                                                                                                                                                                                                                                                                                                                                                                                                                                                                                                                                                                                                                                                                                                                                                                                                                                                                                                                                                                                                                                                                                                                                                                                                                                                                                                                                                                                                                                                                                                                                                                                                                                                                                                                                                                                                                                                                                                                                                                                                                                                                                                                                                                                                                                                                                                                                                                                                                                                                                                                                                                                                                                                                                                                                                                                                                                                                                                                                                                                                                                                                                                                                                                                                                                                                                                                                                                                                                                                                                                                                                                                                                                                 decent can look dorky feel ok sound midrange travel well\n",
       "new_product_title                                                                                                                                                                                                                                                                                                                                                                                                                                                                                                                                                                                                                                                                                                                                                                                                                                                                                                                                                                                                                                                                                                                                                                                                                                                                                                                                                                                                                                                                                                                                                                                                                                                                                                                                                                                                                                                                                                                                                                                                                                                                                                                                                                                                                                                                                                                                                                                                                                                                                                                                                                                                                                                                                                                                                                                                                                                                                                                                                                                                                                                                                                                                                                                                                                                                                                                                                                                                                                                                                                                                                                                                                                                                                                                                                                                                                                                                                                                                                                                                                                                                                                                                                                                                                                                                                                                                                                                                                                                                                                                                                                                                                                                                                                                                                                                                                                                                                                                                                                                                                                                                                                                                                                          panasonic rpbtdk premium bluetooth wireless onear headphone black\n",
       "rev_dict                                                                                                                                                                                                                                                                                                                                                                                                                                                                                                                                                                                                                                                                                                                                                                                                                                                                                                                                                                                                                                                                                                                                                                                                                                                                                                                                                                                                                                                                                                                                                                                                                                                                                                                                                                                                                                                                                                                                                                                                                                                                                                                                                                                                                                                                                                                                                                                                                                                                                                                                                                                                                                                                                                                                                                                                                                                                                                                                                                                                                                                                                                                                                                                                                                                                                                                                                                                                                                                                                                                                                                                                                                                                                                                                                                                                                                                                                                                                                                                                                                                                                                                                                                                                                                                                                                                                                                                                                                                                                                                                                                                                                                                                                                                                                                                                                                                                                                                                                                                                                                                                                                                                                                                      {'neg': 0.041, 'neu': 0.707, 'pos': 0.252, 'compound': 0.9987}\n",
       "neg_prop                                                                                                                                                                                                                                                                                                                                                                                                                                                                                                                                                                                                                                                                                                                                                                                                                                                                                                                                                                                                                                                                                                                                                                                                                                                                                                                                                                                                                                                                                                                                                                                                                                                                                                                                                                                                                                                                                                                                                                                                                                                                                                                                                                                                                                                                                                                                                                                                                                                                                                                                                                                                                                                                                                                                                                                                                                                                                                                                                                                                                                                                                                                                                                                                                                                                                                                                                                                                                                                                                                                                                                                                                                                                                                                                                                                                                                                                                                                                                                                                                                                                                                                                                                                                                                                                                                                                                                                                                                                                                                                                                                                                                                                                                                                                                                                                                                                                                                                                                                                                                                                                                                                                                                                                                                               0.041\n",
       "neu_prop                                                                                                                                                                                                                                                                                                                                                                                                                                                                                                                                                                                                                                                                                                                                                                                                                                                                                                                                                                                                                                                                                                                                                                                                                                                                                                                                                                                                                                                                                                                                                                                                                                                                                                                                                                                                                                                                                                                                                                                                                                                                                                                                                                                                                                                                                                                                                                                                                                                                                                                                                                                                                                                                                                                                                                                                                                                                                                                                                                                                                                                                                                                                                                                                                                                                                                                                                                                                                                                                                                                                                                                                                                                                                                                                                                                                                                                                                                                                                                                                                                                                                                                                                                                                                                                                                                                                                                                                                                                                                                                                                                                                                                                                                                                                                                                                                                                                                                                                                                                                                                                                                                                                                                                                                                               0.707\n",
       "pos_prop                                                                                                                                                                                                                                                                                                                                                                                                                                                                                                                                                                                                                                                                                                                                                                                                                                                                                                                                                                                                                                                                                                                                                                                                                                                                                                                                                                                                                                                                                                                                                                                                                                                                                                                                                                                                                                                                                                                                                                                                                                                                                                                                                                                                                                                                                                                                                                                                                                                                                                                                                                                                                                                                                                                                                                                                                                                                                                                                                                                                                                                                                                                                                                                                                                                                                                                                                                                                                                                                                                                                                                                                                                                                                                                                                                                                                                                                                                                                                                                                                                                                                                                                                                                                                                                                                                                                                                                                                                                                                                                                                                                                                                                                                                                                                                                                                                                                                                                                                                                                                                                                                                                                                                                                                                               0.252\n",
       "compound_prop                                                                                                                                                                                                                                                                                                                                                                                                                                                                                                                                                                                                                                                                                                                                                                                                                                                                                                                                                                                                                                                                                                                                                                                                                                                                                                                                                                                                                                                                                                                                                                                                                                                                                                                                                                                                                                                                                                                                                                                                                                                                                                                                                                                                                                                                                                                                                                                                                                                                                                                                                                                                                                                                                                                                                                                                                                                                                                                                                                                                                                                                                                                                                                                                                                                                                                                                                                                                                                                                                                                                                                                                                                                                                                                                                                                                                                                                                                                                                                                                                                                                                                                                                                                                                                                                                                                                                                                                                                                                                                                                                                                                                                                                                                                                                                                                                                                                                                                                                                                                                                                                                                                                                                                                                                         0.9987\n",
       "product_id_convert                                                                                                                                                                                                                                                                                                                                                                                                                                                                                                                                                                                                                                                                                                                                                                                                                                                                                                                                                                                                                                                                                                                                                                                                                                                                                                                                                                                                                                                                                                                                                                                                                                                                                                                                                                                                                                                                                                                                                                                                                                                                                                                                                                                                                                                                                                                                                                                                                                                                                                                                                                                                                                                                                                                                                                                                                                                                                                                                                                                                                                                                                                                                                                                                                                                                                                                                                                                                                                                                                                                                                                                                                                                                                                                                                                                                                                                                                                                                                                                                                                                                                                                                                                                                                                                                                                                                                                                                                                                                                                                                                                                                                                                                                                                                                                                                                                                                                                                                                                                                                                                                                                                                                                                                                         20019132212211411\n",
       "product_category_convert                                                                                                                                                                                                                                                                                                                                                                                                                                                                                                                                                                                                                                                                                                                                                                                                                                                                                                                                                                                                                                                                                                                                                                                                                                                                                                                                                                                                                                                                                                                                                                                                                                                                                                                                                                                                                                                                                                                                                                                                                                                                                                                                                                                                                                                                                                                                                                                                                                                                                                                                                                                                                                                                                                                                                                                                                                                                                                                                                                                                                                                                                                                                                                                                                                                                                                                                                                                                                                                                                                                                                                                                                                                                                                                                                                                                                                                                                                                                                                                                                                                                                                                                                                                                                                                                                                                                                                                                                                                                                                                                                                                                                                                                                                                                                                                                                                                                                                                                                                                                                                                                                                                                                                                                                   51253201815149319\n",
       "prod_title_comp                                                                                                                                                                                                                                                                                                                                                                                                                                                                                                                                                                                                                                                                                                                                                                                                                                                                                                                                                                                                                                                                                                                                                                                                                                                                                                                                                                                                                                                                                                                                                                                                                                                                                                                                                                                                                                                                                                                                                                                                                                                                                                                                                                                                                                                                                                                                                                                                                                                                                                                                                                                                                                                                                                                                                                                                                                                                                                                                                                                                                                                                                                                                                                                                                                                                                                                                                                                                                                                                                                                                                                                                                                                                                                                                                                                                                                                                                                                                                                                                                                                                                                                                                                                                                                                                                                                                                                                                                                                                                                                                                                                                                                                                                                                                                                                                                                                                                                                                                                                                                                                                                                                                                                                                                                          0.0\n",
       "rev_title_comp                                                                                                                                                                                                                                                                                                                                                                                                                                                                                                                                                                                                                                                                                                                                                                                                                                                                                                                                                                                                                                                                                                                                                                                                                                                                                                                                                                                                                                                                                                                                                                                                                                                                                                                                                                                                                                                                                                                                                                                                                                                                                                                                                                                                                                                                                                                                                                                                                                                                                                                                                                                                                                                                                                                                                                                                                                                                                                                                                                                                                                                                                                                                                                                                                                                                                                                                                                                                                                                                                                                                                                                                                                                                                                                                                                                                                                                                                                                                                                                                                                                                                                                                                                                                                                                                                                                                                                                                                                                                                                                                                                                                                                                                                                                                                                                                                                                                                                                                                                                                                                                                                                                                                                                                                                         0.296\n",
       "help_prop                                                                                                                                                                                                                                                                                                                                                                                                                                                                                                                                                                                                                                                                                                                                                                                                                                                                                                                                                                                                                                                                                                                                                                                                                                                                                                                                                                                                                                                                                                                                                                                                                                                                                                                                                                                                                                                                                                                                                                                                                                                                                                                                                                                                                                                                                                                                                                                                                                                                                                                                                                                                                                                                                                                                                                                                                                                                                                                                                                                                                                                                                                                                                                                                                                                                                                                                                                                                                                                                                                                                                                                                                                                                                                                                                                                                                                                                                                                                                                                                                                                                                                                                                                                                                                                                                                                                                                                                                                                                                                                                                                                                                                                                                                                                                                                                                                                                                                                                                                                                                                                                                                                                                                                                                                           0.666667\n",
       "rev_bod_id                                                                                                                                                                                                                                                                                                                                                                                                                                                                                                                                                                                                                                                                                                                                                                                                                                                                                                                                                                                                                                                                                                                                                                                                                                                                                                                                                                                                                                                                                                                                                                                                                                                                                                                                                                                                                                                                                                                                                                                                                                                                                                                                                                                                                                                                                                                                                                                                                                                                                                                                                                                                                                                                                                                                                                                                                                                                                                                                                                                                                                                                                                                                                                                                                                                                                                                                                                                                                                                                                                                                                                                                                                                                                                                                                                                                                                                                                                                                                                                                                                                                                                                                                                                                                                                                                                                                                                                                                                                                                                                                                                                                                                                                                                                                                                                                                                                                                                                                                                                                                                                                                                                                                                                                                                                 0\n",
       "help_prop_id                                                                                                                                                                                                                                                                                                                                                                                                                                                                                                                                                                                                                                                                                                                                                                                                                                                                                                                                                                                                                                                                                                                                                                                                                                                                                                                                                                                                                                                                                                                                                                                                                                                                                                                                                                                                                                                                                                                                                                                                                                                                                                                                                                                                                                                                                                                                                                                                                                                                                                                                                                                                                                                                                                                                                                                                                                                                                                                                                                                                                                                                                                                                                                                                                                                                                                                                                                                                                                                                                                                                                                                                                                                                                                                                                                                                                                                                                                                                                                                                                                                                                                                                                                                                                                                                                                                                                                                                                                                                                                                                                                                                                                                                                                                                                                                                                                                                                                                                                                                                                                                                                                                                                                                                                                               1"
      ]
     },
     "execution_count": 84,
     "metadata": {},
     "output_type": "execute_result"
    }
   ],
   "source": [
    "one_file.iloc[2].to_frame()"
   ]
  },
  {
   "cell_type": "code",
   "execution_count": 44,
   "metadata": {},
   "outputs": [],
   "source": [
    "def id_for_dictionary(dic):\n",
    "    if len(dic) == 4:\n",
    "        ind = list(dic.values()).index(max(list(dic.values())[0:-1])) #remove the compound\n",
    "    else:\n",
    "        ind = list(dic.values()).index(max(list(dic.values())))\n",
    "        \n",
    "    if ind == 1:\n",
    "        return 0\n",
    "    elif ind == 0:\n",
    "        return -1\n",
    "    else:\n",
    "        return 1"
   ]
  },
  {
   "cell_type": "code",
   "execution_count": 45,
   "metadata": {},
   "outputs": [],
   "source": [
    "def id_for_prop(prop):\n",
    "    if prop < 0.45:\n",
    "        return -1\n",
    "    elif prop > 0.55:\n",
    "        return 1\n",
    "    else:\n",
    "        return 0"
   ]
  },
  {
   "cell_type": "code",
   "execution_count": 46,
   "metadata": {},
   "outputs": [],
   "source": [
    "one_file['rev_bod_id'] = one_file.get(\"rev_dict\").apply(id_for_dictionary)"
   ]
  },
  {
   "cell_type": "code",
   "execution_count": 47,
   "metadata": {},
   "outputs": [],
   "source": [
    "one_file['help_prop_id'] = one_file.get(\"help_prop\").apply(id_for_prop)"
   ]
  },
  {
   "cell_type": "markdown",
   "metadata": {},
   "source": [
    "find percentages for the body -- text and display those in a column -- act as labels for the percent positivity of the review body and header themselves"
   ]
  },
  {
   "cell_type": "code",
   "execution_count": 48,
   "metadata": {},
   "outputs": [],
   "source": [
    "#imp_col = one_file[['verified_purchase', 'prod_title_comp', 'star_rating', 'rev_title_comp', 'neg_prop', 'neu_prop', 'pos_prop', 'help_prop']]\n",
    "imp_col = one_file[['verified_purchase', 'prod_title_comp', 'star_rating', 'rev_title_comp', 'rev_bod_id', 'help_prop_id']]"
   ]
  },
  {
   "cell_type": "code",
   "execution_count": 49,
   "metadata": {},
   "outputs": [
    {
     "data": {
      "text/plain": [
       "verified_purchase     object\n",
       "prod_title_comp      float64\n",
       "star_rating            int64\n",
       "rev_title_comp       float64\n",
       "rev_bod_id             int64\n",
       "help_prop_id           int64\n",
       "dtype: object"
      ]
     },
     "execution_count": 49,
     "metadata": {},
     "output_type": "execute_result"
    }
   ],
   "source": [
    "imp_col.dtypes"
   ]
  },
  {
   "cell_type": "code",
   "execution_count": 50,
   "metadata": {},
   "outputs": [
    {
     "data": {
      "text/plain": [
       "'\\nfrom sklearn.preprocessing import LabelEncoder\\nle = LabelEncoder()\\nX[:,1] = le.fit_transform(X[:,1])\\n'"
      ]
     },
     "execution_count": 50,
     "metadata": {},
     "output_type": "execute_result"
    }
   ],
   "source": [
    "#need to replace review_body and review_headline with percentages for sentiment -- easier to use for classification\n",
    "#vine needs to be converted to a yes/no binary column similar to how positively rated was determined\n",
    "#use original dataset with rating 3 available\n",
    "\n",
    "#X = imp_col.iloc[:, [1, 2, 3, 4, 5, 6, 7, 8, 9, 10, 11]].values\n",
    "X = imp_col.iloc[:, [1,2,3,4,5]].values #only taking in the categories that will be used as a dataframe\n",
    "y = imp_col.iloc[:, 0].values\n",
    "\n",
    "\"\"\"\n",
    "from sklearn.preprocessing import LabelEncoder\n",
    "le = LabelEncoder()\n",
    "X[:,1] = le.fit_transform(X[:,1])\n",
    "\"\"\""
   ]
  },
  {
   "cell_type": "code",
   "execution_count": 51,
   "metadata": {},
   "outputs": [
    {
     "data": {
      "text/plain": [
       "array([[ 0.25  ,  5.    ,  0.    ,  1.    ,  0.    ],\n",
       "       [ 0.    ,  5.    ,  0.6249,  0.    ,  0.    ],\n",
       "       [ 0.    ,  4.    ,  0.296 ,  0.    ,  1.    ],\n",
       "       ...,\n",
       "       [ 0.    ,  1.    ,  0.    ,  0.    ,  1.    ],\n",
       "       [-0.2732,  5.    ,  0.    ,  1.    ,  0.    ],\n",
       "       [ 0.    ,  5.    ,  0.6249,  0.    ,  0.    ]])"
      ]
     },
     "execution_count": 51,
     "metadata": {},
     "output_type": "execute_result"
    }
   ],
   "source": [
    "X"
   ]
  },
  {
   "cell_type": "markdown",
   "metadata": {},
   "source": [
    "#Since our dataset containing character variables we have to encode it using LabelEncoder\n",
    "\n",
    "from sklearn.preprocessing import LabelEncoder\n",
    "le = LabelEncoder()\n",
    "X[:,2] = le.fit_transform(X[:,2])"
   ]
  },
  {
   "cell_type": "code",
   "execution_count": 52,
   "metadata": {},
   "outputs": [],
   "source": [
    "from sklearn.model_selection import train_test_split\n",
    "X_train, X_test, y_train, y_test = train_test_split(X, y, test_size = 0.20, random_state = 0)"
   ]
  },
  {
   "cell_type": "code",
   "execution_count": 53,
   "metadata": {},
   "outputs": [],
   "source": [
    "# Next, we are doing feature scaling to the training and test set of independent variables for reducing the size to smaller values\n",
    "from sklearn.preprocessing import StandardScaler\n",
    "sc = StandardScaler()\n",
    "X_train = sc.fit_transform(X_train)\n",
    "X_test = sc.transform(X_test)"
   ]
  },
  {
   "cell_type": "code",
   "execution_count": 54,
   "metadata": {},
   "outputs": [
    {
     "data": {
      "text/plain": [
       "KNeighborsClassifier(metric='euclidean', n_neighbors=20, p=1)"
      ]
     },
     "execution_count": 54,
     "metadata": {},
     "output_type": "execute_result"
    }
   ],
   "source": [
    "from sklearn.neighbors import KNeighborsClassifier\n",
    "\n",
    "#we are using \n",
    "#5 neighborhood points are required for classifying a given point -- distance metric is using the minkonowski equation\n",
    "knn_classifier = KNeighborsClassifier(n_neighbors = 20, metric = 'euclidean', p = 1)\n",
    "knn_classifier.fit(X_train, y_train)"
   ]
  },
  {
   "cell_type": "code",
   "execution_count": 55,
   "metadata": {},
   "outputs": [],
   "source": [
    "y_pred = knn_classifier.predict(X_test)"
   ]
  },
  {
   "cell_type": "code",
   "execution_count": 56,
   "metadata": {},
   "outputs": [],
   "source": [
    "#We can evaluate our model using the confusion matrix and accuracy score by comparing the predicted and actual test values\n",
    "\n",
    "from sklearn.metrics import confusion_matrix,accuracy_score\n",
    "cm = confusion_matrix(y_test, y_pred)\n",
    "ac = accuracy_score(y_test,y_pred)"
   ]
  },
  {
   "cell_type": "code",
   "execution_count": 57,
   "metadata": {},
   "outputs": [
    {
     "name": "stdout",
     "output_type": "stream",
     "text": [
      "[[    7  3779]\n",
      " [   24 36187]]\n"
     ]
    }
   ],
   "source": [
    "print(cm)"
   ]
  },
  {
   "cell_type": "code",
   "execution_count": 58,
   "metadata": {},
   "outputs": [
    {
     "name": "stdout",
     "output_type": "stream",
     "text": [
      "0.904917868840163\n"
     ]
    }
   ],
   "source": [
    "print(ac)"
   ]
  },
  {
   "cell_type": "code",
   "execution_count": 59,
   "metadata": {},
   "outputs": [],
   "source": [
    "#Can see the model performance and add more features accordingly -- \n",
    "#would be good if the performance is greater than 85%"
   ]
  },
  {
   "cell_type": "markdown",
   "metadata": {},
   "source": [
    "### Test on a product review - Need to write a *function* for this for taking in the user input\n",
    "\n",
    "The features that we are looking at!\n",
    "* 'prod_title_comp', \n",
    "* 'star_rating', \n",
    "* 'rev_title_comp', \n",
    "* 'rev_bod_id', \n",
    "* 'help_prop_id'"
   ]
  },
  {
   "cell_type": "code",
   "execution_count": 89,
   "metadata": {},
   "outputs": [],
   "source": [
    "review_body = \"this is a good review\"\n",
    "product_title = \"Sony Headphones\"\n",
    "review_title = 'Love the product!'\n",
    "\n",
    "star_rating = 5\n",
    "helpful_votes = 1\n",
    "total_votes = 1"
   ]
  },
  {
   "cell_type": "code",
   "execution_count": 90,
   "metadata": {},
   "outputs": [
    {
     "data": {
      "text/html": [
       "<div>\n",
       "<style scoped>\n",
       "    .dataframe tbody tr th:only-of-type {\n",
       "        vertical-align: middle;\n",
       "    }\n",
       "\n",
       "    .dataframe tbody tr th {\n",
       "        vertical-align: top;\n",
       "    }\n",
       "\n",
       "    .dataframe thead th {\n",
       "        text-align: right;\n",
       "    }\n",
       "</style>\n",
       "<table border=\"1\" class=\"dataframe\">\n",
       "  <thead>\n",
       "    <tr style=\"text-align: right;\">\n",
       "      <th></th>\n",
       "      <th>review_body</th>\n",
       "      <th>review_title</th>\n",
       "      <th>product_title</th>\n",
       "    </tr>\n",
       "  </thead>\n",
       "  <tbody>\n",
       "    <tr>\n",
       "      <th>0</th>\n",
       "      <td>this is a good review</td>\n",
       "      <td>Love the product!</td>\n",
       "      <td>Sony Headphones</td>\n",
       "    </tr>\n",
       "  </tbody>\n",
       "</table>\n",
       "</div>"
      ],
      "text/plain": [
       "             review_body       review_title    product_title\n",
       "0  this is a good review  Love the product!  Sony Headphones"
      ]
     },
     "execution_count": 90,
     "metadata": {},
     "output_type": "execute_result"
    }
   ],
   "source": [
    "test = pd.DataFrame()\n",
    "test['review_body'] = np.array([review_body])\n",
    "test['review_title'] = np.array([review_title])\n",
    "test['product_title'] = np.array([product_title])\n",
    "test"
   ]
  },
  {
   "cell_type": "code",
   "execution_count": 91,
   "metadata": {},
   "outputs": [
    {
     "data": {
      "text/html": [
       "<div>\n",
       "<style scoped>\n",
       "    .dataframe tbody tr th:only-of-type {\n",
       "        vertical-align: middle;\n",
       "    }\n",
       "\n",
       "    .dataframe tbody tr th {\n",
       "        vertical-align: top;\n",
       "    }\n",
       "\n",
       "    .dataframe thead th {\n",
       "        text-align: right;\n",
       "    }\n",
       "</style>\n",
       "<table border=\"1\" class=\"dataframe\">\n",
       "  <thead>\n",
       "    <tr style=\"text-align: right;\">\n",
       "      <th></th>\n",
       "      <th>review_body</th>\n",
       "      <th>review_title</th>\n",
       "      <th>product_title</th>\n",
       "      <th>new_review_body</th>\n",
       "      <th>new_review_title</th>\n",
       "      <th>new_product_title</th>\n",
       "    </tr>\n",
       "  </thead>\n",
       "  <tbody>\n",
       "    <tr>\n",
       "      <th>0</th>\n",
       "      <td>this is a good review</td>\n",
       "      <td>Love the product!</td>\n",
       "      <td>Sony Headphones</td>\n",
       "      <td>good review</td>\n",
       "      <td>love product</td>\n",
       "      <td>sony headphone</td>\n",
       "    </tr>\n",
       "  </tbody>\n",
       "</table>\n",
       "</div>"
      ],
      "text/plain": [
       "             review_body       review_title    product_title new_review_body  \\\n",
       "0  this is a good review  Love the product!  Sony Headphones     good review   \n",
       "\n",
       "  new_review_title new_product_title  \n",
       "0     love product    sony headphone  "
      ]
     },
     "execution_count": 91,
     "metadata": {},
     "output_type": "execute_result"
    }
   ],
   "source": [
    "out = df_cleaning(test, 'review_body')\n",
    "out = df_cleaning(out, 'review_title')\n",
    "out = df_cleaning(out, 'product_title')\n",
    "out"
   ]
  },
  {
   "cell_type": "code",
   "execution_count": 95,
   "metadata": {},
   "outputs": [
    {
     "data": {
      "text/plain": [
       "'this is a good review'"
      ]
     },
     "execution_count": 95,
     "metadata": {},
     "output_type": "execute_result"
    }
   ],
   "source": [
    "out['review_body'][0]"
   ]
  },
  {
   "cell_type": "markdown",
   "metadata": {},
   "source": [
    "def get_sentiment_proportions(review):\n",
    "    \"\"\"\n",
    "    create new dataframe with just the proportions for each review\n",
    "    four columns\n",
    "    neg_prop, pos_prop, neu_prop, compound_prop and will contain these values\n",
    "    obtained from the vator sentiment algorithm\n",
    "    \"\"\"\n",
    "    snt = analyser.polarity_scores(review)\n",
    "    #print(f\"{sentence} {str(snt)}\")\n",
    "    neg = snt['neg']\n",
    "    neu = snt['neu']\n",
    "    pos = snt['pos']\n",
    "    #compound = snt['compound']\n",
    "    return neg, neu, pos\n",
    "\n",
    "neg, neu, pos = get_sentiment_proportions(out.get(\"new_review_body\").iloc[0])\n",
    "\n",
    "product_category = convert_to_id(product_category)\n",
    "product_title = only_compound(product_title)\n",
    "rev_title = only_compound(review_title)"
   ]
  },
  {
   "cell_type": "code",
   "execution_count": 100,
   "metadata": {},
   "outputs": [],
   "source": [
    "rev_bod_id = id_for_dictionary(analyser.polarity_scores(out['new_review_body'][0]))\n",
    "help_prop_id = id_for_prop(helpful_votes / total_votes)\n",
    "prod_title_comp = only_compound(out['new_review_title'][0])\n",
    "rev_title_comp = only_compound(out['new_product_title'][0])"
   ]
  },
  {
   "cell_type": "markdown",
   "metadata": {},
   "source": [
    "Predicted: 'verified_purchase'\n",
    "\n",
    "User Input: 'prod_title_comp', 'product_category_convert', 'star_rating', 'helpful_votes', 'total_votes', 'neg_prop', 'neu_prop', 'pos_prop'\n",
    "- 8 fields"
   ]
  },
  {
   "cell_type": "code",
   "execution_count": 101,
   "metadata": {},
   "outputs": [
    {
     "data": {
      "text/plain": [
       "array([[0.6369, 5.    , 0.    , 1.    , 1.    ]])"
      ]
     },
     "execution_count": 101,
     "metadata": {},
     "output_type": "execute_result"
    }
   ],
   "source": [
    "rev_input_test = np.array([[prod_title_comp, star_rating, rev_title_comp, rev_bod_id, help_prop_id]])\n",
    "rev_input_test"
   ]
  },
  {
   "cell_type": "code",
   "execution_count": 102,
   "metadata": {},
   "outputs": [],
   "source": [
    "prediction, probabilities = knn_classifier.predict(rev_input_test), knn_classifier.predict_proba(rev_input_test)[0]"
   ]
  },
  {
   "cell_type": "code",
   "execution_count": 103,
   "metadata": {},
   "outputs": [
    {
     "data": {
      "text/plain": [
       "array(['Y'], dtype=object)"
      ]
     },
     "execution_count": 103,
     "metadata": {},
     "output_type": "execute_result"
    }
   ],
   "source": [
    "prediction"
   ]
  },
  {
   "cell_type": "code",
   "execution_count": 104,
   "metadata": {},
   "outputs": [
    {
     "data": {
      "text/plain": [
       "array([0.05, 0.95])"
      ]
     },
     "execution_count": 104,
     "metadata": {},
     "output_type": "execute_result"
    }
   ],
   "source": [
    "probabilities"
   ]
  },
  {
   "cell_type": "markdown",
   "metadata": {},
   "source": [
    "classifier?"
   ]
  },
  {
   "cell_type": "code",
   "execution_count": 105,
   "metadata": {},
   "outputs": [
    {
     "name": "stdout",
     "output_type": "stream",
     "text": [
      "\"this is a good review\" is predicted to be a VERIFIED review, with 95.0% probability of being VERIFIED and 5.0% probability of being UNVERIFIED\n"
     ]
    }
   ],
   "source": [
    "def interpret_prediction(review, pred, proba):\n",
    "    proba = [round(proba[0], 3), round(proba[1], 3)]\n",
    "    if prediction[0] == 'Y':\n",
    "        print(f'\"{review}\" is predicted to be a VERIFIED review, with {proba[1]*100}% probability of being VERIFIED and {proba[0]*100}% probability of being UNVERIFIED')\n",
    "    if prediction[0] == 'N':\n",
    "        print(f'\"{review}\" is predicted to be an UNVERIFIED review, with {proba[0]*100}% probability of being UNVERIFIED and {proba[1]*100}% probability of being VERIFIED')\n",
    "        \n",
    "interpret_prediction(review_test, prediction, probabilities)"
   ]
  },
  {
   "cell_type": "code",
   "execution_count": 106,
   "metadata": {},
   "outputs": [],
   "source": [
    "from joblib import dump, load"
   ]
  },
  {
   "cell_type": "code",
   "execution_count": 107,
   "metadata": {},
   "outputs": [
    {
     "data": {
      "text/plain": [
       "KNeighborsClassifier(metric='euclidean', n_neighbors=20, p=1)"
      ]
     },
     "execution_count": 107,
     "metadata": {},
     "output_type": "execute_result"
    }
   ],
   "source": [
    "knn_classifier"
   ]
  },
  {
   "cell_type": "code",
   "execution_count": 108,
   "metadata": {},
   "outputs": [
    {
     "data": {
      "text/plain": [
       "['KNNModelFiles/knn_working_model.joblib']"
      ]
     },
     "execution_count": 108,
     "metadata": {},
     "output_type": "execute_result"
    }
   ],
   "source": [
    "name = 'knn_working_model.joblib'\n",
    "path = 'KNNModelFiles/'\n",
    "dump(knn_classifier, path+name)"
   ]
  },
  {
   "cell_type": "code",
   "execution_count": 109,
   "metadata": {},
   "outputs": [],
   "source": [
    "knn_classifier = load(path+name)"
   ]
  },
  {
   "cell_type": "code",
   "execution_count": null,
   "metadata": {},
   "outputs": [],
   "source": []
  }
 ],
 "metadata": {
  "kernelspec": {
   "display_name": "Python 3",
   "language": "python",
   "name": "python3"
  },
  "language_info": {
   "codemirror_mode": {
    "name": "ipython",
    "version": 3
   },
   "file_extension": ".py",
   "mimetype": "text/x-python",
   "name": "python",
   "nbconvert_exporter": "python",
   "pygments_lexer": "ipython3",
   "version": "3.7.6"
  }
 },
 "nbformat": 4,
 "nbformat_minor": 5
}
