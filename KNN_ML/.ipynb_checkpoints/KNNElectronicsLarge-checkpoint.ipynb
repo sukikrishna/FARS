{
 "cells": [
  {
   "cell_type": "code",
   "execution_count": 1,
   "metadata": {},
   "outputs": [],
   "source": [
    "# import libraries\n",
    "\n",
    "'''\n",
    "import boto3, re, sys, math, json, os, sagemaker, urllib.request\n",
    "from sagemaker import get_execution_role\n",
    "from IPython.display import Image\n",
    "from IPython.display import display\n",
    "from time import gmtime, strftime\n",
    "from sagemaker.predictor import csv_serializer\n",
    "'''\n",
    "\n",
    "import numpy as np\n",
    "import pandas as pd\n",
    "\n",
    "import seaborn as sns\n",
    "import matplotlib.pyplot as plt\n",
    "\n",
    "# These are all the imports needed for the assignment\n",
    "%matplotlib inline\n",
    "\n",
    "# Import nltk package (Natural Language Toolkit)\n",
    "import nltk\n",
    "from nltk.tokenize import word_tokenize\n",
    "from nltk.corpus import stopwords\n",
    "\n",
    "import warnings\n",
    "warnings.filterwarnings('ignore')\n",
    "\n",
    "# scikit-learn imports\n",
    "from sklearn.model_selection import train_test_split\n",
    "from sklearn.svm import SVC\n",
    "from sklearn.feature_extraction.text import CountVectorizer, TfidfVectorizer\n",
    "from sklearn.metrics import classification_report, precision_recall_fscore_support"
   ]
  },
  {
   "cell_type": "code",
   "execution_count": 2,
   "metadata": {},
   "outputs": [],
   "source": [
    "import pyspark"
   ]
  },
  {
   "cell_type": "code",
   "execution_count": 3,
   "metadata": {},
   "outputs": [],
   "source": [
    "import dask.dataframe as dd"
   ]
  },
  {
   "cell_type": "code",
   "execution_count": 4,
   "metadata": {},
   "outputs": [
    {
     "name": "stderr",
     "output_type": "stream",
     "text": [
      "[nltk_data] Downloading package punkt to\n",
      "[nltk_data]     C:\\Users\\19495\\AppData\\Roaming\\nltk_data...\n",
      "[nltk_data]   Package punkt is already up-to-date!\n",
      "[nltk_data] Downloading package stopwords to\n",
      "[nltk_data]     C:\\Users\\19495\\AppData\\Roaming\\nltk_data...\n",
      "[nltk_data]   Package stopwords is already up-to-date!\n"
     ]
    },
    {
     "data": {
      "text/plain": [
       "True"
      ]
     },
     "execution_count": 4,
     "metadata": {},
     "output_type": "execute_result"
    }
   ],
   "source": [
    "# Download the NLTK English tokenizer and the stopwords of all languages\n",
    "nltk.download('punkt')\n",
    "nltk.download('stopwords')"
   ]
  },
  {
   "cell_type": "markdown",
   "metadata": {},
   "source": [
    "client = boto3.client(\n",
    "    's3',\n",
    "    aws_access_key_id = 'sukiK@2002',\n",
    "    aws_secret_access_key = 'sukik',\n",
    "    region_name = 'ap-west-1'\n",
    ")"
   ]
  },
  {
   "cell_type": "code",
   "execution_count": 5,
   "metadata": {},
   "outputs": [],
   "source": [
    "files = ['amazon_reviews_us_Electronics_v1_00.tsv', \\\n",
    "         'amazon_reviews_us_Gift_Card_v1_00.tsv', \\\n",
    "         'amazon_reviews_us_Major_Appliances_v1_00.tsv', \\\n",
    "         'amazon_reviews_us_Office_Products_v1_00.tsv', \\\n",
    "         'amazon_reviews_us_Shoes_v1_00.tsv', \\\n",
    "         'amazon_reviews_us_Toys_v1_00.tsv', \\\n",
    "         'amazon_reviews_us_Watches_v1_00.tsv']"
   ]
  },
  {
   "cell_type": "code",
   "execution_count": 6,
   "metadata": {},
   "outputs": [],
   "source": [
    "pd.set_option('display.max_columns', None)\n",
    "pd.set_option('display.max_rows', None)\n",
    "pd.set_option('display.max_colwidth', None)"
   ]
  },
  {
   "cell_type": "code",
   "execution_count": 7,
   "metadata": {},
   "outputs": [],
   "source": [
    "columns = ['marketplace', 'customer_id', 'review_id', 'product_id', 'product_parent', 'product_title', 'product_category', \\\n",
    "           'star_rating', 'helpful_votes', 'total_votes', 'vine', 'verified_purchase', 'review_headline', 'review_body', 'review_date']\n",
    "elec_df = pd.read_csv(\"C:/Users/19495/DS3ProjectFiles/amazon_reviews_us_Electronics_v1_00.tsv.gz\", names = columns, sep = '\\t').iloc[1:,:]\n",
    "# 'fars_data/' + files[0]\n",
    "elec_df = elec_df.sample(n = 2_000_000)\n",
    "# 200000"
   ]
  },
  {
   "cell_type": "markdown",
   "metadata": {},
   "source": [
    "columns = ['marketplace', 'customer_id', 'review_id', 'product_id', 'product_parent', 'product_title', 'product_category', 'star_rating', 'helpful_votes', 'total_votes', 'vine', 'verified_purchase', 'review_headline', 'review_body', 'review_date']\n",
    "len(columns)"
   ]
  },
  {
   "cell_type": "markdown",
   "metadata": {},
   "source": [
    "one_file = pd.read_csv('fars_data/' + files[0], names = columns, sep = '\\t').iloc[1:,:]\n",
    "one_file.head()"
   ]
  },
  {
   "cell_type": "markdown",
   "metadata": {},
   "source": [
    "one_file.shape[0]+1"
   ]
  },
  {
   "cell_type": "code",
   "execution_count": 8,
   "metadata": {},
   "outputs": [],
   "source": [
    "one_file = elec_df"
   ]
  },
  {
   "cell_type": "markdown",
   "metadata": {},
   "source": [
    "## Data Sampling"
   ]
  },
  {
   "cell_type": "code",
   "execution_count": 9,
   "metadata": {},
   "outputs": [],
   "source": [
    "def df_sampling(df):\n",
    "    # Since we know that there are more unverified than verified --> we sample based on that\n",
    "    \n",
    "    # Since there are no data values in 'verified_purchase' columns that deviate from 'Y' or 'N' we proceed\n",
    "    verified_count_df = df[df['verified_purchase'] == 'Y']\n",
    "    unverified_count_df = df[df['verified_purchase'] == 'N']\n",
    "    \n",
    "    print(\"Number of verified purchases:\", len(verified_count_df))\n",
    "    print(\"Number of unverified purchases:\", len(unverified_count_df))\n",
    "    \n",
    "    sample_len = len(unverified_count_df)\n",
    "    \n",
    "    verified_sample_df = verified_count_df.sample(n = sample_len)\n",
    "    unified_df = pd.concat([unverified_count_df, verified_sample_df])\n",
    "    \n",
    "    print(\"Number of verified purchases (balanced dataset):\", len(unified_df[unified_df['verified_purchase'] == 'Y']))\n",
    "    print(\"Number of unverified purchases (balanced dataset):\", len(unified_df[unified_df['verified_purchase'] == 'N']))\n",
    "    \n",
    "    return unified_df"
   ]
  },
  {
   "cell_type": "markdown",
   "metadata": {},
   "source": [
    "#test.rename(columns=test.iloc[0])\n",
    "training_data = pd.DataFrame() #initialize an empty dataframe\n",
    "testing_data = pd.DataFrame()\n",
    "\n",
    "one_file = pd.read_csv(data_location + files[1], names = columns, sep = '\\t').iloc[1:,:]"
   ]
  },
  {
   "cell_type": "code",
   "execution_count": 10,
   "metadata": {},
   "outputs": [
    {
     "data": {
      "text/plain": [
       "(2000000, 15)"
      ]
     },
     "execution_count": 10,
     "metadata": {},
     "output_type": "execute_result"
    }
   ],
   "source": [
    "one_file.shape"
   ]
  },
  {
   "cell_type": "code",
   "execution_count": 11,
   "metadata": {},
   "outputs": [
    {
     "name": "stdout",
     "output_type": "stream",
     "text": [
      "Number of verified purchases: 1680632\n",
      "Number of unverified purchases: 319368\n",
      "Number of verified purchases (balanced dataset): 319368\n",
      "Number of unverified purchases (balanced dataset): 319368\n"
     ]
    },
    {
     "data": {
      "text/html": [
       "<div>\n",
       "<style scoped>\n",
       "    .dataframe tbody tr th:only-of-type {\n",
       "        vertical-align: middle;\n",
       "    }\n",
       "\n",
       "    .dataframe tbody tr th {\n",
       "        vertical-align: top;\n",
       "    }\n",
       "\n",
       "    .dataframe thead th {\n",
       "        text-align: right;\n",
       "    }\n",
       "</style>\n",
       "<table border=\"1\" class=\"dataframe\">\n",
       "  <thead>\n",
       "    <tr style=\"text-align: right;\">\n",
       "      <th></th>\n",
       "      <th>marketplace</th>\n",
       "      <th>customer_id</th>\n",
       "      <th>review_id</th>\n",
       "      <th>product_id</th>\n",
       "      <th>product_parent</th>\n",
       "      <th>product_title</th>\n",
       "      <th>product_category</th>\n",
       "      <th>star_rating</th>\n",
       "      <th>helpful_votes</th>\n",
       "      <th>total_votes</th>\n",
       "      <th>vine</th>\n",
       "      <th>verified_purchase</th>\n",
       "      <th>review_headline</th>\n",
       "      <th>review_body</th>\n",
       "      <th>review_date</th>\n",
       "    </tr>\n",
       "  </thead>\n",
       "  <tbody>\n",
       "    <tr>\n",
       "      <th>2128626</th>\n",
       "      <td>US</td>\n",
       "      <td>50635360</td>\n",
       "      <td>R3GEBQ69FWP4P8</td>\n",
       "      <td>B006Q4NSK8</td>\n",
       "      <td>13679975</td>\n",
       "      <td>AKG K3003I Reference Class 3-Way Earphones with Mic and Control (Black/Silver)</td>\n",
       "      <td>Electronics</td>\n",
       "      <td>5</td>\n",
       "      <td>38</td>\n",
       "      <td>44</td>\n",
       "      <td>N</td>\n",
       "      <td>N</td>\n",
       "      <td>Amazing sound for an astronomical price</td>\n",
       "      <td>The AKG K3003I is a pretty amazing piece of audio gear. As far as universal fit IEMs go, it's comparable with the FitEar ToGo 334 and the Sennheiser IE800s (I own both) but slightly more revealing.  Imaging and soundstage are fantastic.  Works well without benefit of headphone amp (compelling sound straight from iPod/iPhone)&lt;br /&gt;&lt;br /&gt;In a different league than Westone 4, Schure 535 and Sennheiser IE80s but not by 2x (i.e., law of diminishing returns: price vs performance.)&lt;br /&gt;&lt;br /&gt;The downside?  Price, cabling (seems delicate/not user-replaceable) and therefore IEMs that you might not want to use in a mobile context for fear of breakage.</td>\n",
       "      <td>2013-02-05</td>\n",
       "    </tr>\n",
       "    <tr>\n",
       "      <th>744165</th>\n",
       "      <td>US</td>\n",
       "      <td>1065728</td>\n",
       "      <td>R4QF351TNH33A</td>\n",
       "      <td>B0040DGUVG</td>\n",
       "      <td>16335269</td>\n",
       "      <td>HDMI CABLE VARIATION</td>\n",
       "      <td>Electronics</td>\n",
       "      <td>5</td>\n",
       "      <td>0</td>\n",
       "      <td>0</td>\n",
       "      <td>N</td>\n",
       "      <td>N</td>\n",
       "      <td>Five Stars</td>\n",
       "      <td>Is the best for the price</td>\n",
       "      <td>2015-01-15</td>\n",
       "    </tr>\n",
       "    <tr>\n",
       "      <th>2569858</th>\n",
       "      <td>US</td>\n",
       "      <td>16556148</td>\n",
       "      <td>R2ZQRZYYXEC6AA</td>\n",
       "      <td>B000EUGX70</td>\n",
       "      <td>424464879</td>\n",
       "      <td>Logitech Harmony 550 Remotes</td>\n",
       "      <td>Electronics</td>\n",
       "      <td>2</td>\n",
       "      <td>0</td>\n",
       "      <td>1</td>\n",
       "      <td>N</td>\n",
       "      <td>N</td>\n",
       "      <td>Not intuitive and buttons do not work after a few months</td>\n",
       "      <td>The setup and design of this remote is not very intuitive. The computer interface requires navigation through multiple screens and many of my products required quite a bit of playing around before they worked like I wanted. However, after a few hours of setup, most things worked fine.    My biggest gripe though is that about a year after buying this remote, many of the buttons don't work. In fact, pretty much all of the buttons we use on a regular basis are completely useless. This despite the fact that we have taken extremely good care of it and it still looks like new.     Also, a number of our electronics aren't supported by the remote such as our Sony Google Bluray. I'm sure it would function with a lot of work on my end but since the buttons don't work it would be a waste of effort.    I am very unsatisfied with this purchase.</td>\n",
       "      <td>2011-07-02</td>\n",
       "    </tr>\n",
       "    <tr>\n",
       "      <th>2781187</th>\n",
       "      <td>US</td>\n",
       "      <td>14610879</td>\n",
       "      <td>R1OGESYWKU20SP</td>\n",
       "      <td>B00140DBRY</td>\n",
       "      <td>296882964</td>\n",
       "      <td>Sony SRF-M37W Walkman Digital Tuning Weather/FM/AM Stereo Radio (Black)</td>\n",
       "      <td>Electronics</td>\n",
       "      <td>1</td>\n",
       "      <td>11</td>\n",
       "      <td>19</td>\n",
       "      <td>N</td>\n",
       "      <td>N</td>\n",
       "      <td>More junk from China.</td>\n",
       "      <td>Sony used to have a great reputation for high quality products.  But these are junk.&lt;br /&gt;&lt;br /&gt;The headphones broke in about 3 weeks.&lt;br /&gt;The battery compartment door is flimsy and the battery falls out especially if you drop it from a small height.&lt;br /&gt;The ability to separate FM stations is pathetic; various other stations -not even close on the dial- constantly break in.&lt;br /&gt;The ability to receive FM stations is pathetic.  I can walk behind my house and suddenly get static. I go a few miles down the road and have zero reception of any station. Indoors, such as using a bathroom on my walking route, and I get static.&lt;br /&gt;The weather radio reception is close to nonexistent.&lt;br /&gt;&lt;br /&gt;Battery life, using a rechargeable AAA, is good enough for my purpose, maybe 8 hours or so, but hardly outstanding.&lt;br /&gt;&lt;br /&gt;I haven't found a replacement for these yet, based on reviews from this site everything seems to be junk.  But, I wouldn't buy this version for sure.</td>\n",
       "      <td>2009-12-22</td>\n",
       "    </tr>\n",
       "    <tr>\n",
       "      <th>2964781</th>\n",
       "      <td>US</td>\n",
       "      <td>40825723</td>\n",
       "      <td>RB7U1F2YT2ZDE</td>\n",
       "      <td>B000J13TEE</td>\n",
       "      <td>199115294</td>\n",
       "      <td>Sangean HDT-1 HD Radio Component Tuner (Discontinued by Manufacturer)</td>\n",
       "      <td>Electronics</td>\n",
       "      <td>5</td>\n",
       "      <td>1</td>\n",
       "      <td>2</td>\n",
       "      <td>N</td>\n",
       "      <td>N</td>\n",
       "      <td>GOOD PRODUCT, FAIRLY PRICED, GREAT DIGITAL SOUND</td>\n",
       "      <td>PERHAPS THIS IS THE ONLY TUNER IN THE MARKET UNDER $.200.  SET UP IS EASY AND QUICK. ONLY THING YOU MAY NEED AN AMP OR A RECEIVER WITH ADEQUATE INPUTS..  RECEPTION IS EXCELLENT SINCE, I LIVE OUTSIDE WASHINGTON DC.  THE SOUND IS OBVIOUSLY DIGITAL AND IT IS ALMOST CLOSE TO THE FULL AUDIO SPECTRUM.  A GOOD BUY FROM SANGEAN WHO IS POPULAR FOR SHORT WAVE RADIOS.  IF ONE WISHES TO FIND THE STATIONS EITHER HE OR SHE COULD SCAN THE HD SECTION OF THE TUNER OR TRY A SEARCH ENGINE.  WHY THEY NAMED IT HD RADIO? WHO KNOWS? HI-BRID COULD BE AN IDEAL NAME.</td>\n",
       "      <td>2007-07-24</td>\n",
       "    </tr>\n",
       "  </tbody>\n",
       "</table>\n",
       "</div>"
      ],
      "text/plain": [
       "        marketplace customer_id       review_id  product_id product_parent  \\\n",
       "2128626          US    50635360  R3GEBQ69FWP4P8  B006Q4NSK8       13679975   \n",
       "744165           US     1065728   R4QF351TNH33A  B0040DGUVG       16335269   \n",
       "2569858          US    16556148  R2ZQRZYYXEC6AA  B000EUGX70      424464879   \n",
       "2781187          US    14610879  R1OGESYWKU20SP  B00140DBRY      296882964   \n",
       "2964781          US    40825723   RB7U1F2YT2ZDE  B000J13TEE      199115294   \n",
       "\n",
       "                                                                          product_title  \\\n",
       "2128626  AKG K3003I Reference Class 3-Way Earphones with Mic and Control (Black/Silver)   \n",
       "744165                                                             HDMI CABLE VARIATION   \n",
       "2569858                                                    Logitech Harmony 550 Remotes   \n",
       "2781187         Sony SRF-M37W Walkman Digital Tuning Weather/FM/AM Stereo Radio (Black)   \n",
       "2964781           Sangean HDT-1 HD Radio Component Tuner (Discontinued by Manufacturer)   \n",
       "\n",
       "        product_category star_rating helpful_votes total_votes vine  \\\n",
       "2128626      Electronics           5            38          44    N   \n",
       "744165       Electronics           5             0           0    N   \n",
       "2569858      Electronics           2             0           1    N   \n",
       "2781187      Electronics           1            11          19    N   \n",
       "2964781      Electronics           5             1           2    N   \n",
       "\n",
       "        verified_purchase  \\\n",
       "2128626                 N   \n",
       "744165                  N   \n",
       "2569858                 N   \n",
       "2781187                 N   \n",
       "2964781                 N   \n",
       "\n",
       "                                                  review_headline  \\\n",
       "2128626                   Amazing sound for an astronomical price   \n",
       "744165                                                 Five Stars   \n",
       "2569858  Not intuitive and buttons do not work after a few months   \n",
       "2781187                                     More junk from China.   \n",
       "2964781          GOOD PRODUCT, FAIRLY PRICED, GREAT DIGITAL SOUND   \n",
       "\n",
       "                                                                                                                                                                                                                                                                                                                                                                                                                                                                                                                                                                                                                                                                                                                                                                                                                                                                                                                                                                                                            review_body  \\\n",
       "2128626                                                                                                                                                                                                                                                                                                                                      The AKG K3003I is a pretty amazing piece of audio gear. As far as universal fit IEMs go, it's comparable with the FitEar ToGo 334 and the Sennheiser IE800s (I own both) but slightly more revealing.  Imaging and soundstage are fantastic.  Works well without benefit of headphone amp (compelling sound straight from iPod/iPhone)<br /><br />In a different league than Westone 4, Schure 535 and Sennheiser IE80s but not by 2x (i.e., law of diminishing returns: price vs performance.)<br /><br />The downside?  Price, cabling (seems delicate/not user-replaceable) and therefore IEMs that you might not want to use in a mobile context for fear of breakage.   \n",
       "744165                                                                                                                                                                                                                                                                                                                                                                                                                                                                                                                                                                                                                                                                                                                                                                                                                                                                                                                                                                                        Is the best for the price   \n",
       "2569858                                                                                                                                     The setup and design of this remote is not very intuitive. The computer interface requires navigation through multiple screens and many of my products required quite a bit of playing around before they worked like I wanted. However, after a few hours of setup, most things worked fine.    My biggest gripe though is that about a year after buying this remote, many of the buttons don't work. In fact, pretty much all of the buttons we use on a regular basis are completely useless. This despite the fact that we have taken extremely good care of it and it still looks like new.     Also, a number of our electronics aren't supported by the remote such as our Sony Google Bluray. I'm sure it would function with a lot of work on my end but since the buttons don't work it would be a waste of effort.    I am very unsatisfied with this purchase.   \n",
       "2781187  Sony used to have a great reputation for high quality products.  But these are junk.<br /><br />The headphones broke in about 3 weeks.<br />The battery compartment door is flimsy and the battery falls out especially if you drop it from a small height.<br />The ability to separate FM stations is pathetic; various other stations -not even close on the dial- constantly break in.<br />The ability to receive FM stations is pathetic.  I can walk behind my house and suddenly get static. I go a few miles down the road and have zero reception of any station. Indoors, such as using a bathroom on my walking route, and I get static.<br />The weather radio reception is close to nonexistent.<br /><br />Battery life, using a rechargeable AAA, is good enough for my purpose, maybe 8 hours or so, but hardly outstanding.<br /><br />I haven't found a replacement for these yet, based on reviews from this site everything seems to be junk.  But, I wouldn't buy this version for sure.   \n",
       "2964781                                                                                                                                                                                                                                                                                                                                                                                                                                             PERHAPS THIS IS THE ONLY TUNER IN THE MARKET UNDER $.200.  SET UP IS EASY AND QUICK. ONLY THING YOU MAY NEED AN AMP OR A RECEIVER WITH ADEQUATE INPUTS..  RECEPTION IS EXCELLENT SINCE, I LIVE OUTSIDE WASHINGTON DC.  THE SOUND IS OBVIOUSLY DIGITAL AND IT IS ALMOST CLOSE TO THE FULL AUDIO SPECTRUM.  A GOOD BUY FROM SANGEAN WHO IS POPULAR FOR SHORT WAVE RADIOS.  IF ONE WISHES TO FIND THE STATIONS EITHER HE OR SHE COULD SCAN THE HD SECTION OF THE TUNER OR TRY A SEARCH ENGINE.  WHY THEY NAMED IT HD RADIO? WHO KNOWS? HI-BRID COULD BE AN IDEAL NAME.   \n",
       "\n",
       "        review_date  \n",
       "2128626  2013-02-05  \n",
       "744165   2015-01-15  \n",
       "2569858  2011-07-02  \n",
       "2781187  2009-12-22  \n",
       "2964781  2007-07-24  "
      ]
     },
     "metadata": {},
     "output_type": "display_data"
    }
   ],
   "source": [
    "balanced_elec = df_sampling(one_file)\n",
    "display(balanced_elec.head())"
   ]
  },
  {
   "cell_type": "code",
   "execution_count": 12,
   "metadata": {},
   "outputs": [
    {
     "data": {
      "image/png": "[encoded data removed]",
      "text/plain": [
       "<Figure size 432x288 with 1 Axes>"
      ]
     },
     "metadata": {
      "needs_background": "light"
     },
     "output_type": "display_data"
    }
   ],
   "source": [
    "balanced_elec['star_rating'] = balanced_elec['star_rating'].apply(int)\n",
    "cond_count_m = balanced_elec.pivot_table(index='star_rating', \n",
    "                     columns='verified_purchase',\n",
    "                     values='customer_id',\n",
    "                     aggfunc='count')\n",
    "\n",
    "file_path = \"C:/Users/19495/DS3ProjectFiles/\"\n",
    "cond_count_m.plot(kind = \"bar\", title = 'Count of Verified and Unverified by Star Rating')\n",
    "plt.savefig(file_path + 'KNNElectronicsStar(1).png', bbox_inches='tight', transparent=False)"
   ]
  },
  {
   "cell_type": "code",
   "execution_count": 13,
   "metadata": {},
   "outputs": [],
   "source": [
    "one_file = balanced_elec.copy()"
   ]
  },
  {
   "cell_type": "markdown",
   "metadata": {},
   "source": [
    "### Type Conversion and Exploration"
   ]
  },
  {
   "cell_type": "code",
   "execution_count": 14,
   "metadata": {},
   "outputs": [],
   "source": [
    "def convert_to_int(x):\n",
    "    return int(float(x))"
   ]
  },
  {
   "cell_type": "code",
   "execution_count": 15,
   "metadata": {},
   "outputs": [],
   "source": [
    "#convert all mixed datatypes --> string objects (unable to convert to int)\n",
    "one_file['customer_id'] = one_file['customer_id'].apply(int) #1\n",
    "one_file['product_parent'] = one_file['product_parent'].apply(int) #4\n",
    "one_file['star_rating'] = one_file['star_rating'].apply(int) #7\n",
    "one_file['helpful_votes'] = one_file['helpful_votes'].apply(int) #8\n",
    "one_file['total_votes'] = one_file['total_votes'].apply(int) #9"
   ]
  },
  {
   "cell_type": "code",
   "execution_count": 16,
   "metadata": {},
   "outputs": [
    {
     "data": {
      "text/plain": [
       "<matplotlib.axes._subplots.AxesSubplot at 0x1e0f1d8be48>"
      ]
     },
     "execution_count": 16,
     "metadata": {},
     "output_type": "execute_result"
    },
    {
     "data": {
      "image/png": "[encoded data removed]",
      "text/plain": [
       "<Figure size 432x288 with 1 Axes>"
      ]
     },
     "metadata": {
      "needs_background": "light"
     },
     "output_type": "display_data"
    }
   ],
   "source": [
    "elec_stars = one_file.groupby('star_rating')['verified_purchase'].count() \n",
    "#/ (len(cleaned_nypd) - cleaned_nypd['complainant_ethnicity'].isna().sum())\n",
    "#com_ethn_gby.plot(kind = \"barh\", title = 'Count of Each Complainant Ethnicities')\n",
    "elec_stars\n",
    "cond_count_m = one_file.pivot_table(index='star_rating', \n",
    "                     columns='verified_purchase',\n",
    "                     values='customer_id',\n",
    "                     aggfunc='count')\n",
    "cond_count_m\n",
    "cond_count_m.plot(kind = \"bar\", title = 'Count of Verified and Unverified by Star Rating')"
   ]
  },
  {
   "cell_type": "markdown",
   "metadata": {},
   "source": [
    "one_file.isnull().sum().sort_values(ascending=False)"
   ]
  },
  {
   "cell_type": "markdown",
   "metadata": {},
   "source": [
    "one_file.dropna(inplace=True) #drop all of the missing values\n",
    "one_file.isnull().sum().sort_values(ascending=False)"
   ]
  },
  {
   "cell_type": "code",
   "execution_count": 17,
   "metadata": {},
   "outputs": [
    {
     "data": {
      "text/html": [
       "<div>\n",
       "<style scoped>\n",
       "    .dataframe tbody tr th:only-of-type {\n",
       "        vertical-align: middle;\n",
       "    }\n",
       "\n",
       "    .dataframe tbody tr th {\n",
       "        vertical-align: top;\n",
       "    }\n",
       "\n",
       "    .dataframe thead th {\n",
       "        text-align: right;\n",
       "    }\n",
       "</style>\n",
       "<table border=\"1\" class=\"dataframe\">\n",
       "  <thead>\n",
       "    <tr style=\"text-align: right;\">\n",
       "      <th></th>\n",
       "      <th>marketplace</th>\n",
       "      <th>customer_id</th>\n",
       "      <th>review_id</th>\n",
       "      <th>product_id</th>\n",
       "      <th>product_parent</th>\n",
       "      <th>product_title</th>\n",
       "      <th>product_category</th>\n",
       "      <th>star_rating</th>\n",
       "      <th>helpful_votes</th>\n",
       "      <th>total_votes</th>\n",
       "      <th>vine</th>\n",
       "      <th>verified_purchase</th>\n",
       "      <th>review_headline</th>\n",
       "      <th>review_body</th>\n",
       "      <th>review_date</th>\n",
       "    </tr>\n",
       "  </thead>\n",
       "  <tbody>\n",
       "    <tr>\n",
       "      <th>2128626</th>\n",
       "      <td>US</td>\n",
       "      <td>50635360</td>\n",
       "      <td>R3GEBQ69FWP4P8</td>\n",
       "      <td>B006Q4NSK8</td>\n",
       "      <td>13679975</td>\n",
       "      <td>AKG K3003I Reference Class 3-Way Earphones with Mic and Control (Black/Silver)</td>\n",
       "      <td>Electronics</td>\n",
       "      <td>5</td>\n",
       "      <td>38</td>\n",
       "      <td>44</td>\n",
       "      <td>N</td>\n",
       "      <td>N</td>\n",
       "      <td>Amazing sound for an astronomical price</td>\n",
       "      <td>The AKG K3003I is a pretty amazing piece of audio gear. As far as universal fit IEMs go, it's comparable with the FitEar ToGo 334 and the Sennheiser IE800s (I own both) but slightly more revealing.  Imaging and soundstage are fantastic.  Works well without benefit of headphone amp (compelling sound straight from iPod/iPhone)&lt;br /&gt;&lt;br /&gt;In a different league than Westone 4, Schure 535 and Sennheiser IE80s but not by 2x (i.e., law of diminishing returns: price vs performance.)&lt;br /&gt;&lt;br /&gt;The downside?  Price, cabling (seems delicate/not user-replaceable) and therefore IEMs that you might not want to use in a mobile context for fear of breakage.</td>\n",
       "      <td>2013-02-05</td>\n",
       "    </tr>\n",
       "    <tr>\n",
       "      <th>744165</th>\n",
       "      <td>US</td>\n",
       "      <td>1065728</td>\n",
       "      <td>R4QF351TNH33A</td>\n",
       "      <td>B0040DGUVG</td>\n",
       "      <td>16335269</td>\n",
       "      <td>HDMI CABLE VARIATION</td>\n",
       "      <td>Electronics</td>\n",
       "      <td>5</td>\n",
       "      <td>0</td>\n",
       "      <td>0</td>\n",
       "      <td>N</td>\n",
       "      <td>N</td>\n",
       "      <td>Five Stars</td>\n",
       "      <td>Is the best for the price</td>\n",
       "      <td>2015-01-15</td>\n",
       "    </tr>\n",
       "    <tr>\n",
       "      <th>2569858</th>\n",
       "      <td>US</td>\n",
       "      <td>16556148</td>\n",
       "      <td>R2ZQRZYYXEC6AA</td>\n",
       "      <td>B000EUGX70</td>\n",
       "      <td>424464879</td>\n",
       "      <td>Logitech Harmony 550 Remotes</td>\n",
       "      <td>Electronics</td>\n",
       "      <td>2</td>\n",
       "      <td>0</td>\n",
       "      <td>1</td>\n",
       "      <td>N</td>\n",
       "      <td>N</td>\n",
       "      <td>Not intuitive and buttons do not work after a few months</td>\n",
       "      <td>The setup and design of this remote is not very intuitive. The computer interface requires navigation through multiple screens and many of my products required quite a bit of playing around before they worked like I wanted. However, after a few hours of setup, most things worked fine.    My biggest gripe though is that about a year after buying this remote, many of the buttons don't work. In fact, pretty much all of the buttons we use on a regular basis are completely useless. This despite the fact that we have taken extremely good care of it and it still looks like new.     Also, a number of our electronics aren't supported by the remote such as our Sony Google Bluray. I'm sure it would function with a lot of work on my end but since the buttons don't work it would be a waste of effort.    I am very unsatisfied with this purchase.</td>\n",
       "      <td>2011-07-02</td>\n",
       "    </tr>\n",
       "    <tr>\n",
       "      <th>2781187</th>\n",
       "      <td>US</td>\n",
       "      <td>14610879</td>\n",
       "      <td>R1OGESYWKU20SP</td>\n",
       "      <td>B00140DBRY</td>\n",
       "      <td>296882964</td>\n",
       "      <td>Sony SRF-M37W Walkman Digital Tuning Weather/FM/AM Stereo Radio (Black)</td>\n",
       "      <td>Electronics</td>\n",
       "      <td>1</td>\n",
       "      <td>11</td>\n",
       "      <td>19</td>\n",
       "      <td>N</td>\n",
       "      <td>N</td>\n",
       "      <td>More junk from China.</td>\n",
       "      <td>Sony used to have a great reputation for high quality products.  But these are junk.&lt;br /&gt;&lt;br /&gt;The headphones broke in about 3 weeks.&lt;br /&gt;The battery compartment door is flimsy and the battery falls out especially if you drop it from a small height.&lt;br /&gt;The ability to separate FM stations is pathetic; various other stations -not even close on the dial- constantly break in.&lt;br /&gt;The ability to receive FM stations is pathetic.  I can walk behind my house and suddenly get static. I go a few miles down the road and have zero reception of any station. Indoors, such as using a bathroom on my walking route, and I get static.&lt;br /&gt;The weather radio reception is close to nonexistent.&lt;br /&gt;&lt;br /&gt;Battery life, using a rechargeable AAA, is good enough for my purpose, maybe 8 hours or so, but hardly outstanding.&lt;br /&gt;&lt;br /&gt;I haven't found a replacement for these yet, based on reviews from this site everything seems to be junk.  But, I wouldn't buy this version for sure.</td>\n",
       "      <td>2009-12-22</td>\n",
       "    </tr>\n",
       "    <tr>\n",
       "      <th>2964781</th>\n",
       "      <td>US</td>\n",
       "      <td>40825723</td>\n",
       "      <td>RB7U1F2YT2ZDE</td>\n",
       "      <td>B000J13TEE</td>\n",
       "      <td>199115294</td>\n",
       "      <td>Sangean HDT-1 HD Radio Component Tuner (Discontinued by Manufacturer)</td>\n",
       "      <td>Electronics</td>\n",
       "      <td>5</td>\n",
       "      <td>1</td>\n",
       "      <td>2</td>\n",
       "      <td>N</td>\n",
       "      <td>N</td>\n",
       "      <td>GOOD PRODUCT, FAIRLY PRICED, GREAT DIGITAL SOUND</td>\n",
       "      <td>PERHAPS THIS IS THE ONLY TUNER IN THE MARKET UNDER $.200.  SET UP IS EASY AND QUICK. ONLY THING YOU MAY NEED AN AMP OR A RECEIVER WITH ADEQUATE INPUTS..  RECEPTION IS EXCELLENT SINCE, I LIVE OUTSIDE WASHINGTON DC.  THE SOUND IS OBVIOUSLY DIGITAL AND IT IS ALMOST CLOSE TO THE FULL AUDIO SPECTRUM.  A GOOD BUY FROM SANGEAN WHO IS POPULAR FOR SHORT WAVE RADIOS.  IF ONE WISHES TO FIND THE STATIONS EITHER HE OR SHE COULD SCAN THE HD SECTION OF THE TUNER OR TRY A SEARCH ENGINE.  WHY THEY NAMED IT HD RADIO? WHO KNOWS? HI-BRID COULD BE AN IDEAL NAME.</td>\n",
       "      <td>2007-07-24</td>\n",
       "    </tr>\n",
       "  </tbody>\n",
       "</table>\n",
       "</div>"
      ],
      "text/plain": [
       "        marketplace  customer_id       review_id  product_id  product_parent  \\\n",
       "2128626          US     50635360  R3GEBQ69FWP4P8  B006Q4NSK8        13679975   \n",
       "744165           US      1065728   R4QF351TNH33A  B0040DGUVG        16335269   \n",
       "2569858          US     16556148  R2ZQRZYYXEC6AA  B000EUGX70       424464879   \n",
       "2781187          US     14610879  R1OGESYWKU20SP  B00140DBRY       296882964   \n",
       "2964781          US     40825723   RB7U1F2YT2ZDE  B000J13TEE       199115294   \n",
       "\n",
       "                                                                          product_title  \\\n",
       "2128626  AKG K3003I Reference Class 3-Way Earphones with Mic and Control (Black/Silver)   \n",
       "744165                                                             HDMI CABLE VARIATION   \n",
       "2569858                                                    Logitech Harmony 550 Remotes   \n",
       "2781187         Sony SRF-M37W Walkman Digital Tuning Weather/FM/AM Stereo Radio (Black)   \n",
       "2964781           Sangean HDT-1 HD Radio Component Tuner (Discontinued by Manufacturer)   \n",
       "\n",
       "        product_category  star_rating  helpful_votes  total_votes vine  \\\n",
       "2128626      Electronics            5             38           44    N   \n",
       "744165       Electronics            5              0            0    N   \n",
       "2569858      Electronics            2              0            1    N   \n",
       "2781187      Electronics            1             11           19    N   \n",
       "2964781      Electronics            5              1            2    N   \n",
       "\n",
       "        verified_purchase  \\\n",
       "2128626                 N   \n",
       "744165                  N   \n",
       "2569858                 N   \n",
       "2781187                 N   \n",
       "2964781                 N   \n",
       "\n",
       "                                                  review_headline  \\\n",
       "2128626                   Amazing sound for an astronomical price   \n",
       "744165                                                 Five Stars   \n",
       "2569858  Not intuitive and buttons do not work after a few months   \n",
       "2781187                                     More junk from China.   \n",
       "2964781          GOOD PRODUCT, FAIRLY PRICED, GREAT DIGITAL SOUND   \n",
       "\n",
       "                                                                                                                                                                                                                                                                                                                                                                                                                                                                                                                                                                                                                                                                                                                                                                                                                                                                                                                                                                                                            review_body  \\\n",
       "2128626                                                                                                                                                                                                                                                                                                                                      The AKG K3003I is a pretty amazing piece of audio gear. As far as universal fit IEMs go, it's comparable with the FitEar ToGo 334 and the Sennheiser IE800s (I own both) but slightly more revealing.  Imaging and soundstage are fantastic.  Works well without benefit of headphone amp (compelling sound straight from iPod/iPhone)<br /><br />In a different league than Westone 4, Schure 535 and Sennheiser IE80s but not by 2x (i.e., law of diminishing returns: price vs performance.)<br /><br />The downside?  Price, cabling (seems delicate/not user-replaceable) and therefore IEMs that you might not want to use in a mobile context for fear of breakage.   \n",
       "744165                                                                                                                                                                                                                                                                                                                                                                                                                                                                                                                                                                                                                                                                                                                                                                                                                                                                                                                                                                                        Is the best for the price   \n",
       "2569858                                                                                                                                     The setup and design of this remote is not very intuitive. The computer interface requires navigation through multiple screens and many of my products required quite a bit of playing around before they worked like I wanted. However, after a few hours of setup, most things worked fine.    My biggest gripe though is that about a year after buying this remote, many of the buttons don't work. In fact, pretty much all of the buttons we use on a regular basis are completely useless. This despite the fact that we have taken extremely good care of it and it still looks like new.     Also, a number of our electronics aren't supported by the remote such as our Sony Google Bluray. I'm sure it would function with a lot of work on my end but since the buttons don't work it would be a waste of effort.    I am very unsatisfied with this purchase.   \n",
       "2781187  Sony used to have a great reputation for high quality products.  But these are junk.<br /><br />The headphones broke in about 3 weeks.<br />The battery compartment door is flimsy and the battery falls out especially if you drop it from a small height.<br />The ability to separate FM stations is pathetic; various other stations -not even close on the dial- constantly break in.<br />The ability to receive FM stations is pathetic.  I can walk behind my house and suddenly get static. I go a few miles down the road and have zero reception of any station. Indoors, such as using a bathroom on my walking route, and I get static.<br />The weather radio reception is close to nonexistent.<br /><br />Battery life, using a rechargeable AAA, is good enough for my purpose, maybe 8 hours or so, but hardly outstanding.<br /><br />I haven't found a replacement for these yet, based on reviews from this site everything seems to be junk.  But, I wouldn't buy this version for sure.   \n",
       "2964781                                                                                                                                                                                                                                                                                                                                                                                                                                             PERHAPS THIS IS THE ONLY TUNER IN THE MARKET UNDER $.200.  SET UP IS EASY AND QUICK. ONLY THING YOU MAY NEED AN AMP OR A RECEIVER WITH ADEQUATE INPUTS..  RECEPTION IS EXCELLENT SINCE, I LIVE OUTSIDE WASHINGTON DC.  THE SOUND IS OBVIOUSLY DIGITAL AND IT IS ALMOST CLOSE TO THE FULL AUDIO SPECTRUM.  A GOOD BUY FROM SANGEAN WHO IS POPULAR FOR SHORT WAVE RADIOS.  IF ONE WISHES TO FIND THE STATIONS EITHER HE OR SHE COULD SCAN THE HD SECTION OF THE TUNER OR TRY A SEARCH ENGINE.  WHY THEY NAMED IT HD RADIO? WHO KNOWS? HI-BRID COULD BE AN IDEAL NAME.   \n",
       "\n",
       "        review_date  \n",
       "2128626  2013-02-05  \n",
       "744165   2015-01-15  \n",
       "2569858  2011-07-02  \n",
       "2781187  2009-12-22  \n",
       "2964781  2007-07-24  "
      ]
     },
     "execution_count": 17,
     "metadata": {},
     "output_type": "execute_result"
    }
   ],
   "source": [
    "#there may be tabs in the review that is what is leading to the excluded cases when converting to df\n",
    "\n",
    "'''\n",
    "train_data['verified_purchase'].value_counts()\n",
    "test_data['verified_purchase'].value_counts()\n",
    "'''\n",
    "\n",
    "one_file.head()"
   ]
  },
  {
   "cell_type": "markdown",
   "metadata": {},
   "source": [
    "#to check te datatypes within each column\n",
    "\n",
    "print(train_data.applymap(type))\n",
    "data_types = train_data.applymap(type)"
   ]
  },
  {
   "cell_type": "code",
   "execution_count": 18,
   "metadata": {
    "scrolled": true
   },
   "outputs": [
    {
     "data": {
      "text/plain": [
       "1      498937\n",
       "2       38477\n",
       "3        7842\n",
       "4        2585\n",
       "5        1152\n",
       "6         598\n",
       "7         392\n",
       "8         268\n",
       "9         171\n",
       "10        131\n",
       "11         95\n",
       "13         73\n",
       "12         68\n",
       "14         54\n",
       "16         33\n",
       "15         31\n",
       "19         28\n",
       "17         26\n",
       "18         18\n",
       "20         17\n",
       "23         16\n",
       "21         15\n",
       "22         13\n",
       "24         11\n",
       "27          8\n",
       "28          5\n",
       "30          5\n",
       "26          5\n",
       "35          4\n",
       "32          4\n",
       "34          4\n",
       "56          3\n",
       "92          3\n",
       "31          3\n",
       "39          3\n",
       "25          3\n",
       "37          3\n",
       "64          2\n",
       "41          2\n",
       "42          2\n",
       "62          2\n",
       "60          2\n",
       "78          2\n",
       "29          2\n",
       "134         1\n",
       "33          1\n",
       "61          1\n",
       "103         1\n",
       "100         1\n",
       "97          1\n",
       "90          1\n",
       "89          1\n",
       "73          1\n",
       "72          1\n",
       "70          1\n",
       "68          1\n",
       "67          1\n",
       "63          1\n",
       "58          1\n",
       "111         1\n",
       "54          1\n",
       "53          1\n",
       "49          1\n",
       "48          1\n",
       "47          1\n",
       "46          1\n",
       "45          1\n",
       "44          1\n",
       "43          1\n",
       "40          1\n",
       "38          1\n",
       "36          1\n",
       "Name: marketplace, dtype: int64"
      ]
     },
     "execution_count": 18,
     "metadata": {},
     "output_type": "execute_result"
    }
   ],
   "source": [
    "#the number of customers that gave multiple reviews\n",
    "#may be valueable to investigate\n",
    "one_file.groupby('customer_id').count()['marketplace'].sort_values(ascending = False).value_counts()"
   ]
  },
  {
   "cell_type": "code",
   "execution_count": 19,
   "metadata": {},
   "outputs": [
    {
     "data": {
      "text/plain": [
       "5    344198\n",
       "4    114483\n",
       "1     86190\n",
       "3     51790\n",
       "2     42075\n",
       "Name: star_rating, dtype: int64"
      ]
     },
     "execution_count": 19,
     "metadata": {},
     "output_type": "execute_result"
    }
   ],
   "source": [
    "one_file['star_rating'].value_counts()"
   ]
  },
  {
   "cell_type": "markdown",
   "metadata": {},
   "source": [
    "## Data Cleaning"
   ]
  },
  {
   "cell_type": "code",
   "execution_count": 20,
   "metadata": {},
   "outputs": [
    {
     "name": "stderr",
     "output_type": "stream",
     "text": [
      "[nltk_data] Downloading package stopwords to\n",
      "[nltk_data]     C:\\Users\\19495\\AppData\\Roaming\\nltk_data...\n",
      "[nltk_data]   Package stopwords is already up-to-date!\n",
      "[nltk_data] Downloading package wordnet to\n",
      "[nltk_data]     C:\\Users\\19495\\AppData\\Roaming\\nltk_data...\n",
      "[nltk_data]   Package wordnet is already up-to-date!\n"
     ]
    }
   ],
   "source": [
    "# Import re for text cleaning purposes\n",
    "import re\n",
    "\n",
    "import nltk.corpus\n",
    "nltk.download('stopwords')\n",
    "from nltk.corpus import stopwords\n",
    "\n",
    "from nltk.stem.porter import PorterStemmer\n",
    "nltk.download('wordnet')\n",
    "from nltk.stem import WordNetLemmatizer"
   ]
  },
  {
   "cell_type": "code",
   "execution_count": 21,
   "metadata": {},
   "outputs": [],
   "source": [
    "def df_cleaning(df, col):\n",
    "    # Drop rows with na values\n",
    "    df.dropna(inplace = True)\n",
    "    \n",
    "    new_col_name = 'new_' + col\n",
    "    \n",
    "    df[new_col_name] = df[col].copy() \n",
    "    \n",
    "    # Remove unwanted formatting characters\n",
    "    format_strs = dict.fromkeys(['<br /><br />', '&#34', 'br', '&quot', '<br />'], ' ')\n",
    "    \n",
    "    for key in format_strs:\n",
    "        df[new_col_name] = df[new_col_name].apply(lambda review: review.replace(key, format_strs[key]))\n",
    "    # removing quotes produces smthg like this --> 'The product has great ;sound; --> we must remove punctuation\n",
    "\n",
    "    \n",
    "    # Case normalization (lower case)\n",
    "    df[new_col_name] = df[new_col_name].str.lower()\n",
    "    \n",
    "    remove_dict = {\"0\": \"\", \"1\": \"\", \"2\": \"\", \"3\": \"\", \"4\": \"\", \"5\": \"\", \"6\": \"\", \"7\": \"\", \"8\": \"\", \"9\": \"\",\n",
    "                   \"(\": \"\", \")\":\"\"}\n",
    "    for key, val in remove_dict.items():\n",
    "        df[new_col_name] = df[new_col_name].apply(\n",
    "            lambda x: x.replace(key, val))\n",
    "        \n",
    "    # Remove stopwords\n",
    "    stop_lst = stopwords.words('english')\n",
    "    #stop_lst += ([\"can't\", \"i'm\" \"i'd\", \"i've\", \"i'll\", \"that's\", \"there's\", \"they're\"])\n",
    "    # ****Do we not have to take stopwords out BEFORE removing punctuation? Otherwise words with punct like “cant” remains there\n",
    "    df[new_col_name] = df[new_col_name].apply(lambda text_body: \" \".join([word for word in text_body.split() if word not in (stop_lst)]))\n",
    "    \n",
    "    # Removing Unicode Chars (punctuation, URL, @)\n",
    "    df[new_col_name] = df[new_col_name].apply(lambda rev: re.sub(r\"(@\\[A-Za-z0-9]+)|([^0-9A-Za-z \\t])|(\\w+:\\/\\/\\S+)|^rt|http.+?\", \"\", rev))\n",
    "    \n",
    "    # Lemmatization\n",
    "    word_lemmatizer = WordNetLemmatizer()\n",
    "    df[new_col_name] = df[new_col_name].apply(lambda txt: \" \".join([(word_lemmatizer.lemmatize(word)) for word in txt.split()]))\n",
    "    \n",
    "    return df"
   ]
  },
  {
   "cell_type": "markdown",
   "metadata": {},
   "source": [
    "cleaned = df_cleaning(one_file)"
   ]
  },
  {
   "cell_type": "code",
   "execution_count": 22,
   "metadata": {},
   "outputs": [],
   "source": [
    "cleaned2 = df_cleaning(one_file, 'review_body')"
   ]
  },
  {
   "cell_type": "code",
   "execution_count": 23,
   "metadata": {},
   "outputs": [],
   "source": [
    "#cleaned2.get(['review_body', 'new_review_body']).head()"
   ]
  },
  {
   "cell_type": "code",
   "execution_count": 24,
   "metadata": {},
   "outputs": [],
   "source": [
    "cleaned2 = df_cleaning(one_file, 'review_headline')"
   ]
  },
  {
   "cell_type": "code",
   "execution_count": 25,
   "metadata": {},
   "outputs": [
    {
     "data": {
      "text/html": [
       "<div>\n",
       "<style scoped>\n",
       "    .dataframe tbody tr th:only-of-type {\n",
       "        vertical-align: middle;\n",
       "    }\n",
       "\n",
       "    .dataframe tbody tr th {\n",
       "        vertical-align: top;\n",
       "    }\n",
       "\n",
       "    .dataframe thead th {\n",
       "        text-align: right;\n",
       "    }\n",
       "</style>\n",
       "<table border=\"1\" class=\"dataframe\">\n",
       "  <thead>\n",
       "    <tr style=\"text-align: right;\">\n",
       "      <th></th>\n",
       "      <th>review_headline</th>\n",
       "      <th>new_review_headline</th>\n",
       "    </tr>\n",
       "  </thead>\n",
       "  <tbody>\n",
       "    <tr>\n",
       "      <th>2128626</th>\n",
       "      <td>Amazing sound for an astronomical price</td>\n",
       "      <td>amazing sound astronomical price</td>\n",
       "    </tr>\n",
       "    <tr>\n",
       "      <th>744165</th>\n",
       "      <td>Five Stars</td>\n",
       "      <td>five star</td>\n",
       "    </tr>\n",
       "    <tr>\n",
       "      <th>2569858</th>\n",
       "      <td>Not intuitive and buttons do not work after a few months</td>\n",
       "      <td>intuitive button work month</td>\n",
       "    </tr>\n",
       "    <tr>\n",
       "      <th>2781187</th>\n",
       "      <td>More junk from China.</td>\n",
       "      <td>junk china</td>\n",
       "    </tr>\n",
       "    <tr>\n",
       "      <th>2964781</th>\n",
       "      <td>GOOD PRODUCT, FAIRLY PRICED, GREAT DIGITAL SOUND</td>\n",
       "      <td>good product fairly priced great digital sound</td>\n",
       "    </tr>\n",
       "  </tbody>\n",
       "</table>\n",
       "</div>"
      ],
      "text/plain": [
       "                                                  review_headline  \\\n",
       "2128626                   Amazing sound for an astronomical price   \n",
       "744165                                                 Five Stars   \n",
       "2569858  Not intuitive and buttons do not work after a few months   \n",
       "2781187                                     More junk from China.   \n",
       "2964781          GOOD PRODUCT, FAIRLY PRICED, GREAT DIGITAL SOUND   \n",
       "\n",
       "                                    new_review_headline  \n",
       "2128626                amazing sound astronomical price  \n",
       "744165                                        five star  \n",
       "2569858                     intuitive button work month  \n",
       "2781187                                      junk china  \n",
       "2964781  good product fairly priced great digital sound  "
      ]
     },
     "execution_count": 25,
     "metadata": {},
     "output_type": "execute_result"
    }
   ],
   "source": [
    "cleaned2.get(['review_headline', 'new_review_headline']).head()"
   ]
  },
  {
   "cell_type": "code",
   "execution_count": 26,
   "metadata": {},
   "outputs": [],
   "source": [
    "cleaned2 = df_cleaning(one_file, 'product_title')"
   ]
  },
  {
   "cell_type": "code",
   "execution_count": 27,
   "metadata": {},
   "outputs": [
    {
     "data": {
      "text/html": [
       "<div>\n",
       "<style scoped>\n",
       "    .dataframe tbody tr th:only-of-type {\n",
       "        vertical-align: middle;\n",
       "    }\n",
       "\n",
       "    .dataframe tbody tr th {\n",
       "        vertical-align: top;\n",
       "    }\n",
       "\n",
       "    .dataframe thead th {\n",
       "        text-align: right;\n",
       "    }\n",
       "</style>\n",
       "<table border=\"1\" class=\"dataframe\">\n",
       "  <thead>\n",
       "    <tr style=\"text-align: right;\">\n",
       "      <th></th>\n",
       "      <th>product_title</th>\n",
       "      <th>new_product_title</th>\n",
       "    </tr>\n",
       "  </thead>\n",
       "  <tbody>\n",
       "    <tr>\n",
       "      <th>2128626</th>\n",
       "      <td>AKG K3003I Reference Class 3-Way Earphones with Mic and Control (Black/Silver)</td>\n",
       "      <td>akg ki reference class way earphone mic control blacksilver</td>\n",
       "    </tr>\n",
       "    <tr>\n",
       "      <th>744165</th>\n",
       "      <td>HDMI CABLE VARIATION</td>\n",
       "      <td>hdmi cable variation</td>\n",
       "    </tr>\n",
       "    <tr>\n",
       "      <th>2569858</th>\n",
       "      <td>Logitech Harmony 550 Remotes</td>\n",
       "      <td>logitech harmony remote</td>\n",
       "    </tr>\n",
       "    <tr>\n",
       "      <th>2781187</th>\n",
       "      <td>Sony SRF-M37W Walkman Digital Tuning Weather/FM/AM Stereo Radio (Black)</td>\n",
       "      <td>sony srfmw walkman digital tuning weatherfmam stereo radio black</td>\n",
       "    </tr>\n",
       "    <tr>\n",
       "      <th>2964781</th>\n",
       "      <td>Sangean HDT-1 HD Radio Component Tuner (Discontinued by Manufacturer)</td>\n",
       "      <td>sangean hdt hd radio component tuner discontinued manufacturer</td>\n",
       "    </tr>\n",
       "  </tbody>\n",
       "</table>\n",
       "</div>"
      ],
      "text/plain": [
       "                                                                          product_title  \\\n",
       "2128626  AKG K3003I Reference Class 3-Way Earphones with Mic and Control (Black/Silver)   \n",
       "744165                                                             HDMI CABLE VARIATION   \n",
       "2569858                                                    Logitech Harmony 550 Remotes   \n",
       "2781187         Sony SRF-M37W Walkman Digital Tuning Weather/FM/AM Stereo Radio (Black)   \n",
       "2964781           Sangean HDT-1 HD Radio Component Tuner (Discontinued by Manufacturer)   \n",
       "\n",
       "                                                        new_product_title  \n",
       "2128626       akg ki reference class way earphone mic control blacksilver  \n",
       "744165                                               hdmi cable variation  \n",
       "2569858                                           logitech harmony remote  \n",
       "2781187  sony srfmw walkman digital tuning weatherfmam stereo radio black  \n",
       "2964781    sangean hdt hd radio component tuner discontinued manufacturer  "
      ]
     },
     "execution_count": 27,
     "metadata": {},
     "output_type": "execute_result"
    }
   ],
   "source": [
    "cleaned2.get(['product_title', 'new_product_title']).head()"
   ]
  },
  {
   "cell_type": "code",
   "execution_count": 28,
   "metadata": {},
   "outputs": [
    {
     "data": {
      "text/plain": [
       "\"The AKG K3003I is a pretty amazing piece of audio gear. As far as universal fit IEMs go, it's comparable with the FitEar ToGo 334 and the Sennheiser IE800s (I own both) but slightly more revealing.  Imaging and soundstage are fantastic.  Works well without benefit of headphone amp (compelling sound straight from iPod/iPhone)<br /><br />In a different league than Westone 4, Schure 535 and Sennheiser IE80s but not by 2x (i.e., law of diminishing returns: price vs performance.)<br /><br />The downside?  Price, cabling (seems delicate/not user-replaceable) and therefore IEMs that you might not want to use in a mobile context for fear of breakage.\""
      ]
     },
     "execution_count": 28,
     "metadata": {},
     "output_type": "execute_result"
    }
   ],
   "source": [
    "cleaned2.iloc[0].get('review_body')"
   ]
  },
  {
   "cell_type": "markdown",
   "metadata": {},
   "source": [
    "## Vader Sentiment Analysis"
   ]
  },
  {
   "cell_type": "code",
   "execution_count": 29,
   "metadata": {},
   "outputs": [],
   "source": [
    "from vaderSentiment.vaderSentiment import SentimentIntensityAnalyzer\n",
    "\n",
    "analyser = SentimentIntensityAnalyzer()\n",
    "\n",
    "def get_sentiment_scores(review):\n",
    "    \"\"\"\n",
    "    create new dataframe with just the proportions for each review\n",
    "    four columns\n",
    "    neg_prop, pos_prop, neu_prop, compound_prop and will contain these values\n",
    "    obtained from the vator sentiment algorithm\n",
    "    \"\"\"\n",
    "    snt = analyser.polarity_scores(review)\n",
    "    #print(f\"{sentence} {str(snt)}\")\n",
    "    return snt"
   ]
  },
  {
   "cell_type": "code",
   "execution_count": 30,
   "metadata": {},
   "outputs": [
    {
     "data": {
      "text/plain": [
       "{'neg': 0.093, 'neu': 0.764, 'pos': 0.143, 'compound': 0.6183}"
      ]
     },
     "execution_count": 30,
     "metadata": {},
     "output_type": "execute_result"
    }
   ],
   "source": [
    "get_sentiment_scores(cleaned2.iloc[0].get('review_body')) #without lemmitization"
   ]
  },
  {
   "cell_type": "code",
   "execution_count": 31,
   "metadata": {},
   "outputs": [
    {
     "data": {
      "text/plain": [
       "{'neg': 0.098, 'neu': 0.641, 'pos': 0.26, 'compound': 0.8915}"
      ]
     },
     "execution_count": 31,
     "metadata": {},
     "output_type": "execute_result"
    }
   ],
   "source": [
    "get_sentiment_scores(cleaned2.iloc[0].get('new_review_body')) #with lemmitization"
   ]
  },
  {
   "cell_type": "code",
   "execution_count": 32,
   "metadata": {},
   "outputs": [],
   "source": [
    "one_file = cleaned2"
   ]
  },
  {
   "cell_type": "code",
   "execution_count": 33,
   "metadata": {},
   "outputs": [],
   "source": [
    "one_file['rev_dict'] = one_file['new_review_body'].apply(get_sentiment_scores)"
   ]
  },
  {
   "cell_type": "code",
   "execution_count": 34,
   "metadata": {},
   "outputs": [],
   "source": [
    "def get_neg(review_dict):\n",
    "    return review_dict['neg']\n",
    "\n",
    "def get_neu(review_dict):\n",
    "    return review_dict['neu']\n",
    "\n",
    "def get_pos(review_dict):\n",
    "    return review_dict['pos']\n",
    "\n",
    "def get_compound(review_dict):\n",
    "    return review_dict['compound']\n",
    "\n",
    "def only_compound(x):\n",
    "    dct = get_sentiment_scores(x)\n",
    "    return dct['compound']"
   ]
  },
  {
   "cell_type": "code",
   "execution_count": 35,
   "metadata": {},
   "outputs": [],
   "source": [
    "#get neg prop\n",
    "one_file['neg_prop'] = one_file['rev_dict'].apply(get_neg)\n",
    "#get neu prop\n",
    "one_file['neu_prop'] = one_file['rev_dict'].apply(get_neu)\n",
    "#get pos prop\n",
    "one_file['pos_prop'] = one_file['rev_dict'].apply(get_pos)\n",
    "#get compound prop\n",
    "one_file['compound_prop'] = one_file['rev_dict'].apply(get_compound)"
   ]
  },
  {
   "cell_type": "code",
   "execution_count": 36,
   "metadata": {},
   "outputs": [],
   "source": [
    "#save the dataframe as a csv file\n",
    "#one_file.to_csv('electronics_data_cleaned.csv')"
   ]
  },
  {
   "cell_type": "markdown",
   "metadata": {},
   "source": [
    "### Sentiment Analysis"
   ]
  },
  {
   "cell_type": "markdown",
   "metadata": {},
   "source": [
    "#df is all data other than rating 3\n",
    "df = one_file[one_file['star_rating'] != 3]"
   ]
  },
  {
   "cell_type": "markdown",
   "metadata": {},
   "source": [
    "df['star_rating'].value_counts()"
   ]
  },
  {
   "cell_type": "markdown",
   "metadata": {},
   "source": [
    "df['positively_rated'] = np.where(df['star_rating'] > 3, 1, 0)"
   ]
  },
  {
   "cell_type": "markdown",
   "metadata": {},
   "source": [
    "df['positively_rated'].value_counts()"
   ]
  },
  {
   "cell_type": "markdown",
   "metadata": {},
   "source": [
    "sns.countplot(df['positively_rated'])"
   ]
  },
  {
   "cell_type": "markdown",
   "metadata": {},
   "source": [
    "##### On all of the data"
   ]
  },
  {
   "cell_type": "markdown",
   "metadata": {},
   "source": [
    "train_data, test_data = np.split(one_file.sample(frac=1, random_state=1729), [int(0.7 * len(one_file))])\n",
    "print(train_data.shape, test_data.shape)"
   ]
  },
  {
   "cell_type": "markdown",
   "metadata": {},
   "source": [
    "X_train = train_data['review_body']\n",
    "X_train.iloc[0] #to_frame()"
   ]
  },
  {
   "cell_type": "markdown",
   "metadata": {},
   "source": [
    "Y_train = train_data['star_rating']"
   ]
  },
  {
   "cell_type": "markdown",
   "metadata": {},
   "source": [
    "X_test = test_data['review_body']\n",
    "Y_test = test_data['star_rating']"
   ]
  },
  {
   "cell_type": "markdown",
   "metadata": {},
   "source": [
    "#### TF-IDF - to get predictions of what star rating will be based on text of review"
   ]
  },
  {
   "cell_type": "markdown",
   "metadata": {},
   "source": [
    "from sklearn.feature_extraction.text import TfidfVectorizer"
   ]
  },
  {
   "cell_type": "markdown",
   "metadata": {},
   "source": [
    "vect = TfidfVectorizer().fit(X_train)"
   ]
  },
  {
   "cell_type": "markdown",
   "metadata": {},
   "source": [
    "len(vect.get_feature_names()) #unique words"
   ]
  },
  {
   "cell_type": "markdown",
   "metadata": {},
   "source": [
    "X_train_vect = vect.transform(X_train)"
   ]
  },
  {
   "cell_type": "markdown",
   "metadata": {},
   "source": [
    "from sklearn.linear_model import LogisticRegression\n",
    "model = LogisticRegression()\n",
    "model.fit(X_train_vect, Y_train)"
   ]
  },
  {
   "cell_type": "markdown",
   "metadata": {},
   "source": [
    "predictions = model.predict(vect.transform(X_test))"
   ]
  },
  {
   "cell_type": "markdown",
   "metadata": {},
   "source": [
    "len(predictions)"
   ]
  },
  {
   "cell_type": "markdown",
   "metadata": {},
   "source": [
    "###### Confusion Matrix - shows probabilities for whether cat data is predicted correctly"
   ]
  },
  {
   "cell_type": "code",
   "execution_count": 37,
   "metadata": {},
   "outputs": [],
   "source": [
    "def plot_confusion_matrix_2(cm, target_names,\n",
    "                          fname, epoch,\n",
    "                          title='Confusion matrix',\n",
    "                          cmap=None,\n",
    "                          normalize=True, target=None):\n",
    "    import matplotlib.pyplot as plt\n",
    "    import numpy as np\n",
    "    import itertools\n",
    "    plt.style.use('default')\n",
    "\n",
    "    # # only true if it weren't normalized:\n",
    "    # accuracy = np.trace(cm) / float(np.sum(cm))\n",
    "    # misclass = 1 - accuracy\n",
    "\n",
    "    if cmap is None:\n",
    "        cmap = plt.get_cmap('Blues')\n",
    "\n",
    "    if normalize:\n",
    "        cm = cm.astype('float') / cm.sum(axis=1)[:, np.newaxis]\n",
    "    cm[np.isnan(cm)] = 0.0\n",
    "\n",
    "    fig = plt.figure(figsize=(5, 4))\n",
    "    ax = plt.axes()\n",
    "    plt.imshow(cm, interpolation='nearest', cmap=cmap)\n",
    "    if target == \"rule-based\":\n",
    "        plt.title(title + ' for rule-based PF')\n",
    "    else:\n",
    "        plt.title(title + ' for MLPF at epoch ' + str(epoch))\n",
    "\n",
    "    plt.colorbar()\n",
    "\n",
    "    if target_names is not None:\n",
    "        tick_marks = np.arange(len(target_names))\n",
    "        plt.xticks(tick_marks, target_names, rotation=45)\n",
    "        plt.yticks(tick_marks, target_names)\n",
    "\n",
    "    thresh = cm.max() / 1.5 if normalize else cm.max() / 2\n",
    "    for i, j in itertools.product(range(cm.shape[0]), range(cm.shape[1])):\n",
    "        if normalize:\n",
    "            plt.text(j, i, \"{:0.2f}\".format(cm[i, j]),\n",
    "                     horizontalalignment=\"center\",\n",
    "                     color=\"white\" if cm[i, j] > thresh else \"black\")\n",
    "        else:\n",
    "            plt.text(j, i, \"{:,}\".format(cm[i, j]),\n",
    "                     horizontalalignment=\"center\",\n",
    "                     color=\"white\" if cm[i, j] > thresh else \"black\")\n",
    "\n",
    "    plt.ylabel('True label')\n",
    "    plt.xlim(-1, len(target_names))\n",
    "    plt.ylim(-1, len(target_names))\n",
    "    plt.xlabel('Predicted label')\n",
    "    # plt.xlabel('Predicted label\\naccuracy={:0.4f}; misclass={:0.4f}'.format(accuracy, misclass))\n",
    "    plt.tight_layout()\n",
    "    plt.savefig(fname + '.png')\n",
    "    plt.savefig(fname + '.pdf')\n",
    "    #plt.close(fig)\n",
    "\n",
    "    return fig, ax"
   ]
  },
  {
   "cell_type": "markdown",
   "metadata": {},
   "source": [
    "### SVM Notes"
   ]
  },
  {
   "cell_type": "markdown",
   "metadata": {},
   "source": [
    "- **Bag of Words (BoW)**\n",
    "        - BoW encodes an input sentence as the frequency of each word in the sentence. \n",
    "        - In this approach, all words contribute equally to the feature vectors.\n",
    "- **Term Frequency - Inverse Document Frequency (TF-IDF)**\n",
    "        - TF-IDF is a measure of how important each term is to a specific document, as compared to an overall corpus. \n",
    "        - TF-IDF encodes each word as its frequency in the document of interest, divided by a measure of how common the word is across all documents (the corpus).\n",
    "        - Using this approach, each word contributes differently to the feature vectors.\n",
    "        - The assumption behind using TF-IDF is that words that appear commonly everywhere are not that informative about what is specifically interesting about a document of interest, so it is tuned to representing a document in terms of the words it uses that are different from other documents. \n",
    "\n",
    "- To compare those 2 methods, we will first apply them on the same dataset to analyse sentiment (how positive or negative a text is). In order to make the comparison fair, an **SVM (support vector machine)** classifier will be used to classify positive reviews and negative reviews.\n",
    "\n",
    "- SVM is a simple yet powerful and interpretable linear model. To use it as a classifier, we need to have at least 2 splits of the data: training data and test data. The training data is used to tune the weight parameters in the SVM to learn an optimal way to classify the training data. We can then test this trained SVM classifier on the test data, to see how well it works on data that the classifier has not seen before. "
   ]
  },
  {
   "cell_type": "markdown",
   "metadata": {},
   "source": [
    "We will now create a CountVectorizer object to transform the text data into vectors with numerical values.\n",
    "\n",
    "To do so, we will initialize a CountVectorizer object, and name it as vectorizer.\n",
    "\n",
    "4 arguments to initialize a CountVectorizer:\n",
    "\n",
    "* analyzer: 'word'\n",
    " Specify to analyze data from word-level.\n",
    " \n",
    "* max_features: 2000\n",
    " Set a max number of unique words.\n",
    " \n",
    "* tokenizer: word_tokenize\n",
    " Set to tokenize the text data by using the word_tokenizer from NLTK .\n",
    " \n",
    "* stop_words: stopwords.words('english')\n",
    " Set to remove all stopwords in English. We do this since they generally don't provide useful discriminative information."
   ]
  },
  {
   "cell_type": "markdown",
   "metadata": {},
   "source": [
    "## KNN"
   ]
  },
  {
   "cell_type": "code",
   "execution_count": 38,
   "metadata": {},
   "outputs": [],
   "source": [
    "import numpy as np\n",
    "import matplotlib.pyplot as plt\n",
    "import pandas as pd\n",
    "import sklearn"
   ]
  },
  {
   "cell_type": "code",
   "execution_count": 39,
   "metadata": {},
   "outputs": [
    {
     "data": {
      "text/plain": [
       "Index(['marketplace', 'customer_id', 'review_id', 'product_id',\n",
       "       'product_parent', 'product_title', 'product_category', 'star_rating',\n",
       "       'helpful_votes', 'total_votes', 'vine', 'verified_purchase',\n",
       "       'review_headline', 'review_body', 'review_date', 'new_review_body',\n",
       "       'new_review_headline', 'new_product_title', 'rev_dict', 'neg_prop',\n",
       "       'neu_prop', 'pos_prop', 'compound_prop'],\n",
       "      dtype='object')"
      ]
     },
     "execution_count": 39,
     "metadata": {},
     "output_type": "execute_result"
    }
   ],
   "source": [
    "one_file.columns"
   ]
  },
  {
   "cell_type": "code",
   "execution_count": 40,
   "metadata": {},
   "outputs": [],
   "source": [
    "def convert_to_id(x):\n",
    "    alphabet = {'a': 1, 'c': 3, 'b': 2, 'e': 5, 'd': 4, 'g': 7, 'f': 6, 'i': 9, 'h': 8, 'k': 11, 'j': 10, 'm': 13, 'l': 12, 'o': 15, 'n': 14, 'q': 17, 'p': 16, 's': 19, 'r': 18, 'u': 21, 't': 20, 'w': 23, 'v': 22, 'y': 25, 'x': 24, 'z': 26}\n",
    "    out = ''\n",
    "    for i in x:\n",
    "        if i.lower() in alphabet.keys():\n",
    "            out += str(alphabet[i.lower()])\n",
    "        else:\n",
    "            out += i\n",
    "    return out"
   ]
  },
  {
   "cell_type": "code",
   "execution_count": 41,
   "metadata": {},
   "outputs": [],
   "source": [
    "one_file['product_id_convert'] = one_file.get(\"product_id\").apply(convert_to_id)"
   ]
  },
  {
   "cell_type": "code",
   "execution_count": 42,
   "metadata": {},
   "outputs": [],
   "source": [
    "one_file['product_category_convert'] = one_file.get(\"product_category\").apply(convert_to_id)"
   ]
  },
  {
   "cell_type": "code",
   "execution_count": 43,
   "metadata": {},
   "outputs": [],
   "source": [
    "one_file['prod_title_comp'] = one_file.get(\"new_product_title\").apply(only_compound)"
   ]
  },
  {
   "cell_type": "code",
   "execution_count": 44,
   "metadata": {},
   "outputs": [],
   "source": [
    "one_file['rev_title_comp'] = one_file.get(\"new_review_headline\").apply(only_compound)"
   ]
  },
  {
   "cell_type": "markdown",
   "metadata": {},
   "source": [
    "def help_prop(vals):\n",
    "    if vals[1] == 0:\n",
    "        return 0.5\n",
    "    else:\n",
    "        return vals[0] / vals[1]"
   ]
  },
  {
   "cell_type": "code",
   "execution_count": 45,
   "metadata": {},
   "outputs": [],
   "source": [
    "def helpful_prop(df):  \n",
    "    vote_series = pd.Series(df['helpful_votes'] / df['total_votes'])\n",
    "    # !! All nan values in votes_prop should be changed to zero: this means that 0/0 occurred !!\n",
    "    vote_series = vote_series.fillna(0)\n",
    "    return vote_series"
   ]
  },
  {
   "cell_type": "code",
   "execution_count": 46,
   "metadata": {},
   "outputs": [],
   "source": [
    "#NEED TO THINK OF WHAT WOULD HAPPEN IF THE NUMBER OF TOTAL VOTES WOULD BE 0\n",
    "one_file['help_prop'] = helpful_prop(one_file)\n",
    "# one_file.get(\"helpful_votes\") / one_file.get(\"total_votes\")\n",
    "#one_file['help_prop'] = one_file.get(\"helpful_votes\").apply(help_prop)"
   ]
  },
  {
   "cell_type": "code",
   "execution_count": 47,
   "metadata": {},
   "outputs": [],
   "source": [
    "#one_file.iloc[2].to_frame()"
   ]
  },
  {
   "cell_type": "code",
   "execution_count": 48,
   "metadata": {},
   "outputs": [],
   "source": [
    "def id_for_dictionary(dic):\n",
    "    if len(dic) == 4:\n",
    "        ind = list(dic.values()).index(max(list(dic.values())[0:-1])) #remove the compound\n",
    "    else:\n",
    "        ind = list(dic.values()).index(max(list(dic.values())))\n",
    "        \n",
    "    if ind == 1:\n",
    "        return 0\n",
    "    elif ind == 0:\n",
    "        return -1\n",
    "    else:\n",
    "        return 1"
   ]
  },
  {
   "cell_type": "code",
   "execution_count": 49,
   "metadata": {},
   "outputs": [],
   "source": [
    "def id_for_prop(prop):\n",
    "    if prop < 0.45:\n",
    "        return -1\n",
    "    elif prop > 0.55:\n",
    "        return 1\n",
    "    else:\n",
    "        return 0"
   ]
  },
  {
   "cell_type": "code",
   "execution_count": 50,
   "metadata": {},
   "outputs": [],
   "source": [
    "one_file['rev_bod_id'] = one_file.get(\"rev_dict\").apply(id_for_dictionary)"
   ]
  },
  {
   "cell_type": "code",
   "execution_count": 51,
   "metadata": {},
   "outputs": [],
   "source": [
    "one_file['help_prop_id'] = one_file.get(\"help_prop\").apply(id_for_prop)"
   ]
  },
  {
   "cell_type": "code",
   "execution_count": 52,
   "metadata": {},
   "outputs": [
    {
     "data": {
      "text/plain": [
       "<matplotlib.axes._subplots.AxesSubplot at 0x1e0d6baaa48>"
      ]
     },
     "execution_count": 52,
     "metadata": {},
     "output_type": "execute_result"
    },
    {
     "data": {
      "image/png": "[encoded data removed]",
      "text/plain": [
       "<Figure size 432x288 with 1 Axes>"
      ]
     },
     "metadata": {
      "needs_background": "light"
     },
     "output_type": "display_data"
    }
   ],
   "source": [
    "cond_count_m = one_file.pivot_table(index='help_prop_id', \n",
    "                     columns='verified_purchase',\n",
    "                     values='customer_id',\n",
    "                     aggfunc='count')\n",
    "#cond_count_m\n",
    "cond_count_m.plot(kind = \"bar\", title = 'Count of Verified and Unverified by Proportion ID of Helpful Votes')"
   ]
  },
  {
   "cell_type": "markdown",
   "metadata": {},
   "source": [
    "find percentages for the body -- text and display those in a column -- act as labels for the percent positivity of the review body and header themselves"
   ]
  },
  {
   "cell_type": "code",
   "execution_count": 53,
   "metadata": {},
   "outputs": [],
   "source": [
    "#imp_col = one_file[['verified_purchase', 'prod_title_comp', 'star_rating', 'rev_title_comp', 'neg_prop', 'neu_prop', 'pos_prop', 'help_prop']]\n",
    "imp_col = one_file[['verified_purchase', 'prod_title_comp', 'star_rating', 'rev_title_comp', 'rev_bod_id', 'help_prop_id']]"
   ]
  },
  {
   "cell_type": "code",
   "execution_count": 54,
   "metadata": {},
   "outputs": [
    {
     "data": {
      "text/plain": [
       "verified_purchase     object\n",
       "prod_title_comp      float64\n",
       "star_rating            int64\n",
       "rev_title_comp       float64\n",
       "rev_bod_id             int64\n",
       "help_prop_id           int64\n",
       "dtype: object"
      ]
     },
     "execution_count": 54,
     "metadata": {},
     "output_type": "execute_result"
    }
   ],
   "source": [
    "imp_col.dtypes"
   ]
  },
  {
   "cell_type": "code",
   "execution_count": 55,
   "metadata": {},
   "outputs": [
    {
     "data": {
      "text/plain": [
       "'\\nfrom sklearn.preprocessing import LabelEncoder\\nle = LabelEncoder()\\nX[:,1] = le.fit_transform(X[:,1])\\n'"
      ]
     },
     "execution_count": 55,
     "metadata": {},
     "output_type": "execute_result"
    }
   ],
   "source": [
    "#need to replace review_body and review_headline with percentages for sentiment -- easier to use for classification\n",
    "#vine needs to be converted to a yes/no binary column similar to how positively rated was determined\n",
    "#use original dataset with rating 3 available\n",
    "\n",
    "#X = imp_col.iloc[:, [1, 2, 3, 4, 5, 6, 7, 8, 9, 10, 11]].values\n",
    "X = imp_col.iloc[:, [1,2,3,4,5]].values #only taking in the categories that will be used as a dataframe\n",
    "y = imp_col.iloc[:, 0].values\n",
    "\n",
    "\"\"\"\n",
    "from sklearn.preprocessing import LabelEncoder\n",
    "le = LabelEncoder()\n",
    "X[:,1] = le.fit_transform(X[:,1])\n",
    "\"\"\""
   ]
  },
  {
   "cell_type": "code",
   "execution_count": 56,
   "metadata": {},
   "outputs": [
    {
     "data": {
      "text/plain": [
       "array([[ 0.    ,  5.    ,  0.5859,  0.    ,  1.    ],\n",
       "       [ 0.    ,  5.    ,  0.    ,  1.    , -1.    ],\n",
       "       [ 0.4019,  2.    ,  0.    ,  0.    , -1.    ],\n",
       "       ...,\n",
       "       [ 0.    ,  5.    ,  0.9998,  0.    , -1.    ],\n",
       "       [ 0.    ,  4.    ,  0.6249,  0.    ,  1.    ],\n",
       "       [ 0.2732,  5.    ,  0.    ,  0.    , -1.    ]])"
      ]
     },
     "execution_count": 56,
     "metadata": {},
     "output_type": "execute_result"
    }
   ],
   "source": [
    "X"
   ]
  },
  {
   "cell_type": "markdown",
   "metadata": {},
   "source": [
    "#Since our dataset containing character variables we have to encode it using LabelEncoder\n",
    "\n",
    "from sklearn.preprocessing import LabelEncoder\n",
    "le = LabelEncoder()\n",
    "X[:,2] = le.fit_transform(X[:,2])"
   ]
  },
  {
   "cell_type": "code",
   "execution_count": 57,
   "metadata": {},
   "outputs": [],
   "source": [
    "from sklearn.model_selection import train_test_split\n",
    "X_train, X_test, y_train, y_test = train_test_split(X, y, test_size = 0.20, random_state = 0)"
   ]
  },
  {
   "cell_type": "code",
   "execution_count": 58,
   "metadata": {},
   "outputs": [],
   "source": [
    "# Next, we are doing feature scaling to the training and test set of independent variables for reducing the size to smaller values\n",
    "#from sklearn.preprocessing import StandardScaler\n",
    "#sc = StandardScaler()\n",
    "#X_train = sc.fit_transform(X_train)\n",
    "#X_test = sc.transform(X_test)"
   ]
  },
  {
   "cell_type": "code",
   "execution_count": 59,
   "metadata": {},
   "outputs": [
    {
     "data": {
      "text/plain": [
       "KNeighborsClassifier(algorithm='auto', leaf_size=30, metric='euclidean',\n",
       "                     metric_params=None, n_jobs=None, n_neighbors=20, p=1,\n",
       "                     weights='uniform')"
      ]
     },
     "execution_count": 59,
     "metadata": {},
     "output_type": "execute_result"
    }
   ],
   "source": [
    "from sklearn.neighbors import KNeighborsClassifier\n",
    "\n",
    "#we are using \n",
    "#5 neighborhood points are required for classifying a given point -- distance metric is using the minkonowski equation\n",
    "knn_classifier = KNeighborsClassifier(n_neighbors = 20, metric = 'euclidean', p = 1)\n",
    "knn_classifier.fit(X_train, y_train)"
   ]
  },
  {
   "cell_type": "code",
   "execution_count": 60,
   "metadata": {},
   "outputs": [],
   "source": [
    "y_pred = knn_classifier.predict(X_test)"
   ]
  },
  {
   "cell_type": "code",
   "execution_count": 61,
   "metadata": {},
   "outputs": [],
   "source": [
    "#We can evaluate our model using the confusion matrix and accuracy score by comparing the predicted and actual test values\n",
    "\n",
    "from sklearn.metrics import confusion_matrix,accuracy_score\n",
    "cm = confusion_matrix(y_test, y_pred)\n",
    "ac = accuracy_score(y_test,y_pred)"
   ]
  },
  {
   "cell_type": "code",
   "execution_count": 62,
   "metadata": {},
   "outputs": [
    {
     "name": "stdout",
     "output_type": "stream",
     "text": [
      "[[40115 23756]\n",
      " [25415 38455]]\n"
     ]
    }
   ],
   "source": [
    "print(cm)"
   ]
  },
  {
   "cell_type": "code",
   "execution_count": 63,
   "metadata": {},
   "outputs": [
    {
     "name": "stdout",
     "output_type": "stream",
     "text": [
      "0.6150726861383581\n"
     ]
    }
   ],
   "source": [
    "print(ac)"
   ]
  },
  {
   "cell_type": "code",
   "execution_count": 64,
   "metadata": {},
   "outputs": [],
   "source": [
    "def plot_confusion_matrix(cm, classes, title=None, cmap=plt.cm.Blues):\n",
    "    # Only use the labels that appear in the data\n",
    "\n",
    "    fig, ax = plt.subplots()\n",
    "    im = ax.imshow(cm, interpolation='nearest', cmap=cmap)\n",
    "    ax.figure.colorbar(im, ax=ax)\n",
    "    # We want to show all ticks...\n",
    "    ax.set(xticks=np.arange(cm.shape[1]),\n",
    "           yticks=np.arange(cm.shape[0]),\n",
    "           xticklabels=classes,\n",
    "           yticklabels=classes,\n",
    "           title=title,\n",
    "           ylabel='True label',\n",
    "           xlabel='Predicted label')\n",
    "\n",
    "    # Rotate the tick labels and set their alignment.\n",
    "    plt.setp(ax.get_xticklabels(), rotation=45, ha=\"right\",\n",
    "             rotation_mode=\"anchor\")\n",
    "\n",
    "    # Loop over data dimensions and create text annotations.\n",
    "    fmt = 'd'\n",
    "    thresh = cm.max() / 2.\n",
    "    for i in range(cm.shape[0]):\n",
    "        for j in range(cm.shape[1]):\n",
    "            ax.text(j, i, format(cm[i, j], fmt),\n",
    "                    ha=\"center\", va=\"center\",\n",
    "                    color=\"white\" if cm[i, j] > thresh else \"black\")\n",
    "    fig.tight_layout()\n",
    "\n",
    "    return plt"
   ]
  },
  {
   "cell_type": "code",
   "execution_count": 65,
   "metadata": {},
   "outputs": [
    {
     "data": {
      "text/plain": [
       "<module 'matplotlib.pyplot' from 'C:\\\\Users\\\\19495\\\\anaconda3\\\\lib\\\\site-packages\\\\matplotlib\\\\pyplot.py'>"
      ]
     },
     "execution_count": 65,
     "metadata": {},
     "output_type": "execute_result"
    },
    {
     "data": {
      "image/png": "[encoded data removed]",
      "text/plain": [
       "<Figure size 432x288 with 2 Axes>"
      ]
     },
     "metadata": {
      "needs_background": "light"
     },
     "output_type": "display_data"
    }
   ],
   "source": [
    "plot_confusion_matrix(cm, ['N', 'Y'], \"KNN Confusion Matrix\")"
   ]
  },
  {
   "cell_type": "code",
   "execution_count": 66,
   "metadata": {},
   "outputs": [
    {
     "data": {
      "text/plain": [
       "(<Figure size 500x400 with 2 Axes>,\n",
       " <matplotlib.axes._subplots.AxesSubplot at 0x1e0d594e1c8>)"
      ]
     },
     "execution_count": 66,
     "metadata": {},
     "output_type": "execute_result"
    },
    {
     "data": {
      "image/png": "[encoded data removed]",
      "text/plain": [
       "<Figure size 500x400 with 2 Axes>"
      ]
     },
     "metadata": {},
     "output_type": "display_data"
    }
   ],
   "source": [
    "plot_confusion_matrix_2(cm, ['N', 'Y'],\"Confusion Matrix 2\", \"trial\",title='Confusion matrix',cmap=None,normalize=True, target=None)"
   ]
  },
  {
   "cell_type": "code",
   "execution_count": 67,
   "metadata": {},
   "outputs": [],
   "source": [
    "#Can see the model performance and add more features accordingly -- \n",
    "#would be good if the performance is greater than 85%"
   ]
  },
  {
   "cell_type": "markdown",
   "metadata": {},
   "source": [
    "### Test on a product review - Need to write a *function* for this for taking in the user input\n",
    "\n",
    "The features that we are looking at!\n",
    "* 'prod_title_comp', \n",
    "* 'star_rating', \n",
    "* 'rev_title_comp', \n",
    "* 'rev_bod_id', \n",
    "* 'help_prop_id'"
   ]
  },
  {
   "cell_type": "code",
   "execution_count": 68,
   "metadata": {},
   "outputs": [],
   "source": [
    "review_body = \"this is a good review\"\n",
    "product_title = \"Sony Headphones\"\n",
    "review_title = 'Love the product!'\n",
    "\n",
    "star_rating = 5\n",
    "helpful_votes = 1\n",
    "total_votes = 1"
   ]
  },
  {
   "cell_type": "code",
   "execution_count": 69,
   "metadata": {},
   "outputs": [
    {
     "data": {
      "text/html": [
       "<div>\n",
       "<style scoped>\n",
       "    .dataframe tbody tr th:only-of-type {\n",
       "        vertical-align: middle;\n",
       "    }\n",
       "\n",
       "    .dataframe tbody tr th {\n",
       "        vertical-align: top;\n",
       "    }\n",
       "\n",
       "    .dataframe thead th {\n",
       "        text-align: right;\n",
       "    }\n",
       "</style>\n",
       "<table border=\"1\" class=\"dataframe\">\n",
       "  <thead>\n",
       "    <tr style=\"text-align: right;\">\n",
       "      <th></th>\n",
       "      <th>review_body</th>\n",
       "      <th>review_title</th>\n",
       "      <th>product_title</th>\n",
       "    </tr>\n",
       "  </thead>\n",
       "  <tbody>\n",
       "    <tr>\n",
       "      <th>0</th>\n",
       "      <td>this is a good review</td>\n",
       "      <td>Love the product!</td>\n",
       "      <td>Sony Headphones</td>\n",
       "    </tr>\n",
       "  </tbody>\n",
       "</table>\n",
       "</div>"
      ],
      "text/plain": [
       "             review_body       review_title    product_title\n",
       "0  this is a good review  Love the product!  Sony Headphones"
      ]
     },
     "execution_count": 69,
     "metadata": {},
     "output_type": "execute_result"
    }
   ],
   "source": [
    "test = pd.DataFrame()\n",
    "test['review_body'] = np.array([review_body])\n",
    "test['review_title'] = np.array([review_title])\n",
    "test['product_title'] = np.array([product_title])\n",
    "test"
   ]
  },
  {
   "cell_type": "code",
   "execution_count": 70,
   "metadata": {},
   "outputs": [
    {
     "data": {
      "text/html": [
       "<div>\n",
       "<style scoped>\n",
       "    .dataframe tbody tr th:only-of-type {\n",
       "        vertical-align: middle;\n",
       "    }\n",
       "\n",
       "    .dataframe tbody tr th {\n",
       "        vertical-align: top;\n",
       "    }\n",
       "\n",
       "    .dataframe thead th {\n",
       "        text-align: right;\n",
       "    }\n",
       "</style>\n",
       "<table border=\"1\" class=\"dataframe\">\n",
       "  <thead>\n",
       "    <tr style=\"text-align: right;\">\n",
       "      <th></th>\n",
       "      <th>review_body</th>\n",
       "      <th>review_title</th>\n",
       "      <th>product_title</th>\n",
       "      <th>new_review_body</th>\n",
       "      <th>new_review_title</th>\n",
       "      <th>new_product_title</th>\n",
       "    </tr>\n",
       "  </thead>\n",
       "  <tbody>\n",
       "    <tr>\n",
       "      <th>0</th>\n",
       "      <td>this is a good review</td>\n",
       "      <td>Love the product!</td>\n",
       "      <td>Sony Headphones</td>\n",
       "      <td>good review</td>\n",
       "      <td>love product</td>\n",
       "      <td>sony headphone</td>\n",
       "    </tr>\n",
       "  </tbody>\n",
       "</table>\n",
       "</div>"
      ],
      "text/plain": [
       "             review_body       review_title    product_title new_review_body  \\\n",
       "0  this is a good review  Love the product!  Sony Headphones     good review   \n",
       "\n",
       "  new_review_title new_product_title  \n",
       "0     love product    sony headphone  "
      ]
     },
     "execution_count": 70,
     "metadata": {},
     "output_type": "execute_result"
    }
   ],
   "source": [
    "out = df_cleaning(test, 'review_body')\n",
    "out = df_cleaning(out, 'review_title')\n",
    "out = df_cleaning(out, 'product_title')\n",
    "out"
   ]
  },
  {
   "cell_type": "code",
   "execution_count": 71,
   "metadata": {},
   "outputs": [
    {
     "data": {
      "text/plain": [
       "'this is a good review'"
      ]
     },
     "execution_count": 71,
     "metadata": {},
     "output_type": "execute_result"
    }
   ],
   "source": [
    "out['review_body'][0]"
   ]
  },
  {
   "cell_type": "markdown",
   "metadata": {},
   "source": [
    "def get_sentiment_proportions(review):\n",
    "    \"\"\"\n",
    "    create new dataframe with just the proportions for each review\n",
    "    four columns\n",
    "    neg_prop, pos_prop, neu_prop, compound_prop and will contain these values\n",
    "    obtained from the vator sentiment algorithm\n",
    "    \"\"\"\n",
    "    snt = analyser.polarity_scores(review)\n",
    "    #print(f\"{sentence} {str(snt)}\")\n",
    "    neg = snt['neg']\n",
    "    neu = snt['neu']\n",
    "    pos = snt['pos']\n",
    "    #compound = snt['compound']\n",
    "    return neg, neu, pos\n",
    "\n",
    "neg, neu, pos = get_sentiment_proportions(out.get(\"new_review_body\").iloc[0])\n",
    "\n",
    "product_category = convert_to_id(product_category)\n",
    "product_title = only_compound(product_title)\n",
    "rev_title = only_compound(review_title)"
   ]
  },
  {
   "cell_type": "code",
   "execution_count": 72,
   "metadata": {},
   "outputs": [],
   "source": [
    "rev_bod_id = id_for_dictionary(analyser.polarity_scores(out['new_review_body'][0]))\n",
    "help_prop_id = id_for_prop(helpful_votes / total_votes)\n",
    "prod_title_comp = only_compound(out['new_product_title'][0])\n",
    "rev_title_comp = only_compound(out['new_review_title'][0])"
   ]
  },
  {
   "cell_type": "markdown",
   "metadata": {},
   "source": [
    "Predicted: 'verified_purchase'\n",
    "\n",
    "User Input: 'prod_title_comp', 'product_category_convert', 'star_rating', 'helpful_votes', 'total_votes', 'neg_prop', 'neu_prop', 'pos_prop'\n",
    "- 8 fields"
   ]
  },
  {
   "cell_type": "code",
   "execution_count": 73,
   "metadata": {},
   "outputs": [
    {
     "data": {
      "text/plain": [
       "array([[0.    , 5.    , 0.6369, 1.    , 1.    ]])"
      ]
     },
     "execution_count": 73,
     "metadata": {},
     "output_type": "execute_result"
    }
   ],
   "source": [
    "rev_input_test = np.array([[prod_title_comp, star_rating, rev_title_comp, rev_bod_id, help_prop_id]])\n",
    "rev_input_test"
   ]
  },
  {
   "cell_type": "code",
   "execution_count": 74,
   "metadata": {},
   "outputs": [],
   "source": [
    "prediction, probabilities = knn_classifier.predict(rev_input_test), knn_classifier.predict_proba(rev_input_test)[0]"
   ]
  },
  {
   "cell_type": "code",
   "execution_count": 75,
   "metadata": {},
   "outputs": [
    {
     "data": {
      "text/plain": [
       "array(['Y'], dtype=object)"
      ]
     },
     "execution_count": 75,
     "metadata": {},
     "output_type": "execute_result"
    }
   ],
   "source": [
    "prediction"
   ]
  },
  {
   "cell_type": "code",
   "execution_count": 76,
   "metadata": {},
   "outputs": [
    {
     "data": {
      "text/plain": [
       "array([0.45, 0.55])"
      ]
     },
     "execution_count": 76,
     "metadata": {},
     "output_type": "execute_result"
    }
   ],
   "source": [
    "probabilities"
   ]
  },
  {
   "cell_type": "markdown",
   "metadata": {},
   "source": [
    "classifier?"
   ]
  },
  {
   "cell_type": "code",
   "execution_count": 77,
   "metadata": {},
   "outputs": [
    {
     "ename": "NameError",
     "evalue": "name 'review_test' is not defined",
     "output_type": "error",
     "traceback": [
      "\u001b[1;31m---------------------------------------------------------------------------\u001b[0m",
      "\u001b[1;31mNameError\u001b[0m                                 Traceback (most recent call last)",
      "\u001b[1;32m<ipython-input-77-21de6c9d9f96>\u001b[0m in \u001b[0;36m<module>\u001b[1;34m\u001b[0m\n\u001b[0;32m      6\u001b[0m         \u001b[0mprint\u001b[0m\u001b[1;33m(\u001b[0m\u001b[1;34mf'\"{review}\" is predicted to be an UNVERIFIED review, with {proba[0]*100}% probability of being UNVERIFIED and {proba[1]*100}% probability of being VERIFIED'\u001b[0m\u001b[1;33m)\u001b[0m\u001b[1;33m\u001b[0m\u001b[1;33m\u001b[0m\u001b[0m\n\u001b[0;32m      7\u001b[0m \u001b[1;33m\u001b[0m\u001b[0m\n\u001b[1;32m----> 8\u001b[1;33m \u001b[0minterpret_prediction\u001b[0m\u001b[1;33m(\u001b[0m\u001b[0mreview_test\u001b[0m\u001b[1;33m,\u001b[0m \u001b[0mprediction\u001b[0m\u001b[1;33m,\u001b[0m \u001b[0mprobabilities\u001b[0m\u001b[1;33m)\u001b[0m\u001b[1;33m\u001b[0m\u001b[1;33m\u001b[0m\u001b[0m\n\u001b[0m",
      "\u001b[1;31mNameError\u001b[0m: name 'review_test' is not defined"
     ]
    }
   ],
   "source": [
    "def interpret_prediction(review, pred, proba):\n",
    "    proba = [round(proba[0], 3), round(proba[1], 3)]\n",
    "    if prediction[0] == 'Y':\n",
    "        print(f'\"{review}\" is predicted to be a VERIFIED review, with {proba[1]*100}% probability of being VERIFIED and {proba[0]*100}% probability of being UNVERIFIED')\n",
    "    if prediction[0] == 'N':\n",
    "        print(f'\"{review}\" is predicted to be an UNVERIFIED review, with {proba[0]*100}% probability of being UNVERIFIED and {proba[1]*100}% probability of being VERIFIED')\n",
    "        \n",
    "interpret_prediction(review_test, prediction, probabilities)"
   ]
  },
  {
   "cell_type": "code",
   "execution_count": 78,
   "metadata": {},
   "outputs": [],
   "source": [
    "from joblib import dump, load"
   ]
  },
  {
   "cell_type": "code",
   "execution_count": 79,
   "metadata": {},
   "outputs": [
    {
     "data": {
      "text/plain": [
       "KNeighborsClassifier(algorithm='auto', leaf_size=30, metric='euclidean',\n",
       "                     metric_params=None, n_jobs=None, n_neighbors=20, p=1,\n",
       "                     weights='uniform')"
      ]
     },
     "execution_count": 79,
     "metadata": {},
     "output_type": "execute_result"
    }
   ],
   "source": [
    "knn_classifier"
   ]
  },
  {
   "cell_type": "code",
   "execution_count": null,
   "metadata": {},
   "outputs": [],
   "source": [
    "#name = 'knn_working_model.joblib'\n",
    "#path = 'KNNModelFiles/'\n",
    "#dump(knn_classifier, path+name)"
   ]
  },
  {
   "cell_type": "code",
   "execution_count": null,
   "metadata": {},
   "outputs": [],
   "source": [
    "#knn_classifier = load(path+name)"
   ]
  },
  {
   "cell_type": "code",
   "execution_count": 80,
   "metadata": {},
   "outputs": [],
   "source": [
    "name = 'knn_electronics_sampled_model.joblib'\n",
    "dump(knn_classifier, name)\n",
    "knn_classifier = load(name)"
   ]
  },
  {
   "cell_type": "markdown",
   "metadata": {},
   "source": [
    "## Getting Reviews"
   ]
  },
  {
   "cell_type": "code",
   "execution_count": null,
   "metadata": {},
   "outputs": [],
   "source": [
    "# Getting the indices of the reviews that were predicted correctly\n",
    "ind1 = list((y_test == y_pred) & (y_test == 'N'))#.index(True)\n",
    "# & (y_test == 'N')\n",
    "[i for i, x in enumerate(ind1) if x]"
   ]
  },
  {
   "cell_type": "code",
   "execution_count": null,
   "metadata": {},
   "outputs": [],
   "source": [
    "ind1 = 4402\n",
    "# 3137, 3745\n",
    "X_test[ind1]"
   ]
  },
  {
   "cell_type": "code",
   "execution_count": null,
   "metadata": {},
   "outputs": [],
   "source": [
    "test = list(X)\n",
    "test;"
   ]
  },
  {
   "cell_type": "code",
   "execution_count": null,
   "metadata": {},
   "outputs": [],
   "source": [
    "test2 = (test == X_test[ind1])\n",
    "test2"
   ]
  },
  {
   "cell_type": "code",
   "execution_count": null,
   "metadata": {},
   "outputs": [],
   "source": [
    "ind2 = list(np.all(test2, axis = 1))#.index(True)\n",
    "ind2\n",
    "n_lst = [i for i, x in enumerate(ind2) if x]\n",
    "(n_lst)"
   ]
  },
  {
   "cell_type": "code",
   "execution_count": null,
   "metadata": {},
   "outputs": [],
   "source": [
    "one_file.iloc[313740].to_frame().loc[['review_body', 'review_headline', 'product_title', 'star_rating', 'helpful_votes', 'total_votes', 'verified_purchase']]"
   ]
  },
  {
   "cell_type": "code",
   "execution_count": null,
   "metadata": {},
   "outputs": [],
   "source": [
    "review_body = \"These are great rechargable batteries. Much easier to use than the type I used to have. They work right away - the charger is very easy to use - and they last a long long time!! Great way to do my little part to help the earth and save myself some $$$.\"\n",
    "review_title = 'I love an easy way to help the earth!! (and save $)'\n",
    "product_title = 'Sanyo Eneloop NiMH Battery Charger with 4AA NiMH Rechargable Batteries (Discontinued by Manufacturer)'\n",
    "star_rating = 5\n",
    "helpful_votes = 2\n",
    "total_votes = 4"
   ]
  },
  {
   "cell_type": "code",
   "execution_count": null,
   "metadata": {},
   "outputs": [],
   "source": [
    "test = pd.DataFrame()\n",
    "test['review_body'] = np.array([review_body])\n",
    "test['review_title'] = np.array([review_title])\n",
    "test['product_title'] = np.array([product_title])\n",
    "test"
   ]
  },
  {
   "cell_type": "code",
   "execution_count": null,
   "metadata": {},
   "outputs": [],
   "source": [
    "out = df_cleaning(test, 'review_body')\n",
    "out = df_cleaning(out, 'review_title')\n",
    "out = df_cleaning(out, 'product_title')\n",
    "out"
   ]
  },
  {
   "cell_type": "code",
   "execution_count": null,
   "metadata": {},
   "outputs": [],
   "source": [
    "rev_bod_id = id_for_dictionary(analyser.polarity_scores(out['new_review_body'][0]))\n",
    "prop = 1/2\n",
    "help_prop_id = id_for_prop(prop)\n",
    "prod_title_comp = only_compound(out['new_product_title'][0])\n",
    "print(prod_title_comp)\n",
    "rev_title_comp = only_compound(out['new_review_title'][0])"
   ]
  },
  {
   "cell_type": "code",
   "execution_count": null,
   "metadata": {},
   "outputs": [],
   "source": [
    "rev_input_test = np.array([[prod_title_comp, star_rating, rev_title_comp, rev_bod_id, help_prop_id]])\n",
    "rev_input_test"
   ]
  },
  {
   "cell_type": "code",
   "execution_count": null,
   "metadata": {},
   "outputs": [],
   "source": [
    "prediction, probabilities = knn_classifier.predict(rev_input_test), knn_classifier.predict_proba(rev_input_test)[0]"
   ]
  },
  {
   "cell_type": "code",
   "execution_count": null,
   "metadata": {},
   "outputs": [],
   "source": [
    "prediction"
   ]
  },
  {
   "cell_type": "code",
   "execution_count": null,
   "metadata": {},
   "outputs": [],
   "source": [
    "probabilities"
   ]
  }
 ],
 "metadata": {
  "kernelspec": {
   "display_name": "Python 3",
   "language": "python",
   "name": "python3"
  }
 },
 "nbformat": 4,
 "nbformat_minor": 5
}
