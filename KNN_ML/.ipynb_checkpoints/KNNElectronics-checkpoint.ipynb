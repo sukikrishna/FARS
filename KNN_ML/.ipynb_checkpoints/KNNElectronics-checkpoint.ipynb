{
 "cells": [
  {
   "cell_type": "code",
   "execution_count": 1,
   "metadata": {},
   "outputs": [],
   "source": [
    "# import libraries\n",
    "\n",
    "import numpy as np\n",
    "import pandas as pd\n",
    "\n",
    "import seaborn as sns\n",
    "import matplotlib.pyplot as plt\n",
    "\n",
    "# These are all the imports needed for the assignment\n",
    "%matplotlib inline\n",
    "\n",
    "# Import nltk package (Natural Language Toolkit)\n",
    "import nltk\n",
    "from nltk.tokenize import word_tokenize\n",
    "from nltk.corpus import stopwords\n",
    "\n",
    "import warnings\n",
    "warnings.filterwarnings('ignore')\n",
    "\n",
    "# scikit-learn imports\n",
    "from sklearn.model_selection import train_test_split\n",
    "from sklearn.svm import SVC\n",
    "from sklearn.feature_extraction.text import CountVectorizer, TfidfVectorizer\n",
    "from sklearn.metrics import classification_report, precision_recall_fscore_support"
   ]
  },
  {
   "cell_type": "code",
   "execution_count": 2,
   "metadata": {},
   "outputs": [
    {
     "name": "stderr",
     "output_type": "stream",
     "text": [
      "[nltk_data] Downloading package punkt to\n",
      "[nltk_data]     C:\\Users\\19495\\AppData\\Roaming\\nltk_data...\n",
      "[nltk_data]   Package punkt is already up-to-date!\n",
      "[nltk_data] Downloading package stopwords to\n",
      "[nltk_data]     C:\\Users\\19495\\AppData\\Roaming\\nltk_data...\n",
      "[nltk_data]   Package stopwords is already up-to-date!\n"
     ]
    },
    {
     "data": {
      "text/plain": [
       "True"
      ]
     },
     "execution_count": 2,
     "metadata": {},
     "output_type": "execute_result"
    }
   ],
   "source": [
    "# Download the NLTK English tokenizer and the stopwords of all languages\n",
    "nltk.download('punkt')\n",
    "nltk.download('stopwords')"
   ]
  },
  {
   "cell_type": "code",
   "execution_count": 3,
   "metadata": {},
   "outputs": [],
   "source": [
    "pd.set_option('display.max_columns', None)\n",
    "pd.set_option('display.max_rows', None)\n",
    "pd.set_option('display.max_colwidth', None)"
   ]
  },
  {
   "cell_type": "code",
   "execution_count": 4,
   "metadata": {},
   "outputs": [],
   "source": [
    "# Personal_Care_Appliances"
   ]
  },
  {
   "cell_type": "code",
   "execution_count": 5,
   "metadata": {},
   "outputs": [],
   "source": [
    "columns = ['marketplace', 'customer_id', 'review_id', 'product_id', 'product_parent', 'product_title', 'product_category', \\\n",
    "           'star_rating', 'helpful_votes', 'total_votes', 'vine', 'verified_purchase', 'review_headline', 'review_body', 'review_date']\n",
    "elec_df = pd.read_csv(\"C:/Users/19495/DS3ProjectFiles/amazon_reviews_us_Electronics_v1_00.tsv.gz\", names =  columns, sep = '\\t').iloc[1:,:]"
   ]
  },
  {
   "cell_type": "code",
   "execution_count": 6,
   "metadata": {},
   "outputs": [],
   "source": [
    "elec_df = elec_df.sample(n = 200000)"
   ]
  },
  {
   "cell_type": "code",
   "execution_count": 7,
   "metadata": {},
   "outputs": [],
   "source": [
    "one_file = elec_df.copy()"
   ]
  },
  {
   "cell_type": "markdown",
   "metadata": {},
   "source": [
    "## Data Sampling"
   ]
  },
  {
   "cell_type": "code",
   "execution_count": 8,
   "metadata": {},
   "outputs": [],
   "source": [
    "def df_sampling(df):\n",
    "    # Since we know that there are more unverified than verified --> we sample based on that\n",
    "    \n",
    "    # Since there are no data values in 'verified_purchase' columns that deviate from 'Y' or 'N' we proceed\n",
    "    verified_count_df = df[df['verified_purchase'] == 'Y']\n",
    "    unverified_count_df = df[df['verified_purchase'] == 'N']\n",
    "    \n",
    "    print(\"Number of verified purchases:\", len(verified_count_df))\n",
    "    print(\"Number of unverified purchases:\", len(unverified_count_df))\n",
    "    \n",
    "    sample_len = len(unverified_count_df)\n",
    "    \n",
    "    verified_sample_df = verified_count_df.sample(n = sample_len)\n",
    "    unified_df = pd.concat([unverified_count_df, verified_sample_df])\n",
    "    \n",
    "    print(\"Number of verified purchases (balanced dataset):\", len(unified_df[unified_df['verified_purchase'] == 'Y']))\n",
    "    print(\"Number of unverified purchases (balanced dataset):\", len(unified_df[unified_df['verified_purchase'] == 'N']))\n",
    "    \n",
    "    return unified_df"
   ]
  },
  {
   "cell_type": "code",
   "execution_count": 9,
   "metadata": {},
   "outputs": [
    {
     "name": "stdout",
     "output_type": "stream",
     "text": [
      "Number of verified purchases: 168257\n",
      "Number of unverified purchases: 31743\n",
      "Number of verified purchases (balanced dataset): 31743\n",
      "Number of unverified purchases (balanced dataset): 31743\n"
     ]
    },
    {
     "data": {
      "text/html": [
       "<div>\n",
       "<style scoped>\n",
       "    .dataframe tbody tr th:only-of-type {\n",
       "        vertical-align: middle;\n",
       "    }\n",
       "\n",
       "    .dataframe tbody tr th {\n",
       "        vertical-align: top;\n",
       "    }\n",
       "\n",
       "    .dataframe thead th {\n",
       "        text-align: right;\n",
       "    }\n",
       "</style>\n",
       "<table border=\"1\" class=\"dataframe\">\n",
       "  <thead>\n",
       "    <tr style=\"text-align: right;\">\n",
       "      <th></th>\n",
       "      <th>marketplace</th>\n",
       "      <th>customer_id</th>\n",
       "      <th>review_id</th>\n",
       "      <th>product_id</th>\n",
       "      <th>product_parent</th>\n",
       "      <th>product_title</th>\n",
       "      <th>product_category</th>\n",
       "      <th>star_rating</th>\n",
       "      <th>helpful_votes</th>\n",
       "      <th>total_votes</th>\n",
       "      <th>vine</th>\n",
       "      <th>verified_purchase</th>\n",
       "      <th>review_headline</th>\n",
       "      <th>review_body</th>\n",
       "      <th>review_date</th>\n",
       "    </tr>\n",
       "  </thead>\n",
       "  <tbody>\n",
       "    <tr>\n",
       "      <th>2134543</th>\n",
       "      <td>US</td>\n",
       "      <td>49366425</td>\n",
       "      <td>R142SXVYRBAGGX</td>\n",
       "      <td>B003VTZPO8</td>\n",
       "      <td>909704137</td>\n",
       "      <td>MEElectronics Sports Sound-Isolating In Ear Headphones with Microphone/Remote for iPod</td>\n",
       "      <td>Electronics</td>\n",
       "      <td>2</td>\n",
       "      <td>0</td>\n",
       "      <td>0</td>\n",
       "      <td>N</td>\n",
       "      <td>N</td>\n",
       "      <td>Very Comfortable, horrible sound</td>\n",
       "      <td>Quick review...In a nutshell:&lt;br /&gt;&lt;br /&gt;Pros:&lt;br /&gt;- Extremely comfortable earbuds; probably the most comfortable and best fitting I have ever worn.  I wore them on a 2 hour hike, they did not fall out once, and I never had to adjust them for comfort.&lt;br /&gt;- Cord Length seems to be longer than most which, for me, is a plus&lt;br /&gt;- Sound Isolation - This is caused by the fit of the earbuds in your ears.  For me, I heard virtually no outside noise&lt;br /&gt;&lt;br /&gt;Cons:&lt;br /&gt;- Horrible sound quality.  I am NOT an ausiophile...I usually use cheapy earbuds or earphones.  But these were awful.  Absolutely no bass response, and the highs were absent as well.  Everything sounded timmy and the low end was muted.  They are going back for this reason&lt;br /&gt;&lt;br /&gt;Hope this helps someone!!</td>\n",
       "      <td>2013-02-01</td>\n",
       "    </tr>\n",
       "    <tr>\n",
       "      <th>301172</th>\n",
       "      <td>US</td>\n",
       "      <td>11201045</td>\n",
       "      <td>R31OG0JWED2ABX</td>\n",
       "      <td>B005FA38SG</td>\n",
       "      <td>889377465</td>\n",
       "      <td>Underwater Audio Waterproof iPod Shuffle</td>\n",
       "      <td>Electronics</td>\n",
       "      <td>5</td>\n",
       "      <td>0</td>\n",
       "      <td>0</td>\n",
       "      <td>N</td>\n",
       "      <td>N</td>\n",
       "      <td>Five Stars</td>\n",
       "      <td>Underwater Audio has been the greatest IPOD I have ever had. I have to do boring physical therapy exercises in the pool along with swimming laps. My IPOD work perfectly until recently. When I called the customer service center for help troubleshooting the IPOD I was stunned that they would send me a brand new one at no cost to me except shipping. I have ordered many things from many different companies and have never had such exceptional customer service. Lynzi was exceptional. While we were talking, we got disconnected and before I could call back she called me. The original IPOD I had was an engraved gift from my husband. The one they are replacing it with will also be engraved. Up until now I have told everyone how great my IPOD has been. I can't wait to tell people how wonderful their customer service has been to me....Thank You for making swimming and exercise at the pool a lot of fun. This company is diffidently 5 stars.</td>\n",
       "      <td>2015-05-29</td>\n",
       "    </tr>\n",
       "  </tbody>\n",
       "</table>\n",
       "</div>"
      ],
      "text/plain": [
       "        marketplace customer_id       review_id  product_id product_parent  \\\n",
       "2134543          US    49366425  R142SXVYRBAGGX  B003VTZPO8      909704137   \n",
       "301172           US    11201045  R31OG0JWED2ABX  B005FA38SG      889377465   \n",
       "\n",
       "                                                                                  product_title  \\\n",
       "2134543  MEElectronics Sports Sound-Isolating In Ear Headphones with Microphone/Remote for iPod   \n",
       "301172                                                 Underwater Audio Waterproof iPod Shuffle   \n",
       "\n",
       "        product_category star_rating helpful_votes total_votes vine  \\\n",
       "2134543      Electronics           2             0           0    N   \n",
       "301172       Electronics           5             0           0    N   \n",
       "\n",
       "        verified_purchase                   review_headline  \\\n",
       "2134543                 N  Very Comfortable, horrible sound   \n",
       "301172                  N                        Five Stars   \n",
       "\n",
       "                                                                                                                                                                                                                                                                                                                                                                                                                                                                                                                                                                                                                                                                                                                                                                                                                                                                                                                                                                          review_body  \\\n",
       "2134543                                                                                                                                                                 Quick review...In a nutshell:<br /><br />Pros:<br />- Extremely comfortable earbuds; probably the most comfortable and best fitting I have ever worn.  I wore them on a 2 hour hike, they did not fall out once, and I never had to adjust them for comfort.<br />- Cord Length seems to be longer than most which, for me, is a plus<br />- Sound Isolation - This is caused by the fit of the earbuds in your ears.  For me, I heard virtually no outside noise<br /><br />Cons:<br />- Horrible sound quality.  I am NOT an ausiophile...I usually use cheapy earbuds or earphones.  But these were awful.  Absolutely no bass response, and the highs were absent as well.  Everything sounded timmy and the low end was muted.  They are going back for this reason<br /><br />Hope this helps someone!!   \n",
       "301172   Underwater Audio has been the greatest IPOD I have ever had. I have to do boring physical therapy exercises in the pool along with swimming laps. My IPOD work perfectly until recently. When I called the customer service center for help troubleshooting the IPOD I was stunned that they would send me a brand new one at no cost to me except shipping. I have ordered many things from many different companies and have never had such exceptional customer service. Lynzi was exceptional. While we were talking, we got disconnected and before I could call back she called me. The original IPOD I had was an engraved gift from my husband. The one they are replacing it with will also be engraved. Up until now I have told everyone how great my IPOD has been. I can't wait to tell people how wonderful their customer service has been to me....Thank You for making swimming and exercise at the pool a lot of fun. This company is diffidently 5 stars.   \n",
       "\n",
       "        review_date  \n",
       "2134543  2013-02-01  \n",
       "301172   2015-05-29  "
      ]
     },
     "metadata": {},
     "output_type": "display_data"
    }
   ],
   "source": [
    "balanced_elec = df_sampling(one_file)\n",
    "display(balanced_elec.head(2))"
   ]
  },
  {
   "cell_type": "code",
   "execution_count": 10,
   "metadata": {},
   "outputs": [
    {
     "name": "stdout",
     "output_type": "stream",
     "text": [
      "The Beauty sample will have size: (63486, 15)\n"
     ]
    }
   ],
   "source": [
    "print(\"The Beauty sample will have size:\", balanced_elec.shape)"
   ]
  },
  {
   "cell_type": "markdown",
   "metadata": {},
   "source": [
    "## Data Cleaning & Type Conversion"
   ]
  },
  {
   "cell_type": "code",
   "execution_count": 11,
   "metadata": {},
   "outputs": [],
   "source": [
    "#one_file = balanced_elec.copy()"
   ]
  },
  {
   "cell_type": "code",
   "execution_count": 12,
   "metadata": {},
   "outputs": [
    {
     "name": "stdout",
     "output_type": "stream",
     "text": [
      "Number of verified purchases (balanced dataset): 168257\n",
      "Number of unverified purchases (balanced dataset): 31743\n"
     ]
    }
   ],
   "source": [
    "print(\"Number of verified purchases (balanced dataset):\", len(one_file[one_file['verified_purchase'] == 'Y']))\n",
    "print(\"Number of unverified purchases (balanced dataset):\", len(one_file[one_file['verified_purchase'] == 'N']))"
   ]
  },
  {
   "cell_type": "code",
   "execution_count": 13,
   "metadata": {},
   "outputs": [
    {
     "data": {
      "text/plain": [
       "5    113073\n",
       "4     33908\n",
       "1     22540\n",
       "3     15056\n",
       "2     11214\n",
       "5      2616\n",
       "4       582\n",
       "1       504\n",
       "3       292\n",
       "2       215\n",
       "Name: star_rating, dtype: int64"
      ]
     },
     "execution_count": 13,
     "metadata": {},
     "output_type": "execute_result"
    }
   ],
   "source": [
    "# Star rating of the format '2015-04-02' exists! In addition, np.nan exists in the helpful and total votes\n",
    "one_file['star_rating'].value_counts()"
   ]
  },
  {
   "cell_type": "code",
   "execution_count": 14,
   "metadata": {},
   "outputs": [],
   "source": [
    "# Convert the type of relevant columns to int\n",
    "one_file['star_rating'] = (one_file['star_rating']).apply(lambda star: np.NaN if (len(str(star)) > 3) else star)\n",
    "one_file['star_rating'] = one_file['star_rating'].apply(lambda star: star if (pd.isna(star)) else int(star))\n",
    "one_file['helpful_votes'] = one_file['helpful_votes'].apply(lambda vote: vote if (pd.isna(vote)) else int(vote))\n",
    "one_file['total_votes'] = one_file['total_votes'].apply(lambda vote: vote if (pd.isna(vote)) else int(int(vote)))"
   ]
  },
  {
   "cell_type": "code",
   "execution_count": 15,
   "metadata": {},
   "outputs": [
    {
     "name": "stderr",
     "output_type": "stream",
     "text": [
      "[nltk_data] Downloading package stopwords to\n",
      "[nltk_data]     C:\\Users\\19495\\AppData\\Roaming\\nltk_data...\n",
      "[nltk_data]   Package stopwords is already up-to-date!\n",
      "[nltk_data] Downloading package wordnet to\n",
      "[nltk_data]     C:\\Users\\19495\\AppData\\Roaming\\nltk_data...\n",
      "[nltk_data]   Package wordnet is already up-to-date!\n"
     ]
    }
   ],
   "source": [
    "import re\n",
    "\n",
    "import nltk.corpus\n",
    "nltk.download('stopwords')\n",
    "from nltk.corpus import stopwords\n",
    "\n",
    "from nltk.stem.porter import PorterStemmer\n",
    "nltk.download('wordnet')\n",
    "from nltk.stem import WordNetLemmatizer"
   ]
  },
  {
   "cell_type": "code",
   "execution_count": 16,
   "metadata": {},
   "outputs": [],
   "source": [
    "def df_cleaning(df, col):\n",
    "    # Drop rows with na values\n",
    "    df.dropna(inplace = True)\n",
    "    \n",
    "    new_col_name = 'new_' + col\n",
    "    \n",
    "    df[new_col_name] = df[col].copy() \n",
    "    \n",
    "    # Remove unwanted formatting characters\n",
    "    format_strs = dict.fromkeys(['<br /><br />', '&#34', 'br', '&quot', '<br />'], ' ')\n",
    "    \n",
    "    for key in format_strs:\n",
    "        df[new_col_name] = df[new_col_name].apply(lambda review: review.replace(key, format_strs[key]))\n",
    "    # removing quotes produces smthg like this --> 'The product has great ;sound; --> we must remove punctuation\n",
    "\n",
    "    \n",
    "    # Case normalization (lower case)\n",
    "    df[new_col_name] = df[new_col_name].str.lower()\n",
    "    \n",
    "    remove_dict = {\"0\": \"\", \"1\": \"\", \"2\": \"\", \"3\": \"\", \"4\": \"\", \"5\": \"\", \"6\": \"\", \"7\": \"\", \"8\": \"\", \"9\": \"\",\n",
    "                   \"(\": \"\", \")\":\"\"}\n",
    "    for key, val in remove_dict.items():\n",
    "        df[new_col_name] = df[new_col_name].apply(\n",
    "            lambda x: x.replace(key, val))\n",
    "        \n",
    "    # Remove stopwords\n",
    "    stop_lst = stopwords.words('english')\n",
    "    #stop_lst += ([\"can't\", \"i'm\" \"i'd\", \"i've\", \"i'll\", \"that's\", \"there's\", \"they're\"])\n",
    "    # ****Do we not have to take stopwords out BEFORE removing punctuation? Otherwise words with punct like “cant” remains there\n",
    "    df[new_col_name] = df[new_col_name].apply(lambda text_body: \" \".join([word for word in text_body.split() if word not in (stop_lst)]))\n",
    "    \n",
    "    # Removing Unicode Chars (punctuation, URL, @)\n",
    "    df[new_col_name] = df[new_col_name].apply(lambda rev: re.sub(r\"(@\\[A-Za-z0-9]+)|([^0-9A-Za-z \\t])|(\\w+:\\/\\/\\S+)|^rt|http.+?\", \"\", rev))\n",
    "    \n",
    "    # Lemmatization\n",
    "    word_lemmatizer = WordNetLemmatizer()\n",
    "    df[new_col_name] = df[new_col_name].apply(lambda txt: \" \".join([(word_lemmatizer.lemmatize(word)) for word in txt.split()]))\n",
    "    \n",
    "    return df"
   ]
  },
  {
   "cell_type": "code",
   "execution_count": 17,
   "metadata": {},
   "outputs": [
    {
     "data": {
      "text/html": [
       "<div>\n",
       "<style scoped>\n",
       "    .dataframe tbody tr th:only-of-type {\n",
       "        vertical-align: middle;\n",
       "    }\n",
       "\n",
       "    .dataframe tbody tr th {\n",
       "        vertical-align: top;\n",
       "    }\n",
       "\n",
       "    .dataframe thead th {\n",
       "        text-align: right;\n",
       "    }\n",
       "</style>\n",
       "<table border=\"1\" class=\"dataframe\">\n",
       "  <thead>\n",
       "    <tr style=\"text-align: right;\">\n",
       "      <th></th>\n",
       "      <th>review_body</th>\n",
       "      <th>new_review_body</th>\n",
       "    </tr>\n",
       "  </thead>\n",
       "  <tbody>\n",
       "    <tr>\n",
       "      <th>2134543</th>\n",
       "      <td>Quick review...In a nutshell:&lt;br /&gt;&lt;br /&gt;Pros:&lt;br /&gt;- Extremely comfortable earbuds; probably the most comfortable and best fitting I have ever worn.  I wore them on a 2 hour hike, they did not fall out once, and I never had to adjust them for comfort.&lt;br /&gt;- Cord Length seems to be longer than most which, for me, is a plus&lt;br /&gt;- Sound Isolation - This is caused by the fit of the earbuds in your ears.  For me, I heard virtually no outside noise&lt;br /&gt;&lt;br /&gt;Cons:&lt;br /&gt;- Horrible sound quality.  I am NOT an ausiophile...I usually use cheapy earbuds or earphones.  But these were awful.  Absolutely no bass response, and the highs were absent as well.  Everything sounded timmy and the low end was muted.  They are going back for this reason&lt;br /&gt;&lt;br /&gt;Hope this helps someone!!</td>\n",
       "      <td>quick reviewin nutshell pro extremely comfortable earbuds probably comfortable best fitting ever worn wore hour hike fall once never adjust comfort cord length seems longer which me plus sound isolation caused fit earbuds ear me heard virtually outside noise con horrible sound quality ausiophilei usually use cheapy earbuds earphone awful absolutely bass response high absent well everything sounded timmy low end muted going back reason hope help someone</td>\n",
       "    </tr>\n",
       "    <tr>\n",
       "      <th>2767949</th>\n",
       "      <td>Just what I was looking for!  Not available at any local retail stores (that I could find...), and works perfectly!  Great price, too!</td>\n",
       "      <td>looking for available local retail store could find work perfectly great price too</td>\n",
       "    </tr>\n",
       "    <tr>\n",
       "      <th>908164</th>\n",
       "      <td>Works perfect, exactly what we needed for the giant 80's style tv we inherited.  We can use our Roku with absolutely no issues.  We have been using it for about a year now.</td>\n",
       "      <td>work perfect exactly needed giant s style tv inherited use roku absolutely issue using year now</td>\n",
       "    </tr>\n",
       "    <tr>\n",
       "      <th>301172</th>\n",
       "      <td>Underwater Audio has been the greatest IPOD I have ever had. I have to do boring physical therapy exercises in the pool along with swimming laps. My IPOD work perfectly until recently. When I called the customer service center for help troubleshooting the IPOD I was stunned that they would send me a brand new one at no cost to me except shipping. I have ordered many things from many different companies and have never had such exceptional customer service. Lynzi was exceptional. While we were talking, we got disconnected and before I could call back she called me. The original IPOD I had was an engraved gift from my husband. The one they are replacing it with will also be engraved. Up until now I have told everyone how great my IPOD has been. I can't wait to tell people how wonderful their customer service has been to me....Thank You for making swimming and exercise at the pool a lot of fun. This company is diffidently 5 stars.</td>\n",
       "      <td>underwater audio greatest ipod ever had boring physical therapy exercise pool along swimming lap ipod work perfectly recently called customer service center help troubleshooting ipod stunned would send new one cost except shipping ordered many thing many different company never exceptional customer service lynzi exceptional talking got disconnected could call back called me original ipod engraved gift husband one replacing also engraved told everyone great ipod been cant wait tell people wonderful customer service methank making swimming exercise pool lot fun company diffidently star</td>\n",
       "    </tr>\n",
       "    <tr>\n",
       "      <th>1061624</th>\n",
       "      <td>These do not fit over my adult size ears as advertized.  They provide zero isolation of background noise. The overhead strap is poorly cushioned and begins to be uncomfortable in seconds.  If you need any of those functions then keep looking.</td>\n",
       "      <td>fit adult size ear advertized provide zero isolation background noise overhead strap poorly cushioned begin uncomfortable second need function keep looking</td>\n",
       "    </tr>\n",
       "  </tbody>\n",
       "</table>\n",
       "</div>"
      ],
      "text/plain": [
       "                                                                                                                                                                                                                                                                                                                                                                                                                                                                                                                                                                                                                                                                                                                                                                                                                                                                                                                                                                          review_body  \\\n",
       "2134543                                                                                                                                                                 Quick review...In a nutshell:<br /><br />Pros:<br />- Extremely comfortable earbuds; probably the most comfortable and best fitting I have ever worn.  I wore them on a 2 hour hike, they did not fall out once, and I never had to adjust them for comfort.<br />- Cord Length seems to be longer than most which, for me, is a plus<br />- Sound Isolation - This is caused by the fit of the earbuds in your ears.  For me, I heard virtually no outside noise<br /><br />Cons:<br />- Horrible sound quality.  I am NOT an ausiophile...I usually use cheapy earbuds or earphones.  But these were awful.  Absolutely no bass response, and the highs were absent as well.  Everything sounded timmy and the low end was muted.  They are going back for this reason<br /><br />Hope this helps someone!!   \n",
       "2767949                                                                                                                                                                                                                                                                                                                                                                                                                                                                                                                                                                                                                                                                                                                                                                                                                                        Just what I was looking for!  Not available at any local retail stores (that I could find...), and works perfectly!  Great price, too!   \n",
       "908164                                                                                                                                                                                                                                                                                                                                                                                                                                                                                                                                                                                                                                                                                                                                                                                                   Works perfect, exactly what we needed for the giant 80's style tv we inherited.  We can use our Roku with absolutely no issues.  We have been using it for about a year now.   \n",
       "301172   Underwater Audio has been the greatest IPOD I have ever had. I have to do boring physical therapy exercises in the pool along with swimming laps. My IPOD work perfectly until recently. When I called the customer service center for help troubleshooting the IPOD I was stunned that they would send me a brand new one at no cost to me except shipping. I have ordered many things from many different companies and have never had such exceptional customer service. Lynzi was exceptional. While we were talking, we got disconnected and before I could call back she called me. The original IPOD I had was an engraved gift from my husband. The one they are replacing it with will also be engraved. Up until now I have told everyone how great my IPOD has been. I can't wait to tell people how wonderful their customer service has been to me....Thank You for making swimming and exercise at the pool a lot of fun. This company is diffidently 5 stars.   \n",
       "1061624                                                                                                                                                                                                                                                                                                                                                                                                                                                                                                                                                                                                                                                                                                                            These do not fit over my adult size ears as advertized.  They provide zero isolation of background noise. The overhead strap is poorly cushioned and begins to be uncomfortable in seconds.  If you need any of those functions then keep looking.   \n",
       "\n",
       "                                                                                                                                                                                                                                                                                                                                                                                                                                                                                                                                                                                                        new_review_body  \n",
       "2134543                                                                                                                                        quick reviewin nutshell pro extremely comfortable earbuds probably comfortable best fitting ever worn wore hour hike fall once never adjust comfort cord length seems longer which me plus sound isolation caused fit earbuds ear me heard virtually outside noise con horrible sound quality ausiophilei usually use cheapy earbuds earphone awful absolutely bass response high absent well everything sounded timmy low end muted going back reason hope help someone  \n",
       "2767949                                                                                                                                                                                                                                                                                                                                                                                                                                                                                                                              looking for available local retail store could find work perfectly great price too  \n",
       "908164                                                                                                                                                                                                                                                                                                                                                                                                                                                                                                                  work perfect exactly needed giant s style tv inherited use roku absolutely issue using year now  \n",
       "301172   underwater audio greatest ipod ever had boring physical therapy exercise pool along swimming lap ipod work perfectly recently called customer service center help troubleshooting ipod stunned would send new one cost except shipping ordered many thing many different company never exceptional customer service lynzi exceptional talking got disconnected could call back called me original ipod engraved gift husband one replacing also engraved told everyone great ipod been cant wait tell people wonderful customer service methank making swimming exercise pool lot fun company diffidently star  \n",
       "1061624                                                                                                                                                                                                                                                                                                                                                                                                                                                     fit adult size ear advertized provide zero isolation background noise overhead strap poorly cushioned begin uncomfortable second need function keep looking  "
      ]
     },
     "execution_count": 17,
     "metadata": {},
     "output_type": "execute_result"
    }
   ],
   "source": [
    "cleaned2 = df_cleaning(one_file, 'review_body')\n",
    "cleaned2.get(['review_body', 'new_review_body']).head()"
   ]
  },
  {
   "cell_type": "code",
   "execution_count": 18,
   "metadata": {},
   "outputs": [
    {
     "data": {
      "text/html": [
       "<div>\n",
       "<style scoped>\n",
       "    .dataframe tbody tr th:only-of-type {\n",
       "        vertical-align: middle;\n",
       "    }\n",
       "\n",
       "    .dataframe tbody tr th {\n",
       "        vertical-align: top;\n",
       "    }\n",
       "\n",
       "    .dataframe thead th {\n",
       "        text-align: right;\n",
       "    }\n",
       "</style>\n",
       "<table border=\"1\" class=\"dataframe\">\n",
       "  <thead>\n",
       "    <tr style=\"text-align: right;\">\n",
       "      <th></th>\n",
       "      <th>review_headline</th>\n",
       "      <th>new_review_headline</th>\n",
       "    </tr>\n",
       "  </thead>\n",
       "  <tbody>\n",
       "    <tr>\n",
       "      <th>2134543</th>\n",
       "      <td>Very Comfortable, horrible sound</td>\n",
       "      <td>comfortable horrible sound</td>\n",
       "    </tr>\n",
       "    <tr>\n",
       "      <th>2767949</th>\n",
       "      <td>Tollink Selector Switch</td>\n",
       "      <td>tollink selector switch</td>\n",
       "    </tr>\n",
       "    <tr>\n",
       "      <th>908164</th>\n",
       "      <td>Works perfect, exactly what we needed for the giant 80's ...</td>\n",
       "      <td>work perfect exactly needed giant s</td>\n",
       "    </tr>\n",
       "    <tr>\n",
       "      <th>301172</th>\n",
       "      <td>Five Stars</td>\n",
       "      <td>five star</td>\n",
       "    </tr>\n",
       "    <tr>\n",
       "      <th>1061624</th>\n",
       "      <td>Poor choice</td>\n",
       "      <td>poor choice</td>\n",
       "    </tr>\n",
       "  </tbody>\n",
       "</table>\n",
       "</div>"
      ],
      "text/plain": [
       "                                                      review_headline  \\\n",
       "2134543                              Very Comfortable, horrible sound   \n",
       "2767949                                       Tollink Selector Switch   \n",
       "908164   Works perfect, exactly what we needed for the giant 80's ...   \n",
       "301172                                                     Five Stars   \n",
       "1061624                                                   Poor choice   \n",
       "\n",
       "                         new_review_headline  \n",
       "2134543           comfortable horrible sound  \n",
       "2767949              tollink selector switch  \n",
       "908164   work perfect exactly needed giant s  \n",
       "301172                             five star  \n",
       "1061624                          poor choice  "
      ]
     },
     "execution_count": 18,
     "metadata": {},
     "output_type": "execute_result"
    }
   ],
   "source": [
    "cleaned2 = df_cleaning(one_file, 'review_headline')\n",
    "cleaned2.get(['review_headline', 'new_review_headline']).head()"
   ]
  },
  {
   "cell_type": "code",
   "execution_count": 19,
   "metadata": {},
   "outputs": [
    {
     "data": {
      "text/html": [
       "<div>\n",
       "<style scoped>\n",
       "    .dataframe tbody tr th:only-of-type {\n",
       "        vertical-align: middle;\n",
       "    }\n",
       "\n",
       "    .dataframe tbody tr th {\n",
       "        vertical-align: top;\n",
       "    }\n",
       "\n",
       "    .dataframe thead th {\n",
       "        text-align: right;\n",
       "    }\n",
       "</style>\n",
       "<table border=\"1\" class=\"dataframe\">\n",
       "  <thead>\n",
       "    <tr style=\"text-align: right;\">\n",
       "      <th></th>\n",
       "      <th>product_title</th>\n",
       "      <th>new_product_title</th>\n",
       "    </tr>\n",
       "  </thead>\n",
       "  <tbody>\n",
       "    <tr>\n",
       "      <th>2134543</th>\n",
       "      <td>MEElectronics Sports Sound-Isolating In Ear Headphones with Microphone/Remote for iPod</td>\n",
       "      <td>meelectronics sport soundisolating ear headphone microphoneremote ipod</td>\n",
       "    </tr>\n",
       "    <tr>\n",
       "      <th>2767949</th>\n",
       "      <td>C2G/Cables to Go 28734 Toslink Digital Audio Selector Switch</td>\n",
       "      <td>cgcables go toslink digital audio selector switch</td>\n",
       "    </tr>\n",
       "    <tr>\n",
       "      <th>908164</th>\n",
       "      <td>Generic Mini HD Video Converter Box HDMI to AV/CVBS L/R Video Adapter HDMI2AV Support NTSC and PAL Output</td>\n",
       "      <td>generic mini hd video converter box hdmi avcvbs lr video adapter hdmiav support ntsc pal output</td>\n",
       "    </tr>\n",
       "    <tr>\n",
       "      <th>301172</th>\n",
       "      <td>Underwater Audio Waterproof iPod Shuffle</td>\n",
       "      <td>underwater audio waterproof ipod shuffle</td>\n",
       "    </tr>\n",
       "    <tr>\n",
       "      <th>1061624</th>\n",
       "      <td>Nakamichi NK780 Over-The-Ear Headphones Black</td>\n",
       "      <td>nakamichi nk overtheear headphone black</td>\n",
       "    </tr>\n",
       "  </tbody>\n",
       "</table>\n",
       "</div>"
      ],
      "text/plain": [
       "                                                                                                     product_title  \\\n",
       "2134543                     MEElectronics Sports Sound-Isolating In Ear Headphones with Microphone/Remote for iPod   \n",
       "2767949                                               C2G/Cables to Go 28734 Toslink Digital Audio Selector Switch   \n",
       "908164   Generic Mini HD Video Converter Box HDMI to AV/CVBS L/R Video Adapter HDMI2AV Support NTSC and PAL Output   \n",
       "301172                                                                    Underwater Audio Waterproof iPod Shuffle   \n",
       "1061624                                                              Nakamichi NK780 Over-The-Ear Headphones Black   \n",
       "\n",
       "                                                                                       new_product_title  \n",
       "2134543                           meelectronics sport soundisolating ear headphone microphoneremote ipod  \n",
       "2767949                                                cgcables go toslink digital audio selector switch  \n",
       "908164   generic mini hd video converter box hdmi avcvbs lr video adapter hdmiav support ntsc pal output  \n",
       "301172                                                          underwater audio waterproof ipod shuffle  \n",
       "1061624                                                          nakamichi nk overtheear headphone black  "
      ]
     },
     "execution_count": 19,
     "metadata": {},
     "output_type": "execute_result"
    }
   ],
   "source": [
    "cleaned2 = df_cleaning(one_file, 'product_title')\n",
    "cleaned2.get(['product_title', 'new_product_title']).head()"
   ]
  },
  {
   "cell_type": "code",
   "execution_count": 20,
   "metadata": {},
   "outputs": [
    {
     "name": "stdout",
     "output_type": "stream",
     "text": [
      "Number of verified purchases (balanced dataset): 168247\n",
      "Number of unverified purchases (balanced dataset): 31740\n"
     ]
    }
   ],
   "source": [
    "print(\"Number of verified purchases (balanced dataset):\", len(cleaned2[cleaned2['verified_purchase'] == 'Y']))\n",
    "print(\"Number of unverified purchases (balanced dataset):\", len(cleaned2[cleaned2['verified_purchase'] == 'N']))"
   ]
  },
  {
   "cell_type": "markdown",
   "metadata": {},
   "source": [
    "## Vader Sentiment Analysis"
   ]
  },
  {
   "cell_type": "code",
   "execution_count": 21,
   "metadata": {},
   "outputs": [],
   "source": [
    "from vaderSentiment.vaderSentiment import SentimentIntensityAnalyzer\n",
    "\n",
    "analyser = SentimentIntensityAnalyzer()\n",
    "\n",
    "def get_sentiment_scores(review):\n",
    "    \"\"\"\n",
    "    create new dataframe with just the proportions for each review\n",
    "    four columns\n",
    "    neg_prop, pos_prop, neu_prop, compound_prop and will contain these values\n",
    "    obtained from the vator sentiment algorithm\n",
    "    \"\"\"\n",
    "    snt = analyser.polarity_scores(review)\n",
    "    return snt"
   ]
  },
  {
   "cell_type": "code",
   "execution_count": 22,
   "metadata": {},
   "outputs": [],
   "source": [
    "one_file = cleaned2.copy()"
   ]
  },
  {
   "cell_type": "code",
   "execution_count": 23,
   "metadata": {},
   "outputs": [],
   "source": [
    "# Add 4 new columns to cleaned_elec df: neg_prop, neu_prop, pos_prop, compound_prop\n",
    "one_file['rev_dict'] = one_file['new_review_body'].apply(get_sentiment_scores)\n",
    "\n",
    "def get_neg(review_dict):\n",
    "    return review_dict['neg']\n",
    "\n",
    "def get_neu(review_dict):\n",
    "    return review_dict['neu']\n",
    "\n",
    "def get_pos(review_dict):\n",
    "    return review_dict['pos']\n",
    "\n",
    "def get_compound(review_dict):\n",
    "    return review_dict['compound']\n",
    "\n",
    "def only_compound(x):\n",
    "    dct = get_sentiment_scores(x)\n",
    "    return dct['compound']"
   ]
  },
  {
   "cell_type": "code",
   "execution_count": 24,
   "metadata": {},
   "outputs": [],
   "source": [
    "#get neg prop\n",
    "one_file['neg_prop'] = one_file['rev_dict'].apply(get_neg)\n",
    "#get neu prop\n",
    "one_file['neu_prop'] = one_file['rev_dict'].apply(get_neu)\n",
    "#get pos prop\n",
    "one_file['pos_prop'] = one_file['rev_dict'].apply(get_pos)\n",
    "#get compound prop\n",
    "one_file['compound_prop'] = one_file['rev_dict'].apply(get_compound)"
   ]
  },
  {
   "cell_type": "code",
   "execution_count": 25,
   "metadata": {},
   "outputs": [],
   "source": [
    "#one_file.to_csv('beauty_data_cleaned.csv')"
   ]
  },
  {
   "cell_type": "code",
   "execution_count": 26,
   "metadata": {},
   "outputs": [
    {
     "name": "stdout",
     "output_type": "stream",
     "text": [
      "Number of verified purchases (balanced dataset): 168247\n",
      "Number of unverified purchases (balanced dataset): 31740\n"
     ]
    }
   ],
   "source": [
    "one_file.head()\n",
    "print(\"Number of verified purchases (balanced dataset):\", len(one_file[one_file['verified_purchase'] == 'Y']))\n",
    "print(\"Number of unverified purchases (balanced dataset):\", len(one_file[one_file['verified_purchase'] == 'N']))"
   ]
  },
  {
   "cell_type": "markdown",
   "metadata": {},
   "source": [
    "## Confusion Matrix"
   ]
  },
  {
   "cell_type": "code",
   "execution_count": 27,
   "metadata": {},
   "outputs": [],
   "source": [
    "def plot_confusion_matrix(cm, target_names,\n",
    "                          fname, epoch,\n",
    "                          title='Confusion matrix',\n",
    "                          cmap=None,\n",
    "                          normalize=True, target=None):\n",
    "    import matplotlib.pyplot as plt\n",
    "    import numpy as np\n",
    "    import itertools\n",
    "    plt.style.use('default')\n",
    "\n",
    "    # # only true if it weren't normalized:\n",
    "    # accuracy = np.trace(cm) / float(np.sum(cm))\n",
    "    # misclass = 1 - accuracy\n",
    "\n",
    "    if cmap is None:\n",
    "        cmap = plt.get_cmap('Blues')\n",
    "\n",
    "    if normalize:\n",
    "        cm = cm.astype('float') / cm.sum(axis=1)[:, np.newaxis]\n",
    "    cm[np.isnan(cm)] = 0.0\n",
    "\n",
    "    fig = plt.figure(figsize=(5, 4))\n",
    "    ax = plt.axes()\n",
    "    plt.imshow(cm, interpolation='nearest', cmap=cmap)\n",
    "    if target == \"rule-based\":\n",
    "        plt.title(title + ' for rule-based PF')\n",
    "    else:\n",
    "        plt.title(title + ' for MLPF at epoch ' + str(epoch))\n",
    "\n",
    "    plt.colorbar()\n",
    "\n",
    "    if target_names is not None:\n",
    "        tick_marks = np.arange(len(target_names))\n",
    "        plt.xticks(tick_marks, target_names, rotation=45)\n",
    "        plt.yticks(tick_marks, target_names)\n",
    "\n",
    "    thresh = cm.max() / 1.5 if normalize else cm.max() / 2\n",
    "    for i, j in itertools.product(range(cm.shape[0]), range(cm.shape[1])):\n",
    "        if normalize:\n",
    "            plt.text(j, i, \"{:0.2f}\".format(cm[i, j]),\n",
    "                     horizontalalignment=\"center\",\n",
    "                     color=\"white\" if cm[i, j] > thresh else \"black\")\n",
    "        else:\n",
    "            plt.text(j, i, \"{:,}\".format(cm[i, j]),\n",
    "                     horizontalalignment=\"center\",\n",
    "                     color=\"white\" if cm[i, j] > thresh else \"black\")\n",
    "\n",
    "    plt.ylabel('True label')\n",
    "    plt.xlim(-1, len(target_names))\n",
    "    plt.ylim(-1, len(target_names))\n",
    "    plt.xlabel('Predicted label')\n",
    "    # plt.xlabel('Predicted label\\naccuracy={:0.4f}; misclass={:0.4f}'.format(accuracy, misclass))\n",
    "    plt.tight_layout()\n",
    "    plt.savefig(fname + '.png')\n",
    "    plt.savefig(fname + '.pdf')\n",
    "    #plt.close(fig)\n",
    "\n",
    "    return fig, ax"
   ]
  },
  {
   "cell_type": "markdown",
   "metadata": {},
   "source": [
    "## KNN"
   ]
  },
  {
   "cell_type": "code",
   "execution_count": 28,
   "metadata": {},
   "outputs": [],
   "source": [
    "import numpy as np\n",
    "import matplotlib.pyplot as plt\n",
    "import pandas as pd\n",
    "import sklearn"
   ]
  },
  {
   "cell_type": "code",
   "execution_count": 29,
   "metadata": {},
   "outputs": [
    {
     "data": {
      "text/plain": [
       "Index(['marketplace', 'customer_id', 'review_id', 'product_id',\n",
       "       'product_parent', 'product_title', 'product_category', 'star_rating',\n",
       "       'helpful_votes', 'total_votes', 'vine', 'verified_purchase',\n",
       "       'review_headline', 'review_body', 'review_date', 'new_review_body',\n",
       "       'new_review_headline', 'new_product_title', 'rev_dict', 'neg_prop',\n",
       "       'neu_prop', 'pos_prop', 'compound_prop'],\n",
       "      dtype='object')"
      ]
     },
     "execution_count": 29,
     "metadata": {},
     "output_type": "execute_result"
    }
   ],
   "source": [
    "one_file.columns"
   ]
  },
  {
   "cell_type": "code",
   "execution_count": 30,
   "metadata": {},
   "outputs": [],
   "source": [
    "one_file['prod_title_comp'] = one_file.get(\"new_product_title\").apply(only_compound)\n",
    "one_file['rev_title_comp'] = one_file.get(\"new_review_headline\").apply(only_compound)"
   ]
  },
  {
   "cell_type": "code",
   "execution_count": 31,
   "metadata": {},
   "outputs": [],
   "source": [
    "def helpful_prop(df):  \n",
    "    vote_series = pd.Series(df['helpful_votes'] / df['total_votes'])\n",
    "    # !! All nan values in votes_prop should be changed to zero: this means that 0/0 occurred !!\n",
    "    vote_series = vote_series.fillna(0)\n",
    "    return vote_series"
   ]
  },
  {
   "cell_type": "code",
   "execution_count": 32,
   "metadata": {},
   "outputs": [],
   "source": [
    "# Helper function for id'ing the review body sentiments into -1, 0, 1 depending on majority sentiment\n",
    "def id_for_dictionary(dic):\n",
    "    if len(dic) == 4:\n",
    "        ind = list(dic.values()).index(max(list(dic.values())[0:-1])) #remove the compound\n",
    "    else:\n",
    "        ind = list(dic.values()).index(max(list(dic.values())))\n",
    "    \n",
    "    # If at idx 1, neutral sent\n",
    "    if ind == 1:\n",
    "        return 0\n",
    "    # If at idx 0, negative sent\n",
    "    elif ind == 0:\n",
    "        return -1\n",
    "    else:\n",
    "        return 1"
   ]
  },
  {
   "cell_type": "code",
   "execution_count": 33,
   "metadata": {},
   "outputs": [],
   "source": [
    "# Helper function for id'ing the helper vote proportion\n",
    "def id_for_prop(prop):\n",
    "    if prop < 0.45:\n",
    "        return -1\n",
    "    elif prop > 0.55:\n",
    "        return 1\n",
    "    else:\n",
    "        return 0"
   ]
  },
  {
   "cell_type": "code",
   "execution_count": 34,
   "metadata": {},
   "outputs": [
    {
     "data": {
      "text/html": [
       "<div>\n",
       "<style scoped>\n",
       "    .dataframe tbody tr th:only-of-type {\n",
       "        vertical-align: middle;\n",
       "    }\n",
       "\n",
       "    .dataframe tbody tr th {\n",
       "        vertical-align: top;\n",
       "    }\n",
       "\n",
       "    .dataframe thead th {\n",
       "        text-align: right;\n",
       "    }\n",
       "</style>\n",
       "<table border=\"1\" class=\"dataframe\">\n",
       "  <thead>\n",
       "    <tr style=\"text-align: right;\">\n",
       "      <th></th>\n",
       "      <th>marketplace</th>\n",
       "      <th>customer_id</th>\n",
       "      <th>review_id</th>\n",
       "      <th>product_id</th>\n",
       "      <th>product_parent</th>\n",
       "      <th>product_title</th>\n",
       "      <th>product_category</th>\n",
       "      <th>star_rating</th>\n",
       "      <th>helpful_votes</th>\n",
       "      <th>total_votes</th>\n",
       "      <th>vine</th>\n",
       "      <th>verified_purchase</th>\n",
       "      <th>review_headline</th>\n",
       "      <th>review_body</th>\n",
       "      <th>review_date</th>\n",
       "      <th>new_review_body</th>\n",
       "      <th>new_review_headline</th>\n",
       "      <th>new_product_title</th>\n",
       "      <th>rev_dict</th>\n",
       "      <th>neg_prop</th>\n",
       "      <th>neu_prop</th>\n",
       "      <th>pos_prop</th>\n",
       "      <th>compound_prop</th>\n",
       "      <th>prod_title_comp</th>\n",
       "      <th>rev_title_comp</th>\n",
       "      <th>help_prop</th>\n",
       "      <th>rev_bod_id</th>\n",
       "      <th>help_prop_id</th>\n",
       "    </tr>\n",
       "  </thead>\n",
       "  <tbody>\n",
       "    <tr>\n",
       "      <th>2134543</th>\n",
       "      <td>US</td>\n",
       "      <td>49366425</td>\n",
       "      <td>R142SXVYRBAGGX</td>\n",
       "      <td>B003VTZPO8</td>\n",
       "      <td>909704137</td>\n",
       "      <td>MEElectronics Sports Sound-Isolating In Ear Headphones with Microphone/Remote for iPod</td>\n",
       "      <td>Electronics</td>\n",
       "      <td>2</td>\n",
       "      <td>0</td>\n",
       "      <td>0</td>\n",
       "      <td>N</td>\n",
       "      <td>N</td>\n",
       "      <td>Very Comfortable, horrible sound</td>\n",
       "      <td>Quick review...In a nutshell:&lt;br /&gt;&lt;br /&gt;Pros:&lt;br /&gt;- Extremely comfortable earbuds; probably the most comfortable and best fitting I have ever worn.  I wore them on a 2 hour hike, they did not fall out once, and I never had to adjust them for comfort.&lt;br /&gt;- Cord Length seems to be longer than most which, for me, is a plus&lt;br /&gt;- Sound Isolation - This is caused by the fit of the earbuds in your ears.  For me, I heard virtually no outside noise&lt;br /&gt;&lt;br /&gt;Cons:&lt;br /&gt;- Horrible sound quality.  I am NOT an ausiophile...I usually use cheapy earbuds or earphones.  But these were awful.  Absolutely no bass response, and the highs were absent as well.  Everything sounded timmy and the low end was muted.  They are going back for this reason&lt;br /&gt;&lt;br /&gt;Hope this helps someone!!</td>\n",
       "      <td>2013-02-01</td>\n",
       "      <td>quick reviewin nutshell pro extremely comfortable earbuds probably comfortable best fitting ever worn wore hour hike fall once never adjust comfort cord length seems longer which me plus sound isolation caused fit earbuds ear me heard virtually outside noise con horrible sound quality ausiophilei usually use cheapy earbuds earphone awful absolutely bass response high absent well everything sounded timmy low end muted going back reason hope help someone</td>\n",
       "      <td>comfortable horrible sound</td>\n",
       "      <td>meelectronics sport soundisolating ear headphone microphoneremote ipod</td>\n",
       "      <td>{'neg': 0.17, 'neu': 0.598, 'pos': 0.232, 'compound': 0.7706}</td>\n",
       "      <td>0.170</td>\n",
       "      <td>0.598</td>\n",
       "      <td>0.232</td>\n",
       "      <td>0.7706</td>\n",
       "      <td>0.0000</td>\n",
       "      <td>-0.0516</td>\n",
       "      <td>0.0</td>\n",
       "      <td>0</td>\n",
       "      <td>-1</td>\n",
       "    </tr>\n",
       "    <tr>\n",
       "      <th>2767949</th>\n",
       "      <td>US</td>\n",
       "      <td>17149562</td>\n",
       "      <td>R27GTDUSJEAECY</td>\n",
       "      <td>B0002OF2FC</td>\n",
       "      <td>679938792</td>\n",
       "      <td>C2G/Cables to Go 28734 Toslink Digital Audio Selector Switch</td>\n",
       "      <td>Electronics</td>\n",
       "      <td>5</td>\n",
       "      <td>0</td>\n",
       "      <td>0</td>\n",
       "      <td>N</td>\n",
       "      <td>Y</td>\n",
       "      <td>Tollink Selector Switch</td>\n",
       "      <td>Just what I was looking for!  Not available at any local retail stores (that I could find...), and works perfectly!  Great price, too!</td>\n",
       "      <td>2010-01-30</td>\n",
       "      <td>looking for available local retail store could find work perfectly great price too</td>\n",
       "      <td>tollink selector switch</td>\n",
       "      <td>cgcables go toslink digital audio selector switch</td>\n",
       "      <td>{'neg': 0.0, 'neu': 0.57, 'pos': 0.43, 'compound': 0.8519}</td>\n",
       "      <td>0.000</td>\n",
       "      <td>0.570</td>\n",
       "      <td>0.430</td>\n",
       "      <td>0.8519</td>\n",
       "      <td>0.0000</td>\n",
       "      <td>0.0000</td>\n",
       "      <td>0.0</td>\n",
       "      <td>0</td>\n",
       "      <td>-1</td>\n",
       "    </tr>\n",
       "    <tr>\n",
       "      <th>908164</th>\n",
       "      <td>US</td>\n",
       "      <td>22178693</td>\n",
       "      <td>R3NCYQ1MF62DAK</td>\n",
       "      <td>B008FO7PQA</td>\n",
       "      <td>222420710</td>\n",
       "      <td>Generic Mini HD Video Converter Box HDMI to AV/CVBS L/R Video Adapter HDMI2AV Support NTSC and PAL Output</td>\n",
       "      <td>Electronics</td>\n",
       "      <td>5</td>\n",
       "      <td>0</td>\n",
       "      <td>0</td>\n",
       "      <td>N</td>\n",
       "      <td>Y</td>\n",
       "      <td>Works perfect, exactly what we needed for the giant 80's ...</td>\n",
       "      <td>Works perfect, exactly what we needed for the giant 80's style tv we inherited.  We can use our Roku with absolutely no issues.  We have been using it for about a year now.</td>\n",
       "      <td>2014-12-03</td>\n",
       "      <td>work perfect exactly needed giant s style tv inherited use roku absolutely issue using year now</td>\n",
       "      <td>work perfect exactly needed giant s</td>\n",
       "      <td>generic mini hd video converter box hdmi avcvbs lr video adapter hdmiav support ntsc pal output</td>\n",
       "      <td>{'neg': 0.0, 'neu': 0.802, 'pos': 0.198, 'compound': 0.5719}</td>\n",
       "      <td>0.000</td>\n",
       "      <td>0.802</td>\n",
       "      <td>0.198</td>\n",
       "      <td>0.5719</td>\n",
       "      <td>0.4019</td>\n",
       "      <td>0.5719</td>\n",
       "      <td>0.0</td>\n",
       "      <td>0</td>\n",
       "      <td>-1</td>\n",
       "    </tr>\n",
       "    <tr>\n",
       "      <th>301172</th>\n",
       "      <td>US</td>\n",
       "      <td>11201045</td>\n",
       "      <td>R31OG0JWED2ABX</td>\n",
       "      <td>B005FA38SG</td>\n",
       "      <td>889377465</td>\n",
       "      <td>Underwater Audio Waterproof iPod Shuffle</td>\n",
       "      <td>Electronics</td>\n",
       "      <td>5</td>\n",
       "      <td>0</td>\n",
       "      <td>0</td>\n",
       "      <td>N</td>\n",
       "      <td>N</td>\n",
       "      <td>Five Stars</td>\n",
       "      <td>Underwater Audio has been the greatest IPOD I have ever had. I have to do boring physical therapy exercises in the pool along with swimming laps. My IPOD work perfectly until recently. When I called the customer service center for help troubleshooting the IPOD I was stunned that they would send me a brand new one at no cost to me except shipping. I have ordered many things from many different companies and have never had such exceptional customer service. Lynzi was exceptional. While we were talking, we got disconnected and before I could call back she called me. The original IPOD I had was an engraved gift from my husband. The one they are replacing it with will also be engraved. Up until now I have told everyone how great my IPOD has been. I can't wait to tell people how wonderful their customer service has been to me....Thank You for making swimming and exercise at the pool a lot of fun. This company is diffidently 5 stars.</td>\n",
       "      <td>2015-05-29</td>\n",
       "      <td>underwater audio greatest ipod ever had boring physical therapy exercise pool along swimming lap ipod work perfectly recently called customer service center help troubleshooting ipod stunned would send new one cost except shipping ordered many thing many different company never exceptional customer service lynzi exceptional talking got disconnected could call back called me original ipod engraved gift husband one replacing also engraved told everyone great ipod been cant wait tell people wonderful customer service methank making swimming exercise pool lot fun company diffidently star</td>\n",
       "      <td>five star</td>\n",
       "      <td>underwater audio waterproof ipod shuffle</td>\n",
       "      <td>{'neg': 0.035, 'neu': 0.69, 'pos': 0.275, 'compound': 0.9786}</td>\n",
       "      <td>0.035</td>\n",
       "      <td>0.690</td>\n",
       "      <td>0.275</td>\n",
       "      <td>0.9786</td>\n",
       "      <td>0.0000</td>\n",
       "      <td>0.0000</td>\n",
       "      <td>0.0</td>\n",
       "      <td>0</td>\n",
       "      <td>-1</td>\n",
       "    </tr>\n",
       "    <tr>\n",
       "      <th>1061624</th>\n",
       "      <td>US</td>\n",
       "      <td>36379732</td>\n",
       "      <td>RG3VBNUFUWM2J</td>\n",
       "      <td>B00BAGDPFA</td>\n",
       "      <td>898695577</td>\n",
       "      <td>Nakamichi NK780 Over-The-Ear Headphones Black</td>\n",
       "      <td>Electronics</td>\n",
       "      <td>2</td>\n",
       "      <td>0</td>\n",
       "      <td>0</td>\n",
       "      <td>N</td>\n",
       "      <td>N</td>\n",
       "      <td>Poor choice</td>\n",
       "      <td>These do not fit over my adult size ears as advertized.  They provide zero isolation of background noise. The overhead strap is poorly cushioned and begins to be uncomfortable in seconds.  If you need any of those functions then keep looking.</td>\n",
       "      <td>2014-10-05</td>\n",
       "      <td>fit adult size ear advertized provide zero isolation background noise overhead strap poorly cushioned begin uncomfortable second need function keep looking</td>\n",
       "      <td>poor choice</td>\n",
       "      <td>nakamichi nk overtheear headphone black</td>\n",
       "      <td>{'neg': 0.205, 'neu': 0.698, 'pos': 0.097, 'compound': -0.4215}</td>\n",
       "      <td>0.205</td>\n",
       "      <td>0.698</td>\n",
       "      <td>0.097</td>\n",
       "      <td>-0.4215</td>\n",
       "      <td>0.0000</td>\n",
       "      <td>-0.4767</td>\n",
       "      <td>0.0</td>\n",
       "      <td>0</td>\n",
       "      <td>-1</td>\n",
       "    </tr>\n",
       "  </tbody>\n",
       "</table>\n",
       "</div>"
      ],
      "text/plain": [
       "        marketplace customer_id       review_id  product_id product_parent  \\\n",
       "2134543          US    49366425  R142SXVYRBAGGX  B003VTZPO8      909704137   \n",
       "2767949          US    17149562  R27GTDUSJEAECY  B0002OF2FC      679938792   \n",
       "908164           US    22178693  R3NCYQ1MF62DAK  B008FO7PQA      222420710   \n",
       "301172           US    11201045  R31OG0JWED2ABX  B005FA38SG      889377465   \n",
       "1061624          US    36379732   RG3VBNUFUWM2J  B00BAGDPFA      898695577   \n",
       "\n",
       "                                                                                                     product_title  \\\n",
       "2134543                     MEElectronics Sports Sound-Isolating In Ear Headphones with Microphone/Remote for iPod   \n",
       "2767949                                               C2G/Cables to Go 28734 Toslink Digital Audio Selector Switch   \n",
       "908164   Generic Mini HD Video Converter Box HDMI to AV/CVBS L/R Video Adapter HDMI2AV Support NTSC and PAL Output   \n",
       "301172                                                                    Underwater Audio Waterproof iPod Shuffle   \n",
       "1061624                                                              Nakamichi NK780 Over-The-Ear Headphones Black   \n",
       "\n",
       "        product_category  star_rating  helpful_votes  total_votes vine  \\\n",
       "2134543      Electronics            2              0            0    N   \n",
       "2767949      Electronics            5              0            0    N   \n",
       "908164       Electronics            5              0            0    N   \n",
       "301172       Electronics            5              0            0    N   \n",
       "1061624      Electronics            2              0            0    N   \n",
       "\n",
       "        verified_purchase  \\\n",
       "2134543                 N   \n",
       "2767949                 Y   \n",
       "908164                  Y   \n",
       "301172                  N   \n",
       "1061624                 N   \n",
       "\n",
       "                                                      review_headline  \\\n",
       "2134543                              Very Comfortable, horrible sound   \n",
       "2767949                                       Tollink Selector Switch   \n",
       "908164   Works perfect, exactly what we needed for the giant 80's ...   \n",
       "301172                                                     Five Stars   \n",
       "1061624                                                   Poor choice   \n",
       "\n",
       "                                                                                                                                                                                                                                                                                                                                                                                                                                                                                                                                                                                                                                                                                                                                                                                                                                                                                                                                                                          review_body  \\\n",
       "2134543                                                                                                                                                                 Quick review...In a nutshell:<br /><br />Pros:<br />- Extremely comfortable earbuds; probably the most comfortable and best fitting I have ever worn.  I wore them on a 2 hour hike, they did not fall out once, and I never had to adjust them for comfort.<br />- Cord Length seems to be longer than most which, for me, is a plus<br />- Sound Isolation - This is caused by the fit of the earbuds in your ears.  For me, I heard virtually no outside noise<br /><br />Cons:<br />- Horrible sound quality.  I am NOT an ausiophile...I usually use cheapy earbuds or earphones.  But these were awful.  Absolutely no bass response, and the highs were absent as well.  Everything sounded timmy and the low end was muted.  They are going back for this reason<br /><br />Hope this helps someone!!   \n",
       "2767949                                                                                                                                                                                                                                                                                                                                                                                                                                                                                                                                                                                                                                                                                                                                                                                                                                        Just what I was looking for!  Not available at any local retail stores (that I could find...), and works perfectly!  Great price, too!   \n",
       "908164                                                                                                                                                                                                                                                                                                                                                                                                                                                                                                                                                                                                                                                                                                                                                                                                   Works perfect, exactly what we needed for the giant 80's style tv we inherited.  We can use our Roku with absolutely no issues.  We have been using it for about a year now.   \n",
       "301172   Underwater Audio has been the greatest IPOD I have ever had. I have to do boring physical therapy exercises in the pool along with swimming laps. My IPOD work perfectly until recently. When I called the customer service center for help troubleshooting the IPOD I was stunned that they would send me a brand new one at no cost to me except shipping. I have ordered many things from many different companies and have never had such exceptional customer service. Lynzi was exceptional. While we were talking, we got disconnected and before I could call back she called me. The original IPOD I had was an engraved gift from my husband. The one they are replacing it with will also be engraved. Up until now I have told everyone how great my IPOD has been. I can't wait to tell people how wonderful their customer service has been to me....Thank You for making swimming and exercise at the pool a lot of fun. This company is diffidently 5 stars.   \n",
       "1061624                                                                                                                                                                                                                                                                                                                                                                                                                                                                                                                                                                                                                                                                                                                            These do not fit over my adult size ears as advertized.  They provide zero isolation of background noise. The overhead strap is poorly cushioned and begins to be uncomfortable in seconds.  If you need any of those functions then keep looking.   \n",
       "\n",
       "        review_date  \\\n",
       "2134543  2013-02-01   \n",
       "2767949  2010-01-30   \n",
       "908164   2014-12-03   \n",
       "301172   2015-05-29   \n",
       "1061624  2014-10-05   \n",
       "\n",
       "                                                                                                                                                                                                                                                                                                                                                                                                                                                                                                                                                                                                        new_review_body  \\\n",
       "2134543                                                                                                                                        quick reviewin nutshell pro extremely comfortable earbuds probably comfortable best fitting ever worn wore hour hike fall once never adjust comfort cord length seems longer which me plus sound isolation caused fit earbuds ear me heard virtually outside noise con horrible sound quality ausiophilei usually use cheapy earbuds earphone awful absolutely bass response high absent well everything sounded timmy low end muted going back reason hope help someone   \n",
       "2767949                                                                                                                                                                                                                                                                                                                                                                                                                                                                                                                              looking for available local retail store could find work perfectly great price too   \n",
       "908164                                                                                                                                                                                                                                                                                                                                                                                                                                                                                                                  work perfect exactly needed giant s style tv inherited use roku absolutely issue using year now   \n",
       "301172   underwater audio greatest ipod ever had boring physical therapy exercise pool along swimming lap ipod work perfectly recently called customer service center help troubleshooting ipod stunned would send new one cost except shipping ordered many thing many different company never exceptional customer service lynzi exceptional talking got disconnected could call back called me original ipod engraved gift husband one replacing also engraved told everyone great ipod been cant wait tell people wonderful customer service methank making swimming exercise pool lot fun company diffidently star   \n",
       "1061624                                                                                                                                                                                                                                                                                                                                                                                                                                                     fit adult size ear advertized provide zero isolation background noise overhead strap poorly cushioned begin uncomfortable second need function keep looking   \n",
       "\n",
       "                         new_review_headline  \\\n",
       "2134543           comfortable horrible sound   \n",
       "2767949              tollink selector switch   \n",
       "908164   work perfect exactly needed giant s   \n",
       "301172                             five star   \n",
       "1061624                          poor choice   \n",
       "\n",
       "                                                                                       new_product_title  \\\n",
       "2134543                           meelectronics sport soundisolating ear headphone microphoneremote ipod   \n",
       "2767949                                                cgcables go toslink digital audio selector switch   \n",
       "908164   generic mini hd video converter box hdmi avcvbs lr video adapter hdmiav support ntsc pal output   \n",
       "301172                                                          underwater audio waterproof ipod shuffle   \n",
       "1061624                                                          nakamichi nk overtheear headphone black   \n",
       "\n",
       "                                                                rev_dict  \\\n",
       "2134543    {'neg': 0.17, 'neu': 0.598, 'pos': 0.232, 'compound': 0.7706}   \n",
       "2767949       {'neg': 0.0, 'neu': 0.57, 'pos': 0.43, 'compound': 0.8519}   \n",
       "908164      {'neg': 0.0, 'neu': 0.802, 'pos': 0.198, 'compound': 0.5719}   \n",
       "301172     {'neg': 0.035, 'neu': 0.69, 'pos': 0.275, 'compound': 0.9786}   \n",
       "1061624  {'neg': 0.205, 'neu': 0.698, 'pos': 0.097, 'compound': -0.4215}   \n",
       "\n",
       "         neg_prop  neu_prop  pos_prop  compound_prop  prod_title_comp  \\\n",
       "2134543     0.170     0.598     0.232         0.7706           0.0000   \n",
       "2767949     0.000     0.570     0.430         0.8519           0.0000   \n",
       "908164      0.000     0.802     0.198         0.5719           0.4019   \n",
       "301172      0.035     0.690     0.275         0.9786           0.0000   \n",
       "1061624     0.205     0.698     0.097        -0.4215           0.0000   \n",
       "\n",
       "         rev_title_comp  help_prop  rev_bod_id  help_prop_id  \n",
       "2134543         -0.0516        0.0           0            -1  \n",
       "2767949          0.0000        0.0           0            -1  \n",
       "908164           0.5719        0.0           0            -1  \n",
       "301172           0.0000        0.0           0            -1  \n",
       "1061624         -0.4767        0.0           0            -1  "
      ]
     },
     "execution_count": 34,
     "metadata": {},
     "output_type": "execute_result"
    }
   ],
   "source": [
    "one_file['help_prop'] = helpful_prop(one_file)\n",
    "one_file['rev_bod_id'] = one_file['rev_dict'].apply(id_for_dictionary)\n",
    "one_file['help_prop_id'] = one_file[\"help_prop\"].apply(id_for_prop)\n",
    "one_file.head()"
   ]
  },
  {
   "cell_type": "code",
   "execution_count": 35,
   "metadata": {},
   "outputs": [
    {
     "data": {
      "text/plain": [
       "verified_purchase     object\n",
       "prod_title_comp      float64\n",
       "star_rating            int64\n",
       "rev_title_comp       float64\n",
       "rev_bod_id             int64\n",
       "help_prop_id           int64\n",
       "dtype: object"
      ]
     },
     "execution_count": 35,
     "metadata": {},
     "output_type": "execute_result"
    }
   ],
   "source": [
    "imp_col = one_file[['verified_purchase', 'prod_title_comp', 'star_rating', 'rev_title_comp', 'rev_bod_id', 'help_prop_id']]\n",
    "imp_col.dtypes"
   ]
  },
  {
   "cell_type": "code",
   "execution_count": 36,
   "metadata": {},
   "outputs": [],
   "source": [
    "imp_col = imp_col.dropna()"
   ]
  },
  {
   "cell_type": "code",
   "execution_count": 37,
   "metadata": {},
   "outputs": [],
   "source": [
    "X = imp_col.iloc[:, [1,2,3,4,5]].values #only taking in the categories that will be used as a dataframe\n",
    "y = imp_col.iloc[:, 0].values"
   ]
  },
  {
   "cell_type": "code",
   "execution_count": 38,
   "metadata": {},
   "outputs": [],
   "source": [
    "#try_list = [-0.56514068,  0.62580226,  0.90751079, -0.57225657, -0.7032493]\n",
    "#print(X[0][0])\n",
    "#print(try_list[0])\n",
    "#X.shape\n",
    "\n",
    "#try_list = [-0.56514068,  0.62580226,  0.90751079, -0.57225657, -0.7032493]\n",
    "#for array in X:\n",
    "#    print(X[0])\n",
    "#    print(try_list[0])\n",
    "#    if X[0] == try_list[0]:\n",
    "#        print(x)"
   ]
  },
  {
   "cell_type": "code",
   "execution_count": 39,
   "metadata": {},
   "outputs": [
    {
     "name": "stdout",
     "output_type": "stream",
     "text": [
      "Number of verified purchases (balanced dataset): 168247\n",
      "Number of unverified purchases (balanced dataset): 31740\n"
     ]
    }
   ],
   "source": [
    "print(\"Number of verified purchases (balanced dataset):\", len(imp_col[imp_col['verified_purchase'] == 'Y']))\n",
    "print(\"Number of unverified purchases (balanced dataset):\", len(imp_col[imp_col['verified_purchase'] == 'N']))"
   ]
  },
  {
   "cell_type": "code",
   "execution_count": 40,
   "metadata": {},
   "outputs": [],
   "source": [
    "from sklearn.model_selection import train_test_split\n",
    "X_train, X_test, y_train, y_test = train_test_split(X, y, test_size = 0.20, random_state = 0)"
   ]
  },
  {
   "cell_type": "code",
   "execution_count": 41,
   "metadata": {},
   "outputs": [
    {
     "data": {
      "text/plain": [
       "KNeighborsClassifier(algorithm='auto', leaf_size=30, metric='euclidean',\n",
       "                     metric_params=None, n_jobs=None, n_neighbors=20, p=1,\n",
       "                     weights='uniform')"
      ]
     },
     "execution_count": 41,
     "metadata": {},
     "output_type": "execute_result"
    }
   ],
   "source": [
    "from sklearn.neighbors import KNeighborsClassifier\n",
    "\n",
    "#we are using \n",
    "#5 neighborhood points are required for classifying a given point -- distance metric is using the minkonowski equation\n",
    "knn_classifier = KNeighborsClassifier(n_neighbors = 20, metric = 'euclidean', p = 1)\n",
    "knn_classifier.fit(X_train, y_train)"
   ]
  },
  {
   "cell_type": "code",
   "execution_count": 42,
   "metadata": {},
   "outputs": [],
   "source": [
    "y_pred = knn_classifier.predict(X_test)"
   ]
  },
  {
   "cell_type": "code",
   "execution_count": 43,
   "metadata": {},
   "outputs": [],
   "source": [
    "#We can evaluate our model using the confusion matrix and accuracy score by comparing the predicted and actual test values\n",
    "\n",
    "from sklearn.metrics import confusion_matrix,accuracy_score\n",
    "cm = confusion_matrix(y_test, y_pred)\n",
    "ac = accuracy_score(y_test,y_pred)"
   ]
  },
  {
   "cell_type": "code",
   "execution_count": 44,
   "metadata": {},
   "outputs": [
    {
     "name": "stdout",
     "output_type": "stream",
     "text": [
      "[[  190  6185]\n",
      " [  335 33288]]\n",
      "0.8369918495924796\n"
     ]
    }
   ],
   "source": [
    "print(cm)\n",
    "print(ac)"
   ]
  },
  {
   "cell_type": "markdown",
   "metadata": {},
   "source": [
    "## Prediction"
   ]
  },
  {
   "cell_type": "code",
   "execution_count": 152,
   "metadata": {},
   "outputs": [],
   "source": [
    "review_body = \"This mp3 player is very good and the sound quality is amazing. The one problem i had was the headphone jack was non functional so i sent it to the factory which its still under warranty but i had to pay $40 for labor and its been like 2 weeks and i still havent got it back.\"\n",
    "review_title = 'Good but one problem'\n",
    "product_title = \"Creative Zen Touch 20 GB MP3 Player\"\n",
    "star_rating = 4\n",
    "helpful_votes = 10\n",
    "total_votes = 11"
   ]
  },
  {
   "cell_type": "code",
   "execution_count": 153,
   "metadata": {},
   "outputs": [
    {
     "data": {
      "text/html": [
       "<div>\n",
       "<style scoped>\n",
       "    .dataframe tbody tr th:only-of-type {\n",
       "        vertical-align: middle;\n",
       "    }\n",
       "\n",
       "    .dataframe tbody tr th {\n",
       "        vertical-align: top;\n",
       "    }\n",
       "\n",
       "    .dataframe thead th {\n",
       "        text-align: right;\n",
       "    }\n",
       "</style>\n",
       "<table border=\"1\" class=\"dataframe\">\n",
       "  <thead>\n",
       "    <tr style=\"text-align: right;\">\n",
       "      <th></th>\n",
       "      <th>review_body</th>\n",
       "      <th>review_title</th>\n",
       "      <th>product_title</th>\n",
       "    </tr>\n",
       "  </thead>\n",
       "  <tbody>\n",
       "    <tr>\n",
       "      <th>0</th>\n",
       "      <td>This mp3 player is very good and the sound quality is amazing. The one problem i had was the headphone jack was non functional so i sent it to the factory which its still under warranty but i had to pay $40 for labor and its been like 2 weeks and i still havent got it back.</td>\n",
       "      <td>Good but one problem</td>\n",
       "      <td>Creative Zen Touch 20 GB MP3 Player</td>\n",
       "    </tr>\n",
       "  </tbody>\n",
       "</table>\n",
       "</div>"
      ],
      "text/plain": [
       "                                                                                                                                                                                                                                                                          review_body  \\\n",
       "0  This mp3 player is very good and the sound quality is amazing. The one problem i had was the headphone jack was non functional so i sent it to the factory which its still under warranty but i had to pay $40 for labor and its been like 2 weeks and i still havent got it back.   \n",
       "\n",
       "           review_title                        product_title  \n",
       "0  Good but one problem  Creative Zen Touch 20 GB MP3 Player  "
      ]
     },
     "execution_count": 153,
     "metadata": {},
     "output_type": "execute_result"
    }
   ],
   "source": [
    "test = pd.DataFrame()\n",
    "test['review_body'] = np.array([review_body])\n",
    "test['review_title'] = np.array([review_title])\n",
    "test['product_title'] = np.array([product_title])\n",
    "test"
   ]
  },
  {
   "cell_type": "code",
   "execution_count": 154,
   "metadata": {},
   "outputs": [
    {
     "data": {
      "text/html": [
       "<div>\n",
       "<style scoped>\n",
       "    .dataframe tbody tr th:only-of-type {\n",
       "        vertical-align: middle;\n",
       "    }\n",
       "\n",
       "    .dataframe tbody tr th {\n",
       "        vertical-align: top;\n",
       "    }\n",
       "\n",
       "    .dataframe thead th {\n",
       "        text-align: right;\n",
       "    }\n",
       "</style>\n",
       "<table border=\"1\" class=\"dataframe\">\n",
       "  <thead>\n",
       "    <tr style=\"text-align: right;\">\n",
       "      <th></th>\n",
       "      <th>review_body</th>\n",
       "      <th>review_title</th>\n",
       "      <th>product_title</th>\n",
       "      <th>new_review_body</th>\n",
       "      <th>new_review_title</th>\n",
       "      <th>new_product_title</th>\n",
       "    </tr>\n",
       "  </thead>\n",
       "  <tbody>\n",
       "    <tr>\n",
       "      <th>0</th>\n",
       "      <td>This mp3 player is very good and the sound quality is amazing. The one problem i had was the headphone jack was non functional so i sent it to the factory which its still under warranty but i had to pay $40 for labor and its been like 2 weeks and i still havent got it back.</td>\n",
       "      <td>Good but one problem</td>\n",
       "      <td>Creative Zen Touch 20 GB MP3 Player</td>\n",
       "      <td>mp player good sound quality amazing one problem headphone jack non functional sent factory still warranty pay labor like week still havent got back</td>\n",
       "      <td>good one problem</td>\n",
       "      <td>creative zen touch gb mp player</td>\n",
       "    </tr>\n",
       "  </tbody>\n",
       "</table>\n",
       "</div>"
      ],
      "text/plain": [
       "                                                                                                                                                                                                                                                                          review_body  \\\n",
       "0  This mp3 player is very good and the sound quality is amazing. The one problem i had was the headphone jack was non functional so i sent it to the factory which its still under warranty but i had to pay $40 for labor and its been like 2 weeks and i still havent got it back.   \n",
       "\n",
       "           review_title                        product_title  \\\n",
       "0  Good but one problem  Creative Zen Touch 20 GB MP3 Player   \n",
       "\n",
       "                                                                                                                                        new_review_body  \\\n",
       "0  mp player good sound quality amazing one problem headphone jack non functional sent factory still warranty pay labor like week still havent got back   \n",
       "\n",
       "   new_review_title                new_product_title  \n",
       "0  good one problem  creative zen touch gb mp player  "
      ]
     },
     "execution_count": 154,
     "metadata": {},
     "output_type": "execute_result"
    }
   ],
   "source": [
    "out = df_cleaning(test, 'review_body')\n",
    "out = df_cleaning(out, 'review_title')\n",
    "out = df_cleaning(out, 'product_title')\n",
    "out"
   ]
  },
  {
   "cell_type": "code",
   "execution_count": 155,
   "metadata": {},
   "outputs": [],
   "source": [
    "rev_bod_id = id_for_dictionary(analyser.polarity_scores(out['new_review_body'][0]))\n",
    "prop = 10/11\n",
    "help_prop_id = id_for_prop(prop)\n",
    "prod_title_comp = only_compound(out['new_product_title'][0])\n",
    "rev_title_comp = only_compound(out['new_review_title'][0])"
   ]
  },
  {
   "cell_type": "code",
   "execution_count": 156,
   "metadata": {},
   "outputs": [
    {
     "data": {
      "text/plain": [
       "array([[0.4404, 4.    , 0.0516, 0.    , 1.    ]])"
      ]
     },
     "execution_count": 156,
     "metadata": {},
     "output_type": "execute_result"
    }
   ],
   "source": [
    "rev_input_test = np.array([[prod_title_comp, star_rating, rev_title_comp, rev_bod_id, help_prop_id]])\n",
    "rev_input_test"
   ]
  },
  {
   "cell_type": "code",
   "execution_count": 157,
   "metadata": {},
   "outputs": [],
   "source": [
    "prediction, probabilities = knn_classifier.predict(rev_input_test), knn_classifier.predict_proba(rev_input_test)[0]"
   ]
  },
  {
   "cell_type": "code",
   "execution_count": 158,
   "metadata": {},
   "outputs": [
    {
     "data": {
      "text/plain": [
       "array(['N'], dtype=object)"
      ]
     },
     "execution_count": 158,
     "metadata": {},
     "output_type": "execute_result"
    }
   ],
   "source": [
    "prediction"
   ]
  },
  {
   "cell_type": "code",
   "execution_count": 160,
   "metadata": {},
   "outputs": [
    {
     "data": {
      "text/plain": [
       "array([0.6, 0.4])"
      ]
     },
     "execution_count": 160,
     "metadata": {},
     "output_type": "execute_result"
    }
   ],
   "source": [
    "probabilities"
   ]
  },
  {
   "cell_type": "code",
   "execution_count": 54,
   "metadata": {},
   "outputs": [
    {
     "name": "stdout",
     "output_type": "stream",
     "text": [
      "\"I have had trouble with these refills. I've had my braun toothbrush for over 5 years, but find that these Oral-B Precision Clean refill brushes become loose and wobbly after about a month. This happened with my last order also; however I did not remember where I got it. Up to this time I've had no trouble with my toothbrush or the replacement heads.\" is predicted to be a VERIFIED review, with 70.0% probability of being VERIFIED and 30.0% probability of being UNVERIFIED\n"
     ]
    }
   ],
   "source": [
    "def interpret_prediction(review, pred, proba):\n",
    "    proba = [round(proba[0], 3), round(proba[1], 3)]\n",
    "    if prediction[0] == 'Y':\n",
    "        print(f'\"{review}\" is predicted to be a VERIFIED review, with {proba[1]*100}% probability of being VERIFIED and {proba[0]*100}% probability of being UNVERIFIED')\n",
    "    if prediction[0] == 'N':\n",
    "        print(f'\"{review}\" is predicted to be an UNVERIFIED review, with {proba[0]*100}% probability of being UNVERIFIED and {proba[1]*100}% probability of being VERIFIED')\n",
    "        \n",
    "interpret_prediction(review_body, prediction, probabilities)"
   ]
  },
  {
   "cell_type": "code",
   "execution_count": 161,
   "metadata": {},
   "outputs": [],
   "source": [
    "from joblib import dump, load\n",
    "\n",
    "name = 'knn_electronics_thousands_model.joblib'\n",
    "dump(knn_classifier, name)\n",
    "knn_classifier = load(name)"
   ]
  },
  {
   "cell_type": "markdown",
   "metadata": {},
   "source": [
    "## Getting Reviews"
   ]
  },
  {
   "cell_type": "code",
   "execution_count": 103,
   "metadata": {},
   "outputs": [
    {
     "data": {
      "text/plain": [
       "[98,\n",
       " 249,\n",
       " 319,\n",
       " 391,\n",
       " 1014,\n",
       " 1268,\n",
       " 1743,\n",
       " 2050,\n",
       " 2277,\n",
       " 2291,\n",
       " 2777,\n",
       " 2972,\n",
       " 2989,\n",
       " 3133,\n",
       " 3533,\n",
       " 3559,\n",
       " 3570,\n",
       " 3588,\n",
       " 3592,\n",
       " 3703,\n",
       " 4433,\n",
       " 4598,\n",
       " 4677,\n",
       " 4861,\n",
       " 5083,\n",
       " 5089,\n",
       " 5750,\n",
       " 6424,\n",
       " 6708,\n",
       " 6786,\n",
       " 6990,\n",
       " 7057,\n",
       " 7095,\n",
       " 7237,\n",
       " 7362,\n",
       " 7430,\n",
       " 7516,\n",
       " 8129,\n",
       " 8149,\n",
       " 8213,\n",
       " 8401,\n",
       " 8402,\n",
       " 8574,\n",
       " 8595,\n",
       " 8601,\n",
       " 8804,\n",
       " 8840,\n",
       " 8853,\n",
       " 8879,\n",
       " 8884,\n",
       " 8950,\n",
       " 9098,\n",
       " 9101,\n",
       " 9672,\n",
       " 9746,\n",
       " 9931,\n",
       " 10051,\n",
       " 10098,\n",
       " 10248,\n",
       " 10498,\n",
       " 11259,\n",
       " 11487,\n",
       " 11621,\n",
       " 11906,\n",
       " 12451,\n",
       " 12833,\n",
       " 12850,\n",
       " 13340,\n",
       " 13394,\n",
       " 13496,\n",
       " 13503,\n",
       " 13545,\n",
       " 13589,\n",
       " 14159,\n",
       " 14286,\n",
       " 14387,\n",
       " 14608,\n",
       " 15155,\n",
       " 15187,\n",
       " 15367,\n",
       " 15616,\n",
       " 15910,\n",
       " 15930,\n",
       " 16997,\n",
       " 17082,\n",
       " 17148,\n",
       " 17178,\n",
       " 17193,\n",
       " 17333,\n",
       " 17703,\n",
       " 17920,\n",
       " 18067,\n",
       " 18540,\n",
       " 18623,\n",
       " 18812,\n",
       " 18975,\n",
       " 19217,\n",
       " 19253,\n",
       " 19433,\n",
       " 19711,\n",
       " 20232,\n",
       " 20484,\n",
       " 21049,\n",
       " 21234,\n",
       " 21656,\n",
       " 21743,\n",
       " 21751,\n",
       " 21853,\n",
       " 21972,\n",
       " 21998,\n",
       " 22428,\n",
       " 22659,\n",
       " 23123,\n",
       " 23312,\n",
       " 23384,\n",
       " 23916,\n",
       " 24422,\n",
       " 24561,\n",
       " 24950,\n",
       " 25145,\n",
       " 25459,\n",
       " 25634,\n",
       " 25654,\n",
       " 25890,\n",
       " 25904,\n",
       " 26162,\n",
       " 26239,\n",
       " 26247,\n",
       " 26322,\n",
       " 26371,\n",
       " 26441,\n",
       " 27152,\n",
       " 27247,\n",
       " 27427,\n",
       " 27496,\n",
       " 27507,\n",
       " 27724,\n",
       " 27739,\n",
       " 27950,\n",
       " 28088,\n",
       " 28092,\n",
       " 28333,\n",
       " 28446,\n",
       " 28751,\n",
       " 28809,\n",
       " 28943,\n",
       " 28976,\n",
       " 29366,\n",
       " 30083,\n",
       " 30495,\n",
       " 30852,\n",
       " 30984,\n",
       " 31296,\n",
       " 31314,\n",
       " 31699,\n",
       " 31853,\n",
       " 32013,\n",
       " 32081,\n",
       " 32082,\n",
       " 32237,\n",
       " 32577,\n",
       " 32726,\n",
       " 33117,\n",
       " 33616,\n",
       " 33681,\n",
       " 34104,\n",
       " 34500,\n",
       " 34784,\n",
       " 34935,\n",
       " 35242,\n",
       " 35697,\n",
       " 35698,\n",
       " 35757,\n",
       " 35945,\n",
       " 36020,\n",
       " 36638,\n",
       " 36837,\n",
       " 36951,\n",
       " 37485,\n",
       " 37565,\n",
       " 37679,\n",
       " 37820,\n",
       " 38163,\n",
       " 38229,\n",
       " 38318,\n",
       " 38387,\n",
       " 39234,\n",
       " 39428,\n",
       " 39888,\n",
       " 39925]"
      ]
     },
     "execution_count": 103,
     "metadata": {},
     "output_type": "execute_result"
    }
   ],
   "source": [
    "ind1 = list((y_test == y_pred) & (y_test == 'N'))#.index(True)\n",
    "#  & (y_test == 'N')\n",
    "[i for i, x in enumerate(ind1) if x]"
   ]
  },
  {
   "cell_type": "code",
   "execution_count": 146,
   "metadata": {},
   "outputs": [
    {
     "data": {
      "text/plain": [
       "array([0.4404, 4.    , 0.0516, 0.    , 1.    ])"
      ]
     },
     "execution_count": 146,
     "metadata": {},
     "output_type": "execute_result"
    }
   ],
   "source": [
    "ind1 = 2050\n",
    "X_test[ind1]"
   ]
  },
  {
   "cell_type": "code",
   "execution_count": 147,
   "metadata": {},
   "outputs": [],
   "source": [
    "test = list(X)\n",
    "test;"
   ]
  },
  {
   "cell_type": "code",
   "execution_count": 148,
   "metadata": {},
   "outputs": [
    {
     "data": {
      "text/plain": [
       "array([[False, False, False,  True, False],\n",
       "       [False, False, False,  True, False],\n",
       "       [False, False, False,  True, False],\n",
       "       ...,\n",
       "       [False, False, False, False,  True],\n",
       "       [False,  True, False, False, False],\n",
       "       [False, False, False,  True,  True]])"
      ]
     },
     "execution_count": 148,
     "metadata": {},
     "output_type": "execute_result"
    }
   ],
   "source": [
    "test2 = (test == X_test[ind1])\n",
    "test2"
   ]
  },
  {
   "cell_type": "code",
   "execution_count": 149,
   "metadata": {},
   "outputs": [
    {
     "data": {
      "text/plain": [
       "[139317]"
      ]
     },
     "execution_count": 149,
     "metadata": {},
     "output_type": "execute_result"
    }
   ],
   "source": [
    "ind2 = list(np.all(test2, axis = 1))#.index(True)\n",
    "ind2\n",
    "n_lst = [i for i, x in enumerate(ind2) if x]\n",
    "(n_lst)"
   ]
  },
  {
   "cell_type": "code",
   "execution_count": 151,
   "metadata": {},
   "outputs": [
    {
     "data": {
      "text/html": [
       "<div>\n",
       "<style scoped>\n",
       "    .dataframe tbody tr th:only-of-type {\n",
       "        vertical-align: middle;\n",
       "    }\n",
       "\n",
       "    .dataframe tbody tr th {\n",
       "        vertical-align: top;\n",
       "    }\n",
       "\n",
       "    .dataframe thead th {\n",
       "        text-align: right;\n",
       "    }\n",
       "</style>\n",
       "<table border=\"1\" class=\"dataframe\">\n",
       "  <thead>\n",
       "    <tr style=\"text-align: right;\">\n",
       "      <th></th>\n",
       "      <th>3047533</th>\n",
       "    </tr>\n",
       "  </thead>\n",
       "  <tbody>\n",
       "    <tr>\n",
       "      <th>review_body</th>\n",
       "      <td>This mp3 player is very good and the sound quality is amazing. The one problem i had was the headphone jack was non functional so i sent it to the factory which its still under warranty but i had to pay $40 for labor and its been like 2 weeks and i still havent got it back.</td>\n",
       "    </tr>\n",
       "    <tr>\n",
       "      <th>review_headline</th>\n",
       "      <td>Good but one problem</td>\n",
       "    </tr>\n",
       "    <tr>\n",
       "      <th>product_title</th>\n",
       "      <td>Creative Zen Touch 20 GB MP3 Player</td>\n",
       "    </tr>\n",
       "    <tr>\n",
       "      <th>star_rating</th>\n",
       "      <td>4</td>\n",
       "    </tr>\n",
       "    <tr>\n",
       "      <th>helpful_votes</th>\n",
       "      <td>10</td>\n",
       "    </tr>\n",
       "    <tr>\n",
       "      <th>total_votes</th>\n",
       "      <td>11</td>\n",
       "    </tr>\n",
       "    <tr>\n",
       "      <th>verified_purchase</th>\n",
       "      <td>N</td>\n",
       "    </tr>\n",
       "  </tbody>\n",
       "</table>\n",
       "</div>"
      ],
      "text/plain": [
       "                                                                                                                                                                                                                                                                                              3047533\n",
       "review_body        This mp3 player is very good and the sound quality is amazing. The one problem i had was the headphone jack was non functional so i sent it to the factory which its still under warranty but i had to pay $40 for labor and its been like 2 weeks and i still havent got it back.\n",
       "review_headline                                                                                                                                                                                                                                                                  Good but one problem\n",
       "product_title                                                                                                                                                                                                                                                     Creative Zen Touch 20 GB MP3 Player\n",
       "star_rating                                                                                                                                                                                                                                                                                         4\n",
       "helpful_votes                                                                                                                                                                                                                                                                                      10\n",
       "total_votes                                                                                                                                                                                                                                                                                        11\n",
       "verified_purchase                                                                                                                                                                                                                                                                                   N"
      ]
     },
     "execution_count": 151,
     "metadata": {},
     "output_type": "execute_result"
    }
   ],
   "source": [
    "one_file.iloc[139317].to_frame().loc[['review_body', 'review_headline', 'product_title', 'star_rating', 'helpful_votes', 'total_votes', 'verified_purchase']]"
   ]
  },
  {
   "cell_type": "code",
   "execution_count": null,
   "metadata": {},
   "outputs": [],
   "source": []
  }
 ],
 "metadata": {
  "kernelspec": {
   "display_name": "Python 3",
   "language": "python",
   "name": "python3"
  },
  "language_info": {
   "codemirror_mode": {
    "name": "ipython",
    "version": 3
   },
   "file_extension": ".py",
   "mimetype": "text/x-python",
   "name": "python",
   "nbconvert_exporter": "python",
   "pygments_lexer": "ipython3",
   "version": "3.7.6"
  }
 },
 "nbformat": 4,
 "nbformat_minor": 4
}
