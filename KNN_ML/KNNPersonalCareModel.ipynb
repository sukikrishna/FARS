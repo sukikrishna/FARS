{
 "cells": [
  {
   "cell_type": "code",
   "execution_count": 2,
   "metadata": {},
   "outputs": [],
   "source": [
    "# import libraries\n",
    "\n",
    "import numpy as np\n",
    "import pandas as pd\n",
    "\n",
    "import seaborn as sns\n",
    "import matplotlib.pyplot as plt\n",
    "\n",
    "# These are all the imports needed for the assignment\n",
    "%matplotlib inline\n",
    "\n",
    "# Import nltk package (Natural Language Toolkit)\n",
    "import nltk\n",
    "from nltk.tokenize import word_tokenize\n",
    "from nltk.corpus import stopwords\n",
    "\n",
    "import warnings\n",
    "warnings.filterwarnings('ignore')\n",
    "\n",
    "# scikit-learn imports\n",
    "from sklearn.model_selection import train_test_split\n",
    "from sklearn.svm import SVC\n",
    "from sklearn.feature_extraction.text import CountVectorizer, TfidfVectorizer\n",
    "from sklearn.metrics import classification_report, precision_recall_fscore_support"
   ]
  },
  {
   "cell_type": "code",
   "execution_count": 3,
   "metadata": {},
   "outputs": [
    {
     "name": "stderr",
     "output_type": "stream",
     "text": [
      "[nltk_data] Downloading package punkt to\n",
      "[nltk_data]     C:\\Users\\19495\\AppData\\Roaming\\nltk_data...\n",
      "[nltk_data]   Package punkt is already up-to-date!\n",
      "[nltk_data] Downloading package stopwords to\n",
      "[nltk_data]     C:\\Users\\19495\\AppData\\Roaming\\nltk_data...\n",
      "[nltk_data]   Package stopwords is already up-to-date!\n"
     ]
    },
    {
     "data": {
      "text/plain": [
       "True"
      ]
     },
     "execution_count": 3,
     "metadata": {},
     "output_type": "execute_result"
    }
   ],
   "source": [
    "# Download the NLTK English tokenizer and the stopwords of all languages\n",
    "nltk.download('punkt')\n",
    "nltk.download('stopwords')"
   ]
  },
  {
   "cell_type": "code",
   "execution_count": 4,
   "metadata": {},
   "outputs": [],
   "source": [
    "pd.set_option('display.max_columns', None)\n",
    "pd.set_option('display.max_rows', None)\n",
    "pd.set_option('display.max_colwidth', None)"
   ]
  },
  {
   "cell_type": "code",
   "execution_count": 72,
   "metadata": {},
   "outputs": [],
   "source": [
    "# Personal_Care_Appliances"
   ]
  },
  {
   "cell_type": "code",
   "execution_count": 73,
   "metadata": {},
   "outputs": [],
   "source": [
    "columns = ['marketplace', 'customer_id', 'review_id', 'product_id', 'product_parent', 'product_title', 'product_category', \\\n",
    "           'star_rating', 'helpful_votes', 'total_votes', 'vine', 'verified_purchase', 'review_headline', 'review_body', 'review_date']\n",
    "elec_df = pd.read_csv(\"C:/Users/19495/DS3ProjectFiles/amazon_reviews_us_Electronics_v1_00.tsv.gz\", names =  columns, sep = '\\t').iloc[1:,:]"
   ]
  },
  {
   "cell_type": "code",
   "execution_count": 82,
   "metadata": {},
   "outputs": [],
   "source": [
    "elec_df = elec_df.sample(n = 200000)"
   ]
  },
  {
   "cell_type": "code",
   "execution_count": 83,
   "metadata": {},
   "outputs": [
    {
     "name": "stdout",
     "output_type": "stream",
     "text": [
      "The number of Personal Care Appliance reviews is much smaller than Electronics: (200000, 15)\n"
     ]
    }
   ],
   "source": [
    "one_file = elec_df.copy()\n",
    "print(\"The number of Personal Care Appliance reviews is much smaller than Electronics:\", one_file.shape)"
   ]
  },
  {
   "cell_type": "markdown",
   "metadata": {},
   "source": [
    "## Data Sampling"
   ]
  },
  {
   "cell_type": "code",
   "execution_count": 75,
   "metadata": {},
   "outputs": [],
   "source": [
    "def df_sampling(df):\n",
    "    # Since we know that there are more unverified than verified --> we sample based on that\n",
    "    \n",
    "    # Since there are no data values in 'verified_purchase' columns that deviate from 'Y' or 'N' we proceed\n",
    "    verified_count_df = df[df['verified_purchase'] == 'Y']\n",
    "    unverified_count_df = df[df['verified_purchase'] == 'N']\n",
    "    \n",
    "    print(\"Number of verified purchases:\", len(verified_count_df))\n",
    "    print(\"Number of unverified purchases:\", len(unverified_count_df))\n",
    "    \n",
    "    sample_len = len(unverified_count_df)\n",
    "    \n",
    "    verified_sample_df = verified_count_df.sample(n = sample_len)\n",
    "    unified_df = pd.concat([unverified_count_df, verified_sample_df])\n",
    "    \n",
    "    print(\"Number of verified purchases (balanced dataset):\", len(unified_df[unified_df['verified_purchase'] == 'Y']))\n",
    "    print(\"Number of unverified purchases (balanced dataset):\", len(unified_df[unified_df['verified_purchase'] == 'N']))\n",
    "    \n",
    "    return unified_df"
   ]
  },
  {
   "cell_type": "code",
   "execution_count": 84,
   "metadata": {},
   "outputs": [
    {
     "name": "stdout",
     "output_type": "stream",
     "text": [
      "Number of verified purchases: 168000\n",
      "Number of unverified purchases: 32000\n",
      "Number of verified purchases (balanced dataset): 32000\n",
      "Number of unverified purchases (balanced dataset): 32000\n"
     ]
    },
    {
     "data": {
      "text/html": [
       "<div>\n",
       "<style scoped>\n",
       "    .dataframe tbody tr th:only-of-type {\n",
       "        vertical-align: middle;\n",
       "    }\n",
       "\n",
       "    .dataframe tbody tr th {\n",
       "        vertical-align: top;\n",
       "    }\n",
       "\n",
       "    .dataframe thead th {\n",
       "        text-align: right;\n",
       "    }\n",
       "</style>\n",
       "<table border=\"1\" class=\"dataframe\">\n",
       "  <thead>\n",
       "    <tr style=\"text-align: right;\">\n",
       "      <th></th>\n",
       "      <th>marketplace</th>\n",
       "      <th>customer_id</th>\n",
       "      <th>review_id</th>\n",
       "      <th>product_id</th>\n",
       "      <th>product_parent</th>\n",
       "      <th>product_title</th>\n",
       "      <th>product_category</th>\n",
       "      <th>star_rating</th>\n",
       "      <th>helpful_votes</th>\n",
       "      <th>total_votes</th>\n",
       "      <th>vine</th>\n",
       "      <th>verified_purchase</th>\n",
       "      <th>review_headline</th>\n",
       "      <th>review_body</th>\n",
       "      <th>review_date</th>\n",
       "    </tr>\n",
       "  </thead>\n",
       "  <tbody>\n",
       "    <tr>\n",
       "      <th>2565477</th>\n",
       "      <td>US</td>\n",
       "      <td>19361542</td>\n",
       "      <td>R210AJI2MGVUA9</td>\n",
       "      <td>B004YI3LGY</td>\n",
       "      <td>55021312</td>\n",
       "      <td>Logitech Ultimate Ears 350 Noise-Isolating Earphones</td>\n",
       "      <td>Electronics</td>\n",
       "      <td>4</td>\n",
       "      <td>0</td>\n",
       "      <td>0</td>\n",
       "      <td>N</td>\n",
       "      <td>N</td>\n",
       "      <td>Mels thoughts</td>\n",
       "      <td>[[ASIN:B004YI3LGY Logitech Ultimate Ears 350vi Noise-Isolating Headset (Silver)]]   Being hard of hearing, I thought the sound was great. Unfortunately I do not have a smart phone and the buds wont fit my Kyocera Vera phone. They do fit my Panasonic portable CD player except the remote does not work but the remote that came with the player works. I wish the new buds did. Also one suggestionn, the remote for the new buds could be a about 4\\\\\" further away from the earphones so that you coudl see what you are adjusting. I still will use the new buds since I like the sound.    Mel G</td>\n",
       "      <td>2011-07-12</td>\n",
       "    </tr>\n",
       "    <tr>\n",
       "      <th>2944114</th>\n",
       "      <td>US</td>\n",
       "      <td>51064147</td>\n",
       "      <td>R2JPC7W6AECE7Y</td>\n",
       "      <td>B000TMBOXG</td>\n",
       "      <td>992838678</td>\n",
       "      <td>Sungale/Alpha SW7A-072 7 Inch Digital Picture Frame with Speaker - Brown</td>\n",
       "      <td>Electronics</td>\n",
       "      <td>2</td>\n",
       "      <td>0</td>\n",
       "      <td>0</td>\n",
       "      <td>N</td>\n",
       "      <td>N</td>\n",
       "      <td>Not very good</td>\n",
       "      <td>Remote control only works if you point it at a small hole on the lower left side of screen. (I also replaced the battery with a fresh one.) Per customer support, the best thing to do to make it work is to REMOVE the frame around the screen first, use the remote, then put the frame back! I don't think so. Bottom line: Would I buy this product again? Nope. I am returning it ASAP.</td>\n",
       "      <td>2007-12-14</td>\n",
       "    </tr>\n",
       "  </tbody>\n",
       "</table>\n",
       "</div>"
      ],
      "text/plain": [
       "        marketplace customer_id       review_id  product_id product_parent  \\\n",
       "2565477          US    19361542  R210AJI2MGVUA9  B004YI3LGY       55021312   \n",
       "2944114          US    51064147  R2JPC7W6AECE7Y  B000TMBOXG      992838678   \n",
       "\n",
       "                                                                    product_title  \\\n",
       "2565477                      Logitech Ultimate Ears 350 Noise-Isolating Earphones   \n",
       "2944114  Sungale/Alpha SW7A-072 7 Inch Digital Picture Frame with Speaker - Brown   \n",
       "\n",
       "        product_category star_rating helpful_votes total_votes vine  \\\n",
       "2565477      Electronics           4             0           0    N   \n",
       "2944114      Electronics           2             0           0    N   \n",
       "\n",
       "        verified_purchase review_headline  \\\n",
       "2565477                 N   Mels thoughts   \n",
       "2944114                 N   Not very good   \n",
       "\n",
       "                                                                                                                                                                                                                                                                                                                                                                                                                                                                                                                                                                                                        review_body  \\\n",
       "2565477  [[ASIN:B004YI3LGY Logitech Ultimate Ears 350vi Noise-Isolating Headset (Silver)]]   Being hard of hearing, I thought the sound was great. Unfortunately I do not have a smart phone and the buds wont fit my Kyocera Vera phone. They do fit my Panasonic portable CD player except the remote does not work but the remote that came with the player works. I wish the new buds did. Also one suggestionn, the remote for the new buds could be a about 4\\\\\" further away from the earphones so that you coudl see what you are adjusting. I still will use the new buds since I like the sound.    Mel G   \n",
       "2944114                                                                                                                                                                                                                Remote control only works if you point it at a small hole on the lower left side of screen. (I also replaced the battery with a fresh one.) Per customer support, the best thing to do to make it work is to REMOVE the frame around the screen first, use the remote, then put the frame back! I don't think so. Bottom line: Would I buy this product again? Nope. I am returning it ASAP.   \n",
       "\n",
       "        review_date  \n",
       "2565477  2011-07-12  \n",
       "2944114  2007-12-14  "
      ]
     },
     "metadata": {},
     "output_type": "display_data"
    }
   ],
   "source": [
    "balanced_elec = df_sampling(one_file)\n",
    "display(balanced_elec.head(2))"
   ]
  },
  {
   "cell_type": "code",
   "execution_count": 86,
   "metadata": {},
   "outputs": [
    {
     "name": "stdout",
     "output_type": "stream",
     "text": [
      "The Personal Care Appliances sample will have size: (64000, 15)\n"
     ]
    }
   ],
   "source": [
    "print(\"The Personal Care Appliances sample will have size:\", balanced_elec.shape)"
   ]
  },
  {
   "cell_type": "markdown",
   "metadata": {},
   "source": [
    "## Data Cleaning & Type Conversion"
   ]
  },
  {
   "cell_type": "code",
   "execution_count": 87,
   "metadata": {},
   "outputs": [],
   "source": [
    "# Convert the type of relevant columns to int\n",
    "one_file['star_rating'] = one_file['star_rating'].apply(int)\n",
    "one_file['helpful_votes'] = one_file['helpful_votes'].apply(int)\n",
    "one_file['total_votes'] = one_file['total_votes'].apply(int)"
   ]
  },
  {
   "cell_type": "code",
   "execution_count": 79,
   "metadata": {},
   "outputs": [
    {
     "name": "stderr",
     "output_type": "stream",
     "text": [
      "[nltk_data] Downloading package stopwords to\n",
      "[nltk_data]     C:\\Users\\19495\\AppData\\Roaming\\nltk_data...\n",
      "[nltk_data]   Package stopwords is already up-to-date!\n",
      "[nltk_data] Downloading package wordnet to\n",
      "[nltk_data]     C:\\Users\\19495\\AppData\\Roaming\\nltk_data...\n",
      "[nltk_data]   Package wordnet is already up-to-date!\n"
     ]
    }
   ],
   "source": [
    "import re\n",
    "\n",
    "import nltk.corpus\n",
    "nltk.download('stopwords')\n",
    "from nltk.corpus import stopwords\n",
    "\n",
    "from nltk.stem.porter import PorterStemmer\n",
    "nltk.download('wordnet')\n",
    "from nltk.stem import WordNetLemmatizer"
   ]
  },
  {
   "cell_type": "code",
   "execution_count": 80,
   "metadata": {},
   "outputs": [],
   "source": [
    "def df_cleaning(df, col):\n",
    "    # Drop rows with na values\n",
    "    df.dropna(inplace = True)\n",
    "    \n",
    "    new_col_name = 'new_' + col\n",
    "    \n",
    "    df[new_col_name] = df[col].copy() \n",
    "    \n",
    "    # Remove unwanted formatting characters\n",
    "    format_strs = dict.fromkeys(['<br /><br />', '&#34', 'br', '&quot', '<br />'], ' ')\n",
    "    \n",
    "    for key in format_strs:\n",
    "        df[new_col_name] = df[new_col_name].apply(lambda review: review.replace(key, format_strs[key]))\n",
    "    # removing quotes produces smthg like this --> 'The product has great ;sound; --> we must remove punctuation\n",
    "\n",
    "    \n",
    "    # Case normalization (lower case)\n",
    "    df[new_col_name] = df[new_col_name].str.lower()\n",
    "    \n",
    "    remove_dict = {\"0\": \"\", \"1\": \"\", \"2\": \"\", \"3\": \"\", \"4\": \"\", \"5\": \"\", \"6\": \"\", \"7\": \"\", \"8\": \"\", \"9\": \"\",\n",
    "                   \"(\": \"\", \")\":\"\"}\n",
    "    for key, val in remove_dict.items():\n",
    "        df[new_col_name] = df[new_col_name].apply(\n",
    "            lambda x: x.replace(key, val))\n",
    "        \n",
    "    # Remove stopwords\n",
    "    stop_lst = stopwords.words('english')\n",
    "    #stop_lst += ([\"can't\", \"i'm\" \"i'd\", \"i've\", \"i'll\", \"that's\", \"there's\", \"they're\"])\n",
    "    # ****Do we not have to take stopwords out BEFORE removing punctuation? Otherwise words with punct like “cant” remains there\n",
    "    df[new_col_name] = df[new_col_name].apply(lambda text_body: \" \".join([word for word in text_body.split() if word not in (stop_lst)]))\n",
    "    \n",
    "    # Removing Unicode Chars (punctuation, URL, @)\n",
    "    df[new_col_name] = df[new_col_name].apply(lambda rev: re.sub(r\"(@\\[A-Za-z0-9]+)|([^0-9A-Za-z \\t])|(\\w+:\\/\\/\\S+)|^rt|http.+?\", \"\", rev))\n",
    "    \n",
    "    # Lemmatization\n",
    "    word_lemmatizer = WordNetLemmatizer()\n",
    "    df[new_col_name] = df[new_col_name].apply(lambda txt: \" \".join([(word_lemmatizer.lemmatize(word)) for word in txt.split()]))\n",
    "    \n",
    "    return df"
   ]
  },
  {
   "cell_type": "code",
   "execution_count": 88,
   "metadata": {},
   "outputs": [
    {
     "data": {
      "text/html": [
       "<div>\n",
       "<style scoped>\n",
       "    .dataframe tbody tr th:only-of-type {\n",
       "        vertical-align: middle;\n",
       "    }\n",
       "\n",
       "    .dataframe tbody tr th {\n",
       "        vertical-align: top;\n",
       "    }\n",
       "\n",
       "    .dataframe thead th {\n",
       "        text-align: right;\n",
       "    }\n",
       "</style>\n",
       "<table border=\"1\" class=\"dataframe\">\n",
       "  <thead>\n",
       "    <tr style=\"text-align: right;\">\n",
       "      <th></th>\n",
       "      <th>review_body</th>\n",
       "      <th>new_review_body</th>\n",
       "    </tr>\n",
       "  </thead>\n",
       "  <tbody>\n",
       "    <tr>\n",
       "      <th>1122710</th>\n",
       "      <td>Works perfectly connecting my Turtle Beach X41 headset to my Xbox One controller adapter.</td>\n",
       "      <td>work perfectly connecting turtle beach x headset xbox one controller adapter</td>\n",
       "    </tr>\n",
       "    <tr>\n",
       "      <th>857571</th>\n",
       "      <td>I got two of these for my mom, who is not technically savvy. One for each of my parents' two homes. I initially showed her how to use it, and off she went! She was having fun with Pandora all day.&lt;br /&gt;&lt;br /&gt;My mom likes to listen to music when she cleans and tidys the house up. She likes that she can hear it in another room and the sound is still clear.&lt;br /&gt;&lt;br /&gt;She loves it! What a great value! She's thrilled with the product and I'm happy she's happy. It was money well spent.</td>\n",
       "      <td>got two mom technically savvy one parent two home initially showed use it went fun pandora day mom like listen music clean tidy house up like hear another room sound still clear love it great value thrilled product im happy happy money well spent</td>\n",
       "    </tr>\n",
       "    <tr>\n",
       "      <th>2565477</th>\n",
       "      <td>[[ASIN:B004YI3LGY Logitech Ultimate Ears 350vi Noise-Isolating Headset (Silver)]]   Being hard of hearing, I thought the sound was great. Unfortunately I do not have a smart phone and the buds wont fit my Kyocera Vera phone. They do fit my Panasonic portable CD player except the remote does not work but the remote that came with the player works. I wish the new buds did. Also one suggestionn, the remote for the new buds could be a about 4\\\\\" further away from the earphones so that you coudl see what you are adjusting. I still will use the new buds since I like the sound.    Mel G</td>\n",
       "      <td>asinbyilgy logitech ultimate ear vi noiseisolating headset silver hard hearing thought sound great unfortunately smart phone bud wont fit kyocera vera phone fit panasonic portable cd player except remote work remote came player work wish new bud did also one suggestionn remote new bud could away earphone coudl see adjusting still use new bud since like sound mel g</td>\n",
       "    </tr>\n",
       "    <tr>\n",
       "      <th>1031804</th>\n",
       "      <td>Got this bright idea of separating CDs that I carry in my car into categories so need several cases.</td>\n",
       "      <td>got ight idea separating cd carry car category need several case</td>\n",
       "    </tr>\n",
       "    <tr>\n",
       "      <th>825042</th>\n",
       "      <td>These are my favorite headphones.  I've bought multiple sets for the car, work, exercise, home.  Inexpensive, fit well and stay in place comfortably...and good sound!</td>\n",
       "      <td>favorite headphone ive bought multiple set car work exercise home inexpensive fit well stay place comfortablyand good sound</td>\n",
       "    </tr>\n",
       "  </tbody>\n",
       "</table>\n",
       "</div>"
      ],
      "text/plain": [
       "                                                                                                                                                                                                                                                                                                                                                                                                                                                                                                                                                                                                        review_body  \\\n",
       "1122710                                                                                                                                                                                                                                                                                                                                                                                                                                                                                                                   Works perfectly connecting my Turtle Beach X41 headset to my Xbox One controller adapter.   \n",
       "857571                                                                                                        I got two of these for my mom, who is not technically savvy. One for each of my parents' two homes. I initially showed her how to use it, and off she went! She was having fun with Pandora all day.<br /><br />My mom likes to listen to music when she cleans and tidys the house up. She likes that she can hear it in another room and the sound is still clear.<br /><br />She loves it! What a great value! She's thrilled with the product and I'm happy she's happy. It was money well spent.   \n",
       "2565477  [[ASIN:B004YI3LGY Logitech Ultimate Ears 350vi Noise-Isolating Headset (Silver)]]   Being hard of hearing, I thought the sound was great. Unfortunately I do not have a smart phone and the buds wont fit my Kyocera Vera phone. They do fit my Panasonic portable CD player except the remote does not work but the remote that came with the player works. I wish the new buds did. Also one suggestionn, the remote for the new buds could be a about 4\\\\\" further away from the earphones so that you coudl see what you are adjusting. I still will use the new buds since I like the sound.    Mel G   \n",
       "1031804                                                                                                                                                                                                                                                                                                                                                                                                                                                                                                        Got this bright idea of separating CDs that I carry in my car into categories so need several cases.   \n",
       "825042                                                                                                                                                                                                                                                                                                                                                                                                                                       These are my favorite headphones.  I've bought multiple sets for the car, work, exercise, home.  Inexpensive, fit well and stay in place comfortably...and good sound!   \n",
       "\n",
       "                                                                                                                                                                                                                                                                                                                                                                        new_review_body  \n",
       "1122710                                                                                                                                                                                                                                                                                                    work perfectly connecting turtle beach x headset xbox one controller adapter  \n",
       "857571                                                                                                                           got two mom technically savvy one parent two home initially showed use it went fun pandora day mom like listen music clean tidy house up like hear another room sound still clear love it great value thrilled product im happy happy money well spent  \n",
       "2565477  asinbyilgy logitech ultimate ear vi noiseisolating headset silver hard hearing thought sound great unfortunately smart phone bud wont fit kyocera vera phone fit panasonic portable cd player except remote work remote came player work wish new bud did also one suggestionn remote new bud could away earphone coudl see adjusting still use new bud since like sound mel g  \n",
       "1031804                                                                                                                                                                                                                                                                                                                got ight idea separating cd carry car category need several case  \n",
       "825042                                                                                                                                                                                                                                                      favorite headphone ive bought multiple set car work exercise home inexpensive fit well stay place comfortablyand good sound  "
      ]
     },
     "execution_count": 88,
     "metadata": {},
     "output_type": "execute_result"
    }
   ],
   "source": [
    "cleaned2 = df_cleaning(one_file, 'review_body')\n",
    "cleaned2.get(['review_body', 'new_review_body']).head()"
   ]
  },
  {
   "cell_type": "code",
   "execution_count": 89,
   "metadata": {},
   "outputs": [
    {
     "data": {
      "text/html": [
       "<div>\n",
       "<style scoped>\n",
       "    .dataframe tbody tr th:only-of-type {\n",
       "        vertical-align: middle;\n",
       "    }\n",
       "\n",
       "    .dataframe tbody tr th {\n",
       "        vertical-align: top;\n",
       "    }\n",
       "\n",
       "    .dataframe thead th {\n",
       "        text-align: right;\n",
       "    }\n",
       "</style>\n",
       "<table border=\"1\" class=\"dataframe\">\n",
       "  <thead>\n",
       "    <tr style=\"text-align: right;\">\n",
       "      <th></th>\n",
       "      <th>review_headline</th>\n",
       "      <th>new_review_headline</th>\n",
       "    </tr>\n",
       "  </thead>\n",
       "  <tbody>\n",
       "    <tr>\n",
       "      <th>1122710</th>\n",
       "      <td>Awesome!</td>\n",
       "      <td>awesome</td>\n",
       "    </tr>\n",
       "    <tr>\n",
       "      <th>857571</th>\n",
       "      <td>Great value and perfect for novices!</td>\n",
       "      <td>great value perfect novice</td>\n",
       "    </tr>\n",
       "    <tr>\n",
       "      <th>2565477</th>\n",
       "      <td>Mels thoughts</td>\n",
       "      <td>mels thought</td>\n",
       "    </tr>\n",
       "    <tr>\n",
       "      <th>1031804</th>\n",
       "      <td>Blue CD case</td>\n",
       "      <td>blue cd case</td>\n",
       "    </tr>\n",
       "    <tr>\n",
       "      <th>825042</th>\n",
       "      <td>Low cost and relatively durable</td>\n",
       "      <td>low cost relatively durable</td>\n",
       "    </tr>\n",
       "  </tbody>\n",
       "</table>\n",
       "</div>"
      ],
      "text/plain": [
       "                              review_headline          new_review_headline\n",
       "1122710                              Awesome!                      awesome\n",
       "857571   Great value and perfect for novices!   great value perfect novice\n",
       "2565477                         Mels thoughts                 mels thought\n",
       "1031804                          Blue CD case                 blue cd case\n",
       "825042        Low cost and relatively durable  low cost relatively durable"
      ]
     },
     "execution_count": 89,
     "metadata": {},
     "output_type": "execute_result"
    }
   ],
   "source": [
    "cleaned2 = df_cleaning(one_file, 'review_headline')\n",
    "cleaned2.get(['review_headline', 'new_review_headline']).head()"
   ]
  },
  {
   "cell_type": "code",
   "execution_count": 90,
   "metadata": {},
   "outputs": [
    {
     "data": {
      "text/html": [
       "<div>\n",
       "<style scoped>\n",
       "    .dataframe tbody tr th:only-of-type {\n",
       "        vertical-align: middle;\n",
       "    }\n",
       "\n",
       "    .dataframe tbody tr th {\n",
       "        vertical-align: top;\n",
       "    }\n",
       "\n",
       "    .dataframe thead th {\n",
       "        text-align: right;\n",
       "    }\n",
       "</style>\n",
       "<table border=\"1\" class=\"dataframe\">\n",
       "  <thead>\n",
       "    <tr style=\"text-align: right;\">\n",
       "      <th></th>\n",
       "      <th>product_title</th>\n",
       "      <th>new_product_title</th>\n",
       "    </tr>\n",
       "  </thead>\n",
       "  <tbody>\n",
       "    <tr>\n",
       "      <th>1122710</th>\n",
       "      <td>Steren 3 feet 2.5mm Male To 2.5mm Male - Stereo</td>\n",
       "      <td>steren foot mm male mm male stereo</td>\n",
       "    </tr>\n",
       "    <tr>\n",
       "      <th>857571</th>\n",
       "      <td>iHome Bluetooth Rechargeable Mini Speaker Cube - Green (iBT16QC)</td>\n",
       "      <td>ihome bluetooth rechargeable mini speaker cube green ibtqc</td>\n",
       "    </tr>\n",
       "    <tr>\n",
       "      <th>2565477</th>\n",
       "      <td>Logitech Ultimate Ears 350 Noise-Isolating Earphones</td>\n",
       "      <td>logitech ultimate ear noiseisolating earphone</td>\n",
       "    </tr>\n",
       "    <tr>\n",
       "      <th>1031804</th>\n",
       "      <td>Case Logic EVA Molded CD/DVD Case</td>\n",
       "      <td>case logic eva molded cddvd case</td>\n",
       "    </tr>\n",
       "    <tr>\n",
       "      <th>825042</th>\n",
       "      <td>Philips SHS3200WT/37 Flexible Earhook Headphones White</td>\n",
       "      <td>philip shswt flexible earhook headphone white</td>\n",
       "    </tr>\n",
       "  </tbody>\n",
       "</table>\n",
       "</div>"
      ],
      "text/plain": [
       "                                                            product_title  \\\n",
       "1122710                   Steren 3 feet 2.5mm Male To 2.5mm Male - Stereo   \n",
       "857571   iHome Bluetooth Rechargeable Mini Speaker Cube - Green (iBT16QC)   \n",
       "2565477              Logitech Ultimate Ears 350 Noise-Isolating Earphones   \n",
       "1031804                                 Case Logic EVA Molded CD/DVD Case   \n",
       "825042             Philips SHS3200WT/37 Flexible Earhook Headphones White   \n",
       "\n",
       "                                                  new_product_title  \n",
       "1122710                          steren foot mm male mm male stereo  \n",
       "857571   ihome bluetooth rechargeable mini speaker cube green ibtqc  \n",
       "2565477               logitech ultimate ear noiseisolating earphone  \n",
       "1031804                            case logic eva molded cddvd case  \n",
       "825042                philip shswt flexible earhook headphone white  "
      ]
     },
     "execution_count": 90,
     "metadata": {},
     "output_type": "execute_result"
    }
   ],
   "source": [
    "cleaned2 = df_cleaning(one_file, 'product_title')\n",
    "cleaned2.get(['product_title', 'new_product_title']).head()"
   ]
  },
  {
   "cell_type": "markdown",
   "metadata": {},
   "source": [
    "## Vader Sentiment Analysis"
   ]
  },
  {
   "cell_type": "code",
   "execution_count": 91,
   "metadata": {},
   "outputs": [],
   "source": [
    "from vaderSentiment.vaderSentiment import SentimentIntensityAnalyzer\n",
    "\n",
    "analyser = SentimentIntensityAnalyzer()\n",
    "\n",
    "def get_sentiment_scores(review):\n",
    "    \"\"\"\n",
    "    create new dataframe with just the proportions for each review\n",
    "    four columns\n",
    "    neg_prop, pos_prop, neu_prop, compound_prop and will contain these values\n",
    "    obtained from the vator sentiment algorithm\n",
    "    \"\"\"\n",
    "    snt = analyser.polarity_scores(review)\n",
    "    return snt"
   ]
  },
  {
   "cell_type": "code",
   "execution_count": 92,
   "metadata": {},
   "outputs": [],
   "source": [
    "one_file = cleaned2.copy()"
   ]
  },
  {
   "cell_type": "code",
   "execution_count": 93,
   "metadata": {},
   "outputs": [],
   "source": [
    "# Add 4 new columns to cleaned_elec df: neg_prop, neu_prop, pos_prop, compound_prop\n",
    "sentiment_dicts = pd.Series(one_file['new_review_body'].apply(get_sentiment_scores))\n",
    "\n",
    "one_file['neg_prop'] = sentiment_dicts.apply(lambda x: x['neg'])\n",
    "one_file['neu_prop'] = sentiment_dicts.apply(lambda x: x['neu'])\n",
    "one_file['pos_prop'] = sentiment_dicts.apply(lambda x: x['pos'])\n",
    "one_file['compound_prop'] = sentiment_dicts.apply(lambda x: x['compound'])"
   ]
  },
  {
   "cell_type": "code",
   "execution_count": 94,
   "metadata": {},
   "outputs": [
    {
     "ename": "KeyboardInterrupt",
     "evalue": "",
     "output_type": "error",
     "traceback": [
      "\u001b[1;31m---------------------------------------------------------------------------\u001b[0m",
      "\u001b[1;31mKeyboardInterrupt\u001b[0m                         Traceback (most recent call last)",
      "\u001b[1;32m<ipython-input-94-e970371ae86f>\u001b[0m in \u001b[0;36m<module>\u001b[1;34m\u001b[0m\n\u001b[1;32m----> 1\u001b[1;33m \u001b[0mone_file\u001b[0m\u001b[1;33m.\u001b[0m\u001b[0mto_csv\u001b[0m\u001b[1;33m(\u001b[0m\u001b[1;34m'personal_care_appliances_data_cleaned.csv'\u001b[0m\u001b[1;33m)\u001b[0m\u001b[1;33m\u001b[0m\u001b[1;33m\u001b[0m\u001b[0m\n\u001b[0m",
      "\u001b[1;32m~\\anaconda3\\lib\\site-packages\\pandas\\core\\generic.py\u001b[0m in \u001b[0;36mto_csv\u001b[1;34m(self, path_or_buf, sep, na_rep, float_format, columns, header, index, index_label, mode, encoding, compression, quoting, quotechar, line_terminator, chunksize, date_format, doublequote, escapechar, decimal)\u001b[0m\n\u001b[0;32m   3202\u001b[0m             \u001b[0mdecimal\u001b[0m\u001b[1;33m=\u001b[0m\u001b[0mdecimal\u001b[0m\u001b[1;33m,\u001b[0m\u001b[1;33m\u001b[0m\u001b[1;33m\u001b[0m\u001b[0m\n\u001b[0;32m   3203\u001b[0m         )\n\u001b[1;32m-> 3204\u001b[1;33m         \u001b[0mformatter\u001b[0m\u001b[1;33m.\u001b[0m\u001b[0msave\u001b[0m\u001b[1;33m(\u001b[0m\u001b[1;33m)\u001b[0m\u001b[1;33m\u001b[0m\u001b[1;33m\u001b[0m\u001b[0m\n\u001b[0m\u001b[0;32m   3205\u001b[0m \u001b[1;33m\u001b[0m\u001b[0m\n\u001b[0;32m   3206\u001b[0m         \u001b[1;32mif\u001b[0m \u001b[0mpath_or_buf\u001b[0m \u001b[1;32mis\u001b[0m \u001b[1;32mNone\u001b[0m\u001b[1;33m:\u001b[0m\u001b[1;33m\u001b[0m\u001b[1;33m\u001b[0m\u001b[0m\n",
      "\u001b[1;32m~\\anaconda3\\lib\\site-packages\\pandas\\io\\formats\\csvs.py\u001b[0m in \u001b[0;36msave\u001b[1;34m(self)\u001b[0m\n\u001b[0;32m    202\u001b[0m             )\n\u001b[0;32m    203\u001b[0m \u001b[1;33m\u001b[0m\u001b[0m\n\u001b[1;32m--> 204\u001b[1;33m             \u001b[0mself\u001b[0m\u001b[1;33m.\u001b[0m\u001b[0m_save\u001b[0m\u001b[1;33m(\u001b[0m\u001b[1;33m)\u001b[0m\u001b[1;33m\u001b[0m\u001b[1;33m\u001b[0m\u001b[0m\n\u001b[0m\u001b[0;32m    205\u001b[0m \u001b[1;33m\u001b[0m\u001b[0m\n\u001b[0;32m    206\u001b[0m         \u001b[1;32mfinally\u001b[0m\u001b[1;33m:\u001b[0m\u001b[1;33m\u001b[0m\u001b[1;33m\u001b[0m\u001b[0m\n",
      "\u001b[1;32m~\\anaconda3\\lib\\site-packages\\pandas\\io\\formats\\csvs.py\u001b[0m in \u001b[0;36m_save\u001b[1;34m(self)\u001b[0m\n\u001b[0;32m    321\u001b[0m                 \u001b[1;32mbreak\u001b[0m\u001b[1;33m\u001b[0m\u001b[1;33m\u001b[0m\u001b[0m\n\u001b[0;32m    322\u001b[0m \u001b[1;33m\u001b[0m\u001b[0m\n\u001b[1;32m--> 323\u001b[1;33m             \u001b[0mself\u001b[0m\u001b[1;33m.\u001b[0m\u001b[0m_save_chunk\u001b[0m\u001b[1;33m(\u001b[0m\u001b[0mstart_i\u001b[0m\u001b[1;33m,\u001b[0m \u001b[0mend_i\u001b[0m\u001b[1;33m)\u001b[0m\u001b[1;33m\u001b[0m\u001b[1;33m\u001b[0m\u001b[0m\n\u001b[0m\u001b[0;32m    324\u001b[0m \u001b[1;33m\u001b[0m\u001b[0m\n\u001b[0;32m    325\u001b[0m     \u001b[1;32mdef\u001b[0m \u001b[0m_save_chunk\u001b[0m\u001b[1;33m(\u001b[0m\u001b[0mself\u001b[0m\u001b[1;33m,\u001b[0m \u001b[0mstart_i\u001b[0m\u001b[1;33m:\u001b[0m \u001b[0mint\u001b[0m\u001b[1;33m,\u001b[0m \u001b[0mend_i\u001b[0m\u001b[1;33m:\u001b[0m \u001b[0mint\u001b[0m\u001b[1;33m)\u001b[0m \u001b[1;33m->\u001b[0m \u001b[1;32mNone\u001b[0m\u001b[1;33m:\u001b[0m\u001b[1;33m\u001b[0m\u001b[1;33m\u001b[0m\u001b[0m\n",
      "\u001b[1;32m~\\anaconda3\\lib\\site-packages\\pandas\\io\\formats\\csvs.py\u001b[0m in \u001b[0;36m_save_chunk\u001b[1;34m(self, start_i, end_i)\u001b[0m\n\u001b[0;32m    352\u001b[0m         )\n\u001b[0;32m    353\u001b[0m \u001b[1;33m\u001b[0m\u001b[0m\n\u001b[1;32m--> 354\u001b[1;33m         \u001b[0mlibwriters\u001b[0m\u001b[1;33m.\u001b[0m\u001b[0mwrite_csv_rows\u001b[0m\u001b[1;33m(\u001b[0m\u001b[0mself\u001b[0m\u001b[1;33m.\u001b[0m\u001b[0mdata\u001b[0m\u001b[1;33m,\u001b[0m \u001b[0mix\u001b[0m\u001b[1;33m,\u001b[0m \u001b[0mself\u001b[0m\u001b[1;33m.\u001b[0m\u001b[0mnlevels\u001b[0m\u001b[1;33m,\u001b[0m \u001b[0mself\u001b[0m\u001b[1;33m.\u001b[0m\u001b[0mcols\u001b[0m\u001b[1;33m,\u001b[0m \u001b[0mself\u001b[0m\u001b[1;33m.\u001b[0m\u001b[0mwriter\u001b[0m\u001b[1;33m)\u001b[0m\u001b[1;33m\u001b[0m\u001b[1;33m\u001b[0m\u001b[0m\n\u001b[0m",
      "\u001b[1;32mpandas\\_libs\\writers.pyx\u001b[0m in \u001b[0;36mpandas._libs.writers.write_csv_rows\u001b[1;34m()\u001b[0m\n",
      "\u001b[1;31mKeyboardInterrupt\u001b[0m: "
     ]
    }
   ],
   "source": [
    "one_file.to_csv('personal_care_appliances_data_cleaned.csv')"
   ]
  },
  {
   "cell_type": "markdown",
   "metadata": {},
   "source": [
    "## Confusion Matrix"
   ]
  },
  {
   "cell_type": "code",
   "execution_count": 43,
   "metadata": {},
   "outputs": [],
   "source": [
    "def plot_confusion_matrix(cm, target_names,\n",
    "                          fname, epoch,\n",
    "                          title='Confusion matrix',\n",
    "                          cmap=None,\n",
    "                          normalize=True, target=None):\n",
    "    import matplotlib.pyplot as plt\n",
    "    import numpy as np\n",
    "    import itertools\n",
    "    plt.style.use('default')\n",
    "\n",
    "    # # only true if it weren't normalized:\n",
    "    # accuracy = np.trace(cm) / float(np.sum(cm))\n",
    "    # misclass = 1 - accuracy\n",
    "\n",
    "    if cmap is None:\n",
    "        cmap = plt.get_cmap('Blues')\n",
    "\n",
    "    if normalize:\n",
    "        cm = cm.astype('float') / cm.sum(axis=1)[:, np.newaxis]\n",
    "    cm[np.isnan(cm)] = 0.0\n",
    "\n",
    "    fig = plt.figure(figsize=(5, 4))\n",
    "    ax = plt.axes()\n",
    "    plt.imshow(cm, interpolation='nearest', cmap=cmap)\n",
    "    if target == \"rule-based\":\n",
    "        plt.title(title + ' for rule-based PF')\n",
    "    else:\n",
    "        plt.title(title + ' for MLPF at epoch ' + str(epoch))\n",
    "\n",
    "    plt.colorbar()\n",
    "\n",
    "    if target_names is not None:\n",
    "        tick_marks = np.arange(len(target_names))\n",
    "        plt.xticks(tick_marks, target_names, rotation=45)\n",
    "        plt.yticks(tick_marks, target_names)\n",
    "\n",
    "    thresh = cm.max() / 1.5 if normalize else cm.max() / 2\n",
    "    for i, j in itertools.product(range(cm.shape[0]), range(cm.shape[1])):\n",
    "        if normalize:\n",
    "            plt.text(j, i, \"{:0.2f}\".format(cm[i, j]),\n",
    "                     horizontalalignment=\"center\",\n",
    "                     color=\"white\" if cm[i, j] > thresh else \"black\")\n",
    "        else:\n",
    "            plt.text(j, i, \"{:,}\".format(cm[i, j]),\n",
    "                     horizontalalignment=\"center\",\n",
    "                     color=\"white\" if cm[i, j] > thresh else \"black\")\n",
    "\n",
    "    plt.ylabel('True label')\n",
    "    plt.xlim(-1, len(target_names))\n",
    "    plt.ylim(-1, len(target_names))\n",
    "    plt.xlabel('Predicted label')\n",
    "    # plt.xlabel('Predicted label\\naccuracy={:0.4f}; misclass={:0.4f}'.format(accuracy, misclass))\n",
    "    plt.tight_layout()\n",
    "    plt.savefig(fname + '.png')\n",
    "    plt.savefig(fname + '.pdf')\n",
    "    #plt.close(fig)\n",
    "\n",
    "    return fig, ax"
   ]
  },
  {
   "cell_type": "markdown",
   "metadata": {},
   "source": [
    "## KNN"
   ]
  },
  {
   "cell_type": "code",
   "execution_count": 44,
   "metadata": {},
   "outputs": [],
   "source": [
    "import numpy as np\n",
    "import matplotlib.pyplot as plt\n",
    "import pandas as pd\n",
    "import sklearn"
   ]
  },
  {
   "cell_type": "code",
   "execution_count": 95,
   "metadata": {},
   "outputs": [
    {
     "data": {
      "text/plain": [
       "Index(['marketplace', 'customer_id', 'review_id', 'product_id',\n",
       "       'product_parent', 'product_title', 'product_category', 'star_rating',\n",
       "       'helpful_votes', 'total_votes', 'vine', 'verified_purchase',\n",
       "       'review_headline', 'review_body', 'review_date', 'new_review_body',\n",
       "       'new_review_headline', 'new_product_title', 'neg_prop', 'neu_prop',\n",
       "       'pos_prop', 'compound_prop'],\n",
       "      dtype='object')"
      ]
     },
     "execution_count": 95,
     "metadata": {},
     "output_type": "execute_result"
    }
   ],
   "source": [
    "one_file.columns"
   ]
  },
  {
   "cell_type": "code",
   "execution_count": 96,
   "metadata": {},
   "outputs": [],
   "source": [
    "one_file['prod_title_comp'] = one_file.get(\"new_product_title\").apply(only_compound)\n",
    "one_file['rev_title_comp'] = one_file.get(\"new_review_headline\").apply(only_compound)\n",
    "one_file['help_prop'] = one_file.get(\"helpful_votes\") / one_file.get(\"total_votes\")"
   ]
  },
  {
   "cell_type": "code",
   "execution_count": 97,
   "metadata": {},
   "outputs": [],
   "source": [
    "# Helper function for id'ing the review body sentiments into -1, 0, 1 depending on majority sentiment\n",
    "def id_for_dictionary(dic):\n",
    "    if len(dic) == 4:\n",
    "        ind = list(dic.values()).index(max(list(dic.values())[0:-1])) #remove the compound\n",
    "    else:\n",
    "        ind = list(dic.values()).index(max(list(dic.values())))\n",
    "    \n",
    "    # If at idx 1, neutral sent\n",
    "    if ind == 1:\n",
    "        return 0\n",
    "    # If at idx 0, negative sent\n",
    "    elif ind == 0:\n",
    "        return -1\n",
    "    else:\n",
    "        return 1"
   ]
  },
  {
   "cell_type": "code",
   "execution_count": 98,
   "metadata": {},
   "outputs": [],
   "source": [
    "# Helper function for id'ing the helper vote proportion\n",
    "def id_for_prop(prop):\n",
    "    if prop < 0.45:\n",
    "        return -1\n",
    "    elif prop > 0.55:\n",
    "        return 1\n",
    "    else:\n",
    "        return 0"
   ]
  },
  {
   "cell_type": "code",
   "execution_count": 99,
   "metadata": {},
   "outputs": [
    {
     "data": {
      "text/html": [
       "<div>\n",
       "<style scoped>\n",
       "    .dataframe tbody tr th:only-of-type {\n",
       "        vertical-align: middle;\n",
       "    }\n",
       "\n",
       "    .dataframe tbody tr th {\n",
       "        vertical-align: top;\n",
       "    }\n",
       "\n",
       "    .dataframe thead th {\n",
       "        text-align: right;\n",
       "    }\n",
       "</style>\n",
       "<table border=\"1\" class=\"dataframe\">\n",
       "  <thead>\n",
       "    <tr style=\"text-align: right;\">\n",
       "      <th></th>\n",
       "      <th>marketplace</th>\n",
       "      <th>customer_id</th>\n",
       "      <th>review_id</th>\n",
       "      <th>product_id</th>\n",
       "      <th>product_parent</th>\n",
       "      <th>product_title</th>\n",
       "      <th>product_category</th>\n",
       "      <th>star_rating</th>\n",
       "      <th>helpful_votes</th>\n",
       "      <th>total_votes</th>\n",
       "      <th>vine</th>\n",
       "      <th>verified_purchase</th>\n",
       "      <th>review_headline</th>\n",
       "      <th>review_body</th>\n",
       "      <th>review_date</th>\n",
       "      <th>new_review_body</th>\n",
       "      <th>new_review_headline</th>\n",
       "      <th>new_product_title</th>\n",
       "      <th>neg_prop</th>\n",
       "      <th>neu_prop</th>\n",
       "      <th>pos_prop</th>\n",
       "      <th>compound_prop</th>\n",
       "      <th>prod_title_comp</th>\n",
       "      <th>rev_title_comp</th>\n",
       "      <th>help_prop</th>\n",
       "      <th>rev_bod_id</th>\n",
       "      <th>help_prop_id</th>\n",
       "    </tr>\n",
       "  </thead>\n",
       "  <tbody>\n",
       "    <tr>\n",
       "      <th>1122710</th>\n",
       "      <td>US</td>\n",
       "      <td>32670331</td>\n",
       "      <td>R2XCHH5BG4HPDV</td>\n",
       "      <td>B00291F4RM</td>\n",
       "      <td>616126032</td>\n",
       "      <td>Steren 3 feet 2.5mm Male To 2.5mm Male - Stereo</td>\n",
       "      <td>Electronics</td>\n",
       "      <td>5</td>\n",
       "      <td>1</td>\n",
       "      <td>1</td>\n",
       "      <td>N</td>\n",
       "      <td>Y</td>\n",
       "      <td>Awesome!</td>\n",
       "      <td>Works perfectly connecting my Turtle Beach X41 headset to my Xbox One controller adapter.</td>\n",
       "      <td>2014-09-11</td>\n",
       "      <td>work perfectly connecting turtle beach x headset xbox one controller adapter</td>\n",
       "      <td>awesome</td>\n",
       "      <td>steren foot mm male mm male stereo</td>\n",
       "      <td>0.000</td>\n",
       "      <td>0.704</td>\n",
       "      <td>0.296</td>\n",
       "      <td>0.6369</td>\n",
       "      <td>0.0000</td>\n",
       "      <td>0.6249</td>\n",
       "      <td>1.0</td>\n",
       "      <td>0</td>\n",
       "      <td>1</td>\n",
       "    </tr>\n",
       "    <tr>\n",
       "      <th>857571</th>\n",
       "      <td>US</td>\n",
       "      <td>11668644</td>\n",
       "      <td>R1TOP3JR17TU14</td>\n",
       "      <td>B00B9AB26G</td>\n",
       "      <td>959531361</td>\n",
       "      <td>iHome Bluetooth Rechargeable Mini Speaker Cube - Green (iBT16QC)</td>\n",
       "      <td>Electronics</td>\n",
       "      <td>5</td>\n",
       "      <td>0</td>\n",
       "      <td>0</td>\n",
       "      <td>N</td>\n",
       "      <td>Y</td>\n",
       "      <td>Great value and perfect for novices!</td>\n",
       "      <td>I got two of these for my mom, who is not technically savvy. One for each of my parents' two homes. I initially showed her how to use it, and off she went! She was having fun with Pandora all day.&lt;br /&gt;&lt;br /&gt;My mom likes to listen to music when she cleans and tidys the house up. She likes that she can hear it in another room and the sound is still clear.&lt;br /&gt;&lt;br /&gt;She loves it! What a great value! She's thrilled with the product and I'm happy she's happy. It was money well spent.</td>\n",
       "      <td>2014-12-18</td>\n",
       "      <td>got two mom technically savvy one parent two home initially showed use it went fun pandora day mom like listen music clean tidy house up like hear another room sound still clear love it great value thrilled product im happy happy money well spent</td>\n",
       "      <td>great value perfect novice</td>\n",
       "      <td>ihome bluetooth rechargeable mini speaker cube green ibtqc</td>\n",
       "      <td>0.000</td>\n",
       "      <td>0.466</td>\n",
       "      <td>0.534</td>\n",
       "      <td>0.9879</td>\n",
       "      <td>0.0000</td>\n",
       "      <td>0.8807</td>\n",
       "      <td>NaN</td>\n",
       "      <td>1</td>\n",
       "      <td>0</td>\n",
       "    </tr>\n",
       "    <tr>\n",
       "      <th>2565477</th>\n",
       "      <td>US</td>\n",
       "      <td>19361542</td>\n",
       "      <td>R210AJI2MGVUA9</td>\n",
       "      <td>B004YI3LGY</td>\n",
       "      <td>55021312</td>\n",
       "      <td>Logitech Ultimate Ears 350 Noise-Isolating Earphones</td>\n",
       "      <td>Electronics</td>\n",
       "      <td>4</td>\n",
       "      <td>0</td>\n",
       "      <td>0</td>\n",
       "      <td>N</td>\n",
       "      <td>N</td>\n",
       "      <td>Mels thoughts</td>\n",
       "      <td>[[ASIN:B004YI3LGY Logitech Ultimate Ears 350vi Noise-Isolating Headset (Silver)]]   Being hard of hearing, I thought the sound was great. Unfortunately I do not have a smart phone and the buds wont fit my Kyocera Vera phone. They do fit my Panasonic portable CD player except the remote does not work but the remote that came with the player works. I wish the new buds did. Also one suggestionn, the remote for the new buds could be a about 4\\\\\" further away from the earphones so that you coudl see what you are adjusting. I still will use the new buds since I like the sound.    Mel G</td>\n",
       "      <td>2011-07-12</td>\n",
       "      <td>asinbyilgy logitech ultimate ear vi noiseisolating headset silver hard hearing thought sound great unfortunately smart phone bud wont fit kyocera vera phone fit panasonic portable cd player except remote work remote came player work wish new bud did also one suggestionn remote new bud could away earphone coudl see adjusting still use new bud since like sound mel g</td>\n",
       "      <td>mels thought</td>\n",
       "      <td>logitech ultimate ear noiseisolating earphone</td>\n",
       "      <td>0.083</td>\n",
       "      <td>0.714</td>\n",
       "      <td>0.203</td>\n",
       "      <td>0.8621</td>\n",
       "      <td>0.0000</td>\n",
       "      <td>0.0000</td>\n",
       "      <td>NaN</td>\n",
       "      <td>0</td>\n",
       "      <td>0</td>\n",
       "    </tr>\n",
       "    <tr>\n",
       "      <th>1031804</th>\n",
       "      <td>US</td>\n",
       "      <td>18172969</td>\n",
       "      <td>RI7ZVWJEXV38S</td>\n",
       "      <td>B0015RB75Y</td>\n",
       "      <td>591072935</td>\n",
       "      <td>Case Logic EVA Molded CD/DVD Case</td>\n",
       "      <td>Electronics</td>\n",
       "      <td>4</td>\n",
       "      <td>0</td>\n",
       "      <td>0</td>\n",
       "      <td>N</td>\n",
       "      <td>Y</td>\n",
       "      <td>Blue CD case</td>\n",
       "      <td>Got this bright idea of separating CDs that I carry in my car into categories so need several cases.</td>\n",
       "      <td>2014-10-16</td>\n",
       "      <td>got ight idea separating cd carry car category need several case</td>\n",
       "      <td>blue cd case</td>\n",
       "      <td>case logic eva molded cddvd case</td>\n",
       "      <td>0.000</td>\n",
       "      <td>1.000</td>\n",
       "      <td>0.000</td>\n",
       "      <td>0.0000</td>\n",
       "      <td>0.0000</td>\n",
       "      <td>0.0000</td>\n",
       "      <td>NaN</td>\n",
       "      <td>0</td>\n",
       "      <td>0</td>\n",
       "    </tr>\n",
       "    <tr>\n",
       "      <th>825042</th>\n",
       "      <td>US</td>\n",
       "      <td>47163841</td>\n",
       "      <td>R1JCGL7B7VDPKQ</td>\n",
       "      <td>B003CJTR82</td>\n",
       "      <td>41165686</td>\n",
       "      <td>Philips SHS3200WT/37 Flexible Earhook Headphones White</td>\n",
       "      <td>Electronics</td>\n",
       "      <td>5</td>\n",
       "      <td>0</td>\n",
       "      <td>0</td>\n",
       "      <td>N</td>\n",
       "      <td>Y</td>\n",
       "      <td>Low cost and relatively durable</td>\n",
       "      <td>These are my favorite headphones.  I've bought multiple sets for the car, work, exercise, home.  Inexpensive, fit well and stay in place comfortably...and good sound!</td>\n",
       "      <td>2014-12-28</td>\n",
       "      <td>favorite headphone ive bought multiple set car work exercise home inexpensive fit well stay place comfortablyand good sound</td>\n",
       "      <td>low cost relatively durable</td>\n",
       "      <td>philip shswt flexible earhook headphone white</td>\n",
       "      <td>0.000</td>\n",
       "      <td>0.571</td>\n",
       "      <td>0.429</td>\n",
       "      <td>0.8591</td>\n",
       "      <td>0.2263</td>\n",
       "      <td>-0.2732</td>\n",
       "      <td>NaN</td>\n",
       "      <td>0</td>\n",
       "      <td>0</td>\n",
       "    </tr>\n",
       "  </tbody>\n",
       "</table>\n",
       "</div>"
      ],
      "text/plain": [
       "        marketplace customer_id       review_id  product_id product_parent  \\\n",
       "1122710          US    32670331  R2XCHH5BG4HPDV  B00291F4RM      616126032   \n",
       "857571           US    11668644  R1TOP3JR17TU14  B00B9AB26G      959531361   \n",
       "2565477          US    19361542  R210AJI2MGVUA9  B004YI3LGY       55021312   \n",
       "1031804          US    18172969   RI7ZVWJEXV38S  B0015RB75Y      591072935   \n",
       "825042           US    47163841  R1JCGL7B7VDPKQ  B003CJTR82       41165686   \n",
       "\n",
       "                                                            product_title  \\\n",
       "1122710                   Steren 3 feet 2.5mm Male To 2.5mm Male - Stereo   \n",
       "857571   iHome Bluetooth Rechargeable Mini Speaker Cube - Green (iBT16QC)   \n",
       "2565477              Logitech Ultimate Ears 350 Noise-Isolating Earphones   \n",
       "1031804                                 Case Logic EVA Molded CD/DVD Case   \n",
       "825042             Philips SHS3200WT/37 Flexible Earhook Headphones White   \n",
       "\n",
       "        product_category  star_rating  helpful_votes  total_votes vine  \\\n",
       "1122710      Electronics            5              1            1    N   \n",
       "857571       Electronics            5              0            0    N   \n",
       "2565477      Electronics            4              0            0    N   \n",
       "1031804      Electronics            4              0            0    N   \n",
       "825042       Electronics            5              0            0    N   \n",
       "\n",
       "        verified_purchase                       review_headline  \\\n",
       "1122710                 Y                              Awesome!   \n",
       "857571                  Y  Great value and perfect for novices!   \n",
       "2565477                 N                         Mels thoughts   \n",
       "1031804                 Y                          Blue CD case   \n",
       "825042                  Y       Low cost and relatively durable   \n",
       "\n",
       "                                                                                                                                                                                                                                                                                                                                                                                                                                                                                                                                                                                                        review_body  \\\n",
       "1122710                                                                                                                                                                                                                                                                                                                                                                                                                                                                                                                   Works perfectly connecting my Turtle Beach X41 headset to my Xbox One controller adapter.   \n",
       "857571                                                                                                        I got two of these for my mom, who is not technically savvy. One for each of my parents' two homes. I initially showed her how to use it, and off she went! She was having fun with Pandora all day.<br /><br />My mom likes to listen to music when she cleans and tidys the house up. She likes that she can hear it in another room and the sound is still clear.<br /><br />She loves it! What a great value! She's thrilled with the product and I'm happy she's happy. It was money well spent.   \n",
       "2565477  [[ASIN:B004YI3LGY Logitech Ultimate Ears 350vi Noise-Isolating Headset (Silver)]]   Being hard of hearing, I thought the sound was great. Unfortunately I do not have a smart phone and the buds wont fit my Kyocera Vera phone. They do fit my Panasonic portable CD player except the remote does not work but the remote that came with the player works. I wish the new buds did. Also one suggestionn, the remote for the new buds could be a about 4\\\\\" further away from the earphones so that you coudl see what you are adjusting. I still will use the new buds since I like the sound.    Mel G   \n",
       "1031804                                                                                                                                                                                                                                                                                                                                                                                                                                                                                                        Got this bright idea of separating CDs that I carry in my car into categories so need several cases.   \n",
       "825042                                                                                                                                                                                                                                                                                                                                                                                                                                       These are my favorite headphones.  I've bought multiple sets for the car, work, exercise, home.  Inexpensive, fit well and stay in place comfortably...and good sound!   \n",
       "\n",
       "        review_date  \\\n",
       "1122710  2014-09-11   \n",
       "857571   2014-12-18   \n",
       "2565477  2011-07-12   \n",
       "1031804  2014-10-16   \n",
       "825042   2014-12-28   \n",
       "\n",
       "                                                                                                                                                                                                                                                                                                                                                                        new_review_body  \\\n",
       "1122710                                                                                                                                                                                                                                                                                                    work perfectly connecting turtle beach x headset xbox one controller adapter   \n",
       "857571                                                                                                                           got two mom technically savvy one parent two home initially showed use it went fun pandora day mom like listen music clean tidy house up like hear another room sound still clear love it great value thrilled product im happy happy money well spent   \n",
       "2565477  asinbyilgy logitech ultimate ear vi noiseisolating headset silver hard hearing thought sound great unfortunately smart phone bud wont fit kyocera vera phone fit panasonic portable cd player except remote work remote came player work wish new bud did also one suggestionn remote new bud could away earphone coudl see adjusting still use new bud since like sound mel g   \n",
       "1031804                                                                                                                                                                                                                                                                                                                got ight idea separating cd carry car category need several case   \n",
       "825042                                                                                                                                                                                                                                                      favorite headphone ive bought multiple set car work exercise home inexpensive fit well stay place comfortablyand good sound   \n",
       "\n",
       "                 new_review_headline  \\\n",
       "1122710                      awesome   \n",
       "857571    great value perfect novice   \n",
       "2565477                 mels thought   \n",
       "1031804                 blue cd case   \n",
       "825042   low cost relatively durable   \n",
       "\n",
       "                                                  new_product_title  neg_prop  \\\n",
       "1122710                          steren foot mm male mm male stereo     0.000   \n",
       "857571   ihome bluetooth rechargeable mini speaker cube green ibtqc     0.000   \n",
       "2565477               logitech ultimate ear noiseisolating earphone     0.083   \n",
       "1031804                            case logic eva molded cddvd case     0.000   \n",
       "825042                philip shswt flexible earhook headphone white     0.000   \n",
       "\n",
       "         neu_prop  pos_prop  compound_prop  prod_title_comp  rev_title_comp  \\\n",
       "1122710     0.704     0.296         0.6369           0.0000          0.6249   \n",
       "857571      0.466     0.534         0.9879           0.0000          0.8807   \n",
       "2565477     0.714     0.203         0.8621           0.0000          0.0000   \n",
       "1031804     1.000     0.000         0.0000           0.0000          0.0000   \n",
       "825042      0.571     0.429         0.8591           0.2263         -0.2732   \n",
       "\n",
       "         help_prop  rev_bod_id  help_prop_id  \n",
       "1122710        1.0           0             1  \n",
       "857571         NaN           1             0  \n",
       "2565477        NaN           0             0  \n",
       "1031804        NaN           0             0  \n",
       "825042         NaN           0             0  "
      ]
     },
     "execution_count": 99,
     "metadata": {},
     "output_type": "execute_result"
    }
   ],
   "source": [
    "one_file['rev_bod_id'] = sentiment_dicts.apply(id_for_dictionary)\n",
    "one_file['help_prop_id'] = one_file.get(\"help_prop\").apply(id_for_prop)\n",
    "one_file.head()"
   ]
  },
  {
   "cell_type": "code",
   "execution_count": 100,
   "metadata": {},
   "outputs": [
    {
     "data": {
      "text/plain": [
       "verified_purchase     object\n",
       "prod_title_comp      float64\n",
       "star_rating            int64\n",
       "rev_title_comp       float64\n",
       "rev_bod_id             int64\n",
       "help_prop_id           int64\n",
       "dtype: object"
      ]
     },
     "execution_count": 100,
     "metadata": {},
     "output_type": "execute_result"
    }
   ],
   "source": [
    "imp_col = one_file[['verified_purchase', 'prod_title_comp', 'star_rating', 'rev_title_comp', 'rev_bod_id', 'help_prop_id']]\n",
    "imp_col.dtypes"
   ]
  },
  {
   "cell_type": "code",
   "execution_count": 101,
   "metadata": {},
   "outputs": [],
   "source": [
    "X = imp_col.iloc[:, [1,2,3,4,5]].values #only taking in the categories that will be used as a dataframe\n",
    "y = imp_col.iloc[:, 0].values"
   ]
  },
  {
   "cell_type": "code",
   "execution_count": 102,
   "metadata": {},
   "outputs": [
    {
     "data": {
      "text/plain": [
       "array([[0.    , 5.    , 0.6249, 0.    , 1.    ],\n",
       "       [0.    , 5.    , 0.8807, 1.    , 0.    ],\n",
       "       [0.    , 4.    , 0.    , 0.    , 0.    ],\n",
       "       ...,\n",
       "       [0.4588, 5.    , 0.    , 1.    , 0.    ],\n",
       "       [0.4404, 5.    , 0.6249, 1.    , 0.    ],\n",
       "       [0.4019, 5.    , 0.    , 1.    , 0.    ]])"
      ]
     },
     "execution_count": 102,
     "metadata": {},
     "output_type": "execute_result"
    }
   ],
   "source": [
    "X"
   ]
  },
  {
   "cell_type": "code",
   "execution_count": 103,
   "metadata": {},
   "outputs": [],
   "source": [
    "from sklearn.model_selection import train_test_split\n",
    "X_train, X_test, y_train, y_test = train_test_split(X, y, test_size = 0.20, random_state = 0)"
   ]
  },
  {
   "cell_type": "code",
   "execution_count": 104,
   "metadata": {},
   "outputs": [],
   "source": [
    "# Next, we are doing feature scaling to the training and test set of independent variables for reducing the size to smaller values\n",
    "from sklearn.preprocessing import StandardScaler\n",
    "sc = StandardScaler()\n",
    "X_train = sc.fit_transform(X_train)\n",
    "X_test = sc.transform(X_test)"
   ]
  },
  {
   "cell_type": "code",
   "execution_count": 105,
   "metadata": {},
   "outputs": [
    {
     "data": {
      "text/plain": [
       "KNeighborsClassifier(algorithm='auto', leaf_size=30, metric='euclidean',\n",
       "                     metric_params=None, n_jobs=None, n_neighbors=20, p=1,\n",
       "                     weights='uniform')"
      ]
     },
     "execution_count": 105,
     "metadata": {},
     "output_type": "execute_result"
    }
   ],
   "source": [
    "from sklearn.neighbors import KNeighborsClassifier\n",
    "\n",
    "#we are using \n",
    "#5 neighborhood points are required for classifying a given point -- distance metric is using the minkonowski equation\n",
    "knn_classifier = KNeighborsClassifier(n_neighbors = 20, metric = 'euclidean', p = 1)\n",
    "knn_classifier.fit(X_train, y_train)"
   ]
  },
  {
   "cell_type": "code",
   "execution_count": 106,
   "metadata": {},
   "outputs": [],
   "source": [
    "y_pred = knn_classifier.predict(X_test)"
   ]
  },
  {
   "cell_type": "code",
   "execution_count": 107,
   "metadata": {},
   "outputs": [],
   "source": [
    "#We can evaluate our model using the confusion matrix and accuracy score by comparing the predicted and actual test values\n",
    "\n",
    "from sklearn.metrics import confusion_matrix,accuracy_score\n",
    "cm = confusion_matrix(y_test, y_pred)\n",
    "ac = accuracy_score(y_test,y_pred)"
   ]
  },
  {
   "cell_type": "code",
   "execution_count": 108,
   "metadata": {},
   "outputs": [
    {
     "name": "stdout",
     "output_type": "stream",
     "text": [
      "[[  245  6219]\n",
      " [  523 33010]]\n",
      "0.8314373578018351\n"
     ]
    }
   ],
   "source": [
    "print(cm)\n",
    "print(ac)"
   ]
  },
  {
   "cell_type": "code",
   "execution_count": null,
   "metadata": {},
   "outputs": [],
   "source": [
    "\n",
    "print(cm)\n",
    "\n",
    "print(ac)\n",
    "\n",
    "#Can see the model performance and add more features accordingly -- \n",
    "#would be good if the performance is greater than 85%\n",
    "\n",
    "### Test on a product review - Need to write a *function* for this for taking in the user input\n",
    "\n",
    "The features that we are looking at!\n",
    "* 'prod_title_comp', \n",
    "* 'star_rating', \n",
    "* 'rev_title_comp', \n",
    "* 'rev_bod_id', \n",
    "* 'help_prop_id'\n",
    "\n",
    "review_body = \"this is a good review\"\n",
    "product_title = \"Sony Headphones\"\n",
    "review_title = 'Love the product!'\n",
    "\n",
    "star_rating = 5\n",
    "helpful_votes = 1\n",
    "total_votes = 1\n",
    "\n",
    "test = pd.DataFrame()\n",
    "test['review_body'] = np.array([review_body])\n",
    "test['review_title'] = np.array([review_title])\n",
    "test['product_title'] = np.array([product_title])\n",
    "test\n",
    "\n",
    "out = df_cleaning(test, 'review_body')\n",
    "out = df_cleaning(out, 'review_title')\n",
    "out = df_cleaning(out, 'product_title')\n",
    "out\n",
    "\n",
    "out['review_body'][0]\n",
    "\n",
    "def get_sentiment_proportions(review):\n",
    "    \"\"\"\n",
    "    create new dataframe with just the proportions for each review\n",
    "    four columns\n",
    "    neg_prop, pos_prop, neu_prop, compound_prop and will contain these values\n",
    "    obtained from the vator sentiment algorithm\n",
    "    \"\"\"\n",
    "    snt = analyser.polarity_scores(review)\n",
    "    #print(f\"{sentence} {str(snt)}\")\n",
    "    neg = snt['neg']\n",
    "    neu = snt['neu']\n",
    "    pos = snt['pos']\n",
    "    #compound = snt['compound']\n",
    "    return neg, neu, pos\n",
    "\n",
    "neg, neu, pos = get_sentiment_proportions(out.get(\"new_review_body\").iloc[0])\n",
    "\n",
    "product_category = convert_to_id(product_category)\n",
    "product_title = only_compound(product_title)\n",
    "rev_title = only_compound(review_title)\n",
    "\n",
    "rev_bod_id = id_for_dictionary(analyser.polarity_scores(out['new_review_body'][0]))\n",
    "help_prop_id = id_for_prop(helpful_votes / total_votes)\n",
    "prod_title_comp = only_compound(out['new_review_title'][0])\n",
    "rev_title_comp = only_compound(out['new_product_title'][0])\n",
    "\n",
    "Predicted: 'verified_purchase'\n",
    "\n",
    "User Input: 'prod_title_comp', 'product_category_convert', 'star_rating', 'helpful_votes', 'total_votes', 'neg_prop', 'neu_prop', 'pos_prop'\n",
    "- 8 fields\n",
    "\n",
    "rev_input_test = np.array([[prod_title_comp, star_rating, rev_title_comp, rev_bod_id, help_prop_id]])\n",
    "rev_input_test\n",
    "\n",
    "prediction, probabilities = knn_classifier.predict(rev_input_test), knn_classifier.predict_proba(rev_input_test)[0]\n",
    "\n",
    "prediction\n",
    "\n",
    "probabilities\n",
    "\n",
    "classifier?\n",
    "\n",
    "def interpret_prediction(review, pred, proba):\n",
    "    proba = [round(proba[0], 3), round(proba[1], 3)]\n",
    "    if prediction[0] == 'Y':\n",
    "        print(f'\"{review}\" is predicted to be a VERIFIED review, with {proba[1]*100}% probability of being VERIFIED and {proba[0]*100}% probability of being UNVERIFIED')\n",
    "    if prediction[0] == 'N':\n",
    "        print(f'\"{review}\" is predicted to be an UNVERIFIED review, with {proba[0]*100}% probability of being UNVERIFIED and {proba[1]*100}% probability of being VERIFIED')\n",
    "        \n",
    "interpret_prediction(review_test, prediction, probabilities)\n",
    "\n",
    "from joblib import dump, load\n",
    "\n",
    "knn_classifier\n",
    "\n",
    "name = 'knn_working_model.joblib'\n",
    "path = 'KNNModelFiles/'\n",
    "dump(knn_classifier, path+name)\n",
    "\n",
    "knn_classifier = load(path+name)\n",
    "\n"
   ]
  }
 ],
 "metadata": {
  "kernelspec": {
   "display_name": "Python 3",
   "language": "python",
   "name": "python3"
  },
  "language_info": {
   "codemirror_mode": {
    "name": "ipython",
    "version": 3
   },
   "file_extension": ".py",
   "mimetype": "text/x-python",
   "name": "python",
   "nbconvert_exporter": "python",
   "pygments_lexer": "ipython3",
   "version": "3.7.6"
  }
 },
 "nbformat": 4,
 "nbformat_minor": 4
}
