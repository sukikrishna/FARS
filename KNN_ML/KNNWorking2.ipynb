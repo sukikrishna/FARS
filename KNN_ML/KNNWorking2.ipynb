{
 "cells": [
  {
   "cell_type": "code",
   "execution_count": 1,
   "id": "0d7b80b9",
   "metadata": {},
   "outputs": [],
   "source": [
    "# import libraries\n",
    "\n",
    "'''\n",
    "import boto3, re, sys, math, json, os, sagemaker, urllib.request\n",
    "from sagemaker import get_execution_role\n",
    "from IPython.display import Image\n",
    "from IPython.display import display\n",
    "from time import gmtime, strftime\n",
    "from sagemaker.predictor import csv_serializer\n",
    "'''\n",
    "\n",
    "import numpy as np\n",
    "import pandas as pd\n",
    "\n",
    "import seaborn as sns\n",
    "import matplotlib.pyplot as plt\n",
    "\n",
    "# These are all the imports needed for the assignment\n",
    "%matplotlib inline\n",
    "\n",
    "# Import nltk package (Natural Language Toolkit)\n",
    "import nltk\n",
    "from nltk.tokenize import word_tokenize\n",
    "from nltk.corpus import stopwords\n",
    "\n",
    "import warnings\n",
    "warnings.filterwarnings('ignore')\n",
    "\n",
    "# scikit-learn imports\n",
    "from sklearn.model_selection import train_test_split\n",
    "from sklearn.svm import SVC\n",
    "from sklearn.feature_extraction.text import CountVectorizer, TfidfVectorizer\n",
    "from sklearn.metrics import classification_report, precision_recall_fscore_support"
   ]
  },
  {
   "cell_type": "code",
   "execution_count": 2,
   "id": "f56c9e1e",
   "metadata": {},
   "outputs": [],
   "source": [
    "import pyspark"
   ]
  },
  {
   "cell_type": "code",
   "execution_count": 3,
   "id": "583bbdac",
   "metadata": {},
   "outputs": [],
   "source": [
    "import dask.dataframe as dd"
   ]
  },
  {
   "cell_type": "code",
   "execution_count": 4,
   "id": "c9e033a3",
   "metadata": {},
   "outputs": [
    {
     "name": "stderr",
     "output_type": "stream",
     "text": [
      "[nltk_data] Downloading package punkt to\n",
      "[nltk_data]     C:\\Users\\sukan\\AppData\\Roaming\\nltk_data...\n",
      "[nltk_data]   Package punkt is already up-to-date!\n",
      "[nltk_data] Downloading package stopwords to\n",
      "[nltk_data]     C:\\Users\\sukan\\AppData\\Roaming\\nltk_data...\n",
      "[nltk_data]   Package stopwords is already up-to-date!\n"
     ]
    },
    {
     "data": {
      "text/plain": [
       "True"
      ]
     },
     "execution_count": 4,
     "metadata": {},
     "output_type": "execute_result"
    }
   ],
   "source": [
    "# Download the NLTK English tokenizer and the stopwords of all languages\n",
    "nltk.download('punkt')\n",
    "nltk.download('stopwords')"
   ]
  },
  {
   "cell_type": "code",
   "execution_count": 5,
   "id": "186de7ec",
   "metadata": {},
   "outputs": [],
   "source": [
    "files = ['amazon_reviews_us_Electronics_v1_00.tsv', \\\n",
    "         'amazon_reviews_us_Gift_Card_v1_00.tsv', \\\n",
    "         'amazon_reviews_us_Major_Appliances_v1_00.tsv', \\\n",
    "         'amazon_reviews_us_Office_Products_v1_00.tsv', \\\n",
    "         'amazon_reviews_us_Shoes_v1_00.tsv', \\\n",
    "         'amazon_reviews_us_Toys_v1_00.tsv', \\\n",
    "         'amazon_reviews_us_Watches_v1_00.tsv']"
   ]
  },
  {
   "cell_type": "code",
   "execution_count": 6,
   "id": "b562d96c",
   "metadata": {},
   "outputs": [],
   "source": [
    "pd.set_option('display.max_columns', None)\n",
    "pd.set_option('display.max_rows', None)\n",
    "pd.set_option('display.max_colwidth', None)"
   ]
  },
  {
   "cell_type": "code",
   "execution_count": 7,
   "id": "5ce5bd35",
   "metadata": {},
   "outputs": [
    {
     "name": "stdout",
     "output_type": "stream",
     "text": [
      "(1440997, 15)\n"
     ]
    }
   ],
   "source": [
    "columns = ['marketplace', 'customer_id', 'review_id', 'product_id', 'product_parent', 'product_title', 'product_category', \\\n",
    "           'star_rating', 'helpful_votes', 'total_votes', 'vine', 'verified_purchase', 'review_headline', 'review_body', 'review_date']\n",
    "elec_df = pd.read_csv('fars_data/' + files[0], names = columns, sep = '\\t').iloc[1:,:]\n",
    "print(elec_df.shape)"
   ]
  },
  {
   "cell_type": "code",
   "execution_count": 8,
   "id": "07a09a60",
   "metadata": {},
   "outputs": [],
   "source": [
    "elec_df = elec_df.sample(n = 500000)"
   ]
  },
  {
   "cell_type": "markdown",
   "id": "bed5d9a6",
   "metadata": {},
   "source": [
    "columns = ['marketplace', 'customer_id', 'review_id', 'product_id', 'product_parent', 'product_title', 'product_category', 'star_rating', 'helpful_votes', 'total_votes', 'vine', 'verified_purchase', 'review_headline', 'review_body', 'review_date']\n",
    "len(columns)"
   ]
  },
  {
   "cell_type": "markdown",
   "id": "82161029",
   "metadata": {},
   "source": [
    "one_file = pd.read_csv('fars_data/' + files[0], names = columns, sep = '\\t').iloc[1:,:]\n",
    "one_file.head()"
   ]
  },
  {
   "cell_type": "markdown",
   "id": "28f3dfe8",
   "metadata": {},
   "source": [
    "one_file.shape[0]+1"
   ]
  },
  {
   "cell_type": "code",
   "execution_count": 9,
   "id": "ccc88e07",
   "metadata": {},
   "outputs": [],
   "source": [
    "one_file = elec_df"
   ]
  },
  {
   "cell_type": "code",
   "execution_count": 10,
   "id": "eea30942",
   "metadata": {},
   "outputs": [],
   "source": [
    "def df_sampling(df):\n",
    "    # Since we know that there are more unverified than verified --> we sample based on that\n",
    "    \n",
    "    # Since there are no data values in 'verified_purchase' columns that deviate from 'Y' or 'N' we proceed\n",
    "    verified_count_df = df[df['verified_purchase'] == 'Y']\n",
    "    unverified_count_df = df[df['verified_purchase'] == 'N']\n",
    "    \n",
    "    print(\"Number of verified purchases:\", len(verified_count_df))\n",
    "    print(\"Number of unverified purchases:\", len(unverified_count_df))\n",
    "    \n",
    "    sample_len = len(unverified_count_df)\n",
    "    \n",
    "    verified_sample_df = verified_count_df.sample(n = sample_len)\n",
    "    unified_df = pd.concat([unverified_count_df, verified_sample_df])\n",
    "    \n",
    "    print(\"Number of verified purchases (balanced dataset):\", len(unified_df[unified_df['verified_purchase'] == 'Y']))\n",
    "    print(\"Number of unverified purchases (balanced dataset):\", len(unified_df[unified_df['verified_purchase'] == 'N']))\n",
    "    \n",
    "    return unified_df"
   ]
  },
  {
   "cell_type": "markdown",
   "id": "b256e18c",
   "metadata": {},
   "source": [
    "#test.rename(columns=test.iloc[0])\n",
    "training_data = pd.DataFrame() #initialize an empty dataframe\n",
    "testing_data = pd.DataFrame()\n",
    "\n",
    "one_file = pd.read_csv(data_location + files[1], names = columns, sep = '\\t').iloc[1:,:]"
   ]
  },
  {
   "cell_type": "code",
   "execution_count": 11,
   "id": "2daff1f2",
   "metadata": {},
   "outputs": [
    {
     "data": {
      "text/plain": [
       "(500000, 15)"
      ]
     },
     "execution_count": 11,
     "metadata": {},
     "output_type": "execute_result"
    }
   ],
   "source": [
    "one_file.shape"
   ]
  },
  {
   "cell_type": "code",
   "execution_count": 12,
   "id": "d65d6c41",
   "metadata": {},
   "outputs": [
    {
     "name": "stdout",
     "output_type": "stream",
     "text": [
      "Number of verified purchases: 451717\n",
      "Number of unverified purchases: 48283\n",
      "Number of verified purchases (balanced dataset): 48283\n",
      "Number of unverified purchases (balanced dataset): 48283\n"
     ]
    },
    {
     "data": {
      "text/html": [
       "<div>\n",
       "<style scoped>\n",
       "    .dataframe tbody tr th:only-of-type {\n",
       "        vertical-align: middle;\n",
       "    }\n",
       "\n",
       "    .dataframe tbody tr th {\n",
       "        vertical-align: top;\n",
       "    }\n",
       "\n",
       "    .dataframe thead th {\n",
       "        text-align: right;\n",
       "    }\n",
       "</style>\n",
       "<table border=\"1\" class=\"dataframe\">\n",
       "  <thead>\n",
       "    <tr style=\"text-align: right;\">\n",
       "      <th></th>\n",
       "      <th>marketplace</th>\n",
       "      <th>customer_id</th>\n",
       "      <th>review_id</th>\n",
       "      <th>product_id</th>\n",
       "      <th>product_parent</th>\n",
       "      <th>product_title</th>\n",
       "      <th>product_category</th>\n",
       "      <th>star_rating</th>\n",
       "      <th>helpful_votes</th>\n",
       "      <th>total_votes</th>\n",
       "      <th>vine</th>\n",
       "      <th>verified_purchase</th>\n",
       "      <th>review_headline</th>\n",
       "      <th>review_body</th>\n",
       "      <th>review_date</th>\n",
       "    </tr>\n",
       "  </thead>\n",
       "  <tbody>\n",
       "    <tr>\n",
       "      <th>1172954</th>\n",
       "      <td>US</td>\n",
       "      <td>42880325</td>\n",
       "      <td>R38A1F4H4LXAEI</td>\n",
       "      <td>B0035B4LJM</td>\n",
       "      <td>301580759</td>\n",
       "      <td>Adapter HDMI Female to DVI Male Video Adapter</td>\n",
       "      <td>Electronics</td>\n",
       "      <td>3</td>\n",
       "      <td>0</td>\n",
       "      <td>0</td>\n",
       "      <td>N</td>\n",
       "      <td>N</td>\n",
       "      <td>Three Stars</td>\n",
       "      <td>IT S OKAY</td>\n",
       "      <td>2014-08-22</td>\n",
       "    </tr>\n",
       "    <tr>\n",
       "      <th>261445</th>\n",
       "      <td>US</td>\n",
       "      <td>29275858</td>\n",
       "      <td>RYGONWHK35H3Q</td>\n",
       "      <td>B001TIG36C</td>\n",
       "      <td>329010926</td>\n",
       "      <td>VideoSecu Mounts Tilt TV Wall Mount</td>\n",
       "      <td>Electronics</td>\n",
       "      <td>5</td>\n",
       "      <td>0</td>\n",
       "      <td>0</td>\n",
       "      <td>N</td>\n",
       "      <td>N</td>\n",
       "      <td>Good product</td>\n",
       "      <td>Super like this product. It was easy to install n looks great after mounting my tv.</td>\n",
       "      <td>2015-06-11</td>\n",
       "    </tr>\n",
       "    <tr>\n",
       "      <th>499665</th>\n",
       "      <td>US</td>\n",
       "      <td>50675599</td>\n",
       "      <td>R20N1WIFACWYCN</td>\n",
       "      <td>B00TEIIAZQ</td>\n",
       "      <td>955614152</td>\n",
       "      <td>Sennheiser Sports Earbud Neckband Headset Apple Devices</td>\n",
       "      <td>Electronics</td>\n",
       "      <td>2</td>\n",
       "      <td>0</td>\n",
       "      <td>2</td>\n",
       "      <td>Y</td>\n",
       "      <td>N</td>\n",
       "      <td>I Dare you To Find Better (at this point you can) updated  7/20/15</td>\n",
       "      <td>Finally. We all workout right? These are the first pair of headphones that actually stay put no matter how vigorous one may exercise. The are snug in the ear while not being uncomfortable. As far as sound goes, like another reviewer stated, I have never owned a pair of inexpensive headphones that even come close to sounding as good as these do. The bass and higher notes are even and if you are listening to an audio recording where you want to hear every note this will not disappoint.&lt;br /&gt;&lt;br /&gt;The microphone after making several calls, I have been told I sound crystal clear. Another reviewer stated he had problems with Apple and since I own a Galaxy I can not make comment as to how they perform in the I-World. I also appreciate the color of the cord as it stands out and is easy to find a drawer of black cords. You can not go wrong buying these. 5 Stars with no reservations.&lt;br /&gt;&lt;br /&gt;Right earpiece blew out, followed a few seconds later by the left earpiece.  Was not playing anything at a loud level, heard a pop and in the trash they went.  They were great while they lasted, but for 100 bucks I expect more than 3 months of use.  5 stars to 2 stars, the only reason they aren't one is because when they worked they were by far my favorite pair I have ever owned.</td>\n",
       "      <td>2015-03-24</td>\n",
       "    </tr>\n",
       "    <tr>\n",
       "      <th>1219720</th>\n",
       "      <td>US</td>\n",
       "      <td>21830430</td>\n",
       "      <td>R1F7JISVKT6UV1</td>\n",
       "      <td>B003L1ZYYM</td>\n",
       "      <td>617978254</td>\n",
       "      <td>AmazonBasics High-Speed HDMI Cable - 6.5 Feet (2 Meters) Supports Ethernet, 3D, 4K and Audio Return</td>\n",
       "      <td>Electronics</td>\n",
       "      <td>5</td>\n",
       "      <td>0</td>\n",
       "      <td>0</td>\n",
       "      <td>N</td>\n",
       "      <td>N</td>\n",
       "      <td>Good for the price.</td>\n",
       "      <td>Basic cable and works fine.</td>\n",
       "      <td>2014-08-05</td>\n",
       "    </tr>\n",
       "    <tr>\n",
       "      <th>26696</th>\n",
       "      <td>US</td>\n",
       "      <td>16111170</td>\n",
       "      <td>R4TR1HZ6N6R5M</td>\n",
       "      <td>B00C3MNMSU</td>\n",
       "      <td>164127268</td>\n",
       "      <td>Ultralast ULUBC1 Universal Li-Ion/NiCd/NiMh Battery Charger</td>\n",
       "      <td>Electronics</td>\n",
       "      <td>1</td>\n",
       "      <td>0</td>\n",
       "      <td>0</td>\n",
       "      <td>N</td>\n",
       "      <td>N</td>\n",
       "      <td>Bought this locally. It worked all of 2 days ...</td>\n",
       "      <td>Bought this locally.  It worked all of 2 days before it stopped charging the batteries.</td>\n",
       "      <td>2015-08-23</td>\n",
       "    </tr>\n",
       "  </tbody>\n",
       "</table>\n",
       "</div>"
      ],
      "text/plain": [
       "        marketplace  customer_id       review_id  product_id  product_parent  \\\n",
       "1172954          US     42880325  R38A1F4H4LXAEI  B0035B4LJM       301580759   \n",
       "261445           US     29275858   RYGONWHK35H3Q  B001TIG36C       329010926   \n",
       "499665           US     50675599  R20N1WIFACWYCN  B00TEIIAZQ       955614152   \n",
       "1219720          US     21830430  R1F7JISVKT6UV1  B003L1ZYYM       617978254   \n",
       "26696            US     16111170   R4TR1HZ6N6R5M  B00C3MNMSU       164127268   \n",
       "\n",
       "                                                                                               product_title  \\\n",
       "1172954                                                        Adapter HDMI Female to DVI Male Video Adapter   \n",
       "261445                                                                   VideoSecu Mounts Tilt TV Wall Mount   \n",
       "499665                                               Sennheiser Sports Earbud Neckband Headset Apple Devices   \n",
       "1219720  AmazonBasics High-Speed HDMI Cable - 6.5 Feet (2 Meters) Supports Ethernet, 3D, 4K and Audio Return   \n",
       "26696                                            Ultralast ULUBC1 Universal Li-Ion/NiCd/NiMh Battery Charger   \n",
       "\n",
       "        product_category  star_rating  helpful_votes  total_votes vine  \\\n",
       "1172954      Electronics            3              0            0    N   \n",
       "261445       Electronics            5              0            0    N   \n",
       "499665       Electronics            2              0            2    Y   \n",
       "1219720      Electronics            5              0            0    N   \n",
       "26696        Electronics            1              0            0    N   \n",
       "\n",
       "        verified_purchase  \\\n",
       "1172954                 N   \n",
       "261445                  N   \n",
       "499665                  N   \n",
       "1219720                 N   \n",
       "26696                   N   \n",
       "\n",
       "                                                            review_headline  \\\n",
       "1172954                                                         Three Stars   \n",
       "261445                                                         Good product   \n",
       "499665   I Dare you To Find Better (at this point you can) updated  7/20/15   \n",
       "1219720                                                 Good for the price.   \n",
       "26696                      Bought this locally. It worked all of 2 days ...   \n",
       "\n",
       "                                                                                                                                                                                                                                                                                                                                                                                                                                                                                                                                                                                                                                                                                                                                                                                                                                                                                                                                                                                                                                                                                                                                                                                                                                                                                                                               review_body  \\\n",
       "1172954                                                                                                                                                                                                                                                                                                                                                                                                                                                                                                                                                                                                                                                                                                                                                                                                                                                                                                                                                                                                                                                                                                                                                                                                                                                                                                                          IT S OKAY   \n",
       "261445                                                                                                                                                                                                                                                                                                                                                                                                                                                                                                                                                                                                                                                                                                                                                                                                                                                                                                                                                                                                                                                                                                                                                                                                                                                 Super like this product. It was easy to install n looks great after mounting my tv.   \n",
       "499665   Finally. We all workout right? These are the first pair of headphones that actually stay put no matter how vigorous one may exercise. The are snug in the ear while not being uncomfortable. As far as sound goes, like another reviewer stated, I have never owned a pair of inexpensive headphones that even come close to sounding as good as these do. The bass and higher notes are even and if you are listening to an audio recording where you want to hear every note this will not disappoint.<br /><br />The microphone after making several calls, I have been told I sound crystal clear. Another reviewer stated he had problems with Apple and since I own a Galaxy I can not make comment as to how they perform in the I-World. I also appreciate the color of the cord as it stands out and is easy to find a drawer of black cords. You can not go wrong buying these. 5 Stars with no reservations.<br /><br />Right earpiece blew out, followed a few seconds later by the left earpiece.  Was not playing anything at a loud level, heard a pop and in the trash they went.  They were great while they lasted, but for 100 bucks I expect more than 3 months of use.  5 stars to 2 stars, the only reason they aren't one is because when they worked they were by far my favorite pair I have ever owned.   \n",
       "1219720                                                                                                                                                                                                                                                                                                                                                                                                                                                                                                                                                                                                                                                                                                                                                                                                                                                                                                                                                                                                                                                                                                                                                                                                                                                                                                        Basic cable and works fine.   \n",
       "26696                                                                                                                                                                                                                                                                                                                                                                                                                                                                                                                                                                                                                                                                                                                                                                                                                                                                                                                                                                                                                                                                                                                                                                                                                                              Bought this locally.  It worked all of 2 days before it stopped charging the batteries.   \n",
       "\n",
       "        review_date  \n",
       "1172954  2014-08-22  \n",
       "261445   2015-06-11  \n",
       "499665   2015-03-24  \n",
       "1219720  2014-08-05  \n",
       "26696    2015-08-23  "
      ]
     },
     "metadata": {},
     "output_type": "display_data"
    }
   ],
   "source": [
    "balanced_elec = df_sampling(one_file)\n",
    "display(balanced_elec.head())"
   ]
  },
  {
   "cell_type": "code",
   "execution_count": 13,
   "id": "e93e7457",
   "metadata": {},
   "outputs": [],
   "source": [
    "def convert_to_int(x):\n",
    "    return int(float(x))"
   ]
  },
  {
   "cell_type": "code",
   "execution_count": 14,
   "id": "340f059e",
   "metadata": {},
   "outputs": [],
   "source": [
    "#convert all mixed datatypes --> string objects (unable to convert to int)\n",
    "one_file['customer_id'] = one_file['customer_id'].apply(int) #1\n",
    "one_file['product_parent'] = one_file['product_parent'].apply(int) #4\n",
    "one_file['star_rating'] = one_file['star_rating'].apply(int) #7\n",
    "one_file['helpful_votes'] = one_file['helpful_votes'].apply(int) #8\n",
    "one_file['total_votes'] = one_file['total_votes'].apply(int) #9"
   ]
  },
  {
   "cell_type": "markdown",
   "id": "90e818f4",
   "metadata": {},
   "source": [
    "one_file.isnull().sum().sort_values(ascending=False)"
   ]
  },
  {
   "cell_type": "markdown",
   "id": "e6ce4772",
   "metadata": {},
   "source": [
    "one_file.dropna(inplace=True) #drop all of the missing values\n",
    "one_file.isnull().sum().sort_values(ascending=False)"
   ]
  },
  {
   "cell_type": "code",
   "execution_count": 15,
   "id": "86870ec0",
   "metadata": {},
   "outputs": [
    {
     "data": {
      "text/html": [
       "<div>\n",
       "<style scoped>\n",
       "    .dataframe tbody tr th:only-of-type {\n",
       "        vertical-align: middle;\n",
       "    }\n",
       "\n",
       "    .dataframe tbody tr th {\n",
       "        vertical-align: top;\n",
       "    }\n",
       "\n",
       "    .dataframe thead th {\n",
       "        text-align: right;\n",
       "    }\n",
       "</style>\n",
       "<table border=\"1\" class=\"dataframe\">\n",
       "  <thead>\n",
       "    <tr style=\"text-align: right;\">\n",
       "      <th></th>\n",
       "      <th>marketplace</th>\n",
       "      <th>customer_id</th>\n",
       "      <th>review_id</th>\n",
       "      <th>product_id</th>\n",
       "      <th>product_parent</th>\n",
       "      <th>product_title</th>\n",
       "      <th>product_category</th>\n",
       "      <th>star_rating</th>\n",
       "      <th>helpful_votes</th>\n",
       "      <th>total_votes</th>\n",
       "      <th>vine</th>\n",
       "      <th>verified_purchase</th>\n",
       "      <th>review_headline</th>\n",
       "      <th>review_body</th>\n",
       "      <th>review_date</th>\n",
       "    </tr>\n",
       "  </thead>\n",
       "  <tbody>\n",
       "    <tr>\n",
       "      <th>1235505</th>\n",
       "      <td>US</td>\n",
       "      <td>47030502</td>\n",
       "      <td>R3S7DOBICFGI93</td>\n",
       "      <td>B00HCMZ19Y</td>\n",
       "      <td>574974882</td>\n",
       "      <td>SanDisk  Clip Jam MP3 Player</td>\n",
       "      <td>Electronics</td>\n",
       "      <td>5</td>\n",
       "      <td>0</td>\n",
       "      <td>0</td>\n",
       "      <td>N</td>\n",
       "      <td>Y</td>\n",
       "      <td>Five Stars</td>\n",
       "      <td>Espectacualr</td>\n",
       "      <td>2014-07-30</td>\n",
       "    </tr>\n",
       "    <tr>\n",
       "      <th>1026107</th>\n",
       "      <td>US</td>\n",
       "      <td>34165510</td>\n",
       "      <td>R1HZ8C8NS3TH4P</td>\n",
       "      <td>B002MVH7EC</td>\n",
       "      <td>269120324</td>\n",
       "      <td>WKA12-7.5F Sealed Battery Replacement 12V 8ah F2</td>\n",
       "      <td>Electronics</td>\n",
       "      <td>4</td>\n",
       "      <td>0</td>\n",
       "      <td>0</td>\n",
       "      <td>N</td>\n",
       "      <td>Y</td>\n",
       "      <td>Works fine. It was installed several months ago</td>\n",
       "      <td>Works fine.  It was installed several months ago.</td>\n",
       "      <td>2014-10-19</td>\n",
       "    </tr>\n",
       "    <tr>\n",
       "      <th>810438</th>\n",
       "      <td>US</td>\n",
       "      <td>27204588</td>\n",
       "      <td>R136FE83BZEB3N</td>\n",
       "      <td>B00JA9EQMU</td>\n",
       "      <td>966915237</td>\n",
       "      <td>Kocaso HP-500 Headphones, Black</td>\n",
       "      <td>Electronics</td>\n",
       "      <td>5</td>\n",
       "      <td>0</td>\n",
       "      <td>0</td>\n",
       "      <td>N</td>\n",
       "      <td>Y</td>\n",
       "      <td>Wonderful!</td>\n",
       "      <td>Wow! I love them. I took them out as soon as I received it and have not taken them off since. Great sound, excellent definition and I only have it on 3. Nice, clear, deep base without it being distorted. Decided to try it to on Michael Jackson and I hear everything with great clarity. It is also nice that the cords are tangle free and plug in from both ends. The mic works well on my smartphone too!  For the price, it was well worth every penny. Will order a second pair within a few weeks for my son as a gift.</td>\n",
       "      <td>2014-12-31</td>\n",
       "    </tr>\n",
       "    <tr>\n",
       "      <th>77285</th>\n",
       "      <td>US</td>\n",
       "      <td>20165378</td>\n",
       "      <td>R2S44U56RGPXVK</td>\n",
       "      <td>B00000JBRV</td>\n",
       "      <td>624246321</td>\n",
       "      <td>Labtec LVA7330 ClearVoice Head Microphone (Discontinued by Manufacturer)</td>\n",
       "      <td>Electronics</td>\n",
       "      <td>5</td>\n",
       "      <td>0</td>\n",
       "      <td>0</td>\n",
       "      <td>N</td>\n",
       "      <td>Y</td>\n",
       "      <td>Just a microphone, but a good one</td>\n",
       "      <td>My bad for not reading the details, but I thought I was buying a headset with headphones and microphone.  Once I got over this disappointment, i was pleased with the noise-dampening feature.</td>\n",
       "      <td>2015-08-08</td>\n",
       "    </tr>\n",
       "    <tr>\n",
       "      <th>1115085</th>\n",
       "      <td>US</td>\n",
       "      <td>32146146</td>\n",
       "      <td>R140AHRJD42L78</td>\n",
       "      <td>B003DKL544</td>\n",
       "      <td>620199611</td>\n",
       "      <td>Philips In-Ear Headphones Mix and Match with 5 Sets of Interchangeable Caps</td>\n",
       "      <td>Electronics</td>\n",
       "      <td>5</td>\n",
       "      <td>0</td>\n",
       "      <td>0</td>\n",
       "      <td>N</td>\n",
       "      <td>Y</td>\n",
       "      <td>they don't make headphones like this anymore</td>\n",
       "      <td>Get them while you can, they don't make headphones like this anymore.</td>\n",
       "      <td>2014-09-14</td>\n",
       "    </tr>\n",
       "  </tbody>\n",
       "</table>\n",
       "</div>"
      ],
      "text/plain": [
       "        marketplace  customer_id       review_id  product_id  product_parent  \\\n",
       "1235505          US     47030502  R3S7DOBICFGI93  B00HCMZ19Y       574974882   \n",
       "1026107          US     34165510  R1HZ8C8NS3TH4P  B002MVH7EC       269120324   \n",
       "810438           US     27204588  R136FE83BZEB3N  B00JA9EQMU       966915237   \n",
       "77285            US     20165378  R2S44U56RGPXVK  B00000JBRV       624246321   \n",
       "1115085          US     32146146  R140AHRJD42L78  B003DKL544       620199611   \n",
       "\n",
       "                                                                       product_title  \\\n",
       "1235505                                                 SanDisk  Clip Jam MP3 Player   \n",
       "1026107                             WKA12-7.5F Sealed Battery Replacement 12V 8ah F2   \n",
       "810438                                               Kocaso HP-500 Headphones, Black   \n",
       "77285       Labtec LVA7330 ClearVoice Head Microphone (Discontinued by Manufacturer)   \n",
       "1115085  Philips In-Ear Headphones Mix and Match with 5 Sets of Interchangeable Caps   \n",
       "\n",
       "        product_category  star_rating  helpful_votes  total_votes vine  \\\n",
       "1235505      Electronics            5              0            0    N   \n",
       "1026107      Electronics            4              0            0    N   \n",
       "810438       Electronics            5              0            0    N   \n",
       "77285        Electronics            5              0            0    N   \n",
       "1115085      Electronics            5              0            0    N   \n",
       "\n",
       "        verified_purchase                                  review_headline  \\\n",
       "1235505                 Y                                       Five Stars   \n",
       "1026107                 Y  Works fine. It was installed several months ago   \n",
       "810438                  Y                                       Wonderful!   \n",
       "77285                   Y                Just a microphone, but a good one   \n",
       "1115085                 Y     they don't make headphones like this anymore   \n",
       "\n",
       "                                                                                                                                                                                                                                                                                                                                                                                                                                                                                                                                review_body  \\\n",
       "1235505                                                                                                                                                                                                                                                                                                                                                                                                                                                                                                                        Espectacualr   \n",
       "1026107                                                                                                                                                                                                                                                                                                                                                                                                                                                                                   Works fine.  It was installed several months ago.   \n",
       "810438   Wow! I love them. I took them out as soon as I received it and have not taken them off since. Great sound, excellent definition and I only have it on 3. Nice, clear, deep base without it being distorted. Decided to try it to on Michael Jackson and I hear everything with great clarity. It is also nice that the cords are tangle free and plug in from both ends. The mic works well on my smartphone too!  For the price, it was well worth every penny. Will order a second pair within a few weeks for my son as a gift.   \n",
       "77285                                                                                                                                                                                                                                                                                                                                        My bad for not reading the details, but I thought I was buying a headset with headphones and microphone.  Once I got over this disappointment, i was pleased with the noise-dampening feature.   \n",
       "1115085                                                                                                                                                                                                                                                                                                                                                                                                                                                               Get them while you can, they don't make headphones like this anymore.   \n",
       "\n",
       "        review_date  \n",
       "1235505  2014-07-30  \n",
       "1026107  2014-10-19  \n",
       "810438   2014-12-31  \n",
       "77285    2015-08-08  \n",
       "1115085  2014-09-14  "
      ]
     },
     "execution_count": 15,
     "metadata": {},
     "output_type": "execute_result"
    }
   ],
   "source": [
    "#there may be tabs in the review that is what is leading to the excluded cases when converting to df\n",
    "\n",
    "'''\n",
    "train_data['verified_purchase'].value_counts()\n",
    "test_data['verified_purchase'].value_counts()\n",
    "'''\n",
    "\n",
    "one_file.head()"
   ]
  },
  {
   "cell_type": "markdown",
   "id": "bbf76629",
   "metadata": {},
   "source": [
    "#to check te datatypes within each column\n",
    "\n",
    "print(train_data.applymap(type))\n",
    "data_types = train_data.applymap(type)"
   ]
  },
  {
   "cell_type": "code",
   "execution_count": 16,
   "id": "1a6b44c7",
   "metadata": {
    "scrolled": true
   },
   "outputs": [
    {
     "data": {
      "text/plain": [
       "1     388070\n",
       "2      34469\n",
       "3       7139\n",
       "4       2262\n",
       "5        915\n",
       "6        424\n",
       "7        226\n",
       "8        106\n",
       "9         69\n",
       "10        51\n",
       "11        33\n",
       "13        17\n",
       "12        16\n",
       "15        12\n",
       "14         7\n",
       "17         6\n",
       "16         4\n",
       "19         3\n",
       "25         3\n",
       "20         2\n",
       "22         2\n",
       "35         2\n",
       "37         2\n",
       "18         1\n",
       "21         1\n",
       "23         1\n",
       "24         1\n",
       "27         1\n",
       "29         1\n",
       "30         1\n",
       "34         1\n",
       "61         1\n",
       "Name: marketplace, dtype: int64"
      ]
     },
     "execution_count": 16,
     "metadata": {},
     "output_type": "execute_result"
    }
   ],
   "source": [
    "#the number of customers that gave multiple reviews\n",
    "#may be valueable to investigate\n",
    "one_file.groupby('customer_id').count()['marketplace'].sort_values(ascending = False).value_counts()"
   ]
  },
  {
   "cell_type": "code",
   "execution_count": 17,
   "id": "be5a15b0",
   "metadata": {},
   "outputs": [
    {
     "data": {
      "text/plain": [
       "5    305208\n",
       "4     77251\n",
       "1     55175\n",
       "3     36149\n",
       "2     26217\n",
       "Name: star_rating, dtype: int64"
      ]
     },
     "execution_count": 17,
     "metadata": {},
     "output_type": "execute_result"
    }
   ],
   "source": [
    "one_file['star_rating'].value_counts()"
   ]
  },
  {
   "cell_type": "markdown",
   "id": "6777f68d",
   "metadata": {},
   "source": [
    "Data Cleaning"
   ]
  },
  {
   "cell_type": "code",
   "execution_count": 18,
   "id": "d4ed9ee4",
   "metadata": {},
   "outputs": [
    {
     "name": "stderr",
     "output_type": "stream",
     "text": [
      "[nltk_data] Downloading package stopwords to\n",
      "[nltk_data]     C:\\Users\\sukan\\AppData\\Roaming\\nltk_data...\n",
      "[nltk_data]   Package stopwords is already up-to-date!\n",
      "[nltk_data] Downloading package wordnet to\n",
      "[nltk_data]     C:\\Users\\sukan\\AppData\\Roaming\\nltk_data...\n",
      "[nltk_data]   Package wordnet is already up-to-date!\n"
     ]
    }
   ],
   "source": [
    "# Import re for text cleaning purposes\n",
    "import re\n",
    "\n",
    "import nltk.corpus\n",
    "nltk.download('stopwords')\n",
    "from nltk.corpus import stopwords\n",
    "\n",
    "from nltk.stem.porter import PorterStemmer\n",
    "nltk.download('wordnet')\n",
    "from nltk.stem import WordNetLemmatizer"
   ]
  },
  {
   "cell_type": "code",
   "execution_count": 19,
   "id": "2cf2c653",
   "metadata": {},
   "outputs": [],
   "source": [
    "def df_cleaning(df, col):\n",
    "    # Drop rows with na values\n",
    "    df.dropna(inplace = True)\n",
    "    \n",
    "    new_col_name = 'new_' + col\n",
    "    \n",
    "    df[new_col_name] = df[col].copy() \n",
    "    \n",
    "    # Remove unwanted formatting characters\n",
    "    format_strs = dict.fromkeys(['<br /><br />', '&#34', 'br', '&quot', '<br />'], ' ')\n",
    "    \n",
    "    for key in format_strs:\n",
    "        df[new_col_name] = df[new_col_name].apply(lambda review: review.replace(key, format_strs[key]))\n",
    "    # removing quotes produces smthg like this --> 'The product has great ;sound; --> we must remove punctuation\n",
    "\n",
    "    \n",
    "    # Case normalization (lower case)\n",
    "    df[new_col_name] = df[new_col_name].str.lower()\n",
    "    \n",
    "    remove_dict = {\"0\": \"\", \"1\": \"\", \"2\": \"\", \"3\": \"\", \"4\": \"\", \"5\": \"\", \"6\": \"\", \"7\": \"\", \"8\": \"\", \"9\": \"\",\n",
    "                   \"(\": \"\", \")\":\"\"}\n",
    "    for key, val in remove_dict.items():\n",
    "        df[new_col_name] = df[new_col_name].apply(\n",
    "            lambda x: x.replace(key, val))\n",
    "        \n",
    "    # Remove stopwords\n",
    "    stop_lst = stopwords.words('english')\n",
    "    #stop_lst += ([\"can't\", \"i'm\" \"i'd\", \"i've\", \"i'll\", \"that's\", \"there's\", \"they're\"])\n",
    "    # ****Do we not have to take stopwords out BEFORE removing punctuation? Otherwise words with punct like “cant” remains there\n",
    "    df[new_col_name] = df[new_col_name].apply(lambda text_body: \" \".join([word for word in text_body.split() if word not in (stop_lst)]))\n",
    "    \n",
    "    # Removing Unicode Chars (punctuation, URL, @)\n",
    "    df[new_col_name] = df[new_col_name].apply(lambda rev: re.sub(r\"(@\\[A-Za-z0-9]+)|([^0-9A-Za-z \\t])|(\\w+:\\/\\/\\S+)|^rt|http.+?\", \"\", rev))\n",
    "    \n",
    "    # Lemmatization\n",
    "    word_lemmatizer = WordNetLemmatizer()\n",
    "    df[new_col_name] = df[new_col_name].apply(lambda txt: \" \".join([(word_lemmatizer.lemmatize(word)) for word in txt.split()]))\n",
    "    \n",
    "    return df"
   ]
  },
  {
   "cell_type": "markdown",
   "id": "12502ab7",
   "metadata": {},
   "source": [
    "cleaned = df_cleaning(one_file)"
   ]
  },
  {
   "cell_type": "code",
   "execution_count": 20,
   "id": "39bc163e",
   "metadata": {},
   "outputs": [],
   "source": [
    "cleaned2 = df_cleaning(one_file, 'review_body')"
   ]
  },
  {
   "cell_type": "code",
   "execution_count": 21,
   "id": "3b78be8e",
   "metadata": {},
   "outputs": [
    {
     "data": {
      "text/html": [
       "<div>\n",
       "<style scoped>\n",
       "    .dataframe tbody tr th:only-of-type {\n",
       "        vertical-align: middle;\n",
       "    }\n",
       "\n",
       "    .dataframe tbody tr th {\n",
       "        vertical-align: top;\n",
       "    }\n",
       "\n",
       "    .dataframe thead th {\n",
       "        text-align: right;\n",
       "    }\n",
       "</style>\n",
       "<table border=\"1\" class=\"dataframe\">\n",
       "  <thead>\n",
       "    <tr style=\"text-align: right;\">\n",
       "      <th></th>\n",
       "      <th>review_body</th>\n",
       "      <th>new_review_body</th>\n",
       "    </tr>\n",
       "  </thead>\n",
       "  <tbody>\n",
       "    <tr>\n",
       "      <th>1235505</th>\n",
       "      <td>Espectacualr</td>\n",
       "      <td>espectacualr</td>\n",
       "    </tr>\n",
       "    <tr>\n",
       "      <th>1026107</th>\n",
       "      <td>Works fine.  It was installed several months ago.</td>\n",
       "      <td>work fine installed several month ago</td>\n",
       "    </tr>\n",
       "    <tr>\n",
       "      <th>810438</th>\n",
       "      <td>Wow! I love them. I took them out as soon as I received it and have not taken them off since. Great sound, excellent definition and I only have it on 3. Nice, clear, deep base without it being distorted. Decided to try it to on Michael Jackson and I hear everything with great clarity. It is also nice that the cords are tangle free and plug in from both ends. The mic works well on my smartphone too!  For the price, it was well worth every penny. Will order a second pair within a few weeks for my son as a gift.</td>\n",
       "      <td>wow love them took soon received taken since great sound excellent definition nice clear deep base without distorted decided try michael jackson hear everything great clarity also nice cord tangle free plug end mic work well smartphone too price well worth every penny order second pair within week son gift</td>\n",
       "    </tr>\n",
       "    <tr>\n",
       "      <th>77285</th>\n",
       "      <td>My bad for not reading the details, but I thought I was buying a headset with headphones and microphone.  Once I got over this disappointment, i was pleased with the noise-dampening feature.</td>\n",
       "      <td>bad reading detail thought buying headset headphone microphone got disappointment pleased noisedampening feature</td>\n",
       "    </tr>\n",
       "    <tr>\n",
       "      <th>1115085</th>\n",
       "      <td>Get them while you can, they don't make headphones like this anymore.</td>\n",
       "      <td>get can make headphone like anymore</td>\n",
       "    </tr>\n",
       "  </tbody>\n",
       "</table>\n",
       "</div>"
      ],
      "text/plain": [
       "                                                                                                                                                                                                                                                                                                                                                                                                                                                                                                                                review_body  \\\n",
       "1235505                                                                                                                                                                                                                                                                                                                                                                                                                                                                                                                        Espectacualr   \n",
       "1026107                                                                                                                                                                                                                                                                                                                                                                                                                                                                                   Works fine.  It was installed several months ago.   \n",
       "810438   Wow! I love them. I took them out as soon as I received it and have not taken them off since. Great sound, excellent definition and I only have it on 3. Nice, clear, deep base without it being distorted. Decided to try it to on Michael Jackson and I hear everything with great clarity. It is also nice that the cords are tangle free and plug in from both ends. The mic works well on my smartphone too!  For the price, it was well worth every penny. Will order a second pair within a few weeks for my son as a gift.   \n",
       "77285                                                                                                                                                                                                                                                                                                                                        My bad for not reading the details, but I thought I was buying a headset with headphones and microphone.  Once I got over this disappointment, i was pleased with the noise-dampening feature.   \n",
       "1115085                                                                                                                                                                                                                                                                                                                                                                                                                                                               Get them while you can, they don't make headphones like this anymore.   \n",
       "\n",
       "                                                                                                                                                                                                                                                                                                             new_review_body  \n",
       "1235505                                                                                                                                                                                                                                                                                                         espectacualr  \n",
       "1026107                                                                                                                                                                                                                                                                                work fine installed several month ago  \n",
       "810438   wow love them took soon received taken since great sound excellent definition nice clear deep base without distorted decided try michael jackson hear everything great clarity also nice cord tangle free plug end mic work well smartphone too price well worth every penny order second pair within week son gift  \n",
       "77285                                                                                                                                                                                                       bad reading detail thought buying headset headphone microphone got disappointment pleased noisedampening feature  \n",
       "1115085                                                                                                                                                                                                                                                                                  get can make headphone like anymore  "
      ]
     },
     "execution_count": 21,
     "metadata": {},
     "output_type": "execute_result"
    }
   ],
   "source": [
    "cleaned2.get(['review_body', 'new_review_body']).head()"
   ]
  },
  {
   "cell_type": "code",
   "execution_count": 22,
   "id": "05b13d6d",
   "metadata": {},
   "outputs": [],
   "source": [
    "cleaned2 = df_cleaning(one_file, 'review_headline')"
   ]
  },
  {
   "cell_type": "code",
   "execution_count": 23,
   "id": "f224ea50",
   "metadata": {},
   "outputs": [
    {
     "data": {
      "text/html": [
       "<div>\n",
       "<style scoped>\n",
       "    .dataframe tbody tr th:only-of-type {\n",
       "        vertical-align: middle;\n",
       "    }\n",
       "\n",
       "    .dataframe tbody tr th {\n",
       "        vertical-align: top;\n",
       "    }\n",
       "\n",
       "    .dataframe thead th {\n",
       "        text-align: right;\n",
       "    }\n",
       "</style>\n",
       "<table border=\"1\" class=\"dataframe\">\n",
       "  <thead>\n",
       "    <tr style=\"text-align: right;\">\n",
       "      <th></th>\n",
       "      <th>review_headline</th>\n",
       "      <th>new_review_headline</th>\n",
       "    </tr>\n",
       "  </thead>\n",
       "  <tbody>\n",
       "    <tr>\n",
       "      <th>1235505</th>\n",
       "      <td>Five Stars</td>\n",
       "      <td>five star</td>\n",
       "    </tr>\n",
       "    <tr>\n",
       "      <th>1026107</th>\n",
       "      <td>Works fine. It was installed several months ago</td>\n",
       "      <td>work fine installed several month ago</td>\n",
       "    </tr>\n",
       "    <tr>\n",
       "      <th>810438</th>\n",
       "      <td>Wonderful!</td>\n",
       "      <td>wonderful</td>\n",
       "    </tr>\n",
       "    <tr>\n",
       "      <th>77285</th>\n",
       "      <td>Just a microphone, but a good one</td>\n",
       "      <td>microphone good one</td>\n",
       "    </tr>\n",
       "    <tr>\n",
       "      <th>1115085</th>\n",
       "      <td>they don't make headphones like this anymore</td>\n",
       "      <td>make headphone like anymore</td>\n",
       "    </tr>\n",
       "  </tbody>\n",
       "</table>\n",
       "</div>"
      ],
      "text/plain": [
       "                                         review_headline  \\\n",
       "1235505                                       Five Stars   \n",
       "1026107  Works fine. It was installed several months ago   \n",
       "810438                                        Wonderful!   \n",
       "77285                  Just a microphone, but a good one   \n",
       "1115085     they don't make headphones like this anymore   \n",
       "\n",
       "                           new_review_headline  \n",
       "1235505                              five star  \n",
       "1026107  work fine installed several month ago  \n",
       "810438                               wonderful  \n",
       "77285                      microphone good one  \n",
       "1115085            make headphone like anymore  "
      ]
     },
     "execution_count": 23,
     "metadata": {},
     "output_type": "execute_result"
    }
   ],
   "source": [
    "cleaned2.get(['review_headline', 'new_review_headline']).head()"
   ]
  },
  {
   "cell_type": "code",
   "execution_count": 24,
   "id": "7788c806",
   "metadata": {},
   "outputs": [],
   "source": [
    "cleaned2 = df_cleaning(one_file, 'product_title')"
   ]
  },
  {
   "cell_type": "code",
   "execution_count": 25,
   "id": "3c963721",
   "metadata": {},
   "outputs": [
    {
     "data": {
      "text/html": [
       "<div>\n",
       "<style scoped>\n",
       "    .dataframe tbody tr th:only-of-type {\n",
       "        vertical-align: middle;\n",
       "    }\n",
       "\n",
       "    .dataframe tbody tr th {\n",
       "        vertical-align: top;\n",
       "    }\n",
       "\n",
       "    .dataframe thead th {\n",
       "        text-align: right;\n",
       "    }\n",
       "</style>\n",
       "<table border=\"1\" class=\"dataframe\">\n",
       "  <thead>\n",
       "    <tr style=\"text-align: right;\">\n",
       "      <th></th>\n",
       "      <th>product_title</th>\n",
       "      <th>new_product_title</th>\n",
       "    </tr>\n",
       "  </thead>\n",
       "  <tbody>\n",
       "    <tr>\n",
       "      <th>1235505</th>\n",
       "      <td>SanDisk  Clip Jam MP3 Player</td>\n",
       "      <td>sandisk clip jam mp player</td>\n",
       "    </tr>\n",
       "    <tr>\n",
       "      <th>1026107</th>\n",
       "      <td>WKA12-7.5F Sealed Battery Replacement 12V 8ah F2</td>\n",
       "      <td>wkaf sealed battery replacement v ah f</td>\n",
       "    </tr>\n",
       "    <tr>\n",
       "      <th>810438</th>\n",
       "      <td>Kocaso HP-500 Headphones, Black</td>\n",
       "      <td>kocaso hp headphone black</td>\n",
       "    </tr>\n",
       "    <tr>\n",
       "      <th>77285</th>\n",
       "      <td>Labtec LVA7330 ClearVoice Head Microphone (Discontinued by Manufacturer)</td>\n",
       "      <td>labtec lva clearvoice head microphone discontinued manufacturer</td>\n",
       "    </tr>\n",
       "    <tr>\n",
       "      <th>1115085</th>\n",
       "      <td>Philips In-Ear Headphones Mix and Match with 5 Sets of Interchangeable Caps</td>\n",
       "      <td>philip inear headphone mix match set interchangeable cap</td>\n",
       "    </tr>\n",
       "  </tbody>\n",
       "</table>\n",
       "</div>"
      ],
      "text/plain": [
       "                                                                       product_title  \\\n",
       "1235505                                                 SanDisk  Clip Jam MP3 Player   \n",
       "1026107                             WKA12-7.5F Sealed Battery Replacement 12V 8ah F2   \n",
       "810438                                               Kocaso HP-500 Headphones, Black   \n",
       "77285       Labtec LVA7330 ClearVoice Head Microphone (Discontinued by Manufacturer)   \n",
       "1115085  Philips In-Ear Headphones Mix and Match with 5 Sets of Interchangeable Caps   \n",
       "\n",
       "                                                       new_product_title  \n",
       "1235505                                       sandisk clip jam mp player  \n",
       "1026107                           wkaf sealed battery replacement v ah f  \n",
       "810438                                         kocaso hp headphone black  \n",
       "77285    labtec lva clearvoice head microphone discontinued manufacturer  \n",
       "1115085         philip inear headphone mix match set interchangeable cap  "
      ]
     },
     "execution_count": 25,
     "metadata": {},
     "output_type": "execute_result"
    }
   ],
   "source": [
    "cleaned2.get(['product_title', 'new_product_title']).head()"
   ]
  },
  {
   "cell_type": "code",
   "execution_count": 26,
   "id": "34b2b4c6",
   "metadata": {},
   "outputs": [
    {
     "data": {
      "text/plain": [
       "'Espectacualr'"
      ]
     },
     "execution_count": 26,
     "metadata": {},
     "output_type": "execute_result"
    }
   ],
   "source": [
    "cleaned2.iloc[0].get('review_body')"
   ]
  },
  {
   "cell_type": "markdown",
   "id": "1bcae33d",
   "metadata": {},
   "source": [
    "### Vader Sentiment Analysis"
   ]
  },
  {
   "cell_type": "code",
   "execution_count": 27,
   "id": "cbddcf14",
   "metadata": {},
   "outputs": [],
   "source": [
    "from vaderSentiment.vaderSentiment import SentimentIntensityAnalyzer\n",
    "\n",
    "analyser = SentimentIntensityAnalyzer()\n",
    "\n",
    "def get_sentiment_scores(review):\n",
    "    \"\"\"\n",
    "    create new dataframe with just the proportions for each review\n",
    "    four columns\n",
    "    neg_prop, pos_prop, neu_prop, compound_prop and will contain these values\n",
    "    obtained from the vator sentiment algorithm\n",
    "    \"\"\"\n",
    "    snt = analyser.polarity_scores(review)\n",
    "    #print(f\"{sentence} {str(snt)}\")\n",
    "    return snt"
   ]
  },
  {
   "cell_type": "code",
   "execution_count": 28,
   "id": "ff87bc84",
   "metadata": {},
   "outputs": [
    {
     "data": {
      "text/plain": [
       "{'neg': 0.0, 'neu': 1.0, 'pos': 0.0, 'compound': 0.0}"
      ]
     },
     "execution_count": 28,
     "metadata": {},
     "output_type": "execute_result"
    }
   ],
   "source": [
    "get_sentiment_scores(cleaned2.iloc[0].get('review_body')) #without lemmitization"
   ]
  },
  {
   "cell_type": "code",
   "execution_count": 29,
   "id": "34e46ed9",
   "metadata": {},
   "outputs": [
    {
     "data": {
      "text/plain": [
       "{'neg': 0.0, 'neu': 1.0, 'pos': 0.0, 'compound': 0.0}"
      ]
     },
     "execution_count": 29,
     "metadata": {},
     "output_type": "execute_result"
    }
   ],
   "source": [
    "get_sentiment_scores(cleaned2.iloc[0].get('new_review_body')) #with lemmitization"
   ]
  },
  {
   "cell_type": "code",
   "execution_count": 30,
   "id": "63cdc54b",
   "metadata": {},
   "outputs": [],
   "source": [
    "one_file = cleaned2"
   ]
  },
  {
   "cell_type": "code",
   "execution_count": 31,
   "id": "27e95525",
   "metadata": {},
   "outputs": [],
   "source": [
    "one_file['rev_dict'] = one_file['new_review_body'].apply(get_sentiment_scores)"
   ]
  },
  {
   "cell_type": "code",
   "execution_count": 32,
   "id": "97b7f188",
   "metadata": {},
   "outputs": [],
   "source": [
    "def get_neg(review_dict):\n",
    "    return review_dict['neg']\n",
    "\n",
    "def get_neu(review_dict):\n",
    "    return review_dict['neu']\n",
    "\n",
    "def get_pos(review_dict):\n",
    "    return review_dict['pos']\n",
    "\n",
    "def get_compound(review_dict):\n",
    "    return review_dict['compound']\n",
    "\n",
    "def only_compound(x):\n",
    "    dct = get_sentiment_scores(x)\n",
    "    return dct['compound']"
   ]
  },
  {
   "cell_type": "code",
   "execution_count": 33,
   "id": "eca44737",
   "metadata": {},
   "outputs": [],
   "source": [
    "#get neg prop\n",
    "one_file['neg_prop'] = one_file['rev_dict'].apply(get_neg)\n",
    "#get neu prop\n",
    "one_file['neu_prop'] = one_file['rev_dict'].apply(get_neu)\n",
    "#get pos prop\n",
    "one_file['pos_prop'] = one_file['rev_dict'].apply(get_pos)\n",
    "#get compound prop\n",
    "one_file['compound_prop'] = one_file['rev_dict'].apply(get_compound)"
   ]
  },
  {
   "cell_type": "code",
   "execution_count": 34,
   "id": "9280a017",
   "metadata": {},
   "outputs": [],
   "source": [
    "#save the dataframe as a csv file\n",
    "one_file.to_csv('electronics_data_cleaned.csv')"
   ]
  },
  {
   "cell_type": "markdown",
   "id": "c5adfd33",
   "metadata": {},
   "source": [
    "### Sentiment Analysis"
   ]
  },
  {
   "cell_type": "markdown",
   "id": "e098ea05",
   "metadata": {},
   "source": [
    "#df is all data other than rating 3\n",
    "df = one_file[one_file['star_rating'] != 3]"
   ]
  },
  {
   "cell_type": "markdown",
   "id": "cebba2d6",
   "metadata": {},
   "source": [
    "df['star_rating'].value_counts()"
   ]
  },
  {
   "cell_type": "markdown",
   "id": "82d8007b",
   "metadata": {},
   "source": [
    "df['positively_rated'] = np.where(df['star_rating'] > 3, 1, 0)"
   ]
  },
  {
   "cell_type": "markdown",
   "id": "9fba4337",
   "metadata": {},
   "source": [
    "df['positively_rated'].value_counts()"
   ]
  },
  {
   "cell_type": "markdown",
   "id": "e7c8ab0c",
   "metadata": {},
   "source": [
    "sns.countplot(df['positively_rated'])"
   ]
  },
  {
   "cell_type": "markdown",
   "id": "3e930c48",
   "metadata": {},
   "source": [
    "##### On all of the data"
   ]
  },
  {
   "cell_type": "markdown",
   "id": "21f78afa",
   "metadata": {},
   "source": [
    "train_data, test_data = np.split(one_file.sample(frac=1, random_state=1729), [int(0.7 * len(one_file))])\n",
    "print(train_data.shape, test_data.shape)"
   ]
  },
  {
   "cell_type": "markdown",
   "id": "06189c59",
   "metadata": {},
   "source": [
    "X_train = train_data['review_body']\n",
    "X_train.iloc[0] #to_frame()"
   ]
  },
  {
   "cell_type": "markdown",
   "id": "2fd7cac0",
   "metadata": {},
   "source": [
    "Y_train = train_data['star_rating']"
   ]
  },
  {
   "cell_type": "markdown",
   "id": "d80d84ce",
   "metadata": {},
   "source": [
    "X_test = test_data['review_body']\n",
    "Y_test = test_data['star_rating']"
   ]
  },
  {
   "cell_type": "markdown",
   "id": "0de152ec",
   "metadata": {},
   "source": [
    "#### TF-IDF - to get predictions of what star rating will be based on text of review"
   ]
  },
  {
   "cell_type": "markdown",
   "id": "1d460554",
   "metadata": {},
   "source": [
    "from sklearn.feature_extraction.text import TfidfVectorizer"
   ]
  },
  {
   "cell_type": "markdown",
   "id": "7e494d08",
   "metadata": {},
   "source": [
    "vect = TfidfVectorizer().fit(X_train)"
   ]
  },
  {
   "cell_type": "markdown",
   "id": "15b8447a",
   "metadata": {},
   "source": [
    "len(vect.get_feature_names()) #unique words"
   ]
  },
  {
   "cell_type": "markdown",
   "id": "8b16d9b2",
   "metadata": {},
   "source": [
    "X_train_vect = vect.transform(X_train)"
   ]
  },
  {
   "cell_type": "markdown",
   "id": "d6a909e2",
   "metadata": {},
   "source": [
    "from sklearn.linear_model import LogisticRegression\n",
    "model = LogisticRegression()\n",
    "model.fit(X_train_vect, Y_train)"
   ]
  },
  {
   "cell_type": "markdown",
   "id": "b6bb6c58",
   "metadata": {},
   "source": [
    "predictions = model.predict(vect.transform(X_test))"
   ]
  },
  {
   "cell_type": "markdown",
   "id": "9b730ff6",
   "metadata": {},
   "source": [
    "len(predictions)"
   ]
  },
  {
   "cell_type": "markdown",
   "id": "416b4ecf",
   "metadata": {},
   "source": [
    "###### Confusion Matrix - shows probabilities for whether cat data is predicted correctly"
   ]
  },
  {
   "cell_type": "code",
   "execution_count": 35,
   "id": "0b080f3a",
   "metadata": {},
   "outputs": [],
   "source": [
    "def plot_confusion_matrix(cm, target_names,\n",
    "                          fname, epoch,\n",
    "                          title='Confusion matrix',\n",
    "                          cmap=None,\n",
    "                          normalize=True, target=None):\n",
    "    import matplotlib.pyplot as plt\n",
    "    import numpy as np\n",
    "    import itertools\n",
    "    plt.style.use('default')\n",
    "\n",
    "    # # only true if it weren't normalized:\n",
    "    # accuracy = np.trace(cm) / float(np.sum(cm))\n",
    "    # misclass = 1 - accuracy\n",
    "\n",
    "    if cmap is None:\n",
    "        cmap = plt.get_cmap('Blues')\n",
    "\n",
    "    if normalize:\n",
    "        cm = cm.astype('float') / cm.sum(axis=1)[:, np.newaxis]\n",
    "    cm[np.isnan(cm)] = 0.0\n",
    "\n",
    "    fig = plt.figure(figsize=(5, 4))\n",
    "    ax = plt.axes()\n",
    "    plt.imshow(cm, interpolation='nearest', cmap=cmap)\n",
    "    if target == \"rule-based\":\n",
    "        plt.title(title + ' for rule-based PF')\n",
    "    else:\n",
    "        plt.title(title + ' for MLPF at epoch ' + str(epoch))\n",
    "\n",
    "    plt.colorbar()\n",
    "\n",
    "    if target_names is not None:\n",
    "        tick_marks = np.arange(len(target_names))\n",
    "        plt.xticks(tick_marks, target_names, rotation=45)\n",
    "        plt.yticks(tick_marks, target_names)\n",
    "\n",
    "    thresh = cm.max() / 1.5 if normalize else cm.max() / 2\n",
    "    for i, j in itertools.product(range(cm.shape[0]), range(cm.shape[1])):\n",
    "        if normalize:\n",
    "            plt.text(j, i, \"{:0.2f}\".format(cm[i, j]),\n",
    "                     horizontalalignment=\"center\",\n",
    "                     color=\"white\" if cm[i, j] > thresh else \"black\")\n",
    "        else:\n",
    "            plt.text(j, i, \"{:,}\".format(cm[i, j]),\n",
    "                     horizontalalignment=\"center\",\n",
    "                     color=\"white\" if cm[i, j] > thresh else \"black\")\n",
    "\n",
    "    plt.ylabel('True label')\n",
    "    plt.xlim(-1, len(target_names))\n",
    "    plt.ylim(-1, len(target_names))\n",
    "    plt.xlabel('Predicted label')\n",
    "    # plt.xlabel('Predicted label\\naccuracy={:0.4f}; misclass={:0.4f}'.format(accuracy, misclass))\n",
    "    plt.tight_layout()\n",
    "    plt.savefig(fname + '.png')\n",
    "    plt.savefig(fname + '.pdf')\n",
    "    #plt.close(fig)\n",
    "\n",
    "    return fig, ax"
   ]
  },
  {
   "cell_type": "markdown",
   "id": "01c6cf4a",
   "metadata": {},
   "source": [
    "### SVM Notes"
   ]
  },
  {
   "cell_type": "markdown",
   "id": "1accf4d5",
   "metadata": {},
   "source": [
    "- **Bag of Words (BoW)**\n",
    "        - BoW encodes an input sentence as the frequency of each word in the sentence. \n",
    "        - In this approach, all words contribute equally to the feature vectors.\n",
    "- **Term Frequency - Inverse Document Frequency (TF-IDF)**\n",
    "        - TF-IDF is a measure of how important each term is to a specific document, as compared to an overall corpus. \n",
    "        - TF-IDF encodes each word as its frequency in the document of interest, divided by a measure of how common the word is across all documents (the corpus).\n",
    "        - Using this approach, each word contributes differently to the feature vectors.\n",
    "        - The assumption behind using TF-IDF is that words that appear commonly everywhere are not that informative about what is specifically interesting about a document of interest, so it is tuned to representing a document in terms of the words it uses that are different from other documents. \n",
    "\n",
    "- To compare those 2 methods, we will first apply them on the same dataset to analyse sentiment (how positive or negative a text is). In order to make the comparison fair, an **SVM (support vector machine)** classifier will be used to classify positive reviews and negative reviews.\n",
    "\n",
    "- SVM is a simple yet powerful and interpretable linear model. To use it as a classifier, we need to have at least 2 splits of the data: training data and test data. The training data is used to tune the weight parameters in the SVM to learn an optimal way to classify the training data. We can then test this trained SVM classifier on the test data, to see how well it works on data that the classifier has not seen before. "
   ]
  },
  {
   "cell_type": "markdown",
   "id": "78496047",
   "metadata": {},
   "source": [
    "We will now create a CountVectorizer object to transform the text data into vectors with numerical values.\n",
    "\n",
    "To do so, we will initialize a CountVectorizer object, and name it as vectorizer.\n",
    "\n",
    "4 arguments to initialize a CountVectorizer:\n",
    "\n",
    "* analyzer: 'word'\n",
    " Specify to analyze data from word-level.\n",
    " \n",
    "* max_features: 2000\n",
    " Set a max number of unique words.\n",
    " \n",
    "* tokenizer: word_tokenize\n",
    " Set to tokenize the text data by using the word_tokenizer from NLTK .\n",
    " \n",
    "* stop_words: stopwords.words('english')\n",
    " Set to remove all stopwords in English. We do this since they generally don't provide useful discriminative information."
   ]
  },
  {
   "cell_type": "markdown",
   "id": "2fee8367",
   "metadata": {},
   "source": [
    "## KNN"
   ]
  },
  {
   "cell_type": "code",
   "execution_count": 36,
   "id": "bef5aa79",
   "metadata": {},
   "outputs": [],
   "source": [
    "import numpy as np\n",
    "import matplotlib.pyplot as plt\n",
    "import pandas as pd\n",
    "import sklearn"
   ]
  },
  {
   "cell_type": "code",
   "execution_count": 37,
   "id": "d86626ee",
   "metadata": {},
   "outputs": [
    {
     "data": {
      "text/plain": [
       "Index(['marketplace', 'customer_id', 'review_id', 'product_id',\n",
       "       'product_parent', 'product_title', 'product_category', 'star_rating',\n",
       "       'helpful_votes', 'total_votes', 'vine', 'verified_purchase',\n",
       "       'review_headline', 'review_body', 'review_date', 'new_review_body',\n",
       "       'new_review_headline', 'new_product_title', 'rev_dict', 'neg_prop',\n",
       "       'neu_prop', 'pos_prop', 'compound_prop'],\n",
       "      dtype='object')"
      ]
     },
     "execution_count": 37,
     "metadata": {},
     "output_type": "execute_result"
    }
   ],
   "source": [
    "one_file.columns"
   ]
  },
  {
   "cell_type": "code",
   "execution_count": 38,
   "id": "1d31c455",
   "metadata": {},
   "outputs": [],
   "source": [
    "def convert_to_id(x):\n",
    "    alphabet = {'a': 1, 'c': 3, 'b': 2, 'e': 5, 'd': 4, 'g': 7, 'f': 6, 'i': 9, 'h': 8, 'k': 11, 'j': 10, 'm': 13, 'l': 12, 'o': 15, 'n': 14, 'q': 17, 'p': 16, 's': 19, 'r': 18, 'u': 21, 't': 20, 'w': 23, 'v': 22, 'y': 25, 'x': 24, 'z': 26}\n",
    "    out = ''\n",
    "    for i in x:\n",
    "        if i.lower() in alphabet.keys():\n",
    "            out += str(alphabet[i.lower()])\n",
    "        else:\n",
    "            out += i\n",
    "    return out"
   ]
  },
  {
   "cell_type": "code",
   "execution_count": 39,
   "id": "3f6cefbe",
   "metadata": {},
   "outputs": [],
   "source": [
    "one_file['product_id_convert'] = one_file.get(\"product_id\").apply(convert_to_id)"
   ]
  },
  {
   "cell_type": "code",
   "execution_count": 40,
   "id": "c396a07c",
   "metadata": {},
   "outputs": [],
   "source": [
    "one_file['product_category_convert'] = one_file.get(\"product_category\").apply(convert_to_id)"
   ]
  },
  {
   "cell_type": "code",
   "execution_count": 41,
   "id": "0ff6f642",
   "metadata": {},
   "outputs": [],
   "source": [
    "one_file['prod_title_comp'] = one_file.get(\"new_product_title\").apply(only_compound)"
   ]
  },
  {
   "cell_type": "code",
   "execution_count": 42,
   "id": "e067dd58",
   "metadata": {},
   "outputs": [],
   "source": [
    "one_file['rev_title_comp'] = one_file.get(\"new_review_headline\").apply(only_compound)"
   ]
  },
  {
   "cell_type": "markdown",
   "id": "9169dcc4",
   "metadata": {},
   "source": [
    "def help_prop(vals):\n",
    "    if vals[1] == 0:\n",
    "        return 0.5\n",
    "    else:\n",
    "        return vals[0] / vals[1]"
   ]
  },
  {
   "cell_type": "code",
   "execution_count": 43,
   "id": "18b04ce7",
   "metadata": {},
   "outputs": [],
   "source": [
    "#NEED TO THINK OF WHAT WOULD HAPPEN IF THE NUMBER OF TOTAL VOTES WOULD BE 0\n",
    "one_file['help_prop'] = one_file.get(\"helpful_votes\") / one_file.get(\"total_votes\")\n",
    "#one_file['help_prop'] = one_file.get(\"helpful_votes\").apply(help_prop)"
   ]
  },
  {
   "cell_type": "code",
   "execution_count": 44,
   "id": "57474608",
   "metadata": {},
   "outputs": [
    {
     "data": {
      "text/html": [
       "<div>\n",
       "<style scoped>\n",
       "    .dataframe tbody tr th:only-of-type {\n",
       "        vertical-align: middle;\n",
       "    }\n",
       "\n",
       "    .dataframe tbody tr th {\n",
       "        vertical-align: top;\n",
       "    }\n",
       "\n",
       "    .dataframe thead th {\n",
       "        text-align: right;\n",
       "    }\n",
       "</style>\n",
       "<table border=\"1\" class=\"dataframe\">\n",
       "  <thead>\n",
       "    <tr style=\"text-align: right;\">\n",
       "      <th></th>\n",
       "      <th>810438</th>\n",
       "    </tr>\n",
       "  </thead>\n",
       "  <tbody>\n",
       "    <tr>\n",
       "      <th>marketplace</th>\n",
       "      <td>US</td>\n",
       "    </tr>\n",
       "    <tr>\n",
       "      <th>customer_id</th>\n",
       "      <td>27204588</td>\n",
       "    </tr>\n",
       "    <tr>\n",
       "      <th>review_id</th>\n",
       "      <td>R136FE83BZEB3N</td>\n",
       "    </tr>\n",
       "    <tr>\n",
       "      <th>product_id</th>\n",
       "      <td>B00JA9EQMU</td>\n",
       "    </tr>\n",
       "    <tr>\n",
       "      <th>product_parent</th>\n",
       "      <td>966915237</td>\n",
       "    </tr>\n",
       "    <tr>\n",
       "      <th>product_title</th>\n",
       "      <td>Kocaso HP-500 Headphones, Black</td>\n",
       "    </tr>\n",
       "    <tr>\n",
       "      <th>product_category</th>\n",
       "      <td>Electronics</td>\n",
       "    </tr>\n",
       "    <tr>\n",
       "      <th>star_rating</th>\n",
       "      <td>5</td>\n",
       "    </tr>\n",
       "    <tr>\n",
       "      <th>helpful_votes</th>\n",
       "      <td>0</td>\n",
       "    </tr>\n",
       "    <tr>\n",
       "      <th>total_votes</th>\n",
       "      <td>0</td>\n",
       "    </tr>\n",
       "    <tr>\n",
       "      <th>vine</th>\n",
       "      <td>N</td>\n",
       "    </tr>\n",
       "    <tr>\n",
       "      <th>verified_purchase</th>\n",
       "      <td>Y</td>\n",
       "    </tr>\n",
       "    <tr>\n",
       "      <th>review_headline</th>\n",
       "      <td>Wonderful!</td>\n",
       "    </tr>\n",
       "    <tr>\n",
       "      <th>review_body</th>\n",
       "      <td>Wow! I love them. I took them out as soon as I received it and have not taken them off since. Great sound, excellent definition and I only have it on 3. Nice, clear, deep base without it being distorted. Decided to try it to on Michael Jackson and I hear everything with great clarity. It is also nice that the cords are tangle free and plug in from both ends. The mic works well on my smartphone too!  For the price, it was well worth every penny. Will order a second pair within a few weeks for my son as a gift.</td>\n",
       "    </tr>\n",
       "    <tr>\n",
       "      <th>review_date</th>\n",
       "      <td>2014-12-31</td>\n",
       "    </tr>\n",
       "    <tr>\n",
       "      <th>new_review_body</th>\n",
       "      <td>wow love them took soon received taken since great sound excellent definition nice clear deep base without distorted decided try michael jackson hear everything great clarity also nice cord tangle free plug end mic work well smartphone too price well worth every penny order second pair within week son gift</td>\n",
       "    </tr>\n",
       "    <tr>\n",
       "      <th>new_review_headline</th>\n",
       "      <td>wonderful</td>\n",
       "    </tr>\n",
       "    <tr>\n",
       "      <th>new_product_title</th>\n",
       "      <td>kocaso hp headphone black</td>\n",
       "    </tr>\n",
       "    <tr>\n",
       "      <th>rev_dict</th>\n",
       "      <td>{'neg': 0.0, 'neu': 0.436, 'pos': 0.564, 'compound': 0.992}</td>\n",
       "    </tr>\n",
       "    <tr>\n",
       "      <th>neg_prop</th>\n",
       "      <td>0.0</td>\n",
       "    </tr>\n",
       "    <tr>\n",
       "      <th>neu_prop</th>\n",
       "      <td>0.436</td>\n",
       "    </tr>\n",
       "    <tr>\n",
       "      <th>pos_prop</th>\n",
       "      <td>0.564</td>\n",
       "    </tr>\n",
       "    <tr>\n",
       "      <th>compound_prop</th>\n",
       "      <td>0.992</td>\n",
       "    </tr>\n",
       "    <tr>\n",
       "      <th>product_id_convert</th>\n",
       "      <td>20010195171321</td>\n",
       "    </tr>\n",
       "    <tr>\n",
       "      <th>product_category_convert</th>\n",
       "      <td>51253201815149319</td>\n",
       "    </tr>\n",
       "    <tr>\n",
       "      <th>prod_title_comp</th>\n",
       "      <td>0.0</td>\n",
       "    </tr>\n",
       "    <tr>\n",
       "      <th>rev_title_comp</th>\n",
       "      <td>0.5719</td>\n",
       "    </tr>\n",
       "    <tr>\n",
       "      <th>help_prop</th>\n",
       "      <td>NaN</td>\n",
       "    </tr>\n",
       "  </tbody>\n",
       "</table>\n",
       "</div>"
      ],
      "text/plain": [
       "                                                                                                                                                                                                                                                                                                                                                                                                                                                                                                                                                      810438\n",
       "marketplace                                                                                                                                                                                                                                                                                                                                                                                                                                                                                                                                               US\n",
       "customer_id                                                                                                                                                                                                                                                                                                                                                                                                                                                                                                                                         27204588\n",
       "review_id                                                                                                                                                                                                                                                                                                                                                                                                                                                                                                                                     R136FE83BZEB3N\n",
       "product_id                                                                                                                                                                                                                                                                                                                                                                                                                                                                                                                                        B00JA9EQMU\n",
       "product_parent                                                                                                                                                                                                                                                                                                                                                                                                                                                                                                                                     966915237\n",
       "product_title                                                                                                                                                                                                                                                                                                                                                                                                                                                                                                                Kocaso HP-500 Headphones, Black\n",
       "product_category                                                                                                                                                                                                                                                                                                                                                                                                                                                                                                                                 Electronics\n",
       "star_rating                                                                                                                                                                                                                                                                                                                                                                                                                                                                                                                                                5\n",
       "helpful_votes                                                                                                                                                                                                                                                                                                                                                                                                                                                                                                                                              0\n",
       "total_votes                                                                                                                                                                                                                                                                                                                                                                                                                                                                                                                                                0\n",
       "vine                                                                                                                                                                                                                                                                                                                                                                                                                                                                                                                                                       N\n",
       "verified_purchase                                                                                                                                                                                                                                                                                                                                                                                                                                                                                                                                          Y\n",
       "review_headline                                                                                                                                                                                                                                                                                                                                                                                                                                                                                                                                   Wonderful!\n",
       "review_body               Wow! I love them. I took them out as soon as I received it and have not taken them off since. Great sound, excellent definition and I only have it on 3. Nice, clear, deep base without it being distorted. Decided to try it to on Michael Jackson and I hear everything with great clarity. It is also nice that the cords are tangle free and plug in from both ends. The mic works well on my smartphone too!  For the price, it was well worth every penny. Will order a second pair within a few weeks for my son as a gift.\n",
       "review_date                                                                                                                                                                                                                                                                                                                                                                                                                                                                                                                                       2014-12-31\n",
       "new_review_body                                                                                                                                                                                                                          wow love them took soon received taken since great sound excellent definition nice clear deep base without distorted decided try michael jackson hear everything great clarity also nice cord tangle free plug end mic work well smartphone too price well worth every penny order second pair within week son gift\n",
       "new_review_headline                                                                                                                                                                                                                                                                                                                                                                                                                                                                                                                                wonderful\n",
       "new_product_title                                                                                                                                                                                                                                                                                                                                                                                                                                                                                                                  kocaso hp headphone black\n",
       "rev_dict                                                                                                                                                                                                                                                                                                                                                                                                                                                                                         {'neg': 0.0, 'neu': 0.436, 'pos': 0.564, 'compound': 0.992}\n",
       "neg_prop                                                                                                                                                                                                                                                                                                                                                                                                                                                                                                                                                 0.0\n",
       "neu_prop                                                                                                                                                                                                                                                                                                                                                                                                                                                                                                                                               0.436\n",
       "pos_prop                                                                                                                                                                                                                                                                                                                                                                                                                                                                                                                                               0.564\n",
       "compound_prop                                                                                                                                                                                                                                                                                                                                                                                                                                                                                                                                          0.992\n",
       "product_id_convert                                                                                                                                                                                                                                                                                                                                                                                                                                                                                                                            20010195171321\n",
       "product_category_convert                                                                                                                                                                                                                                                                                                                                                                                                                                                                                                                   51253201815149319\n",
       "prod_title_comp                                                                                                                                                                                                                                                                                                                                                                                                                                                                                                                                          0.0\n",
       "rev_title_comp                                                                                                                                                                                                                                                                                                                                                                                                                                                                                                                                        0.5719\n",
       "help_prop                                                                                                                                                                                                                                                                                                                                                                                                                                                                                                                                                NaN"
      ]
     },
     "execution_count": 44,
     "metadata": {},
     "output_type": "execute_result"
    }
   ],
   "source": [
    "one_file.iloc[2].to_frame()"
   ]
  },
  {
   "cell_type": "code",
   "execution_count": 45,
   "id": "5929108d",
   "metadata": {},
   "outputs": [],
   "source": [
    "def id_for_dictionary(dic):\n",
    "    if len(dic) == 4:\n",
    "        ind = list(dic.values()).index(max(list(dic.values())[0:-1])) #remove the compound\n",
    "    else:\n",
    "        ind = list(dic.values()).index(max(list(dic.values())))\n",
    "        \n",
    "    if ind == 1:\n",
    "        return 0\n",
    "    elif ind == 0:\n",
    "        return -1\n",
    "    else:\n",
    "        return 1"
   ]
  },
  {
   "cell_type": "code",
   "execution_count": 46,
   "id": "cc2df154",
   "metadata": {},
   "outputs": [],
   "source": [
    "def id_for_prop(prop):\n",
    "    if prop < 0.45:\n",
    "        return -1\n",
    "    elif prop > 0.55:\n",
    "        return 1\n",
    "    else:\n",
    "        return 0"
   ]
  },
  {
   "cell_type": "code",
   "execution_count": 47,
   "id": "01f21ace",
   "metadata": {},
   "outputs": [],
   "source": [
    "one_file['rev_bod_id'] = one_file.get(\"rev_dict\").apply(id_for_dictionary)"
   ]
  },
  {
   "cell_type": "code",
   "execution_count": 48,
   "id": "79d18fd7",
   "metadata": {},
   "outputs": [],
   "source": [
    "one_file['help_prop_id'] = one_file.get(\"help_prop\").apply(id_for_prop)"
   ]
  },
  {
   "cell_type": "markdown",
   "id": "b504ff3a",
   "metadata": {},
   "source": [
    "find percentages for the body -- text and display those in a column -- act as labels for the percent positivity of the review body and header themselves"
   ]
  },
  {
   "cell_type": "code",
   "execution_count": 49,
   "id": "2a00eb04",
   "metadata": {},
   "outputs": [],
   "source": [
    "#imp_col = one_file[['verified_purchase', 'prod_title_comp', 'star_rating', 'rev_title_comp', 'neg_prop', 'neu_prop', 'pos_prop', 'help_prop']]\n",
    "imp_col = one_file[['verified_purchase', 'prod_title_comp', 'star_rating', 'rev_title_comp', 'rev_bod_id', 'help_prop_id']]"
   ]
  },
  {
   "cell_type": "code",
   "execution_count": 50,
   "id": "f89729e8",
   "metadata": {},
   "outputs": [
    {
     "data": {
      "text/plain": [
       "verified_purchase     object\n",
       "prod_title_comp      float64\n",
       "star_rating            int64\n",
       "rev_title_comp       float64\n",
       "rev_bod_id             int64\n",
       "help_prop_id           int64\n",
       "dtype: object"
      ]
     },
     "execution_count": 50,
     "metadata": {},
     "output_type": "execute_result"
    }
   ],
   "source": [
    "imp_col.dtypes"
   ]
  },
  {
   "cell_type": "code",
   "execution_count": 51,
   "id": "135c2725",
   "metadata": {},
   "outputs": [
    {
     "data": {
      "text/plain": [
       "'\\nfrom sklearn.preprocessing import LabelEncoder\\nle = LabelEncoder()\\nX[:,1] = le.fit_transform(X[:,1])\\n'"
      ]
     },
     "execution_count": 51,
     "metadata": {},
     "output_type": "execute_result"
    }
   ],
   "source": [
    "#need to replace review_body and review_headline with percentages for sentiment -- easier to use for classification\n",
    "#vine needs to be converted to a yes/no binary column similar to how positively rated was determined\n",
    "#use original dataset with rating 3 available\n",
    "\n",
    "#X = imp_col.iloc[:, [1, 2, 3, 4, 5, 6, 7, 8, 9, 10, 11]].values\n",
    "X = imp_col.iloc[:, [1,2,3,4,5]].values #only taking in the categories that will be used as a dataframe\n",
    "y = imp_col.iloc[:, 0].values\n",
    "\n",
    "\"\"\"\n",
    "from sklearn.preprocessing import LabelEncoder\n",
    "le = LabelEncoder()\n",
    "X[:,1] = le.fit_transform(X[:,1])\n",
    "\"\"\""
   ]
  },
  {
   "cell_type": "code",
   "execution_count": 52,
   "id": "c34bc142",
   "metadata": {},
   "outputs": [
    {
     "data": {
      "text/plain": [
       "array([[0.    , 5.    , 0.    , 0.    , 0.    ],\n",
       "       [0.    , 4.    , 0.2023, 0.    , 0.    ],\n",
       "       [0.    , 5.    , 0.5719, 1.    , 0.    ],\n",
       "       ...,\n",
       "       [0.    , 3.    , 0.    , 0.    , 0.    ],\n",
       "       [0.    , 5.    , 0.4404, 1.    , 0.    ],\n",
       "       [0.4215, 5.    , 0.    , 1.    , 0.    ]])"
      ]
     },
     "execution_count": 52,
     "metadata": {},
     "output_type": "execute_result"
    }
   ],
   "source": [
    "X"
   ]
  },
  {
   "cell_type": "markdown",
   "id": "a214d667",
   "metadata": {},
   "source": [
    "#Since our dataset containing character variables we have to encode it using LabelEncoder\n",
    "\n",
    "from sklearn.preprocessing import LabelEncoder\n",
    "le = LabelEncoder()\n",
    "X[:,2] = le.fit_transform(X[:,2])"
   ]
  },
  {
   "cell_type": "code",
   "execution_count": 53,
   "id": "ca3f1a98",
   "metadata": {},
   "outputs": [],
   "source": [
    "from sklearn.model_selection import train_test_split\n",
    "X_train, X_test, y_train, y_test = train_test_split(X, y, test_size = 0.20, random_state = 0)"
   ]
  },
  {
   "cell_type": "code",
   "execution_count": 54,
   "id": "94ab9eba",
   "metadata": {},
   "outputs": [],
   "source": [
    "# Next, we are doing feature scaling to the training and test set of independent variables for reducing the size to smaller values\n",
    "from sklearn.preprocessing import StandardScaler\n",
    "sc = StandardScaler()\n",
    "X_train = sc.fit_transform(X_train)\n",
    "X_test = sc.transform(X_test)"
   ]
  },
  {
   "cell_type": "code",
   "execution_count": 55,
   "id": "8018f66a",
   "metadata": {},
   "outputs": [
    {
     "data": {
      "text/plain": [
       "KNeighborsClassifier(metric='euclidean', n_neighbors=20, p=1)"
      ]
     },
     "execution_count": 55,
     "metadata": {},
     "output_type": "execute_result"
    }
   ],
   "source": [
    "from sklearn.neighbors import KNeighborsClassifier\n",
    "\n",
    "#we are using \n",
    "#5 neighborhood points are required for classifying a given point -- distance metric is using the minkonowski equation\n",
    "knn_classifier = KNeighborsClassifier(n_neighbors = 20, metric = 'euclidean', p = 1)\n",
    "knn_classifier.fit(X_train, y_train)"
   ]
  },
  {
   "cell_type": "code",
   "execution_count": 56,
   "id": "6612ff45",
   "metadata": {},
   "outputs": [],
   "source": [
    "y_pred = knn_classifier.predict(X_test)"
   ]
  },
  {
   "cell_type": "code",
   "execution_count": 57,
   "id": "0baa91a4",
   "metadata": {},
   "outputs": [],
   "source": [
    "#We can evaluate our model using the confusion matrix and accuracy score by comparing the predicted and actual test values\n",
    "\n",
    "from sklearn.metrics import confusion_matrix,accuracy_score\n",
    "cm = confusion_matrix(y_test, y_pred)\n",
    "ac = accuracy_score(y_test,y_pred)"
   ]
  },
  {
   "cell_type": "code",
   "execution_count": 58,
   "id": "5f28301b",
   "metadata": {},
   "outputs": [
    {
     "name": "stdout",
     "output_type": "stream",
     "text": [
      "[[   23  9662]\n",
      " [   47 90262]]\n"
     ]
    }
   ],
   "source": [
    "print(cm)"
   ]
  },
  {
   "cell_type": "code",
   "execution_count": 59,
   "id": "f84dd694",
   "metadata": {},
   "outputs": [
    {
     "name": "stdout",
     "output_type": "stream",
     "text": [
      "0.902904174250455\n"
     ]
    }
   ],
   "source": [
    "print(ac)"
   ]
  },
  {
   "cell_type": "code",
   "execution_count": 60,
   "id": "3447bcd6",
   "metadata": {},
   "outputs": [],
   "source": [
    "#Can see the model performance and add more features accordingly -- \n",
    "#would be good if the performance is greater than 85%"
   ]
  },
  {
   "cell_type": "markdown",
   "id": "a26441ca",
   "metadata": {},
   "source": [
    "### Test on a product review - Need to write a *function* for this for taking in the user input\n",
    "\n",
    "The features that we are looking at!\n",
    "* 'prod_title_comp', \n",
    "* 'star_rating', \n",
    "* 'rev_title_comp', \n",
    "* 'rev_bod_id', \n",
    "* 'help_prop_id'"
   ]
  },
  {
   "cell_type": "code",
   "execution_count": 61,
   "id": "202fc35e",
   "metadata": {},
   "outputs": [],
   "source": [
    "review_body = \"this is a good review\"\n",
    "product_title = \"Sony Headphones\"\n",
    "review_title = 'Love the product!'\n",
    "\n",
    "star_rating = 5\n",
    "helpful_votes = 1\n",
    "total_votes = 1"
   ]
  },
  {
   "cell_type": "code",
   "execution_count": 62,
   "id": "04c4ed80",
   "metadata": {},
   "outputs": [
    {
     "data": {
      "text/html": [
       "<div>\n",
       "<style scoped>\n",
       "    .dataframe tbody tr th:only-of-type {\n",
       "        vertical-align: middle;\n",
       "    }\n",
       "\n",
       "    .dataframe tbody tr th {\n",
       "        vertical-align: top;\n",
       "    }\n",
       "\n",
       "    .dataframe thead th {\n",
       "        text-align: right;\n",
       "    }\n",
       "</style>\n",
       "<table border=\"1\" class=\"dataframe\">\n",
       "  <thead>\n",
       "    <tr style=\"text-align: right;\">\n",
       "      <th></th>\n",
       "      <th>review_body</th>\n",
       "      <th>review_title</th>\n",
       "      <th>product_title</th>\n",
       "    </tr>\n",
       "  </thead>\n",
       "  <tbody>\n",
       "    <tr>\n",
       "      <th>0</th>\n",
       "      <td>this is a good review</td>\n",
       "      <td>Love the product!</td>\n",
       "      <td>Sony Headphones</td>\n",
       "    </tr>\n",
       "  </tbody>\n",
       "</table>\n",
       "</div>"
      ],
      "text/plain": [
       "             review_body       review_title    product_title\n",
       "0  this is a good review  Love the product!  Sony Headphones"
      ]
     },
     "execution_count": 62,
     "metadata": {},
     "output_type": "execute_result"
    }
   ],
   "source": [
    "test = pd.DataFrame()\n",
    "test['review_body'] = np.array([review_body])\n",
    "test['review_title'] = np.array([review_title])\n",
    "test['product_title'] = np.array([product_title])\n",
    "test"
   ]
  },
  {
   "cell_type": "code",
   "execution_count": 63,
   "id": "11b67be6",
   "metadata": {},
   "outputs": [
    {
     "data": {
      "text/html": [
       "<div>\n",
       "<style scoped>\n",
       "    .dataframe tbody tr th:only-of-type {\n",
       "        vertical-align: middle;\n",
       "    }\n",
       "\n",
       "    .dataframe tbody tr th {\n",
       "        vertical-align: top;\n",
       "    }\n",
       "\n",
       "    .dataframe thead th {\n",
       "        text-align: right;\n",
       "    }\n",
       "</style>\n",
       "<table border=\"1\" class=\"dataframe\">\n",
       "  <thead>\n",
       "    <tr style=\"text-align: right;\">\n",
       "      <th></th>\n",
       "      <th>review_body</th>\n",
       "      <th>review_title</th>\n",
       "      <th>product_title</th>\n",
       "      <th>new_review_body</th>\n",
       "      <th>new_review_title</th>\n",
       "      <th>new_product_title</th>\n",
       "    </tr>\n",
       "  </thead>\n",
       "  <tbody>\n",
       "    <tr>\n",
       "      <th>0</th>\n",
       "      <td>this is a good review</td>\n",
       "      <td>Love the product!</td>\n",
       "      <td>Sony Headphones</td>\n",
       "      <td>good review</td>\n",
       "      <td>love product</td>\n",
       "      <td>sony headphone</td>\n",
       "    </tr>\n",
       "  </tbody>\n",
       "</table>\n",
       "</div>"
      ],
      "text/plain": [
       "             review_body       review_title    product_title new_review_body  \\\n",
       "0  this is a good review  Love the product!  Sony Headphones     good review   \n",
       "\n",
       "  new_review_title new_product_title  \n",
       "0     love product    sony headphone  "
      ]
     },
     "execution_count": 63,
     "metadata": {},
     "output_type": "execute_result"
    }
   ],
   "source": [
    "out = df_cleaning(test, 'review_body')\n",
    "out = df_cleaning(out, 'review_title')\n",
    "out = df_cleaning(out, 'product_title')\n",
    "out"
   ]
  },
  {
   "cell_type": "code",
   "execution_count": 64,
   "id": "2ac45943",
   "metadata": {},
   "outputs": [
    {
     "data": {
      "text/plain": [
       "'this is a good review'"
      ]
     },
     "execution_count": 64,
     "metadata": {},
     "output_type": "execute_result"
    }
   ],
   "source": [
    "out['review_body'][0]"
   ]
  },
  {
   "cell_type": "markdown",
   "id": "b12d6004",
   "metadata": {},
   "source": [
    "def get_sentiment_proportions(review):\n",
    "    \"\"\"\n",
    "    create new dataframe with just the proportions for each review\n",
    "    four columns\n",
    "    neg_prop, pos_prop, neu_prop, compound_prop and will contain these values\n",
    "    obtained from the vator sentiment algorithm\n",
    "    \"\"\"\n",
    "    snt = analyser.polarity_scores(review)\n",
    "    #print(f\"{sentence} {str(snt)}\")\n",
    "    neg = snt['neg']\n",
    "    neu = snt['neu']\n",
    "    pos = snt['pos']\n",
    "    #compound = snt['compound']\n",
    "    return neg, neu, pos\n",
    "\n",
    "neg, neu, pos = get_sentiment_proportions(out.get(\"new_review_body\").iloc[0])\n",
    "\n",
    "product_category = convert_to_id(product_category)\n",
    "product_title = only_compound(product_title)\n",
    "rev_title = only_compound(review_title)"
   ]
  },
  {
   "cell_type": "code",
   "execution_count": 65,
   "id": "0522151d",
   "metadata": {},
   "outputs": [],
   "source": [
    "rev_bod_id = id_for_dictionary(analyser.polarity_scores(out['new_review_body'][0]))\n",
    "help_prop_id = id_for_prop(helpful_votes / total_votes)\n",
    "prod_title_comp = only_compound(out['new_review_title'][0])\n",
    "rev_title_comp = only_compound(out['new_product_title'][0])"
   ]
  },
  {
   "cell_type": "markdown",
   "id": "9be33774",
   "metadata": {},
   "source": [
    "Predicted: 'verified_purchase'\n",
    "\n",
    "User Input: 'prod_title_comp', 'product_category_convert', 'star_rating', 'helpful_votes', 'total_votes', 'neg_prop', 'neu_prop', 'pos_prop'\n",
    "- 8 fields"
   ]
  },
  {
   "cell_type": "code",
   "execution_count": 66,
   "id": "e5a61dee",
   "metadata": {},
   "outputs": [
    {
     "data": {
      "text/plain": [
       "array([[0.6369, 5.    , 0.    , 1.    , 1.    ]])"
      ]
     },
     "execution_count": 66,
     "metadata": {},
     "output_type": "execute_result"
    }
   ],
   "source": [
    "rev_input_test = np.array([[prod_title_comp, star_rating, rev_title_comp, rev_bod_id, help_prop_id]])\n",
    "rev_input_test"
   ]
  },
  {
   "cell_type": "code",
   "execution_count": 67,
   "id": "3c5bf0f0",
   "metadata": {},
   "outputs": [],
   "source": [
    "prediction, probabilities = knn_classifier.predict(rev_input_test), knn_classifier.predict_proba(rev_input_test)[0]"
   ]
  },
  {
   "cell_type": "code",
   "execution_count": 68,
   "id": "b8b0cebb",
   "metadata": {},
   "outputs": [
    {
     "data": {
      "text/plain": [
       "array(['Y'], dtype=object)"
      ]
     },
     "execution_count": 68,
     "metadata": {},
     "output_type": "execute_result"
    }
   ],
   "source": [
    "prediction"
   ]
  },
  {
   "cell_type": "code",
   "execution_count": 69,
   "id": "b09957ee",
   "metadata": {},
   "outputs": [
    {
     "data": {
      "text/plain": [
       "array([0.1, 0.9])"
      ]
     },
     "execution_count": 69,
     "metadata": {},
     "output_type": "execute_result"
    }
   ],
   "source": [
    "probabilities"
   ]
  },
  {
   "cell_type": "markdown",
   "id": "1f22f390",
   "metadata": {},
   "source": [
    "classifier?"
   ]
  },
  {
   "cell_type": "code",
   "execution_count": 70,
   "id": "9e4bab39",
   "metadata": {},
   "outputs": [
    {
     "ename": "NameError",
     "evalue": "name 'review_test' is not defined",
     "output_type": "error",
     "traceback": [
      "\u001b[1;31m---------------------------------------------------------------------------\u001b[0m",
      "\u001b[1;31mNameError\u001b[0m                                 Traceback (most recent call last)",
      "\u001b[1;32m<ipython-input-70-21de6c9d9f96>\u001b[0m in \u001b[0;36m<module>\u001b[1;34m\u001b[0m\n\u001b[0;32m      6\u001b[0m         \u001b[0mprint\u001b[0m\u001b[1;33m(\u001b[0m\u001b[1;34mf'\"{review}\" is predicted to be an UNVERIFIED review, with {proba[0]*100}% probability of being UNVERIFIED and {proba[1]*100}% probability of being VERIFIED'\u001b[0m\u001b[1;33m)\u001b[0m\u001b[1;33m\u001b[0m\u001b[1;33m\u001b[0m\u001b[0m\n\u001b[0;32m      7\u001b[0m \u001b[1;33m\u001b[0m\u001b[0m\n\u001b[1;32m----> 8\u001b[1;33m \u001b[0minterpret_prediction\u001b[0m\u001b[1;33m(\u001b[0m\u001b[0mreview_test\u001b[0m\u001b[1;33m,\u001b[0m \u001b[0mprediction\u001b[0m\u001b[1;33m,\u001b[0m \u001b[0mprobabilities\u001b[0m\u001b[1;33m)\u001b[0m\u001b[1;33m\u001b[0m\u001b[1;33m\u001b[0m\u001b[0m\n\u001b[0m",
      "\u001b[1;31mNameError\u001b[0m: name 'review_test' is not defined"
     ]
    }
   ],
   "source": [
    "def interpret_prediction(review, pred, proba):\n",
    "    proba = [round(proba[0], 3), round(proba[1], 3)]\n",
    "    if prediction[0] == 'Y':\n",
    "        print(f'\"{review}\" is predicted to be a VERIFIED review, with {proba[1]*100}% probability of being VERIFIED and {proba[0]*100}% probability of being UNVERIFIED')\n",
    "    if prediction[0] == 'N':\n",
    "        print(f'\"{review}\" is predicted to be an UNVERIFIED review, with {proba[0]*100}% probability of being UNVERIFIED and {proba[1]*100}% probability of being VERIFIED')\n",
    "        \n",
    "interpret_prediction(review_test, prediction, probabilities)"
   ]
  },
  {
   "cell_type": "code",
   "execution_count": null,
   "id": "bd0d5975",
   "metadata": {},
   "outputs": [],
   "source": [
    "from joblib import dump, load"
   ]
  },
  {
   "cell_type": "code",
   "execution_count": null,
   "id": "90c15e82",
   "metadata": {},
   "outputs": [],
   "source": [
    "knn_classifier"
   ]
  },
  {
   "cell_type": "code",
   "execution_count": null,
   "id": "43d85436",
   "metadata": {},
   "outputs": [],
   "source": [
    "name = 'knn_working_model_2.joblib'\n",
    "path = 'KNNModelFiles/'\n",
    "dump(knn_classifier, path+name)"
   ]
  },
  {
   "cell_type": "code",
   "execution_count": null,
   "id": "c0050fba",
   "metadata": {},
   "outputs": [],
   "source": [
    "knn_classifier = load(path+name)"
   ]
  },
  {
   "cell_type": "code",
   "execution_count": null,
   "id": "0e7553e1",
   "metadata": {},
   "outputs": [],
   "source": []
  }
 ],
 "metadata": {
  "kernelspec": {
   "display_name": "Python 3",
   "language": "python",
   "name": "python3"
  },
  "language_info": {
   "codemirror_mode": {
    "name": "ipython",
    "version": 3
   },
   "file_extension": ".py",
   "mimetype": "text/x-python",
   "name": "python",
   "nbconvert_exporter": "python",
   "pygments_lexer": "ipython3",
   "version": "3.8.8"
  }
 },
 "nbformat": 4,
 "nbformat_minor": 5
}
