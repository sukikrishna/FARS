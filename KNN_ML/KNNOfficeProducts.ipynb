{
 "cells": [
  {
   "cell_type": "code",
   "execution_count": 1,
   "metadata": {},
   "outputs": [],
   "source": [
    "# import libraries\n",
    "\n",
    "import numpy as np\n",
    "import pandas as pd\n",
    "\n",
    "import seaborn as sns\n",
    "import matplotlib.pyplot as plt\n",
    "\n",
    "# These are all the imports needed for the assignment\n",
    "%matplotlib inline\n",
    "\n",
    "# Import nltk package (Natural Language Toolkit)\n",
    "import nltk\n",
    "from nltk.tokenize import word_tokenize\n",
    "from nltk.corpus import stopwords\n",
    "\n",
    "import warnings\n",
    "warnings.filterwarnings('ignore')\n",
    "\n",
    "# scikit-learn imports\n",
    "from sklearn.model_selection import train_test_split\n",
    "from sklearn.svm import SVC\n",
    "from sklearn.feature_extraction.text import CountVectorizer, TfidfVectorizer\n",
    "from sklearn.metrics import classification_report, precision_recall_fscore_support"
   ]
  },
  {
   "cell_type": "code",
   "execution_count": 2,
   "metadata": {},
   "outputs": [
    {
     "name": "stderr",
     "output_type": "stream",
     "text": [
      "[nltk_data] Downloading package punkt to\n",
      "[nltk_data]     C:\\Users\\sukan\\AppData\\Roaming\\nltk_data...\n",
      "[nltk_data]   Package punkt is already up-to-date!\n",
      "[nltk_data] Downloading package stopwords to\n",
      "[nltk_data]     C:\\Users\\sukan\\AppData\\Roaming\\nltk_data...\n",
      "[nltk_data]   Package stopwords is already up-to-date!\n"
     ]
    },
    {
     "data": {
      "text/plain": [
       "True"
      ]
     },
     "execution_count": 2,
     "metadata": {},
     "output_type": "execute_result"
    }
   ],
   "source": [
    "# Download the NLTK English tokenizer and the stopwords of all languages\n",
    "nltk.download('punkt')\n",
    "nltk.download('stopwords')"
   ]
  },
  {
   "cell_type": "code",
   "execution_count": 3,
   "metadata": {},
   "outputs": [],
   "source": [
    "pd.set_option('display.max_columns', None)\n",
    "pd.set_option('display.max_rows', None)\n",
    "pd.set_option('display.max_colwidth', None)"
   ]
  },
  {
   "cell_type": "code",
   "execution_count": 4,
   "metadata": {},
   "outputs": [],
   "source": [
    "files = ['amazon_reviews_us_Electronics_v1_00.tsv', \\\n",
    "         'amazon_reviews_us_Gift_Card_v1_00.tsv', \\\n",
    "         'amazon_reviews_us_Major_Appliances_v1_00.tsv', \\\n",
    "         'amazon_reviews_us_Office_Products_v1_00.tsv', \\\n",
    "         'amazon_reviews_us_Shoes_v1_00.tsv', \\\n",
    "         'amazon_reviews_us_Toys_v1_00.tsv', \\\n",
    "         'amazon_reviews_us_Watches_v1_00.tsv']"
   ]
  },
  {
   "cell_type": "code",
   "execution_count": 5,
   "metadata": {},
   "outputs": [],
   "source": [
    "columns = ['marketplace', 'customer_id', 'review_id', 'product_id', 'product_parent', 'product_title', 'product_category', \\\n",
    "           'star_rating', 'helpful_votes', 'total_votes', 'vine', 'verified_purchase', 'review_headline', 'review_body', 'review_date']\n",
    "elec_df = pd.read_csv('fars_data/' + files[3], names =  columns, sep = '\\t').iloc[1:,:]"
   ]
  },
  {
   "cell_type": "code",
   "execution_count": 6,
   "metadata": {},
   "outputs": [
    {
     "data": {
      "text/plain": [
       "(1559427, 15)"
      ]
     },
     "execution_count": 6,
     "metadata": {},
     "output_type": "execute_result"
    }
   ],
   "source": [
    "elec_df.shape"
   ]
  },
  {
   "cell_type": "code",
   "execution_count": 7,
   "metadata": {},
   "outputs": [],
   "source": [
    "elec_df = elec_df.sample(n = 1_000_000)"
   ]
  },
  {
   "cell_type": "code",
   "execution_count": 8,
   "metadata": {},
   "outputs": [],
   "source": [
    "one_file = elec_df.copy()"
   ]
  },
  {
   "cell_type": "code",
   "execution_count": 9,
   "metadata": {},
   "outputs": [
    {
     "data": {
      "text/html": [
       "<div>\n",
       "<style scoped>\n",
       "    .dataframe tbody tr th:only-of-type {\n",
       "        vertical-align: middle;\n",
       "    }\n",
       "\n",
       "    .dataframe tbody tr th {\n",
       "        vertical-align: top;\n",
       "    }\n",
       "\n",
       "    .dataframe thead th {\n",
       "        text-align: right;\n",
       "    }\n",
       "</style>\n",
       "<table border=\"1\" class=\"dataframe\">\n",
       "  <thead>\n",
       "    <tr style=\"text-align: right;\">\n",
       "      <th></th>\n",
       "      <th>marketplace</th>\n",
       "      <th>customer_id</th>\n",
       "      <th>review_id</th>\n",
       "      <th>product_id</th>\n",
       "      <th>product_parent</th>\n",
       "      <th>product_title</th>\n",
       "      <th>product_category</th>\n",
       "      <th>star_rating</th>\n",
       "      <th>helpful_votes</th>\n",
       "      <th>total_votes</th>\n",
       "      <th>vine</th>\n",
       "      <th>verified_purchase</th>\n",
       "      <th>review_headline</th>\n",
       "      <th>review_body</th>\n",
       "      <th>review_date</th>\n",
       "    </tr>\n",
       "  </thead>\n",
       "  <tbody>\n",
       "    <tr>\n",
       "      <th>53780</th>\n",
       "      <td>US</td>\n",
       "      <td>20658634</td>\n",
       "      <td>R2MXMLRI2E4XD8</td>\n",
       "      <td>B003QIMPV0</td>\n",
       "      <td>638568010</td>\n",
       "      <td>Hexomatic Ballpoint Silver Pen</td>\n",
       "      <td>Office Products</td>\n",
       "      <td>5</td>\n",
       "      <td>0</td>\n",
       "      <td>0</td>\n",
       "      <td>N</td>\n",
       "      <td>Y</td>\n",
       "      <td>Five Stars</td>\n",
       "      <td>Love the pen works great use it every day.</td>\n",
       "      <td>2015-08-17</td>\n",
       "    </tr>\n",
       "    <tr>\n",
       "      <th>497417</th>\n",
       "      <td>US</td>\n",
       "      <td>30807357</td>\n",
       "      <td>R2IUSSM1XJWKD5</td>\n",
       "      <td>B00112BS34</td>\n",
       "      <td>331943404</td>\n",
       "      <td>Sentry Tilt-Display Desktop Calculator, Black (CA270)</td>\n",
       "      <td>Office Products</td>\n",
       "      <td>5</td>\n",
       "      <td>0</td>\n",
       "      <td>0</td>\n",
       "      <td>N</td>\n",
       "      <td>Y</td>\n",
       "      <td>As advertised</td>\n",
       "      <td>So far so good</td>\n",
       "      <td>2015-03-29</td>\n",
       "    </tr>\n",
       "    <tr>\n",
       "      <th>1366242</th>\n",
       "      <td>US</td>\n",
       "      <td>3124060</td>\n",
       "      <td>RDNIZWARDVHHS</td>\n",
       "      <td>B009MSFV0A</td>\n",
       "      <td>393196302</td>\n",
       "      <td>Generic ML-D101S Variation-</td>\n",
       "      <td>Office Products</td>\n",
       "      <td>1</td>\n",
       "      <td>0</td>\n",
       "      <td>0</td>\n",
       "      <td>N</td>\n",
       "      <td>Y</td>\n",
       "      <td>PREMIUM REPLACEMENT TONER CARTRIDGES MARKED A1-mlt-D101 do not work in samsung scx3405FW printers as Adv.</td>\n",
       "      <td>I bought two of these ink cartridges and they did not fit the Samsung scx3405fw.  My machine kept saying they were incompatible w/ my machine. I finally got pissed off and went to office depot and bought one and it fit perfect and worked perfect. I would not buy this garbage again if they were 25 cents each. It did not work it my laser printer as the box even showed it would.</td>\n",
       "      <td>2014-05-25</td>\n",
       "    </tr>\n",
       "    <tr>\n",
       "      <th>278215</th>\n",
       "      <td>US</td>\n",
       "      <td>21963669</td>\n",
       "      <td>R17BVYKLV04QOT</td>\n",
       "      <td>B001B39PFG</td>\n",
       "      <td>643713377</td>\n",
       "      <td>VELCRO Brand - Adhesive - for Plastics 1 Oz Tube Adhesive</td>\n",
       "      <td>Office Products</td>\n",
       "      <td>5</td>\n",
       "      <td>0.0</td>\n",
       "      <td>0.0</td>\n",
       "      <td>N</td>\n",
       "      <td>N</td>\n",
       "      <td>It worked great!</td>\n",
       "      <td>I used this glue to adhere velcro to a blood pressure cuff that I bought on ebay. It was a brand new cuff, just didn't have the velcro glued on sufficiently. It worked great!</td>\n",
       "      <td>2015-06-08</td>\n",
       "    </tr>\n",
       "    <tr>\n",
       "      <th>284378</th>\n",
       "      <td>US</td>\n",
       "      <td>4777894</td>\n",
       "      <td>R1Y8TL7KKS51K4</td>\n",
       "      <td>B0055T3HOW</td>\n",
       "      <td>904254287</td>\n",
       "      <td>3dRose Mexicana colorful skulls woman women fine art mexico - Mouse Pad, 8 by 8 inches (mp_21205_1)</td>\n",
       "      <td>Office Products</td>\n",
       "      <td>5</td>\n",
       "      <td>0.0</td>\n",
       "      <td>0.0</td>\n",
       "      <td>N</td>\n",
       "      <td>Y</td>\n",
       "      <td>Five Stars</td>\n",
       "      <td>Love it! Fast shipping!</td>\n",
       "      <td>2015-06-06</td>\n",
       "    </tr>\n",
       "  </tbody>\n",
       "</table>\n",
       "</div>"
      ],
      "text/plain": [
       "        marketplace customer_id       review_id  product_id product_parent  \\\n",
       "53780            US    20658634  R2MXMLRI2E4XD8  B003QIMPV0      638568010   \n",
       "497417           US    30807357  R2IUSSM1XJWKD5  B00112BS34      331943404   \n",
       "1366242          US     3124060   RDNIZWARDVHHS  B009MSFV0A      393196302   \n",
       "278215           US    21963669  R17BVYKLV04QOT  B001B39PFG      643713377   \n",
       "284378           US     4777894  R1Y8TL7KKS51K4  B0055T3HOW      904254287   \n",
       "\n",
       "                                                                                               product_title  \\\n",
       "53780                                                                         Hexomatic Ballpoint Silver Pen   \n",
       "497417                                                 Sentry Tilt-Display Desktop Calculator, Black (CA270)   \n",
       "1366242                                                                          Generic ML-D101S Variation-   \n",
       "278215                                             VELCRO Brand - Adhesive - for Plastics 1 Oz Tube Adhesive   \n",
       "284378   3dRose Mexicana colorful skulls woman women fine art mexico - Mouse Pad, 8 by 8 inches (mp_21205_1)   \n",
       "\n",
       "        product_category star_rating helpful_votes total_votes vine  \\\n",
       "53780    Office Products           5             0           0    N   \n",
       "497417   Office Products           5             0           0    N   \n",
       "1366242  Office Products           1             0           0    N   \n",
       "278215   Office Products           5           0.0         0.0    N   \n",
       "284378   Office Products           5           0.0         0.0    N   \n",
       "\n",
       "        verified_purchase  \\\n",
       "53780                   Y   \n",
       "497417                  Y   \n",
       "1366242                 Y   \n",
       "278215                  N   \n",
       "284378                  Y   \n",
       "\n",
       "                                                                                                   review_headline  \\\n",
       "53780                                                                                                   Five Stars   \n",
       "497417                                                                                               As advertised   \n",
       "1366242  PREMIUM REPLACEMENT TONER CARTRIDGES MARKED A1-mlt-D101 do not work in samsung scx3405FW printers as Adv.   \n",
       "278215                                                                                            It worked great!   \n",
       "284378                                                                                                  Five Stars   \n",
       "\n",
       "                                                                                                                                                                                                                                                                                                                                                                                        review_body  \\\n",
       "53780                                                                                                                                                                                                                                                                                                                                                    Love the pen works great use it every day.   \n",
       "497417                                                                                                                                                                                                                                                                                                                                                                               So far so good   \n",
       "1366242  I bought two of these ink cartridges and they did not fit the Samsung scx3405fw.  My machine kept saying they were incompatible w/ my machine. I finally got pissed off and went to office depot and bought one and it fit perfect and worked perfect. I would not buy this garbage again if they were 25 cents each. It did not work it my laser printer as the box even showed it would.   \n",
       "278215                                                                                                                                                                                                               I used this glue to adhere velcro to a blood pressure cuff that I bought on ebay. It was a brand new cuff, just didn't have the velcro glued on sufficiently. It worked great!   \n",
       "284378                                                                                                                                                                                                                                                                                                                                                                      Love it! Fast shipping!   \n",
       "\n",
       "        review_date  \n",
       "53780    2015-08-17  \n",
       "497417   2015-03-29  \n",
       "1366242  2014-05-25  \n",
       "278215   2015-06-08  \n",
       "284378   2015-06-06  "
      ]
     },
     "execution_count": 9,
     "metadata": {},
     "output_type": "execute_result"
    }
   ],
   "source": [
    "one_file.head()"
   ]
  },
  {
   "cell_type": "markdown",
   "metadata": {},
   "source": [
    "## Data Sampling"
   ]
  },
  {
   "cell_type": "code",
   "execution_count": 10,
   "metadata": {},
   "outputs": [],
   "source": [
    "def df_sampling(df):\n",
    "    # Since we know that there are more unverified than verified --> we sample based on that\n",
    "    \n",
    "    # Since there are no data values in 'verified_purchase' columns that deviate from 'Y' or 'N' we proceed\n",
    "    verified_count_df = df[df['verified_purchase'] == 'Y']\n",
    "    unverified_count_df = df[df['verified_purchase'] == 'N']\n",
    "    \n",
    "    print(\"Number of verified purchases:\", len(verified_count_df))\n",
    "    print(\"Number of unverified purchases:\", len(unverified_count_df))\n",
    "    \n",
    "    sample_len = len(unverified_count_df)\n",
    "    \n",
    "    verified_sample_df = verified_count_df.sample(n = sample_len)\n",
    "    unified_df = pd.concat([unverified_count_df, verified_sample_df])\n",
    "    \n",
    "    print(\"Number of verified purchases (balanced dataset):\", len(unified_df[unified_df['verified_purchase'] == 'Y']))\n",
    "    print(\"Number of unverified purchases (balanced dataset):\", len(unified_df[unified_df['verified_purchase'] == 'N']))\n",
    "    \n",
    "    return unified_df"
   ]
  },
  {
   "cell_type": "code",
   "execution_count": 11,
   "metadata": {},
   "outputs": [
    {
     "name": "stdout",
     "output_type": "stream",
     "text": [
      "Number of verified purchases: 904402\n",
      "Number of unverified purchases: 95596\n",
      "Number of verified purchases (balanced dataset): 95596\n",
      "Number of unverified purchases (balanced dataset): 95596\n"
     ]
    },
    {
     "data": {
      "text/html": [
       "<div>\n",
       "<style scoped>\n",
       "    .dataframe tbody tr th:only-of-type {\n",
       "        vertical-align: middle;\n",
       "    }\n",
       "\n",
       "    .dataframe tbody tr th {\n",
       "        vertical-align: top;\n",
       "    }\n",
       "\n",
       "    .dataframe thead th {\n",
       "        text-align: right;\n",
       "    }\n",
       "</style>\n",
       "<table border=\"1\" class=\"dataframe\">\n",
       "  <thead>\n",
       "    <tr style=\"text-align: right;\">\n",
       "      <th></th>\n",
       "      <th>marketplace</th>\n",
       "      <th>customer_id</th>\n",
       "      <th>review_id</th>\n",
       "      <th>product_id</th>\n",
       "      <th>product_parent</th>\n",
       "      <th>product_title</th>\n",
       "      <th>product_category</th>\n",
       "      <th>star_rating</th>\n",
       "      <th>helpful_votes</th>\n",
       "      <th>total_votes</th>\n",
       "      <th>vine</th>\n",
       "      <th>verified_purchase</th>\n",
       "      <th>review_headline</th>\n",
       "      <th>review_body</th>\n",
       "      <th>review_date</th>\n",
       "    </tr>\n",
       "  </thead>\n",
       "  <tbody>\n",
       "    <tr>\n",
       "      <th>278215</th>\n",
       "      <td>US</td>\n",
       "      <td>21963669</td>\n",
       "      <td>R17BVYKLV04QOT</td>\n",
       "      <td>B001B39PFG</td>\n",
       "      <td>643713377</td>\n",
       "      <td>VELCRO Brand - Adhesive - for Plastics 1 Oz Tube Adhesive</td>\n",
       "      <td>Office Products</td>\n",
       "      <td>5</td>\n",
       "      <td>0.0</td>\n",
       "      <td>0.0</td>\n",
       "      <td>N</td>\n",
       "      <td>N</td>\n",
       "      <td>It worked great!</td>\n",
       "      <td>I used this glue to adhere velcro to a blood pressure cuff that I bought on ebay. It was a brand new cuff, just didn't have the velcro glued on sufficiently. It worked great!</td>\n",
       "      <td>2015-06-08</td>\n",
       "    </tr>\n",
       "    <tr>\n",
       "      <th>1097166</th>\n",
       "      <td>US</td>\n",
       "      <td>49536101</td>\n",
       "      <td>R2MK8PJSAD2FHM</td>\n",
       "      <td>B0002NYPGU</td>\n",
       "      <td>873001592</td>\n",
       "      <td>Reusable Rubber Finger Gloves(tm) for Durable and Versatile Finger Only Coverage ~ 12 Duet Mixed Finger Gloves(tm) Packet</td>\n",
       "      <td>Office Products</td>\n",
       "      <td>3.0</td>\n",
       "      <td>0.0</td>\n",
       "      <td>1.0</td>\n",
       "      <td>N</td>\n",
       "      <td>N</td>\n",
       "      <td>Sizes run small and will cut off your circulation if you are larger than a woman's size 10.</td>\n",
       "      <td>These worked fine, but I  wish they came in larger sizes. There are similar products, like finger cots that are just as sturdy, but fit better and cost less.</td>\n",
       "      <td>2014-09-25</td>\n",
       "    </tr>\n",
       "  </tbody>\n",
       "</table>\n",
       "</div>"
      ],
      "text/plain": [
       "        marketplace customer_id       review_id  product_id product_parent  \\\n",
       "278215           US    21963669  R17BVYKLV04QOT  B001B39PFG      643713377   \n",
       "1097166          US    49536101  R2MK8PJSAD2FHM  B0002NYPGU      873001592   \n",
       "\n",
       "                                                                                                                     product_title  \\\n",
       "278215                                                                   VELCRO Brand - Adhesive - for Plastics 1 Oz Tube Adhesive   \n",
       "1097166  Reusable Rubber Finger Gloves(tm) for Durable and Versatile Finger Only Coverage ~ 12 Duet Mixed Finger Gloves(tm) Packet   \n",
       "\n",
       "        product_category star_rating helpful_votes total_votes vine  \\\n",
       "278215   Office Products           5           0.0         0.0    N   \n",
       "1097166  Office Products         3.0           0.0         1.0    N   \n",
       "\n",
       "        verified_purchase  \\\n",
       "278215                  N   \n",
       "1097166                 N   \n",
       "\n",
       "                                                                                     review_headline  \\\n",
       "278215                                                                              It worked great!   \n",
       "1097166  Sizes run small and will cut off your circulation if you are larger than a woman's size 10.   \n",
       "\n",
       "                                                                                                                                                                            review_body  \\\n",
       "278215   I used this glue to adhere velcro to a blood pressure cuff that I bought on ebay. It was a brand new cuff, just didn't have the velcro glued on sufficiently. It worked great!   \n",
       "1097166                   These worked fine, but I  wish they came in larger sizes. There are similar products, like finger cots that are just as sturdy, but fit better and cost less.   \n",
       "\n",
       "        review_date  \n",
       "278215   2015-06-08  \n",
       "1097166  2014-09-25  "
      ]
     },
     "metadata": {},
     "output_type": "display_data"
    }
   ],
   "source": [
    "balanced_elec = df_sampling(one_file)\n",
    "display(balanced_elec.head(2))"
   ]
  },
  {
   "cell_type": "code",
   "execution_count": 15,
   "metadata": {},
   "outputs": [
    {
     "name": "stdout",
     "output_type": "stream",
     "text": [
      "The Office Products sample will have size: (191192, 15)\n"
     ]
    }
   ],
   "source": [
    "print(\"The Office Products sample will have size:\", balanced_elec.shape)"
   ]
  },
  {
   "cell_type": "markdown",
   "metadata": {},
   "source": [
    "## Data Cleaning & Type Conversion"
   ]
  },
  {
   "cell_type": "code",
   "execution_count": 16,
   "metadata": {},
   "outputs": [],
   "source": [
    "#one_file = balanced_elec.copy()"
   ]
  },
  {
   "cell_type": "code",
   "execution_count": 17,
   "metadata": {},
   "outputs": [
    {
     "name": "stdout",
     "output_type": "stream",
     "text": [
      "Number of verified purchases (balanced dataset): 904402\n",
      "Number of unverified purchases (balanced dataset): 95596\n"
     ]
    }
   ],
   "source": [
    "print(\"Number of verified purchases (balanced dataset):\", len(one_file[one_file['verified_purchase'] == 'Y']))\n",
    "print(\"Number of unverified purchases (balanced dataset):\", len(one_file[one_file['verified_purchase'] == 'N']))"
   ]
  },
  {
   "cell_type": "code",
   "execution_count": 18,
   "metadata": {},
   "outputs": [
    {
     "data": {
      "text/plain": [
       "5             538138\n",
       "4             122879\n",
       "5             101794\n",
       "1              83116\n",
       "3.0            57961\n",
       "2              38560\n",
       "4              22862\n",
       "1              16433\n",
       "3              10958\n",
       "2               7297\n",
       "2015-06-05         1\n",
       "Name: star_rating, dtype: int64"
      ]
     },
     "execution_count": 18,
     "metadata": {},
     "output_type": "execute_result"
    }
   ],
   "source": [
    "# Star rating of the format '2015-04-02' exists! In addition, np.nan exists in the helpful and total votes\n",
    "one_file['star_rating'].value_counts()"
   ]
  },
  {
   "cell_type": "code",
   "execution_count": 19,
   "metadata": {},
   "outputs": [],
   "source": [
    "# Convert the type of relevant columns to int\n",
    "one_file['star_rating'] = (one_file['star_rating']).apply(lambda star: np.NaN if (len(str(star)) > 3) else star)\n",
    "one_file['star_rating'] = one_file['star_rating'].apply(lambda star: star if (pd.isna(star)) else int(star))\n",
    "one_file['helpful_votes'] = one_file['helpful_votes'].apply(lambda vote: vote if (pd.isna(vote)) else int(vote))\n",
    "one_file['total_votes'] = one_file['total_votes'].apply(lambda vote: vote if (pd.isna(vote)) else int(int(vote)))"
   ]
  },
  {
   "cell_type": "code",
   "execution_count": 20,
   "metadata": {},
   "outputs": [
    {
     "name": "stderr",
     "output_type": "stream",
     "text": [
      "[nltk_data] Downloading package stopwords to\n",
      "[nltk_data]     C:\\Users\\sukan\\AppData\\Roaming\\nltk_data...\n",
      "[nltk_data]   Package stopwords is already up-to-date!\n",
      "[nltk_data] Downloading package wordnet to\n",
      "[nltk_data]     C:\\Users\\sukan\\AppData\\Roaming\\nltk_data...\n",
      "[nltk_data]   Package wordnet is already up-to-date!\n"
     ]
    }
   ],
   "source": [
    "import re\n",
    "\n",
    "import nltk.corpus\n",
    "nltk.download('stopwords')\n",
    "from nltk.corpus import stopwords\n",
    "\n",
    "from nltk.stem.porter import PorterStemmer\n",
    "nltk.download('wordnet')\n",
    "from nltk.stem import WordNetLemmatizer"
   ]
  },
  {
   "cell_type": "code",
   "execution_count": 21,
   "metadata": {},
   "outputs": [],
   "source": [
    "def df_cleaning(df, col):\n",
    "    # Drop rows with na values\n",
    "    df.dropna(inplace = True)\n",
    "    \n",
    "    new_col_name = 'new_' + col\n",
    "    \n",
    "    df[new_col_name] = df[col].copy() \n",
    "    \n",
    "    # Remove unwanted formatting characters\n",
    "    format_strs = dict.fromkeys(['<br /><br />', '&#34', 'br', '&quot', '<br />'], ' ')\n",
    "    \n",
    "    for key in format_strs:\n",
    "        df[new_col_name] = df[new_col_name].apply(lambda review: review.replace(key, format_strs[key]))\n",
    "    # removing quotes produces smthg like this --> 'The product has great ;sound; --> we must remove punctuation\n",
    "\n",
    "    \n",
    "    # Case normalization (lower case)\n",
    "    df[new_col_name] = df[new_col_name].str.lower()\n",
    "    \n",
    "    remove_dict = {\"0\": \"\", \"1\": \"\", \"2\": \"\", \"3\": \"\", \"4\": \"\", \"5\": \"\", \"6\": \"\", \"7\": \"\", \"8\": \"\", \"9\": \"\",\n",
    "                   \"(\": \"\", \")\":\"\"}\n",
    "    for key, val in remove_dict.items():\n",
    "        df[new_col_name] = df[new_col_name].apply(\n",
    "            lambda x: x.replace(key, val))\n",
    "        \n",
    "    # Remove stopwords\n",
    "    stop_lst = stopwords.words('english')\n",
    "    #stop_lst += ([\"can't\", \"i'm\" \"i'd\", \"i've\", \"i'll\", \"that's\", \"there's\", \"they're\"])\n",
    "    # ****Do we not have to take stopwords out BEFORE removing punctuation? Otherwise words with punct like “cant” remains there\n",
    "    df[new_col_name] = df[new_col_name].apply(lambda text_body: \" \".join([word for word in text_body.split() if word not in (stop_lst)]))\n",
    "    \n",
    "    # Removing Unicode Chars (punctuation, URL, @)\n",
    "    df[new_col_name] = df[new_col_name].apply(lambda rev: re.sub(r\"(@\\[A-Za-z0-9]+)|([^0-9A-Za-z \\t])|(\\w+:\\/\\/\\S+)|^rt|http.+?\", \"\", rev))\n",
    "    \n",
    "    # Lemmatization\n",
    "    word_lemmatizer = WordNetLemmatizer()\n",
    "    df[new_col_name] = df[new_col_name].apply(lambda txt: \" \".join([(word_lemmatizer.lemmatize(word)) for word in txt.split()]))\n",
    "    \n",
    "    return df"
   ]
  },
  {
   "cell_type": "code",
   "execution_count": 22,
   "metadata": {},
   "outputs": [
    {
     "data": {
      "text/html": [
       "<div>\n",
       "<style scoped>\n",
       "    .dataframe tbody tr th:only-of-type {\n",
       "        vertical-align: middle;\n",
       "    }\n",
       "\n",
       "    .dataframe tbody tr th {\n",
       "        vertical-align: top;\n",
       "    }\n",
       "\n",
       "    .dataframe thead th {\n",
       "        text-align: right;\n",
       "    }\n",
       "</style>\n",
       "<table border=\"1\" class=\"dataframe\">\n",
       "  <thead>\n",
       "    <tr style=\"text-align: right;\">\n",
       "      <th></th>\n",
       "      <th>review_body</th>\n",
       "      <th>new_review_body</th>\n",
       "    </tr>\n",
       "  </thead>\n",
       "  <tbody>\n",
       "    <tr>\n",
       "      <th>53780</th>\n",
       "      <td>Love the pen works great use it every day.</td>\n",
       "      <td>love pen work great use every day</td>\n",
       "    </tr>\n",
       "    <tr>\n",
       "      <th>497417</th>\n",
       "      <td>So far so good</td>\n",
       "      <td>far good</td>\n",
       "    </tr>\n",
       "    <tr>\n",
       "      <th>1366242</th>\n",
       "      <td>I bought two of these ink cartridges and they did not fit the Samsung scx3405fw.  My machine kept saying they were incompatible w/ my machine. I finally got pissed off and went to office depot and bought one and it fit perfect and worked perfect. I would not buy this garbage again if they were 25 cents each. It did not work it my laser printer as the box even showed it would.</td>\n",
       "      <td>bought two ink cartridge fit samsung scxfw machine kept saying incompatible w machine finally got pissed went office depot bought one fit perfect worked perfect would buy garbage cent each work laser printer box even showed would</td>\n",
       "    </tr>\n",
       "    <tr>\n",
       "      <th>278215</th>\n",
       "      <td>I used this glue to adhere velcro to a blood pressure cuff that I bought on ebay. It was a brand new cuff, just didn't have the velcro glued on sufficiently. It worked great!</td>\n",
       "      <td>used glue adhere velcro blood pressure cuff bought ebay new cuff velcro glued sufficiently worked great</td>\n",
       "    </tr>\n",
       "    <tr>\n",
       "      <th>284378</th>\n",
       "      <td>Love it! Fast shipping!</td>\n",
       "      <td>love it fast shipping</td>\n",
       "    </tr>\n",
       "  </tbody>\n",
       "</table>\n",
       "</div>"
      ],
      "text/plain": [
       "                                                                                                                                                                                                                                                                                                                                                                                        review_body  \\\n",
       "53780                                                                                                                                                                                                                                                                                                                                                    Love the pen works great use it every day.   \n",
       "497417                                                                                                                                                                                                                                                                                                                                                                               So far so good   \n",
       "1366242  I bought two of these ink cartridges and they did not fit the Samsung scx3405fw.  My machine kept saying they were incompatible w/ my machine. I finally got pissed off and went to office depot and bought one and it fit perfect and worked perfect. I would not buy this garbage again if they were 25 cents each. It did not work it my laser printer as the box even showed it would.   \n",
       "278215                                                                                                                                                                                                               I used this glue to adhere velcro to a blood pressure cuff that I bought on ebay. It was a brand new cuff, just didn't have the velcro glued on sufficiently. It worked great!   \n",
       "284378                                                                                                                                                                                                                                                                                                                                                                      Love it! Fast shipping!   \n",
       "\n",
       "                                                                                                                                                                                                                               new_review_body  \n",
       "53780                                                                                                                                                                                                        love pen work great use every day  \n",
       "497417                                                                                                                                                                                                                                far good  \n",
       "1366242  bought two ink cartridge fit samsung scxfw machine kept saying incompatible w machine finally got pissed went office depot bought one fit perfect worked perfect would buy garbage cent each work laser printer box even showed would  \n",
       "278215                                                                                                                                 used glue adhere velcro blood pressure cuff bought ebay new cuff velcro glued sufficiently worked great  \n",
       "284378                                                                                                                                                                                                                   love it fast shipping  "
      ]
     },
     "execution_count": 22,
     "metadata": {},
     "output_type": "execute_result"
    }
   ],
   "source": [
    "cleaned2 = df_cleaning(one_file, 'review_body')\n",
    "cleaned2.get(['review_body', 'new_review_body']).head()"
   ]
  },
  {
   "cell_type": "code",
   "execution_count": 23,
   "metadata": {},
   "outputs": [
    {
     "data": {
      "text/html": [
       "<div>\n",
       "<style scoped>\n",
       "    .dataframe tbody tr th:only-of-type {\n",
       "        vertical-align: middle;\n",
       "    }\n",
       "\n",
       "    .dataframe tbody tr th {\n",
       "        vertical-align: top;\n",
       "    }\n",
       "\n",
       "    .dataframe thead th {\n",
       "        text-align: right;\n",
       "    }\n",
       "</style>\n",
       "<table border=\"1\" class=\"dataframe\">\n",
       "  <thead>\n",
       "    <tr style=\"text-align: right;\">\n",
       "      <th></th>\n",
       "      <th>review_headline</th>\n",
       "      <th>new_review_headline</th>\n",
       "    </tr>\n",
       "  </thead>\n",
       "  <tbody>\n",
       "    <tr>\n",
       "      <th>53780</th>\n",
       "      <td>Five Stars</td>\n",
       "      <td>five star</td>\n",
       "    </tr>\n",
       "    <tr>\n",
       "      <th>497417</th>\n",
       "      <td>As advertised</td>\n",
       "      <td>advertised</td>\n",
       "    </tr>\n",
       "    <tr>\n",
       "      <th>1366242</th>\n",
       "      <td>PREMIUM REPLACEMENT TONER CARTRIDGES MARKED A1-mlt-D101 do not work in samsung scx3405FW printers as Adv.</td>\n",
       "      <td>premium replacement toner cartridge marked amltd work samsung scxfw printer adv</td>\n",
       "    </tr>\n",
       "    <tr>\n",
       "      <th>278215</th>\n",
       "      <td>It worked great!</td>\n",
       "      <td>worked great</td>\n",
       "    </tr>\n",
       "    <tr>\n",
       "      <th>284378</th>\n",
       "      <td>Five Stars</td>\n",
       "      <td>five star</td>\n",
       "    </tr>\n",
       "  </tbody>\n",
       "</table>\n",
       "</div>"
      ],
      "text/plain": [
       "                                                                                                   review_headline  \\\n",
       "53780                                                                                                   Five Stars   \n",
       "497417                                                                                               As advertised   \n",
       "1366242  PREMIUM REPLACEMENT TONER CARTRIDGES MARKED A1-mlt-D101 do not work in samsung scx3405FW printers as Adv.   \n",
       "278215                                                                                            It worked great!   \n",
       "284378                                                                                                  Five Stars   \n",
       "\n",
       "                                                                     new_review_headline  \n",
       "53780                                                                          five star  \n",
       "497417                                                                        advertised  \n",
       "1366242  premium replacement toner cartridge marked amltd work samsung scxfw printer adv  \n",
       "278215                                                                      worked great  \n",
       "284378                                                                         five star  "
      ]
     },
     "execution_count": 23,
     "metadata": {},
     "output_type": "execute_result"
    }
   ],
   "source": [
    "cleaned2 = df_cleaning(one_file, 'review_headline')\n",
    "cleaned2.get(['review_headline', 'new_review_headline']).head()"
   ]
  },
  {
   "cell_type": "code",
   "execution_count": 24,
   "metadata": {},
   "outputs": [
    {
     "data": {
      "text/html": [
       "<div>\n",
       "<style scoped>\n",
       "    .dataframe tbody tr th:only-of-type {\n",
       "        vertical-align: middle;\n",
       "    }\n",
       "\n",
       "    .dataframe tbody tr th {\n",
       "        vertical-align: top;\n",
       "    }\n",
       "\n",
       "    .dataframe thead th {\n",
       "        text-align: right;\n",
       "    }\n",
       "</style>\n",
       "<table border=\"1\" class=\"dataframe\">\n",
       "  <thead>\n",
       "    <tr style=\"text-align: right;\">\n",
       "      <th></th>\n",
       "      <th>product_title</th>\n",
       "      <th>new_product_title</th>\n",
       "    </tr>\n",
       "  </thead>\n",
       "  <tbody>\n",
       "    <tr>\n",
       "      <th>53780</th>\n",
       "      <td>Hexomatic Ballpoint Silver Pen</td>\n",
       "      <td>hexomatic ballpoint silver pen</td>\n",
       "    </tr>\n",
       "    <tr>\n",
       "      <th>497417</th>\n",
       "      <td>Sentry Tilt-Display Desktop Calculator, Black (CA270)</td>\n",
       "      <td>sentry tiltdisplay desktop calculator black ca</td>\n",
       "    </tr>\n",
       "    <tr>\n",
       "      <th>1366242</th>\n",
       "      <td>Generic ML-D101S Variation-</td>\n",
       "      <td>generic mlds variation</td>\n",
       "    </tr>\n",
       "    <tr>\n",
       "      <th>278215</th>\n",
       "      <td>VELCRO Brand - Adhesive - for Plastics 1 Oz Tube Adhesive</td>\n",
       "      <td>velcro brand adhesive plastic oz tube adhesive</td>\n",
       "    </tr>\n",
       "    <tr>\n",
       "      <th>284378</th>\n",
       "      <td>3dRose Mexicana colorful skulls woman women fine art mexico - Mouse Pad, 8 by 8 inches (mp_21205_1)</td>\n",
       "      <td>drose mexicana colorful skull woman woman fine art mexico mouse pad inch mp</td>\n",
       "    </tr>\n",
       "  </tbody>\n",
       "</table>\n",
       "</div>"
      ],
      "text/plain": [
       "                                                                                               product_title  \\\n",
       "53780                                                                         Hexomatic Ballpoint Silver Pen   \n",
       "497417                                                 Sentry Tilt-Display Desktop Calculator, Black (CA270)   \n",
       "1366242                                                                          Generic ML-D101S Variation-   \n",
       "278215                                             VELCRO Brand - Adhesive - for Plastics 1 Oz Tube Adhesive   \n",
       "284378   3dRose Mexicana colorful skulls woman women fine art mexico - Mouse Pad, 8 by 8 inches (mp_21205_1)   \n",
       "\n",
       "                                                                   new_product_title  \n",
       "53780                                                 hexomatic ballpoint silver pen  \n",
       "497417                                sentry tiltdisplay desktop calculator black ca  \n",
       "1366242                                                       generic mlds variation  \n",
       "278215                                velcro brand adhesive plastic oz tube adhesive  \n",
       "284378   drose mexicana colorful skull woman woman fine art mexico mouse pad inch mp  "
      ]
     },
     "execution_count": 24,
     "metadata": {},
     "output_type": "execute_result"
    }
   ],
   "source": [
    "cleaned2 = df_cleaning(one_file, 'product_title')\n",
    "cleaned2.get(['product_title', 'new_product_title']).head()"
   ]
  },
  {
   "cell_type": "code",
   "execution_count": 25,
   "metadata": {},
   "outputs": [
    {
     "name": "stdout",
     "output_type": "stream",
     "text": [
      "Number of verified purchases (balanced dataset): 904352\n",
      "Number of unverified purchases (balanced dataset): 95585\n"
     ]
    }
   ],
   "source": [
    "print(\"Number of verified purchases (balanced dataset):\", len(cleaned2[cleaned2['verified_purchase'] == 'Y']))\n",
    "print(\"Number of unverified purchases (balanced dataset):\", len(cleaned2[cleaned2['verified_purchase'] == 'N']))"
   ]
  },
  {
   "cell_type": "markdown",
   "metadata": {},
   "source": [
    "## Vader Sentiment Analysis"
   ]
  },
  {
   "cell_type": "code",
   "execution_count": 26,
   "metadata": {},
   "outputs": [],
   "source": [
    "from vaderSentiment.vaderSentiment import SentimentIntensityAnalyzer\n",
    "\n",
    "analyser = SentimentIntensityAnalyzer()\n",
    "\n",
    "def get_sentiment_scores(review):\n",
    "    \"\"\"\n",
    "    create new dataframe with just the proportions for each review\n",
    "    four columns\n",
    "    neg_prop, pos_prop, neu_prop, compound_prop and will contain these values\n",
    "    obtained from the vator sentiment algorithm\n",
    "    \"\"\"\n",
    "    snt = analyser.polarity_scores(review)\n",
    "    return snt"
   ]
  },
  {
   "cell_type": "code",
   "execution_count": 27,
   "metadata": {},
   "outputs": [],
   "source": [
    "one_file = cleaned2.copy()"
   ]
  },
  {
   "cell_type": "code",
   "execution_count": 28,
   "metadata": {},
   "outputs": [],
   "source": [
    "# Add 4 new columns to cleaned_elec df: neg_prop, neu_prop, pos_prop, compound_prop\n",
    "one_file['rev_dict'] = one_file['new_review_body'].apply(get_sentiment_scores)\n",
    "\n",
    "def get_neg(review_dict):\n",
    "    return review_dict['neg']\n",
    "\n",
    "def get_neu(review_dict):\n",
    "    return review_dict['neu']\n",
    "\n",
    "def get_pos(review_dict):\n",
    "    return review_dict['pos']\n",
    "\n",
    "def get_compound(review_dict):\n",
    "    return review_dict['compound']\n",
    "\n",
    "def only_compound(x):\n",
    "    dct = get_sentiment_scores(x)\n",
    "    return dct['compound']"
   ]
  },
  {
   "cell_type": "code",
   "execution_count": 29,
   "metadata": {},
   "outputs": [],
   "source": [
    "#get neg prop\n",
    "one_file['neg_prop'] = one_file['rev_dict'].apply(get_neg)\n",
    "#get neu prop\n",
    "one_file['neu_prop'] = one_file['rev_dict'].apply(get_neu)\n",
    "#get pos prop\n",
    "one_file['pos_prop'] = one_file['rev_dict'].apply(get_pos)\n",
    "#get compound prop\n",
    "one_file['compound_prop'] = one_file['rev_dict'].apply(get_compound)"
   ]
  },
  {
   "cell_type": "code",
   "execution_count": 30,
   "metadata": {},
   "outputs": [
    {
     "name": "stdout",
     "output_type": "stream",
     "text": [
      "Number of verified purchases (balanced dataset): 904352\n",
      "Number of unverified purchases (balanced dataset): 95585\n"
     ]
    }
   ],
   "source": [
    "one_file.head()\n",
    "print(\"Number of verified purchases (balanced dataset):\", len(one_file[one_file['verified_purchase'] == 'Y']))\n",
    "print(\"Number of unverified purchases (balanced dataset):\", len(one_file[one_file['verified_purchase'] == 'N']))"
   ]
  },
  {
   "cell_type": "markdown",
   "metadata": {},
   "source": [
    "## Confusion Matrix"
   ]
  },
  {
   "cell_type": "code",
   "execution_count": 31,
   "metadata": {},
   "outputs": [],
   "source": [
    "def plot_confusion_matrix(cm, target_names,\n",
    "                          fname, epoch,\n",
    "                          title='Confusion matrix',\n",
    "                          cmap=None,\n",
    "                          normalize=True, target=None):\n",
    "    import matplotlib.pyplot as plt\n",
    "    import numpy as np\n",
    "    import itertools\n",
    "    plt.style.use('default')\n",
    "\n",
    "    # # only true if it weren't normalized:\n",
    "    # accuracy = np.trace(cm) / float(np.sum(cm))\n",
    "    # misclass = 1 - accuracy\n",
    "\n",
    "    if cmap is None:\n",
    "        cmap = plt.get_cmap('Blues')\n",
    "\n",
    "    if normalize:\n",
    "        cm = cm.astype('float') / cm.sum(axis=1)[:, np.newaxis]\n",
    "    cm[np.isnan(cm)] = 0.0\n",
    "\n",
    "    fig = plt.figure(figsize=(5, 4))\n",
    "    ax = plt.axes()\n",
    "    plt.imshow(cm, interpolation='nearest', cmap=cmap)\n",
    "    if target == \"rule-based\":\n",
    "        plt.title(title + ' for rule-based PF')\n",
    "    else:\n",
    "        plt.title(title + ' for MLPF at epoch ' + str(epoch))\n",
    "\n",
    "    plt.colorbar()\n",
    "\n",
    "    if target_names is not None:\n",
    "        tick_marks = np.arange(len(target_names))\n",
    "        plt.xticks(tick_marks, target_names, rotation=45)\n",
    "        plt.yticks(tick_marks, target_names)\n",
    "\n",
    "    thresh = cm.max() / 1.5 if normalize else cm.max() / 2\n",
    "    for i, j in itertools.product(range(cm.shape[0]), range(cm.shape[1])):\n",
    "        if normalize:\n",
    "            plt.text(j, i, \"{:0.2f}\".format(cm[i, j]),\n",
    "                     horizontalalignment=\"center\",\n",
    "                     color=\"white\" if cm[i, j] > thresh else \"black\")\n",
    "        else:\n",
    "            plt.text(j, i, \"{:,}\".format(cm[i, j]),\n",
    "                     horizontalalignment=\"center\",\n",
    "                     color=\"white\" if cm[i, j] > thresh else \"black\")\n",
    "\n",
    "    plt.ylabel('True label')\n",
    "    plt.xlim(-1, len(target_names))\n",
    "    plt.ylim(-1, len(target_names))\n",
    "    plt.xlabel('Predicted label')\n",
    "    # plt.xlabel('Predicted label\\naccuracy={:0.4f}; misclass={:0.4f}'.format(accuracy, misclass))\n",
    "    plt.tight_layout()\n",
    "    plt.savefig(fname + '.png')\n",
    "    plt.savefig(fname + '.pdf')\n",
    "    #plt.close(fig)\n",
    "\n",
    "    return fig, ax"
   ]
  },
  {
   "cell_type": "markdown",
   "metadata": {},
   "source": [
    "## KNN"
   ]
  },
  {
   "cell_type": "code",
   "execution_count": 32,
   "metadata": {},
   "outputs": [],
   "source": [
    "import numpy as np\n",
    "import matplotlib.pyplot as plt\n",
    "import pandas as pd\n",
    "import sklearn"
   ]
  },
  {
   "cell_type": "code",
   "execution_count": 33,
   "metadata": {},
   "outputs": [
    {
     "data": {
      "text/plain": [
       "Index(['marketplace', 'customer_id', 'review_id', 'product_id',\n",
       "       'product_parent', 'product_title', 'product_category', 'star_rating',\n",
       "       'helpful_votes', 'total_votes', 'vine', 'verified_purchase',\n",
       "       'review_headline', 'review_body', 'review_date', 'new_review_body',\n",
       "       'new_review_headline', 'new_product_title', 'rev_dict', 'neg_prop',\n",
       "       'neu_prop', 'pos_prop', 'compound_prop'],\n",
       "      dtype='object')"
      ]
     },
     "execution_count": 33,
     "metadata": {},
     "output_type": "execute_result"
    }
   ],
   "source": [
    "one_file.columns"
   ]
  },
  {
   "cell_type": "code",
   "execution_count": 34,
   "metadata": {},
   "outputs": [],
   "source": [
    "one_file['prod_title_comp'] = one_file.get(\"new_product_title\").apply(only_compound)\n",
    "one_file['rev_title_comp'] = one_file.get(\"new_review_headline\").apply(only_compound)"
   ]
  },
  {
   "cell_type": "code",
   "execution_count": 35,
   "metadata": {},
   "outputs": [],
   "source": [
    "def helpful_prop(df):  \n",
    "    vote_series = pd.Series(df['helpful_votes'] / df['total_votes'])\n",
    "    # !! All nan values in votes_prop should be changed to zero: this means that 0/0 occurred !!\n",
    "    vote_series = vote_series.fillna(0)\n",
    "    return vote_series"
   ]
  },
  {
   "cell_type": "code",
   "execution_count": 36,
   "metadata": {},
   "outputs": [],
   "source": [
    "# Helper function for id'ing the review body sentiments into -1, 0, 1 depending on majority sentiment\n",
    "def id_for_dictionary(dic):\n",
    "    if len(dic) == 4:\n",
    "        ind = list(dic.values()).index(max(list(dic.values())[0:-1])) #remove the compound\n",
    "    else:\n",
    "        ind = list(dic.values()).index(max(list(dic.values())))\n",
    "    \n",
    "    # If at idx 1, neutral sent\n",
    "    if ind == 1:\n",
    "        return 0\n",
    "    # If at idx 0, negative sent\n",
    "    elif ind == 0:\n",
    "        return -1\n",
    "    else:\n",
    "        return 1"
   ]
  },
  {
   "cell_type": "code",
   "execution_count": 37,
   "metadata": {},
   "outputs": [],
   "source": [
    "# Helper function for id'ing the helper vote proportion\n",
    "def id_for_prop(prop):\n",
    "    if prop < 0.45:\n",
    "        return -1\n",
    "    elif prop > 0.55:\n",
    "        return 1\n",
    "    else:\n",
    "        return 0"
   ]
  },
  {
   "cell_type": "code",
   "execution_count": 38,
   "metadata": {},
   "outputs": [
    {
     "data": {
      "text/html": [
       "<div>\n",
       "<style scoped>\n",
       "    .dataframe tbody tr th:only-of-type {\n",
       "        vertical-align: middle;\n",
       "    }\n",
       "\n",
       "    .dataframe tbody tr th {\n",
       "        vertical-align: top;\n",
       "    }\n",
       "\n",
       "    .dataframe thead th {\n",
       "        text-align: right;\n",
       "    }\n",
       "</style>\n",
       "<table border=\"1\" class=\"dataframe\">\n",
       "  <thead>\n",
       "    <tr style=\"text-align: right;\">\n",
       "      <th></th>\n",
       "      <th>marketplace</th>\n",
       "      <th>customer_id</th>\n",
       "      <th>review_id</th>\n",
       "      <th>product_id</th>\n",
       "      <th>product_parent</th>\n",
       "      <th>product_title</th>\n",
       "      <th>product_category</th>\n",
       "      <th>star_rating</th>\n",
       "      <th>helpful_votes</th>\n",
       "      <th>total_votes</th>\n",
       "      <th>vine</th>\n",
       "      <th>verified_purchase</th>\n",
       "      <th>review_headline</th>\n",
       "      <th>review_body</th>\n",
       "      <th>review_date</th>\n",
       "      <th>new_review_body</th>\n",
       "      <th>new_review_headline</th>\n",
       "      <th>new_product_title</th>\n",
       "      <th>rev_dict</th>\n",
       "      <th>neg_prop</th>\n",
       "      <th>neu_prop</th>\n",
       "      <th>pos_prop</th>\n",
       "      <th>compound_prop</th>\n",
       "      <th>prod_title_comp</th>\n",
       "      <th>rev_title_comp</th>\n",
       "      <th>help_prop</th>\n",
       "      <th>rev_bod_id</th>\n",
       "      <th>help_prop_id</th>\n",
       "    </tr>\n",
       "  </thead>\n",
       "  <tbody>\n",
       "    <tr>\n",
       "      <th>53780</th>\n",
       "      <td>US</td>\n",
       "      <td>20658634</td>\n",
       "      <td>R2MXMLRI2E4XD8</td>\n",
       "      <td>B003QIMPV0</td>\n",
       "      <td>638568010</td>\n",
       "      <td>Hexomatic Ballpoint Silver Pen</td>\n",
       "      <td>Office Products</td>\n",
       "      <td>5.0</td>\n",
       "      <td>0.0</td>\n",
       "      <td>0.0</td>\n",
       "      <td>N</td>\n",
       "      <td>Y</td>\n",
       "      <td>Five Stars</td>\n",
       "      <td>Love the pen works great use it every day.</td>\n",
       "      <td>2015-08-17</td>\n",
       "      <td>love pen work great use every day</td>\n",
       "      <td>five star</td>\n",
       "      <td>hexomatic ballpoint silver pen</td>\n",
       "      <td>{'neg': 0.0, 'neu': 0.376, 'pos': 0.624, 'compound': 0.8519}</td>\n",
       "      <td>0.000</td>\n",
       "      <td>0.376</td>\n",
       "      <td>0.624</td>\n",
       "      <td>0.8519</td>\n",
       "      <td>0.0000</td>\n",
       "      <td>0.0000</td>\n",
       "      <td>0.0</td>\n",
       "      <td>1</td>\n",
       "      <td>-1</td>\n",
       "    </tr>\n",
       "    <tr>\n",
       "      <th>497417</th>\n",
       "      <td>US</td>\n",
       "      <td>30807357</td>\n",
       "      <td>R2IUSSM1XJWKD5</td>\n",
       "      <td>B00112BS34</td>\n",
       "      <td>331943404</td>\n",
       "      <td>Sentry Tilt-Display Desktop Calculator, Black (CA270)</td>\n",
       "      <td>Office Products</td>\n",
       "      <td>5.0</td>\n",
       "      <td>0.0</td>\n",
       "      <td>0.0</td>\n",
       "      <td>N</td>\n",
       "      <td>Y</td>\n",
       "      <td>As advertised</td>\n",
       "      <td>So far so good</td>\n",
       "      <td>2015-03-29</td>\n",
       "      <td>far good</td>\n",
       "      <td>advertised</td>\n",
       "      <td>sentry tiltdisplay desktop calculator black ca</td>\n",
       "      <td>{'neg': 0.0, 'neu': 0.256, 'pos': 0.744, 'compound': 0.4404}</td>\n",
       "      <td>0.000</td>\n",
       "      <td>0.256</td>\n",
       "      <td>0.744</td>\n",
       "      <td>0.4404</td>\n",
       "      <td>0.0000</td>\n",
       "      <td>0.0000</td>\n",
       "      <td>0.0</td>\n",
       "      <td>1</td>\n",
       "      <td>-1</td>\n",
       "    </tr>\n",
       "    <tr>\n",
       "      <th>1366242</th>\n",
       "      <td>US</td>\n",
       "      <td>3124060</td>\n",
       "      <td>RDNIZWARDVHHS</td>\n",
       "      <td>B009MSFV0A</td>\n",
       "      <td>393196302</td>\n",
       "      <td>Generic ML-D101S Variation-</td>\n",
       "      <td>Office Products</td>\n",
       "      <td>1.0</td>\n",
       "      <td>0.0</td>\n",
       "      <td>0.0</td>\n",
       "      <td>N</td>\n",
       "      <td>Y</td>\n",
       "      <td>PREMIUM REPLACEMENT TONER CARTRIDGES MARKED A1-mlt-D101 do not work in samsung scx3405FW printers as Adv.</td>\n",
       "      <td>I bought two of these ink cartridges and they did not fit the Samsung scx3405fw.  My machine kept saying they were incompatible w/ my machine. I finally got pissed off and went to office depot and bought one and it fit perfect and worked perfect. I would not buy this garbage again if they were 25 cents each. It did not work it my laser printer as the box even showed it would.</td>\n",
       "      <td>2014-05-25</td>\n",
       "      <td>bought two ink cartridge fit samsung scxfw machine kept saying incompatible w machine finally got pissed went office depot bought one fit perfect worked perfect would buy garbage cent each work laser printer box even showed would</td>\n",
       "      <td>premium replacement toner cartridge marked amltd work samsung scxfw printer adv</td>\n",
       "      <td>generic mlds variation</td>\n",
       "      <td>{'neg': 0.086, 'neu': 0.658, 'pos': 0.255, 'compound': 0.802}</td>\n",
       "      <td>0.086</td>\n",
       "      <td>0.658</td>\n",
       "      <td>0.255</td>\n",
       "      <td>0.8020</td>\n",
       "      <td>0.0000</td>\n",
       "      <td>0.0000</td>\n",
       "      <td>0.0</td>\n",
       "      <td>0</td>\n",
       "      <td>-1</td>\n",
       "    </tr>\n",
       "    <tr>\n",
       "      <th>278215</th>\n",
       "      <td>US</td>\n",
       "      <td>21963669</td>\n",
       "      <td>R17BVYKLV04QOT</td>\n",
       "      <td>B001B39PFG</td>\n",
       "      <td>643713377</td>\n",
       "      <td>VELCRO Brand - Adhesive - for Plastics 1 Oz Tube Adhesive</td>\n",
       "      <td>Office Products</td>\n",
       "      <td>5.0</td>\n",
       "      <td>0.0</td>\n",
       "      <td>0.0</td>\n",
       "      <td>N</td>\n",
       "      <td>N</td>\n",
       "      <td>It worked great!</td>\n",
       "      <td>I used this glue to adhere velcro to a blood pressure cuff that I bought on ebay. It was a brand new cuff, just didn't have the velcro glued on sufficiently. It worked great!</td>\n",
       "      <td>2015-06-08</td>\n",
       "      <td>used glue adhere velcro blood pressure cuff bought ebay new cuff velcro glued sufficiently worked great</td>\n",
       "      <td>worked great</td>\n",
       "      <td>velcro brand adhesive plastic oz tube adhesive</td>\n",
       "      <td>{'neg': 0.108, 'neu': 0.69, 'pos': 0.202, 'compound': 0.4404}</td>\n",
       "      <td>0.108</td>\n",
       "      <td>0.690</td>\n",
       "      <td>0.202</td>\n",
       "      <td>0.4404</td>\n",
       "      <td>0.0000</td>\n",
       "      <td>0.6249</td>\n",
       "      <td>0.0</td>\n",
       "      <td>0</td>\n",
       "      <td>-1</td>\n",
       "    </tr>\n",
       "    <tr>\n",
       "      <th>284378</th>\n",
       "      <td>US</td>\n",
       "      <td>4777894</td>\n",
       "      <td>R1Y8TL7KKS51K4</td>\n",
       "      <td>B0055T3HOW</td>\n",
       "      <td>904254287</td>\n",
       "      <td>3dRose Mexicana colorful skulls woman women fine art mexico - Mouse Pad, 8 by 8 inches (mp_21205_1)</td>\n",
       "      <td>Office Products</td>\n",
       "      <td>5.0</td>\n",
       "      <td>0.0</td>\n",
       "      <td>0.0</td>\n",
       "      <td>N</td>\n",
       "      <td>Y</td>\n",
       "      <td>Five Stars</td>\n",
       "      <td>Love it! Fast shipping!</td>\n",
       "      <td>2015-06-06</td>\n",
       "      <td>love it fast shipping</td>\n",
       "      <td>five star</td>\n",
       "      <td>drose mexicana colorful skull woman woman fine art mexico mouse pad inch mp</td>\n",
       "      <td>{'neg': 0.0, 'neu': 0.417, 'pos': 0.583, 'compound': 0.6369}</td>\n",
       "      <td>0.000</td>\n",
       "      <td>0.417</td>\n",
       "      <td>0.583</td>\n",
       "      <td>0.6369</td>\n",
       "      <td>0.2023</td>\n",
       "      <td>0.0000</td>\n",
       "      <td>0.0</td>\n",
       "      <td>1</td>\n",
       "      <td>-1</td>\n",
       "    </tr>\n",
       "  </tbody>\n",
       "</table>\n",
       "</div>"
      ],
      "text/plain": [
       "        marketplace customer_id       review_id  product_id product_parent  \\\n",
       "53780            US    20658634  R2MXMLRI2E4XD8  B003QIMPV0      638568010   \n",
       "497417           US    30807357  R2IUSSM1XJWKD5  B00112BS34      331943404   \n",
       "1366242          US     3124060   RDNIZWARDVHHS  B009MSFV0A      393196302   \n",
       "278215           US    21963669  R17BVYKLV04QOT  B001B39PFG      643713377   \n",
       "284378           US     4777894  R1Y8TL7KKS51K4  B0055T3HOW      904254287   \n",
       "\n",
       "                                                                                               product_title  \\\n",
       "53780                                                                         Hexomatic Ballpoint Silver Pen   \n",
       "497417                                                 Sentry Tilt-Display Desktop Calculator, Black (CA270)   \n",
       "1366242                                                                          Generic ML-D101S Variation-   \n",
       "278215                                             VELCRO Brand - Adhesive - for Plastics 1 Oz Tube Adhesive   \n",
       "284378   3dRose Mexicana colorful skulls woman women fine art mexico - Mouse Pad, 8 by 8 inches (mp_21205_1)   \n",
       "\n",
       "        product_category  star_rating  helpful_votes  total_votes vine  \\\n",
       "53780    Office Products          5.0            0.0          0.0    N   \n",
       "497417   Office Products          5.0            0.0          0.0    N   \n",
       "1366242  Office Products          1.0            0.0          0.0    N   \n",
       "278215   Office Products          5.0            0.0          0.0    N   \n",
       "284378   Office Products          5.0            0.0          0.0    N   \n",
       "\n",
       "        verified_purchase  \\\n",
       "53780                   Y   \n",
       "497417                  Y   \n",
       "1366242                 Y   \n",
       "278215                  N   \n",
       "284378                  Y   \n",
       "\n",
       "                                                                                                   review_headline  \\\n",
       "53780                                                                                                   Five Stars   \n",
       "497417                                                                                               As advertised   \n",
       "1366242  PREMIUM REPLACEMENT TONER CARTRIDGES MARKED A1-mlt-D101 do not work in samsung scx3405FW printers as Adv.   \n",
       "278215                                                                                            It worked great!   \n",
       "284378                                                                                                  Five Stars   \n",
       "\n",
       "                                                                                                                                                                                                                                                                                                                                                                                        review_body  \\\n",
       "53780                                                                                                                                                                                                                                                                                                                                                    Love the pen works great use it every day.   \n",
       "497417                                                                                                                                                                                                                                                                                                                                                                               So far so good   \n",
       "1366242  I bought two of these ink cartridges and they did not fit the Samsung scx3405fw.  My machine kept saying they were incompatible w/ my machine. I finally got pissed off and went to office depot and bought one and it fit perfect and worked perfect. I would not buy this garbage again if they were 25 cents each. It did not work it my laser printer as the box even showed it would.   \n",
       "278215                                                                                                                                                                                                               I used this glue to adhere velcro to a blood pressure cuff that I bought on ebay. It was a brand new cuff, just didn't have the velcro glued on sufficiently. It worked great!   \n",
       "284378                                                                                                                                                                                                                                                                                                                                                                      Love it! Fast shipping!   \n",
       "\n",
       "        review_date  \\\n",
       "53780    2015-08-17   \n",
       "497417   2015-03-29   \n",
       "1366242  2014-05-25   \n",
       "278215   2015-06-08   \n",
       "284378   2015-06-06   \n",
       "\n",
       "                                                                                                                                                                                                                               new_review_body  \\\n",
       "53780                                                                                                                                                                                                        love pen work great use every day   \n",
       "497417                                                                                                                                                                                                                                far good   \n",
       "1366242  bought two ink cartridge fit samsung scxfw machine kept saying incompatible w machine finally got pissed went office depot bought one fit perfect worked perfect would buy garbage cent each work laser printer box even showed would   \n",
       "278215                                                                                                                                 used glue adhere velcro blood pressure cuff bought ebay new cuff velcro glued sufficiently worked great   \n",
       "284378                                                                                                                                                                                                                   love it fast shipping   \n",
       "\n",
       "                                                                     new_review_headline  \\\n",
       "53780                                                                          five star   \n",
       "497417                                                                        advertised   \n",
       "1366242  premium replacement toner cartridge marked amltd work samsung scxfw printer adv   \n",
       "278215                                                                      worked great   \n",
       "284378                                                                         five star   \n",
       "\n",
       "                                                                   new_product_title  \\\n",
       "53780                                                 hexomatic ballpoint silver pen   \n",
       "497417                                sentry tiltdisplay desktop calculator black ca   \n",
       "1366242                                                       generic mlds variation   \n",
       "278215                                velcro brand adhesive plastic oz tube adhesive   \n",
       "284378   drose mexicana colorful skull woman woman fine art mexico mouse pad inch mp   \n",
       "\n",
       "                                                              rev_dict  \\\n",
       "53780     {'neg': 0.0, 'neu': 0.376, 'pos': 0.624, 'compound': 0.8519}   \n",
       "497417    {'neg': 0.0, 'neu': 0.256, 'pos': 0.744, 'compound': 0.4404}   \n",
       "1366242  {'neg': 0.086, 'neu': 0.658, 'pos': 0.255, 'compound': 0.802}   \n",
       "278215   {'neg': 0.108, 'neu': 0.69, 'pos': 0.202, 'compound': 0.4404}   \n",
       "284378    {'neg': 0.0, 'neu': 0.417, 'pos': 0.583, 'compound': 0.6369}   \n",
       "\n",
       "         neg_prop  neu_prop  pos_prop  compound_prop  prod_title_comp  \\\n",
       "53780       0.000     0.376     0.624         0.8519           0.0000   \n",
       "497417      0.000     0.256     0.744         0.4404           0.0000   \n",
       "1366242     0.086     0.658     0.255         0.8020           0.0000   \n",
       "278215      0.108     0.690     0.202         0.4404           0.0000   \n",
       "284378      0.000     0.417     0.583         0.6369           0.2023   \n",
       "\n",
       "         rev_title_comp  help_prop  rev_bod_id  help_prop_id  \n",
       "53780            0.0000        0.0           1            -1  \n",
       "497417           0.0000        0.0           1            -1  \n",
       "1366242          0.0000        0.0           0            -1  \n",
       "278215           0.6249        0.0           0            -1  \n",
       "284378           0.0000        0.0           1            -1  "
      ]
     },
     "execution_count": 38,
     "metadata": {},
     "output_type": "execute_result"
    }
   ],
   "source": [
    "one_file['help_prop'] = helpful_prop(one_file)\n",
    "one_file['rev_bod_id'] = one_file['rev_dict'].apply(id_for_dictionary)\n",
    "one_file['help_prop_id'] = one_file[\"help_prop\"].apply(id_for_prop)\n",
    "one_file.head()"
   ]
  },
  {
   "cell_type": "code",
   "execution_count": 39,
   "metadata": {},
   "outputs": [
    {
     "data": {
      "text/plain": [
       "verified_purchase     object\n",
       "prod_title_comp      float64\n",
       "star_rating          float64\n",
       "rev_title_comp       float64\n",
       "rev_bod_id             int64\n",
       "help_prop_id           int64\n",
       "dtype: object"
      ]
     },
     "execution_count": 39,
     "metadata": {},
     "output_type": "execute_result"
    }
   ],
   "source": [
    "imp_col = one_file[['verified_purchase', 'prod_title_comp', 'star_rating', 'rev_title_comp', 'rev_bod_id', 'help_prop_id']]\n",
    "imp_col.dtypes"
   ]
  },
  {
   "cell_type": "code",
   "execution_count": 40,
   "metadata": {},
   "outputs": [],
   "source": [
    "imp_col = imp_col.dropna()"
   ]
  },
  {
   "cell_type": "code",
   "execution_count": 41,
   "metadata": {},
   "outputs": [],
   "source": [
    "X = imp_col.iloc[:, [1,2,3,4,5]].values #only taking in the categories that will be used as a dataframe\n",
    "y = imp_col.iloc[:, 0].values"
   ]
  },
  {
   "cell_type": "code",
   "execution_count": 42,
   "metadata": {},
   "outputs": [
    {
     "data": {
      "text/plain": [
       "array([[ 0.    ,  5.    ,  0.    ,  1.    , -1.    ],\n",
       "       [ 0.    ,  5.    ,  0.    ,  1.    , -1.    ],\n",
       "       [ 0.    ,  1.    ,  0.    ,  0.    , -1.    ],\n",
       "       ...,\n",
       "       [ 0.    ,  5.    ,  0.    ,  1.    , -1.    ],\n",
       "       [ 0.    ,  1.    , -0.7783,  0.    , -1.    ],\n",
       "       [ 0.    ,  5.    ,  0.    ,  1.    , -1.    ]])"
      ]
     },
     "execution_count": 42,
     "metadata": {},
     "output_type": "execute_result"
    }
   ],
   "source": [
    "X"
   ]
  },
  {
   "cell_type": "code",
   "execution_count": 43,
   "metadata": {},
   "outputs": [
    {
     "name": "stdout",
     "output_type": "stream",
     "text": [
      "Number of verified purchases (balanced dataset): 904352\n",
      "Number of unverified purchases (balanced dataset): 95585\n"
     ]
    }
   ],
   "source": [
    "print(\"Number of verified purchases (balanced dataset):\", len(imp_col[imp_col['verified_purchase'] == 'Y']))\n",
    "print(\"Number of unverified purchases (balanced dataset):\", len(imp_col[imp_col['verified_purchase'] == 'N']))"
   ]
  },
  {
   "cell_type": "code",
   "execution_count": 44,
   "metadata": {},
   "outputs": [],
   "source": [
    "from sklearn.model_selection import train_test_split\n",
    "X_train, X_test, y_train, y_test = train_test_split(X, y, test_size = 0.20, random_state = 0)"
   ]
  },
  {
   "cell_type": "code",
   "execution_count": 45,
   "metadata": {},
   "outputs": [
    {
     "data": {
      "text/plain": [
       "KNeighborsClassifier(metric='euclidean', n_neighbors=20, p=1)"
      ]
     },
     "execution_count": 45,
     "metadata": {},
     "output_type": "execute_result"
    }
   ],
   "source": [
    "from sklearn.neighbors import KNeighborsClassifier\n",
    "\n",
    "#we are using \n",
    "#5 neighborhood points are required for classifying a given point -- distance metric is using the minkonowski equation\n",
    "knn_classifier = KNeighborsClassifier(n_neighbors = 20, metric = 'euclidean', p = 1)\n",
    "knn_classifier.fit(X_train, y_train)"
   ]
  },
  {
   "cell_type": "code",
   "execution_count": 46,
   "metadata": {},
   "outputs": [],
   "source": [
    "y_pred = knn_classifier.predict(X_test)"
   ]
  },
  {
   "cell_type": "code",
   "execution_count": 47,
   "metadata": {},
   "outputs": [],
   "source": [
    "#We can evaluate our model using the confusion matrix and accuracy score by comparing the predicted and actual test values\n",
    "\n",
    "from sklearn.metrics import confusion_matrix,accuracy_score\n",
    "cm = confusion_matrix(y_test, y_pred)\n",
    "ac = accuracy_score(y_test,y_pred)"
   ]
  },
  {
   "cell_type": "code",
   "execution_count": 48,
   "metadata": {},
   "outputs": [
    {
     "name": "stdout",
     "output_type": "stream",
     "text": [
      "[[   186  18753]\n",
      " [   250 180799]]\n",
      "0.9049792987579255\n"
     ]
    }
   ],
   "source": [
    "print(cm)\n",
    "print(ac)"
   ]
  },
  {
   "cell_type": "code",
   "execution_count": 49,
   "metadata": {},
   "outputs": [],
   "source": [
    "from joblib import dump, load"
   ]
  },
  {
   "cell_type": "code",
   "execution_count": 50,
   "metadata": {},
   "outputs": [
    {
     "data": {
      "text/plain": [
       "['knn_office_products_updated_model.joblib']"
      ]
     },
     "execution_count": 50,
     "metadata": {},
     "output_type": "execute_result"
    }
   ],
   "source": [
    "name = 'knn_office_products_updated_model.joblib'\n",
    "dump(knn_classifier, name)"
   ]
  },
  {
   "cell_type": "code",
   "execution_count": 51,
   "metadata": {},
   "outputs": [],
   "source": [
    "knn_classifier = load(name)"
   ]
  },
  {
   "cell_type": "markdown",
   "metadata": {},
   "source": [
    "## Getting Reviews"
   ]
  },
  {
   "cell_type": "code",
   "execution_count": 135,
   "metadata": {},
   "outputs": [
    {
     "data": {
      "text/plain": [
       "[18,\n",
       " 657,\n",
       " 976,\n",
       " 1072,\n",
       " 2162,\n",
       " 3252,\n",
       " 3389,\n",
       " 6148,\n",
       " 6224,\n",
       " 6940,\n",
       " 8065,\n",
       " 8555,\n",
       " 8860,\n",
       " 9043,\n",
       " 9364,\n",
       " 10224,\n",
       " 11045,\n",
       " 18546,\n",
       " 19232,\n",
       " 20796,\n",
       " 22749,\n",
       " 23500,\n",
       " 23756,\n",
       " 25355,\n",
       " 27292,\n",
       " 28081,\n",
       " 28748,\n",
       " 28800,\n",
       " 30171,\n",
       " 31487,\n",
       " 33584,\n",
       " 34580,\n",
       " 35438,\n",
       " 37187,\n",
       " 38968,\n",
       " 42304,\n",
       " 42322,\n",
       " 42506,\n",
       " 43377,\n",
       " 43576,\n",
       " 44175,\n",
       " 44236,\n",
       " 44727,\n",
       " 45375,\n",
       " 46154,\n",
       " 48404,\n",
       " 48809,\n",
       " 51108,\n",
       " 51204,\n",
       " 53140,\n",
       " 53143,\n",
       " 53327,\n",
       " 57780,\n",
       " 61182,\n",
       " 62578,\n",
       " 62581,\n",
       " 63248,\n",
       " 63980,\n",
       " 64091,\n",
       " 65000,\n",
       " 65892,\n",
       " 66423,\n",
       " 66723,\n",
       " 68294,\n",
       " 69814,\n",
       " 71468,\n",
       " 73104,\n",
       " 73713,\n",
       " 75705,\n",
       " 76152,\n",
       " 76229,\n",
       " 77748,\n",
       " 79912,\n",
       " 80331,\n",
       " 82385,\n",
       " 83741,\n",
       " 84916,\n",
       " 84968,\n",
       " 87325,\n",
       " 87836,\n",
       " 90024,\n",
       " 90387,\n",
       " 90493,\n",
       " 91753,\n",
       " 91917,\n",
       " 92065,\n",
       " 92186,\n",
       " 94013,\n",
       " 94152,\n",
       " 95038,\n",
       " 95341,\n",
       " 95723,\n",
       " 96241,\n",
       " 96951,\n",
       " 99159,\n",
       " 99519,\n",
       " 100216,\n",
       " 100234,\n",
       " 100344,\n",
       " 101705,\n",
       " 102154,\n",
       " 102190,\n",
       " 102833,\n",
       " 103348,\n",
       " 105337,\n",
       " 106916,\n",
       " 107346,\n",
       " 113145,\n",
       " 115677,\n",
       " 116225,\n",
       " 116555,\n",
       " 117179,\n",
       " 118517,\n",
       " 120240,\n",
       " 120340,\n",
       " 120396,\n",
       " 120572,\n",
       " 121281,\n",
       " 122250,\n",
       " 126091,\n",
       " 126133,\n",
       " 128457,\n",
       " 130142,\n",
       " 130862,\n",
       " 130930,\n",
       " 132687,\n",
       " 135183,\n",
       " 136006,\n",
       " 136171,\n",
       " 136987,\n",
       " 137673,\n",
       " 138694,\n",
       " 139350,\n",
       " 140312,\n",
       " 140450,\n",
       " 140551,\n",
       " 140964,\n",
       " 141099,\n",
       " 141772,\n",
       " 141839,\n",
       " 143946,\n",
       " 153595,\n",
       " 153625,\n",
       " 154783,\n",
       " 155149,\n",
       " 155436,\n",
       " 155472,\n",
       " 157252,\n",
       " 157862,\n",
       " 158254,\n",
       " 159800,\n",
       " 161368,\n",
       " 161484,\n",
       " 164190,\n",
       " 164896,\n",
       " 164932,\n",
       " 165307,\n",
       " 166353,\n",
       " 167753,\n",
       " 168546,\n",
       " 168752,\n",
       " 170450,\n",
       " 172496,\n",
       " 173595,\n",
       " 173978,\n",
       " 174330,\n",
       " 175547,\n",
       " 179039,\n",
       " 180860,\n",
       " 182997,\n",
       " 185191,\n",
       " 186163,\n",
       " 187127,\n",
       " 187709,\n",
       " 188797,\n",
       " 190632,\n",
       " 193556,\n",
       " 193822,\n",
       " 194348,\n",
       " 194934,\n",
       " 195377,\n",
       " 195445,\n",
       " 197221,\n",
       " 197766,\n",
       " 197863,\n",
       " 199260]"
      ]
     },
     "execution_count": 135,
     "metadata": {},
     "output_type": "execute_result"
    }
   ],
   "source": [
    "# Getting the indices of the reviews that were predicted correctly\n",
    "ind1 = list((y_test == y_pred) & (y_pred == 'N'))#.index(True)\n",
    "# & (y_test == 'N')\n",
    "indexes = [i for i, x in enumerate(ind1) if x]\n",
    "indexes"
   ]
  },
  {
   "cell_type": "code",
   "execution_count": 136,
   "metadata": {},
   "outputs": [
    {
     "data": {
      "text/plain": [
       "191192"
      ]
     },
     "execution_count": 136,
     "metadata": {},
     "output_type": "execute_result"
    }
   ],
   "source": [
    "95596*2"
   ]
  },
  {
   "cell_type": "code",
   "execution_count": 137,
   "metadata": {},
   "outputs": [
    {
     "data": {
      "text/plain": [
       "186"
      ]
     },
     "execution_count": 137,
     "metadata": {},
     "output_type": "execute_result"
    }
   ],
   "source": [
    "len(indexes)"
   ]
  },
  {
   "cell_type": "code",
   "execution_count": 148,
   "metadata": {},
   "outputs": [
    {
     "name": "stdout",
     "output_type": "stream",
     "text": [
      "71468\n"
     ]
    },
    {
     "data": {
      "text/plain": [
       "array([ 0.8885,  5.    ,  0.    ,  0.    , -1.    ])"
      ]
     },
     "execution_count": 148,
     "metadata": {},
     "output_type": "execute_result"
    }
   ],
   "source": [
    "import random\n",
    "random_num = random.choice(indexes)\n",
    "print(random_num)\n",
    "ind1 = random_num\n",
    "#1280\n",
    "X_test[ind1]"
   ]
  },
  {
   "cell_type": "code",
   "execution_count": 149,
   "metadata": {},
   "outputs": [],
   "source": [
    "test = list(X)\n",
    "test;"
   ]
  },
  {
   "cell_type": "code",
   "execution_count": 150,
   "metadata": {},
   "outputs": [
    {
     "data": {
      "text/plain": [
       "array([[False,  True,  True, False,  True],\n",
       "       [False,  True,  True, False,  True],\n",
       "       [False, False,  True,  True,  True],\n",
       "       ...,\n",
       "       [False,  True,  True, False,  True],\n",
       "       [False, False, False,  True,  True],\n",
       "       [False,  True,  True, False,  True]])"
      ]
     },
     "execution_count": 150,
     "metadata": {},
     "output_type": "execute_result"
    }
   ],
   "source": [
    "test2 = (test == X_test[ind1]) \n",
    "test2"
   ]
  },
  {
   "cell_type": "markdown",
   "metadata": {},
   "source": [
    "def which_switch(ind2):\n",
    "    x = [ind2.index(i) for i in ind2 if i == True]\n",
    "    return x\n",
    "which_switch(ind2)"
   ]
  },
  {
   "cell_type": "code",
   "execution_count": 151,
   "metadata": {
    "scrolled": true
   },
   "outputs": [
    {
     "data": {
      "text/plain": [
       "[31132,\n",
       " 68624,\n",
       " 88379,\n",
       " 104276,\n",
       " 150664,\n",
       " 204621,\n",
       " 254053,\n",
       " 335580,\n",
       " 347948,\n",
       " 353687,\n",
       " 362349,\n",
       " 366988,\n",
       " 367038,\n",
       " 384304,\n",
       " 418690,\n",
       " 438661,\n",
       " 495244,\n",
       " 520278,\n",
       " 522860,\n",
       " 551677,\n",
       " 603839,\n",
       " 615867,\n",
       " 616006,\n",
       " 710225,\n",
       " 782536,\n",
       " 785162,\n",
       " 787943,\n",
       " 819428,\n",
       " 821672,\n",
       " 888575,\n",
       " 904152,\n",
       " 925071,\n",
       " 956819,\n",
       " 964575,\n",
       " 967223,\n",
       " 974194,\n",
       " 979097,\n",
       " 980242,\n",
       " 998943]"
      ]
     },
     "execution_count": 151,
     "metadata": {},
     "output_type": "execute_result"
    }
   ],
   "source": [
    "ind2 = list(np.all(test2, axis = 1))#.index(True)\n",
    "ind2\n",
    "n_lst = [i for i, x in enumerate(ind2) if x]\n",
    "(n_lst)"
   ]
  },
  {
   "cell_type": "code",
   "execution_count": 152,
   "metadata": {},
   "outputs": [
    {
     "data": {
      "text/html": [
       "<div>\n",
       "<style scoped>\n",
       "    .dataframe tbody tr th:only-of-type {\n",
       "        vertical-align: middle;\n",
       "    }\n",
       "\n",
       "    .dataframe tbody tr th {\n",
       "        vertical-align: top;\n",
       "    }\n",
       "\n",
       "    .dataframe thead th {\n",
       "        text-align: right;\n",
       "    }\n",
       "</style>\n",
       "<table border=\"1\" class=\"dataframe\">\n",
       "  <thead>\n",
       "    <tr style=\"text-align: right;\">\n",
       "      <th></th>\n",
       "      <th>299453</th>\n",
       "    </tr>\n",
       "  </thead>\n",
       "  <tbody>\n",
       "    <tr>\n",
       "      <th>review_body</th>\n",
       "      <td>This products are very bright and the chalk color stands out really well.</td>\n",
       "    </tr>\n",
       "    <tr>\n",
       "      <th>review_headline</th>\n",
       "      <td>Five Stars</td>\n",
       "    </tr>\n",
       "    <tr>\n",
       "      <th>product_title</th>\n",
       "      <td>CHALK MARKERS, Best 8 Pack Set of Bold Vibrant Colors by SillySticks, Erasable from Glass, Plastic, Mirrors, Metal, Whiteboards, Chalkboards, Perfect for Teachers, Kids and Moms, Nontoxic and Odorless, Enhance Your Arts and Crafts Projects Now!</td>\n",
       "    </tr>\n",
       "    <tr>\n",
       "      <th>star_rating</th>\n",
       "      <td>5.0</td>\n",
       "    </tr>\n",
       "    <tr>\n",
       "      <th>helpful_votes</th>\n",
       "      <td>0.0</td>\n",
       "    </tr>\n",
       "    <tr>\n",
       "      <th>total_votes</th>\n",
       "      <td>0.0</td>\n",
       "    </tr>\n",
       "    <tr>\n",
       "      <th>verified_purchase</th>\n",
       "      <td>N</td>\n",
       "    </tr>\n",
       "  </tbody>\n",
       "</table>\n",
       "</div>"
      ],
      "text/plain": [
       "                                                                                                                                                                                                                                                                 299453\n",
       "review_body                                                                                                                                                                                   This products are very bright and the chalk color stands out really well.\n",
       "review_headline                                                                                                                                                                                                                                              Five Stars\n",
       "product_title      CHALK MARKERS, Best 8 Pack Set of Bold Vibrant Colors by SillySticks, Erasable from Glass, Plastic, Mirrors, Metal, Whiteboards, Chalkboards, Perfect for Teachers, Kids and Moms, Nontoxic and Odorless, Enhance Your Arts and Crafts Projects Now!\n",
       "star_rating                                                                                                                                                                                                                                                         5.0\n",
       "helpful_votes                                                                                                                                                                                                                                                       0.0\n",
       "total_votes                                                                                                                                                                                                                                                         0.0\n",
       "verified_purchase                                                                                                                                                                                                                                                     N"
      ]
     },
     "execution_count": 152,
     "metadata": {},
     "output_type": "execute_result"
    }
   ],
   "source": [
    "#23 Y; 88 Y; \n",
    "test_1 = one_file.iloc[819428].to_frame().loc[['review_body', 'review_headline', 'product_title', 'star_rating', 'helpful_votes', 'total_votes', 'verified_purchase']]\n",
    "test_1"
   ]
  },
  {
   "cell_type": "code",
   "execution_count": 144,
   "metadata": {},
   "outputs": [
    {
     "data": {
      "text/html": [
       "<div>\n",
       "<style scoped>\n",
       "    .dataframe tbody tr th:only-of-type {\n",
       "        vertical-align: middle;\n",
       "    }\n",
       "\n",
       "    .dataframe tbody tr th {\n",
       "        vertical-align: top;\n",
       "    }\n",
       "\n",
       "    .dataframe thead th {\n",
       "        text-align: right;\n",
       "    }\n",
       "</style>\n",
       "<table border=\"1\" class=\"dataframe\">\n",
       "  <thead>\n",
       "    <tr style=\"text-align: right;\">\n",
       "      <th></th>\n",
       "      <th>133409</th>\n",
       "    </tr>\n",
       "  </thead>\n",
       "  <tbody>\n",
       "    <tr>\n",
       "      <th>review_body</th>\n",
       "      <td>Scissors are great. Easy to grasp and manipulate and can be used by right or left hand. Also, very small and light weight make convenient for travel.</td>\n",
       "    </tr>\n",
       "    <tr>\n",
       "      <th>review_headline</th>\n",
       "      <td>Five Stars</td>\n",
       "    </tr>\n",
       "    <tr>\n",
       "      <th>product_title</th>\n",
       "      <td>Scissors: Adaptive Loop Scissors for Easy Cutting from Cues4Clues | For both Righties and Lefties |Great for Children and Adults | Helps Build Confidence in Cutting | Improve Coordination and Hand Strength | Have Fun with Arts and Crafts</td>\n",
       "    </tr>\n",
       "    <tr>\n",
       "      <th>star_rating</th>\n",
       "      <td>5.0</td>\n",
       "    </tr>\n",
       "    <tr>\n",
       "      <th>helpful_votes</th>\n",
       "      <td>1.0</td>\n",
       "    </tr>\n",
       "    <tr>\n",
       "      <th>total_votes</th>\n",
       "      <td>1.0</td>\n",
       "    </tr>\n",
       "    <tr>\n",
       "      <th>verified_purchase</th>\n",
       "      <td>N</td>\n",
       "    </tr>\n",
       "  </tbody>\n",
       "</table>\n",
       "</div>"
      ],
      "text/plain": [
       "                                                                                                                                                                                                                                                          133409\n",
       "review_body                                                                                                Scissors are great. Easy to grasp and manipulate and can be used by right or left hand. Also, very small and light weight make convenient for travel.\n",
       "review_headline                                                                                                                                                                                                                                       Five Stars\n",
       "product_title      Scissors: Adaptive Loop Scissors for Easy Cutting from Cues4Clues | For both Righties and Lefties |Great for Children and Adults | Helps Build Confidence in Cutting | Improve Coordination and Hand Strength | Have Fun with Arts and Crafts\n",
       "star_rating                                                                                                                                                                                                                                                  5.0\n",
       "helpful_votes                                                                                                                                                                                                                                                1.0\n",
       "total_votes                                                                                                                                                                                                                                                  1.0\n",
       "verified_purchase                                                                                                                                                                                                                                              N"
      ]
     },
     "execution_count": 144,
     "metadata": {},
     "output_type": "execute_result"
    }
   ],
   "source": [
    "test_2 = one_file.iloc[444650].to_frame().loc[['review_body', 'review_headline', 'product_title', 'star_rating', 'helpful_votes', 'total_votes', 'verified_purchase']]\n",
    "test_2"
   ]
  },
  {
   "cell_type": "markdown",
   "metadata": {},
   "source": [
    "## Getting Predictions"
   ]
  },
  {
   "cell_type": "code",
   "execution_count": 332,
   "metadata": {},
   "outputs": [
    {
     "name": "stdout",
     "output_type": "stream",
     "text": [
      "Disney Animators' Collection Elsa Doll - 16\"\n"
     ]
    }
   ],
   "source": [
    "print('''Disney Animators' Collection Elsa Doll - 16\"''')"
   ]
  },
  {
   "cell_type": "code",
   "execution_count": 114,
   "metadata": {},
   "outputs": [],
   "source": [
    "review_body = 'Arrived very quickly, well packaged. Followed the provided instructions for installation and the emailed instructions for reset. Ran the internal print test and font list and the image looks good. Happy so far.'\n",
    "review_title = 'Great Initial Results'\n",
    "product_title = 'EPS Replacement Brother TN450 Toner Cartridge, High Yield (2,600 Yield) - Black'\n",
    "star_rating = 5\n",
    "helpful_votes = 0\n",
    "total_votes = 0"
   ]
  },
  {
   "cell_type": "code",
   "execution_count": 115,
   "metadata": {},
   "outputs": [
    {
     "data": {
      "text/html": [
       "<div>\n",
       "<style scoped>\n",
       "    .dataframe tbody tr th:only-of-type {\n",
       "        vertical-align: middle;\n",
       "    }\n",
       "\n",
       "    .dataframe tbody tr th {\n",
       "        vertical-align: top;\n",
       "    }\n",
       "\n",
       "    .dataframe thead th {\n",
       "        text-align: right;\n",
       "    }\n",
       "</style>\n",
       "<table border=\"1\" class=\"dataframe\">\n",
       "  <thead>\n",
       "    <tr style=\"text-align: right;\">\n",
       "      <th></th>\n",
       "      <th>review_body</th>\n",
       "      <th>review_title</th>\n",
       "      <th>product_title</th>\n",
       "    </tr>\n",
       "  </thead>\n",
       "  <tbody>\n",
       "    <tr>\n",
       "      <th>0</th>\n",
       "      <td>Arrived very quickly, well packaged. Followed the provided instructions for installation and the emailed instructions for reset. Ran the internal print test and font list and the image looks good. Happy so far.</td>\n",
       "      <td>Great Initial Results</td>\n",
       "      <td>EPS Replacement Brother TN450 Toner Cartridge, High Yield (2,600 Yield) - Black</td>\n",
       "    </tr>\n",
       "  </tbody>\n",
       "</table>\n",
       "</div>"
      ],
      "text/plain": [
       "                                                                                                                                                                                                          review_body  \\\n",
       "0  Arrived very quickly, well packaged. Followed the provided instructions for installation and the emailed instructions for reset. Ran the internal print test and font list and the image looks good. Happy so far.   \n",
       "\n",
       "            review_title  \\\n",
       "0  Great Initial Results   \n",
       "\n",
       "                                                                     product_title  \n",
       "0  EPS Replacement Brother TN450 Toner Cartridge, High Yield (2,600 Yield) - Black  "
      ]
     },
     "execution_count": 115,
     "metadata": {},
     "output_type": "execute_result"
    }
   ],
   "source": [
    "test = pd.DataFrame()\n",
    "test['review_body'] = np.array([review_body])\n",
    "test['review_title'] = np.array([review_title])\n",
    "test['product_title'] = np.array([product_title])\n",
    "test"
   ]
  },
  {
   "cell_type": "code",
   "execution_count": 116,
   "metadata": {},
   "outputs": [
    {
     "data": {
      "text/html": [
       "<div>\n",
       "<style scoped>\n",
       "    .dataframe tbody tr th:only-of-type {\n",
       "        vertical-align: middle;\n",
       "    }\n",
       "\n",
       "    .dataframe tbody tr th {\n",
       "        vertical-align: top;\n",
       "    }\n",
       "\n",
       "    .dataframe thead th {\n",
       "        text-align: right;\n",
       "    }\n",
       "</style>\n",
       "<table border=\"1\" class=\"dataframe\">\n",
       "  <thead>\n",
       "    <tr style=\"text-align: right;\">\n",
       "      <th></th>\n",
       "      <th>review_body</th>\n",
       "      <th>review_title</th>\n",
       "      <th>product_title</th>\n",
       "      <th>new_review_body</th>\n",
       "      <th>new_review_title</th>\n",
       "      <th>new_product_title</th>\n",
       "    </tr>\n",
       "  </thead>\n",
       "  <tbody>\n",
       "    <tr>\n",
       "      <th>0</th>\n",
       "      <td>Arrived very quickly, well packaged. Followed the provided instructions for installation and the emailed instructions for reset. Ran the internal print test and font list and the image looks good. Happy so far.</td>\n",
       "      <td>Great Initial Results</td>\n",
       "      <td>EPS Replacement Brother TN450 Toner Cartridge, High Yield (2,600 Yield) - Black</td>\n",
       "      <td>arrived quickly well packaged followed provided instruction installation emailed instruction reset ran internal print test font list image look good happy far</td>\n",
       "      <td>great initial result</td>\n",
       "      <td>eps replacement brother tn toner cartridge high yield yield black</td>\n",
       "    </tr>\n",
       "  </tbody>\n",
       "</table>\n",
       "</div>"
      ],
      "text/plain": [
       "                                                                                                                                                                                                          review_body  \\\n",
       "0  Arrived very quickly, well packaged. Followed the provided instructions for installation and the emailed instructions for reset. Ran the internal print test and font list and the image looks good. Happy so far.   \n",
       "\n",
       "            review_title  \\\n",
       "0  Great Initial Results   \n",
       "\n",
       "                                                                     product_title  \\\n",
       "0  EPS Replacement Brother TN450 Toner Cartridge, High Yield (2,600 Yield) - Black   \n",
       "\n",
       "                                                                                                                                                  new_review_body  \\\n",
       "0  arrived quickly well packaged followed provided instruction installation emailed instruction reset ran internal print test font list image look good happy far   \n",
       "\n",
       "       new_review_title  \\\n",
       "0  great initial result   \n",
       "\n",
       "                                                   new_product_title  \n",
       "0  eps replacement brother tn toner cartridge high yield yield black  "
      ]
     },
     "execution_count": 116,
     "metadata": {},
     "output_type": "execute_result"
    }
   ],
   "source": [
    "out = df_cleaning(test, 'review_body')\n",
    "out = df_cleaning(out, 'review_title')\n",
    "out = df_cleaning(out, 'product_title')\n",
    "out"
   ]
  },
  {
   "cell_type": "code",
   "execution_count": 117,
   "metadata": {},
   "outputs": [],
   "source": [
    "rev_bod_id = id_for_dictionary(analyser.polarity_scores(out['new_review_body'][0]))\n",
    "prop = 1\n",
    "help_prop_id = id_for_prop(prop)\n",
    "prod_title_comp = only_compound(out['new_product_title'][0])\n",
    "rev_title_comp = only_compound(out['new_review_title'][0])"
   ]
  },
  {
   "cell_type": "code",
   "execution_count": 118,
   "metadata": {},
   "outputs": [
    {
     "data": {
      "text/plain": [
       "array([[0.    , 5.    , 0.6249, 0.    , 1.    ]])"
      ]
     },
     "execution_count": 118,
     "metadata": {},
     "output_type": "execute_result"
    }
   ],
   "source": [
    "# The one we had originally, and is producing the wrong order of proportions\n",
    "rev_input_test = np.array([[prod_title_comp, star_rating, rev_title_comp, rev_bod_id, help_prop_id]])\n",
    "rev_input_test"
   ]
  },
  {
   "cell_type": "code",
   "execution_count": 119,
   "metadata": {},
   "outputs": [],
   "source": [
    "# The right one !!\n",
    "#rev_input_test = np.array([[rev_title_comp, star_rating, prod_title_comp, rev_bod_id, help_prop_id]])\n",
    "#rev_input_test"
   ]
  },
  {
   "cell_type": "code",
   "execution_count": 120,
   "metadata": {},
   "outputs": [
    {
     "data": {
      "text/plain": [
       "'Y'"
      ]
     },
     "execution_count": 120,
     "metadata": {},
     "output_type": "execute_result"
    }
   ],
   "source": [
    "prediction, probabilities = knn_classifier.predict(rev_input_test), knn_classifier.predict_proba(rev_input_test)[0]\n",
    "\n",
    "prediction\n",
    "\n",
    "prediction[0]\n",
    "#probabilities"
   ]
  },
  {
   "cell_type": "code",
   "execution_count": 154,
   "metadata": {},
   "outputs": [
    {
     "data": {
      "text/plain": [
       "{133409: {'review_body': 'Scissors are great. Easy to grasp and manipulate and can be used by right or left hand. Also, very small and light weight make convenient for travel.',\n",
       "  'review_headline': 'Five Stars',\n",
       "  'product_title': 'Scissors: Adaptive Loop Scissors for Easy Cutting from Cues4Clues | For both Righties and Lefties |Great for Children and Adults | Helps Build Confidence in Cutting | Improve Coordination and Hand Strength | Have Fun with Arts and Crafts',\n",
       "  'star_rating': 5.0,\n",
       "  'helpful_votes': 1.0,\n",
       "  'total_votes': 1.0,\n",
       "  'verified_purchase': 'N'}}"
      ]
     },
     "execution_count": 154,
     "metadata": {},
     "output_type": "execute_result"
    }
   ],
   "source": [
    "test_2.to_dict()"
   ]
  },
  {
   "cell_type": "code",
   "execution_count": null,
   "metadata": {},
   "outputs": [],
   "source": []
  }
 ],
 "metadata": {
  "kernelspec": {
   "display_name": "Python 3",
   "language": "python",
   "name": "python3"
  },
  "language_info": {
   "codemirror_mode": {
    "name": "ipython",
    "version": 3
   },
   "file_extension": ".py",
   "mimetype": "text/x-python",
   "name": "python",
   "nbconvert_exporter": "python",
   "pygments_lexer": "ipython3",
   "version": "3.8.8"
  }
 },
 "nbformat": 4,
 "nbformat_minor": 4
}
