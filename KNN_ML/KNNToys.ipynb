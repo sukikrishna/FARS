{
 "cells": [
  {
   "cell_type": "code",
   "execution_count": 1,
   "metadata": {},
   "outputs": [],
   "source": [
    "# import libraries\n",
    "\n",
    "import numpy as np\n",
    "import pandas as pd\n",
    "\n",
    "import seaborn as sns\n",
    "import matplotlib.pyplot as plt\n",
    "\n",
    "# These are all the imports needed for the assignment\n",
    "%matplotlib inline\n",
    "\n",
    "# Import nltk package (Natural Language Toolkit)\n",
    "import nltk\n",
    "from nltk.tokenize import word_tokenize\n",
    "from nltk.corpus import stopwords\n",
    "\n",
    "import warnings\n",
    "warnings.filterwarnings('ignore')\n",
    "\n",
    "# scikit-learn imports\n",
    "from sklearn.model_selection import train_test_split\n",
    "from sklearn.svm import SVC\n",
    "from sklearn.feature_extraction.text import CountVectorizer, TfidfVectorizer\n",
    "from sklearn.metrics import classification_report, precision_recall_fscore_support"
   ]
  },
  {
   "cell_type": "code",
   "execution_count": 2,
   "metadata": {},
   "outputs": [
    {
     "name": "stderr",
     "output_type": "stream",
     "text": [
      "[nltk_data] Downloading package punkt to\n",
      "[nltk_data]     C:\\Users\\19495\\AppData\\Roaming\\nltk_data...\n",
      "[nltk_data]   Package punkt is already up-to-date!\n",
      "[nltk_data] Downloading package stopwords to\n",
      "[nltk_data]     C:\\Users\\19495\\AppData\\Roaming\\nltk_data...\n",
      "[nltk_data]   Package stopwords is already up-to-date!\n"
     ]
    },
    {
     "data": {
      "text/plain": [
       "True"
      ]
     },
     "execution_count": 2,
     "metadata": {},
     "output_type": "execute_result"
    }
   ],
   "source": [
    "# Download the NLTK English tokenizer and the stopwords of all languages\n",
    "nltk.download('punkt')\n",
    "nltk.download('stopwords')"
   ]
  },
  {
   "cell_type": "code",
   "execution_count": 3,
   "metadata": {},
   "outputs": [],
   "source": [
    "pd.set_option('display.max_columns', None)\n",
    "pd.set_option('display.max_rows', None)\n",
    "pd.set_option('display.max_colwidth', None)"
   ]
  },
  {
   "cell_type": "code",
   "execution_count": 4,
   "metadata": {},
   "outputs": [],
   "source": [
    "columns = ['marketplace', 'customer_id', 'review_id', 'product_id', 'product_parent', 'product_title', 'product_category', \\\n",
    "           'star_rating', 'helpful_votes', 'total_votes', 'vine', 'verified_purchase', 'review_headline', 'review_body', 'review_date']\n",
    "elec_df = pd.read_csv(\"C:/Users/19495/DS3ProjectFiles/amazon_reviews_us_Toys_v1_00.tsv.gz\", names =  columns, sep = '\\t').iloc[1:,:]"
   ]
  },
  {
   "cell_type": "code",
   "execution_count": 5,
   "metadata": {},
   "outputs": [],
   "source": [
    "elec_df = elec_df.sample(n = 1_000_000)"
   ]
  },
  {
   "cell_type": "code",
   "execution_count": 6,
   "metadata": {},
   "outputs": [],
   "source": [
    "one_file = elec_df.copy()"
   ]
  },
  {
   "cell_type": "markdown",
   "metadata": {},
   "source": [
    "## Data Sampling"
   ]
  },
  {
   "cell_type": "code",
   "execution_count": 7,
   "metadata": {},
   "outputs": [],
   "source": [
    "def df_sampling(df):\n",
    "    # Since we know that there are more unverified than verified --> we sample based on that\n",
    "    \n",
    "    # Since there are no data values in 'verified_purchase' columns that deviate from 'Y' or 'N' we proceed\n",
    "    verified_count_df = df[df['verified_purchase'] == 'Y']\n",
    "    unverified_count_df = df[df['verified_purchase'] == 'N']\n",
    "    \n",
    "    print(\"Number of verified purchases:\", len(verified_count_df))\n",
    "    print(\"Number of unverified purchases:\", len(unverified_count_df))\n",
    "    \n",
    "    sample_len = len(unverified_count_df)\n",
    "    \n",
    "    verified_sample_df = verified_count_df.sample(n = sample_len)\n",
    "    unified_df = pd.concat([unverified_count_df, verified_sample_df])\n",
    "    \n",
    "    print(\"Number of verified purchases (balanced dataset):\", len(unified_df[unified_df['verified_purchase'] == 'Y']))\n",
    "    print(\"Number of unverified purchases (balanced dataset):\", len(unified_df[unified_df['verified_purchase'] == 'N']))\n",
    "    \n",
    "    return unified_df"
   ]
  },
  {
   "cell_type": "code",
   "execution_count": 8,
   "metadata": {},
   "outputs": [
    {
     "name": "stdout",
     "output_type": "stream",
     "text": [
      "Number of verified purchases: 827379\n",
      "Number of unverified purchases: 172621\n",
      "Number of verified purchases (balanced dataset): 172621\n",
      "Number of unverified purchases (balanced dataset): 172621\n"
     ]
    },
    {
     "data": {
      "text/html": [
       "<div>\n",
       "<style scoped>\n",
       "    .dataframe tbody tr th:only-of-type {\n",
       "        vertical-align: middle;\n",
       "    }\n",
       "\n",
       "    .dataframe tbody tr th {\n",
       "        vertical-align: top;\n",
       "    }\n",
       "\n",
       "    .dataframe thead th {\n",
       "        text-align: right;\n",
       "    }\n",
       "</style>\n",
       "<table border=\"1\" class=\"dataframe\">\n",
       "  <thead>\n",
       "    <tr style=\"text-align: right;\">\n",
       "      <th></th>\n",
       "      <th>marketplace</th>\n",
       "      <th>customer_id</th>\n",
       "      <th>review_id</th>\n",
       "      <th>product_id</th>\n",
       "      <th>product_parent</th>\n",
       "      <th>product_title</th>\n",
       "      <th>product_category</th>\n",
       "      <th>star_rating</th>\n",
       "      <th>helpful_votes</th>\n",
       "      <th>total_votes</th>\n",
       "      <th>vine</th>\n",
       "      <th>verified_purchase</th>\n",
       "      <th>review_headline</th>\n",
       "      <th>review_body</th>\n",
       "      <th>review_date</th>\n",
       "    </tr>\n",
       "  </thead>\n",
       "  <tbody>\n",
       "    <tr>\n",
       "      <th>4040862</th>\n",
       "      <td>US</td>\n",
       "      <td>36055894</td>\n",
       "      <td>RS5X2YT6JOH8P</td>\n",
       "      <td>B004VYYA2K</td>\n",
       "      <td>874195035</td>\n",
       "      <td>Barbie ZipBin 40 Doll Dream House Toy Box &amp; Playmat</td>\n",
       "      <td>Toys</td>\n",
       "      <td>5</td>\n",
       "      <td>2</td>\n",
       "      <td>3</td>\n",
       "      <td>N</td>\n",
       "      <td>N</td>\n",
       "      <td>Excellent add-on to a Barbie House</td>\n",
       "      <td>We love this ZipBin!  Our 5-year old uses it as an extra bedroom since her Barbie house only has one bedroom.  We unzip a couple of the sides to fold down the floor and set it up right beside her Barbie house and put the extra bedroom furniture in it.  Then when playtime is over, zip the sides back up and fill the box with all the dolls, clothes, and accessories.  The ZipBin is very sturdy and well made.  The colors are vibrant and the indoor/outdoor design is really cute.  The lid of the box, when flipped over, has the image of a swimming pool so she can set her dolls around inside the lid and pretend that they are swimming - perfect since I only let her have the \\\\\"real\\\\\" Barbie pool outdoors.  If there were more Barbie Zip Bins with different designs, I would buy more of them to keep \\\\\"building on\\\\\" to our Barbie house!</td>\n",
       "      <td>2012-07-22</td>\n",
       "    </tr>\n",
       "    <tr>\n",
       "      <th>3505639</th>\n",
       "      <td>US</td>\n",
       "      <td>15169783</td>\n",
       "      <td>R33R5PHZHYB87A</td>\n",
       "      <td>B00ATX7IDA</td>\n",
       "      <td>781180067</td>\n",
       "      <td>LEGO Super Heroes Iron Man Extremis Sea Port Battle (76006)</td>\n",
       "      <td>Toys</td>\n",
       "      <td>5</td>\n",
       "      <td>0</td>\n",
       "      <td>0</td>\n",
       "      <td>N</td>\n",
       "      <td>N</td>\n",
       "      <td>AWESOME</td>\n",
       "      <td>The set 76006 is the best $20.00 set out there for kids!!!!:) my favorite thing about the set from my point of view is the figures.( especially war- mechine!!!!!)&lt;br /&gt;&lt;br /&gt;Timmyturner11</td>\n",
       "      <td>2013-04-25</td>\n",
       "    </tr>\n",
       "  </tbody>\n",
       "</table>\n",
       "</div>"
      ],
      "text/plain": [
       "        marketplace customer_id       review_id  product_id product_parent  \\\n",
       "4040862          US    36055894   RS5X2YT6JOH8P  B004VYYA2K      874195035   \n",
       "3505639          US    15169783  R33R5PHZHYB87A  B00ATX7IDA      781180067   \n",
       "\n",
       "                                                       product_title  \\\n",
       "4040862          Barbie ZipBin 40 Doll Dream House Toy Box & Playmat   \n",
       "3505639  LEGO Super Heroes Iron Man Extremis Sea Port Battle (76006)   \n",
       "\n",
       "        product_category star_rating helpful_votes total_votes vine  \\\n",
       "4040862             Toys           5             2           3    N   \n",
       "3505639             Toys           5             0           0    N   \n",
       "\n",
       "        verified_purchase                     review_headline  \\\n",
       "4040862                 N  Excellent add-on to a Barbie House   \n",
       "3505639                 N                             AWESOME   \n",
       "\n",
       "                                                                                                                                                                                                                                                                                                                                                                                                                                                                                                                                                                                                                                                                                                                                                                                                                                                                   review_body  \\\n",
       "4040862  We love this ZipBin!  Our 5-year old uses it as an extra bedroom since her Barbie house only has one bedroom.  We unzip a couple of the sides to fold down the floor and set it up right beside her Barbie house and put the extra bedroom furniture in it.  Then when playtime is over, zip the sides back up and fill the box with all the dolls, clothes, and accessories.  The ZipBin is very sturdy and well made.  The colors are vibrant and the indoor/outdoor design is really cute.  The lid of the box, when flipped over, has the image of a swimming pool so she can set her dolls around inside the lid and pretend that they are swimming - perfect since I only let her have the \\\\\"real\\\\\" Barbie pool outdoors.  If there were more Barbie Zip Bins with different designs, I would buy more of them to keep \\\\\"building on\\\\\" to our Barbie house!   \n",
       "3505639                                                                                                                                                                                                                                                                                                                                                                                                                                                                                                                                                                                                                                                                            The set 76006 is the best $20.00 set out there for kids!!!!:) my favorite thing about the set from my point of view is the figures.( especially war- mechine!!!!!)<br /><br />Timmyturner11   \n",
       "\n",
       "        review_date  \n",
       "4040862  2012-07-22  \n",
       "3505639  2013-04-25  "
      ]
     },
     "metadata": {},
     "output_type": "display_data"
    }
   ],
   "source": [
    "balanced_elec = df_sampling(one_file)\n",
    "display(balanced_elec.head(2))"
   ]
  },
  {
   "cell_type": "code",
   "execution_count": 9,
   "metadata": {},
   "outputs": [
    {
     "name": "stdout",
     "output_type": "stream",
     "text": [
      "The Beauty sample will have size: (345242, 15)\n"
     ]
    }
   ],
   "source": [
    "print(\"The Beauty sample will have size:\", balanced_elec.shape)"
   ]
  },
  {
   "cell_type": "markdown",
   "metadata": {},
   "source": [
    "## Data Cleaning & Type Conversion"
   ]
  },
  {
   "cell_type": "code",
   "execution_count": 10,
   "metadata": {},
   "outputs": [],
   "source": [
    "#one_file = balanced_elec.copy()"
   ]
  },
  {
   "cell_type": "code",
   "execution_count": 11,
   "metadata": {},
   "outputs": [
    {
     "name": "stdout",
     "output_type": "stream",
     "text": [
      "Number of verified purchases (balanced dataset): 827379\n",
      "Number of unverified purchases (balanced dataset): 172621\n"
     ]
    }
   ],
   "source": [
    "print(\"Number of verified purchases (balanced dataset):\", len(one_file[one_file['verified_purchase'] == 'Y']))\n",
    "print(\"Number of unverified purchases (balanced dataset):\", len(one_file[one_file['verified_purchase'] == 'N']))"
   ]
  },
  {
   "cell_type": "code",
   "execution_count": 12,
   "metadata": {},
   "outputs": [
    {
     "data": {
      "text/plain": [
       "5    623605\n",
       "4    156460\n",
       "1     80869\n",
       "3     78687\n",
       "2     46817\n",
       "5      9046\n",
       "4      1824\n",
       "1      1130\n",
       "3       984\n",
       "2       578\n",
       "Name: star_rating, dtype: int64"
      ]
     },
     "execution_count": 12,
     "metadata": {},
     "output_type": "execute_result"
    }
   ],
   "source": [
    "# Star rating of the format '2015-04-02' exists! In addition, np.nan exists in the helpful and total votes\n",
    "one_file['star_rating'].value_counts()"
   ]
  },
  {
   "cell_type": "code",
   "execution_count": 13,
   "metadata": {},
   "outputs": [],
   "source": [
    "# Convert the type of relevant columns to int\n",
    "one_file['star_rating'] = (one_file['star_rating']).apply(lambda star: np.NaN if (len(str(star)) > 3) else star)\n",
    "one_file['star_rating'] = one_file['star_rating'].apply(lambda star: star if (pd.isna(star)) else int(star))\n",
    "one_file['helpful_votes'] = one_file['helpful_votes'].apply(lambda vote: vote if (pd.isna(vote)) else int(vote))\n",
    "one_file['total_votes'] = one_file['total_votes'].apply(lambda vote: vote if (pd.isna(vote)) else int(int(vote)))"
   ]
  },
  {
   "cell_type": "code",
   "execution_count": 14,
   "metadata": {},
   "outputs": [
    {
     "name": "stderr",
     "output_type": "stream",
     "text": [
      "[nltk_data] Downloading package stopwords to\n",
      "[nltk_data]     C:\\Users\\19495\\AppData\\Roaming\\nltk_data...\n",
      "[nltk_data]   Package stopwords is already up-to-date!\n",
      "[nltk_data] Downloading package wordnet to\n",
      "[nltk_data]     C:\\Users\\19495\\AppData\\Roaming\\nltk_data...\n",
      "[nltk_data]   Package wordnet is already up-to-date!\n"
     ]
    }
   ],
   "source": [
    "import re\n",
    "\n",
    "import nltk.corpus\n",
    "nltk.download('stopwords')\n",
    "from nltk.corpus import stopwords\n",
    "\n",
    "from nltk.stem.porter import PorterStemmer\n",
    "nltk.download('wordnet')\n",
    "from nltk.stem import WordNetLemmatizer"
   ]
  },
  {
   "cell_type": "code",
   "execution_count": 15,
   "metadata": {},
   "outputs": [],
   "source": [
    "def df_cleaning(df, col):\n",
    "    # Drop rows with na values\n",
    "    df.dropna(inplace = True)\n",
    "    \n",
    "    new_col_name = 'new_' + col\n",
    "    \n",
    "    df[new_col_name] = df[col].copy() \n",
    "    \n",
    "    # Remove unwanted formatting characters\n",
    "    format_strs = dict.fromkeys(['<br /><br />', '&#34', 'br', '&quot', '<br />'], ' ')\n",
    "    \n",
    "    for key in format_strs:\n",
    "        df[new_col_name] = df[new_col_name].apply(lambda review: review.replace(key, format_strs[key]))\n",
    "    # removing quotes produces smthg like this --> 'The product has great ;sound; --> we must remove punctuation\n",
    "\n",
    "    \n",
    "    # Case normalization (lower case)\n",
    "    df[new_col_name] = df[new_col_name].str.lower()\n",
    "    \n",
    "    remove_dict = {\"0\": \"\", \"1\": \"\", \"2\": \"\", \"3\": \"\", \"4\": \"\", \"5\": \"\", \"6\": \"\", \"7\": \"\", \"8\": \"\", \"9\": \"\",\n",
    "                   \"(\": \"\", \")\":\"\"}\n",
    "    for key, val in remove_dict.items():\n",
    "        df[new_col_name] = df[new_col_name].apply(\n",
    "            lambda x: x.replace(key, val))\n",
    "        \n",
    "    # Remove stopwords\n",
    "    stop_lst = stopwords.words('english')\n",
    "    #stop_lst += ([\"can't\", \"i'm\" \"i'd\", \"i've\", \"i'll\", \"that's\", \"there's\", \"they're\"])\n",
    "    # ****Do we not have to take stopwords out BEFORE removing punctuation? Otherwise words with punct like “cant” remains there\n",
    "    df[new_col_name] = df[new_col_name].apply(lambda text_body: \" \".join([word for word in text_body.split() if word not in (stop_lst)]))\n",
    "    \n",
    "    # Removing Unicode Chars (punctuation, URL, @)\n",
    "    df[new_col_name] = df[new_col_name].apply(lambda rev: re.sub(r\"(@\\[A-Za-z0-9]+)|([^0-9A-Za-z \\t])|(\\w+:\\/\\/\\S+)|^rt|http.+?\", \"\", rev))\n",
    "    \n",
    "    # Lemmatization\n",
    "    word_lemmatizer = WordNetLemmatizer()\n",
    "    df[new_col_name] = df[new_col_name].apply(lambda txt: \" \".join([(word_lemmatizer.lemmatize(word)) for word in txt.split()]))\n",
    "    \n",
    "    # Convert the type of relevant columns to int\n",
    "    df['star_rating'] = (df['star_rating']).apply(lambda star: np.NaN if (len(str(star)) > 3) else star)\n",
    "    df['star_rating'] = df['star_rating'].apply(lambda star: star if (pd.isna(star)) else int(star))\n",
    "    df['helpful_votes'] = df['helpful_votes'].apply(lambda vote: vote if (pd.isna(vote)) else int(vote))\n",
    "    df['total_votes'] = df['total_votes'].apply(lambda vote: vote if (pd.isna(vote)) else int(int(vote)))\n",
    "    \n",
    "    return df"
   ]
  },
  {
   "cell_type": "code",
   "execution_count": 16,
   "metadata": {},
   "outputs": [
    {
     "data": {
      "text/html": [
       "<div>\n",
       "<style scoped>\n",
       "    .dataframe tbody tr th:only-of-type {\n",
       "        vertical-align: middle;\n",
       "    }\n",
       "\n",
       "    .dataframe tbody tr th {\n",
       "        vertical-align: top;\n",
       "    }\n",
       "\n",
       "    .dataframe thead th {\n",
       "        text-align: right;\n",
       "    }\n",
       "</style>\n",
       "<table border=\"1\" class=\"dataframe\">\n",
       "  <thead>\n",
       "    <tr style=\"text-align: right;\">\n",
       "      <th></th>\n",
       "      <th>review_body</th>\n",
       "      <th>new_review_body</th>\n",
       "    </tr>\n",
       "  </thead>\n",
       "  <tbody>\n",
       "    <tr>\n",
       "      <th>4130052</th>\n",
       "      <td>I got this for a birthday present for our son.  He flipped out!  He didn't really read the instructions because all he cared about is that it's a SPY WATCH!  He wears it almost all the time and it has survived many drops.  He has started asking about other time zones because of this, so that's a nice bonus.</td>\n",
       "      <td>got birthday present son flipped out really read instruction cared spy watch wear almost time survived many drop started asking time zone this thats nice bonus</td>\n",
       "    </tr>\n",
       "    <tr>\n",
       "      <th>4040862</th>\n",
       "      <td>We love this ZipBin!  Our 5-year old uses it as an extra bedroom since her Barbie house only has one bedroom.  We unzip a couple of the sides to fold down the floor and set it up right beside her Barbie house and put the extra bedroom furniture in it.  Then when playtime is over, zip the sides back up and fill the box with all the dolls, clothes, and accessories.  The ZipBin is very sturdy and well made.  The colors are vibrant and the indoor/outdoor design is really cute.  The lid of the box, when flipped over, has the image of a swimming pool so she can set her dolls around inside the lid and pretend that they are swimming - perfect since I only let her have the \\\\\"real\\\\\" Barbie pool outdoors.  If there were more Barbie Zip Bins with different designs, I would buy more of them to keep \\\\\"building on\\\\\" to our Barbie house!</td>\n",
       "      <td>love zipbin year old us extra bedroom since barbie house one bedroom unzip couple side fold floor set right beside barbie house put extra bedroom furniture it playtime over zip side back fill box doll clothes accessory zipbin sturdy well made color vi ant indooroutdoor design really cute lid box flipped over image swimming pool set doll around inside lid pretend swimming perfect since let real barbie pool outdoors barbie zip bin different design would buy keep building on barbie house</td>\n",
       "    </tr>\n",
       "    <tr>\n",
       "      <th>2135468</th>\n",
       "      <td>THE TEEN TITANS FIGURES ARE JUST SUPER COOL. I HAVE LEFT THEM IN THIER ORIGAL BOX BECAUSE OF THE WARNINGS OF OTHER REVIEWERS TAKING ABOUT HOW THSES ARE NOT TOYS BUT COLLECTIABLES. GREAT ADDITION TO MY FIQURES COLLECTION.</td>\n",
       "      <td>teen titan figure super cool left thier origal box warning reviewer taking th toy collectiables great addition fiqures collection</td>\n",
       "    </tr>\n",
       "    <tr>\n",
       "      <th>4507383</th>\n",
       "      <td>If you're on the fence about buying this, just buy it now! This pikachu is HUGE! It is awesome. I ordered this thing and it got here within 2 days and I had standard shipping. Just buy it...you won't be sorry.</td>\n",
       "      <td>fence buying this buy now pikachu huge awesome ordered thing got within day standard shipping buy ityou sorry</td>\n",
       "    </tr>\n",
       "    <tr>\n",
       "      <th>3656054</th>\n",
       "      <td>I liked it. It's just what I wanted for my Granddaughter.  It came right on time.  The only thing was the color.  It was brighter online,</td>\n",
       "      <td>liked it wanted granddaughter came right time thing color ighter online</td>\n",
       "    </tr>\n",
       "  </tbody>\n",
       "</table>\n",
       "</div>"
      ],
      "text/plain": [
       "                                                                                                                                                                                                                                                                                                                                                                                                                                                                                                                                                                                                                                                                                                                                                                                                                                                                   review_body  \\\n",
       "4130052                                                                                                                                                                                                                                                                                                                                                                                                                                                                                                                                                   I got this for a birthday present for our son.  He flipped out!  He didn't really read the instructions because all he cared about is that it's a SPY WATCH!  He wears it almost all the time and it has survived many drops.  He has started asking about other time zones because of this, so that's a nice bonus.   \n",
       "4040862  We love this ZipBin!  Our 5-year old uses it as an extra bedroom since her Barbie house only has one bedroom.  We unzip a couple of the sides to fold down the floor and set it up right beside her Barbie house and put the extra bedroom furniture in it.  Then when playtime is over, zip the sides back up and fill the box with all the dolls, clothes, and accessories.  The ZipBin is very sturdy and well made.  The colors are vibrant and the indoor/outdoor design is really cute.  The lid of the box, when flipped over, has the image of a swimming pool so she can set her dolls around inside the lid and pretend that they are swimming - perfect since I only let her have the \\\\\"real\\\\\" Barbie pool outdoors.  If there were more Barbie Zip Bins with different designs, I would buy more of them to keep \\\\\"building on\\\\\" to our Barbie house!   \n",
       "2135468                                                                                                                                                                                                                                                                                                                                                                                                                                                                                                                                                                                                                                           THE TEEN TITANS FIGURES ARE JUST SUPER COOL. I HAVE LEFT THEM IN THIER ORIGAL BOX BECAUSE OF THE WARNINGS OF OTHER REVIEWERS TAKING ABOUT HOW THSES ARE NOT TOYS BUT COLLECTIABLES. GREAT ADDITION TO MY FIQURES COLLECTION.   \n",
       "4507383                                                                                                                                                                                                                                                                                                                                                                                                                                                                                                                                                                                                                                                      If you're on the fence about buying this, just buy it now! This pikachu is HUGE! It is awesome. I ordered this thing and it got here within 2 days and I had standard shipping. Just buy it...you won't be sorry.   \n",
       "3656054                                                                                                                                                                                                                                                                                                                                                                                                                                                                                                                                                                                                                                                                                                                              I liked it. It's just what I wanted for my Granddaughter.  It came right on time.  The only thing was the color.  It was brighter online,   \n",
       "\n",
       "                                                                                                                                                                                                                                                                                                                                                                                                                                                                                                   new_review_body  \n",
       "4130052                                                                                                                                                                                                                                                                                                                                            got birthday present son flipped out really read instruction cared spy watch wear almost time survived many drop started asking time zone this thats nice bonus  \n",
       "4040862  love zipbin year old us extra bedroom since barbie house one bedroom unzip couple side fold floor set right beside barbie house put extra bedroom furniture it playtime over zip side back fill box doll clothes accessory zipbin sturdy well made color vi ant indooroutdoor design really cute lid box flipped over image swimming pool set doll around inside lid pretend swimming perfect since let real barbie pool outdoors barbie zip bin different design would buy keep building on barbie house  \n",
       "2135468                                                                                                                                                                                                                                                                                                                                                                          teen titan figure super cool left thier origal box warning reviewer taking th toy collectiables great addition fiqures collection  \n",
       "4507383                                                                                                                                                                                                                                                                                                                                                                                              fence buying this buy now pikachu huge awesome ordered thing got within day standard shipping buy ityou sorry  \n",
       "3656054                                                                                                                                                                                                                                                                                                                                                                                                                                    liked it wanted granddaughter came right time thing color ighter online  "
      ]
     },
     "execution_count": 16,
     "metadata": {},
     "output_type": "execute_result"
    }
   ],
   "source": [
    "cleaned2 = df_cleaning(one_file, 'review_body')\n",
    "cleaned2.get(['review_body', 'new_review_body']).head()"
   ]
  },
  {
   "cell_type": "code",
   "execution_count": 17,
   "metadata": {},
   "outputs": [
    {
     "data": {
      "text/html": [
       "<div>\n",
       "<style scoped>\n",
       "    .dataframe tbody tr th:only-of-type {\n",
       "        vertical-align: middle;\n",
       "    }\n",
       "\n",
       "    .dataframe tbody tr th {\n",
       "        vertical-align: top;\n",
       "    }\n",
       "\n",
       "    .dataframe thead th {\n",
       "        text-align: right;\n",
       "    }\n",
       "</style>\n",
       "<table border=\"1\" class=\"dataframe\">\n",
       "  <thead>\n",
       "    <tr style=\"text-align: right;\">\n",
       "      <th></th>\n",
       "      <th>review_headline</th>\n",
       "      <th>new_review_headline</th>\n",
       "    </tr>\n",
       "  </thead>\n",
       "  <tbody>\n",
       "    <tr>\n",
       "      <th>4130052</th>\n",
       "      <td>The kid loves it!</td>\n",
       "      <td>kid love it</td>\n",
       "    </tr>\n",
       "    <tr>\n",
       "      <th>4040862</th>\n",
       "      <td>Excellent add-on to a Barbie House</td>\n",
       "      <td>excellent addon barbie house</td>\n",
       "    </tr>\n",
       "    <tr>\n",
       "      <th>2135468</th>\n",
       "      <td>THE TEEN TITANS FIGURES ARE JUST SUPER COOL. I HAVE LEFT THEM IN THIER ORIGAL ...</td>\n",
       "      <td>teen titan figure super cool left thier origal</td>\n",
       "    </tr>\n",
       "    <tr>\n",
       "      <th>4507383</th>\n",
       "      <td>AWESOME</td>\n",
       "      <td>awesome</td>\n",
       "    </tr>\n",
       "    <tr>\n",
       "      <th>3656054</th>\n",
       "      <td>Lilac Swirly Pettiskirt</td>\n",
       "      <td>lilac swirly pettiskirt</td>\n",
       "    </tr>\n",
       "  </tbody>\n",
       "</table>\n",
       "</div>"
      ],
      "text/plain": [
       "                                                                           review_headline  \\\n",
       "4130052                                                                  The kid loves it!   \n",
       "4040862                                                 Excellent add-on to a Barbie House   \n",
       "2135468  THE TEEN TITANS FIGURES ARE JUST SUPER COOL. I HAVE LEFT THEM IN THIER ORIGAL ...   \n",
       "4507383                                                                            AWESOME   \n",
       "3656054                                                            Lilac Swirly Pettiskirt   \n",
       "\n",
       "                                    new_review_headline  \n",
       "4130052                                     kid love it  \n",
       "4040862                    excellent addon barbie house  \n",
       "2135468  teen titan figure super cool left thier origal  \n",
       "4507383                                         awesome  \n",
       "3656054                         lilac swirly pettiskirt  "
      ]
     },
     "execution_count": 17,
     "metadata": {},
     "output_type": "execute_result"
    }
   ],
   "source": [
    "cleaned2 = df_cleaning(one_file, 'review_headline')\n",
    "cleaned2.get(['review_headline', 'new_review_headline']).head()"
   ]
  },
  {
   "cell_type": "code",
   "execution_count": 18,
   "metadata": {},
   "outputs": [
    {
     "data": {
      "text/html": [
       "<div>\n",
       "<style scoped>\n",
       "    .dataframe tbody tr th:only-of-type {\n",
       "        vertical-align: middle;\n",
       "    }\n",
       "\n",
       "    .dataframe tbody tr th {\n",
       "        vertical-align: top;\n",
       "    }\n",
       "\n",
       "    .dataframe thead th {\n",
       "        text-align: right;\n",
       "    }\n",
       "</style>\n",
       "<table border=\"1\" class=\"dataframe\">\n",
       "  <thead>\n",
       "    <tr style=\"text-align: right;\">\n",
       "      <th></th>\n",
       "      <th>product_title</th>\n",
       "      <th>new_product_title</th>\n",
       "    </tr>\n",
       "  </thead>\n",
       "  <tbody>\n",
       "    <tr>\n",
       "      <th>4130052</th>\n",
       "      <td>Spy Gear Ultimate Spy Watch</td>\n",
       "      <td>spy gear ultimate spy watch</td>\n",
       "    </tr>\n",
       "    <tr>\n",
       "      <th>4040862</th>\n",
       "      <td>Barbie ZipBin 40 Doll Dream House Toy Box &amp; Playmat</td>\n",
       "      <td>barbie zipbin doll dream house toy box playmat</td>\n",
       "    </tr>\n",
       "    <tr>\n",
       "      <th>2135468</th>\n",
       "      <td>Teen Titans Go Teen Titans Action Figure (6-Pack), 2\"</td>\n",
       "      <td>teen titan go teen titan action figure pack</td>\n",
       "    </tr>\n",
       "    <tr>\n",
       "      <th>4507383</th>\n",
       "      <td>Large Pokemon plush - Pikachu Cuddle Pillow 25in</td>\n",
       "      <td>large pokemon plush pikachu cuddle pillow</td>\n",
       "    </tr>\n",
       "    <tr>\n",
       "      <th>3656054</th>\n",
       "      <td>Girls Beautiful Lilac Swirly Pettiskirt for Dress Up</td>\n",
       "      <td>girl beautiful lilac swirly pettiskirt dress</td>\n",
       "    </tr>\n",
       "  </tbody>\n",
       "</table>\n",
       "</div>"
      ],
      "text/plain": [
       "                                                 product_title  \\\n",
       "4130052                            Spy Gear Ultimate Spy Watch   \n",
       "4040862    Barbie ZipBin 40 Doll Dream House Toy Box & Playmat   \n",
       "2135468  Teen Titans Go Teen Titans Action Figure (6-Pack), 2\"   \n",
       "4507383       Large Pokemon plush - Pikachu Cuddle Pillow 25in   \n",
       "3656054   Girls Beautiful Lilac Swirly Pettiskirt for Dress Up   \n",
       "\n",
       "                                      new_product_title  \n",
       "4130052                     spy gear ultimate spy watch  \n",
       "4040862  barbie zipbin doll dream house toy box playmat  \n",
       "2135468     teen titan go teen titan action figure pack  \n",
       "4507383       large pokemon plush pikachu cuddle pillow  \n",
       "3656054    girl beautiful lilac swirly pettiskirt dress  "
      ]
     },
     "execution_count": 18,
     "metadata": {},
     "output_type": "execute_result"
    }
   ],
   "source": [
    "cleaned2 = df_cleaning(one_file, 'product_title')\n",
    "cleaned2.get(['product_title', 'new_product_title']).head()"
   ]
  },
  {
   "cell_type": "code",
   "execution_count": 19,
   "metadata": {},
   "outputs": [
    {
     "name": "stdout",
     "output_type": "stream",
     "text": [
      "Number of verified purchases (balanced dataset): 827279\n",
      "Number of unverified purchases (balanced dataset): 172602\n"
     ]
    }
   ],
   "source": [
    "print(\"Number of verified purchases (balanced dataset):\", len(cleaned2[cleaned2['verified_purchase'] == 'Y']))\n",
    "print(\"Number of unverified purchases (balanced dataset):\", len(cleaned2[cleaned2['verified_purchase'] == 'N']))"
   ]
  },
  {
   "cell_type": "markdown",
   "metadata": {},
   "source": [
    "## Vader Sentiment Analysis"
   ]
  },
  {
   "cell_type": "code",
   "execution_count": null,
   "metadata": {},
   "outputs": [],
   "source": [
    "from vaderSentiment.vaderSentiment import SentimentIntensityAnalyzer\n",
    "\n",
    "analyser = SentimentIntensityAnalyzer()\n",
    "\n",
    "def get_sentiment_scores(review):\n",
    "    \"\"\"\n",
    "    create new dataframe with just the proportions for each review\n",
    "    four columns\n",
    "    neg_prop, pos_prop, neu_prop, compound_prop and will contain these values\n",
    "    obtained from the vator sentiment algorithm\n",
    "    \"\"\"\n",
    "    snt = analyser.polarity_scores(review)\n",
    "    return snt"
   ]
  },
  {
   "cell_type": "code",
   "execution_count": null,
   "metadata": {},
   "outputs": [],
   "source": [
    "one_file = cleaned2.copy()"
   ]
  },
  {
   "cell_type": "code",
   "execution_count": null,
   "metadata": {},
   "outputs": [],
   "source": [
    "# Add 4 new columns to cleaned_elec df: neg_prop, neu_prop, pos_prop, compound_prop\n",
    "one_file['rev_dict'] = one_file['new_review_body'].apply(get_sentiment_scores)\n",
    "\n",
    "def get_neg(review_dict):\n",
    "    return review_dict['neg']\n",
    "\n",
    "def get_neu(review_dict):\n",
    "    return review_dict['neu']\n",
    "\n",
    "def get_pos(review_dict):\n",
    "    return review_dict['pos']\n",
    "\n",
    "def get_compound(review_dict):\n",
    "    return review_dict['compound']\n",
    "\n",
    "def only_compound(x):\n",
    "    dct = get_sentiment_scores(x)\n",
    "    return dct['compound']"
   ]
  },
  {
   "cell_type": "code",
   "execution_count": null,
   "metadata": {},
   "outputs": [],
   "source": [
    "#get neg prop\n",
    "one_file['neg_prop'] = one_file['rev_dict'].apply(get_neg)\n",
    "#get neu prop\n",
    "one_file['neu_prop'] = one_file['rev_dict'].apply(get_neu)\n",
    "#get pos prop\n",
    "one_file['pos_prop'] = one_file['rev_dict'].apply(get_pos)\n",
    "#get compound prop\n",
    "one_file['compound_prop'] = one_file['rev_dict'].apply(get_compound)"
   ]
  },
  {
   "cell_type": "code",
   "execution_count": null,
   "metadata": {},
   "outputs": [],
   "source": [
    "#one_file.to_csv('toy_data_cleaned.csv')"
   ]
  },
  {
   "cell_type": "code",
   "execution_count": null,
   "metadata": {},
   "outputs": [],
   "source": [
    "one_file.head()\n",
    "print(\"Number of verified purchases (balanced dataset):\", len(one_file[one_file['verified_purchase'] == 'Y']))\n",
    "print(\"Number of unverified purchases (balanced dataset):\", len(one_file[one_file['verified_purchase'] == 'N']))"
   ]
  },
  {
   "cell_type": "markdown",
   "metadata": {},
   "source": [
    "## Confusion Matrix"
   ]
  },
  {
   "cell_type": "code",
   "execution_count": null,
   "metadata": {},
   "outputs": [],
   "source": [
    "def plot_confusion_matrix(cm, target_names,\n",
    "                          fname, epoch,\n",
    "                          title='Confusion matrix',\n",
    "                          cmap=None,\n",
    "                          normalize=True, target=None):\n",
    "    import matplotlib.pyplot as plt\n",
    "    import numpy as np\n",
    "    import itertools\n",
    "    plt.style.use('default')\n",
    "\n",
    "    # # only true if it weren't normalized:\n",
    "    # accuracy = np.trace(cm) / float(np.sum(cm))\n",
    "    # misclass = 1 - accuracy\n",
    "\n",
    "    if cmap is None:\n",
    "        cmap = plt.get_cmap('Blues')\n",
    "\n",
    "    if normalize:\n",
    "        cm = cm.astype('float') / cm.sum(axis=1)[:, np.newaxis]\n",
    "    cm[np.isnan(cm)] = 0.0\n",
    "\n",
    "    fig = plt.figure(figsize=(5, 4))\n",
    "    ax = plt.axes()\n",
    "    plt.imshow(cm, interpolation='nearest', cmap=cmap)\n",
    "    if target == \"rule-based\":\n",
    "        plt.title(title + ' for rule-based PF')\n",
    "    else:\n",
    "        plt.title(title + ' for MLPF at epoch ' + str(epoch))\n",
    "\n",
    "    plt.colorbar()\n",
    "\n",
    "    if target_names is not None:\n",
    "        tick_marks = np.arange(len(target_names))\n",
    "        plt.xticks(tick_marks, target_names, rotation=45)\n",
    "        plt.yticks(tick_marks, target_names)\n",
    "\n",
    "    thresh = cm.max() / 1.5 if normalize else cm.max() / 2\n",
    "    for i, j in itertools.product(range(cm.shape[0]), range(cm.shape[1])):\n",
    "        if normalize:\n",
    "            plt.text(j, i, \"{:0.2f}\".format(cm[i, j]),\n",
    "                     horizontalalignment=\"center\",\n",
    "                     color=\"white\" if cm[i, j] > thresh else \"black\")\n",
    "        else:\n",
    "            plt.text(j, i, \"{:,}\".format(cm[i, j]),\n",
    "                     horizontalalignment=\"center\",\n",
    "                     color=\"white\" if cm[i, j] > thresh else \"black\")\n",
    "\n",
    "    plt.ylabel('True label')\n",
    "    plt.xlim(-1, len(target_names))\n",
    "    plt.ylim(-1, len(target_names))\n",
    "    plt.xlabel('Predicted label')\n",
    "    # plt.xlabel('Predicted label\\naccuracy={:0.4f}; misclass={:0.4f}'.format(accuracy, misclass))\n",
    "    plt.tight_layout()\n",
    "    plt.savefig(fname + '.png')\n",
    "    plt.savefig(fname + '.pdf')\n",
    "    #plt.close(fig)\n",
    "\n",
    "    return fig, ax"
   ]
  },
  {
   "cell_type": "markdown",
   "metadata": {},
   "source": [
    "## KNN"
   ]
  },
  {
   "cell_type": "code",
   "execution_count": null,
   "metadata": {},
   "outputs": [],
   "source": [
    "import numpy as np\n",
    "import matplotlib.pyplot as plt\n",
    "import pandas as pd\n",
    "import sklearn"
   ]
  },
  {
   "cell_type": "code",
   "execution_count": null,
   "metadata": {},
   "outputs": [],
   "source": [
    "one_file.columns"
   ]
  },
  {
   "cell_type": "code",
   "execution_count": null,
   "metadata": {},
   "outputs": [],
   "source": [
    "one_file['prod_title_comp'] = one_file.get(\"new_product_title\").apply(only_compound)\n",
    "one_file['rev_title_comp'] = one_file.get(\"new_review_headline\").apply(only_compound)"
   ]
  },
  {
   "cell_type": "code",
   "execution_count": null,
   "metadata": {},
   "outputs": [],
   "source": [
    "def helpful_prop(df):  \n",
    "    vote_series = pd.Series(df['helpful_votes'] / df['total_votes'])\n",
    "    # !! All nan values in votes_prop should be changed to zero: this means that 0/0 occurred !!\n",
    "    vote_series = vote_series.fillna(0)\n",
    "    return vote_series"
   ]
  },
  {
   "cell_type": "code",
   "execution_count": null,
   "metadata": {},
   "outputs": [],
   "source": [
    "# Helper function for id'ing the review body sentiments into -1, 0, 1 depending on majority sentiment\n",
    "def id_for_dictionary(dic):\n",
    "    if len(dic) == 4:\n",
    "        ind = list(dic.values()).index(max(list(dic.values())[0:-1])) #remove the compound\n",
    "    else:\n",
    "        ind = list(dic.values()).index(max(list(dic.values())))\n",
    "    \n",
    "    # If at idx 1, neutral sent\n",
    "    if ind == 1:\n",
    "        return 0\n",
    "    # If at idx 0, negative sent\n",
    "    elif ind == 0:\n",
    "        return -1\n",
    "    else:\n",
    "        return 1"
   ]
  },
  {
   "cell_type": "code",
   "execution_count": null,
   "metadata": {},
   "outputs": [],
   "source": [
    "# Helper function for id'ing the helper vote proportion\n",
    "def id_for_prop(prop):\n",
    "    if prop < 0.45:\n",
    "        return -1\n",
    "    elif prop > 0.55:\n",
    "        return 1\n",
    "    else:\n",
    "        return 0"
   ]
  },
  {
   "cell_type": "code",
   "execution_count": null,
   "metadata": {},
   "outputs": [],
   "source": [
    "one_file['help_prop'] = helpful_prop(one_file)\n",
    "one_file['rev_bod_id'] = one_file['rev_dict'].apply(id_for_dictionary)\n",
    "one_file['help_prop_id'] = one_file[\"help_prop\"].apply(id_for_prop)\n",
    "one_file.head()"
   ]
  },
  {
   "cell_type": "code",
   "execution_count": null,
   "metadata": {},
   "outputs": [],
   "source": [
    "imp_col = one_file[['verified_purchase', 'prod_title_comp', 'star_rating', 'rev_title_comp', 'rev_bod_id', 'help_prop_id']]\n",
    "imp_col.dtypes"
   ]
  },
  {
   "cell_type": "code",
   "execution_count": null,
   "metadata": {},
   "outputs": [],
   "source": [
    "imp_col = imp_col.dropna()"
   ]
  },
  {
   "cell_type": "code",
   "execution_count": null,
   "metadata": {},
   "outputs": [],
   "source": [
    "X = imp_col.iloc[:, [1,2,3,4,5]].values #only taking in the categories that will be used as a dataframe\n",
    "y = imp_col.iloc[:, 0].values"
   ]
  },
  {
   "cell_type": "code",
   "execution_count": null,
   "metadata": {},
   "outputs": [],
   "source": [
    "X"
   ]
  },
  {
   "cell_type": "code",
   "execution_count": null,
   "metadata": {},
   "outputs": [],
   "source": [
    "print(\"Number of verified purchases (balanced dataset):\", len(imp_col[imp_col['verified_purchase'] == 'Y']))\n",
    "print(\"Number of unverified purchases (balanced dataset):\", len(imp_col[imp_col['verified_purchase'] == 'N']))"
   ]
  },
  {
   "cell_type": "code",
   "execution_count": null,
   "metadata": {},
   "outputs": [],
   "source": [
    "from sklearn.model_selection import train_test_split\n",
    "X_train, X_test, y_train, y_test = train_test_split(X, y, test_size = 0.20, random_state = 0)"
   ]
  },
  {
   "cell_type": "code",
   "execution_count": null,
   "metadata": {},
   "outputs": [],
   "source": [
    "# Next, we are doing feature scaling to the training and test set of independent variables for reducing the size to smaller values\n",
    "from sklearn.preprocessing import StandardScaler\n",
    "sc = StandardScaler()\n",
    "X_train = sc.fit_transform(X_train)\n",
    "X_test = sc.transform(X_test)"
   ]
  },
  {
   "cell_type": "code",
   "execution_count": null,
   "metadata": {},
   "outputs": [],
   "source": [
    "from sklearn.neighbors import KNeighborsClassifier\n",
    "\n",
    "#we are using \n",
    "#5 neighborhood points are required for classifying a given point -- distance metric is using the minkonowski equation\n",
    "knn_classifier = KNeighborsClassifier(n_neighbors = 20, metric = 'euclidean', p = 1)\n",
    "knn_classifier.fit(X_train, y_train)"
   ]
  },
  {
   "cell_type": "code",
   "execution_count": null,
   "metadata": {},
   "outputs": [],
   "source": [
    "y_pred = knn_classifier.predict(X_test)"
   ]
  },
  {
   "cell_type": "code",
   "execution_count": null,
   "metadata": {},
   "outputs": [],
   "source": [
    "#We can evaluate our model using the confusion matrix and accuracy score by comparing the predicted and actual test values\n",
    "\n",
    "from sklearn.metrics import confusion_matrix,accuracy_score\n",
    "cm = confusion_matrix(y_test, y_pred)\n",
    "ac = accuracy_score(y_test,y_pred)"
   ]
  },
  {
   "cell_type": "code",
   "execution_count": null,
   "metadata": {},
   "outputs": [],
   "source": [
    "print(cm)\n",
    "print(ac)"
   ]
  },
  {
   "cell_type": "code",
   "execution_count": null,
   "metadata": {},
   "outputs": [],
   "source": []
  },
  {
   "cell_type": "code",
   "execution_count": null,
   "metadata": {},
   "outputs": [],
   "source": []
  },
  {
   "cell_type": "code",
   "execution_count": null,
   "metadata": {},
   "outputs": [],
   "source": []
  },
  {
   "cell_type": "code",
   "execution_count": null,
   "metadata": {},
   "outputs": [],
   "source": [
    "\n",
    "#Can see the model performance and add more features accordingly -- \n",
    "#would be good if the performance is greater than 85%\n",
    "\n",
    "### Test on a product review - Need to write a *function* for this for taking in the user input\n",
    "\n",
    "The features that we are looking at!\n",
    "* 'prod_title_comp', \n",
    "* 'star_rating', \n",
    "* 'rev_title_comp', \n",
    "* 'rev_bod_id', \n",
    "* 'help_prop_id'\n",
    "\n",
    "review_body = \"this is a good review\"\n",
    "product_title = \"Sony Headphones\"\n",
    "review_title = 'Love the product!'\n",
    "\n",
    "star_rating = 5\n",
    "helpful_votes = 1\n",
    "total_votes = 1\n",
    "\n",
    "test = pd.DataFrame()\n",
    "test['review_body'] = np.array([review_body])\n",
    "test['review_title'] = np.array([review_title])\n",
    "test['product_title'] = np.array([product_title])\n",
    "test\n",
    "\n",
    "out = df_cleaning(test, 'review_body')\n",
    "out = df_cleaning(out, 'review_title')\n",
    "out = df_cleaning(out, 'product_title')\n",
    "out\n",
    "\n",
    "out['review_body'][0]\n",
    "\n",
    "def get_sentiment_proportions(review):\n",
    "    \"\"\"\n",
    "    create new dataframe with just the proportions for each review\n",
    "    four columns\n",
    "    neg_prop, pos_prop, neu_prop, compound_prop and will contain these values\n",
    "    obtained from the vator sentiment algorithm\n",
    "    \"\"\"\n",
    "    snt = analyser.polarity_scores(review)\n",
    "    #print(f\"{sentence} {str(snt)}\")\n",
    "    neg = snt['neg']\n",
    "    neu = snt['neu']\n",
    "    pos = snt['pos']\n",
    "    #compound = snt['compound']\n",
    "    return neg, neu, pos\n",
    "\n",
    "neg, neu, pos = get_sentiment_proportions(out.get(\"new_review_body\").iloc[0])\n",
    "\n",
    "product_category = convert_to_id(product_category)\n",
    "product_title = only_compound(product_title)\n",
    "rev_title = only_compound(review_title)\n",
    "\n",
    "rev_bod_id = id_for_dictionary(analyser.polarity_scores(out['new_review_body'][0]))\n",
    "help_prop_id = id_for_prop(helpful_votes / total_votes)\n",
    "prod_title_comp = only_compound(out['new_review_title'][0])\n",
    "rev_title_comp = only_compound(out['new_product_title'][0])\n",
    "\n",
    "Predicted: 'verified_purchase'\n",
    "\n",
    "User Input: 'prod_title_comp', 'product_category_convert', 'star_rating', 'helpful_votes', 'total_votes', 'neg_prop', 'neu_prop', 'pos_prop'\n",
    "- 8 fields\n",
    "\n",
    "rev_input_test = np.array([[prod_title_comp, star_rating, rev_title_comp, rev_bod_id, help_prop_id]])\n",
    "rev_input_test\n",
    "\n",
    "prediction, probabilities = knn_classifier.predict(rev_input_test), knn_classifier.predict_proba(rev_input_test)[0]\n",
    "\n",
    "prediction\n",
    "\n",
    "probabilities\n",
    "\n",
    "classifier?\n",
    "\n",
    "def interpret_prediction(review, pred, proba):\n",
    "    proba = [round(proba[0], 3), round(proba[1], 3)]\n",
    "    if prediction[0] == 'Y':\n",
    "        print(f'\"{review}\" is predicted to be a VERIFIED review, with {proba[1]*100}% probability of being VERIFIED and {proba[0]*100}% probability of being UNVERIFIED')\n",
    "    if prediction[0] == 'N':\n",
    "        print(f'\"{review}\" is predicted to be an UNVERIFIED review, with {proba[0]*100}% probability of being UNVERIFIED and {proba[1]*100}% probability of being VERIFIED')\n",
    "        \n",
    "interpret_prediction(review_test, prediction, probabilities)\n",
    "\n",
    "from joblib import dump, load\n",
    "\n",
    "knn_classifier\n",
    "\n",
    "name = 'knn_working_model.joblib'\n",
    "path = 'KNNModelFiles/'\n",
    "dump(knn_classifier, path+name)\n",
    "\n",
    "knn_classifier = load(path+name)\n",
    "\n"
   ]
  }
 ],
 "metadata": {
  "kernelspec": {
   "display_name": "Python 3",
   "language": "python",
   "name": "python3"
  },
  "language_info": {
   "codemirror_mode": {
    "name": "ipython",
    "version": 3
   },
   "file_extension": ".py",
   "mimetype": "text/x-python",
   "name": "python",
   "nbconvert_exporter": "python",
   "pygments_lexer": "ipython3",
   "version": "3.7.6"
  }
 },
 "nbformat": 4,
 "nbformat_minor": 4
}
